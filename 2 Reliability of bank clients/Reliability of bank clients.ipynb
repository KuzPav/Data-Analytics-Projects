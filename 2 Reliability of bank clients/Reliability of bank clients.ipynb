{
 "cells": [
  {
   "cell_type": "markdown",
   "metadata": {},
   "source": [
    "## Step 1. Import and examine data"
   ]
  },
  {
   "cell_type": "code",
   "execution_count": 1,
   "metadata": {},
   "outputs": [],
   "source": [
    "import pandas as pd\n",
    "data = pd.read_csv('datasets/data.csv')\n",
    "from pymystem3 import Mystem\n",
    "import warnings\n",
    "warnings.simplefilter(action='ignore', category=Warning)\n",
    "import matplotlib.pyplot as plt"
   ]
  },
  {
   "cell_type": "code",
   "execution_count": 2,
   "metadata": {},
   "outputs": [
    {
     "data": {
      "text/html": [
       "<div>\n",
       "<style scoped>\n",
       "    .dataframe tbody tr th:only-of-type {\n",
       "        vertical-align: middle;\n",
       "    }\n",
       "\n",
       "    .dataframe tbody tr th {\n",
       "        vertical-align: top;\n",
       "    }\n",
       "\n",
       "    .dataframe thead th {\n",
       "        text-align: right;\n",
       "    }\n",
       "</style>\n",
       "<table border=\"1\" class=\"dataframe\">\n",
       "  <thead>\n",
       "    <tr style=\"text-align: right;\">\n",
       "      <th></th>\n",
       "      <th>children</th>\n",
       "      <th>days_employed</th>\n",
       "      <th>dob_years</th>\n",
       "      <th>education</th>\n",
       "      <th>education_id</th>\n",
       "      <th>family_status</th>\n",
       "      <th>family_status_id</th>\n",
       "      <th>gender</th>\n",
       "      <th>income_type</th>\n",
       "      <th>debt</th>\n",
       "      <th>total_income</th>\n",
       "      <th>purpose</th>\n",
       "    </tr>\n",
       "  </thead>\n",
       "  <tbody>\n",
       "    <tr>\n",
       "      <th>0</th>\n",
       "      <td>1</td>\n",
       "      <td>-8437.673028</td>\n",
       "      <td>42</td>\n",
       "      <td>высшее</td>\n",
       "      <td>0</td>\n",
       "      <td>женат / замужем</td>\n",
       "      <td>0</td>\n",
       "      <td>F</td>\n",
       "      <td>сотрудник</td>\n",
       "      <td>0</td>\n",
       "      <td>253875.639453</td>\n",
       "      <td>покупка жилья</td>\n",
       "    </tr>\n",
       "    <tr>\n",
       "      <th>1</th>\n",
       "      <td>1</td>\n",
       "      <td>-4024.803754</td>\n",
       "      <td>36</td>\n",
       "      <td>среднее</td>\n",
       "      <td>1</td>\n",
       "      <td>женат / замужем</td>\n",
       "      <td>0</td>\n",
       "      <td>F</td>\n",
       "      <td>сотрудник</td>\n",
       "      <td>0</td>\n",
       "      <td>112080.014102</td>\n",
       "      <td>приобретение автомобиля</td>\n",
       "    </tr>\n",
       "    <tr>\n",
       "      <th>2</th>\n",
       "      <td>0</td>\n",
       "      <td>-5623.422610</td>\n",
       "      <td>33</td>\n",
       "      <td>Среднее</td>\n",
       "      <td>1</td>\n",
       "      <td>женат / замужем</td>\n",
       "      <td>0</td>\n",
       "      <td>M</td>\n",
       "      <td>сотрудник</td>\n",
       "      <td>0</td>\n",
       "      <td>145885.952297</td>\n",
       "      <td>покупка жилья</td>\n",
       "    </tr>\n",
       "    <tr>\n",
       "      <th>3</th>\n",
       "      <td>3</td>\n",
       "      <td>-4124.747207</td>\n",
       "      <td>32</td>\n",
       "      <td>среднее</td>\n",
       "      <td>1</td>\n",
       "      <td>женат / замужем</td>\n",
       "      <td>0</td>\n",
       "      <td>M</td>\n",
       "      <td>сотрудник</td>\n",
       "      <td>0</td>\n",
       "      <td>267628.550329</td>\n",
       "      <td>дополнительное образование</td>\n",
       "    </tr>\n",
       "    <tr>\n",
       "      <th>4</th>\n",
       "      <td>0</td>\n",
       "      <td>340266.072047</td>\n",
       "      <td>53</td>\n",
       "      <td>среднее</td>\n",
       "      <td>1</td>\n",
       "      <td>гражданский брак</td>\n",
       "      <td>1</td>\n",
       "      <td>F</td>\n",
       "      <td>пенсионер</td>\n",
       "      <td>0</td>\n",
       "      <td>158616.077870</td>\n",
       "      <td>сыграть свадьбу</td>\n",
       "    </tr>\n",
       "    <tr>\n",
       "      <th>5</th>\n",
       "      <td>0</td>\n",
       "      <td>-926.185831</td>\n",
       "      <td>27</td>\n",
       "      <td>высшее</td>\n",
       "      <td>0</td>\n",
       "      <td>гражданский брак</td>\n",
       "      <td>1</td>\n",
       "      <td>M</td>\n",
       "      <td>компаньон</td>\n",
       "      <td>0</td>\n",
       "      <td>255763.565419</td>\n",
       "      <td>покупка жилья</td>\n",
       "    </tr>\n",
       "    <tr>\n",
       "      <th>6</th>\n",
       "      <td>0</td>\n",
       "      <td>-2879.202052</td>\n",
       "      <td>43</td>\n",
       "      <td>высшее</td>\n",
       "      <td>0</td>\n",
       "      <td>женат / замужем</td>\n",
       "      <td>0</td>\n",
       "      <td>F</td>\n",
       "      <td>компаньон</td>\n",
       "      <td>0</td>\n",
       "      <td>240525.971920</td>\n",
       "      <td>операции с жильем</td>\n",
       "    </tr>\n",
       "    <tr>\n",
       "      <th>7</th>\n",
       "      <td>0</td>\n",
       "      <td>-152.779569</td>\n",
       "      <td>50</td>\n",
       "      <td>СРЕДНЕЕ</td>\n",
       "      <td>1</td>\n",
       "      <td>женат / замужем</td>\n",
       "      <td>0</td>\n",
       "      <td>M</td>\n",
       "      <td>сотрудник</td>\n",
       "      <td>0</td>\n",
       "      <td>135823.934197</td>\n",
       "      <td>образование</td>\n",
       "    </tr>\n",
       "    <tr>\n",
       "      <th>8</th>\n",
       "      <td>2</td>\n",
       "      <td>-6929.865299</td>\n",
       "      <td>35</td>\n",
       "      <td>ВЫСШЕЕ</td>\n",
       "      <td>0</td>\n",
       "      <td>гражданский брак</td>\n",
       "      <td>1</td>\n",
       "      <td>F</td>\n",
       "      <td>сотрудник</td>\n",
       "      <td>0</td>\n",
       "      <td>95856.832424</td>\n",
       "      <td>на проведение свадьбы</td>\n",
       "    </tr>\n",
       "    <tr>\n",
       "      <th>9</th>\n",
       "      <td>0</td>\n",
       "      <td>-2188.756445</td>\n",
       "      <td>41</td>\n",
       "      <td>среднее</td>\n",
       "      <td>1</td>\n",
       "      <td>женат / замужем</td>\n",
       "      <td>0</td>\n",
       "      <td>M</td>\n",
       "      <td>сотрудник</td>\n",
       "      <td>0</td>\n",
       "      <td>144425.938277</td>\n",
       "      <td>покупка жилья для семьи</td>\n",
       "    </tr>\n",
       "  </tbody>\n",
       "</table>\n",
       "</div>"
      ],
      "text/plain": [
       "   children  days_employed  dob_years education  education_id  \\\n",
       "0         1   -8437.673028         42    высшее             0   \n",
       "1         1   -4024.803754         36   среднее             1   \n",
       "2         0   -5623.422610         33   Среднее             1   \n",
       "3         3   -4124.747207         32   среднее             1   \n",
       "4         0  340266.072047         53   среднее             1   \n",
       "5         0    -926.185831         27    высшее             0   \n",
       "6         0   -2879.202052         43    высшее             0   \n",
       "7         0    -152.779569         50   СРЕДНЕЕ             1   \n",
       "8         2   -6929.865299         35    ВЫСШЕЕ             0   \n",
       "9         0   -2188.756445         41   среднее             1   \n",
       "\n",
       "      family_status  family_status_id gender income_type  debt   total_income  \\\n",
       "0   женат / замужем                 0      F   сотрудник     0  253875.639453   \n",
       "1   женат / замужем                 0      F   сотрудник     0  112080.014102   \n",
       "2   женат / замужем                 0      M   сотрудник     0  145885.952297   \n",
       "3   женат / замужем                 0      M   сотрудник     0  267628.550329   \n",
       "4  гражданский брак                 1      F   пенсионер     0  158616.077870   \n",
       "5  гражданский брак                 1      M   компаньон     0  255763.565419   \n",
       "6   женат / замужем                 0      F   компаньон     0  240525.971920   \n",
       "7   женат / замужем                 0      M   сотрудник     0  135823.934197   \n",
       "8  гражданский брак                 1      F   сотрудник     0   95856.832424   \n",
       "9   женат / замужем                 0      M   сотрудник     0  144425.938277   \n",
       "\n",
       "                      purpose  \n",
       "0               покупка жилья  \n",
       "1     приобретение автомобиля  \n",
       "2               покупка жилья  \n",
       "3  дополнительное образование  \n",
       "4             сыграть свадьбу  \n",
       "5               покупка жилья  \n",
       "6           операции с жильем  \n",
       "7                 образование  \n",
       "8       на проведение свадьбы  \n",
       "9     покупка жилья для семьи  "
      ]
     },
     "execution_count": 2,
     "metadata": {},
     "output_type": "execute_result"
    }
   ],
   "source": [
    "data.head(10)"
   ]
  },
  {
   "cell_type": "code",
   "execution_count": 3,
   "metadata": {},
   "outputs": [
    {
     "name": "stdout",
     "output_type": "stream",
     "text": [
      "<class 'pandas.core.frame.DataFrame'>\n",
      "RangeIndex: 21525 entries, 0 to 21524\n",
      "Data columns (total 12 columns):\n",
      " #   Column            Non-Null Count  Dtype  \n",
      "---  ------            --------------  -----  \n",
      " 0   children          21525 non-null  int64  \n",
      " 1   days_employed     19351 non-null  float64\n",
      " 2   dob_years         21525 non-null  int64  \n",
      " 3   education         21525 non-null  object \n",
      " 4   education_id      21525 non-null  int64  \n",
      " 5   family_status     21525 non-null  object \n",
      " 6   family_status_id  21525 non-null  int64  \n",
      " 7   gender            21525 non-null  object \n",
      " 8   income_type       21525 non-null  object \n",
      " 9   debt              21525 non-null  int64  \n",
      " 10  total_income      19351 non-null  float64\n",
      " 11  purpose           21525 non-null  object \n",
      "dtypes: float64(2), int64(5), object(5)\n",
      "memory usage: 2.0+ MB\n"
     ]
    }
   ],
   "source": [
    "data.info()"
   ]
  },
  {
   "cell_type": "code",
   "execution_count": 4,
   "metadata": {},
   "outputs": [
    {
     "data": {
      "text/plain": [
       "0    19784\n",
       "1     1741\n",
       "Name: debt, dtype: int64"
      ]
     },
     "execution_count": 4,
     "metadata": {},
     "output_type": "execute_result"
    }
   ],
   "source": [
    "data['debt'].value_counts()"
   ]
  },
  {
   "cell_type": "code",
   "execution_count": 5,
   "metadata": {},
   "outputs": [
    {
     "data": {
      "text/html": [
       "<div>\n",
       "<style scoped>\n",
       "    .dataframe tbody tr th:only-of-type {\n",
       "        vertical-align: middle;\n",
       "    }\n",
       "\n",
       "    .dataframe tbody tr th {\n",
       "        vertical-align: top;\n",
       "    }\n",
       "\n",
       "    .dataframe thead th {\n",
       "        text-align: right;\n",
       "    }\n",
       "</style>\n",
       "<table border=\"1\" class=\"dataframe\">\n",
       "  <thead>\n",
       "    <tr style=\"text-align: right;\">\n",
       "      <th></th>\n",
       "      <th>children</th>\n",
       "      <th>days_employed</th>\n",
       "      <th>dob_years</th>\n",
       "      <th>education_id</th>\n",
       "      <th>family_status_id</th>\n",
       "      <th>debt</th>\n",
       "      <th>total_income</th>\n",
       "    </tr>\n",
       "  </thead>\n",
       "  <tbody>\n",
       "    <tr>\n",
       "      <th>count</th>\n",
       "      <td>21525.000000</td>\n",
       "      <td>19351.000000</td>\n",
       "      <td>21525.000000</td>\n",
       "      <td>21525.000000</td>\n",
       "      <td>21525.000000</td>\n",
       "      <td>21525.000000</td>\n",
       "      <td>1.935100e+04</td>\n",
       "    </tr>\n",
       "    <tr>\n",
       "      <th>mean</th>\n",
       "      <td>0.538908</td>\n",
       "      <td>63046.497661</td>\n",
       "      <td>43.293380</td>\n",
       "      <td>0.817236</td>\n",
       "      <td>0.972544</td>\n",
       "      <td>0.080883</td>\n",
       "      <td>1.674223e+05</td>\n",
       "    </tr>\n",
       "    <tr>\n",
       "      <th>std</th>\n",
       "      <td>1.381587</td>\n",
       "      <td>140827.311974</td>\n",
       "      <td>12.574584</td>\n",
       "      <td>0.548138</td>\n",
       "      <td>1.420324</td>\n",
       "      <td>0.272661</td>\n",
       "      <td>1.029716e+05</td>\n",
       "    </tr>\n",
       "    <tr>\n",
       "      <th>min</th>\n",
       "      <td>-1.000000</td>\n",
       "      <td>-18388.949901</td>\n",
       "      <td>0.000000</td>\n",
       "      <td>0.000000</td>\n",
       "      <td>0.000000</td>\n",
       "      <td>0.000000</td>\n",
       "      <td>2.066726e+04</td>\n",
       "    </tr>\n",
       "    <tr>\n",
       "      <th>25%</th>\n",
       "      <td>0.000000</td>\n",
       "      <td>-2747.423625</td>\n",
       "      <td>33.000000</td>\n",
       "      <td>1.000000</td>\n",
       "      <td>0.000000</td>\n",
       "      <td>0.000000</td>\n",
       "      <td>1.030532e+05</td>\n",
       "    </tr>\n",
       "    <tr>\n",
       "      <th>50%</th>\n",
       "      <td>0.000000</td>\n",
       "      <td>-1203.369529</td>\n",
       "      <td>42.000000</td>\n",
       "      <td>1.000000</td>\n",
       "      <td>0.000000</td>\n",
       "      <td>0.000000</td>\n",
       "      <td>1.450179e+05</td>\n",
       "    </tr>\n",
       "    <tr>\n",
       "      <th>75%</th>\n",
       "      <td>1.000000</td>\n",
       "      <td>-291.095954</td>\n",
       "      <td>53.000000</td>\n",
       "      <td>1.000000</td>\n",
       "      <td>1.000000</td>\n",
       "      <td>0.000000</td>\n",
       "      <td>2.034351e+05</td>\n",
       "    </tr>\n",
       "    <tr>\n",
       "      <th>max</th>\n",
       "      <td>20.000000</td>\n",
       "      <td>401755.400475</td>\n",
       "      <td>75.000000</td>\n",
       "      <td>4.000000</td>\n",
       "      <td>4.000000</td>\n",
       "      <td>1.000000</td>\n",
       "      <td>2.265604e+06</td>\n",
       "    </tr>\n",
       "  </tbody>\n",
       "</table>\n",
       "</div>"
      ],
      "text/plain": [
       "           children  days_employed     dob_years  education_id  \\\n",
       "count  21525.000000   19351.000000  21525.000000  21525.000000   \n",
       "mean       0.538908   63046.497661     43.293380      0.817236   \n",
       "std        1.381587  140827.311974     12.574584      0.548138   \n",
       "min       -1.000000  -18388.949901      0.000000      0.000000   \n",
       "25%        0.000000   -2747.423625     33.000000      1.000000   \n",
       "50%        0.000000   -1203.369529     42.000000      1.000000   \n",
       "75%        1.000000    -291.095954     53.000000      1.000000   \n",
       "max       20.000000  401755.400475     75.000000      4.000000   \n",
       "\n",
       "       family_status_id          debt  total_income  \n",
       "count      21525.000000  21525.000000  1.935100e+04  \n",
       "mean           0.972544      0.080883  1.674223e+05  \n",
       "std            1.420324      0.272661  1.029716e+05  \n",
       "min            0.000000      0.000000  2.066726e+04  \n",
       "25%            0.000000      0.000000  1.030532e+05  \n",
       "50%            0.000000      0.000000  1.450179e+05  \n",
       "75%            1.000000      0.000000  2.034351e+05  \n",
       "max            4.000000      1.000000  2.265604e+06  "
      ]
     },
     "execution_count": 5,
     "metadata": {},
     "output_type": "execute_result"
    }
   ],
   "source": [
    "data.describe()"
   ]
  },
  {
   "cell_type": "markdown",
   "metadata": {},
   "source": [
    "**Conclusion**\n",
    "\n",
    "1. The data type seems to be correct everywhere\n",
    "2. days_employed - big spread and negative values\n",
    "3. Education, Purpose - non-standardized\n",
    "4. Family_status, Income_type - probably not standardized\n",
    "5. Some data on days_employed and total_income are missing\n",
    "6. All records have information about the debt payment delays \n",
    "7. Columns do not need to be renamed"
   ]
  },
  {
   "cell_type": "markdown",
   "metadata": {},
   "source": [
    "## Step 2. Data preprocessing"
   ]
  },
  {
   "cell_type": "markdown",
   "metadata": {},
   "source": [
    "### Processing missing values"
   ]
  },
  {
   "cell_type": "markdown",
   "metadata": {},
   "source": [
    "#### Children"
   ]
  },
  {
   "cell_type": "code",
   "execution_count": 6,
   "metadata": {},
   "outputs": [
    {
     "name": "stdout",
     "output_type": "stream",
     "text": [
      " 0     14149\n",
      " 1      4818\n",
      " 2      2055\n",
      " 3       330\n",
      " 20       76\n",
      "-1        47\n",
      " 4        41\n",
      " 5         9\n",
      "Name: children, dtype: int64\n"
     ]
    }
   ],
   "source": [
    "print(data['children'].value_counts())"
   ]
  },
  {
   "cell_type": "code",
   "execution_count": 7,
   "metadata": {},
   "outputs": [
    {
     "name": "stdout",
     "output_type": "stream",
     "text": [
      "76\n",
      "8\n",
      "0.10526315789473684\n"
     ]
    }
   ],
   "source": [
    "print(data[data['children'] == 20]['children'].count())\n",
    "print(data[data['children'] == 20]['debt'].sum())\n",
    "print(data[data['children'] == 20]['debt'].sum()/data[data['children'] == 20]['children'].count())"
   ]
  },
  {
   "cell_type": "code",
   "execution_count": 8,
   "metadata": {},
   "outputs": [
    {
     "name": "stdout",
     "output_type": "stream",
     "text": [
      "47\n",
      "1\n",
      "0.02127659574468085\n"
     ]
    }
   ],
   "source": [
    "print(data[data['children'] == -1]['children'].count())\n",
    "print(data[data['children'] == -1]['debt'].sum())\n",
    "print(data[data['children'] == -1]['debt'].sum()/data[data['children'] == -1]['children'].count())"
   ]
  },
  {
   "cell_type": "markdown",
   "metadata": {},
   "source": [
    "Since the number of children 20 and -1 is clearly unrealistic + their total number is small, it is better to exclude them"
   ]
  },
  {
   "cell_type": "code",
   "execution_count": 9,
   "metadata": {},
   "outputs": [
    {
     "name": "stdout",
     "output_type": "stream",
     "text": [
      "0    14149\n",
      "1     4818\n",
      "2     2055\n",
      "3      330\n",
      "4       41\n",
      "5        9\n",
      "Name: children, dtype: int64\n"
     ]
    }
   ],
   "source": [
    "data = data[data['children'] != 20]\n",
    "data = data[data['children'] != -1]\n",
    "print(data['children'].value_counts())"
   ]
  },
  {
   "cell_type": "markdown",
   "metadata": {},
   "source": [
    "#### Education"
   ]
  },
  {
   "cell_type": "code",
   "execution_count": 10,
   "metadata": {},
   "outputs": [
    {
     "name": "stdout",
     "output_type": "stream",
     "text": [
      "среднее                15136\n",
      "высшее                  5237\n",
      "неоконченное высшее      741\n",
      "начальное                282\n",
      "ученая степень             6\n",
      "Name: education, dtype: int64\n",
      "1    15136\n",
      "0     5237\n",
      "2      741\n",
      "3      282\n",
      "4        6\n",
      "Name: education_id, dtype: int64\n"
     ]
    }
   ],
   "source": [
    "data['education'] = data['education'].str.lower()\n",
    "print(data['education'].value_counts())\n",
    "print(data['education_id'].value_counts())\n"
   ]
  },
  {
   "cell_type": "markdown",
   "metadata": {},
   "source": [
    "#### Family status"
   ]
  },
  {
   "cell_type": "code",
   "execution_count": 11,
   "metadata": {},
   "outputs": [
    {
     "name": "stdout",
     "output_type": "stream",
     "text": [
      "женат / замужем          12302\n",
      "гражданский брак          4160\n",
      "Не женат / не замужем     2799\n",
      "в разводе                 1189\n",
      "вдовец / вдова             952\n",
      "Name: family_status, dtype: int64\n",
      "0    12302\n",
      "1     4160\n",
      "4     2799\n",
      "3     1189\n",
      "2      952\n",
      "Name: family_status_id, dtype: int64\n"
     ]
    }
   ],
   "source": [
    "print(data['family_status'].value_counts())\n",
    "print(data['family_status_id'].value_counts())"
   ]
  },
  {
   "cell_type": "markdown",
   "metadata": {},
   "source": [
    "#### Gender"
   ]
  },
  {
   "cell_type": "code",
   "execution_count": 12,
   "metadata": {},
   "outputs": [
    {
     "name": "stdout",
     "output_type": "stream",
     "text": [
      "F      14154\n",
      "M       7247\n",
      "XNA        1\n",
      "Name: gender, dtype: int64\n",
      "F    14154\n",
      "M     7247\n",
      "Name: gender, dtype: int64\n"
     ]
    }
   ],
   "source": [
    "print(data['gender'].value_counts())\n",
    "data = data[data['gender'] != 'XNA']\n",
    "print(data['gender'].value_counts())"
   ]
  },
  {
   "cell_type": "markdown",
   "metadata": {},
   "source": [
    "#### Income types"
   ]
  },
  {
   "cell_type": "markdown",
   "metadata": {},
   "source": [
    "We can drop types that are rare"
   ]
  },
  {
   "cell_type": "code",
   "execution_count": 13,
   "metadata": {},
   "outputs": [
    {
     "name": "stdout",
     "output_type": "stream",
     "text": [
      "сотрудник          11050\n",
      "компаньон           5053\n",
      "пенсионер           3839\n",
      "госслужащий         1453\n",
      "безработный            2\n",
      "предприниматель        2\n",
      "студент                1\n",
      "в декрете              1\n",
      "Name: income_type, dtype: int64\n",
      "сотрудник      11050\n",
      "компаньон       5053\n",
      "пенсионер       3839\n",
      "госслужащий     1453\n",
      "Name: income_type, dtype: int64\n"
     ]
    }
   ],
   "source": [
    "print(data['income_type'].value_counts())\n",
    "#print(data[data['debt'] == 1]['income_type'].value_counts())\n",
    "data = data[(data['income_type'] != 'предприниматель') & (data['income_type'] != 'безработный')& (data['income_type'] != 'студент')& (data['income_type'] != 'в декрете')]\n",
    "print(data['income_type'].value_counts())\n"
   ]
  },
  {
   "cell_type": "markdown",
   "metadata": {},
   "source": [
    "#### Loan purpose"
   ]
  },
  {
   "cell_type": "code",
   "execution_count": 14,
   "metadata": {},
   "outputs": [
    {
     "name": "stdout",
     "output_type": "stream",
     "text": [
      "свадьба                                   796\n",
      "на проведение свадьбы                     771\n",
      "сыграть свадьбу                           769\n",
      "операции с недвижимостью                  673\n",
      "покупка коммерческой недвижимости         661\n",
      "покупка жилья для сдачи                   650\n",
      "операции с жильем                         648\n",
      "операции с коммерческой недвижимостью     646\n",
      "жилье                                     642\n",
      "покупка жилья                             641\n",
      "покупка жилья для семьи                   640\n",
      "недвижимость                              632\n",
      "строительство собственной недвижимости    627\n",
      "операции со своей недвижимостью           626\n",
      "строительство жилой недвижимости          622\n",
      "строительство недвижимости                620\n",
      "покупка своего жилья                      619\n",
      "покупка недвижимости                      618\n",
      "ремонт жилью                              608\n",
      "покупка жилой недвижимости                602\n",
      "на покупку своего автомобиля              504\n",
      "заняться высшим образованием              496\n",
      "автомобиль                                491\n",
      "сделка с подержанным автомобилем          484\n",
      "автомобили                                476\n",
      "свой автомобиль                           475\n",
      "на покупку подержанного автомобиля        472\n",
      "на покупку автомобиля                     470\n",
      "приобретение автомобиля                   460\n",
      "дополнительное образование                457\n",
      "сделка с автомобилем                      455\n",
      "высшее образование                        447\n",
      "получение дополнительного образования     445\n",
      "образование                               442\n",
      "получение образования                     441\n",
      "профильное образование                    432\n",
      "получение высшего образования             425\n",
      "заняться образованием                     412\n",
      "Name: purpose, dtype: int64\n"
     ]
    }
   ],
   "source": [
    "print(data['purpose'].value_counts())"
   ]
  },
  {
   "cell_type": "markdown",
   "metadata": {},
   "source": [
    "#### Age"
   ]
  },
  {
   "cell_type": "markdown",
   "metadata": {},
   "source": [
    "We can drop data where age is 0 (100 obs)"
   ]
  },
  {
   "cell_type": "code",
   "execution_count": 15,
   "metadata": {},
   "outputs": [
    {
     "name": "stdout",
     "output_type": "stream",
     "text": [
      "35    614\n",
      "40    603\n",
      "41    603\n",
      "34    597\n",
      "38    595\n",
      "42    592\n",
      "33    577\n",
      "39    571\n",
      "31    555\n",
      "36    553\n",
      "44    543\n",
      "29    543\n",
      "30    536\n",
      "48    536\n",
      "37    531\n",
      "43    510\n",
      "50    509\n",
      "32    506\n",
      "49    505\n",
      "28    501\n",
      "45    493\n",
      "27    489\n",
      "52    483\n",
      "56    482\n",
      "47    480\n",
      "54    476\n",
      "46    469\n",
      "58    460\n",
      "57    457\n",
      "53    457\n",
      "51    446\n",
      "59    441\n",
      "55    441\n",
      "26    406\n",
      "60    376\n",
      "25    356\n",
      "61    353\n",
      "62    351\n",
      "63    268\n",
      "64    263\n",
      "24    262\n",
      "23    252\n",
      "65    194\n",
      "66    183\n",
      "22    182\n",
      "67    167\n",
      "21    110\n",
      "0     100\n",
      "68     99\n",
      "69     83\n",
      "70     65\n",
      "71     58\n",
      "20     51\n",
      "72     33\n",
      "19     14\n",
      "73      8\n",
      "74      6\n",
      "75      1\n",
      "Name: dob_years, dtype: int64\n",
      "[42 36 33 32 53 27 43 50 35 41 40 65 54 56 26 48 24 21 57 67 28 63 62 47\n",
      " 34 68 25 31 30 20 49 37 45 61 64 44 52 46 23 38 39 51 59 29 60 55 58 71\n",
      " 22 73 66 69 19 72 70 74 75]\n"
     ]
    }
   ],
   "source": [
    "print(data['dob_years'].value_counts())\n",
    "data = data[data['dob_years'] != 0]\n",
    "print(data['dob_years'].unique())\n"
   ]
  },
  {
   "cell_type": "markdown",
   "metadata": {},
   "source": [
    "#### days_employed + total_income"
   ]
  },
  {
   "cell_type": "code",
   "execution_count": 16,
   "metadata": {},
   "outputs": [
    {
     "data": {
      "text/html": [
       "<div>\n",
       "<style scoped>\n",
       "    .dataframe tbody tr th:only-of-type {\n",
       "        vertical-align: middle;\n",
       "    }\n",
       "\n",
       "    .dataframe tbody tr th {\n",
       "        vertical-align: top;\n",
       "    }\n",
       "\n",
       "    .dataframe thead th {\n",
       "        text-align: right;\n",
       "    }\n",
       "</style>\n",
       "<table border=\"1\" class=\"dataframe\">\n",
       "  <thead>\n",
       "    <tr style=\"text-align: right;\">\n",
       "      <th></th>\n",
       "      <th>children</th>\n",
       "      <th>days_employed</th>\n",
       "      <th>dob_years</th>\n",
       "      <th>education</th>\n",
       "      <th>education_id</th>\n",
       "      <th>family_status</th>\n",
       "      <th>family_status_id</th>\n",
       "      <th>gender</th>\n",
       "      <th>income_type</th>\n",
       "      <th>debt</th>\n",
       "      <th>total_income</th>\n",
       "      <th>purpose</th>\n",
       "    </tr>\n",
       "  </thead>\n",
       "  <tbody>\n",
       "    <tr>\n",
       "      <th>12</th>\n",
       "      <td>0</td>\n",
       "      <td>NaN</td>\n",
       "      <td>65</td>\n",
       "      <td>среднее</td>\n",
       "      <td>1</td>\n",
       "      <td>гражданский брак</td>\n",
       "      <td>1</td>\n",
       "      <td>M</td>\n",
       "      <td>пенсионер</td>\n",
       "      <td>0</td>\n",
       "      <td>NaN</td>\n",
       "      <td>сыграть свадьбу</td>\n",
       "    </tr>\n",
       "    <tr>\n",
       "      <th>26</th>\n",
       "      <td>0</td>\n",
       "      <td>NaN</td>\n",
       "      <td>41</td>\n",
       "      <td>среднее</td>\n",
       "      <td>1</td>\n",
       "      <td>женат / замужем</td>\n",
       "      <td>0</td>\n",
       "      <td>M</td>\n",
       "      <td>госслужащий</td>\n",
       "      <td>0</td>\n",
       "      <td>NaN</td>\n",
       "      <td>образование</td>\n",
       "    </tr>\n",
       "    <tr>\n",
       "      <th>29</th>\n",
       "      <td>0</td>\n",
       "      <td>NaN</td>\n",
       "      <td>63</td>\n",
       "      <td>среднее</td>\n",
       "      <td>1</td>\n",
       "      <td>Не женат / не замужем</td>\n",
       "      <td>4</td>\n",
       "      <td>F</td>\n",
       "      <td>пенсионер</td>\n",
       "      <td>0</td>\n",
       "      <td>NaN</td>\n",
       "      <td>строительство жилой недвижимости</td>\n",
       "    </tr>\n",
       "    <tr>\n",
       "      <th>41</th>\n",
       "      <td>0</td>\n",
       "      <td>NaN</td>\n",
       "      <td>50</td>\n",
       "      <td>среднее</td>\n",
       "      <td>1</td>\n",
       "      <td>женат / замужем</td>\n",
       "      <td>0</td>\n",
       "      <td>F</td>\n",
       "      <td>госслужащий</td>\n",
       "      <td>0</td>\n",
       "      <td>NaN</td>\n",
       "      <td>сделка с подержанным автомобилем</td>\n",
       "    </tr>\n",
       "    <tr>\n",
       "      <th>55</th>\n",
       "      <td>0</td>\n",
       "      <td>NaN</td>\n",
       "      <td>54</td>\n",
       "      <td>среднее</td>\n",
       "      <td>1</td>\n",
       "      <td>гражданский брак</td>\n",
       "      <td>1</td>\n",
       "      <td>F</td>\n",
       "      <td>пенсионер</td>\n",
       "      <td>1</td>\n",
       "      <td>NaN</td>\n",
       "      <td>сыграть свадьбу</td>\n",
       "    </tr>\n",
       "    <tr>\n",
       "      <th>65</th>\n",
       "      <td>0</td>\n",
       "      <td>NaN</td>\n",
       "      <td>21</td>\n",
       "      <td>среднее</td>\n",
       "      <td>1</td>\n",
       "      <td>Не женат / не замужем</td>\n",
       "      <td>4</td>\n",
       "      <td>M</td>\n",
       "      <td>компаньон</td>\n",
       "      <td>0</td>\n",
       "      <td>NaN</td>\n",
       "      <td>операции с коммерческой недвижимостью</td>\n",
       "    </tr>\n",
       "    <tr>\n",
       "      <th>67</th>\n",
       "      <td>0</td>\n",
       "      <td>NaN</td>\n",
       "      <td>52</td>\n",
       "      <td>высшее</td>\n",
       "      <td>0</td>\n",
       "      <td>женат / замужем</td>\n",
       "      <td>0</td>\n",
       "      <td>F</td>\n",
       "      <td>пенсионер</td>\n",
       "      <td>0</td>\n",
       "      <td>NaN</td>\n",
       "      <td>покупка жилья для семьи</td>\n",
       "    </tr>\n",
       "    <tr>\n",
       "      <th>72</th>\n",
       "      <td>1</td>\n",
       "      <td>NaN</td>\n",
       "      <td>32</td>\n",
       "      <td>высшее</td>\n",
       "      <td>0</td>\n",
       "      <td>женат / замужем</td>\n",
       "      <td>0</td>\n",
       "      <td>M</td>\n",
       "      <td>госслужащий</td>\n",
       "      <td>0</td>\n",
       "      <td>NaN</td>\n",
       "      <td>операции с коммерческой недвижимостью</td>\n",
       "    </tr>\n",
       "    <tr>\n",
       "      <th>82</th>\n",
       "      <td>2</td>\n",
       "      <td>NaN</td>\n",
       "      <td>50</td>\n",
       "      <td>высшее</td>\n",
       "      <td>0</td>\n",
       "      <td>женат / замужем</td>\n",
       "      <td>0</td>\n",
       "      <td>F</td>\n",
       "      <td>сотрудник</td>\n",
       "      <td>0</td>\n",
       "      <td>NaN</td>\n",
       "      <td>жилье</td>\n",
       "    </tr>\n",
       "    <tr>\n",
       "      <th>83</th>\n",
       "      <td>0</td>\n",
       "      <td>NaN</td>\n",
       "      <td>52</td>\n",
       "      <td>среднее</td>\n",
       "      <td>1</td>\n",
       "      <td>женат / замужем</td>\n",
       "      <td>0</td>\n",
       "      <td>M</td>\n",
       "      <td>сотрудник</td>\n",
       "      <td>0</td>\n",
       "      <td>NaN</td>\n",
       "      <td>жилье</td>\n",
       "    </tr>\n",
       "  </tbody>\n",
       "</table>\n",
       "</div>"
      ],
      "text/plain": [
       "    children  days_employed  dob_years education  education_id  \\\n",
       "12         0            NaN         65   среднее             1   \n",
       "26         0            NaN         41   среднее             1   \n",
       "29         0            NaN         63   среднее             1   \n",
       "41         0            NaN         50   среднее             1   \n",
       "55         0            NaN         54   среднее             1   \n",
       "65         0            NaN         21   среднее             1   \n",
       "67         0            NaN         52    высшее             0   \n",
       "72         1            NaN         32    высшее             0   \n",
       "82         2            NaN         50    высшее             0   \n",
       "83         0            NaN         52   среднее             1   \n",
       "\n",
       "            family_status  family_status_id gender  income_type  debt  \\\n",
       "12       гражданский брак                 1      M    пенсионер     0   \n",
       "26        женат / замужем                 0      M  госслужащий     0   \n",
       "29  Не женат / не замужем                 4      F    пенсионер     0   \n",
       "41        женат / замужем                 0      F  госслужащий     0   \n",
       "55       гражданский брак                 1      F    пенсионер     1   \n",
       "65  Не женат / не замужем                 4      M    компаньон     0   \n",
       "67        женат / замужем                 0      F    пенсионер     0   \n",
       "72        женат / замужем                 0      M  госслужащий     0   \n",
       "82        женат / замужем                 0      F    сотрудник     0   \n",
       "83        женат / замужем                 0      M    сотрудник     0   \n",
       "\n",
       "    total_income                                purpose  \n",
       "12           NaN                        сыграть свадьбу  \n",
       "26           NaN                            образование  \n",
       "29           NaN       строительство жилой недвижимости  \n",
       "41           NaN       сделка с подержанным автомобилем  \n",
       "55           NaN                        сыграть свадьбу  \n",
       "65           NaN  операции с коммерческой недвижимостью  \n",
       "67           NaN                покупка жилья для семьи  \n",
       "72           NaN  операции с коммерческой недвижимостью  \n",
       "82           NaN                                  жилье  \n",
       "83           NaN                                  жилье  "
      ]
     },
     "execution_count": 16,
     "metadata": {},
     "output_type": "execute_result"
    }
   ],
   "source": [
    "data[data['days_employed'].isnull()==True].head(10)"
   ]
  },
  {
   "cell_type": "code",
   "execution_count": 17,
   "metadata": {},
   "outputs": [
    {
     "data": {
      "text/plain": [
       "children            2151\n",
       "days_employed          0\n",
       "dob_years           2151\n",
       "education           2151\n",
       "education_id        2151\n",
       "family_status       2151\n",
       "family_status_id    2151\n",
       "gender              2151\n",
       "income_type         2151\n",
       "debt                2151\n",
       "total_income           0\n",
       "purpose             2151\n",
       "dtype: int64"
      ]
     },
     "execution_count": 17,
     "metadata": {},
     "output_type": "execute_result"
    }
   ],
   "source": [
    "data[data['days_employed'].isnull() == True].count()"
   ]
  },
  {
   "cell_type": "markdown",
   "metadata": {},
   "source": [
    "Those records that don't have days_employed don't have total_income either"
   ]
  },
  {
   "cell_type": "code",
   "execution_count": 18,
   "metadata": {},
   "outputs": [
    {
     "data": {
      "text/plain": [
       "children            2151\n",
       "days_employed          0\n",
       "dob_years           2151\n",
       "education           2151\n",
       "education_id        2151\n",
       "family_status       2151\n",
       "family_status_id    2151\n",
       "gender              2151\n",
       "income_type         2151\n",
       "debt                2151\n",
       "total_income           0\n",
       "purpose             2151\n",
       "dtype: int64"
      ]
     },
     "execution_count": 18,
     "metadata": {},
     "output_type": "execute_result"
    }
   ],
   "source": [
    "data[(data['days_employed'].isnull() == True) & data['total_income'].isnull() == True].count()\n"
   ]
  },
  {
   "cell_type": "code",
   "execution_count": 19,
   "metadata": {},
   "outputs": [
    {
     "name": "stdout",
     "output_type": "stream",
     "text": [
      "0.6021116197799463\n"
     ]
    }
   ],
   "source": [
    "print(data['days_employed'].corr(data['dob_years'], method='pearson' ))\n"
   ]
  },
  {
   "cell_type": "markdown",
   "metadata": {},
   "source": [
    "Overall employment lenght is highly correlated with age (which is logical)\n",
    "\n",
    "Can we understand why the seniority is negative and is it possible to fill gaps with the help of age?"
   ]
  },
  {
   "cell_type": "code",
   "execution_count": 20,
   "metadata": {},
   "outputs": [
    {
     "data": {
      "text/plain": [
       "<AxesSubplot:xlabel='days_employed', ylabel='dob_years'>"
      ]
     },
     "execution_count": 20,
     "metadata": {},
     "output_type": "execute_result"
    },
    {
     "data": {
      "image/png": "[encoded data removed]",
      "text/plain": [
       "<Figure size 864x432 with 2 Axes>"
      ]
     },
     "metadata": {},
     "output_type": "display_data"
    }
   ],
   "source": [
    "fig, axes = plt.subplots(2, facecolor='white', figsize=(12, 6))\n",
    "\n",
    "data[data['days_employed']>0].plot.scatter(x=\"days_employed\", y=\"dob_years\", alpha=0.5, ax=axes[0])\n",
    "data[data['days_employed']<0].plot.scatter(x=\"days_employed\", y=\"dob_years\", alpha=0.5, ax=axes[1])\n"
   ]
  },
  {
   "cell_type": "markdown",
   "metadata": {},
   "source": [
    "The experience is positive mainly for 50+. \n",
    "\n",
    "There is a logic for the negative values of days_employed - the absolute value increases with the person age\n"
   ]
  },
  {
   "cell_type": "code",
   "execution_count": 21,
   "metadata": {},
   "outputs": [
    {
     "name": "stdout",
     "output_type": "stream",
     "text": [
      "пенсионер    3412\n",
      "Name: income_type, dtype: int64\n",
      "\n",
      "сотрудник      9900\n",
      "компаньон      4531\n",
      "госслужащий    1301\n",
      "Name: income_type, dtype: int64\n"
     ]
    }
   ],
   "source": [
    "print(data[data['days_employed']>0]['income_type'].value_counts())\n",
    "print()\n",
    "print(data[data['days_employed']<0]['income_type'].value_counts())\n",
    "\n"
   ]
  },
  {
   "cell_type": "markdown",
   "metadata": {},
   "source": [
    "days_employed is positive only if income_type = retired\n",
    "\n",
    "I guess that's the reason why days_employed behave differently"
   ]
  },
  {
   "cell_type": "code",
   "execution_count": 22,
   "metadata": {},
   "outputs": [
    {
     "name": "stdout",
     "output_type": "stream",
     "text": [
      "0     -8437.673028\n",
      "1     -4024.803754\n",
      "2     -5623.422610\n",
      "3     -4124.747207\n",
      "4    340266.072047\n",
      "Name: days_employed, dtype: float64\n",
      "0      8437.673028\n",
      "1      4024.803754\n",
      "2      5623.422610\n",
      "3      4124.747207\n",
      "4    340266.072047\n",
      "Name: days_employed, dtype: float64\n"
     ]
    }
   ],
   "source": [
    "print(data['days_employed'].head())\n",
    "data.loc[data['days_employed']<0, 'days_employed'] = -1 * data['days_employed']\n",
    "print(data['days_employed'].head())"
   ]
  },
  {
   "cell_type": "code",
   "execution_count": 23,
   "metadata": {},
   "outputs": [
    {
     "data": {
      "text/plain": [
       "<AxesSubplot:xlabel='days_employed', ylabel='dob_years'>"
      ]
     },
     "execution_count": 23,
     "metadata": {},
     "output_type": "execute_result"
    },
    {
     "data": {
      "image/png": "[encoded data removed]",
      "text/plain": [
       "<Figure size 864x432 with 1 Axes>"
      ]
     },
     "metadata": {},
     "output_type": "display_data"
    }
   ],
   "source": [
    "fig, axes = plt.subplots(facecolor='white', figsize=(12, 6))\n",
    "\n",
    "data[data['days_employed']>0].plot.scatter(x=\"days_employed\", y=\"dob_years\", alpha=0.5, ax=axes)\n"
   ]
  },
  {
   "cell_type": "markdown",
   "metadata": {},
   "source": [
    "There are still big differences between the non-working and working population"
   ]
  },
  {
   "cell_type": "code",
   "execution_count": 24,
   "metadata": {},
   "outputs": [
    {
     "data": {
      "text/plain": [
       "<AxesSubplot:xlabel='years_employed', ylabel='dob_years'>"
      ]
     },
     "execution_count": 24,
     "metadata": {},
     "output_type": "execute_result"
    },
    {
     "data": {
      "image/png": "[encoded data removed]",
      "text/plain": [
       "<Figure size 864x432 with 1 Axes>"
      ]
     },
     "metadata": {},
     "output_type": "display_data"
    }
   ],
   "source": [
    "fig, axes = plt.subplots(facecolor='white', figsize=(12, 6))\n",
    "\n",
    "data['years_employed'] = data['days_employed']/365\n",
    "data.plot.scatter(x=\"years_employed\", y=\"dob_years\", alpha=0.5, ax=axes)\n"
   ]
  },
  {
   "cell_type": "markdown",
   "metadata": {},
   "source": [
    "2 options, either the data means something else for retieries, or maybe the data in hours for some reason? Let's check option 2"
   ]
  },
  {
   "cell_type": "code",
   "execution_count": 25,
   "metadata": {},
   "outputs": [
    {
     "data": {
      "text/plain": [
       "<AxesSubplot:xlabel='years_employed', ylabel='dob_years'>"
      ]
     },
     "execution_count": 25,
     "metadata": {},
     "output_type": "execute_result"
    },
    {
     "data": {
      "image/png": "[encoded data removed]",
      "text/plain": [
       "<Figure size 864x432 with 1 Axes>"
      ]
     },
     "metadata": {},
     "output_type": "display_data"
    }
   ],
   "source": [
    "fig, axes = plt.subplots(facecolor='white', figsize=(12, 6))\n",
    "\n",
    "data.loc[data['income_type'] == 'пенсионер', 'years_employed'] =  data['years_employed']/24\n",
    "data.plot.scatter(x=\"years_employed\", y=\"dob_years\", alpha=0.5, ax=axes)\n"
   ]
  },
  {
   "cell_type": "code",
   "execution_count": 26,
   "metadata": {},
   "outputs": [
    {
     "name": "stdout",
     "output_type": "stream",
     "text": [
      "724\n",
      "716\n"
     ]
    }
   ],
   "source": [
    "print(data[data['years_employed'] > data['dob_years'] - 13]['dob_years'].count())\n",
    "print(data[(data['years_employed'] > data['dob_years'] - 13) & \n",
    "           (data['income_type'] == 'пенсионер')]['dob_years'].count())\n"
   ]
  },
  {
   "cell_type": "markdown",
   "metadata": {},
   "source": [
    "700+ pensioners have such a long work experience that they started working before the age of 13? Maybe this is some job, where years of work experience are multiplied by coeeficient (for example in army, firefighters, etc)\n",
    "\n",
    "At the same time, 51 pensioners have more work experience than their age.\n",
    "\n",
    "Also, the graph continues to show the gap between pensioners and workers. Also strange is situations where people are working at the age of 70+ years old but have less than 5 years of experience"
   ]
  },
  {
   "cell_type": "code",
   "execution_count": 27,
   "metadata": {},
   "outputs": [
    {
     "data": {
      "text/plain": [
       "137192.0183935626"
      ]
     },
     "execution_count": 27,
     "metadata": {},
     "output_type": "execute_result"
    },
    {
     "data": {
      "image/png": "[encoded data removed]",
      "text/plain": [
       "<Figure size 864x432 with 1 Axes>"
      ]
     },
     "metadata": {},
     "output_type": "display_data"
    }
   ],
   "source": [
    "fig, axes = plt.subplots(facecolor='white', figsize=(12, 6))\n",
    "\n",
    "data[data['income_type'] == 'пенсионер'].plot.scatter(x=\"total_income\", y=\"dob_years\", alpha=0.5, ax=axes)\n",
    "data[data['income_type'] == 'пенсионер']['total_income'].mean()"
   ]
  },
  {
   "cell_type": "code",
   "execution_count": 28,
   "metadata": {},
   "outputs": [
    {
     "data": {
      "text/plain": [
       "<AxesSubplot:xlabel='total_income', ylabel='dob_years'>"
      ]
     },
     "execution_count": 28,
     "metadata": {},
     "output_type": "execute_result"
    },
    {
     "data": {
      "image/png": "[encoded data removed]",
      "text/plain": [
       "<Figure size 864x432 with 1 Axes>"
      ]
     },
     "metadata": {},
     "output_type": "display_data"
    }
   ],
   "source": [
    "fig, axes = plt.subplots(facecolor='white', figsize=(12, 6))\n",
    "\n",
    "data[data['income_type'] != 'пенсионер'].plot.scatter(x=\"total_income\", y=\"dob_years\", alpha=0.5, ax=axes)"
   ]
  },
  {
   "cell_type": "markdown",
   "metadata": {},
   "source": [
    "I  decided to fill in the missing values for \"days_employed\" and \"total_income\" by age + by type of employment. The last one is important primarily for income. \n",
    "\n",
    "For days_employed, it allows you to take into account the \"strangeness\" of calculating it for retieries and take mean value for the outliers"
   ]
  },
  {
   "cell_type": "code",
   "execution_count": 29,
   "metadata": {},
   "outputs": [
    {
     "data": {
      "text/plain": [
       "array([53, 65, 57, 67, 63, 62, 68, 54, 64, 52, 61, 59, 60, 71, 38, 58, 55,\n",
       "       73, 66, 56, 44, 69, 51, 49, 46, 50, 41, 48, 42, 72, 22, 37, 70, 39,\n",
       "       45, 47, 74, 43, 40, 24, 34, 33, 36, 32, 35, 27, 26, 31],\n",
       "      dtype=int64)"
      ]
     },
     "execution_count": 29,
     "metadata": {},
     "output_type": "execute_result"
    }
   ],
   "source": [
    "data[data['income_type'] == 'пенсионер']['dob_years'].unique()"
   ]
  },
  {
   "cell_type": "code",
   "execution_count": 30,
   "metadata": {},
   "outputs": [
    {
     "name": "stdout",
     "output_type": "stream",
     "text": [
      "сотрудник\n",
      "пенсионер\n",
      "компаньон\n",
      "госслужащий\n"
     ]
    }
   ],
   "source": [
    "all_jobs = data['income_type'].unique()\n",
    "age_job_mediandays = {}\n",
    "age_job_medianinc = {}\n",
    "for job in all_jobs:\n",
    "    print(job)\n",
    "    all_ages = data[data['income_type'] == job]['dob_years'].unique()\n",
    "    days_dict = {}\n",
    "    inc_dict = {}\n",
    "    for age in all_ages:\n",
    "        res = data[(age-2 < data['dob_years']) & (data['dob_years'] < age+2) & \n",
    "                   (data['income_type'] == job) ]['days_employed'].median()\n",
    "        res2 = data[(age-2 < data['dob_years']) & (data['dob_years'] < age+2) & \n",
    "                    (data['income_type'] == job) ]['total_income'].median()\n",
    "        days_dict[age] = res\n",
    "        inc_dict[age] = res2\n",
    "    age_job_mediandays[job] = days_dict\n",
    "    age_job_medianinc[job] = inc_dict\n",
    "    \n",
    "         "
   ]
  },
  {
   "cell_type": "code",
   "execution_count": 31,
   "metadata": {},
   "outputs": [],
   "source": [
    "for job in all_jobs:\n",
    "    all_ages = data[data['income_type'] == job]['dob_years'].unique()\n",
    "    for age in all_ages:\n",
    "        data.loc[(data['dob_years'] == age) & (data['income_type'] == job) &\n",
    "                 (data['days_employed'].isnull() == True), 'days_employed'] = age_job_mediandays[job][age]\n",
    "        data.loc[(data['dob_years'] == age) & (data['income_type'] == job) &\n",
    "                 (data['total_income'].isnull() == True), 'total_income'] = age_job_medianinc[job][age]\n",
    "    "
   ]
  },
  {
   "cell_type": "code",
   "execution_count": 32,
   "metadata": {},
   "outputs": [
    {
     "name": "stdout",
     "output_type": "stream",
     "text": [
      "<class 'pandas.core.frame.DataFrame'>\n",
      "Int64Index: 21295 entries, 0 to 21524\n",
      "Data columns (total 13 columns):\n",
      " #   Column            Non-Null Count  Dtype  \n",
      "---  ------            --------------  -----  \n",
      " 0   children          21295 non-null  int64  \n",
      " 1   days_employed     21294 non-null  float64\n",
      " 2   dob_years         21295 non-null  int64  \n",
      " 3   education         21295 non-null  object \n",
      " 4   education_id      21295 non-null  int64  \n",
      " 5   family_status     21295 non-null  object \n",
      " 6   family_status_id  21295 non-null  int64  \n",
      " 7   gender            21295 non-null  object \n",
      " 8   income_type       21295 non-null  object \n",
      " 9   debt              21295 non-null  int64  \n",
      " 10  total_income      21294 non-null  float64\n",
      " 11  purpose           21295 non-null  object \n",
      " 12  years_employed    21294 non-null  float64\n",
      "dtypes: float64(3), int64(5), object(5)\n",
      "memory usage: 2.8+ MB\n"
     ]
    }
   ],
   "source": [
    "data['years_employed'] = data['days_employed']/365\n",
    "data.info()"
   ]
  },
  {
   "cell_type": "code",
   "execution_count": 33,
   "metadata": {},
   "outputs": [
    {
     "data": {
      "text/html": [
       "<div>\n",
       "<style scoped>\n",
       "    .dataframe tbody tr th:only-of-type {\n",
       "        vertical-align: middle;\n",
       "    }\n",
       "\n",
       "    .dataframe tbody tr th {\n",
       "        vertical-align: top;\n",
       "    }\n",
       "\n",
       "    .dataframe thead th {\n",
       "        text-align: right;\n",
       "    }\n",
       "</style>\n",
       "<table border=\"1\" class=\"dataframe\">\n",
       "  <thead>\n",
       "    <tr style=\"text-align: right;\">\n",
       "      <th></th>\n",
       "      <th>children</th>\n",
       "      <th>days_employed</th>\n",
       "      <th>dob_years</th>\n",
       "      <th>education</th>\n",
       "      <th>education_id</th>\n",
       "      <th>family_status</th>\n",
       "      <th>family_status_id</th>\n",
       "      <th>gender</th>\n",
       "      <th>income_type</th>\n",
       "      <th>debt</th>\n",
       "      <th>total_income</th>\n",
       "      <th>purpose</th>\n",
       "      <th>years_employed</th>\n",
       "    </tr>\n",
       "  </thead>\n",
       "  <tbody>\n",
       "    <tr>\n",
       "      <th>3619</th>\n",
       "      <td>0</td>\n",
       "      <td>NaN</td>\n",
       "      <td>24</td>\n",
       "      <td>среднее</td>\n",
       "      <td>1</td>\n",
       "      <td>женат / замужем</td>\n",
       "      <td>0</td>\n",
       "      <td>F</td>\n",
       "      <td>пенсионер</td>\n",
       "      <td>0</td>\n",
       "      <td>NaN</td>\n",
       "      <td>покупка своего жилья</td>\n",
       "      <td>NaN</td>\n",
       "    </tr>\n",
       "  </tbody>\n",
       "</table>\n",
       "</div>"
      ],
      "text/plain": [
       "      children  days_employed  dob_years education  education_id  \\\n",
       "3619         0            NaN         24   среднее             1   \n",
       "\n",
       "        family_status  family_status_id gender income_type  debt  \\\n",
       "3619  женат / замужем                 0      F   пенсионер     0   \n",
       "\n",
       "      total_income               purpose  years_employed  \n",
       "3619           NaN  покупка своего жилья             NaN  "
      ]
     },
     "execution_count": 33,
     "metadata": {},
     "output_type": "execute_result"
    }
   ],
   "source": [
    "data[data['days_employed'].isnull() == True] "
   ]
  },
  {
   "cell_type": "code",
   "execution_count": 34,
   "metadata": {},
   "outputs": [
    {
     "name": "stdout",
     "output_type": "stream",
     "text": [
      "<class 'pandas.core.frame.DataFrame'>\n",
      "Int64Index: 21294 entries, 0 to 21524\n",
      "Data columns (total 13 columns):\n",
      " #   Column            Non-Null Count  Dtype  \n",
      "---  ------            --------------  -----  \n",
      " 0   children          21294 non-null  int64  \n",
      " 1   days_employed     21294 non-null  float64\n",
      " 2   dob_years         21294 non-null  int64  \n",
      " 3   education         21294 non-null  object \n",
      " 4   education_id      21294 non-null  int64  \n",
      " 5   family_status     21294 non-null  object \n",
      " 6   family_status_id  21294 non-null  int64  \n",
      " 7   gender            21294 non-null  object \n",
      " 8   income_type       21294 non-null  object \n",
      " 9   debt              21294 non-null  int64  \n",
      " 10  total_income      21294 non-null  float64\n",
      " 11  purpose           21294 non-null  object \n",
      " 12  years_employed    21294 non-null  float64\n",
      "dtypes: float64(3), int64(5), object(5)\n",
      "memory usage: 2.3+ MB\n"
     ]
    }
   ],
   "source": [
    "data = data.dropna()\n",
    "data.info()"
   ]
  },
  {
   "cell_type": "markdown",
   "metadata": {},
   "source": [
    "**Conclusion**\n",
    "\n",
    "1. Number of children - 2 outliers (-1, 20) Excluded because the number of observations is small\n",
    "2. When analyzing omissions - data on secondary education were brought to uniformity (different registers)\n",
    "3. From the gender - 1 value with a gap was excluded\n",
    "4. Data by type of income. 4 types of employment were identified, which are practically not present, excluded from the database\n",
    "5. In age groups - data on people with age 0 are excluded\n",
    "6. To analyze gaps in days_employed and income, the difference between records with missing data and those with them was estimated. The probability of not repaying the loan differs, but very slightly.\n",
    "7. The analysis of data on length of service was made taking into account age. 1 Some of the values ​​were negative - the reason for the different type of record between retieries and other types of income. The data has been converted to a positive format. The second difference is a different type of record for pensioners. The hypothesis is that their data is in hours, not days. Doesn't quite work, as the data between them is very different. At the same time, for some of the observations, the length of service does not correspond to age. But it was decided to leave it that way, since the data on length of service are not used in the analysis + the analysis can still be carried out (you just can’t mix the group of pensioners with other types of employment)\n",
    "8. Taking into account the peculiarities of retieries, it was decided to take into account 2 parameters to fill the length of service - age and type of employment. At the same time, to obtain the median, the age was taken in a wider range of +-2 years. A similar approach for income. For 1 case no matching data could be found - excluded\n",
    "9. Omissions, incorrect values ​​​​in marital status, reasons for taking a loan and education were not found"
   ]
  },
  {
   "cell_type": "markdown",
   "metadata": {},
   "source": [
    "### Transforming data type"
   ]
  },
  {
   "cell_type": "code",
   "execution_count": 35,
   "metadata": {},
   "outputs": [
    {
     "name": "stdout",
     "output_type": "stream",
     "text": [
      "<class 'pandas.core.frame.DataFrame'>\n",
      "Int64Index: 21294 entries, 0 to 21524\n",
      "Data columns (total 13 columns):\n",
      " #   Column            Non-Null Count  Dtype \n",
      "---  ------            --------------  ----- \n",
      " 0   children          21294 non-null  int64 \n",
      " 1   days_employed     21294 non-null  int64 \n",
      " 2   dob_years         21294 non-null  int64 \n",
      " 3   education         21294 non-null  object\n",
      " 4   education_id      21294 non-null  int64 \n",
      " 5   family_status     21294 non-null  object\n",
      " 6   family_status_id  21294 non-null  int64 \n",
      " 7   gender            21294 non-null  object\n",
      " 8   income_type       21294 non-null  object\n",
      " 9   debt              21294 non-null  int64 \n",
      " 10  total_income      21294 non-null  int64 \n",
      " 11  purpose           21294 non-null  object\n",
      " 12  years_employed    21294 non-null  int64 \n",
      "dtypes: int64(8), object(5)\n",
      "memory usage: 2.3+ MB\n"
     ]
    }
   ],
   "source": [
    "data['days_employed'] = data['days_employed'].astype('int64')\n",
    "data['total_income'] = data['total_income'].astype('int64')\n",
    "data['years_employed'] = data['years_employed'].astype('int64')\n",
    "data.info()\n"
   ]
  },
  {
   "cell_type": "markdown",
   "metadata": {},
   "source": [
    "**Conclusion**\n",
    "\n",
    "3 parameters converted to integer format."
   ]
  },
  {
   "cell_type": "markdown",
   "metadata": {},
   "source": [
    "### Handling duplicates"
   ]
  },
  {
   "cell_type": "code",
   "execution_count": 36,
   "metadata": {},
   "outputs": [],
   "source": [
    "data['education'] = data['education'].str.lower()\n",
    "data['family_status'] = data['family_status'].str.lower()\n",
    "data['income_type'] = data['income_type'].str.lower()\n",
    "data['purpose'] = data['purpose'].str.lower()"
   ]
  },
  {
   "cell_type": "code",
   "execution_count": 37,
   "metadata": {},
   "outputs": [
    {
     "data": {
      "text/plain": [
       "False    21223\n",
       "True        71\n",
       "dtype: int64"
      ]
     },
     "execution_count": 37,
     "metadata": {},
     "output_type": "execute_result"
    }
   ],
   "source": [
    "data.duplicated().value_counts()"
   ]
  },
  {
   "cell_type": "code",
   "execution_count": 38,
   "metadata": {},
   "outputs": [
    {
     "name": "stdout",
     "output_type": "stream",
     "text": [
      "<class 'pandas.core.frame.DataFrame'>\n",
      "Int64Index: 21223 entries, 0 to 21524\n",
      "Data columns (total 13 columns):\n",
      " #   Column            Non-Null Count  Dtype \n",
      "---  ------            --------------  ----- \n",
      " 0   children          21223 non-null  int64 \n",
      " 1   days_employed     21223 non-null  int64 \n",
      " 2   dob_years         21223 non-null  int64 \n",
      " 3   education         21223 non-null  object\n",
      " 4   education_id      21223 non-null  int64 \n",
      " 5   family_status     21223 non-null  object\n",
      " 6   family_status_id  21223 non-null  int64 \n",
      " 7   gender            21223 non-null  object\n",
      " 8   income_type       21223 non-null  object\n",
      " 9   debt              21223 non-null  int64 \n",
      " 10  total_income      21223 non-null  int64 \n",
      " 11  purpose           21223 non-null  object\n",
      " 12  years_employed    21223 non-null  int64 \n",
      "dtypes: int64(8), object(5)\n",
      "memory usage: 2.3+ MB\n",
      "None\n"
     ]
    }
   ],
   "source": [
    "data = data.drop_duplicates()\n",
    "print(data.info())"
   ]
  },
  {
   "cell_type": "code",
   "execution_count": 39,
   "metadata": {},
   "outputs": [
    {
     "data": {
      "text/plain": [
       "673"
      ]
     },
     "execution_count": 39,
     "metadata": {},
     "output_type": "execute_result"
    }
   ],
   "source": [
    "data[data.duplicated(\n",
    "    subset=['children', 'days_employed', 'dob_years', \n",
    "           'education_id', 'family_status_id', 'gender',\n",
    "           'income_type', 'debt', 'total_income',\n",
    "           'education', 'family_status']) == True]['purpose'].count()"
   ]
  },
  {
   "cell_type": "code",
   "execution_count": 40,
   "metadata": {},
   "outputs": [
    {
     "name": "stdout",
     "output_type": "stream",
     "text": [
      "      children  days_employed  dob_years education  education_id  \\\n",
      "360          0           1011         27   среднее             1   \n",
      "712          0           1332         29    высшее             0   \n",
      "829          0           2129         57   среднее             1   \n",
      "830          0            942         26    высшее             0   \n",
      "974          0           2695         60   среднее             1   \n",
      "1010         0         365907         66   среднее             1   \n",
      "1072         0           1875         44   среднее             1   \n",
      "1247         0           2342         54   среднее             1   \n",
      "1313         1           1332         29   среднее             1   \n",
      "1340         0         365447         59   среднее             1   \n",
      "1766         0           1949         50   среднее             1   \n",
      "1969         2           1543         35   среднее             1   \n",
      "1998         1           1741         39   среднее             1   \n",
      "2052         0         365598         58   среднее             1   \n",
      "2113         1           2219         49   среднее             1   \n",
      "2210         1           2219         49    высшее             0   \n",
      "2270         0         365907         66   среднее             1   \n",
      "2343         0           2019         47   среднее             1   \n",
      "2657         0           2106         53   среднее             1   \n",
      "2700         0         368018         65   среднее             1   \n",
      "2743         0           1932         46   среднее             1   \n",
      "2995         0           2019         47    высшее             0   \n",
      "3018         1           1064         26   среднее             1   \n",
      "3062         0           1859         42   среднее             1   \n",
      "3075         0         365206         62   среднее             1   \n",
      "3090         2           1543         35    высшее             0   \n",
      "3103         0         365206         62   среднее             1   \n",
      "3127         0           1949         50   среднее             1   \n",
      "3344         0         366143         56   среднее             1   \n",
      "3378         0         365206         62   среднее             1   \n",
      "3395         0           1838         41   среднее             1   \n",
      "3398         0           1898         45   среднее             1   \n",
      "3486         0         365582         57   среднее             1   \n",
      "3525         0           3527         50   среднее             1   \n",
      "3553         0         365598         58   среднее             1   \n",
      "3609         0         366388         64   среднее             1   \n",
      "3635         0           1875         44   среднее             1   \n",
      "3722         0         366658         55   среднее             1   \n",
      "3743         0           1543         35   среднее             1   \n",
      "3907         0         366143         56   среднее             1   \n",
      "4108         0           1348         33    высшее             0   \n",
      "4132         2           1706         36   среднее             1   \n",
      "4152         1           1245         29    высшее             0   \n",
      "4156         0           2342         54   среднее             1   \n",
      "4278         2           1699         37   среднее             1   \n",
      "4320         0           1880         43   среднее             1   \n",
      "4480         1           1221         28   среднее             1   \n",
      "4508         0           2040         48   среднее             1   \n",
      "4517         0           2019         47   среднее             1   \n",
      "4529         0         365582         57   среднее             1   \n",
      "\n",
      "              family_status  family_status_id gender  income_type  debt  \\\n",
      "360         женат / замужем                 0      M    компаньон     0   \n",
      "712         женат / замужем                 0      F    компаньон     0   \n",
      "829        гражданский брак                 1      F    компаньон     0   \n",
      "830   не женат / не замужем                 4      M    компаньон     0   \n",
      "974         женат / замужем                 0      M    сотрудник     0   \n",
      "1010        женат / замужем                 0      F    пенсионер     0   \n",
      "1072       гражданский брак                 1      F    сотрудник     0   \n",
      "1247       гражданский брак                 1      M    сотрудник     0   \n",
      "1313        женат / замужем                 0      F    компаньон     0   \n",
      "1340         вдовец / вдова                 2      F    пенсионер     0   \n",
      "1766        женат / замужем                 0      F    компаньон     0   \n",
      "1969        женат / замужем                 0      M    сотрудник     0   \n",
      "1998        женат / замужем                 0      M    сотрудник     0   \n",
      "2052       гражданский брак                 1      F    пенсионер     0   \n",
      "2113        женат / замужем                 0      M    сотрудник     0   \n",
      "2210        женат / замужем                 0      F    сотрудник     0   \n",
      "2270         вдовец / вдова                 2      F    пенсионер     0   \n",
      "2343        женат / замужем                 0      M    сотрудник     0   \n",
      "2657              в разводе                 3      F    сотрудник     0   \n",
      "2700        женат / замужем                 0      F    пенсионер     0   \n",
      "2743        женат / замужем                 0      F    сотрудник     0   \n",
      "2995        женат / замужем                 0      F    сотрудник     0   \n",
      "3018        женат / замужем                 0      F    сотрудник     0   \n",
      "3062        женат / замужем                 0      M    сотрудник     0   \n",
      "3075        женат / замужем                 0      M    пенсионер     0   \n",
      "3090        женат / замужем                 0      F    сотрудник     0   \n",
      "3103        женат / замужем                 0      F    пенсионер     0   \n",
      "3127        женат / замужем                 0      M    компаньон     0   \n",
      "3344        женат / замужем                 0      F    пенсионер     0   \n",
      "3378        женат / замужем                 0      F    пенсионер     0   \n",
      "3395        женат / замужем                 0      F    сотрудник     0   \n",
      "3398        женат / замужем                 0      F    компаньон     0   \n",
      "3486       гражданский брак                 1      M    пенсионер     0   \n",
      "3525        женат / замужем                 0      F  госслужащий     0   \n",
      "3553         вдовец / вдова                 2      F    пенсионер     0   \n",
      "3609        женат / замужем                 0      F    пенсионер     0   \n",
      "3635        женат / замужем                 0      F    сотрудник     0   \n",
      "3722        женат / замужем                 0      F    пенсионер     0   \n",
      "3743        женат / замужем                 0      M    сотрудник     0   \n",
      "3907        женат / замужем                 0      F    пенсионер     0   \n",
      "4108  не женат / не замужем                 4      F    компаньон     0   \n",
      "4132        женат / замужем                 0      M    компаньон     0   \n",
      "4152        женат / замужем                 0      F    сотрудник     0   \n",
      "4156        женат / замужем                 0      F    сотрудник     0   \n",
      "4278        женат / замужем                 0      M    сотрудник     0   \n",
      "4320        женат / замужем                 0      M    сотрудник     0   \n",
      "4480        женат / замужем                 0      M    сотрудник     0   \n",
      "4508        женат / замужем                 0      F    сотрудник     0   \n",
      "4517        женат / замужем                 0      M    сотрудник     0   \n",
      "4529       гражданский брак                 1      M    пенсионер     0   \n",
      "\n",
      "      total_income                                 purpose  years_employed  \n",
      "360         171120                 покупка жилья для сдачи               2  \n",
      "712         165732                 покупка жилья для сдачи               3  \n",
      "829         172609                   получение образования               5  \n",
      "830         169227                           покупка жилья               2  \n",
      "974         148266                      высшее образование               7  \n",
      "1010        112179                    покупка своего жилья            1002  \n",
      "1072        144058                           покупка жилья               5  \n",
      "1247        139249                                 свадьба               6  \n",
      "1313        165732                   получение образования               3  \n",
      "1340        119372                   на покупку автомобиля            1001  \n",
      "1766        171866                  профильное образование               5  \n",
      "1969        143990   получение дополнительного образования               4  \n",
      "1998        144290            на покупку своего автомобиля               4  \n",
      "2052        123494                         сыграть свадьбу            1001  \n",
      "2113        140952       покупка коммерческой недвижимости               6  \n",
      "2210        140952                                   жилье               6  \n",
      "2270        112179                  профильное образование            1002  \n",
      "2343        143240                 покупка жилья для семьи               5  \n",
      "2657        139134   получение дополнительного образования               5  \n",
      "2700        117218                            недвижимость            1008  \n",
      "2743        143397                 покупка жилья для сдачи               5  \n",
      "2995        143240                            ремонт жилью               5  \n",
      "3018        138874       покупка коммерческой недвижимости               2  \n",
      "3062        144179                       операции с жильем               5  \n",
      "3075        119551  строительство собственной недвижимости            1000  \n",
      "3090        143990                   на покупку автомобиля               4  \n",
      "3103        119551                              автомобили            1000  \n",
      "3127        171866                    покупка недвижимости               5  \n",
      "3344        123911         операции со своей недвижимостью            1003  \n",
      "3378        119551       покупка коммерческой недвижимости            1000  \n",
      "3395        145994                         свой автомобиль               5  \n",
      "3398        187227              покупка жилой недвижимости               5  \n",
      "3486        121258   операции с коммерческой недвижимостью            1001  \n",
      "3525        150684            на покупку своего автомобиля               9  \n",
      "3553        123494              дополнительное образование            1001  \n",
      "3609        120442                                   жилье            1003  \n",
      "3635        144058              дополнительное образование               5  \n",
      "3722        119735                            недвижимость            1004  \n",
      "3743        143990              покупка жилой недвижимости               4  \n",
      "3907        123911                 покупка жилья для семьи            1003  \n",
      "4108        185372   получение дополнительного образования               3  \n",
      "4132        181337                 приобретение автомобиля               4  \n",
      "4152        141871                            ремонт жилью               3  \n",
      "4156        139249   получение дополнительного образования               6  \n",
      "4278        149111                    покупка своего жилья               4  \n",
      "4320        147039                           покупка жилья               5  \n",
      "4480        141155        строительство жилой недвижимости               3  \n",
      "4508        143757                            ремонт жилью               5  \n",
      "4517        143240            заняться высшим образованием               5  \n",
      "4529        121258                                 свадьба            1001  \n"
     ]
    }
   ],
   "source": [
    "x = data[data.duplicated(\n",
    "    subset=['children', 'days_employed', 'dob_years', \n",
    "           'education_id', 'family_status_id', 'gender',\n",
    "           'income_type', 'debt', 'total_income',\n",
    "           'education', 'family_status']) == True]\n",
    "print(x.head(50))\n"
   ]
  },
  {
   "cell_type": "code",
   "execution_count": 41,
   "metadata": {},
   "outputs": [
    {
     "name": "stdout",
     "output_type": "stream",
     "text": [
      "       children  days_employed  dob_years education  education_id  \\\n",
      "1010          0         365907         66   среднее             1   \n",
      "2270          0         365907         66   среднее             1   \n",
      "5865          0         365907         66   среднее             1   \n",
      "6068          0         365907         66   среднее             1   \n",
      "10777         0         365907         66   среднее             1   \n",
      "12625         0         365907         66   среднее             1   \n",
      "17649         0         365907         66   среднее             1   \n",
      "17854         0         365907         66   среднее             1   \n",
      "19514         0         365907         66   среднее             1   \n",
      "20675         0         365907         66   среднее             1   \n",
      "\n",
      "          family_status  family_status_id gender income_type  debt  \\\n",
      "1010    женат / замужем                 0      F   пенсионер     0   \n",
      "2270     вдовец / вдова                 2      F   пенсионер     0   \n",
      "5865     вдовец / вдова                 2      F   пенсионер     0   \n",
      "6068    женат / замужем                 0      F   пенсионер     0   \n",
      "10777    вдовец / вдова                 2      F   пенсионер     0   \n",
      "12625  гражданский брак                 1      F   пенсионер     0   \n",
      "17649    вдовец / вдова                 2      F   пенсионер     0   \n",
      "17854   женат / замужем                 0      F   пенсионер     0   \n",
      "19514  гражданский брак                 1      F   пенсионер     0   \n",
      "20675    вдовец / вдова                 2      F   пенсионер     0   \n",
      "\n",
      "       total_income                           purpose  years_employed  \n",
      "1010         112179              покупка своего жилья            1002  \n",
      "2270         112179            профильное образование            1002  \n",
      "5865         112179   операции со своей недвижимостью            1002  \n",
      "6068         112179     получение высшего образования            1002  \n",
      "10777        112179           покупка жилья для семьи            1002  \n",
      "12625        112179                   сыграть свадьбу            1002  \n",
      "17649        112179  сделка с подержанным автомобилем            1002  \n",
      "17854        112179      на покупку своего автомобиля            1002  \n",
      "19514        112179        строительство недвижимости            1002  \n",
      "20675        112179              покупка своего жилья            1002  \n"
     ]
    }
   ],
   "source": [
    "print(x[x['days_employed'] == 365907])\n"
   ]
  },
  {
   "cell_type": "markdown",
   "metadata": {},
   "source": [
    "people are the same - but the goals are completely different"
   ]
  },
  {
   "cell_type": "code",
   "execution_count": 42,
   "metadata": {},
   "outputs": [
    {
     "name": "stdout",
     "output_type": "stream",
     "text": [
      "children                               0\n",
      "days_employed                     365907\n",
      "dob_years                             66\n",
      "education                        среднее\n",
      "education_id                           1\n",
      "family_status            женат / замужем\n",
      "family_status_id                       0\n",
      "gender                                 F\n",
      "income_type                    пенсионер\n",
      "debt                                   0\n",
      "total_income                      112179\n",
      "purpose             покупка своего жилья\n",
      "years_employed                      1002\n",
      "Name: 1010, dtype: object\n",
      "children                                 0\n",
      "days_employed                       365907\n",
      "dob_years                               66\n",
      "education                          среднее\n",
      "education_id                             1\n",
      "family_status               вдовец / вдова\n",
      "family_status_id                         2\n",
      "gender                                   F\n",
      "income_type                      пенсионер\n",
      "debt                                     0\n",
      "total_income                        112179\n",
      "purpose             профильное образование\n",
      "years_employed                        1002\n",
      "Name: 2270, dtype: object\n"
     ]
    }
   ],
   "source": [
    "print(x.loc[1010])\n",
    "print(x.loc[2270])\n"
   ]
  },
  {
   "cell_type": "markdown",
   "metadata": {},
   "source": [
    "**Conclusion**\n",
    "\n",
    "Records that are complete duplicates have been excluded.\n",
    "Attempts to find additional duplicates did not materialize, 2 hypotheses were tested\n",
    "1. Exclude 2 variables that could have text input errors (text versions of marital status, education). Didn't help\n",
    "2. Check for duplicates without taking into account the reasons for the loan - the hypothesis that they could write the same thing in different ways (\"loan for housing\", \"buying a home\") - was not useful, since such duplicates could have different reasons in meaning (for example x.loc[1010] and x.loc[2270])"
   ]
  },
  {
   "cell_type": "markdown",
   "metadata": {},
   "source": [
    "### Lemmatization"
   ]
  },
  {
   "cell_type": "code",
   "execution_count": 43,
   "metadata": {},
   "outputs": [],
   "source": [
    "def lemm(text):\n",
    "    m = Mystem()\n",
    "    lemmas = m.lemmatize(text)\n",
    "    return lemmas"
   ]
  },
  {
   "cell_type": "code",
   "execution_count": 44,
   "metadata": {},
   "outputs": [],
   "source": [
    "all_purposes = data['purpose'].unique()\n",
    "lemmed_purpose = pd.DataFrame(columns=('purpose', 'lemmed_purpose'))\n",
    "for purpose in all_purposes:\n",
    "    res = lemm(purpose)\n",
    "    x = pd.DataFrame([[purpose, [res]]], columns=('purpose', 'lemmed_purpose'))\n",
    "    lemmed_purpose = lemmed_purpose.append(x)"
   ]
  },
  {
   "cell_type": "code",
   "execution_count": 45,
   "metadata": {},
   "outputs": [
    {
     "name": "stdout",
     "output_type": "stream",
     "text": [
      "                      purpose                          lemmed_purpose\n",
      "0               покупка жилья               [[покупка,  , жилье, \\n]]\n",
      "0     приобретение автомобиля     [[приобретение,  , автомобиль, \\n]]\n",
      "0  дополнительное образование  [[дополнительный,  , образование, \\n]]\n",
      "0             сыграть свадьбу             [[сыграть,  , свадьба, \\n]]\n",
      "0           операции с жильем        [[операция,  , с,  , жилье, \\n]]\n"
     ]
    },
    {
     "data": {
      "text/html": [
       "<div>\n",
       "<style scoped>\n",
       "    .dataframe tbody tr th:only-of-type {\n",
       "        vertical-align: middle;\n",
       "    }\n",
       "\n",
       "    .dataframe tbody tr th {\n",
       "        vertical-align: top;\n",
       "    }\n",
       "\n",
       "    .dataframe thead th {\n",
       "        text-align: right;\n",
       "    }\n",
       "</style>\n",
       "<table border=\"1\" class=\"dataframe\">\n",
       "  <thead>\n",
       "    <tr style=\"text-align: right;\">\n",
       "      <th></th>\n",
       "      <th>purpose</th>\n",
       "      <th>lemmed_purpose</th>\n",
       "    </tr>\n",
       "  </thead>\n",
       "  <tbody>\n",
       "    <tr>\n",
       "      <th>0</th>\n",
       "      <td>покупка жилья</td>\n",
       "      <td>[[покупка,  , жилье, \\n]]</td>\n",
       "    </tr>\n",
       "    <tr>\n",
       "      <th>1</th>\n",
       "      <td>приобретение автомобиля</td>\n",
       "      <td>[[приобретение,  , автомобиль, \\n]]</td>\n",
       "    </tr>\n",
       "    <tr>\n",
       "      <th>2</th>\n",
       "      <td>дополнительное образование</td>\n",
       "      <td>[[дополнительный,  , образование, \\n]]</td>\n",
       "    </tr>\n",
       "    <tr>\n",
       "      <th>3</th>\n",
       "      <td>сыграть свадьбу</td>\n",
       "      <td>[[сыграть,  , свадьба, \\n]]</td>\n",
       "    </tr>\n",
       "    <tr>\n",
       "      <th>4</th>\n",
       "      <td>операции с жильем</td>\n",
       "      <td>[[операция,  , с,  , жилье, \\n]]</td>\n",
       "    </tr>\n",
       "    <tr>\n",
       "      <th>5</th>\n",
       "      <td>образование</td>\n",
       "      <td>[[образование, \\n]]</td>\n",
       "    </tr>\n",
       "    <tr>\n",
       "      <th>6</th>\n",
       "      <td>на проведение свадьбы</td>\n",
       "      <td>[[на,  , проведение,  , свадьба, \\n]]</td>\n",
       "    </tr>\n",
       "    <tr>\n",
       "      <th>7</th>\n",
       "      <td>покупка жилья для семьи</td>\n",
       "      <td>[[покупка,  , жилье,  , для,  , семья, \\n]]</td>\n",
       "    </tr>\n",
       "    <tr>\n",
       "      <th>8</th>\n",
       "      <td>покупка недвижимости</td>\n",
       "      <td>[[покупка,  , недвижимость, \\n]]</td>\n",
       "    </tr>\n",
       "    <tr>\n",
       "      <th>9</th>\n",
       "      <td>покупка коммерческой недвижимости</td>\n",
       "      <td>[[покупка,  , коммерческий,  , недвижимость, \\n]]</td>\n",
       "    </tr>\n",
       "    <tr>\n",
       "      <th>10</th>\n",
       "      <td>покупка жилой недвижимости</td>\n",
       "      <td>[[покупка,  , жилой,  , недвижимость, \\n]]</td>\n",
       "    </tr>\n",
       "    <tr>\n",
       "      <th>11</th>\n",
       "      <td>строительство собственной недвижимости</td>\n",
       "      <td>[[строительство,  , собственный,  , недвижимос...</td>\n",
       "    </tr>\n",
       "    <tr>\n",
       "      <th>12</th>\n",
       "      <td>недвижимость</td>\n",
       "      <td>[[недвижимость, \\n]]</td>\n",
       "    </tr>\n",
       "    <tr>\n",
       "      <th>13</th>\n",
       "      <td>строительство недвижимости</td>\n",
       "      <td>[[строительство,  , недвижимость, \\n]]</td>\n",
       "    </tr>\n",
       "    <tr>\n",
       "      <th>14</th>\n",
       "      <td>на покупку подержанного автомобиля</td>\n",
       "      <td>[[на,  , покупка,  , подержать,  , автомобиль,...</td>\n",
       "    </tr>\n",
       "    <tr>\n",
       "      <th>15</th>\n",
       "      <td>на покупку своего автомобиля</td>\n",
       "      <td>[[на,  , покупка,  , свой,  , автомобиль, \\n]]</td>\n",
       "    </tr>\n",
       "    <tr>\n",
       "      <th>16</th>\n",
       "      <td>операции с коммерческой недвижимостью</td>\n",
       "      <td>[[операция,  , с,  , коммерческий,  , недвижим...</td>\n",
       "    </tr>\n",
       "    <tr>\n",
       "      <th>17</th>\n",
       "      <td>строительство жилой недвижимости</td>\n",
       "      <td>[[строительство,  , жилой,  , недвижимость, \\n]]</td>\n",
       "    </tr>\n",
       "    <tr>\n",
       "      <th>18</th>\n",
       "      <td>жилье</td>\n",
       "      <td>[[жилье, \\n]]</td>\n",
       "    </tr>\n",
       "    <tr>\n",
       "      <th>19</th>\n",
       "      <td>операции со своей недвижимостью</td>\n",
       "      <td>[[операция,  , со,  , свой,  , недвижимость, \\n]]</td>\n",
       "    </tr>\n",
       "    <tr>\n",
       "      <th>20</th>\n",
       "      <td>автомобили</td>\n",
       "      <td>[[автомобиль, \\n]]</td>\n",
       "    </tr>\n",
       "    <tr>\n",
       "      <th>21</th>\n",
       "      <td>заняться образованием</td>\n",
       "      <td>[[заниматься,  , образование, \\n]]</td>\n",
       "    </tr>\n",
       "    <tr>\n",
       "      <th>22</th>\n",
       "      <td>сделка с подержанным автомобилем</td>\n",
       "      <td>[[сделка,  , с,  , подержанный,  , автомобиль,...</td>\n",
       "    </tr>\n",
       "    <tr>\n",
       "      <th>23</th>\n",
       "      <td>получение образования</td>\n",
       "      <td>[[получение,  , образование, \\n]]</td>\n",
       "    </tr>\n",
       "    <tr>\n",
       "      <th>24</th>\n",
       "      <td>автомобиль</td>\n",
       "      <td>[[автомобиль, \\n]]</td>\n",
       "    </tr>\n",
       "    <tr>\n",
       "      <th>25</th>\n",
       "      <td>свадьба</td>\n",
       "      <td>[[свадьба, \\n]]</td>\n",
       "    </tr>\n",
       "    <tr>\n",
       "      <th>26</th>\n",
       "      <td>получение дополнительного образования</td>\n",
       "      <td>[[получение,  , дополнительный,  , образование...</td>\n",
       "    </tr>\n",
       "    <tr>\n",
       "      <th>27</th>\n",
       "      <td>покупка своего жилья</td>\n",
       "      <td>[[покупка,  , свой,  , жилье, \\n]]</td>\n",
       "    </tr>\n",
       "    <tr>\n",
       "      <th>28</th>\n",
       "      <td>операции с недвижимостью</td>\n",
       "      <td>[[операция,  , с,  , недвижимость, \\n]]</td>\n",
       "    </tr>\n",
       "    <tr>\n",
       "      <th>29</th>\n",
       "      <td>получение высшего образования</td>\n",
       "      <td>[[получение,  , высокий,  , образование, \\n]]</td>\n",
       "    </tr>\n",
       "    <tr>\n",
       "      <th>30</th>\n",
       "      <td>свой автомобиль</td>\n",
       "      <td>[[свой,  , автомобиль, \\n]]</td>\n",
       "    </tr>\n",
       "    <tr>\n",
       "      <th>31</th>\n",
       "      <td>сделка с автомобилем</td>\n",
       "      <td>[[сделка,  , с,  , автомобиль, \\n]]</td>\n",
       "    </tr>\n",
       "    <tr>\n",
       "      <th>32</th>\n",
       "      <td>профильное образование</td>\n",
       "      <td>[[профильный,  , образование, \\n]]</td>\n",
       "    </tr>\n",
       "    <tr>\n",
       "      <th>33</th>\n",
       "      <td>высшее образование</td>\n",
       "      <td>[[высокий,  , образование, \\n]]</td>\n",
       "    </tr>\n",
       "    <tr>\n",
       "      <th>34</th>\n",
       "      <td>покупка жилья для сдачи</td>\n",
       "      <td>[[покупка,  , жилье,  , для,  , сдача, \\n]]</td>\n",
       "    </tr>\n",
       "    <tr>\n",
       "      <th>35</th>\n",
       "      <td>на покупку автомобиля</td>\n",
       "      <td>[[на,  , покупка,  , автомобиль, \\n]]</td>\n",
       "    </tr>\n",
       "    <tr>\n",
       "      <th>36</th>\n",
       "      <td>ремонт жилью</td>\n",
       "      <td>[[ремонт,  , жилье, \\n]]</td>\n",
       "    </tr>\n",
       "    <tr>\n",
       "      <th>37</th>\n",
       "      <td>заняться высшим образованием</td>\n",
       "      <td>[[заниматься,  , высокий,  , образование, \\n]]</td>\n",
       "    </tr>\n",
       "  </tbody>\n",
       "</table>\n",
       "</div>"
      ],
      "text/plain": [
       "                                   purpose  \\\n",
       "0                            покупка жилья   \n",
       "1                  приобретение автомобиля   \n",
       "2               дополнительное образование   \n",
       "3                          сыграть свадьбу   \n",
       "4                        операции с жильем   \n",
       "5                              образование   \n",
       "6                    на проведение свадьбы   \n",
       "7                  покупка жилья для семьи   \n",
       "8                     покупка недвижимости   \n",
       "9        покупка коммерческой недвижимости   \n",
       "10              покупка жилой недвижимости   \n",
       "11  строительство собственной недвижимости   \n",
       "12                            недвижимость   \n",
       "13              строительство недвижимости   \n",
       "14      на покупку подержанного автомобиля   \n",
       "15            на покупку своего автомобиля   \n",
       "16   операции с коммерческой недвижимостью   \n",
       "17        строительство жилой недвижимости   \n",
       "18                                   жилье   \n",
       "19         операции со своей недвижимостью   \n",
       "20                              автомобили   \n",
       "21                   заняться образованием   \n",
       "22        сделка с подержанным автомобилем   \n",
       "23                   получение образования   \n",
       "24                              автомобиль   \n",
       "25                                 свадьба   \n",
       "26   получение дополнительного образования   \n",
       "27                    покупка своего жилья   \n",
       "28                операции с недвижимостью   \n",
       "29           получение высшего образования   \n",
       "30                         свой автомобиль   \n",
       "31                    сделка с автомобилем   \n",
       "32                  профильное образование   \n",
       "33                      высшее образование   \n",
       "34                 покупка жилья для сдачи   \n",
       "35                   на покупку автомобиля   \n",
       "36                            ремонт жилью   \n",
       "37            заняться высшим образованием   \n",
       "\n",
       "                                       lemmed_purpose  \n",
       "0                           [[покупка,  , жилье, \\n]]  \n",
       "1                 [[приобретение,  , автомобиль, \\n]]  \n",
       "2              [[дополнительный,  , образование, \\n]]  \n",
       "3                         [[сыграть,  , свадьба, \\n]]  \n",
       "4                    [[операция,  , с,  , жилье, \\n]]  \n",
       "5                                 [[образование, \\n]]  \n",
       "6               [[на,  , проведение,  , свадьба, \\n]]  \n",
       "7         [[покупка,  , жилье,  , для,  , семья, \\n]]  \n",
       "8                    [[покупка,  , недвижимость, \\n]]  \n",
       "9   [[покупка,  , коммерческий,  , недвижимость, \\n]]  \n",
       "10         [[покупка,  , жилой,  , недвижимость, \\n]]  \n",
       "11  [[строительство,  , собственный,  , недвижимос...  \n",
       "12                               [[недвижимость, \\n]]  \n",
       "13             [[строительство,  , недвижимость, \\n]]  \n",
       "14  [[на,  , покупка,  , подержать,  , автомобиль,...  \n",
       "15     [[на,  , покупка,  , свой,  , автомобиль, \\n]]  \n",
       "16  [[операция,  , с,  , коммерческий,  , недвижим...  \n",
       "17   [[строительство,  , жилой,  , недвижимость, \\n]]  \n",
       "18                                      [[жилье, \\n]]  \n",
       "19  [[операция,  , со,  , свой,  , недвижимость, \\n]]  \n",
       "20                                 [[автомобиль, \\n]]  \n",
       "21                 [[заниматься,  , образование, \\n]]  \n",
       "22  [[сделка,  , с,  , подержанный,  , автомобиль,...  \n",
       "23                  [[получение,  , образование, \\n]]  \n",
       "24                                 [[автомобиль, \\n]]  \n",
       "25                                    [[свадьба, \\n]]  \n",
       "26  [[получение,  , дополнительный,  , образование...  \n",
       "27                 [[покупка,  , свой,  , жилье, \\n]]  \n",
       "28            [[операция,  , с,  , недвижимость, \\n]]  \n",
       "29      [[получение,  , высокий,  , образование, \\n]]  \n",
       "30                        [[свой,  , автомобиль, \\n]]  \n",
       "31                [[сделка,  , с,  , автомобиль, \\n]]  \n",
       "32                 [[профильный,  , образование, \\n]]  \n",
       "33                    [[высокий,  , образование, \\n]]  \n",
       "34        [[покупка,  , жилье,  , для,  , сдача, \\n]]  \n",
       "35              [[на,  , покупка,  , автомобиль, \\n]]  \n",
       "36                           [[ремонт,  , жилье, \\n]]  \n",
       "37     [[заниматься,  , высокий,  , образование, \\n]]  "
      ]
     },
     "execution_count": 45,
     "metadata": {},
     "output_type": "execute_result"
    }
   ],
   "source": [
    "print(lemmed_purpose.head())\n",
    "lemmed_purpose.reset_index(drop=True)"
   ]
  },
  {
   "cell_type": "code",
   "execution_count": 46,
   "metadata": {},
   "outputs": [],
   "source": [
    "data = data.reset_index(drop=True)"
   ]
  },
  {
   "cell_type": "markdown",
   "metadata": {},
   "source": [
    "**Conclusion**\n",
    "\n",
    "Lemmatization on the main dataset takes too long. Despite the non-standard spelling, the reasons for the loan are repeated - therefore, I made a separate analysis for them, then the results are combined.\n",
    "\n",
    "After that I decided to add categories - they can be seen below"
   ]
  },
  {
   "cell_type": "markdown",
   "metadata": {},
   "source": [
    "### Purpose categories"
   ]
  },
  {
   "cell_type": "code",
   "execution_count": 47,
   "metadata": {},
   "outputs": [],
   "source": [
    "lemmed_purpose = lemmed_purpose.reset_index(drop=True)"
   ]
  },
  {
   "cell_type": "code",
   "execution_count": 48,
   "metadata": {},
   "outputs": [],
   "source": [
    "def cat_puprose(texts):\n",
    "    categories = {'жилье' : 'house', 'образование' : 'education',\n",
    "                  'автомобиль' : 'car', 'недвижимость': 'house', 'свадьба' : 'wedding'}\n",
    "    for category in categories:\n",
    "        for text in texts:\n",
    "            if category in text:\n",
    "                return categories[category]\n",
    "    return 'Other'"
   ]
  },
  {
   "cell_type": "code",
   "execution_count": 49,
   "metadata": {},
   "outputs": [],
   "source": [
    "lemmed_purpose['purpose_cat'] = lemmed_purpose['lemmed_purpose'].apply(cat_puprose)\n"
   ]
  },
  {
   "cell_type": "code",
   "execution_count": 50,
   "metadata": {},
   "outputs": [
    {
     "data": {
      "text/plain": [
       "house        17\n",
       "car           9\n",
       "education     9\n",
       "wedding       3\n",
       "Name: purpose_cat, dtype: int64"
      ]
     },
     "execution_count": 50,
     "metadata": {},
     "output_type": "execute_result"
    }
   ],
   "source": [
    "lemmed_purpose['purpose_cat'].value_counts()"
   ]
  },
  {
   "cell_type": "code",
   "execution_count": 51,
   "metadata": {},
   "outputs": [
    {
     "data": {
      "text/html": [
       "<div>\n",
       "<style scoped>\n",
       "    .dataframe tbody tr th:only-of-type {\n",
       "        vertical-align: middle;\n",
       "    }\n",
       "\n",
       "    .dataframe tbody tr th {\n",
       "        vertical-align: top;\n",
       "    }\n",
       "\n",
       "    .dataframe thead th {\n",
       "        text-align: right;\n",
       "    }\n",
       "</style>\n",
       "<table border=\"1\" class=\"dataframe\">\n",
       "  <thead>\n",
       "    <tr style=\"text-align: right;\">\n",
       "      <th></th>\n",
       "      <th>children</th>\n",
       "      <th>days_employed</th>\n",
       "      <th>dob_years</th>\n",
       "      <th>education</th>\n",
       "      <th>education_id</th>\n",
       "      <th>family_status</th>\n",
       "      <th>family_status_id</th>\n",
       "      <th>gender</th>\n",
       "      <th>income_type</th>\n",
       "      <th>debt</th>\n",
       "      <th>total_income</th>\n",
       "      <th>purpose</th>\n",
       "      <th>years_employed</th>\n",
       "      <th>lemmed_purpose</th>\n",
       "      <th>purpose_cat</th>\n",
       "    </tr>\n",
       "  </thead>\n",
       "  <tbody>\n",
       "    <tr>\n",
       "      <th>0</th>\n",
       "      <td>1</td>\n",
       "      <td>8437</td>\n",
       "      <td>42</td>\n",
       "      <td>высшее</td>\n",
       "      <td>0</td>\n",
       "      <td>женат / замужем</td>\n",
       "      <td>0</td>\n",
       "      <td>F</td>\n",
       "      <td>сотрудник</td>\n",
       "      <td>0</td>\n",
       "      <td>253875</td>\n",
       "      <td>покупка жилья</td>\n",
       "      <td>23</td>\n",
       "      <td>[[покупка,  , жилье, \\n]]</td>\n",
       "      <td>house</td>\n",
       "    </tr>\n",
       "    <tr>\n",
       "      <th>1</th>\n",
       "      <td>1</td>\n",
       "      <td>4024</td>\n",
       "      <td>36</td>\n",
       "      <td>среднее</td>\n",
       "      <td>1</td>\n",
       "      <td>женат / замужем</td>\n",
       "      <td>0</td>\n",
       "      <td>F</td>\n",
       "      <td>сотрудник</td>\n",
       "      <td>0</td>\n",
       "      <td>112080</td>\n",
       "      <td>приобретение автомобиля</td>\n",
       "      <td>11</td>\n",
       "      <td>[[приобретение,  , автомобиль, \\n]]</td>\n",
       "      <td>car</td>\n",
       "    </tr>\n",
       "    <tr>\n",
       "      <th>2</th>\n",
       "      <td>0</td>\n",
       "      <td>5623</td>\n",
       "      <td>33</td>\n",
       "      <td>среднее</td>\n",
       "      <td>1</td>\n",
       "      <td>женат / замужем</td>\n",
       "      <td>0</td>\n",
       "      <td>M</td>\n",
       "      <td>сотрудник</td>\n",
       "      <td>0</td>\n",
       "      <td>145885</td>\n",
       "      <td>покупка жилья</td>\n",
       "      <td>15</td>\n",
       "      <td>[[покупка,  , жилье, \\n]]</td>\n",
       "      <td>house</td>\n",
       "    </tr>\n",
       "    <tr>\n",
       "      <th>3</th>\n",
       "      <td>3</td>\n",
       "      <td>4124</td>\n",
       "      <td>32</td>\n",
       "      <td>среднее</td>\n",
       "      <td>1</td>\n",
       "      <td>женат / замужем</td>\n",
       "      <td>0</td>\n",
       "      <td>M</td>\n",
       "      <td>сотрудник</td>\n",
       "      <td>0</td>\n",
       "      <td>267628</td>\n",
       "      <td>дополнительное образование</td>\n",
       "      <td>11</td>\n",
       "      <td>[[дополнительный,  , образование, \\n]]</td>\n",
       "      <td>education</td>\n",
       "    </tr>\n",
       "    <tr>\n",
       "      <th>4</th>\n",
       "      <td>0</td>\n",
       "      <td>340266</td>\n",
       "      <td>53</td>\n",
       "      <td>среднее</td>\n",
       "      <td>1</td>\n",
       "      <td>гражданский брак</td>\n",
       "      <td>1</td>\n",
       "      <td>F</td>\n",
       "      <td>пенсионер</td>\n",
       "      <td>0</td>\n",
       "      <td>158616</td>\n",
       "      <td>сыграть свадьбу</td>\n",
       "      <td>932</td>\n",
       "      <td>[[сыграть,  , свадьба, \\n]]</td>\n",
       "      <td>wedding</td>\n",
       "    </tr>\n",
       "    <tr>\n",
       "      <th>5</th>\n",
       "      <td>0</td>\n",
       "      <td>926</td>\n",
       "      <td>27</td>\n",
       "      <td>высшее</td>\n",
       "      <td>0</td>\n",
       "      <td>гражданский брак</td>\n",
       "      <td>1</td>\n",
       "      <td>M</td>\n",
       "      <td>компаньон</td>\n",
       "      <td>0</td>\n",
       "      <td>255763</td>\n",
       "      <td>покупка жилья</td>\n",
       "      <td>2</td>\n",
       "      <td>[[покупка,  , жилье, \\n]]</td>\n",
       "      <td>house</td>\n",
       "    </tr>\n",
       "    <tr>\n",
       "      <th>6</th>\n",
       "      <td>0</td>\n",
       "      <td>2879</td>\n",
       "      <td>43</td>\n",
       "      <td>высшее</td>\n",
       "      <td>0</td>\n",
       "      <td>женат / замужем</td>\n",
       "      <td>0</td>\n",
       "      <td>F</td>\n",
       "      <td>компаньон</td>\n",
       "      <td>0</td>\n",
       "      <td>240525</td>\n",
       "      <td>операции с жильем</td>\n",
       "      <td>7</td>\n",
       "      <td>[[операция,  , с,  , жилье, \\n]]</td>\n",
       "      <td>house</td>\n",
       "    </tr>\n",
       "    <tr>\n",
       "      <th>7</th>\n",
       "      <td>0</td>\n",
       "      <td>152</td>\n",
       "      <td>50</td>\n",
       "      <td>среднее</td>\n",
       "      <td>1</td>\n",
       "      <td>женат / замужем</td>\n",
       "      <td>0</td>\n",
       "      <td>M</td>\n",
       "      <td>сотрудник</td>\n",
       "      <td>0</td>\n",
       "      <td>135823</td>\n",
       "      <td>образование</td>\n",
       "      <td>0</td>\n",
       "      <td>[[образование, \\n]]</td>\n",
       "      <td>education</td>\n",
       "    </tr>\n",
       "    <tr>\n",
       "      <th>8</th>\n",
       "      <td>2</td>\n",
       "      <td>6929</td>\n",
       "      <td>35</td>\n",
       "      <td>высшее</td>\n",
       "      <td>0</td>\n",
       "      <td>гражданский брак</td>\n",
       "      <td>1</td>\n",
       "      <td>F</td>\n",
       "      <td>сотрудник</td>\n",
       "      <td>0</td>\n",
       "      <td>95856</td>\n",
       "      <td>на проведение свадьбы</td>\n",
       "      <td>18</td>\n",
       "      <td>[[на,  , проведение,  , свадьба, \\n]]</td>\n",
       "      <td>wedding</td>\n",
       "    </tr>\n",
       "    <tr>\n",
       "      <th>9</th>\n",
       "      <td>0</td>\n",
       "      <td>2188</td>\n",
       "      <td>41</td>\n",
       "      <td>среднее</td>\n",
       "      <td>1</td>\n",
       "      <td>женат / замужем</td>\n",
       "      <td>0</td>\n",
       "      <td>M</td>\n",
       "      <td>сотрудник</td>\n",
       "      <td>0</td>\n",
       "      <td>144425</td>\n",
       "      <td>покупка жилья для семьи</td>\n",
       "      <td>5</td>\n",
       "      <td>[[покупка,  , жилье,  , для,  , семья, \\n]]</td>\n",
       "      <td>house</td>\n",
       "    </tr>\n",
       "    <tr>\n",
       "      <th>10</th>\n",
       "      <td>2</td>\n",
       "      <td>4171</td>\n",
       "      <td>36</td>\n",
       "      <td>высшее</td>\n",
       "      <td>0</td>\n",
       "      <td>женат / замужем</td>\n",
       "      <td>0</td>\n",
       "      <td>M</td>\n",
       "      <td>компаньон</td>\n",
       "      <td>0</td>\n",
       "      <td>113943</td>\n",
       "      <td>покупка недвижимости</td>\n",
       "      <td>11</td>\n",
       "      <td>[[покупка,  , недвижимость, \\n]]</td>\n",
       "      <td>house</td>\n",
       "    </tr>\n",
       "    <tr>\n",
       "      <th>11</th>\n",
       "      <td>0</td>\n",
       "      <td>792</td>\n",
       "      <td>40</td>\n",
       "      <td>среднее</td>\n",
       "      <td>1</td>\n",
       "      <td>женат / замужем</td>\n",
       "      <td>0</td>\n",
       "      <td>F</td>\n",
       "      <td>сотрудник</td>\n",
       "      <td>0</td>\n",
       "      <td>77069</td>\n",
       "      <td>покупка коммерческой недвижимости</td>\n",
       "      <td>2</td>\n",
       "      <td>[[покупка,  , коммерческий,  , недвижимость, \\n]]</td>\n",
       "      <td>house</td>\n",
       "    </tr>\n",
       "    <tr>\n",
       "      <th>12</th>\n",
       "      <td>0</td>\n",
       "      <td>368018</td>\n",
       "      <td>65</td>\n",
       "      <td>среднее</td>\n",
       "      <td>1</td>\n",
       "      <td>гражданский брак</td>\n",
       "      <td>1</td>\n",
       "      <td>M</td>\n",
       "      <td>пенсионер</td>\n",
       "      <td>0</td>\n",
       "      <td>117218</td>\n",
       "      <td>сыграть свадьбу</td>\n",
       "      <td>1008</td>\n",
       "      <td>[[сыграть,  , свадьба, \\n]]</td>\n",
       "      <td>wedding</td>\n",
       "    </tr>\n",
       "    <tr>\n",
       "      <th>13</th>\n",
       "      <td>0</td>\n",
       "      <td>1846</td>\n",
       "      <td>54</td>\n",
       "      <td>неоконченное высшее</td>\n",
       "      <td>2</td>\n",
       "      <td>женат / замужем</td>\n",
       "      <td>0</td>\n",
       "      <td>F</td>\n",
       "      <td>сотрудник</td>\n",
       "      <td>0</td>\n",
       "      <td>130458</td>\n",
       "      <td>приобретение автомобиля</td>\n",
       "      <td>5</td>\n",
       "      <td>[[приобретение,  , автомобиль, \\n]]</td>\n",
       "      <td>car</td>\n",
       "    </tr>\n",
       "    <tr>\n",
       "      <th>14</th>\n",
       "      <td>0</td>\n",
       "      <td>1844</td>\n",
       "      <td>56</td>\n",
       "      <td>высшее</td>\n",
       "      <td>0</td>\n",
       "      <td>гражданский брак</td>\n",
       "      <td>1</td>\n",
       "      <td>F</td>\n",
       "      <td>компаньон</td>\n",
       "      <td>1</td>\n",
       "      <td>165127</td>\n",
       "      <td>покупка жилой недвижимости</td>\n",
       "      <td>5</td>\n",
       "      <td>[[покупка,  , жилой,  , недвижимость, \\n]]</td>\n",
       "      <td>house</td>\n",
       "    </tr>\n",
       "  </tbody>\n",
       "</table>\n",
       "</div>"
      ],
      "text/plain": [
       "    children  days_employed  dob_years            education  education_id  \\\n",
       "0          1           8437         42               высшее             0   \n",
       "1          1           4024         36              среднее             1   \n",
       "2          0           5623         33              среднее             1   \n",
       "3          3           4124         32              среднее             1   \n",
       "4          0         340266         53              среднее             1   \n",
       "5          0            926         27               высшее             0   \n",
       "6          0           2879         43               высшее             0   \n",
       "7          0            152         50              среднее             1   \n",
       "8          2           6929         35               высшее             0   \n",
       "9          0           2188         41              среднее             1   \n",
       "10         2           4171         36               высшее             0   \n",
       "11         0            792         40              среднее             1   \n",
       "12         0         368018         65              среднее             1   \n",
       "13         0           1846         54  неоконченное высшее             2   \n",
       "14         0           1844         56               высшее             0   \n",
       "\n",
       "       family_status  family_status_id gender income_type  debt  total_income  \\\n",
       "0    женат / замужем                 0      F   сотрудник     0        253875   \n",
       "1    женат / замужем                 0      F   сотрудник     0        112080   \n",
       "2    женат / замужем                 0      M   сотрудник     0        145885   \n",
       "3    женат / замужем                 0      M   сотрудник     0        267628   \n",
       "4   гражданский брак                 1      F   пенсионер     0        158616   \n",
       "5   гражданский брак                 1      M   компаньон     0        255763   \n",
       "6    женат / замужем                 0      F   компаньон     0        240525   \n",
       "7    женат / замужем                 0      M   сотрудник     0        135823   \n",
       "8   гражданский брак                 1      F   сотрудник     0         95856   \n",
       "9    женат / замужем                 0      M   сотрудник     0        144425   \n",
       "10   женат / замужем                 0      M   компаньон     0        113943   \n",
       "11   женат / замужем                 0      F   сотрудник     0         77069   \n",
       "12  гражданский брак                 1      M   пенсионер     0        117218   \n",
       "13   женат / замужем                 0      F   сотрудник     0        130458   \n",
       "14  гражданский брак                 1      F   компаньон     1        165127   \n",
       "\n",
       "                              purpose  years_employed  \\\n",
       "0                       покупка жилья              23   \n",
       "1             приобретение автомобиля              11   \n",
       "2                       покупка жилья              15   \n",
       "3          дополнительное образование              11   \n",
       "4                     сыграть свадьбу             932   \n",
       "5                       покупка жилья               2   \n",
       "6                   операции с жильем               7   \n",
       "7                         образование               0   \n",
       "8               на проведение свадьбы              18   \n",
       "9             покупка жилья для семьи               5   \n",
       "10               покупка недвижимости              11   \n",
       "11  покупка коммерческой недвижимости               2   \n",
       "12                    сыграть свадьбу            1008   \n",
       "13            приобретение автомобиля               5   \n",
       "14         покупка жилой недвижимости               5   \n",
       "\n",
       "                                       lemmed_purpose purpose_cat  \n",
       "0                           [[покупка,  , жилье, \\n]]       house  \n",
       "1                 [[приобретение,  , автомобиль, \\n]]         car  \n",
       "2                           [[покупка,  , жилье, \\n]]       house  \n",
       "3              [[дополнительный,  , образование, \\n]]   education  \n",
       "4                         [[сыграть,  , свадьба, \\n]]     wedding  \n",
       "5                           [[покупка,  , жилье, \\n]]       house  \n",
       "6                    [[операция,  , с,  , жилье, \\n]]       house  \n",
       "7                                 [[образование, \\n]]   education  \n",
       "8               [[на,  , проведение,  , свадьба, \\n]]     wedding  \n",
       "9         [[покупка,  , жилье,  , для,  , семья, \\n]]       house  \n",
       "10                   [[покупка,  , недвижимость, \\n]]       house  \n",
       "11  [[покупка,  , коммерческий,  , недвижимость, \\n]]       house  \n",
       "12                        [[сыграть,  , свадьба, \\n]]     wedding  \n",
       "13                [[приобретение,  , автомобиль, \\n]]         car  \n",
       "14         [[покупка,  , жилой,  , недвижимость, \\n]]       house  "
      ]
     },
     "execution_count": 51,
     "metadata": {},
     "output_type": "execute_result"
    }
   ],
   "source": [
    "data = data.merge(lemmed_purpose, on='purpose', how='left')\n",
    "data.head(15)"
   ]
  },
  {
   "cell_type": "code",
   "execution_count": 52,
   "metadata": {},
   "outputs": [],
   "source": [
    "t_i_33 = data['total_income'].quantile(.33)\n",
    "t_i_66 = data['total_income'].quantile(.66)"
   ]
  },
  {
   "cell_type": "code",
   "execution_count": 53,
   "metadata": {},
   "outputs": [
    {
     "name": "stdout",
     "output_type": "stream",
     "text": [
      "36.0\n",
      "49.0\n"
     ]
    }
   ],
   "source": [
    "print(data['dob_years'].quantile(.33))\n",
    "print(data['dob_years'].quantile(.66))"
   ]
  },
  {
   "cell_type": "code",
   "execution_count": 54,
   "metadata": {},
   "outputs": [],
   "source": [
    "def cat_children(text):\n",
    "    if text == 0:\n",
    "        return 'No kids'\n",
    "    else:\n",
    "        return 'Kids'\n",
    "    \n",
    "def cat_family(text):\n",
    "    if text == \"гражданский брак\" or text == \"женат / замужем\":\n",
    "        return 'Couple'\n",
    "    else:\n",
    "        return 'Single'    \n",
    "    \n",
    "def cat_income(text, t_i_33 = t_i_33, t_i_66=t_i_66):\n",
    "#t_i_33, t_i_66  divide into 3 parts\n",
    "\n",
    "    if t_i_33 > text:\n",
    "        return 'Low'\n",
    "    elif t_i_66 > text:\n",
    "        return 'Middle'\n",
    "    else:\n",
    "        return 'High'\n",
    "    \n",
    "def cat_age(text):\n",
    "\n",
    "    if 30 > text:\n",
    "        return 'Young'\n",
    "    elif 50 > text:\n",
    "        return 'Middle'\n",
    "    elif 60 > text:\n",
    "        return 'Close to retirement'\n",
    "    else:\n",
    "        return 'Retired'"
   ]
  },
  {
   "cell_type": "code",
   "execution_count": 55,
   "metadata": {},
   "outputs": [],
   "source": [
    "data['cat_children'] = data['children'].apply(cat_children)\n"
   ]
  },
  {
   "cell_type": "code",
   "execution_count": 56,
   "metadata": {},
   "outputs": [],
   "source": [
    "data['cat_family'] = data['family_status'].apply(cat_family)\n"
   ]
  },
  {
   "cell_type": "code",
   "execution_count": 57,
   "metadata": {},
   "outputs": [],
   "source": [
    "data['cat_income'] = data['total_income'].apply(cat_income )"
   ]
  },
  {
   "cell_type": "code",
   "execution_count": 58,
   "metadata": {},
   "outputs": [],
   "source": [
    "data['cat_age'] = data['dob_years'].apply(cat_age )"
   ]
  },
  {
   "cell_type": "markdown",
   "metadata": {},
   "source": [
    "**Conclusion**\n",
    "\n",
    "Added all categories that will be used in the analysis."
   ]
  },
  {
   "cell_type": "markdown",
   "metadata": {},
   "source": [
    "## Step 3: Answer the questions"
   ]
  },
  {
   "cell_type": "markdown",
   "metadata": {},
   "source": [
    "### Is there a relationship between having children and repaying the loan on time?"
   ]
  },
  {
   "cell_type": "code",
   "execution_count": 59,
   "metadata": {},
   "outputs": [
    {
     "name": "stdout",
     "output_type": "stream",
     "text": [
      "debt          Paid on time  Delay happened Share of delayed\n",
      "cat_children                                               \n",
      "Kids                  6543             664            9.21%\n",
      "No kids              12958            1058            7.55%\n"
     ]
    }
   ],
   "source": [
    "piv_table = data.pivot_table(values='days_employed', index=['cat_children' ], \n",
    "                             columns=['debt'], aggfunc='count', fill_value=0)\n",
    "piv_table = piv_table.rename(columns={0: \"Paid on time\", 1: \"Delay happened\"})\n",
    "piv_table['Share of delayed'] = piv_table['Delay happened'] / (piv_table['Paid on time'] + piv_table['Delay happened'])\n",
    "piv_table['Share of delayed'] = pd.Series([\"{0:.2f}%\".format(val * 100) for val in piv_table['Share of delayed']], index = piv_table.index)\n",
    "print(piv_table)"
   ]
  },
  {
   "cell_type": "code",
   "execution_count": 60,
   "metadata": {},
   "outputs": [
    {
     "name": "stdout",
     "output_type": "stream",
     "text": [
      "debt      Paid on time  Delay happened Share of delayed\n",
      "children                                               \n",
      "0                12958            1058            7.55%\n",
      "1                 4351             440            9.18%\n",
      "2                 1845             193            9.47%\n",
      "3                  301              27            8.23%\n",
      "4                   37               4            9.76%\n",
      "5                    9               0            0.00%\n"
     ]
    }
   ],
   "source": [
    "piv_table = data.pivot_table(values='days_employed', index=['children'], \n",
    "                             columns=['debt'], aggfunc='count', fill_value=0)\n",
    "piv_table = piv_table.rename(columns={0: \"Paid on time\", 1: \"Delay happened\"})\n",
    "piv_table['Share of delayed'] = piv_table['Delay happened'] / (piv_table['Paid on time'] + piv_table['Delay happened'])\n",
    "piv_table['Share of delayed'] = pd.Series([\"{0:.2f}%\".format(val * 100) for val in piv_table['Share of delayed']], index = piv_table.index)\n",
    "print(piv_table)"
   ]
  },
  {
   "cell_type": "code",
   "execution_count": 61,
   "metadata": {},
   "outputs": [
    {
     "name": "stdout",
     "output_type": "stream",
     "text": [
      "debt                     Paid on time  Delay happened Share of delayed\n",
      "cat_income cat_children                                               \n",
      "High       Kids                  2350             217            8.45%\n",
      "           No kids               4323             326            7.01%\n",
      "Low        Kids                  1980             208            9.51%\n",
      "           No kids               4456             360            7.48%\n",
      "Middle     Kids                  2213             239            9.75%\n",
      "           No kids               4179             372            8.17%\n"
     ]
    }
   ],
   "source": [
    "piv_table = data.pivot_table(values='days_employed', index=[ 'cat_income', 'cat_children'], \n",
    "                             columns=['debt'], aggfunc='count', fill_value=0)\n",
    "piv_table = piv_table.rename(columns={0: \"Paid on time\", 1: \"Delay happened\"})\n",
    "piv_table['Share of delayed'] = piv_table['Delay happened'] / (piv_table['Paid on time'] + piv_table['Delay happened'])\n",
    "piv_table['Share of delayed'] = pd.Series([\"{0:.2f}%\".format(val * 100) for val in piv_table['Share of delayed']], index = piv_table.index)\n",
    "print(piv_table)"
   ]
  },
  {
   "cell_type": "markdown",
   "metadata": {},
   "source": [
    "**Conclusion**\n",
    "\n",
    "Dependence is - the presence of children reduces the chance of repaying the loan on time.\n",
    "The number of children has little effect on the change in the chance of late payments\n",
    "Especially affects people with low income"
   ]
  },
  {
   "cell_type": "markdown",
   "metadata": {},
   "source": [
    "### Is there a relationship between marital status and loan repayment on time?"
   ]
  },
  {
   "cell_type": "code",
   "execution_count": 62,
   "metadata": {},
   "outputs": [
    {
     "name": "stdout",
     "output_type": "stream",
     "text": [
      "debt        Paid on time  Delay happened Share of delayed\n",
      "cat_family                                               \n",
      "Couple             15015            1304            7.99%\n",
      "Single              4486             418            8.52%\n"
     ]
    }
   ],
   "source": [
    "piv_table = data.pivot_table(values='days_employed', index=[ 'cat_family'], \n",
    "                             columns=['debt'], aggfunc='count', fill_value=0)\n",
    "piv_table = piv_table.rename(columns={0: \"Paid on time\", 1: \"Delay happened\"})\n",
    "piv_table['Share of delayed'] = piv_table['Delay happened'] / (piv_table['Paid on time'] + piv_table['Delay happened'])\n",
    "piv_table['Share of delayed'] = pd.Series([\"{0:.2f}%\".format(val * 100) for val in piv_table['Share of delayed']], index = piv_table.index)\n",
    "print(piv_table)"
   ]
  },
  {
   "cell_type": "code",
   "execution_count": 63,
   "metadata": {},
   "outputs": [
    {
     "name": "stdout",
     "output_type": "stream",
     "text": [
      "debt                   Paid on time  Delay happened Share of delayed\n",
      "family_status                                                       \n",
      "в разводе                      1095              84            7.12%\n",
      "вдовец / вдова                  884              62            6.55%\n",
      "гражданский брак               3727             383            9.32%\n",
      "женат / замужем               11288             921            7.54%\n",
      "не женат / не замужем          2507             272            9.79%\n"
     ]
    }
   ],
   "source": [
    "piv_table = data.pivot_table(values='days_employed', index=[ 'family_status'], \n",
    "                             columns=['debt'], aggfunc='count', fill_value=0)\n",
    "piv_table = piv_table.rename(columns={0: \"Paid on time\", 1: \"Delay happened\"})\n",
    "piv_table['Share of delayed'] = piv_table['Delay happened'] / (piv_table['Paid on time'] + piv_table['Delay happened'])\n",
    "piv_table['Share of delayed'] = pd.Series([\"{0:.2f}%\".format(val * 100) for val in piv_table['Share of delayed']], index = piv_table.index)\n",
    "print(piv_table)"
   ]
  },
  {
   "cell_type": "code",
   "execution_count": 64,
   "metadata": {},
   "outputs": [
    {
     "name": "stdout",
     "output_type": "stream",
     "text": [
      "debt                                       Paid on time  Delay happened  \\\n",
      "cat_age             family_status                                         \n",
      "Close to retirement в разводе                       283              19   \n",
      "                    вдовец / вдова                  353              21   \n",
      "                    гражданский брак                734              65   \n",
      "                    женат / замужем                2576             167   \n",
      "                    не женат / не замужем           381              31   \n",
      "Middle              в разводе                       588              40   \n",
      "                    вдовец / вдова                  158              14   \n",
      "                    гражданский брак               2007             230   \n",
      "                    женат / замужем                6154             534   \n",
      "                    не женат / не замужем          1086             129   \n",
      "Retired             в разводе                       144              11   \n",
      "                    вдовец / вдова                  371              27   \n",
      "                    гражданский брак                375              18   \n",
      "                    женат / замужем                1248              58   \n",
      "                    не женат / не замужем           230               9   \n",
      "Young               в разводе                        80              14   \n",
      "                    вдовец / вдова                    2               0   \n",
      "                    гражданский брак                611              70   \n",
      "                    женат / замужем                1310             162   \n",
      "                    не женат / не замужем           810             103   \n",
      "\n",
      "debt                                      Share of delayed  \n",
      "cat_age             family_status                           \n",
      "Close to retirement в разводе                        6.29%  \n",
      "                    вдовец / вдова                   5.61%  \n",
      "                    гражданский брак                 8.14%  \n",
      "                    женат / замужем                  6.09%  \n",
      "                    не женат / не замужем            7.52%  \n",
      "Middle              в разводе                        6.37%  \n",
      "                    вдовец / вдова                   8.14%  \n",
      "                    гражданский брак                10.28%  \n",
      "                    женат / замужем                  7.98%  \n",
      "                    не женат / не замужем           10.62%  \n",
      "Retired             в разводе                        7.10%  \n",
      "                    вдовец / вдова                   6.78%  \n",
      "                    гражданский брак                 4.58%  \n",
      "                    женат / замужем                  4.44%  \n",
      "                    не женат / не замужем            3.77%  \n",
      "Young               в разводе                       14.89%  \n",
      "                    вдовец / вдова                   0.00%  \n",
      "                    гражданский брак                10.28%  \n",
      "                    женат / замужем                 11.01%  \n",
      "                    не женат / не замужем           11.28%  \n",
      "cat_age               Close to retirement  Middle Retired   Young\n",
      "family_status                                                    \n",
      "в разводе                           6.29%   6.37%   7.10%  14.89%\n",
      "вдовец / вдова                      5.61%   8.14%   6.78%   0.00%\n",
      "гражданский брак                    8.14%  10.28%   4.58%  10.28%\n",
      "женат / замужем                     6.09%   7.98%   4.44%  11.01%\n",
      "не женат / не замужем               7.52%  10.62%   3.77%  11.28%\n"
     ]
    }
   ],
   "source": [
    "piv_table = data.pivot_table(values='days_employed', index=['cat_age', 'family_status'], \n",
    "                             columns=['debt'], aggfunc='count', fill_value=0)\n",
    "piv_table = piv_table.rename(columns={0: \"Paid on time\", 1: \"Delay happened\"})\n",
    "piv_table['Share of delayed'] = piv_table['Delay happened'] / (piv_table['Paid on time'] + piv_table['Delay happened'])\n",
    "piv_table['Share of delayed'] = pd.Series([\"{0:.2f}%\".format(val * 100) for val in piv_table['Share of delayed']], index = piv_table.index)\n",
    "print(piv_table)\n",
    "print(piv_table.pivot_table(values='Share of delayed', index=['family_status'], \n",
    "                             columns=['cat_age'], aggfunc='sum', fill_value=0))"
   ]
  },
  {
   "cell_type": "code",
   "execution_count": 65,
   "metadata": {},
   "outputs": [
    {
     "name": "stdout",
     "output_type": "stream",
     "text": [
      "cat_age                Close to retirement  Middle  Retired  Young\n",
      "family_status                                                     \n",
      "в разводе                              302     628      155     94\n",
      "вдовец / вдова                         374     172      398      2\n",
      "гражданский брак                       799    2237      393    681\n",
      "женат / замужем                       2743    6688     1306   1472\n",
      "не женат / не замужем                  412    1215      239    913\n"
     ]
    }
   ],
   "source": [
    "piv_table['Число наблюдений'] = piv_table['Paid on time'] + piv_table['Delay happened']\n",
    "print(piv_table.pivot_table(values='Число наблюдений', index=['family_status'], \n",
    "                             columns=['cat_age'], aggfunc='sum', fill_value=0))"
   ]
  },
  {
   "cell_type": "code",
   "execution_count": 66,
   "metadata": {},
   "outputs": [
    {
     "name": "stdout",
     "output_type": "stream",
     "text": [
      "debt                 Paid on time  Delay happened Share of delayed\n",
      "cat_age                                                           \n",
      "Close to retirement          4327             303            6.54%\n",
      "Middle                       9993             947            8.66%\n",
      "Retired                      2368             123            4.94%\n",
      "Young                        2813             349           11.04%\n"
     ]
    }
   ],
   "source": [
    "piv_table = data.pivot_table(values='days_employed', index=[ 'cat_age'], \n",
    "                             columns=['debt'], aggfunc='count', fill_value=0)\n",
    "piv_table = piv_table.rename(columns={0: \"Paid on time\", 1: \"Delay happened\"})\n",
    "piv_table['Share of delayed'] = piv_table['Delay happened'] / (piv_table['Paid on time'] + piv_table['Delay happened'])\n",
    "piv_table['Share of delayed'] = pd.Series([\"{0:.2f}%\".format(val * 100) for val in piv_table['Share of delayed']], index = piv_table.index)\n",
    "print(piv_table)"
   ]
  },
  {
   "cell_type": "markdown",
   "metadata": {},
   "source": [
    "**Conclusion**\n",
    "\n",
    "The impact of marital status on loan repayment on time has an impact, but this impact is complex.\n",
    "1. Categorization by position (single or in a couple) does not make sense - there is a difference between marriage and living toghether\n",
    "2. In general, an unmarried person, or living in a civil marriage (living together), have a greater risk for delaying payment. BUT!\n",
    "3. The influence of age on the structure of groups is very large, so it is impossible to say for sure\n",
    "4. In the group under 30, the chance of non-payment of a loan is maximum for a divorced person, minimal chance for a civil marriage (living together)\n",
    "5. In the group of 30-50 divorced people, on the contrary, have the minimum risk, while civil marriage + an unmarried person - the maximum risk\n",
    "6. In the pre-retirement age, the risks for unmarried people fall, although they remain risky, while those living in a civil marriage have a maximum risk\n",
    "7. Finally, at retirement age, divorced people again - the maximum risk, and unmarried people - the minimum\n",
    "8. Before using the data, it should be noted that in individual groups, the number of observations does not allow us to assert these conclusions with the necessary confidence."
   ]
  },
  {
   "cell_type": "markdown",
   "metadata": {},
   "source": [
    "### Is there a relationship between the level of income and repayment of the loan on time?"
   ]
  },
  {
   "cell_type": "code",
   "execution_count": 67,
   "metadata": {},
   "outputs": [
    {
     "name": "stdout",
     "output_type": "stream",
     "text": [
      "debt        Paid on time  Delay happened Share of delayed\n",
      "cat_income                                               \n",
      "High                6673             543            7.52%\n",
      "Low                 6436             568            8.11%\n",
      "Middle              6392             611            8.72%\n"
     ]
    }
   ],
   "source": [
    "piv_table = data.pivot_table(values='days_employed', index=[ 'cat_income'], \n",
    "                             columns=['debt'], aggfunc='count', fill_value=0)\n",
    "piv_table = piv_table.rename(columns={0: \"Paid on time\", 1: \"Delay happened\"})\n",
    "piv_table['Share of delayed'] = piv_table['Delay happened'] / (piv_table['Paid on time'] + piv_table['Delay happened'])\n",
    "piv_table['Share of delayed'] = pd.Series([\"{0:.2f}%\".format(val * 100) for val in piv_table['Share of delayed']], index = piv_table.index)\n",
    "print(piv_table)"
   ]
  },
  {
   "cell_type": "code",
   "execution_count": 68,
   "metadata": {},
   "outputs": [
    {
     "name": "stdout",
     "output_type": "stream",
     "text": [
      "debt                    Paid on time  Delay happened Share of delayed\n",
      "purpose_cat cat_income                                               \n",
      "car         High                1310             126            8.77%\n",
      "            Low                 1269             128            9.16%\n",
      "            Middle              1282             142            9.97%\n",
      "education   High                1193             110            8.44%\n",
      "            Low                 1189             130            9.86%\n",
      "            Middle              1219             129            9.57%\n",
      "house       High                3440             259            7.00%\n",
      "            Low                 3259             239            6.83%\n",
      "            Middle              3223             278            7.94%\n",
      "wedding     High                 730              48            6.17%\n",
      "            Low                  719              71            8.99%\n",
      "            Middle               668              62            8.49%\n"
     ]
    }
   ],
   "source": [
    "piv_table = data.pivot_table(values='days_employed', index=['purpose_cat', 'cat_income'], \n",
    "                             columns=['debt'], aggfunc='count', fill_value=0)\n",
    "piv_table = piv_table.rename(columns={0: \"Paid on time\", 1: \"Delay happened\"})\n",
    "piv_table['Share of delayed'] = piv_table['Delay happened'] / (piv_table['Paid on time'] + piv_table['Delay happened'])\n",
    "piv_table['Share of delayed'] = pd.Series([\"{0:.2f}%\".format(val * 100) for val in piv_table['Share of delayed']], index = piv_table.index)\n",
    "print(piv_table)"
   ]
  },
  {
   "cell_type": "code",
   "execution_count": 69,
   "metadata": {},
   "outputs": [
    {
     "name": "stdout",
     "output_type": "stream",
     "text": [
      "debt                            Paid on time  Delay happened Share of delayed\n",
      "education           cat_income                                               \n",
      "высшее              High                2368             126            5.05%\n",
      "                    Low                 1001              56            5.30%\n",
      "                    Middle              1542              95            5.80%\n",
      "начальное           High                  57               7           10.94%\n",
      "                    Low                  126              12            8.70%\n",
      "                    Middle                68              12           15.00%\n",
      "неоконченное высшее High                 255              38           12.97%\n",
      "                    Low                  175              17            8.85%\n",
      "                    Middle               240              13            5.14%\n",
      "среднее             High                3990             372            8.53%\n",
      "                    Low                 5131             483            8.60%\n",
      "                    Middle              4542             491            9.76%\n",
      "ученая степень      High                   3               0            0.00%\n",
      "                    Low                    3               0            0.00%\n"
     ]
    }
   ],
   "source": [
    "piv_table = data.pivot_table(values='days_employed', index=['education', 'cat_income'], \n",
    "                             columns=['debt'], aggfunc='count', fill_value=0)\n",
    "piv_table = piv_table.rename(columns={0: \"Paid on time\", 1: \"Delay happened\"})\n",
    "piv_table['Share of delayed'] = piv_table['Delay happened'] / (piv_table['Paid on time'] + piv_table['Delay happened'])\n",
    "piv_table['Share of delayed'] = pd.Series([\"{0:.2f}%\".format(val * 100) for val in piv_table['Share of delayed']], index = piv_table.index)\n",
    "print(piv_table)"
   ]
  },
  {
   "cell_type": "code",
   "execution_count": 70,
   "metadata": {},
   "outputs": [
    {
     "name": "stdout",
     "output_type": "stream",
     "text": [
      "debt                    Paid on time  Delay happened Share of delayed\n",
      "income_type cat_income                                               \n",
      "госслужащий High                 480              27            5.33%\n",
      "            Low                  415              32            7.16%\n",
      "            Middle               464              27            5.50%\n",
      "компаньон   High                2364             179            7.04%\n",
      "            Low                  928              86            8.48%\n",
      "            Middle              1361             108            7.35%\n",
      "пенсионер   High                 763              50            6.15%\n",
      "            Low                 1843             105            5.39%\n",
      "            Middle               970              60            5.83%\n",
      "сотрудник   High                3066             287            8.56%\n",
      "            Low                 3250             345            9.60%\n",
      "            Middle              3597             416           10.37%\n"
     ]
    }
   ],
   "source": [
    "piv_table = data.pivot_table(values='days_employed', index=['income_type', 'cat_income'], \n",
    "                             columns=['debt'], aggfunc='count', fill_value=0)\n",
    "piv_table = piv_table.rename(columns={0: \"Paid on time\", 1: \"Delay happened\"})\n",
    "piv_table['Share of delayed'] = piv_table['Delay happened'] / (piv_table['Paid on time'] + piv_table['Delay happened'])\n",
    "piv_table['Share of delayed'] = pd.Series([\"{0:.2f}%\".format(val * 100) for val in piv_table['Share of delayed']], index = piv_table.index)\n",
    "print(piv_table)"
   ]
  },
  {
   "cell_type": "markdown",
   "metadata": {},
   "source": [
    "**Conclusion**\n",
    "\n",
    "1 The level of income affects loan repayment. Being in the top third in terms of income reduces the chance of non-payment\n",
    "\n",
    "2 With medium and low incomes - the chances of non-payment increase, while for medium incomes - the chance is slightly higher.\n",
    "\n",
    "3 The reasons for taking out a loan do not change this situation much, although there are slight variations.\n",
    "\n",
    "4 The main feature is the high probability of non-payment for people with high incomes if they have incomplete higher education. \n",
    "*Why?* Maybe the lack of a full higher education means that this high-income earners have this income in a mmore unstable job?\n",
    "\n",
    "5 The source of income also affects the likelihood of repaying a loan on time for people with different income levels. Among retirees High income levels may have a greater risk of dalying payments"
   ]
  },
  {
   "cell_type": "markdown",
   "metadata": {},
   "source": [
    "### How do different purposes of the loan affect its repayment on time?"
   ]
  },
  {
   "cell_type": "code",
   "execution_count": 71,
   "metadata": {},
   "outputs": [
    {
     "name": "stdout",
     "output_type": "stream",
     "text": [
      "debt         Paid on time  Delay happened Share of delayed\n",
      "purpose_cat                                               \n",
      "car                  3861             396            9.30%\n",
      "education            3601             369            9.29%\n",
      "house                9922             776            7.25%\n",
      "wedding              2117             181            7.88%\n"
     ]
    }
   ],
   "source": [
    "piv_table = data.pivot_table(values='days_employed', index=[ 'purpose_cat'], \n",
    "                             columns=['debt'], aggfunc='count', fill_value=0)\n",
    "piv_table = piv_table.rename(columns={0: \"Paid on time\", 1: \"Delay happened\"})\n",
    "piv_table['Share of delayed'] = piv_table['Delay happened'] / (piv_table['Paid on time'] + piv_table['Delay happened'])\n",
    "piv_table['Share of delayed'] = pd.Series([\"{0:.2f}%\".format(val * 100) for val in piv_table['Share of delayed']], index = piv_table.index)\n",
    "print(piv_table)"
   ]
  },
  {
   "cell_type": "code",
   "execution_count": 72,
   "metadata": {},
   "outputs": [
    {
     "name": "stdout",
     "output_type": "stream",
     "text": [
      "debt                      Paid on time  Delay happened Share of delayed\n",
      "cat_children purpose_cat                                               \n",
      "Kids         car                  1271             154           10.81%\n",
      "             education            1203             140           10.42%\n",
      "             house                3357             302            8.25%\n",
      "             wedding               712              68            8.72%\n",
      "No kids      car                  2590             242            8.55%\n",
      "             education            2398             229            8.72%\n",
      "             house                6565             474            6.73%\n",
      "             wedding              1405             113            7.44%\n"
     ]
    }
   ],
   "source": [
    "piv_table = data.pivot_table(values='days_employed', index=[  'cat_children', 'purpose_cat'], \n",
    "                             columns=['debt'], aggfunc='count', fill_value=0)\n",
    "piv_table = piv_table.rename(columns={0: \"Paid on time\", 1: \"Delay happened\"})\n",
    "piv_table['Share of delayed'] = piv_table['Delay happened'] / (piv_table['Paid on time'] + piv_table['Delay happened'])\n",
    "piv_table['Share of delayed'] = pd.Series([\"{0:.2f}%\".format(val * 100) for val in piv_table['Share of delayed']], index = piv_table.index)\n",
    "print(piv_table)"
   ]
  },
  {
   "cell_type": "markdown",
   "metadata": {},
   "source": [
    "**Conclusion**\n",
    "\n",
    "Housing and, to a lesser extent, wedding loans are the least risky categories of borrowers."
   ]
  },
  {
   "cell_type": "markdown",
   "metadata": {},
   "source": [
    "## Step 4. Final conclusion"
   ]
  },
  {
   "cell_type": "markdown",
   "metadata": {},
   "source": [
    "* Loan data was analyzed.\n",
    "\n",
    "* 302 observations were excluded due to incorrect data or duplication of lines.\n",
    "Among the incorrect data, the largest exception is 0 age (100 observations)\n",
    "\n",
    "* Lemmatization identified 4 main reasons to take a loan\n",
    "\n",
    "* All proposed classifiers were found to be important, with the exception of classifying marital status by type of residence (single or couple)\n",
    "\n",
    "* The analysis of the results showed the influence of all the proposed parameters, and also found additional 3 - age and education and source of income.\n",
    "\n",
    "* Age seriously changes the impact of family status - without taking into account age, this indicator will not correctly assess the chances. Especially for the young borrowers\n",
    "\n",
    "* The influence of education was tested with only 1 factor - the amount of income, which revealed a strange pattern among people with high income and incomplete higher education. Perhaps the lack of a full high education makes such high-paying jobs less stable.\n",
    "\n",
    "The source of income has such an influence on the income level - among retirees, a higher income level may have a greater risk of repaying a loan on time. A possible explanation is that among this group there are many retirees who, when receiving a loan, thought they will pay it using additional income from work, but then left it due to retirement?"
   ]
  }
 ],
 "metadata": {
  "kernelspec": {
   "display_name": "Python 3.8.8 ('base')",
   "language": "python",
   "name": "python3"
  },
  "language_info": {
   "codemirror_mode": {
    "name": "ipython",
    "version": 3
   },
   "file_extension": ".py",
   "mimetype": "text/x-python",
   "name": "python",
   "nbconvert_exporter": "python",
   "pygments_lexer": "ipython3",
   "version": "3.8.8"
  },
  "orig_nbformat": 4,
  "vscode": {
   "interpreter": {
    "hash": "b7d258fa581379cc616dd21d18b044438587cad8c2fc6656384f324d1def7e8d"
   }
  }
 },
 "nbformat": 4,
 "nbformat_minor": 2
}
