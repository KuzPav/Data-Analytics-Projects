{
 "cells": [
  {
   "cell_type": "markdown",
   "id": "31360be4",
   "metadata": {},
   "source": [
    "# Preparations and Initial assessment"
   ]
  },
  {
   "cell_type": "markdown",
   "id": "86e230f6",
   "metadata": {},
   "source": [
    "## Uploading data"
   ]
  },
  {
   "cell_type": "code",
   "execution_count": 1,
   "id": "659574a3",
   "metadata": {},
   "outputs": [],
   "source": [
    "import warnings\n",
    "warnings.simplefilter(action='ignore', category=Warning)\n",
    "import pandas as pd\n",
    "from sklearn.preprocessing import OrdinalEncoder\n",
    "import numpy as np\n",
    "from sklearn.model_selection import train_test_split\n",
    "from sklearn.tree import DecisionTreeClassifier\n",
    "from sklearn.ensemble import RandomForestClassifier\n",
    "from sklearn.linear_model import LogisticRegression\n",
    "from sklearn.metrics import accuracy_score\n",
    "from sklearn.metrics  import f1_score\n",
    "from sklearn.metrics import recall_score \n",
    "from sklearn.metrics import precision_score\n",
    "from sklearn.model_selection import GridSearchCV\n",
    "from sklearn.utils import resample\n",
    "from sklearn.metrics  import f1_score\n",
    "from sklearn.metrics import roc_curve \n",
    "from sklearn.metrics import roc_auc_score\n",
    "import matplotlib.pyplot as plt\n",
    "from xgboost import XGBClassifier\n",
    "from xgboost import plot_importance\n",
    "pd.set_option(\"display.max_columns\", None)\n"
   ]
  },
  {
   "cell_type": "markdown",
   "id": "bf82d15f",
   "metadata": {},
   "source": [
    "Stub variables:"
   ]
  },
  {
   "cell_type": "code",
   "execution_count": 2,
   "id": "4eebc2a5",
   "metadata": {},
   "outputs": [],
   "source": [
    "CURRENT_YEAR = 2020\n",
    "CURRENT_MONTH = 2"
   ]
  },
  {
   "cell_type": "code",
   "execution_count": 3,
   "id": "27e7e10a",
   "metadata": {},
   "outputs": [],
   "source": [
    "contract = pd.read_csv(\"datasets/contract.csv\")\n",
    "internet = pd.read_csv(\"datasets/internet.csv\")\n",
    "personal = pd.read_csv(\"datasets/personal.csv\")\n",
    "phone = pd.read_csv(\"datasets/phone.csv\")"
   ]
  },
  {
   "cell_type": "code",
   "execution_count": 4,
   "id": "795f01db",
   "metadata": {},
   "outputs": [
    {
     "data": {
      "text/html": [
       "<div>\n",
       "<style scoped>\n",
       "    .dataframe tbody tr th:only-of-type {\n",
       "        vertical-align: middle;\n",
       "    }\n",
       "\n",
       "    .dataframe tbody tr th {\n",
       "        vertical-align: top;\n",
       "    }\n",
       "\n",
       "    .dataframe thead th {\n",
       "        text-align: right;\n",
       "    }\n",
       "</style>\n",
       "<table border=\"1\" class=\"dataframe\">\n",
       "  <thead>\n",
       "    <tr style=\"text-align: right;\">\n",
       "      <th></th>\n",
       "      <th>customerID</th>\n",
       "      <th>BeginDate</th>\n",
       "      <th>EndDate</th>\n",
       "      <th>Type</th>\n",
       "      <th>PaperlessBilling</th>\n",
       "      <th>PaymentMethod</th>\n",
       "      <th>MonthlyCharges</th>\n",
       "      <th>TotalCharges</th>\n",
       "    </tr>\n",
       "  </thead>\n",
       "  <tbody>\n",
       "    <tr>\n",
       "      <th>0</th>\n",
       "      <td>7590-VHVEG</td>\n",
       "      <td>2020-01-01</td>\n",
       "      <td>No</td>\n",
       "      <td>Month-to-month</td>\n",
       "      <td>Yes</td>\n",
       "      <td>Electronic check</td>\n",
       "      <td>29.85</td>\n",
       "      <td>29.85</td>\n",
       "    </tr>\n",
       "    <tr>\n",
       "      <th>1</th>\n",
       "      <td>5575-GNVDE</td>\n",
       "      <td>2017-04-01</td>\n",
       "      <td>No</td>\n",
       "      <td>One year</td>\n",
       "      <td>No</td>\n",
       "      <td>Mailed check</td>\n",
       "      <td>56.95</td>\n",
       "      <td>1889.5</td>\n",
       "    </tr>\n",
       "    <tr>\n",
       "      <th>2</th>\n",
       "      <td>3668-QPYBK</td>\n",
       "      <td>2019-10-01</td>\n",
       "      <td>2019-12-01 00:00:00</td>\n",
       "      <td>Month-to-month</td>\n",
       "      <td>Yes</td>\n",
       "      <td>Mailed check</td>\n",
       "      <td>53.85</td>\n",
       "      <td>108.15</td>\n",
       "    </tr>\n",
       "    <tr>\n",
       "      <th>3</th>\n",
       "      <td>7795-CFOCW</td>\n",
       "      <td>2016-05-01</td>\n",
       "      <td>No</td>\n",
       "      <td>One year</td>\n",
       "      <td>No</td>\n",
       "      <td>Bank transfer (automatic)</td>\n",
       "      <td>42.30</td>\n",
       "      <td>1840.75</td>\n",
       "    </tr>\n",
       "    <tr>\n",
       "      <th>4</th>\n",
       "      <td>9237-HQITU</td>\n",
       "      <td>2019-09-01</td>\n",
       "      <td>2019-11-01 00:00:00</td>\n",
       "      <td>Month-to-month</td>\n",
       "      <td>Yes</td>\n",
       "      <td>Electronic check</td>\n",
       "      <td>70.70</td>\n",
       "      <td>151.65</td>\n",
       "    </tr>\n",
       "    <tr>\n",
       "      <th>...</th>\n",
       "      <td>...</td>\n",
       "      <td>...</td>\n",
       "      <td>...</td>\n",
       "      <td>...</td>\n",
       "      <td>...</td>\n",
       "      <td>...</td>\n",
       "      <td>...</td>\n",
       "      <td>...</td>\n",
       "    </tr>\n",
       "    <tr>\n",
       "      <th>7038</th>\n",
       "      <td>6840-RESVB</td>\n",
       "      <td>2018-02-01</td>\n",
       "      <td>No</td>\n",
       "      <td>One year</td>\n",
       "      <td>Yes</td>\n",
       "      <td>Mailed check</td>\n",
       "      <td>84.80</td>\n",
       "      <td>1990.5</td>\n",
       "    </tr>\n",
       "    <tr>\n",
       "      <th>7039</th>\n",
       "      <td>2234-XADUH</td>\n",
       "      <td>2014-02-01</td>\n",
       "      <td>No</td>\n",
       "      <td>One year</td>\n",
       "      <td>Yes</td>\n",
       "      <td>Credit card (automatic)</td>\n",
       "      <td>103.20</td>\n",
       "      <td>7362.9</td>\n",
       "    </tr>\n",
       "    <tr>\n",
       "      <th>7040</th>\n",
       "      <td>4801-JZAZL</td>\n",
       "      <td>2019-03-01</td>\n",
       "      <td>No</td>\n",
       "      <td>Month-to-month</td>\n",
       "      <td>Yes</td>\n",
       "      <td>Electronic check</td>\n",
       "      <td>29.60</td>\n",
       "      <td>346.45</td>\n",
       "    </tr>\n",
       "    <tr>\n",
       "      <th>7041</th>\n",
       "      <td>8361-LTMKD</td>\n",
       "      <td>2019-07-01</td>\n",
       "      <td>2019-11-01 00:00:00</td>\n",
       "      <td>Month-to-month</td>\n",
       "      <td>Yes</td>\n",
       "      <td>Mailed check</td>\n",
       "      <td>74.40</td>\n",
       "      <td>306.6</td>\n",
       "    </tr>\n",
       "    <tr>\n",
       "      <th>7042</th>\n",
       "      <td>3186-AJIEK</td>\n",
       "      <td>2014-08-01</td>\n",
       "      <td>No</td>\n",
       "      <td>Two year</td>\n",
       "      <td>Yes</td>\n",
       "      <td>Bank transfer (automatic)</td>\n",
       "      <td>105.65</td>\n",
       "      <td>6844.5</td>\n",
       "    </tr>\n",
       "  </tbody>\n",
       "</table>\n",
       "<p>7043 rows × 8 columns</p>\n",
       "</div>"
      ],
      "text/plain": [
       "      customerID   BeginDate              EndDate            Type  \\\n",
       "0     7590-VHVEG  2020-01-01                   No  Month-to-month   \n",
       "1     5575-GNVDE  2017-04-01                   No        One year   \n",
       "2     3668-QPYBK  2019-10-01  2019-12-01 00:00:00  Month-to-month   \n",
       "3     7795-CFOCW  2016-05-01                   No        One year   \n",
       "4     9237-HQITU  2019-09-01  2019-11-01 00:00:00  Month-to-month   \n",
       "...          ...         ...                  ...             ...   \n",
       "7038  6840-RESVB  2018-02-01                   No        One year   \n",
       "7039  2234-XADUH  2014-02-01                   No        One year   \n",
       "7040  4801-JZAZL  2019-03-01                   No  Month-to-month   \n",
       "7041  8361-LTMKD  2019-07-01  2019-11-01 00:00:00  Month-to-month   \n",
       "7042  3186-AJIEK  2014-08-01                   No        Two year   \n",
       "\n",
       "     PaperlessBilling              PaymentMethod  MonthlyCharges TotalCharges  \n",
       "0                 Yes           Electronic check           29.85        29.85  \n",
       "1                  No               Mailed check           56.95       1889.5  \n",
       "2                 Yes               Mailed check           53.85       108.15  \n",
       "3                  No  Bank transfer (automatic)           42.30      1840.75  \n",
       "4                 Yes           Electronic check           70.70       151.65  \n",
       "...               ...                        ...             ...          ...  \n",
       "7038              Yes               Mailed check           84.80       1990.5  \n",
       "7039              Yes    Credit card (automatic)          103.20       7362.9  \n",
       "7040              Yes           Electronic check           29.60       346.45  \n",
       "7041              Yes               Mailed check           74.40        306.6  \n",
       "7042              Yes  Bank transfer (automatic)          105.65       6844.5  \n",
       "\n",
       "[7043 rows x 8 columns]"
      ]
     },
     "execution_count": 4,
     "metadata": {},
     "output_type": "execute_result"
    }
   ],
   "source": [
    "contract"
   ]
  },
  {
   "cell_type": "code",
   "execution_count": 5,
   "id": "4eb9beee",
   "metadata": {
    "scrolled": true
   },
   "outputs": [
    {
     "name": "stdout",
     "output_type": "stream",
     "text": [
      "<class 'pandas.core.frame.DataFrame'>\n",
      "RangeIndex: 7043 entries, 0 to 7042\n",
      "Data columns (total 8 columns):\n",
      " #   Column            Non-Null Count  Dtype  \n",
      "---  ------            --------------  -----  \n",
      " 0   customerID        7043 non-null   object \n",
      " 1   BeginDate         7043 non-null   object \n",
      " 2   EndDate           7043 non-null   object \n",
      " 3   Type              7043 non-null   object \n",
      " 4   PaperlessBilling  7043 non-null   object \n",
      " 5   PaymentMethod     7043 non-null   object \n",
      " 6   MonthlyCharges    7043 non-null   float64\n",
      " 7   TotalCharges      7043 non-null   object \n",
      "dtypes: float64(1), object(7)\n",
      "memory usage: 440.3+ KB\n"
     ]
    }
   ],
   "source": [
    "contract.info()"
   ]
  },
  {
   "cell_type": "markdown",
   "id": "21a763db",
   "metadata": {},
   "source": [
    "1. Contract -  Data in wrong types:\n",
    "    + BeginDate + EndDate - covert to date format\n",
    "    + Type divide using ОНЕ\n",
    "    + PaperlessBilling - to 0/1\n",
    "    + PaymentMethod (check how many and then probably ОНЕ)\n",
    "    + TotalCharges check and convert to float\n",
    "    "
   ]
  },
  {
   "cell_type": "code",
   "execution_count": 6,
   "id": "54afebae",
   "metadata": {
    "scrolled": true
   },
   "outputs": [
    {
     "data": {
      "text/html": [
       "<div>\n",
       "<style scoped>\n",
       "    .dataframe tbody tr th:only-of-type {\n",
       "        vertical-align: middle;\n",
       "    }\n",
       "\n",
       "    .dataframe tbody tr th {\n",
       "        vertical-align: top;\n",
       "    }\n",
       "\n",
       "    .dataframe thead th {\n",
       "        text-align: right;\n",
       "    }\n",
       "</style>\n",
       "<table border=\"1\" class=\"dataframe\">\n",
       "  <thead>\n",
       "    <tr style=\"text-align: right;\">\n",
       "      <th></th>\n",
       "      <th>customerID</th>\n",
       "      <th>InternetService</th>\n",
       "      <th>OnlineSecurity</th>\n",
       "      <th>OnlineBackup</th>\n",
       "      <th>DeviceProtection</th>\n",
       "      <th>TechSupport</th>\n",
       "      <th>StreamingTV</th>\n",
       "      <th>StreamingMovies</th>\n",
       "    </tr>\n",
       "  </thead>\n",
       "  <tbody>\n",
       "    <tr>\n",
       "      <th>0</th>\n",
       "      <td>7590-VHVEG</td>\n",
       "      <td>DSL</td>\n",
       "      <td>No</td>\n",
       "      <td>Yes</td>\n",
       "      <td>No</td>\n",
       "      <td>No</td>\n",
       "      <td>No</td>\n",
       "      <td>No</td>\n",
       "    </tr>\n",
       "    <tr>\n",
       "      <th>1</th>\n",
       "      <td>5575-GNVDE</td>\n",
       "      <td>DSL</td>\n",
       "      <td>Yes</td>\n",
       "      <td>No</td>\n",
       "      <td>Yes</td>\n",
       "      <td>No</td>\n",
       "      <td>No</td>\n",
       "      <td>No</td>\n",
       "    </tr>\n",
       "    <tr>\n",
       "      <th>2</th>\n",
       "      <td>3668-QPYBK</td>\n",
       "      <td>DSL</td>\n",
       "      <td>Yes</td>\n",
       "      <td>Yes</td>\n",
       "      <td>No</td>\n",
       "      <td>No</td>\n",
       "      <td>No</td>\n",
       "      <td>No</td>\n",
       "    </tr>\n",
       "    <tr>\n",
       "      <th>3</th>\n",
       "      <td>7795-CFOCW</td>\n",
       "      <td>DSL</td>\n",
       "      <td>Yes</td>\n",
       "      <td>No</td>\n",
       "      <td>Yes</td>\n",
       "      <td>Yes</td>\n",
       "      <td>No</td>\n",
       "      <td>No</td>\n",
       "    </tr>\n",
       "    <tr>\n",
       "      <th>4</th>\n",
       "      <td>9237-HQITU</td>\n",
       "      <td>Fiber optic</td>\n",
       "      <td>No</td>\n",
       "      <td>No</td>\n",
       "      <td>No</td>\n",
       "      <td>No</td>\n",
       "      <td>No</td>\n",
       "      <td>No</td>\n",
       "    </tr>\n",
       "    <tr>\n",
       "      <th>...</th>\n",
       "      <td>...</td>\n",
       "      <td>...</td>\n",
       "      <td>...</td>\n",
       "      <td>...</td>\n",
       "      <td>...</td>\n",
       "      <td>...</td>\n",
       "      <td>...</td>\n",
       "      <td>...</td>\n",
       "    </tr>\n",
       "    <tr>\n",
       "      <th>5512</th>\n",
       "      <td>6840-RESVB</td>\n",
       "      <td>DSL</td>\n",
       "      <td>Yes</td>\n",
       "      <td>No</td>\n",
       "      <td>Yes</td>\n",
       "      <td>Yes</td>\n",
       "      <td>Yes</td>\n",
       "      <td>Yes</td>\n",
       "    </tr>\n",
       "    <tr>\n",
       "      <th>5513</th>\n",
       "      <td>2234-XADUH</td>\n",
       "      <td>Fiber optic</td>\n",
       "      <td>No</td>\n",
       "      <td>Yes</td>\n",
       "      <td>Yes</td>\n",
       "      <td>No</td>\n",
       "      <td>Yes</td>\n",
       "      <td>Yes</td>\n",
       "    </tr>\n",
       "    <tr>\n",
       "      <th>5514</th>\n",
       "      <td>4801-JZAZL</td>\n",
       "      <td>DSL</td>\n",
       "      <td>Yes</td>\n",
       "      <td>No</td>\n",
       "      <td>No</td>\n",
       "      <td>No</td>\n",
       "      <td>No</td>\n",
       "      <td>No</td>\n",
       "    </tr>\n",
       "    <tr>\n",
       "      <th>5515</th>\n",
       "      <td>8361-LTMKD</td>\n",
       "      <td>Fiber optic</td>\n",
       "      <td>No</td>\n",
       "      <td>No</td>\n",
       "      <td>No</td>\n",
       "      <td>No</td>\n",
       "      <td>No</td>\n",
       "      <td>No</td>\n",
       "    </tr>\n",
       "    <tr>\n",
       "      <th>5516</th>\n",
       "      <td>3186-AJIEK</td>\n",
       "      <td>Fiber optic</td>\n",
       "      <td>Yes</td>\n",
       "      <td>No</td>\n",
       "      <td>Yes</td>\n",
       "      <td>Yes</td>\n",
       "      <td>Yes</td>\n",
       "      <td>Yes</td>\n",
       "    </tr>\n",
       "  </tbody>\n",
       "</table>\n",
       "<p>5517 rows × 8 columns</p>\n",
       "</div>"
      ],
      "text/plain": [
       "      customerID InternetService OnlineSecurity OnlineBackup DeviceProtection  \\\n",
       "0     7590-VHVEG             DSL             No          Yes               No   \n",
       "1     5575-GNVDE             DSL            Yes           No              Yes   \n",
       "2     3668-QPYBK             DSL            Yes          Yes               No   \n",
       "3     7795-CFOCW             DSL            Yes           No              Yes   \n",
       "4     9237-HQITU     Fiber optic             No           No               No   \n",
       "...          ...             ...            ...          ...              ...   \n",
       "5512  6840-RESVB             DSL            Yes           No              Yes   \n",
       "5513  2234-XADUH     Fiber optic             No          Yes              Yes   \n",
       "5514  4801-JZAZL             DSL            Yes           No               No   \n",
       "5515  8361-LTMKD     Fiber optic             No           No               No   \n",
       "5516  3186-AJIEK     Fiber optic            Yes           No              Yes   \n",
       "\n",
       "     TechSupport StreamingTV StreamingMovies  \n",
       "0             No          No              No  \n",
       "1             No          No              No  \n",
       "2             No          No              No  \n",
       "3            Yes          No              No  \n",
       "4             No          No              No  \n",
       "...          ...         ...             ...  \n",
       "5512         Yes         Yes             Yes  \n",
       "5513          No         Yes             Yes  \n",
       "5514          No          No              No  \n",
       "5515          No          No              No  \n",
       "5516         Yes         Yes             Yes  \n",
       "\n",
       "[5517 rows x 8 columns]"
      ]
     },
     "execution_count": 6,
     "metadata": {},
     "output_type": "execute_result"
    }
   ],
   "source": [
    "internet"
   ]
  },
  {
   "cell_type": "code",
   "execution_count": 7,
   "id": "5f689e6f",
   "metadata": {
    "scrolled": true
   },
   "outputs": [
    {
     "name": "stdout",
     "output_type": "stream",
     "text": [
      "<class 'pandas.core.frame.DataFrame'>\n",
      "RangeIndex: 5517 entries, 0 to 5516\n",
      "Data columns (total 8 columns):\n",
      " #   Column            Non-Null Count  Dtype \n",
      "---  ------            --------------  ----- \n",
      " 0   customerID        5517 non-null   object\n",
      " 1   InternetService   5517 non-null   object\n",
      " 2   OnlineSecurity    5517 non-null   object\n",
      " 3   OnlineBackup      5517 non-null   object\n",
      " 4   DeviceProtection  5517 non-null   object\n",
      " 5   TechSupport       5517 non-null   object\n",
      " 6   StreamingTV       5517 non-null   object\n",
      " 7   StreamingMovies   5517 non-null   object\n",
      "dtypes: object(8)\n",
      "memory usage: 344.9+ KB\n"
     ]
    }
   ],
   "source": [
    "internet.info()"
   ]
  },
  {
   "cell_type": "markdown",
   "id": "d1d2aac5",
   "metadata": {},
   "source": [
    "2. Internet -  Change all tomost all to dummy variable except for maybe InternetService (check how many)"
   ]
  },
  {
   "cell_type": "code",
   "execution_count": 8,
   "id": "05fd20b2",
   "metadata": {},
   "outputs": [
    {
     "data": {
      "text/html": [
       "<div>\n",
       "<style scoped>\n",
       "    .dataframe tbody tr th:only-of-type {\n",
       "        vertical-align: middle;\n",
       "    }\n",
       "\n",
       "    .dataframe tbody tr th {\n",
       "        vertical-align: top;\n",
       "    }\n",
       "\n",
       "    .dataframe thead th {\n",
       "        text-align: right;\n",
       "    }\n",
       "</style>\n",
       "<table border=\"1\" class=\"dataframe\">\n",
       "  <thead>\n",
       "    <tr style=\"text-align: right;\">\n",
       "      <th></th>\n",
       "      <th>customerID</th>\n",
       "      <th>gender</th>\n",
       "      <th>SeniorCitizen</th>\n",
       "      <th>Partner</th>\n",
       "      <th>Dependents</th>\n",
       "    </tr>\n",
       "  </thead>\n",
       "  <tbody>\n",
       "    <tr>\n",
       "      <th>0</th>\n",
       "      <td>7590-VHVEG</td>\n",
       "      <td>Female</td>\n",
       "      <td>0</td>\n",
       "      <td>Yes</td>\n",
       "      <td>No</td>\n",
       "    </tr>\n",
       "    <tr>\n",
       "      <th>1</th>\n",
       "      <td>5575-GNVDE</td>\n",
       "      <td>Male</td>\n",
       "      <td>0</td>\n",
       "      <td>No</td>\n",
       "      <td>No</td>\n",
       "    </tr>\n",
       "    <tr>\n",
       "      <th>2</th>\n",
       "      <td>3668-QPYBK</td>\n",
       "      <td>Male</td>\n",
       "      <td>0</td>\n",
       "      <td>No</td>\n",
       "      <td>No</td>\n",
       "    </tr>\n",
       "    <tr>\n",
       "      <th>3</th>\n",
       "      <td>7795-CFOCW</td>\n",
       "      <td>Male</td>\n",
       "      <td>0</td>\n",
       "      <td>No</td>\n",
       "      <td>No</td>\n",
       "    </tr>\n",
       "    <tr>\n",
       "      <th>4</th>\n",
       "      <td>9237-HQITU</td>\n",
       "      <td>Female</td>\n",
       "      <td>0</td>\n",
       "      <td>No</td>\n",
       "      <td>No</td>\n",
       "    </tr>\n",
       "    <tr>\n",
       "      <th>...</th>\n",
       "      <td>...</td>\n",
       "      <td>...</td>\n",
       "      <td>...</td>\n",
       "      <td>...</td>\n",
       "      <td>...</td>\n",
       "    </tr>\n",
       "    <tr>\n",
       "      <th>7038</th>\n",
       "      <td>6840-RESVB</td>\n",
       "      <td>Male</td>\n",
       "      <td>0</td>\n",
       "      <td>Yes</td>\n",
       "      <td>Yes</td>\n",
       "    </tr>\n",
       "    <tr>\n",
       "      <th>7039</th>\n",
       "      <td>2234-XADUH</td>\n",
       "      <td>Female</td>\n",
       "      <td>0</td>\n",
       "      <td>Yes</td>\n",
       "      <td>Yes</td>\n",
       "    </tr>\n",
       "    <tr>\n",
       "      <th>7040</th>\n",
       "      <td>4801-JZAZL</td>\n",
       "      <td>Female</td>\n",
       "      <td>0</td>\n",
       "      <td>Yes</td>\n",
       "      <td>Yes</td>\n",
       "    </tr>\n",
       "    <tr>\n",
       "      <th>7041</th>\n",
       "      <td>8361-LTMKD</td>\n",
       "      <td>Male</td>\n",
       "      <td>1</td>\n",
       "      <td>Yes</td>\n",
       "      <td>No</td>\n",
       "    </tr>\n",
       "    <tr>\n",
       "      <th>7042</th>\n",
       "      <td>3186-AJIEK</td>\n",
       "      <td>Male</td>\n",
       "      <td>0</td>\n",
       "      <td>No</td>\n",
       "      <td>No</td>\n",
       "    </tr>\n",
       "  </tbody>\n",
       "</table>\n",
       "<p>7043 rows × 5 columns</p>\n",
       "</div>"
      ],
      "text/plain": [
       "      customerID  gender  SeniorCitizen Partner Dependents\n",
       "0     7590-VHVEG  Female              0     Yes         No\n",
       "1     5575-GNVDE    Male              0      No         No\n",
       "2     3668-QPYBK    Male              0      No         No\n",
       "3     7795-CFOCW    Male              0      No         No\n",
       "4     9237-HQITU  Female              0      No         No\n",
       "...          ...     ...            ...     ...        ...\n",
       "7038  6840-RESVB    Male              0     Yes        Yes\n",
       "7039  2234-XADUH  Female              0     Yes        Yes\n",
       "7040  4801-JZAZL  Female              0     Yes        Yes\n",
       "7041  8361-LTMKD    Male              1     Yes         No\n",
       "7042  3186-AJIEK    Male              0      No         No\n",
       "\n",
       "[7043 rows x 5 columns]"
      ]
     },
     "execution_count": 8,
     "metadata": {},
     "output_type": "execute_result"
    }
   ],
   "source": [
    "personal"
   ]
  },
  {
   "cell_type": "code",
   "execution_count": 9,
   "id": "7bbbf1b1",
   "metadata": {
    "scrolled": true
   },
   "outputs": [
    {
     "name": "stdout",
     "output_type": "stream",
     "text": [
      "<class 'pandas.core.frame.DataFrame'>\n",
      "RangeIndex: 7043 entries, 0 to 7042\n",
      "Data columns (total 5 columns):\n",
      " #   Column         Non-Null Count  Dtype \n",
      "---  ------         --------------  ----- \n",
      " 0   customerID     7043 non-null   object\n",
      " 1   gender         7043 non-null   object\n",
      " 2   SeniorCitizen  7043 non-null   int64 \n",
      " 3   Partner        7043 non-null   object\n",
      " 4   Dependents     7043 non-null   object\n",
      "dtypes: int64(1), object(4)\n",
      "memory usage: 275.2+ KB\n"
     ]
    }
   ],
   "source": [
    "personal.info()"
   ]
  },
  {
   "cell_type": "markdown",
   "id": "469c1993",
   "metadata": {},
   "source": [
    "3. personal -  gender, Partner, Dependents - to 0/1"
   ]
  },
  {
   "cell_type": "code",
   "execution_count": 10,
   "id": "e44f4c1b",
   "metadata": {
    "scrolled": true
   },
   "outputs": [
    {
     "data": {
      "text/html": [
       "<div>\n",
       "<style scoped>\n",
       "    .dataframe tbody tr th:only-of-type {\n",
       "        vertical-align: middle;\n",
       "    }\n",
       "\n",
       "    .dataframe tbody tr th {\n",
       "        vertical-align: top;\n",
       "    }\n",
       "\n",
       "    .dataframe thead th {\n",
       "        text-align: right;\n",
       "    }\n",
       "</style>\n",
       "<table border=\"1\" class=\"dataframe\">\n",
       "  <thead>\n",
       "    <tr style=\"text-align: right;\">\n",
       "      <th></th>\n",
       "      <th>customerID</th>\n",
       "      <th>MultipleLines</th>\n",
       "    </tr>\n",
       "  </thead>\n",
       "  <tbody>\n",
       "    <tr>\n",
       "      <th>0</th>\n",
       "      <td>5575-GNVDE</td>\n",
       "      <td>No</td>\n",
       "    </tr>\n",
       "    <tr>\n",
       "      <th>1</th>\n",
       "      <td>3668-QPYBK</td>\n",
       "      <td>No</td>\n",
       "    </tr>\n",
       "    <tr>\n",
       "      <th>2</th>\n",
       "      <td>9237-HQITU</td>\n",
       "      <td>No</td>\n",
       "    </tr>\n",
       "    <tr>\n",
       "      <th>3</th>\n",
       "      <td>9305-CDSKC</td>\n",
       "      <td>Yes</td>\n",
       "    </tr>\n",
       "    <tr>\n",
       "      <th>4</th>\n",
       "      <td>1452-KIOVK</td>\n",
       "      <td>Yes</td>\n",
       "    </tr>\n",
       "    <tr>\n",
       "      <th>...</th>\n",
       "      <td>...</td>\n",
       "      <td>...</td>\n",
       "    </tr>\n",
       "    <tr>\n",
       "      <th>6356</th>\n",
       "      <td>2569-WGERO</td>\n",
       "      <td>No</td>\n",
       "    </tr>\n",
       "    <tr>\n",
       "      <th>6357</th>\n",
       "      <td>6840-RESVB</td>\n",
       "      <td>Yes</td>\n",
       "    </tr>\n",
       "    <tr>\n",
       "      <th>6358</th>\n",
       "      <td>2234-XADUH</td>\n",
       "      <td>Yes</td>\n",
       "    </tr>\n",
       "    <tr>\n",
       "      <th>6359</th>\n",
       "      <td>8361-LTMKD</td>\n",
       "      <td>Yes</td>\n",
       "    </tr>\n",
       "    <tr>\n",
       "      <th>6360</th>\n",
       "      <td>3186-AJIEK</td>\n",
       "      <td>No</td>\n",
       "    </tr>\n",
       "  </tbody>\n",
       "</table>\n",
       "<p>6361 rows × 2 columns</p>\n",
       "</div>"
      ],
      "text/plain": [
       "      customerID MultipleLines\n",
       "0     5575-GNVDE            No\n",
       "1     3668-QPYBK            No\n",
       "2     9237-HQITU            No\n",
       "3     9305-CDSKC           Yes\n",
       "4     1452-KIOVK           Yes\n",
       "...          ...           ...\n",
       "6356  2569-WGERO            No\n",
       "6357  6840-RESVB           Yes\n",
       "6358  2234-XADUH           Yes\n",
       "6359  8361-LTMKD           Yes\n",
       "6360  3186-AJIEK            No\n",
       "\n",
       "[6361 rows x 2 columns]"
      ]
     },
     "execution_count": 10,
     "metadata": {},
     "output_type": "execute_result"
    }
   ],
   "source": [
    "phone"
   ]
  },
  {
   "cell_type": "code",
   "execution_count": 11,
   "id": "1f08d240",
   "metadata": {
    "scrolled": true
   },
   "outputs": [
    {
     "name": "stdout",
     "output_type": "stream",
     "text": [
      "<class 'pandas.core.frame.DataFrame'>\n",
      "RangeIndex: 6361 entries, 0 to 6360\n",
      "Data columns (total 2 columns):\n",
      " #   Column         Non-Null Count  Dtype \n",
      "---  ------         --------------  ----- \n",
      " 0   customerID     6361 non-null   object\n",
      " 1   MultipleLines  6361 non-null   object\n",
      "dtypes: object(2)\n",
      "memory usage: 99.5+ KB\n"
     ]
    }
   ],
   "source": [
    "phone.info()"
   ]
  },
  {
   "cell_type": "markdown",
   "id": "9b168fc5",
   "metadata": {},
   "source": [
    "4. phone -  MultipleLines - to 0/1"
   ]
  },
  {
   "cell_type": "markdown",
   "id": "86e230f6",
   "metadata": {},
   "source": [
    "## Changing data types"
   ]
  },
  {
   "cell_type": "markdown",
   "id": "9d29f559",
   "metadata": {},
   "source": [
    "### Phone"
   ]
  },
  {
   "cell_type": "code",
   "execution_count": 12,
   "id": "f5b01acc",
   "metadata": {},
   "outputs": [
    {
     "data": {
      "text/html": [
       "<div>\n",
       "<style scoped>\n",
       "    .dataframe tbody tr th:only-of-type {\n",
       "        vertical-align: middle;\n",
       "    }\n",
       "\n",
       "    .dataframe tbody tr th {\n",
       "        vertical-align: top;\n",
       "    }\n",
       "\n",
       "    .dataframe thead th {\n",
       "        text-align: right;\n",
       "    }\n",
       "</style>\n",
       "<table border=\"1\" class=\"dataframe\">\n",
       "  <thead>\n",
       "    <tr style=\"text-align: right;\">\n",
       "      <th></th>\n",
       "      <th>customerID</th>\n",
       "    </tr>\n",
       "    <tr>\n",
       "      <th>MultipleLines</th>\n",
       "      <th></th>\n",
       "    </tr>\n",
       "  </thead>\n",
       "  <tbody>\n",
       "    <tr>\n",
       "      <th>No</th>\n",
       "      <td>3390</td>\n",
       "    </tr>\n",
       "    <tr>\n",
       "      <th>Yes</th>\n",
       "      <td>2971</td>\n",
       "    </tr>\n",
       "  </tbody>\n",
       "</table>\n",
       "</div>"
      ],
      "text/plain": [
       "               customerID\n",
       "MultipleLines            \n",
       "No                   3390\n",
       "Yes                  2971"
      ]
     },
     "execution_count": 12,
     "metadata": {},
     "output_type": "execute_result"
    }
   ],
   "source": [
    "phone.groupby(by='MultipleLines').count()"
   ]
  },
  {
   "cell_type": "code",
   "execution_count": 13,
   "id": "72d09dea",
   "metadata": {},
   "outputs": [],
   "source": [
    "encoder = OrdinalEncoder()"
   ]
  },
  {
   "cell_type": "code",
   "execution_count": 14,
   "id": "c5f8f817",
   "metadata": {},
   "outputs": [],
   "source": [
    "phone['MultipleLines'] = encoder.fit_transform(phone[['MultipleLines']])"
   ]
  },
  {
   "cell_type": "code",
   "execution_count": 15,
   "id": "1fe4610d",
   "metadata": {},
   "outputs": [
    {
     "data": {
      "text/html": [
       "<div>\n",
       "<style scoped>\n",
       "    .dataframe tbody tr th:only-of-type {\n",
       "        vertical-align: middle;\n",
       "    }\n",
       "\n",
       "    .dataframe tbody tr th {\n",
       "        vertical-align: top;\n",
       "    }\n",
       "\n",
       "    .dataframe thead th {\n",
       "        text-align: right;\n",
       "    }\n",
       "</style>\n",
       "<table border=\"1\" class=\"dataframe\">\n",
       "  <thead>\n",
       "    <tr style=\"text-align: right;\">\n",
       "      <th></th>\n",
       "      <th>MultipleLines</th>\n",
       "    </tr>\n",
       "  </thead>\n",
       "  <tbody>\n",
       "    <tr>\n",
       "      <th>count</th>\n",
       "      <td>6361.000000</td>\n",
       "    </tr>\n",
       "    <tr>\n",
       "      <th>mean</th>\n",
       "      <td>0.467065</td>\n",
       "    </tr>\n",
       "    <tr>\n",
       "      <th>std</th>\n",
       "      <td>0.498953</td>\n",
       "    </tr>\n",
       "    <tr>\n",
       "      <th>min</th>\n",
       "      <td>0.000000</td>\n",
       "    </tr>\n",
       "    <tr>\n",
       "      <th>25%</th>\n",
       "      <td>0.000000</td>\n",
       "    </tr>\n",
       "    <tr>\n",
       "      <th>50%</th>\n",
       "      <td>0.000000</td>\n",
       "    </tr>\n",
       "    <tr>\n",
       "      <th>75%</th>\n",
       "      <td>1.000000</td>\n",
       "    </tr>\n",
       "    <tr>\n",
       "      <th>max</th>\n",
       "      <td>1.000000</td>\n",
       "    </tr>\n",
       "  </tbody>\n",
       "</table>\n",
       "</div>"
      ],
      "text/plain": [
       "       MultipleLines\n",
       "count    6361.000000\n",
       "mean        0.467065\n",
       "std         0.498953\n",
       "min         0.000000\n",
       "25%         0.000000\n",
       "50%         0.000000\n",
       "75%         1.000000\n",
       "max         1.000000"
      ]
     },
     "execution_count": 15,
     "metadata": {},
     "output_type": "execute_result"
    }
   ],
   "source": [
    "phone.describe()"
   ]
  },
  {
   "cell_type": "markdown",
   "id": "6da738a6",
   "metadata": {},
   "source": [
    "Phone was switched to dummy variables. 46,7% have Multiple lines - good represention of both groups"
   ]
  },
  {
   "cell_type": "markdown",
   "id": "3c792328",
   "metadata": {},
   "source": [
    "### Personal"
   ]
  },
  {
   "cell_type": "code",
   "execution_count": 16,
   "id": "d45f40a1",
   "metadata": {},
   "outputs": [],
   "source": [
    "personal[['gender', 'Partner', 'Dependents']] = encoder.fit_transform(personal[['gender', 'Partner', 'Dependents']])"
   ]
  },
  {
   "cell_type": "code",
   "execution_count": 17,
   "id": "6776e106",
   "metadata": {},
   "outputs": [
    {
     "data": {
      "text/html": [
       "<div>\n",
       "<style scoped>\n",
       "    .dataframe tbody tr th:only-of-type {\n",
       "        vertical-align: middle;\n",
       "    }\n",
       "\n",
       "    .dataframe tbody tr th {\n",
       "        vertical-align: top;\n",
       "    }\n",
       "\n",
       "    .dataframe thead th {\n",
       "        text-align: right;\n",
       "    }\n",
       "</style>\n",
       "<table border=\"1\" class=\"dataframe\">\n",
       "  <thead>\n",
       "    <tr style=\"text-align: right;\">\n",
       "      <th></th>\n",
       "      <th>gender</th>\n",
       "      <th>SeniorCitizen</th>\n",
       "      <th>Partner</th>\n",
       "      <th>Dependents</th>\n",
       "    </tr>\n",
       "  </thead>\n",
       "  <tbody>\n",
       "    <tr>\n",
       "      <th>count</th>\n",
       "      <td>7043.000000</td>\n",
       "      <td>7043.000000</td>\n",
       "      <td>7043.000000</td>\n",
       "      <td>7043.000000</td>\n",
       "    </tr>\n",
       "    <tr>\n",
       "      <th>mean</th>\n",
       "      <td>0.504756</td>\n",
       "      <td>0.162147</td>\n",
       "      <td>0.483033</td>\n",
       "      <td>0.299588</td>\n",
       "    </tr>\n",
       "    <tr>\n",
       "      <th>std</th>\n",
       "      <td>0.500013</td>\n",
       "      <td>0.368612</td>\n",
       "      <td>0.499748</td>\n",
       "      <td>0.458110</td>\n",
       "    </tr>\n",
       "    <tr>\n",
       "      <th>min</th>\n",
       "      <td>0.000000</td>\n",
       "      <td>0.000000</td>\n",
       "      <td>0.000000</td>\n",
       "      <td>0.000000</td>\n",
       "    </tr>\n",
       "    <tr>\n",
       "      <th>25%</th>\n",
       "      <td>0.000000</td>\n",
       "      <td>0.000000</td>\n",
       "      <td>0.000000</td>\n",
       "      <td>0.000000</td>\n",
       "    </tr>\n",
       "    <tr>\n",
       "      <th>50%</th>\n",
       "      <td>1.000000</td>\n",
       "      <td>0.000000</td>\n",
       "      <td>0.000000</td>\n",
       "      <td>0.000000</td>\n",
       "    </tr>\n",
       "    <tr>\n",
       "      <th>75%</th>\n",
       "      <td>1.000000</td>\n",
       "      <td>0.000000</td>\n",
       "      <td>1.000000</td>\n",
       "      <td>1.000000</td>\n",
       "    </tr>\n",
       "    <tr>\n",
       "      <th>max</th>\n",
       "      <td>1.000000</td>\n",
       "      <td>1.000000</td>\n",
       "      <td>1.000000</td>\n",
       "      <td>1.000000</td>\n",
       "    </tr>\n",
       "  </tbody>\n",
       "</table>\n",
       "</div>"
      ],
      "text/plain": [
       "            gender  SeniorCitizen      Partner   Dependents\n",
       "count  7043.000000    7043.000000  7043.000000  7043.000000\n",
       "mean      0.504756       0.162147     0.483033     0.299588\n",
       "std       0.500013       0.368612     0.499748     0.458110\n",
       "min       0.000000       0.000000     0.000000     0.000000\n",
       "25%       0.000000       0.000000     0.000000     0.000000\n",
       "50%       1.000000       0.000000     0.000000     0.000000\n",
       "75%       1.000000       0.000000     1.000000     1.000000\n",
       "max       1.000000       1.000000     1.000000     1.000000"
      ]
     },
     "execution_count": 17,
     "metadata": {},
     "output_type": "execute_result"
    }
   ],
   "source": [
    "personal.describe()"
   ]
  },
  {
   "cell_type": "markdown",
   "id": "05e00e57",
   "metadata": {},
   "source": [
    "Data in personal switched to dummy variables. Good group representaton (except for elderly) "
   ]
  },
  {
   "cell_type": "markdown",
   "id": "1979f7a9",
   "metadata": {},
   "source": [
    "### Internet"
   ]
  },
  {
   "cell_type": "code",
   "execution_count": 18,
   "id": "84870e6b",
   "metadata": {
    "scrolled": true
   },
   "outputs": [
    {
     "data": {
      "text/html": [
       "<div>\n",
       "<style scoped>\n",
       "    .dataframe tbody tr th:only-of-type {\n",
       "        vertical-align: middle;\n",
       "    }\n",
       "\n",
       "    .dataframe tbody tr th {\n",
       "        vertical-align: top;\n",
       "    }\n",
       "\n",
       "    .dataframe thead th {\n",
       "        text-align: right;\n",
       "    }\n",
       "</style>\n",
       "<table border=\"1\" class=\"dataframe\">\n",
       "  <thead>\n",
       "    <tr style=\"text-align: right;\">\n",
       "      <th></th>\n",
       "      <th>customerID</th>\n",
       "      <th>OnlineSecurity</th>\n",
       "      <th>OnlineBackup</th>\n",
       "      <th>DeviceProtection</th>\n",
       "      <th>TechSupport</th>\n",
       "      <th>StreamingTV</th>\n",
       "      <th>StreamingMovies</th>\n",
       "    </tr>\n",
       "    <tr>\n",
       "      <th>InternetService</th>\n",
       "      <th></th>\n",
       "      <th></th>\n",
       "      <th></th>\n",
       "      <th></th>\n",
       "      <th></th>\n",
       "      <th></th>\n",
       "      <th></th>\n",
       "    </tr>\n",
       "  </thead>\n",
       "  <tbody>\n",
       "    <tr>\n",
       "      <th>DSL</th>\n",
       "      <td>2421</td>\n",
       "      <td>2421</td>\n",
       "      <td>2421</td>\n",
       "      <td>2421</td>\n",
       "      <td>2421</td>\n",
       "      <td>2421</td>\n",
       "      <td>2421</td>\n",
       "    </tr>\n",
       "    <tr>\n",
       "      <th>Fiber optic</th>\n",
       "      <td>3096</td>\n",
       "      <td>3096</td>\n",
       "      <td>3096</td>\n",
       "      <td>3096</td>\n",
       "      <td>3096</td>\n",
       "      <td>3096</td>\n",
       "      <td>3096</td>\n",
       "    </tr>\n",
       "  </tbody>\n",
       "</table>\n",
       "</div>"
      ],
      "text/plain": [
       "                 customerID  OnlineSecurity  OnlineBackup  DeviceProtection  \\\n",
       "InternetService                                                               \n",
       "DSL                    2421            2421          2421              2421   \n",
       "Fiber optic            3096            3096          3096              3096   \n",
       "\n",
       "                 TechSupport  StreamingTV  StreamingMovies  \n",
       "InternetService                                             \n",
       "DSL                     2421         2421             2421  \n",
       "Fiber optic             3096         3096             3096  "
      ]
     },
     "execution_count": 18,
     "metadata": {},
     "output_type": "execute_result"
    }
   ],
   "source": [
    "internet.groupby(by='InternetService').count()"
   ]
  },
  {
   "cell_type": "markdown",
   "id": "b571c3c7",
   "metadata": {},
   "source": [
    "Since there is only 2 types of InternetService - we use dummy"
   ]
  },
  {
   "cell_type": "code",
   "execution_count": 19,
   "id": "34c709c3",
   "metadata": {},
   "outputs": [],
   "source": [
    "internet[['InternetService', 'OnlineSecurity', 'OnlineBackup', \n",
    "        'DeviceProtection', 'TechSupport', 'StreamingTV', 'StreamingMovies']] = encoder.fit_transform(\n",
    "internet[['InternetService', 'OnlineSecurity', 'OnlineBackup', \n",
    "              'DeviceProtection', 'TechSupport', 'StreamingTV', 'StreamingMovies']])"
   ]
  },
  {
   "cell_type": "code",
   "execution_count": 20,
   "id": "8655e93e",
   "metadata": {
    "scrolled": true
   },
   "outputs": [
    {
     "data": {
      "text/html": [
       "<div>\n",
       "<style scoped>\n",
       "    .dataframe tbody tr th:only-of-type {\n",
       "        vertical-align: middle;\n",
       "    }\n",
       "\n",
       "    .dataframe tbody tr th {\n",
       "        vertical-align: top;\n",
       "    }\n",
       "\n",
       "    .dataframe thead th {\n",
       "        text-align: right;\n",
       "    }\n",
       "</style>\n",
       "<table border=\"1\" class=\"dataframe\">\n",
       "  <thead>\n",
       "    <tr style=\"text-align: right;\">\n",
       "      <th></th>\n",
       "      <th>InternetService</th>\n",
       "      <th>OnlineSecurity</th>\n",
       "      <th>OnlineBackup</th>\n",
       "      <th>DeviceProtection</th>\n",
       "      <th>TechSupport</th>\n",
       "      <th>StreamingTV</th>\n",
       "      <th>StreamingMovies</th>\n",
       "    </tr>\n",
       "  </thead>\n",
       "  <tbody>\n",
       "    <tr>\n",
       "      <th>count</th>\n",
       "      <td>5517.000000</td>\n",
       "      <td>5517.000000</td>\n",
       "      <td>5517.000000</td>\n",
       "      <td>5517.000000</td>\n",
       "      <td>5517.000000</td>\n",
       "      <td>5517.000000</td>\n",
       "      <td>5517.000000</td>\n",
       "    </tr>\n",
       "    <tr>\n",
       "      <th>mean</th>\n",
       "      <td>0.561175</td>\n",
       "      <td>0.365960</td>\n",
       "      <td>0.440276</td>\n",
       "      <td>0.439007</td>\n",
       "      <td>0.370491</td>\n",
       "      <td>0.490665</td>\n",
       "      <td>0.495197</td>\n",
       "    </tr>\n",
       "    <tr>\n",
       "      <th>std</th>\n",
       "      <td>0.496289</td>\n",
       "      <td>0.481742</td>\n",
       "      <td>0.496465</td>\n",
       "      <td>0.496311</td>\n",
       "      <td>0.482980</td>\n",
       "      <td>0.499958</td>\n",
       "      <td>0.500022</td>\n",
       "    </tr>\n",
       "    <tr>\n",
       "      <th>min</th>\n",
       "      <td>0.000000</td>\n",
       "      <td>0.000000</td>\n",
       "      <td>0.000000</td>\n",
       "      <td>0.000000</td>\n",
       "      <td>0.000000</td>\n",
       "      <td>0.000000</td>\n",
       "      <td>0.000000</td>\n",
       "    </tr>\n",
       "    <tr>\n",
       "      <th>25%</th>\n",
       "      <td>0.000000</td>\n",
       "      <td>0.000000</td>\n",
       "      <td>0.000000</td>\n",
       "      <td>0.000000</td>\n",
       "      <td>0.000000</td>\n",
       "      <td>0.000000</td>\n",
       "      <td>0.000000</td>\n",
       "    </tr>\n",
       "    <tr>\n",
       "      <th>50%</th>\n",
       "      <td>1.000000</td>\n",
       "      <td>0.000000</td>\n",
       "      <td>0.000000</td>\n",
       "      <td>0.000000</td>\n",
       "      <td>0.000000</td>\n",
       "      <td>0.000000</td>\n",
       "      <td>0.000000</td>\n",
       "    </tr>\n",
       "    <tr>\n",
       "      <th>75%</th>\n",
       "      <td>1.000000</td>\n",
       "      <td>1.000000</td>\n",
       "      <td>1.000000</td>\n",
       "      <td>1.000000</td>\n",
       "      <td>1.000000</td>\n",
       "      <td>1.000000</td>\n",
       "      <td>1.000000</td>\n",
       "    </tr>\n",
       "    <tr>\n",
       "      <th>max</th>\n",
       "      <td>1.000000</td>\n",
       "      <td>1.000000</td>\n",
       "      <td>1.000000</td>\n",
       "      <td>1.000000</td>\n",
       "      <td>1.000000</td>\n",
       "      <td>1.000000</td>\n",
       "      <td>1.000000</td>\n",
       "    </tr>\n",
       "  </tbody>\n",
       "</table>\n",
       "</div>"
      ],
      "text/plain": [
       "       InternetService  OnlineSecurity  OnlineBackup  DeviceProtection  \\\n",
       "count      5517.000000     5517.000000   5517.000000       5517.000000   \n",
       "mean          0.561175        0.365960      0.440276          0.439007   \n",
       "std           0.496289        0.481742      0.496465          0.496311   \n",
       "min           0.000000        0.000000      0.000000          0.000000   \n",
       "25%           0.000000        0.000000      0.000000          0.000000   \n",
       "50%           1.000000        0.000000      0.000000          0.000000   \n",
       "75%           1.000000        1.000000      1.000000          1.000000   \n",
       "max           1.000000        1.000000      1.000000          1.000000   \n",
       "\n",
       "       TechSupport  StreamingTV  StreamingMovies  \n",
       "count  5517.000000  5517.000000      5517.000000  \n",
       "mean      0.370491     0.490665         0.495197  \n",
       "std       0.482980     0.499958         0.500022  \n",
       "min       0.000000     0.000000         0.000000  \n",
       "25%       0.000000     0.000000         0.000000  \n",
       "50%       0.000000     0.000000         0.000000  \n",
       "75%       1.000000     1.000000         1.000000  \n",
       "max       1.000000     1.000000         1.000000  "
      ]
     },
     "execution_count": 20,
     "metadata": {},
     "output_type": "execute_result"
    }
   ],
   "source": [
    "internet.describe()"
   ]
  },
  {
   "cell_type": "markdown",
   "id": "0ad8824b",
   "metadata": {},
   "source": [
    "internet - switched all variable into dummy, groups have good representation"
   ]
  },
  {
   "cell_type": "markdown",
   "id": "c642ef8e",
   "metadata": {},
   "source": [
    "### Contract"
   ]
  },
  {
   "cell_type": "markdown",
   "id": "b06c13b4",
   "metadata": {},
   "source": [
    "Transform  date into proper format"
   ]
  },
  {
   "cell_type": "code",
   "execution_count": 21,
   "id": "41d949e5",
   "metadata": {},
   "outputs": [
    {
     "data": {
      "text/html": [
       "<div>\n",
       "<style scoped>\n",
       "    .dataframe tbody tr th:only-of-type {\n",
       "        vertical-align: middle;\n",
       "    }\n",
       "\n",
       "    .dataframe tbody tr th {\n",
       "        vertical-align: top;\n",
       "    }\n",
       "\n",
       "    .dataframe thead th {\n",
       "        text-align: right;\n",
       "    }\n",
       "</style>\n",
       "<table border=\"1\" class=\"dataframe\">\n",
       "  <thead>\n",
       "    <tr style=\"text-align: right;\">\n",
       "      <th></th>\n",
       "      <th>customerID</th>\n",
       "      <th>BeginDate</th>\n",
       "      <th>EndDate</th>\n",
       "      <th>Type</th>\n",
       "      <th>PaperlessBilling</th>\n",
       "      <th>PaymentMethod</th>\n",
       "      <th>MonthlyCharges</th>\n",
       "      <th>TotalCharges</th>\n",
       "    </tr>\n",
       "  </thead>\n",
       "  <tbody>\n",
       "    <tr>\n",
       "      <th>0</th>\n",
       "      <td>7590-VHVEG</td>\n",
       "      <td>2020-01-01</td>\n",
       "      <td>No</td>\n",
       "      <td>Month-to-month</td>\n",
       "      <td>Yes</td>\n",
       "      <td>Electronic check</td>\n",
       "      <td>29.85</td>\n",
       "      <td>29.85</td>\n",
       "    </tr>\n",
       "    <tr>\n",
       "      <th>1</th>\n",
       "      <td>5575-GNVDE</td>\n",
       "      <td>2017-04-01</td>\n",
       "      <td>No</td>\n",
       "      <td>One year</td>\n",
       "      <td>No</td>\n",
       "      <td>Mailed check</td>\n",
       "      <td>56.95</td>\n",
       "      <td>1889.5</td>\n",
       "    </tr>\n",
       "    <tr>\n",
       "      <th>2</th>\n",
       "      <td>3668-QPYBK</td>\n",
       "      <td>2019-10-01</td>\n",
       "      <td>2019-12-01 00:00:00</td>\n",
       "      <td>Month-to-month</td>\n",
       "      <td>Yes</td>\n",
       "      <td>Mailed check</td>\n",
       "      <td>53.85</td>\n",
       "      <td>108.15</td>\n",
       "    </tr>\n",
       "    <tr>\n",
       "      <th>3</th>\n",
       "      <td>7795-CFOCW</td>\n",
       "      <td>2016-05-01</td>\n",
       "      <td>No</td>\n",
       "      <td>One year</td>\n",
       "      <td>No</td>\n",
       "      <td>Bank transfer (automatic)</td>\n",
       "      <td>42.30</td>\n",
       "      <td>1840.75</td>\n",
       "    </tr>\n",
       "    <tr>\n",
       "      <th>4</th>\n",
       "      <td>9237-HQITU</td>\n",
       "      <td>2019-09-01</td>\n",
       "      <td>2019-11-01 00:00:00</td>\n",
       "      <td>Month-to-month</td>\n",
       "      <td>Yes</td>\n",
       "      <td>Electronic check</td>\n",
       "      <td>70.70</td>\n",
       "      <td>151.65</td>\n",
       "    </tr>\n",
       "    <tr>\n",
       "      <th>...</th>\n",
       "      <td>...</td>\n",
       "      <td>...</td>\n",
       "      <td>...</td>\n",
       "      <td>...</td>\n",
       "      <td>...</td>\n",
       "      <td>...</td>\n",
       "      <td>...</td>\n",
       "      <td>...</td>\n",
       "    </tr>\n",
       "    <tr>\n",
       "      <th>7038</th>\n",
       "      <td>6840-RESVB</td>\n",
       "      <td>2018-02-01</td>\n",
       "      <td>No</td>\n",
       "      <td>One year</td>\n",
       "      <td>Yes</td>\n",
       "      <td>Mailed check</td>\n",
       "      <td>84.80</td>\n",
       "      <td>1990.5</td>\n",
       "    </tr>\n",
       "    <tr>\n",
       "      <th>7039</th>\n",
       "      <td>2234-XADUH</td>\n",
       "      <td>2014-02-01</td>\n",
       "      <td>No</td>\n",
       "      <td>One year</td>\n",
       "      <td>Yes</td>\n",
       "      <td>Credit card (automatic)</td>\n",
       "      <td>103.20</td>\n",
       "      <td>7362.9</td>\n",
       "    </tr>\n",
       "    <tr>\n",
       "      <th>7040</th>\n",
       "      <td>4801-JZAZL</td>\n",
       "      <td>2019-03-01</td>\n",
       "      <td>No</td>\n",
       "      <td>Month-to-month</td>\n",
       "      <td>Yes</td>\n",
       "      <td>Electronic check</td>\n",
       "      <td>29.60</td>\n",
       "      <td>346.45</td>\n",
       "    </tr>\n",
       "    <tr>\n",
       "      <th>7041</th>\n",
       "      <td>8361-LTMKD</td>\n",
       "      <td>2019-07-01</td>\n",
       "      <td>2019-11-01 00:00:00</td>\n",
       "      <td>Month-to-month</td>\n",
       "      <td>Yes</td>\n",
       "      <td>Mailed check</td>\n",
       "      <td>74.40</td>\n",
       "      <td>306.6</td>\n",
       "    </tr>\n",
       "    <tr>\n",
       "      <th>7042</th>\n",
       "      <td>3186-AJIEK</td>\n",
       "      <td>2014-08-01</td>\n",
       "      <td>No</td>\n",
       "      <td>Two year</td>\n",
       "      <td>Yes</td>\n",
       "      <td>Bank transfer (automatic)</td>\n",
       "      <td>105.65</td>\n",
       "      <td>6844.5</td>\n",
       "    </tr>\n",
       "  </tbody>\n",
       "</table>\n",
       "<p>7043 rows × 8 columns</p>\n",
       "</div>"
      ],
      "text/plain": [
       "      customerID   BeginDate              EndDate            Type  \\\n",
       "0     7590-VHVEG  2020-01-01                   No  Month-to-month   \n",
       "1     5575-GNVDE  2017-04-01                   No        One year   \n",
       "2     3668-QPYBK  2019-10-01  2019-12-01 00:00:00  Month-to-month   \n",
       "3     7795-CFOCW  2016-05-01                   No        One year   \n",
       "4     9237-HQITU  2019-09-01  2019-11-01 00:00:00  Month-to-month   \n",
       "...          ...         ...                  ...             ...   \n",
       "7038  6840-RESVB  2018-02-01                   No        One year   \n",
       "7039  2234-XADUH  2014-02-01                   No        One year   \n",
       "7040  4801-JZAZL  2019-03-01                   No  Month-to-month   \n",
       "7041  8361-LTMKD  2019-07-01  2019-11-01 00:00:00  Month-to-month   \n",
       "7042  3186-AJIEK  2014-08-01                   No        Two year   \n",
       "\n",
       "     PaperlessBilling              PaymentMethod  MonthlyCharges TotalCharges  \n",
       "0                 Yes           Electronic check           29.85        29.85  \n",
       "1                  No               Mailed check           56.95       1889.5  \n",
       "2                 Yes               Mailed check           53.85       108.15  \n",
       "3                  No  Bank transfer (automatic)           42.30      1840.75  \n",
       "4                 Yes           Electronic check           70.70       151.65  \n",
       "...               ...                        ...             ...          ...  \n",
       "7038              Yes               Mailed check           84.80       1990.5  \n",
       "7039              Yes    Credit card (automatic)          103.20       7362.9  \n",
       "7040              Yes           Electronic check           29.60       346.45  \n",
       "7041              Yes               Mailed check           74.40        306.6  \n",
       "7042              Yes  Bank transfer (automatic)          105.65       6844.5  \n",
       "\n",
       "[7043 rows x 8 columns]"
      ]
     },
     "execution_count": 21,
     "metadata": {},
     "output_type": "execute_result"
    }
   ],
   "source": [
    "contract"
   ]
  },
  {
   "cell_type": "code",
   "execution_count": 22,
   "id": "404e0b68",
   "metadata": {},
   "outputs": [
    {
     "data": {
      "text/html": [
       "<div>\n",
       "<style scoped>\n",
       "    .dataframe tbody tr th:only-of-type {\n",
       "        vertical-align: middle;\n",
       "    }\n",
       "\n",
       "    .dataframe tbody tr th {\n",
       "        vertical-align: top;\n",
       "    }\n",
       "\n",
       "    .dataframe thead th {\n",
       "        text-align: right;\n",
       "    }\n",
       "</style>\n",
       "<table border=\"1\" class=\"dataframe\">\n",
       "  <thead>\n",
       "    <tr style=\"text-align: right;\">\n",
       "      <th></th>\n",
       "      <th>customerID</th>\n",
       "      <th>BeginDate</th>\n",
       "      <th>Type</th>\n",
       "      <th>PaperlessBilling</th>\n",
       "      <th>PaymentMethod</th>\n",
       "      <th>MonthlyCharges</th>\n",
       "      <th>TotalCharges</th>\n",
       "    </tr>\n",
       "    <tr>\n",
       "      <th>EndDate</th>\n",
       "      <th></th>\n",
       "      <th></th>\n",
       "      <th></th>\n",
       "      <th></th>\n",
       "      <th></th>\n",
       "      <th></th>\n",
       "      <th></th>\n",
       "    </tr>\n",
       "  </thead>\n",
       "  <tbody>\n",
       "    <tr>\n",
       "      <th>2019-10-01 00:00:00</th>\n",
       "      <td>458</td>\n",
       "      <td>458</td>\n",
       "      <td>458</td>\n",
       "      <td>458</td>\n",
       "      <td>458</td>\n",
       "      <td>458</td>\n",
       "      <td>458</td>\n",
       "    </tr>\n",
       "    <tr>\n",
       "      <th>2019-11-01 00:00:00</th>\n",
       "      <td>485</td>\n",
       "      <td>485</td>\n",
       "      <td>485</td>\n",
       "      <td>485</td>\n",
       "      <td>485</td>\n",
       "      <td>485</td>\n",
       "      <td>485</td>\n",
       "    </tr>\n",
       "    <tr>\n",
       "      <th>2019-12-01 00:00:00</th>\n",
       "      <td>466</td>\n",
       "      <td>466</td>\n",
       "      <td>466</td>\n",
       "      <td>466</td>\n",
       "      <td>466</td>\n",
       "      <td>466</td>\n",
       "      <td>466</td>\n",
       "    </tr>\n",
       "    <tr>\n",
       "      <th>2020-01-01 00:00:00</th>\n",
       "      <td>460</td>\n",
       "      <td>460</td>\n",
       "      <td>460</td>\n",
       "      <td>460</td>\n",
       "      <td>460</td>\n",
       "      <td>460</td>\n",
       "      <td>460</td>\n",
       "    </tr>\n",
       "    <tr>\n",
       "      <th>No</th>\n",
       "      <td>5174</td>\n",
       "      <td>5174</td>\n",
       "      <td>5174</td>\n",
       "      <td>5174</td>\n",
       "      <td>5174</td>\n",
       "      <td>5174</td>\n",
       "      <td>5174</td>\n",
       "    </tr>\n",
       "  </tbody>\n",
       "</table>\n",
       "</div>"
      ],
      "text/plain": [
       "                     customerID  BeginDate  Type  PaperlessBilling  \\\n",
       "EndDate                                                              \n",
       "2019-10-01 00:00:00         458        458   458               458   \n",
       "2019-11-01 00:00:00         485        485   485               485   \n",
       "2019-12-01 00:00:00         466        466   466               466   \n",
       "2020-01-01 00:00:00         460        460   460               460   \n",
       "No                         5174       5174  5174              5174   \n",
       "\n",
       "                     PaymentMethod  MonthlyCharges  TotalCharges  \n",
       "EndDate                                                           \n",
       "2019-10-01 00:00:00            458             458           458  \n",
       "2019-11-01 00:00:00            485             485           485  \n",
       "2019-12-01 00:00:00            466             466           466  \n",
       "2020-01-01 00:00:00            460             460           460  \n",
       "No                            5174            5174          5174  "
      ]
     },
     "execution_count": 22,
     "metadata": {},
     "output_type": "execute_result"
    }
   ],
   "source": [
    "contract.groupby(by= 'EndDate').count()"
   ]
  },
  {
   "cell_type": "code",
   "execution_count": 23,
   "id": "3c107ac6",
   "metadata": {},
   "outputs": [],
   "source": [
    "contract['EndDate'] = contract['EndDate'].replace(\"No\",np.nan)\n",
    "contract['BeginDate'] = pd.to_datetime(contract['BeginDate'])\n",
    "contract['EndDate'] = pd.to_datetime(contract['EndDate'])"
   ]
  },
  {
   "cell_type": "markdown",
   "id": "1ad9e07c",
   "metadata": {},
   "source": [
    "Looking into vars: type, PaymentMethod + PaperlessBilling"
   ]
  },
  {
   "cell_type": "code",
   "execution_count": 24,
   "id": "fa680809",
   "metadata": {},
   "outputs": [
    {
     "data": {
      "text/html": [
       "<div>\n",
       "<style scoped>\n",
       "    .dataframe tbody tr th:only-of-type {\n",
       "        vertical-align: middle;\n",
       "    }\n",
       "\n",
       "    .dataframe tbody tr th {\n",
       "        vertical-align: top;\n",
       "    }\n",
       "\n",
       "    .dataframe thead th {\n",
       "        text-align: right;\n",
       "    }\n",
       "</style>\n",
       "<table border=\"1\" class=\"dataframe\">\n",
       "  <thead>\n",
       "    <tr style=\"text-align: right;\">\n",
       "      <th></th>\n",
       "      <th>customerID</th>\n",
       "      <th>BeginDate</th>\n",
       "      <th>EndDate</th>\n",
       "      <th>PaperlessBilling</th>\n",
       "      <th>PaymentMethod</th>\n",
       "      <th>MonthlyCharges</th>\n",
       "      <th>TotalCharges</th>\n",
       "    </tr>\n",
       "    <tr>\n",
       "      <th>Type</th>\n",
       "      <th></th>\n",
       "      <th></th>\n",
       "      <th></th>\n",
       "      <th></th>\n",
       "      <th></th>\n",
       "      <th></th>\n",
       "      <th></th>\n",
       "    </tr>\n",
       "  </thead>\n",
       "  <tbody>\n",
       "    <tr>\n",
       "      <th>Month-to-month</th>\n",
       "      <td>3875</td>\n",
       "      <td>3875</td>\n",
       "      <td>1655</td>\n",
       "      <td>3875</td>\n",
       "      <td>3875</td>\n",
       "      <td>3875</td>\n",
       "      <td>3875</td>\n",
       "    </tr>\n",
       "    <tr>\n",
       "      <th>One year</th>\n",
       "      <td>1473</td>\n",
       "      <td>1473</td>\n",
       "      <td>166</td>\n",
       "      <td>1473</td>\n",
       "      <td>1473</td>\n",
       "      <td>1473</td>\n",
       "      <td>1473</td>\n",
       "    </tr>\n",
       "    <tr>\n",
       "      <th>Two year</th>\n",
       "      <td>1695</td>\n",
       "      <td>1695</td>\n",
       "      <td>48</td>\n",
       "      <td>1695</td>\n",
       "      <td>1695</td>\n",
       "      <td>1695</td>\n",
       "      <td>1695</td>\n",
       "    </tr>\n",
       "  </tbody>\n",
       "</table>\n",
       "</div>"
      ],
      "text/plain": [
       "                customerID  BeginDate  EndDate  PaperlessBilling  \\\n",
       "Type                                                               \n",
       "Month-to-month        3875       3875     1655              3875   \n",
       "One year              1473       1473      166              1473   \n",
       "Two year              1695       1695       48              1695   \n",
       "\n",
       "                PaymentMethod  MonthlyCharges  TotalCharges  \n",
       "Type                                                         \n",
       "Month-to-month           3875            3875          3875  \n",
       "One year                 1473            1473          1473  \n",
       "Two year                 1695            1695          1695  "
      ]
     },
     "execution_count": 24,
     "metadata": {},
     "output_type": "execute_result"
    }
   ],
   "source": [
    "contract.groupby('Type').count()"
   ]
  },
  {
   "cell_type": "code",
   "execution_count": 25,
   "id": "af6a2055",
   "metadata": {},
   "outputs": [
    {
     "data": {
      "text/html": [
       "<div>\n",
       "<style scoped>\n",
       "    .dataframe tbody tr th:only-of-type {\n",
       "        vertical-align: middle;\n",
       "    }\n",
       "\n",
       "    .dataframe tbody tr th {\n",
       "        vertical-align: top;\n",
       "    }\n",
       "\n",
       "    .dataframe thead th {\n",
       "        text-align: right;\n",
       "    }\n",
       "</style>\n",
       "<table border=\"1\" class=\"dataframe\">\n",
       "  <thead>\n",
       "    <tr style=\"text-align: right;\">\n",
       "      <th></th>\n",
       "      <th>customerID</th>\n",
       "      <th>BeginDate</th>\n",
       "      <th>EndDate</th>\n",
       "      <th>Type</th>\n",
       "      <th>PaperlessBilling</th>\n",
       "      <th>MonthlyCharges</th>\n",
       "      <th>TotalCharges</th>\n",
       "    </tr>\n",
       "    <tr>\n",
       "      <th>PaymentMethod</th>\n",
       "      <th></th>\n",
       "      <th></th>\n",
       "      <th></th>\n",
       "      <th></th>\n",
       "      <th></th>\n",
       "      <th></th>\n",
       "      <th></th>\n",
       "    </tr>\n",
       "  </thead>\n",
       "  <tbody>\n",
       "    <tr>\n",
       "      <th>Bank transfer (automatic)</th>\n",
       "      <td>1544</td>\n",
       "      <td>1544</td>\n",
       "      <td>258</td>\n",
       "      <td>1544</td>\n",
       "      <td>1544</td>\n",
       "      <td>1544</td>\n",
       "      <td>1544</td>\n",
       "    </tr>\n",
       "    <tr>\n",
       "      <th>Credit card (automatic)</th>\n",
       "      <td>1522</td>\n",
       "      <td>1522</td>\n",
       "      <td>232</td>\n",
       "      <td>1522</td>\n",
       "      <td>1522</td>\n",
       "      <td>1522</td>\n",
       "      <td>1522</td>\n",
       "    </tr>\n",
       "    <tr>\n",
       "      <th>Electronic check</th>\n",
       "      <td>2365</td>\n",
       "      <td>2365</td>\n",
       "      <td>1071</td>\n",
       "      <td>2365</td>\n",
       "      <td>2365</td>\n",
       "      <td>2365</td>\n",
       "      <td>2365</td>\n",
       "    </tr>\n",
       "    <tr>\n",
       "      <th>Mailed check</th>\n",
       "      <td>1612</td>\n",
       "      <td>1612</td>\n",
       "      <td>308</td>\n",
       "      <td>1612</td>\n",
       "      <td>1612</td>\n",
       "      <td>1612</td>\n",
       "      <td>1612</td>\n",
       "    </tr>\n",
       "  </tbody>\n",
       "</table>\n",
       "</div>"
      ],
      "text/plain": [
       "                           customerID  BeginDate  EndDate  Type  \\\n",
       "PaymentMethod                                                     \n",
       "Bank transfer (automatic)        1544       1544      258  1544   \n",
       "Credit card (automatic)          1522       1522      232  1522   \n",
       "Electronic check                 2365       2365     1071  2365   \n",
       "Mailed check                     1612       1612      308  1612   \n",
       "\n",
       "                           PaperlessBilling  MonthlyCharges  TotalCharges  \n",
       "PaymentMethod                                                              \n",
       "Bank transfer (automatic)              1544            1544          1544  \n",
       "Credit card (automatic)                1522            1522          1522  \n",
       "Electronic check                       2365            2365          2365  \n",
       "Mailed check                           1612            1612          1612  "
      ]
     },
     "execution_count": 25,
     "metadata": {},
     "output_type": "execute_result"
    }
   ],
   "source": [
    "contract.groupby('PaymentMethod').count()"
   ]
  },
  {
   "cell_type": "markdown",
   "id": "fb158578",
   "metadata": {},
   "source": [
    "Type, PaymentMethod - use OHE"
   ]
  },
  {
   "cell_type": "code",
   "execution_count": 26,
   "id": "cc27651d",
   "metadata": {},
   "outputs": [],
   "source": [
    "contract = contract.join(pd.get_dummies(contract['Type'], prefix='type'))\n",
    "contract = contract.join(pd.get_dummies(contract['PaymentMethod'], prefix='method'))"
   ]
  },
  {
   "cell_type": "code",
   "execution_count": 27,
   "id": "8c96da00",
   "metadata": {},
   "outputs": [],
   "source": [
    "contract = contract.drop(['Type', 'PaymentMethod', 'type_Two year', 'method_Mailed check'], axis = 1)"
   ]
  },
  {
   "cell_type": "code",
   "execution_count": 28,
   "id": "500415b4",
   "metadata": {},
   "outputs": [],
   "source": [
    "contract[['PaperlessBilling']] = encoder.fit_transform(contract[['PaperlessBilling']])"
   ]
  },
  {
   "cell_type": "code",
   "execution_count": 29,
   "id": "99046f07",
   "metadata": {
    "scrolled": false
   },
   "outputs": [
    {
     "data": {
      "text/html": [
       "<div>\n",
       "<style scoped>\n",
       "    .dataframe tbody tr th:only-of-type {\n",
       "        vertical-align: middle;\n",
       "    }\n",
       "\n",
       "    .dataframe tbody tr th {\n",
       "        vertical-align: top;\n",
       "    }\n",
       "\n",
       "    .dataframe thead th {\n",
       "        text-align: right;\n",
       "    }\n",
       "</style>\n",
       "<table border=\"1\" class=\"dataframe\">\n",
       "  <thead>\n",
       "    <tr style=\"text-align: right;\">\n",
       "      <th></th>\n",
       "      <th>customerID</th>\n",
       "      <th>BeginDate</th>\n",
       "      <th>EndDate</th>\n",
       "      <th>PaperlessBilling</th>\n",
       "      <th>MonthlyCharges</th>\n",
       "      <th>TotalCharges</th>\n",
       "      <th>type_Month-to-month</th>\n",
       "      <th>type_One year</th>\n",
       "      <th>method_Bank transfer (automatic)</th>\n",
       "      <th>method_Credit card (automatic)</th>\n",
       "      <th>method_Electronic check</th>\n",
       "    </tr>\n",
       "  </thead>\n",
       "  <tbody>\n",
       "    <tr>\n",
       "      <th>0</th>\n",
       "      <td>7590-VHVEG</td>\n",
       "      <td>2020-01-01</td>\n",
       "      <td>NaT</td>\n",
       "      <td>1.0</td>\n",
       "      <td>29.85</td>\n",
       "      <td>29.85</td>\n",
       "      <td>1</td>\n",
       "      <td>0</td>\n",
       "      <td>0</td>\n",
       "      <td>0</td>\n",
       "      <td>1</td>\n",
       "    </tr>\n",
       "    <tr>\n",
       "      <th>1</th>\n",
       "      <td>5575-GNVDE</td>\n",
       "      <td>2017-04-01</td>\n",
       "      <td>NaT</td>\n",
       "      <td>0.0</td>\n",
       "      <td>56.95</td>\n",
       "      <td>1889.5</td>\n",
       "      <td>0</td>\n",
       "      <td>1</td>\n",
       "      <td>0</td>\n",
       "      <td>0</td>\n",
       "      <td>0</td>\n",
       "    </tr>\n",
       "    <tr>\n",
       "      <th>2</th>\n",
       "      <td>3668-QPYBK</td>\n",
       "      <td>2019-10-01</td>\n",
       "      <td>2019-12-01</td>\n",
       "      <td>1.0</td>\n",
       "      <td>53.85</td>\n",
       "      <td>108.15</td>\n",
       "      <td>1</td>\n",
       "      <td>0</td>\n",
       "      <td>0</td>\n",
       "      <td>0</td>\n",
       "      <td>0</td>\n",
       "    </tr>\n",
       "    <tr>\n",
       "      <th>3</th>\n",
       "      <td>7795-CFOCW</td>\n",
       "      <td>2016-05-01</td>\n",
       "      <td>NaT</td>\n",
       "      <td>0.0</td>\n",
       "      <td>42.30</td>\n",
       "      <td>1840.75</td>\n",
       "      <td>0</td>\n",
       "      <td>1</td>\n",
       "      <td>1</td>\n",
       "      <td>0</td>\n",
       "      <td>0</td>\n",
       "    </tr>\n",
       "    <tr>\n",
       "      <th>4</th>\n",
       "      <td>9237-HQITU</td>\n",
       "      <td>2019-09-01</td>\n",
       "      <td>2019-11-01</td>\n",
       "      <td>1.0</td>\n",
       "      <td>70.70</td>\n",
       "      <td>151.65</td>\n",
       "      <td>1</td>\n",
       "      <td>0</td>\n",
       "      <td>0</td>\n",
       "      <td>0</td>\n",
       "      <td>1</td>\n",
       "    </tr>\n",
       "    <tr>\n",
       "      <th>...</th>\n",
       "      <td>...</td>\n",
       "      <td>...</td>\n",
       "      <td>...</td>\n",
       "      <td>...</td>\n",
       "      <td>...</td>\n",
       "      <td>...</td>\n",
       "      <td>...</td>\n",
       "      <td>...</td>\n",
       "      <td>...</td>\n",
       "      <td>...</td>\n",
       "      <td>...</td>\n",
       "    </tr>\n",
       "    <tr>\n",
       "      <th>7038</th>\n",
       "      <td>6840-RESVB</td>\n",
       "      <td>2018-02-01</td>\n",
       "      <td>NaT</td>\n",
       "      <td>1.0</td>\n",
       "      <td>84.80</td>\n",
       "      <td>1990.5</td>\n",
       "      <td>0</td>\n",
       "      <td>1</td>\n",
       "      <td>0</td>\n",
       "      <td>0</td>\n",
       "      <td>0</td>\n",
       "    </tr>\n",
       "    <tr>\n",
       "      <th>7039</th>\n",
       "      <td>2234-XADUH</td>\n",
       "      <td>2014-02-01</td>\n",
       "      <td>NaT</td>\n",
       "      <td>1.0</td>\n",
       "      <td>103.20</td>\n",
       "      <td>7362.9</td>\n",
       "      <td>0</td>\n",
       "      <td>1</td>\n",
       "      <td>0</td>\n",
       "      <td>1</td>\n",
       "      <td>0</td>\n",
       "    </tr>\n",
       "    <tr>\n",
       "      <th>7040</th>\n",
       "      <td>4801-JZAZL</td>\n",
       "      <td>2019-03-01</td>\n",
       "      <td>NaT</td>\n",
       "      <td>1.0</td>\n",
       "      <td>29.60</td>\n",
       "      <td>346.45</td>\n",
       "      <td>1</td>\n",
       "      <td>0</td>\n",
       "      <td>0</td>\n",
       "      <td>0</td>\n",
       "      <td>1</td>\n",
       "    </tr>\n",
       "    <tr>\n",
       "      <th>7041</th>\n",
       "      <td>8361-LTMKD</td>\n",
       "      <td>2019-07-01</td>\n",
       "      <td>2019-11-01</td>\n",
       "      <td>1.0</td>\n",
       "      <td>74.40</td>\n",
       "      <td>306.6</td>\n",
       "      <td>1</td>\n",
       "      <td>0</td>\n",
       "      <td>0</td>\n",
       "      <td>0</td>\n",
       "      <td>0</td>\n",
       "    </tr>\n",
       "    <tr>\n",
       "      <th>7042</th>\n",
       "      <td>3186-AJIEK</td>\n",
       "      <td>2014-08-01</td>\n",
       "      <td>NaT</td>\n",
       "      <td>1.0</td>\n",
       "      <td>105.65</td>\n",
       "      <td>6844.5</td>\n",
       "      <td>0</td>\n",
       "      <td>0</td>\n",
       "      <td>1</td>\n",
       "      <td>0</td>\n",
       "      <td>0</td>\n",
       "    </tr>\n",
       "  </tbody>\n",
       "</table>\n",
       "<p>7043 rows × 11 columns</p>\n",
       "</div>"
      ],
      "text/plain": [
       "      customerID  BeginDate    EndDate  PaperlessBilling  MonthlyCharges  \\\n",
       "0     7590-VHVEG 2020-01-01        NaT               1.0           29.85   \n",
       "1     5575-GNVDE 2017-04-01        NaT               0.0           56.95   \n",
       "2     3668-QPYBK 2019-10-01 2019-12-01               1.0           53.85   \n",
       "3     7795-CFOCW 2016-05-01        NaT               0.0           42.30   \n",
       "4     9237-HQITU 2019-09-01 2019-11-01               1.0           70.70   \n",
       "...          ...        ...        ...               ...             ...   \n",
       "7038  6840-RESVB 2018-02-01        NaT               1.0           84.80   \n",
       "7039  2234-XADUH 2014-02-01        NaT               1.0          103.20   \n",
       "7040  4801-JZAZL 2019-03-01        NaT               1.0           29.60   \n",
       "7041  8361-LTMKD 2019-07-01 2019-11-01               1.0           74.40   \n",
       "7042  3186-AJIEK 2014-08-01        NaT               1.0          105.65   \n",
       "\n",
       "     TotalCharges  type_Month-to-month  type_One year  \\\n",
       "0           29.85                    1              0   \n",
       "1          1889.5                    0              1   \n",
       "2          108.15                    1              0   \n",
       "3         1840.75                    0              1   \n",
       "4          151.65                    1              0   \n",
       "...           ...                  ...            ...   \n",
       "7038       1990.5                    0              1   \n",
       "7039       7362.9                    0              1   \n",
       "7040       346.45                    1              0   \n",
       "7041        306.6                    1              0   \n",
       "7042       6844.5                    0              0   \n",
       "\n",
       "      method_Bank transfer (automatic)  method_Credit card (automatic)  \\\n",
       "0                                    0                               0   \n",
       "1                                    0                               0   \n",
       "2                                    0                               0   \n",
       "3                                    1                               0   \n",
       "4                                    0                               0   \n",
       "...                                ...                             ...   \n",
       "7038                                 0                               0   \n",
       "7039                                 0                               1   \n",
       "7040                                 0                               0   \n",
       "7041                                 0                               0   \n",
       "7042                                 1                               0   \n",
       "\n",
       "      method_Electronic check  \n",
       "0                           1  \n",
       "1                           0  \n",
       "2                           0  \n",
       "3                           0  \n",
       "4                           1  \n",
       "...                       ...  \n",
       "7038                        0  \n",
       "7039                        0  \n",
       "7040                        1  \n",
       "7041                        0  \n",
       "7042                        0  \n",
       "\n",
       "[7043 rows x 11 columns]"
      ]
     },
     "execution_count": 29,
     "metadata": {},
     "output_type": "execute_result"
    }
   ],
   "source": [
    "contract"
   ]
  },
  {
   "cell_type": "markdown",
   "id": "185b708e",
   "metadata": {},
   "source": [
    "TotalCharges into numeric format"
   ]
  },
  {
   "cell_type": "code",
   "execution_count": 30,
   "id": "711a0047",
   "metadata": {},
   "outputs": [],
   "source": [
    "contract['TotalCharges'] = pd.to_numeric(contract['TotalCharges'], errors = 'coerce')"
   ]
  },
  {
   "cell_type": "markdown",
   "id": "4d490f50",
   "metadata": {},
   "source": [
    "New columns\n",
    "\n",
    "1. Overall duration of contract"
   ]
  },
  {
   "cell_type": "code",
   "execution_count": 31,
   "id": "ac28266f",
   "metadata": {},
   "outputs": [],
   "source": [
    "contract['total_time1'] = (CURRENT_YEAR - pd.DatetimeIndex(contract['BeginDate']).year)*12 + \\\n",
    "                          (CURRENT_MONTH - pd.DatetimeIndex(contract['BeginDate']).month)"
   ]
  },
  {
   "cell_type": "code",
   "execution_count": 32,
   "id": "3159f569",
   "metadata": {},
   "outputs": [],
   "source": [
    "contract['total_time'] = (pd.DatetimeIndex(contract['EndDate']).year - \n",
    "                          pd.DatetimeIndex(contract['BeginDate']).year)*12 + \\\n",
    "                          (pd.DatetimeIndex(contract['EndDate']).month -\n",
    "                           pd.DatetimeIndex(contract['BeginDate']).month)"
   ]
  },
  {
   "cell_type": "code",
   "execution_count": 33,
   "id": "b32bc3d7",
   "metadata": {},
   "outputs": [],
   "source": [
    "contract['total_time'] = contract['total_time'].fillna(contract['total_time1'])"
   ]
  },
  {
   "cell_type": "code",
   "execution_count": 34,
   "id": "b8527ffe",
   "metadata": {},
   "outputs": [],
   "source": [
    "contract = contract.drop('total_time1', axis=1)"
   ]
  },
  {
   "cell_type": "code",
   "execution_count": 35,
   "id": "b70b0269",
   "metadata": {},
   "outputs": [
    {
     "data": {
      "text/html": [
       "<div>\n",
       "<style scoped>\n",
       "    .dataframe tbody tr th:only-of-type {\n",
       "        vertical-align: middle;\n",
       "    }\n",
       "\n",
       "    .dataframe tbody tr th {\n",
       "        vertical-align: top;\n",
       "    }\n",
       "\n",
       "    .dataframe thead th {\n",
       "        text-align: right;\n",
       "    }\n",
       "</style>\n",
       "<table border=\"1\" class=\"dataframe\">\n",
       "  <thead>\n",
       "    <tr style=\"text-align: right;\">\n",
       "      <th></th>\n",
       "      <th>customerID</th>\n",
       "      <th>BeginDate</th>\n",
       "      <th>EndDate</th>\n",
       "      <th>PaperlessBilling</th>\n",
       "      <th>MonthlyCharges</th>\n",
       "      <th>TotalCharges</th>\n",
       "      <th>type_Month-to-month</th>\n",
       "      <th>type_One year</th>\n",
       "      <th>method_Bank transfer (automatic)</th>\n",
       "      <th>method_Credit card (automatic)</th>\n",
       "      <th>method_Electronic check</th>\n",
       "      <th>total_time</th>\n",
       "    </tr>\n",
       "  </thead>\n",
       "  <tbody>\n",
       "    <tr>\n",
       "      <th>0</th>\n",
       "      <td>7590-VHVEG</td>\n",
       "      <td>2020-01-01</td>\n",
       "      <td>NaT</td>\n",
       "      <td>1.0</td>\n",
       "      <td>29.85</td>\n",
       "      <td>29.85</td>\n",
       "      <td>1</td>\n",
       "      <td>0</td>\n",
       "      <td>0</td>\n",
       "      <td>0</td>\n",
       "      <td>1</td>\n",
       "      <td>1.0</td>\n",
       "    </tr>\n",
       "    <tr>\n",
       "      <th>1</th>\n",
       "      <td>5575-GNVDE</td>\n",
       "      <td>2017-04-01</td>\n",
       "      <td>NaT</td>\n",
       "      <td>0.0</td>\n",
       "      <td>56.95</td>\n",
       "      <td>1889.50</td>\n",
       "      <td>0</td>\n",
       "      <td>1</td>\n",
       "      <td>0</td>\n",
       "      <td>0</td>\n",
       "      <td>0</td>\n",
       "      <td>34.0</td>\n",
       "    </tr>\n",
       "    <tr>\n",
       "      <th>2</th>\n",
       "      <td>3668-QPYBK</td>\n",
       "      <td>2019-10-01</td>\n",
       "      <td>2019-12-01</td>\n",
       "      <td>1.0</td>\n",
       "      <td>53.85</td>\n",
       "      <td>108.15</td>\n",
       "      <td>1</td>\n",
       "      <td>0</td>\n",
       "      <td>0</td>\n",
       "      <td>0</td>\n",
       "      <td>0</td>\n",
       "      <td>2.0</td>\n",
       "    </tr>\n",
       "    <tr>\n",
       "      <th>3</th>\n",
       "      <td>7795-CFOCW</td>\n",
       "      <td>2016-05-01</td>\n",
       "      <td>NaT</td>\n",
       "      <td>0.0</td>\n",
       "      <td>42.30</td>\n",
       "      <td>1840.75</td>\n",
       "      <td>0</td>\n",
       "      <td>1</td>\n",
       "      <td>1</td>\n",
       "      <td>0</td>\n",
       "      <td>0</td>\n",
       "      <td>45.0</td>\n",
       "    </tr>\n",
       "    <tr>\n",
       "      <th>4</th>\n",
       "      <td>9237-HQITU</td>\n",
       "      <td>2019-09-01</td>\n",
       "      <td>2019-11-01</td>\n",
       "      <td>1.0</td>\n",
       "      <td>70.70</td>\n",
       "      <td>151.65</td>\n",
       "      <td>1</td>\n",
       "      <td>0</td>\n",
       "      <td>0</td>\n",
       "      <td>0</td>\n",
       "      <td>1</td>\n",
       "      <td>2.0</td>\n",
       "    </tr>\n",
       "    <tr>\n",
       "      <th>...</th>\n",
       "      <td>...</td>\n",
       "      <td>...</td>\n",
       "      <td>...</td>\n",
       "      <td>...</td>\n",
       "      <td>...</td>\n",
       "      <td>...</td>\n",
       "      <td>...</td>\n",
       "      <td>...</td>\n",
       "      <td>...</td>\n",
       "      <td>...</td>\n",
       "      <td>...</td>\n",
       "      <td>...</td>\n",
       "    </tr>\n",
       "    <tr>\n",
       "      <th>7038</th>\n",
       "      <td>6840-RESVB</td>\n",
       "      <td>2018-02-01</td>\n",
       "      <td>NaT</td>\n",
       "      <td>1.0</td>\n",
       "      <td>84.80</td>\n",
       "      <td>1990.50</td>\n",
       "      <td>0</td>\n",
       "      <td>1</td>\n",
       "      <td>0</td>\n",
       "      <td>0</td>\n",
       "      <td>0</td>\n",
       "      <td>24.0</td>\n",
       "    </tr>\n",
       "    <tr>\n",
       "      <th>7039</th>\n",
       "      <td>2234-XADUH</td>\n",
       "      <td>2014-02-01</td>\n",
       "      <td>NaT</td>\n",
       "      <td>1.0</td>\n",
       "      <td>103.20</td>\n",
       "      <td>7362.90</td>\n",
       "      <td>0</td>\n",
       "      <td>1</td>\n",
       "      <td>0</td>\n",
       "      <td>1</td>\n",
       "      <td>0</td>\n",
       "      <td>72.0</td>\n",
       "    </tr>\n",
       "    <tr>\n",
       "      <th>7040</th>\n",
       "      <td>4801-JZAZL</td>\n",
       "      <td>2019-03-01</td>\n",
       "      <td>NaT</td>\n",
       "      <td>1.0</td>\n",
       "      <td>29.60</td>\n",
       "      <td>346.45</td>\n",
       "      <td>1</td>\n",
       "      <td>0</td>\n",
       "      <td>0</td>\n",
       "      <td>0</td>\n",
       "      <td>1</td>\n",
       "      <td>11.0</td>\n",
       "    </tr>\n",
       "    <tr>\n",
       "      <th>7041</th>\n",
       "      <td>8361-LTMKD</td>\n",
       "      <td>2019-07-01</td>\n",
       "      <td>2019-11-01</td>\n",
       "      <td>1.0</td>\n",
       "      <td>74.40</td>\n",
       "      <td>306.60</td>\n",
       "      <td>1</td>\n",
       "      <td>0</td>\n",
       "      <td>0</td>\n",
       "      <td>0</td>\n",
       "      <td>0</td>\n",
       "      <td>4.0</td>\n",
       "    </tr>\n",
       "    <tr>\n",
       "      <th>7042</th>\n",
       "      <td>3186-AJIEK</td>\n",
       "      <td>2014-08-01</td>\n",
       "      <td>NaT</td>\n",
       "      <td>1.0</td>\n",
       "      <td>105.65</td>\n",
       "      <td>6844.50</td>\n",
       "      <td>0</td>\n",
       "      <td>0</td>\n",
       "      <td>1</td>\n",
       "      <td>0</td>\n",
       "      <td>0</td>\n",
       "      <td>66.0</td>\n",
       "    </tr>\n",
       "  </tbody>\n",
       "</table>\n",
       "<p>7043 rows × 12 columns</p>\n",
       "</div>"
      ],
      "text/plain": [
       "      customerID  BeginDate    EndDate  PaperlessBilling  MonthlyCharges  \\\n",
       "0     7590-VHVEG 2020-01-01        NaT               1.0           29.85   \n",
       "1     5575-GNVDE 2017-04-01        NaT               0.0           56.95   \n",
       "2     3668-QPYBK 2019-10-01 2019-12-01               1.0           53.85   \n",
       "3     7795-CFOCW 2016-05-01        NaT               0.0           42.30   \n",
       "4     9237-HQITU 2019-09-01 2019-11-01               1.0           70.70   \n",
       "...          ...        ...        ...               ...             ...   \n",
       "7038  6840-RESVB 2018-02-01        NaT               1.0           84.80   \n",
       "7039  2234-XADUH 2014-02-01        NaT               1.0          103.20   \n",
       "7040  4801-JZAZL 2019-03-01        NaT               1.0           29.60   \n",
       "7041  8361-LTMKD 2019-07-01 2019-11-01               1.0           74.40   \n",
       "7042  3186-AJIEK 2014-08-01        NaT               1.0          105.65   \n",
       "\n",
       "      TotalCharges  type_Month-to-month  type_One year  \\\n",
       "0            29.85                    1              0   \n",
       "1          1889.50                    0              1   \n",
       "2           108.15                    1              0   \n",
       "3          1840.75                    0              1   \n",
       "4           151.65                    1              0   \n",
       "...            ...                  ...            ...   \n",
       "7038       1990.50                    0              1   \n",
       "7039       7362.90                    0              1   \n",
       "7040        346.45                    1              0   \n",
       "7041        306.60                    1              0   \n",
       "7042       6844.50                    0              0   \n",
       "\n",
       "      method_Bank transfer (automatic)  method_Credit card (automatic)  \\\n",
       "0                                    0                               0   \n",
       "1                                    0                               0   \n",
       "2                                    0                               0   \n",
       "3                                    1                               0   \n",
       "4                                    0                               0   \n",
       "...                                ...                             ...   \n",
       "7038                                 0                               0   \n",
       "7039                                 0                               1   \n",
       "7040                                 0                               0   \n",
       "7041                                 0                               0   \n",
       "7042                                 1                               0   \n",
       "\n",
       "      method_Electronic check  total_time  \n",
       "0                           1         1.0  \n",
       "1                           0        34.0  \n",
       "2                           0         2.0  \n",
       "3                           0        45.0  \n",
       "4                           1         2.0  \n",
       "...                       ...         ...  \n",
       "7038                        0        24.0  \n",
       "7039                        0        72.0  \n",
       "7040                        1        11.0  \n",
       "7041                        0         4.0  \n",
       "7042                        0        66.0  \n",
       "\n",
       "[7043 rows x 12 columns]"
      ]
     },
     "execution_count": 35,
     "metadata": {},
     "output_type": "execute_result"
    }
   ],
   "source": [
    "contract"
   ]
  },
  {
   "cell_type": "markdown",
   "id": "3bd95191",
   "metadata": {},
   "source": [
    "New columns\n",
    "\n",
    "2. Did the client leave"
   ]
  },
  {
   "cell_type": "code",
   "execution_count": 36,
   "id": "afeab194",
   "metadata": {},
   "outputs": [],
   "source": [
    "contract['exit'] = np.where(contract['EndDate'].isna(), 0, 1)"
   ]
  },
  {
   "cell_type": "code",
   "execution_count": 37,
   "id": "995b7104",
   "metadata": {},
   "outputs": [
    {
     "name": "stdout",
     "output_type": "stream",
     "text": [
      "<class 'pandas.core.frame.DataFrame'>\n",
      "RangeIndex: 7043 entries, 0 to 7042\n",
      "Data columns (total 13 columns):\n",
      " #   Column                            Non-Null Count  Dtype         \n",
      "---  ------                            --------------  -----         \n",
      " 0   customerID                        7043 non-null   object        \n",
      " 1   BeginDate                         7043 non-null   datetime64[ns]\n",
      " 2   EndDate                           1869 non-null   datetime64[ns]\n",
      " 3   PaperlessBilling                  7043 non-null   float64       \n",
      " 4   MonthlyCharges                    7043 non-null   float64       \n",
      " 5   TotalCharges                      7032 non-null   float64       \n",
      " 6   type_Month-to-month               7043 non-null   uint8         \n",
      " 7   type_One year                     7043 non-null   uint8         \n",
      " 8   method_Bank transfer (automatic)  7043 non-null   uint8         \n",
      " 9   method_Credit card (automatic)    7043 non-null   uint8         \n",
      " 10  method_Electronic check           7043 non-null   uint8         \n",
      " 11  total_time                        7043 non-null   float64       \n",
      " 12  exit                              7043 non-null   int32         \n",
      "dtypes: datetime64[ns](2), float64(4), int32(1), object(1), uint8(5)\n",
      "memory usage: 447.2+ KB\n"
     ]
    }
   ],
   "source": [
    "contract.info()"
   ]
  },
  {
   "cell_type": "markdown",
   "id": "1d586a9a",
   "metadata": {},
   "source": [
    "Checking empty values for  TotalCharges. It happend because clients just started\n",
    "\n",
    "They couldn't stopped using our service - there is no value in keeping them in DF"
   ]
  },
  {
   "cell_type": "code",
   "execution_count": 38,
   "id": "97cc1674",
   "metadata": {},
   "outputs": [
    {
     "data": {
      "text/html": [
       "<div>\n",
       "<style scoped>\n",
       "    .dataframe tbody tr th:only-of-type {\n",
       "        vertical-align: middle;\n",
       "    }\n",
       "\n",
       "    .dataframe tbody tr th {\n",
       "        vertical-align: top;\n",
       "    }\n",
       "\n",
       "    .dataframe thead th {\n",
       "        text-align: right;\n",
       "    }\n",
       "</style>\n",
       "<table border=\"1\" class=\"dataframe\">\n",
       "  <thead>\n",
       "    <tr style=\"text-align: right;\">\n",
       "      <th></th>\n",
       "      <th>customerID</th>\n",
       "      <th>BeginDate</th>\n",
       "      <th>EndDate</th>\n",
       "      <th>PaperlessBilling</th>\n",
       "      <th>MonthlyCharges</th>\n",
       "      <th>TotalCharges</th>\n",
       "      <th>type_Month-to-month</th>\n",
       "      <th>type_One year</th>\n",
       "      <th>method_Bank transfer (automatic)</th>\n",
       "      <th>method_Credit card (automatic)</th>\n",
       "      <th>method_Electronic check</th>\n",
       "      <th>total_time</th>\n",
       "      <th>exit</th>\n",
       "    </tr>\n",
       "  </thead>\n",
       "  <tbody>\n",
       "    <tr>\n",
       "      <th>488</th>\n",
       "      <td>4472-LVYGI</td>\n",
       "      <td>2020-02-01</td>\n",
       "      <td>NaT</td>\n",
       "      <td>1.0</td>\n",
       "      <td>52.55</td>\n",
       "      <td>NaN</td>\n",
       "      <td>0</td>\n",
       "      <td>0</td>\n",
       "      <td>1</td>\n",
       "      <td>0</td>\n",
       "      <td>0</td>\n",
       "      <td>0.0</td>\n",
       "      <td>0</td>\n",
       "    </tr>\n",
       "    <tr>\n",
       "      <th>753</th>\n",
       "      <td>3115-CZMZD</td>\n",
       "      <td>2020-02-01</td>\n",
       "      <td>NaT</td>\n",
       "      <td>0.0</td>\n",
       "      <td>20.25</td>\n",
       "      <td>NaN</td>\n",
       "      <td>0</td>\n",
       "      <td>0</td>\n",
       "      <td>0</td>\n",
       "      <td>0</td>\n",
       "      <td>0</td>\n",
       "      <td>0.0</td>\n",
       "      <td>0</td>\n",
       "    </tr>\n",
       "    <tr>\n",
       "      <th>936</th>\n",
       "      <td>5709-LVOEQ</td>\n",
       "      <td>2020-02-01</td>\n",
       "      <td>NaT</td>\n",
       "      <td>0.0</td>\n",
       "      <td>80.85</td>\n",
       "      <td>NaN</td>\n",
       "      <td>0</td>\n",
       "      <td>0</td>\n",
       "      <td>0</td>\n",
       "      <td>0</td>\n",
       "      <td>0</td>\n",
       "      <td>0.0</td>\n",
       "      <td>0</td>\n",
       "    </tr>\n",
       "    <tr>\n",
       "      <th>1082</th>\n",
       "      <td>4367-NUYAO</td>\n",
       "      <td>2020-02-01</td>\n",
       "      <td>NaT</td>\n",
       "      <td>0.0</td>\n",
       "      <td>25.75</td>\n",
       "      <td>NaN</td>\n",
       "      <td>0</td>\n",
       "      <td>0</td>\n",
       "      <td>0</td>\n",
       "      <td>0</td>\n",
       "      <td>0</td>\n",
       "      <td>0.0</td>\n",
       "      <td>0</td>\n",
       "    </tr>\n",
       "    <tr>\n",
       "      <th>1340</th>\n",
       "      <td>1371-DWPAZ</td>\n",
       "      <td>2020-02-01</td>\n",
       "      <td>NaT</td>\n",
       "      <td>0.0</td>\n",
       "      <td>56.05</td>\n",
       "      <td>NaN</td>\n",
       "      <td>0</td>\n",
       "      <td>0</td>\n",
       "      <td>0</td>\n",
       "      <td>1</td>\n",
       "      <td>0</td>\n",
       "      <td>0.0</td>\n",
       "      <td>0</td>\n",
       "    </tr>\n",
       "    <tr>\n",
       "      <th>3331</th>\n",
       "      <td>7644-OMVMY</td>\n",
       "      <td>2020-02-01</td>\n",
       "      <td>NaT</td>\n",
       "      <td>0.0</td>\n",
       "      <td>19.85</td>\n",
       "      <td>NaN</td>\n",
       "      <td>0</td>\n",
       "      <td>0</td>\n",
       "      <td>0</td>\n",
       "      <td>0</td>\n",
       "      <td>0</td>\n",
       "      <td>0.0</td>\n",
       "      <td>0</td>\n",
       "    </tr>\n",
       "    <tr>\n",
       "      <th>3826</th>\n",
       "      <td>3213-VVOLG</td>\n",
       "      <td>2020-02-01</td>\n",
       "      <td>NaT</td>\n",
       "      <td>0.0</td>\n",
       "      <td>25.35</td>\n",
       "      <td>NaN</td>\n",
       "      <td>0</td>\n",
       "      <td>0</td>\n",
       "      <td>0</td>\n",
       "      <td>0</td>\n",
       "      <td>0</td>\n",
       "      <td>0.0</td>\n",
       "      <td>0</td>\n",
       "    </tr>\n",
       "    <tr>\n",
       "      <th>4380</th>\n",
       "      <td>2520-SGTTA</td>\n",
       "      <td>2020-02-01</td>\n",
       "      <td>NaT</td>\n",
       "      <td>0.0</td>\n",
       "      <td>20.00</td>\n",
       "      <td>NaN</td>\n",
       "      <td>0</td>\n",
       "      <td>0</td>\n",
       "      <td>0</td>\n",
       "      <td>0</td>\n",
       "      <td>0</td>\n",
       "      <td>0.0</td>\n",
       "      <td>0</td>\n",
       "    </tr>\n",
       "    <tr>\n",
       "      <th>5218</th>\n",
       "      <td>2923-ARZLG</td>\n",
       "      <td>2020-02-01</td>\n",
       "      <td>NaT</td>\n",
       "      <td>1.0</td>\n",
       "      <td>19.70</td>\n",
       "      <td>NaN</td>\n",
       "      <td>0</td>\n",
       "      <td>1</td>\n",
       "      <td>0</td>\n",
       "      <td>0</td>\n",
       "      <td>0</td>\n",
       "      <td>0.0</td>\n",
       "      <td>0</td>\n",
       "    </tr>\n",
       "    <tr>\n",
       "      <th>6670</th>\n",
       "      <td>4075-WKNIU</td>\n",
       "      <td>2020-02-01</td>\n",
       "      <td>NaT</td>\n",
       "      <td>0.0</td>\n",
       "      <td>73.35</td>\n",
       "      <td>NaN</td>\n",
       "      <td>0</td>\n",
       "      <td>0</td>\n",
       "      <td>0</td>\n",
       "      <td>0</td>\n",
       "      <td>0</td>\n",
       "      <td>0.0</td>\n",
       "      <td>0</td>\n",
       "    </tr>\n",
       "    <tr>\n",
       "      <th>6754</th>\n",
       "      <td>2775-SEFEE</td>\n",
       "      <td>2020-02-01</td>\n",
       "      <td>NaT</td>\n",
       "      <td>1.0</td>\n",
       "      <td>61.90</td>\n",
       "      <td>NaN</td>\n",
       "      <td>0</td>\n",
       "      <td>0</td>\n",
       "      <td>1</td>\n",
       "      <td>0</td>\n",
       "      <td>0</td>\n",
       "      <td>0.0</td>\n",
       "      <td>0</td>\n",
       "    </tr>\n",
       "  </tbody>\n",
       "</table>\n",
       "</div>"
      ],
      "text/plain": [
       "      customerID  BeginDate EndDate  PaperlessBilling  MonthlyCharges  \\\n",
       "488   4472-LVYGI 2020-02-01     NaT               1.0           52.55   \n",
       "753   3115-CZMZD 2020-02-01     NaT               0.0           20.25   \n",
       "936   5709-LVOEQ 2020-02-01     NaT               0.0           80.85   \n",
       "1082  4367-NUYAO 2020-02-01     NaT               0.0           25.75   \n",
       "1340  1371-DWPAZ 2020-02-01     NaT               0.0           56.05   \n",
       "3331  7644-OMVMY 2020-02-01     NaT               0.0           19.85   \n",
       "3826  3213-VVOLG 2020-02-01     NaT               0.0           25.35   \n",
       "4380  2520-SGTTA 2020-02-01     NaT               0.0           20.00   \n",
       "5218  2923-ARZLG 2020-02-01     NaT               1.0           19.70   \n",
       "6670  4075-WKNIU 2020-02-01     NaT               0.0           73.35   \n",
       "6754  2775-SEFEE 2020-02-01     NaT               1.0           61.90   \n",
       "\n",
       "      TotalCharges  type_Month-to-month  type_One year  \\\n",
       "488            NaN                    0              0   \n",
       "753            NaN                    0              0   \n",
       "936            NaN                    0              0   \n",
       "1082           NaN                    0              0   \n",
       "1340           NaN                    0              0   \n",
       "3331           NaN                    0              0   \n",
       "3826           NaN                    0              0   \n",
       "4380           NaN                    0              0   \n",
       "5218           NaN                    0              1   \n",
       "6670           NaN                    0              0   \n",
       "6754           NaN                    0              0   \n",
       "\n",
       "      method_Bank transfer (automatic)  method_Credit card (automatic)  \\\n",
       "488                                  1                               0   \n",
       "753                                  0                               0   \n",
       "936                                  0                               0   \n",
       "1082                                 0                               0   \n",
       "1340                                 0                               1   \n",
       "3331                                 0                               0   \n",
       "3826                                 0                               0   \n",
       "4380                                 0                               0   \n",
       "5218                                 0                               0   \n",
       "6670                                 0                               0   \n",
       "6754                                 1                               0   \n",
       "\n",
       "      method_Electronic check  total_time  exit  \n",
       "488                         0         0.0     0  \n",
       "753                         0         0.0     0  \n",
       "936                         0         0.0     0  \n",
       "1082                        0         0.0     0  \n",
       "1340                        0         0.0     0  \n",
       "3331                        0         0.0     0  \n",
       "3826                        0         0.0     0  \n",
       "4380                        0         0.0     0  \n",
       "5218                        0         0.0     0  \n",
       "6670                        0         0.0     0  \n",
       "6754                        0         0.0     0  "
      ]
     },
     "execution_count": 38,
     "metadata": {},
     "output_type": "execute_result"
    }
   ],
   "source": [
    "contract.query('TotalCharges != TotalCharges')"
   ]
  },
  {
   "cell_type": "code",
   "execution_count": 39,
   "id": "33f8a895",
   "metadata": {},
   "outputs": [],
   "source": [
    "contract = contract.dropna(subset=['TotalCharges'])"
   ]
  },
  {
   "cell_type": "markdown",
   "id": "99259d1f",
   "metadata": {},
   "source": [
    "### Merging DBs + changing column names"
   ]
  },
  {
   "cell_type": "code",
   "execution_count": 40,
   "id": "797542f8",
   "metadata": {},
   "outputs": [],
   "source": [
    "df = contract"
   ]
  },
  {
   "cell_type": "code",
   "execution_count": 41,
   "id": "ebbc99ba",
   "metadata": {},
   "outputs": [],
   "source": [
    "df = df.merge(internet, how='left', left_on='customerID', right_on='customerID', suffixes=(\"_c\", \"_i\"))\n",
    "df = df.merge(personal, how='left', left_on='customerID', right_on='customerID', suffixes=(\"_c\", \"_p\"))\n",
    "df = df.merge(phone, how='left', left_on='customerID', right_on='customerID', suffixes=(\"_c\", \"_ph\"))"
   ]
  },
  {
   "cell_type": "code",
   "execution_count": 42,
   "id": "764f04e0",
   "metadata": {},
   "outputs": [
    {
     "name": "stdout",
     "output_type": "stream",
     "text": [
      "<class 'pandas.core.frame.DataFrame'>\n",
      "Int64Index: 7032 entries, 0 to 7031\n",
      "Data columns (total 25 columns):\n",
      " #   Column                            Non-Null Count  Dtype         \n",
      "---  ------                            --------------  -----         \n",
      " 0   customerID                        7032 non-null   object        \n",
      " 1   BeginDate                         7032 non-null   datetime64[ns]\n",
      " 2   EndDate                           1869 non-null   datetime64[ns]\n",
      " 3   PaperlessBilling                  7032 non-null   float64       \n",
      " 4   MonthlyCharges                    7032 non-null   float64       \n",
      " 5   TotalCharges                      7032 non-null   float64       \n",
      " 6   type_Month-to-month               7032 non-null   uint8         \n",
      " 7   type_One year                     7032 non-null   uint8         \n",
      " 8   method_Bank transfer (automatic)  7032 non-null   uint8         \n",
      " 9   method_Credit card (automatic)    7032 non-null   uint8         \n",
      " 10  method_Electronic check           7032 non-null   uint8         \n",
      " 11  total_time                        7032 non-null   float64       \n",
      " 12  exit                              7032 non-null   int32         \n",
      " 13  InternetService                   5512 non-null   float64       \n",
      " 14  OnlineSecurity                    5512 non-null   float64       \n",
      " 15  OnlineBackup                      5512 non-null   float64       \n",
      " 16  DeviceProtection                  5512 non-null   float64       \n",
      " 17  TechSupport                       5512 non-null   float64       \n",
      " 18  StreamingTV                       5512 non-null   float64       \n",
      " 19  StreamingMovies                   5512 non-null   float64       \n",
      " 20  gender                            7032 non-null   float64       \n",
      " 21  SeniorCitizen                     7032 non-null   int64         \n",
      " 22  Partner                           7032 non-null   float64       \n",
      " 23  Dependents                        7032 non-null   float64       \n",
      " 24  MultipleLines                     6352 non-null   float64       \n",
      "dtypes: datetime64[ns](2), float64(15), int32(1), int64(1), object(1), uint8(5)\n",
      "memory usage: 1.1+ MB\n"
     ]
    }
   ],
   "source": [
    "df.info()"
   ]
  },
  {
   "cell_type": "code",
   "execution_count": 43,
   "id": "43ed833d",
   "metadata": {},
   "outputs": [],
   "source": [
    "new_names={'customerID' : 'customer_id', \n",
    "           'BeginDate' : 'begin_date', \n",
    "           'EndDate' : 'end_date', \n",
    "           'PaperlessBilling' : 'paperless', \n",
    "           'MonthlyCharges' : 'monthly_charges', \n",
    "           'TotalCharges' : 'total_charges', \n",
    "           'type_Month-to-month' : 'type_month', \n",
    "           'type_One year' : 'type_year', \n",
    "           'method_Bank transfer (automatic)' : 'method_bank', \n",
    "           'method_Credit card (automatic)' : 'method_credit', \n",
    "           'method_Electronic check' : 'method_elcheck', \n",
    "           'total_time' : 'total_time', \n",
    "           'exit' : 'exit', \n",
    "           'InternetService' : 'internet_service', \n",
    "           'OnlineSecurity' : 'online_sec', \n",
    "           'OnlineBackup' : 'online_backup', \n",
    "           'DeviceProtection' : 'device_protect', \n",
    "           'TechSupport' : 'tech_sup', \n",
    "           'StreamingTV' : 'stream_tv', \n",
    "           'StreamingMovies' : 'stream_movie', \n",
    "           'gender' : 'gender', \n",
    "           'SeniorCitizen' : 'senior', \n",
    "           'Partner' : 'partner', \n",
    "           'Dependents' : 'dependents', \n",
    "           'MultipleLines' : 'multiple_lines', }"
   ]
  },
  {
   "cell_type": "code",
   "execution_count": 44,
   "id": "e2265e85",
   "metadata": {},
   "outputs": [],
   "source": [
    "df = df.rename(columns = new_names)"
   ]
  },
  {
   "cell_type": "markdown",
   "id": "2afa8ac0",
   "metadata": {},
   "source": [
    "Nan values after merge happend because client doesn't use this service (if data is correct) \n",
    "\n",
    "1. Create columns to show what is used by client\n",
    "2. Fillna with 0"
   ]
  },
  {
   "cell_type": "code",
   "execution_count": 45,
   "id": "c98d5663",
   "metadata": {},
   "outputs": [],
   "source": [
    "df['use_internet'] = np.where(df['internet_service'].isna(), 0, 1)\n",
    "df['use_phone'] = np.where(df['multiple_lines'].isna(), 0, 1)"
   ]
  },
  {
   "cell_type": "code",
   "execution_count": 46,
   "id": "cfe33ca8",
   "metadata": {},
   "outputs": [],
   "source": [
    "df = df.fillna(0)"
   ]
  },
  {
   "cell_type": "markdown",
   "id": "bb7bfa56",
   "metadata": {},
   "source": [
    "## Prelimenary analysis"
   ]
  },
  {
   "cell_type": "code",
   "execution_count": 47,
   "id": "be69a13c",
   "metadata": {},
   "outputs": [
    {
     "data": {
      "text/html": [
       "<div>\n",
       "<style scoped>\n",
       "    .dataframe tbody tr th:only-of-type {\n",
       "        vertical-align: middle;\n",
       "    }\n",
       "\n",
       "    .dataframe tbody tr th {\n",
       "        vertical-align: top;\n",
       "    }\n",
       "\n",
       "    .dataframe thead th {\n",
       "        text-align: right;\n",
       "    }\n",
       "</style>\n",
       "<table border=\"1\" class=\"dataframe\">\n",
       "  <thead>\n",
       "    <tr style=\"text-align: right;\">\n",
       "      <th></th>\n",
       "      <th>use_internet</th>\n",
       "      <th>use_phone</th>\n",
       "    </tr>\n",
       "  </thead>\n",
       "  <tbody>\n",
       "    <tr>\n",
       "      <th>count</th>\n",
       "      <td>7032.000000</td>\n",
       "      <td>7032.000000</td>\n",
       "    </tr>\n",
       "    <tr>\n",
       "      <th>mean</th>\n",
       "      <td>0.783845</td>\n",
       "      <td>0.903299</td>\n",
       "    </tr>\n",
       "    <tr>\n",
       "      <th>std</th>\n",
       "      <td>0.411650</td>\n",
       "      <td>0.295571</td>\n",
       "    </tr>\n",
       "    <tr>\n",
       "      <th>min</th>\n",
       "      <td>0.000000</td>\n",
       "      <td>0.000000</td>\n",
       "    </tr>\n",
       "    <tr>\n",
       "      <th>25%</th>\n",
       "      <td>1.000000</td>\n",
       "      <td>1.000000</td>\n",
       "    </tr>\n",
       "    <tr>\n",
       "      <th>50%</th>\n",
       "      <td>1.000000</td>\n",
       "      <td>1.000000</td>\n",
       "    </tr>\n",
       "    <tr>\n",
       "      <th>75%</th>\n",
       "      <td>1.000000</td>\n",
       "      <td>1.000000</td>\n",
       "    </tr>\n",
       "    <tr>\n",
       "      <th>max</th>\n",
       "      <td>1.000000</td>\n",
       "      <td>1.000000</td>\n",
       "    </tr>\n",
       "  </tbody>\n",
       "</table>\n",
       "</div>"
      ],
      "text/plain": [
       "       use_internet    use_phone\n",
       "count   7032.000000  7032.000000\n",
       "mean       0.783845     0.903299\n",
       "std        0.411650     0.295571\n",
       "min        0.000000     0.000000\n",
       "25%        1.000000     1.000000\n",
       "50%        1.000000     1.000000\n",
       "75%        1.000000     1.000000\n",
       "max        1.000000     1.000000"
      ]
     },
     "execution_count": 47,
     "metadata": {},
     "output_type": "execute_result"
    }
   ],
   "source": [
    "df[['use_internet', 'use_phone']].describe()"
   ]
  },
  {
   "cell_type": "code",
   "execution_count": 48,
   "id": "d061e6cc",
   "metadata": {},
   "outputs": [
    {
     "data": {
      "text/html": [
       "<div>\n",
       "<style scoped>\n",
       "    .dataframe tbody tr th:only-of-type {\n",
       "        vertical-align: middle;\n",
       "    }\n",
       "\n",
       "    .dataframe tbody tr th {\n",
       "        vertical-align: top;\n",
       "    }\n",
       "\n",
       "    .dataframe thead th {\n",
       "        text-align: right;\n",
       "    }\n",
       "</style>\n",
       "<table border=\"1\" class=\"dataframe\">\n",
       "  <thead>\n",
       "    <tr style=\"text-align: right;\">\n",
       "      <th></th>\n",
       "      <th>use_internet</th>\n",
       "      <th>use_phone</th>\n",
       "    </tr>\n",
       "    <tr>\n",
       "      <th>exit</th>\n",
       "      <th></th>\n",
       "      <th></th>\n",
       "    </tr>\n",
       "  </thead>\n",
       "  <tbody>\n",
       "    <tr>\n",
       "      <th>0</th>\n",
       "      <td>3756</td>\n",
       "      <td>4653</td>\n",
       "    </tr>\n",
       "    <tr>\n",
       "      <th>1</th>\n",
       "      <td>1756</td>\n",
       "      <td>1699</td>\n",
       "    </tr>\n",
       "  </tbody>\n",
       "</table>\n",
       "</div>"
      ],
      "text/plain": [
       "      use_internet  use_phone\n",
       "exit                         \n",
       "0             3756       4653\n",
       "1             1756       1699"
      ]
     },
     "execution_count": 48,
     "metadata": {},
     "output_type": "execute_result"
    }
   ],
   "source": [
    "df.groupby(by='exit')[['use_internet', 'use_phone']].sum()"
   ]
  },
  {
   "cell_type": "code",
   "execution_count": 49,
   "id": "783c8ead",
   "metadata": {},
   "outputs": [
    {
     "data": {
      "text/html": [
       "<div>\n",
       "<style scoped>\n",
       "    .dataframe tbody tr th:only-of-type {\n",
       "        vertical-align: middle;\n",
       "    }\n",
       "\n",
       "    .dataframe tbody tr th {\n",
       "        vertical-align: top;\n",
       "    }\n",
       "\n",
       "    .dataframe thead th {\n",
       "        text-align: right;\n",
       "    }\n",
       "</style>\n",
       "<table border=\"1\" class=\"dataframe\">\n",
       "  <thead>\n",
       "    <tr style=\"text-align: right;\">\n",
       "      <th></th>\n",
       "      <th>use_internet</th>\n",
       "      <th>use_phone</th>\n",
       "    </tr>\n",
       "    <tr>\n",
       "      <th>exit</th>\n",
       "      <th></th>\n",
       "      <th></th>\n",
       "    </tr>\n",
       "  </thead>\n",
       "  <tbody>\n",
       "    <tr>\n",
       "      <th>0</th>\n",
       "      <td>5163</td>\n",
       "      <td>5163</td>\n",
       "    </tr>\n",
       "    <tr>\n",
       "      <th>1</th>\n",
       "      <td>1869</td>\n",
       "      <td>1869</td>\n",
       "    </tr>\n",
       "  </tbody>\n",
       "</table>\n",
       "</div>"
      ],
      "text/plain": [
       "      use_internet  use_phone\n",
       "exit                         \n",
       "0             5163       5163\n",
       "1             1869       1869"
      ]
     },
     "execution_count": 49,
     "metadata": {},
     "output_type": "execute_result"
    }
   ],
   "source": [
    "df.groupby(by='exit')[['use_internet', 'use_phone']].count()"
   ]
  },
  {
   "cell_type": "code",
   "execution_count": 50,
   "id": "d344744b",
   "metadata": {
    "scrolled": true
   },
   "outputs": [
    {
     "data": {
      "text/html": [
       "<div>\n",
       "<style scoped>\n",
       "    .dataframe tbody tr th:only-of-type {\n",
       "        vertical-align: middle;\n",
       "    }\n",
       "\n",
       "    .dataframe tbody tr th {\n",
       "        vertical-align: top;\n",
       "    }\n",
       "\n",
       "    .dataframe thead th {\n",
       "        text-align: right;\n",
       "    }\n",
       "</style>\n",
       "<table border=\"1\" class=\"dataframe\">\n",
       "  <thead>\n",
       "    <tr style=\"text-align: right;\">\n",
       "      <th></th>\n",
       "      <th>use_internet</th>\n",
       "      <th>use_phone</th>\n",
       "    </tr>\n",
       "    <tr>\n",
       "      <th>exit</th>\n",
       "      <th></th>\n",
       "      <th></th>\n",
       "    </tr>\n",
       "  </thead>\n",
       "  <tbody>\n",
       "    <tr>\n",
       "      <th>0</th>\n",
       "      <td>0.727484</td>\n",
       "      <td>0.901220</td>\n",
       "    </tr>\n",
       "    <tr>\n",
       "      <th>1</th>\n",
       "      <td>0.939540</td>\n",
       "      <td>0.909042</td>\n",
       "    </tr>\n",
       "  </tbody>\n",
       "</table>\n",
       "</div>"
      ],
      "text/plain": [
       "      use_internet  use_phone\n",
       "exit                         \n",
       "0         0.727484   0.901220\n",
       "1         0.939540   0.909042"
      ]
     },
     "execution_count": 50,
     "metadata": {},
     "output_type": "execute_result"
    }
   ],
   "source": [
    "x = (df.groupby(by='exit')[['use_internet', 'use_phone']].sum() /\n",
    "df.groupby(by='exit')[['use_internet', 'use_phone']].count())\n",
    "x"
   ]
  },
  {
   "cell_type": "code",
   "execution_count": 51,
   "id": "0fd55aae",
   "metadata": {},
   "outputs": [
    {
     "data": {
      "image/png": "[encoded data removed]",
      "text/plain": [
       "<Figure size 432x288 with 1 Axes>"
      ]
     },
     "metadata": {},
     "output_type": "display_data"
    }
   ],
   "source": [
    "fig, ax = plt.subplots(facecolor='white')\n",
    "\n",
    "labels = ['use_internet', 'use_phone']\n",
    "width = 0.35\n",
    "\n",
    "x1 = ax.bar( np.arange(len(labels)) - width/2, round(x.T[0]*100, 2), width, label='stayed')\n",
    "x2 = ax.bar( np.arange(len(labels)) + width/2, round(x.T[1]*100, 2), width, label='left')\n",
    "\n",
    "ax.bar_label(x1, padding=-11)\n",
    "ax.bar_label(x2, padding=-11)\n",
    "ax.set_xticks(np.arange(len(labels)), labels)\n",
    "ax.legend()\n",
    "\n",
    "plt.show()"
   ]
  },
  {
   "cell_type": "markdown",
   "id": "ccd3b4cd",
   "metadata": {},
   "source": [
    "In overall df 90% of people use phone service and 78% - internet service\n",
    "\n",
    "Phone service is not a determinant factor to distinguish between those who has stayed and who has left. But 94% jn those who left - used internet service (although only 78% use that service)\n",
    "\n",
    "**Conclusion 1**: people who use internet services have a higher chance of leaving (either less satisfied, or more flexible)"
   ]
  },
  {
   "cell_type": "code",
   "execution_count": 52,
   "id": "6ccb81d4",
   "metadata": {},
   "outputs": [
    {
     "data": {
      "text/html": [
       "<div>\n",
       "<style scoped>\n",
       "    .dataframe tbody tr th:only-of-type {\n",
       "        vertical-align: middle;\n",
       "    }\n",
       "\n",
       "    .dataframe tbody tr th {\n",
       "        vertical-align: top;\n",
       "    }\n",
       "\n",
       "    .dataframe thead th {\n",
       "        text-align: right;\n",
       "    }\n",
       "</style>\n",
       "<table border=\"1\" class=\"dataframe\">\n",
       "  <thead>\n",
       "    <tr style=\"text-align: right;\">\n",
       "      <th></th>\n",
       "      <th>use_internet</th>\n",
       "      <th>use_phone</th>\n",
       "    </tr>\n",
       "    <tr>\n",
       "      <th>exit</th>\n",
       "      <th></th>\n",
       "      <th></th>\n",
       "    </tr>\n",
       "  </thead>\n",
       "  <tbody>\n",
       "    <tr>\n",
       "      <th>0</th>\n",
       "      <td>3756</td>\n",
       "      <td>4653</td>\n",
       "    </tr>\n",
       "    <tr>\n",
       "      <th>1</th>\n",
       "      <td>1756</td>\n",
       "      <td>1699</td>\n",
       "    </tr>\n",
       "  </tbody>\n",
       "</table>\n",
       "</div>"
      ],
      "text/plain": [
       "      use_internet  use_phone\n",
       "exit                         \n",
       "0             3756       4653\n",
       "1             1756       1699"
      ]
     },
     "execution_count": 52,
     "metadata": {},
     "output_type": "execute_result"
    }
   ],
   "source": [
    "df.groupby(by='exit')[['use_internet', 'use_phone']].sum()"
   ]
  },
  {
   "cell_type": "code",
   "execution_count": 53,
   "id": "8dbb0e48",
   "metadata": {},
   "outputs": [
    {
     "data": {
      "text/html": [
       "<div>\n",
       "<style scoped>\n",
       "    .dataframe tbody tr th:only-of-type {\n",
       "        vertical-align: middle;\n",
       "    }\n",
       "\n",
       "    .dataframe tbody tr th {\n",
       "        vertical-align: top;\n",
       "    }\n",
       "\n",
       "    .dataframe thead th {\n",
       "        text-align: right;\n",
       "    }\n",
       "</style>\n",
       "<table border=\"1\" class=\"dataframe\">\n",
       "  <thead>\n",
       "    <tr style=\"text-align: right;\">\n",
       "      <th></th>\n",
       "      <th>multiple_lines</th>\n",
       "    </tr>\n",
       "  </thead>\n",
       "  <tbody>\n",
       "    <tr>\n",
       "      <th>count</th>\n",
       "      <td>6352.000000</td>\n",
       "    </tr>\n",
       "    <tr>\n",
       "      <th>mean</th>\n",
       "      <td>0.467097</td>\n",
       "    </tr>\n",
       "    <tr>\n",
       "      <th>std</th>\n",
       "      <td>0.498955</td>\n",
       "    </tr>\n",
       "    <tr>\n",
       "      <th>min</th>\n",
       "      <td>0.000000</td>\n",
       "    </tr>\n",
       "    <tr>\n",
       "      <th>25%</th>\n",
       "      <td>0.000000</td>\n",
       "    </tr>\n",
       "    <tr>\n",
       "      <th>50%</th>\n",
       "      <td>0.000000</td>\n",
       "    </tr>\n",
       "    <tr>\n",
       "      <th>75%</th>\n",
       "      <td>1.000000</td>\n",
       "    </tr>\n",
       "    <tr>\n",
       "      <th>max</th>\n",
       "      <td>1.000000</td>\n",
       "    </tr>\n",
       "  </tbody>\n",
       "</table>\n",
       "</div>"
      ],
      "text/plain": [
       "       multiple_lines\n",
       "count     6352.000000\n",
       "mean         0.467097\n",
       "std          0.498955\n",
       "min          0.000000\n",
       "25%          0.000000\n",
       "50%          0.000000\n",
       "75%          1.000000\n",
       "max          1.000000"
      ]
     },
     "metadata": {},
     "output_type": "display_data"
    },
    {
     "data": {
      "text/html": [
       "<div>\n",
       "<style scoped>\n",
       "    .dataframe tbody tr th:only-of-type {\n",
       "        vertical-align: middle;\n",
       "    }\n",
       "\n",
       "    .dataframe tbody tr th {\n",
       "        vertical-align: top;\n",
       "    }\n",
       "\n",
       "    .dataframe thead th {\n",
       "        text-align: right;\n",
       "    }\n",
       "</style>\n",
       "<table border=\"1\" class=\"dataframe\">\n",
       "  <thead>\n",
       "    <tr style=\"text-align: right;\">\n",
       "      <th></th>\n",
       "      <th>multiple_lines</th>\n",
       "    </tr>\n",
       "    <tr>\n",
       "      <th>exit</th>\n",
       "      <th></th>\n",
       "    </tr>\n",
       "  </thead>\n",
       "  <tbody>\n",
       "    <tr>\n",
       "      <th>0</th>\n",
       "      <td>0.454975</td>\n",
       "    </tr>\n",
       "    <tr>\n",
       "      <th>1</th>\n",
       "      <td>0.500294</td>\n",
       "    </tr>\n",
       "  </tbody>\n",
       "</table>\n",
       "</div>"
      ],
      "text/plain": [
       "      multiple_lines\n",
       "exit                \n",
       "0           0.454975\n",
       "1           0.500294"
      ]
     },
     "metadata": {},
     "output_type": "display_data"
    }
   ],
   "source": [
    "y = df.query('use_phone == 1')\n",
    "display(y[['multiple_lines']].describe())\n",
    "\n",
    "y = (y.groupby(by='exit')[['multiple_lines']].sum() /\n",
    "y.groupby(by='exit')[['multiple_lines']].count())\n",
    "display(y)"
   ]
  },
  {
   "cell_type": "markdown",
   "id": "ccd3b4cd",
   "metadata": {},
   "source": [
    "**Conclusion 2**: Using multiple lines correlates to a higher chance of leaving"
   ]
  },
  {
   "cell_type": "code",
   "execution_count": 54,
   "id": "904034cf",
   "metadata": {},
   "outputs": [],
   "source": [
    "z = pd.DataFrame()\n",
    "z=df[['exit']].describe()\n",
    "z['average_overall'] = z['exit']\n",
    "y = df.query('use_phone == 1 and use_internet==1')\n",
    "z['both internet and phone']=y[['exit']].describe()\n",
    "y = df.query('use_phone == 1 and use_internet==0')\n",
    "z['only phone']=y[['exit']].describe()\n",
    "y = df.query('use_phone == 0 and use_internet==1')\n",
    "z['only internet']=y[['exit']].describe()\n",
    "z= z.drop('exit', axis=1)"
   ]
  },
  {
   "cell_type": "code",
   "execution_count": 55,
   "id": "729ce807",
   "metadata": {},
   "outputs": [
    {
     "data": {
      "text/html": [
       "<div>\n",
       "<style scoped>\n",
       "    .dataframe tbody tr th:only-of-type {\n",
       "        vertical-align: middle;\n",
       "    }\n",
       "\n",
       "    .dataframe tbody tr th {\n",
       "        vertical-align: top;\n",
       "    }\n",
       "\n",
       "    .dataframe thead th {\n",
       "        text-align: right;\n",
       "    }\n",
       "</style>\n",
       "<table border=\"1\" class=\"dataframe\">\n",
       "  <thead>\n",
       "    <tr style=\"text-align: right;\">\n",
       "      <th></th>\n",
       "      <th>average_overall</th>\n",
       "      <th>both internet and phone</th>\n",
       "      <th>only phone</th>\n",
       "      <th>only internet</th>\n",
       "    </tr>\n",
       "  </thead>\n",
       "  <tbody>\n",
       "    <tr>\n",
       "      <th>count</th>\n",
       "      <td>7032.000000</td>\n",
       "      <td>4832.000000</td>\n",
       "      <td>1520.000000</td>\n",
       "      <td>680.000000</td>\n",
       "    </tr>\n",
       "    <tr>\n",
       "      <th>mean</th>\n",
       "      <td>0.265785</td>\n",
       "      <td>0.328228</td>\n",
       "      <td>0.074342</td>\n",
       "      <td>0.250000</td>\n",
       "    </tr>\n",
       "    <tr>\n",
       "      <th>std</th>\n",
       "      <td>0.441782</td>\n",
       "      <td>0.469617</td>\n",
       "      <td>0.262413</td>\n",
       "      <td>0.433331</td>\n",
       "    </tr>\n",
       "    <tr>\n",
       "      <th>min</th>\n",
       "      <td>0.000000</td>\n",
       "      <td>0.000000</td>\n",
       "      <td>0.000000</td>\n",
       "      <td>0.000000</td>\n",
       "    </tr>\n",
       "    <tr>\n",
       "      <th>25%</th>\n",
       "      <td>0.000000</td>\n",
       "      <td>0.000000</td>\n",
       "      <td>0.000000</td>\n",
       "      <td>0.000000</td>\n",
       "    </tr>\n",
       "    <tr>\n",
       "      <th>50%</th>\n",
       "      <td>0.000000</td>\n",
       "      <td>0.000000</td>\n",
       "      <td>0.000000</td>\n",
       "      <td>0.000000</td>\n",
       "    </tr>\n",
       "    <tr>\n",
       "      <th>75%</th>\n",
       "      <td>1.000000</td>\n",
       "      <td>1.000000</td>\n",
       "      <td>0.000000</td>\n",
       "      <td>0.250000</td>\n",
       "    </tr>\n",
       "    <tr>\n",
       "      <th>max</th>\n",
       "      <td>1.000000</td>\n",
       "      <td>1.000000</td>\n",
       "      <td>1.000000</td>\n",
       "      <td>1.000000</td>\n",
       "    </tr>\n",
       "  </tbody>\n",
       "</table>\n",
       "</div>"
      ],
      "text/plain": [
       "       average_overall  both internet and phone   only phone  only internet\n",
       "count      7032.000000              4832.000000  1520.000000     680.000000\n",
       "mean          0.265785                 0.328228     0.074342       0.250000\n",
       "std           0.441782                 0.469617     0.262413       0.433331\n",
       "min           0.000000                 0.000000     0.000000       0.000000\n",
       "25%           0.000000                 0.000000     0.000000       0.000000\n",
       "50%           0.000000                 0.000000     0.000000       0.000000\n",
       "75%           1.000000                 1.000000     0.000000       0.250000\n",
       "max           1.000000                 1.000000     1.000000       1.000000"
      ]
     },
     "execution_count": 55,
     "metadata": {},
     "output_type": "execute_result"
    }
   ],
   "source": [
    "z"
   ]
  },
  {
   "cell_type": "markdown",
   "id": "ccd3b4cd",
   "metadata": {},
   "source": [
    "**Conclusion 3**: Among those who used both services almost 1/3 left"
   ]
  },
  {
   "cell_type": "code",
   "execution_count": 56,
   "id": "d36ee54b",
   "metadata": {},
   "outputs": [
    {
     "data": {
      "text/html": [
       "<div>\n",
       "<style scoped>\n",
       "    .dataframe tbody tr th:only-of-type {\n",
       "        vertical-align: middle;\n",
       "    }\n",
       "\n",
       "    .dataframe tbody tr th {\n",
       "        vertical-align: top;\n",
       "    }\n",
       "\n",
       "    .dataframe thead th {\n",
       "        text-align: right;\n",
       "    }\n",
       "</style>\n",
       "<table border=\"1\" class=\"dataframe\">\n",
       "  <thead>\n",
       "    <tr style=\"text-align: right;\">\n",
       "      <th></th>\n",
       "      <th>average_charges_overall</th>\n",
       "      <th>exit_charges</th>\n",
       "    </tr>\n",
       "  </thead>\n",
       "  <tbody>\n",
       "    <tr>\n",
       "      <th>count</th>\n",
       "      <td>7032.000000</td>\n",
       "      <td>1869.000000</td>\n",
       "    </tr>\n",
       "    <tr>\n",
       "      <th>mean</th>\n",
       "      <td>64.798208</td>\n",
       "      <td>74.441332</td>\n",
       "    </tr>\n",
       "    <tr>\n",
       "      <th>std</th>\n",
       "      <td>30.085974</td>\n",
       "      <td>24.666053</td>\n",
       "    </tr>\n",
       "    <tr>\n",
       "      <th>min</th>\n",
       "      <td>18.250000</td>\n",
       "      <td>18.850000</td>\n",
       "    </tr>\n",
       "    <tr>\n",
       "      <th>25%</th>\n",
       "      <td>35.587500</td>\n",
       "      <td>56.150000</td>\n",
       "    </tr>\n",
       "    <tr>\n",
       "      <th>50%</th>\n",
       "      <td>70.350000</td>\n",
       "      <td>79.650000</td>\n",
       "    </tr>\n",
       "    <tr>\n",
       "      <th>75%</th>\n",
       "      <td>89.862500</td>\n",
       "      <td>94.200000</td>\n",
       "    </tr>\n",
       "    <tr>\n",
       "      <th>max</th>\n",
       "      <td>118.750000</td>\n",
       "      <td>118.350000</td>\n",
       "    </tr>\n",
       "  </tbody>\n",
       "</table>\n",
       "</div>"
      ],
      "text/plain": [
       "       average_charges_overall  exit_charges\n",
       "count              7032.000000   1869.000000\n",
       "mean                 64.798208     74.441332\n",
       "std                  30.085974     24.666053\n",
       "min                  18.250000     18.850000\n",
       "25%                  35.587500     56.150000\n",
       "50%                  70.350000     79.650000\n",
       "75%                  89.862500     94.200000\n",
       "max                 118.750000    118.350000"
      ]
     },
     "execution_count": 56,
     "metadata": {},
     "output_type": "execute_result"
    }
   ],
   "source": [
    "z = pd.DataFrame()\n",
    "z=df[['monthly_charges']].describe()\n",
    "z['average_charges_overall'] = z['monthly_charges']\n",
    "z= z.drop('monthly_charges', axis=1)\n",
    "y = df.query('exit==1')\n",
    "z['exit_charges'] = y[['monthly_charges']].describe()\n",
    "z"
   ]
  },
  {
   "cell_type": "markdown",
   "id": "ccd3b4cd",
   "metadata": {},
   "source": [
    "**Conclusion 4**: Clients who left payed more on average"
   ]
  },
  {
   "cell_type": "code",
   "execution_count": 57,
   "id": "bc7e0ff2",
   "metadata": {},
   "outputs": [
    {
     "data": {
      "text/html": [
       "<div>\n",
       "<style scoped>\n",
       "    .dataframe tbody tr th:only-of-type {\n",
       "        vertical-align: middle;\n",
       "    }\n",
       "\n",
       "    .dataframe tbody tr th {\n",
       "        vertical-align: top;\n",
       "    }\n",
       "\n",
       "    .dataframe thead th {\n",
       "        text-align: right;\n",
       "    }\n",
       "</style>\n",
       "<table border=\"1\" class=\"dataframe\">\n",
       "  <thead>\n",
       "    <tr style=\"text-align: right;\">\n",
       "      <th></th>\n",
       "      <th>customer_id</th>\n",
       "      <th>begin_date</th>\n",
       "      <th>end_date</th>\n",
       "      <th>paperless</th>\n",
       "      <th>monthly_charges</th>\n",
       "      <th>total_charges</th>\n",
       "      <th>type_month</th>\n",
       "      <th>type_year</th>\n",
       "      <th>method_bank</th>\n",
       "      <th>method_credit</th>\n",
       "      <th>method_elcheck</th>\n",
       "      <th>total_time</th>\n",
       "      <th>exit</th>\n",
       "      <th>internet_service</th>\n",
       "      <th>online_sec</th>\n",
       "      <th>online_backup</th>\n",
       "      <th>device_protect</th>\n",
       "      <th>tech_sup</th>\n",
       "      <th>stream_tv</th>\n",
       "      <th>stream_movie</th>\n",
       "      <th>gender</th>\n",
       "      <th>senior</th>\n",
       "      <th>partner</th>\n",
       "      <th>dependents</th>\n",
       "      <th>multiple_lines</th>\n",
       "      <th>use_internet</th>\n",
       "      <th>use_phone</th>\n",
       "    </tr>\n",
       "  </thead>\n",
       "  <tbody>\n",
       "    <tr>\n",
       "      <th>11</th>\n",
       "      <td>7469-LKBCI</td>\n",
       "      <td>2018-10-01</td>\n",
       "      <td>0</td>\n",
       "      <td>0.0</td>\n",
       "      <td>18.95</td>\n",
       "      <td>326.80</td>\n",
       "      <td>0</td>\n",
       "      <td>0</td>\n",
       "      <td>0</td>\n",
       "      <td>1</td>\n",
       "      <td>0</td>\n",
       "      <td>16.0</td>\n",
       "      <td>0</td>\n",
       "      <td>0.0</td>\n",
       "      <td>0.0</td>\n",
       "      <td>0.0</td>\n",
       "      <td>0.0</td>\n",
       "      <td>0.0</td>\n",
       "      <td>0.0</td>\n",
       "      <td>0.0</td>\n",
       "      <td>1.0</td>\n",
       "      <td>0</td>\n",
       "      <td>0.0</td>\n",
       "      <td>0.0</td>\n",
       "      <td>0.0</td>\n",
       "      <td>0</td>\n",
       "      <td>1</td>\n",
       "    </tr>\n",
       "    <tr>\n",
       "      <th>158</th>\n",
       "      <td>6371-NZYEG</td>\n",
       "      <td>2018-10-01</td>\n",
       "      <td>0</td>\n",
       "      <td>0.0</td>\n",
       "      <td>64.25</td>\n",
       "      <td>1024.00</td>\n",
       "      <td>0</td>\n",
       "      <td>0</td>\n",
       "      <td>0</td>\n",
       "      <td>0</td>\n",
       "      <td>0</td>\n",
       "      <td>16.0</td>\n",
       "      <td>0</td>\n",
       "      <td>0.0</td>\n",
       "      <td>1.0</td>\n",
       "      <td>0.0</td>\n",
       "      <td>1.0</td>\n",
       "      <td>0.0</td>\n",
       "      <td>1.0</td>\n",
       "      <td>0.0</td>\n",
       "      <td>1.0</td>\n",
       "      <td>0</td>\n",
       "      <td>1.0</td>\n",
       "      <td>1.0</td>\n",
       "      <td>0.0</td>\n",
       "      <td>1</td>\n",
       "      <td>1</td>\n",
       "    </tr>\n",
       "    <tr>\n",
       "      <th>159</th>\n",
       "      <td>7554-NEWDD</td>\n",
       "      <td>2019-04-01</td>\n",
       "      <td>0</td>\n",
       "      <td>0.0</td>\n",
       "      <td>25.70</td>\n",
       "      <td>251.60</td>\n",
       "      <td>0</td>\n",
       "      <td>0</td>\n",
       "      <td>1</td>\n",
       "      <td>0</td>\n",
       "      <td>0</td>\n",
       "      <td>10.0</td>\n",
       "      <td>0</td>\n",
       "      <td>0.0</td>\n",
       "      <td>0.0</td>\n",
       "      <td>0.0</td>\n",
       "      <td>0.0</td>\n",
       "      <td>0.0</td>\n",
       "      <td>0.0</td>\n",
       "      <td>0.0</td>\n",
       "      <td>1.0</td>\n",
       "      <td>0</td>\n",
       "      <td>0.0</td>\n",
       "      <td>0.0</td>\n",
       "      <td>1.0</td>\n",
       "      <td>0</td>\n",
       "      <td>1</td>\n",
       "    </tr>\n",
       "    <tr>\n",
       "      <th>172</th>\n",
       "      <td>6727-IOTLZ</td>\n",
       "      <td>2018-12-01</td>\n",
       "      <td>0</td>\n",
       "      <td>0.0</td>\n",
       "      <td>81.95</td>\n",
       "      <td>1181.75</td>\n",
       "      <td>0</td>\n",
       "      <td>0</td>\n",
       "      <td>0</td>\n",
       "      <td>0</td>\n",
       "      <td>0</td>\n",
       "      <td>14.0</td>\n",
       "      <td>0</td>\n",
       "      <td>0.0</td>\n",
       "      <td>0.0</td>\n",
       "      <td>1.0</td>\n",
       "      <td>1.0</td>\n",
       "      <td>1.0</td>\n",
       "      <td>1.0</td>\n",
       "      <td>1.0</td>\n",
       "      <td>1.0</td>\n",
       "      <td>0</td>\n",
       "      <td>1.0</td>\n",
       "      <td>0.0</td>\n",
       "      <td>0.0</td>\n",
       "      <td>1</td>\n",
       "      <td>1</td>\n",
       "    </tr>\n",
       "    <tr>\n",
       "      <th>196</th>\n",
       "      <td>9178-JHUVJ</td>\n",
       "      <td>2018-02-01</td>\n",
       "      <td>0</td>\n",
       "      <td>1.0</td>\n",
       "      <td>24.10</td>\n",
       "      <td>587.40</td>\n",
       "      <td>0</td>\n",
       "      <td>0</td>\n",
       "      <td>1</td>\n",
       "      <td>0</td>\n",
       "      <td>0</td>\n",
       "      <td>24.0</td>\n",
       "      <td>0</td>\n",
       "      <td>0.0</td>\n",
       "      <td>0.0</td>\n",
       "      <td>0.0</td>\n",
       "      <td>0.0</td>\n",
       "      <td>0.0</td>\n",
       "      <td>0.0</td>\n",
       "      <td>0.0</td>\n",
       "      <td>1.0</td>\n",
       "      <td>0</td>\n",
       "      <td>1.0</td>\n",
       "      <td>1.0</td>\n",
       "      <td>1.0</td>\n",
       "      <td>0</td>\n",
       "      <td>1</td>\n",
       "    </tr>\n",
       "    <tr>\n",
       "      <th>...</th>\n",
       "      <td>...</td>\n",
       "      <td>...</td>\n",
       "      <td>...</td>\n",
       "      <td>...</td>\n",
       "      <td>...</td>\n",
       "      <td>...</td>\n",
       "      <td>...</td>\n",
       "      <td>...</td>\n",
       "      <td>...</td>\n",
       "      <td>...</td>\n",
       "      <td>...</td>\n",
       "      <td>...</td>\n",
       "      <td>...</td>\n",
       "      <td>...</td>\n",
       "      <td>...</td>\n",
       "      <td>...</td>\n",
       "      <td>...</td>\n",
       "      <td>...</td>\n",
       "      <td>...</td>\n",
       "      <td>...</td>\n",
       "      <td>...</td>\n",
       "      <td>...</td>\n",
       "      <td>...</td>\n",
       "      <td>...</td>\n",
       "      <td>...</td>\n",
       "      <td>...</td>\n",
       "      <td>...</td>\n",
       "    </tr>\n",
       "    <tr>\n",
       "      <th>6818</th>\n",
       "      <td>8148-WOCMK</td>\n",
       "      <td>2019-06-01</td>\n",
       "      <td>0</td>\n",
       "      <td>0.0</td>\n",
       "      <td>19.60</td>\n",
       "      <td>125.00</td>\n",
       "      <td>0</td>\n",
       "      <td>0</td>\n",
       "      <td>0</td>\n",
       "      <td>1</td>\n",
       "      <td>0</td>\n",
       "      <td>8.0</td>\n",
       "      <td>0</td>\n",
       "      <td>0.0</td>\n",
       "      <td>0.0</td>\n",
       "      <td>0.0</td>\n",
       "      <td>0.0</td>\n",
       "      <td>0.0</td>\n",
       "      <td>0.0</td>\n",
       "      <td>0.0</td>\n",
       "      <td>1.0</td>\n",
       "      <td>0</td>\n",
       "      <td>1.0</td>\n",
       "      <td>1.0</td>\n",
       "      <td>0.0</td>\n",
       "      <td>0</td>\n",
       "      <td>1</td>\n",
       "    </tr>\n",
       "    <tr>\n",
       "      <th>6823</th>\n",
       "      <td>3635-JBPSG</td>\n",
       "      <td>2018-11-01</td>\n",
       "      <td>0</td>\n",
       "      <td>1.0</td>\n",
       "      <td>38.80</td>\n",
       "      <td>603.00</td>\n",
       "      <td>0</td>\n",
       "      <td>0</td>\n",
       "      <td>0</td>\n",
       "      <td>0</td>\n",
       "      <td>0</td>\n",
       "      <td>15.0</td>\n",
       "      <td>0</td>\n",
       "      <td>0.0</td>\n",
       "      <td>0.0</td>\n",
       "      <td>1.0</td>\n",
       "      <td>0.0</td>\n",
       "      <td>0.0</td>\n",
       "      <td>0.0</td>\n",
       "      <td>1.0</td>\n",
       "      <td>0.0</td>\n",
       "      <td>0</td>\n",
       "      <td>0.0</td>\n",
       "      <td>0.0</td>\n",
       "      <td>0.0</td>\n",
       "      <td>1</td>\n",
       "      <td>0</td>\n",
       "    </tr>\n",
       "    <tr>\n",
       "      <th>6854</th>\n",
       "      <td>8792-AOROI</td>\n",
       "      <td>2019-06-01</td>\n",
       "      <td>0</td>\n",
       "      <td>0.0</td>\n",
       "      <td>65.50</td>\n",
       "      <td>564.35</td>\n",
       "      <td>0</td>\n",
       "      <td>0</td>\n",
       "      <td>0</td>\n",
       "      <td>0</td>\n",
       "      <td>0</td>\n",
       "      <td>8.0</td>\n",
       "      <td>0</td>\n",
       "      <td>0.0</td>\n",
       "      <td>1.0</td>\n",
       "      <td>0.0</td>\n",
       "      <td>0.0</td>\n",
       "      <td>1.0</td>\n",
       "      <td>0.0</td>\n",
       "      <td>1.0</td>\n",
       "      <td>0.0</td>\n",
       "      <td>0</td>\n",
       "      <td>1.0</td>\n",
       "      <td>0.0</td>\n",
       "      <td>0.0</td>\n",
       "      <td>1</td>\n",
       "      <td>1</td>\n",
       "    </tr>\n",
       "    <tr>\n",
       "      <th>6947</th>\n",
       "      <td>3078-ZKNTS</td>\n",
       "      <td>2019-01-01</td>\n",
       "      <td>0</td>\n",
       "      <td>1.0</td>\n",
       "      <td>19.75</td>\n",
       "      <td>246.70</td>\n",
       "      <td>0</td>\n",
       "      <td>0</td>\n",
       "      <td>1</td>\n",
       "      <td>0</td>\n",
       "      <td>0</td>\n",
       "      <td>13.0</td>\n",
       "      <td>0</td>\n",
       "      <td>0.0</td>\n",
       "      <td>0.0</td>\n",
       "      <td>0.0</td>\n",
       "      <td>0.0</td>\n",
       "      <td>0.0</td>\n",
       "      <td>0.0</td>\n",
       "      <td>0.0</td>\n",
       "      <td>0.0</td>\n",
       "      <td>0</td>\n",
       "      <td>1.0</td>\n",
       "      <td>1.0</td>\n",
       "      <td>0.0</td>\n",
       "      <td>0</td>\n",
       "      <td>1</td>\n",
       "    </tr>\n",
       "    <tr>\n",
       "      <th>6964</th>\n",
       "      <td>1904-WAJAA</td>\n",
       "      <td>2018-02-01</td>\n",
       "      <td>0</td>\n",
       "      <td>0.0</td>\n",
       "      <td>64.35</td>\n",
       "      <td>1558.65</td>\n",
       "      <td>0</td>\n",
       "      <td>0</td>\n",
       "      <td>0</td>\n",
       "      <td>0</td>\n",
       "      <td>1</td>\n",
       "      <td>24.0</td>\n",
       "      <td>0</td>\n",
       "      <td>0.0</td>\n",
       "      <td>1.0</td>\n",
       "      <td>1.0</td>\n",
       "      <td>1.0</td>\n",
       "      <td>0.0</td>\n",
       "      <td>0.0</td>\n",
       "      <td>0.0</td>\n",
       "      <td>0.0</td>\n",
       "      <td>0</td>\n",
       "      <td>1.0</td>\n",
       "      <td>1.0</td>\n",
       "      <td>1.0</td>\n",
       "      <td>1</td>\n",
       "      <td>1</td>\n",
       "    </tr>\n",
       "  </tbody>\n",
       "</table>\n",
       "<p>148 rows × 27 columns</p>\n",
       "</div>"
      ],
      "text/plain": [
       "     customer_id begin_date end_date  paperless  monthly_charges  \\\n",
       "11    7469-LKBCI 2018-10-01        0        0.0            18.95   \n",
       "158   6371-NZYEG 2018-10-01        0        0.0            64.25   \n",
       "159   7554-NEWDD 2019-04-01        0        0.0            25.70   \n",
       "172   6727-IOTLZ 2018-12-01        0        0.0            81.95   \n",
       "196   9178-JHUVJ 2018-02-01        0        1.0            24.10   \n",
       "...          ...        ...      ...        ...              ...   \n",
       "6818  8148-WOCMK 2019-06-01        0        0.0            19.60   \n",
       "6823  3635-JBPSG 2018-11-01        0        1.0            38.80   \n",
       "6854  8792-AOROI 2019-06-01        0        0.0            65.50   \n",
       "6947  3078-ZKNTS 2019-01-01        0        1.0            19.75   \n",
       "6964  1904-WAJAA 2018-02-01        0        0.0            64.35   \n",
       "\n",
       "      total_charges  type_month  type_year  method_bank  method_credit  \\\n",
       "11           326.80           0          0            0              1   \n",
       "158         1024.00           0          0            0              0   \n",
       "159          251.60           0          0            1              0   \n",
       "172         1181.75           0          0            0              0   \n",
       "196          587.40           0          0            1              0   \n",
       "...             ...         ...        ...          ...            ...   \n",
       "6818         125.00           0          0            0              1   \n",
       "6823         603.00           0          0            0              0   \n",
       "6854         564.35           0          0            0              0   \n",
       "6947         246.70           0          0            1              0   \n",
       "6964        1558.65           0          0            0              0   \n",
       "\n",
       "      method_elcheck  total_time  exit  internet_service  online_sec  \\\n",
       "11                 0        16.0     0               0.0         0.0   \n",
       "158                0        16.0     0               0.0         1.0   \n",
       "159                0        10.0     0               0.0         0.0   \n",
       "172                0        14.0     0               0.0         0.0   \n",
       "196                0        24.0     0               0.0         0.0   \n",
       "...              ...         ...   ...               ...         ...   \n",
       "6818               0         8.0     0               0.0         0.0   \n",
       "6823               0        15.0     0               0.0         0.0   \n",
       "6854               0         8.0     0               0.0         1.0   \n",
       "6947               0        13.0     0               0.0         0.0   \n",
       "6964               1        24.0     0               0.0         1.0   \n",
       "\n",
       "      online_backup  device_protect  tech_sup  stream_tv  stream_movie  \\\n",
       "11              0.0             0.0       0.0        0.0           0.0   \n",
       "158             0.0             1.0       0.0        1.0           0.0   \n",
       "159             0.0             0.0       0.0        0.0           0.0   \n",
       "172             1.0             1.0       1.0        1.0           1.0   \n",
       "196             0.0             0.0       0.0        0.0           0.0   \n",
       "...             ...             ...       ...        ...           ...   \n",
       "6818            0.0             0.0       0.0        0.0           0.0   \n",
       "6823            1.0             0.0       0.0        0.0           1.0   \n",
       "6854            0.0             0.0       1.0        0.0           1.0   \n",
       "6947            0.0             0.0       0.0        0.0           0.0   \n",
       "6964            1.0             1.0       0.0        0.0           0.0   \n",
       "\n",
       "      gender  senior  partner  dependents  multiple_lines  use_internet  \\\n",
       "11       1.0       0      0.0         0.0             0.0             0   \n",
       "158      1.0       0      1.0         1.0             0.0             1   \n",
       "159      1.0       0      0.0         0.0             1.0             0   \n",
       "172      1.0       0      1.0         0.0             0.0             1   \n",
       "196      1.0       0      1.0         1.0             1.0             0   \n",
       "...      ...     ...      ...         ...             ...           ...   \n",
       "6818     1.0       0      1.0         1.0             0.0             0   \n",
       "6823     0.0       0      0.0         0.0             0.0             1   \n",
       "6854     0.0       0      1.0         0.0             0.0             1   \n",
       "6947     0.0       0      1.0         1.0             0.0             0   \n",
       "6964     0.0       0      1.0         1.0             1.0             1   \n",
       "\n",
       "      use_phone  \n",
       "11            1  \n",
       "158           1  \n",
       "159           1  \n",
       "172           1  \n",
       "196           1  \n",
       "...         ...  \n",
       "6818          1  \n",
       "6823          0  \n",
       "6854          1  \n",
       "6947          1  \n",
       "6964          1  \n",
       "\n",
       "[148 rows x 27 columns]"
      ]
     },
     "metadata": {},
     "output_type": "display_data"
    },
    {
     "data": {
      "text/html": [
       "<div>\n",
       "<style scoped>\n",
       "    .dataframe tbody tr th:only-of-type {\n",
       "        vertical-align: middle;\n",
       "    }\n",
       "\n",
       "    .dataframe tbody tr th {\n",
       "        vertical-align: top;\n",
       "    }\n",
       "\n",
       "    .dataframe thead th {\n",
       "        text-align: right;\n",
       "    }\n",
       "</style>\n",
       "<table border=\"1\" class=\"dataframe\">\n",
       "  <thead>\n",
       "    <tr style=\"text-align: right;\">\n",
       "      <th></th>\n",
       "      <th>customer_id</th>\n",
       "      <th>begin_date</th>\n",
       "      <th>end_date</th>\n",
       "      <th>paperless</th>\n",
       "      <th>monthly_charges</th>\n",
       "      <th>total_charges</th>\n",
       "      <th>type_month</th>\n",
       "      <th>type_year</th>\n",
       "      <th>method_bank</th>\n",
       "      <th>method_credit</th>\n",
       "      <th>method_elcheck</th>\n",
       "      <th>total_time</th>\n",
       "      <th>exit</th>\n",
       "      <th>internet_service</th>\n",
       "      <th>online_sec</th>\n",
       "      <th>online_backup</th>\n",
       "      <th>device_protect</th>\n",
       "      <th>tech_sup</th>\n",
       "      <th>stream_tv</th>\n",
       "      <th>stream_movie</th>\n",
       "      <th>gender</th>\n",
       "      <th>senior</th>\n",
       "      <th>partner</th>\n",
       "      <th>dependents</th>\n",
       "      <th>multiple_lines</th>\n",
       "      <th>use_internet</th>\n",
       "      <th>use_phone</th>\n",
       "    </tr>\n",
       "  </thead>\n",
       "  <tbody>\n",
       "  </tbody>\n",
       "</table>\n",
       "</div>"
      ],
      "text/plain": [
       "Empty DataFrame\n",
       "Columns: [customer_id, begin_date, end_date, paperless, monthly_charges, total_charges, type_month, type_year, method_bank, method_credit, method_elcheck, total_time, exit, internet_service, online_sec, online_backup, device_protect, tech_sup, stream_tv, stream_movie, gender, senior, partner, dependents, multiple_lines, use_internet, use_phone]\n",
       "Index: []"
      ]
     },
     "execution_count": 57,
     "metadata": {},
     "output_type": "execute_result"
    }
   ],
   "source": [
    "z = df.query('type_month == 0 and type_year == 0')\n",
    "z = z.query('begin_date > \"2018-01-01\"')\n",
    "display(z)\n",
    "z.query('exit == 1')"
   ]
  },
  {
   "cell_type": "code",
   "execution_count": 58,
   "id": "8d7d2500",
   "metadata": {},
   "outputs": [
    {
     "data": {
      "text/html": [
       "<div>\n",
       "<style scoped>\n",
       "    .dataframe tbody tr th:only-of-type {\n",
       "        vertical-align: middle;\n",
       "    }\n",
       "\n",
       "    .dataframe tbody tr th {\n",
       "        vertical-align: top;\n",
       "    }\n",
       "\n",
       "    .dataframe thead th {\n",
       "        text-align: right;\n",
       "    }\n",
       "</style>\n",
       "<table border=\"1\" class=\"dataframe\">\n",
       "  <thead>\n",
       "    <tr style=\"text-align: right;\">\n",
       "      <th></th>\n",
       "      <th>customer_id</th>\n",
       "      <th>begin_date</th>\n",
       "      <th>end_date</th>\n",
       "      <th>paperless</th>\n",
       "      <th>monthly_charges</th>\n",
       "      <th>total_charges</th>\n",
       "      <th>type_month</th>\n",
       "      <th>type_year</th>\n",
       "      <th>method_bank</th>\n",
       "      <th>method_credit</th>\n",
       "      <th>method_elcheck</th>\n",
       "      <th>total_time</th>\n",
       "      <th>exit</th>\n",
       "      <th>internet_service</th>\n",
       "      <th>online_sec</th>\n",
       "      <th>online_backup</th>\n",
       "      <th>device_protect</th>\n",
       "      <th>tech_sup</th>\n",
       "      <th>stream_tv</th>\n",
       "      <th>stream_movie</th>\n",
       "      <th>gender</th>\n",
       "      <th>senior</th>\n",
       "      <th>partner</th>\n",
       "      <th>dependents</th>\n",
       "      <th>multiple_lines</th>\n",
       "      <th>use_internet</th>\n",
       "      <th>use_phone</th>\n",
       "    </tr>\n",
       "  </thead>\n",
       "  <tbody>\n",
       "    <tr>\n",
       "      <th>11</th>\n",
       "      <td>7469-LKBCI</td>\n",
       "      <td>2018-10-01</td>\n",
       "      <td>0</td>\n",
       "      <td>0.0</td>\n",
       "      <td>18.95</td>\n",
       "      <td>326.80</td>\n",
       "      <td>0</td>\n",
       "      <td>0</td>\n",
       "      <td>0</td>\n",
       "      <td>1</td>\n",
       "      <td>0</td>\n",
       "      <td>16.0</td>\n",
       "      <td>0</td>\n",
       "      <td>0.0</td>\n",
       "      <td>0.0</td>\n",
       "      <td>0.0</td>\n",
       "      <td>0.0</td>\n",
       "      <td>0.0</td>\n",
       "      <td>0.0</td>\n",
       "      <td>0.0</td>\n",
       "      <td>1.0</td>\n",
       "      <td>0</td>\n",
       "      <td>0.0</td>\n",
       "      <td>0.0</td>\n",
       "      <td>0.0</td>\n",
       "      <td>0</td>\n",
       "      <td>1</td>\n",
       "    </tr>\n",
       "    <tr>\n",
       "      <th>158</th>\n",
       "      <td>6371-NZYEG</td>\n",
       "      <td>2018-10-01</td>\n",
       "      <td>0</td>\n",
       "      <td>0.0</td>\n",
       "      <td>64.25</td>\n",
       "      <td>1024.00</td>\n",
       "      <td>0</td>\n",
       "      <td>0</td>\n",
       "      <td>0</td>\n",
       "      <td>0</td>\n",
       "      <td>0</td>\n",
       "      <td>16.0</td>\n",
       "      <td>0</td>\n",
       "      <td>0.0</td>\n",
       "      <td>1.0</td>\n",
       "      <td>0.0</td>\n",
       "      <td>1.0</td>\n",
       "      <td>0.0</td>\n",
       "      <td>1.0</td>\n",
       "      <td>0.0</td>\n",
       "      <td>1.0</td>\n",
       "      <td>0</td>\n",
       "      <td>1.0</td>\n",
       "      <td>1.0</td>\n",
       "      <td>0.0</td>\n",
       "      <td>1</td>\n",
       "      <td>1</td>\n",
       "    </tr>\n",
       "    <tr>\n",
       "      <th>159</th>\n",
       "      <td>7554-NEWDD</td>\n",
       "      <td>2019-04-01</td>\n",
       "      <td>0</td>\n",
       "      <td>0.0</td>\n",
       "      <td>25.70</td>\n",
       "      <td>251.60</td>\n",
       "      <td>0</td>\n",
       "      <td>0</td>\n",
       "      <td>1</td>\n",
       "      <td>0</td>\n",
       "      <td>0</td>\n",
       "      <td>10.0</td>\n",
       "      <td>0</td>\n",
       "      <td>0.0</td>\n",
       "      <td>0.0</td>\n",
       "      <td>0.0</td>\n",
       "      <td>0.0</td>\n",
       "      <td>0.0</td>\n",
       "      <td>0.0</td>\n",
       "      <td>0.0</td>\n",
       "      <td>1.0</td>\n",
       "      <td>0</td>\n",
       "      <td>0.0</td>\n",
       "      <td>0.0</td>\n",
       "      <td>1.0</td>\n",
       "      <td>0</td>\n",
       "      <td>1</td>\n",
       "    </tr>\n",
       "    <tr>\n",
       "      <th>172</th>\n",
       "      <td>6727-IOTLZ</td>\n",
       "      <td>2018-12-01</td>\n",
       "      <td>0</td>\n",
       "      <td>0.0</td>\n",
       "      <td>81.95</td>\n",
       "      <td>1181.75</td>\n",
       "      <td>0</td>\n",
       "      <td>0</td>\n",
       "      <td>0</td>\n",
       "      <td>0</td>\n",
       "      <td>0</td>\n",
       "      <td>14.0</td>\n",
       "      <td>0</td>\n",
       "      <td>0.0</td>\n",
       "      <td>0.0</td>\n",
       "      <td>1.0</td>\n",
       "      <td>1.0</td>\n",
       "      <td>1.0</td>\n",
       "      <td>1.0</td>\n",
       "      <td>1.0</td>\n",
       "      <td>1.0</td>\n",
       "      <td>0</td>\n",
       "      <td>1.0</td>\n",
       "      <td>0.0</td>\n",
       "      <td>0.0</td>\n",
       "      <td>1</td>\n",
       "      <td>1</td>\n",
       "    </tr>\n",
       "    <tr>\n",
       "      <th>196</th>\n",
       "      <td>9178-JHUVJ</td>\n",
       "      <td>2018-02-01</td>\n",
       "      <td>0</td>\n",
       "      <td>1.0</td>\n",
       "      <td>24.10</td>\n",
       "      <td>587.40</td>\n",
       "      <td>0</td>\n",
       "      <td>0</td>\n",
       "      <td>1</td>\n",
       "      <td>0</td>\n",
       "      <td>0</td>\n",
       "      <td>24.0</td>\n",
       "      <td>0</td>\n",
       "      <td>0.0</td>\n",
       "      <td>0.0</td>\n",
       "      <td>0.0</td>\n",
       "      <td>0.0</td>\n",
       "      <td>0.0</td>\n",
       "      <td>0.0</td>\n",
       "      <td>0.0</td>\n",
       "      <td>1.0</td>\n",
       "      <td>0</td>\n",
       "      <td>1.0</td>\n",
       "      <td>1.0</td>\n",
       "      <td>1.0</td>\n",
       "      <td>0</td>\n",
       "      <td>1</td>\n",
       "    </tr>\n",
       "  </tbody>\n",
       "</table>\n",
       "</div>"
      ],
      "text/plain": [
       "    customer_id begin_date end_date  paperless  monthly_charges  \\\n",
       "11   7469-LKBCI 2018-10-01        0        0.0            18.95   \n",
       "158  6371-NZYEG 2018-10-01        0        0.0            64.25   \n",
       "159  7554-NEWDD 2019-04-01        0        0.0            25.70   \n",
       "172  6727-IOTLZ 2018-12-01        0        0.0            81.95   \n",
       "196  9178-JHUVJ 2018-02-01        0        1.0            24.10   \n",
       "\n",
       "     total_charges  type_month  type_year  method_bank  method_credit  \\\n",
       "11          326.80           0          0            0              1   \n",
       "158        1024.00           0          0            0              0   \n",
       "159         251.60           0          0            1              0   \n",
       "172        1181.75           0          0            0              0   \n",
       "196         587.40           0          0            1              0   \n",
       "\n",
       "     method_elcheck  total_time  exit  internet_service  online_sec  \\\n",
       "11                0        16.0     0               0.0         0.0   \n",
       "158               0        16.0     0               0.0         1.0   \n",
       "159               0        10.0     0               0.0         0.0   \n",
       "172               0        14.0     0               0.0         0.0   \n",
       "196               0        24.0     0               0.0         0.0   \n",
       "\n",
       "     online_backup  device_protect  tech_sup  stream_tv  stream_movie  gender  \\\n",
       "11             0.0             0.0       0.0        0.0           0.0     1.0   \n",
       "158            0.0             1.0       0.0        1.0           0.0     1.0   \n",
       "159            0.0             0.0       0.0        0.0           0.0     1.0   \n",
       "172            1.0             1.0       1.0        1.0           1.0     1.0   \n",
       "196            0.0             0.0       0.0        0.0           0.0     1.0   \n",
       "\n",
       "     senior  partner  dependents  multiple_lines  use_internet  use_phone  \n",
       "11        0      0.0         0.0             0.0             0          1  \n",
       "158       0      1.0         1.0             0.0             1          1  \n",
       "159       0      0.0         0.0             1.0             0          1  \n",
       "172       0      1.0         0.0             0.0             1          1  \n",
       "196       0      1.0         1.0             1.0             0          1  "
      ]
     },
     "execution_count": 58,
     "metadata": {},
     "output_type": "execute_result"
    }
   ],
   "source": [
    "z = df.query('type_month == 0 and type_year == 0')\n",
    "z = z.query('begin_date > \"2018-01-01\"')\n",
    "z.head()"
   ]
  },
  {
   "cell_type": "code",
   "execution_count": 59,
   "id": "2d61e807",
   "metadata": {
    "scrolled": true
   },
   "outputs": [
    {
     "data": {
      "text/html": [
       "<div>\n",
       "<style scoped>\n",
       "    .dataframe tbody tr th:only-of-type {\n",
       "        vertical-align: middle;\n",
       "    }\n",
       "\n",
       "    .dataframe tbody tr th {\n",
       "        vertical-align: top;\n",
       "    }\n",
       "\n",
       "    .dataframe thead th {\n",
       "        text-align: right;\n",
       "    }\n",
       "</style>\n",
       "<table border=\"1\" class=\"dataframe\">\n",
       "  <thead>\n",
       "    <tr style=\"text-align: right;\">\n",
       "      <th></th>\n",
       "      <th>customer_id</th>\n",
       "      <th>begin_date</th>\n",
       "      <th>end_date</th>\n",
       "      <th>paperless</th>\n",
       "      <th>monthly_charges</th>\n",
       "      <th>total_charges</th>\n",
       "      <th>type_month</th>\n",
       "      <th>type_year</th>\n",
       "      <th>method_bank</th>\n",
       "      <th>method_credit</th>\n",
       "      <th>method_elcheck</th>\n",
       "      <th>total_time</th>\n",
       "      <th>exit</th>\n",
       "      <th>internet_service</th>\n",
       "      <th>online_sec</th>\n",
       "      <th>online_backup</th>\n",
       "      <th>device_protect</th>\n",
       "      <th>tech_sup</th>\n",
       "      <th>stream_tv</th>\n",
       "      <th>stream_movie</th>\n",
       "      <th>gender</th>\n",
       "      <th>senior</th>\n",
       "      <th>partner</th>\n",
       "      <th>dependents</th>\n",
       "      <th>multiple_lines</th>\n",
       "      <th>use_internet</th>\n",
       "      <th>use_phone</th>\n",
       "    </tr>\n",
       "  </thead>\n",
       "  <tbody>\n",
       "    <tr>\n",
       "      <th>21</th>\n",
       "      <td>1680-VDCWW</td>\n",
       "      <td>2019-02-01</td>\n",
       "      <td>0</td>\n",
       "      <td>0.0</td>\n",
       "      <td>19.80</td>\n",
       "      <td>202.25</td>\n",
       "      <td>0</td>\n",
       "      <td>1</td>\n",
       "      <td>1</td>\n",
       "      <td>0</td>\n",
       "      <td>0</td>\n",
       "      <td>12.0</td>\n",
       "      <td>0</td>\n",
       "      <td>0.0</td>\n",
       "      <td>0.0</td>\n",
       "      <td>0.0</td>\n",
       "      <td>0.0</td>\n",
       "      <td>0.0</td>\n",
       "      <td>0.0</td>\n",
       "      <td>0.0</td>\n",
       "      <td>1.0</td>\n",
       "      <td>0</td>\n",
       "      <td>1.0</td>\n",
       "      <td>0.0</td>\n",
       "      <td>0.0</td>\n",
       "      <td>0</td>\n",
       "      <td>1</td>\n",
       "    </tr>\n",
       "    <tr>\n",
       "      <th>40</th>\n",
       "      <td>8865-TNMNX</td>\n",
       "      <td>2019-04-01</td>\n",
       "      <td>0</td>\n",
       "      <td>0.0</td>\n",
       "      <td>49.55</td>\n",
       "      <td>475.70</td>\n",
       "      <td>0</td>\n",
       "      <td>1</td>\n",
       "      <td>0</td>\n",
       "      <td>0</td>\n",
       "      <td>0</td>\n",
       "      <td>10.0</td>\n",
       "      <td>0</td>\n",
       "      <td>0.0</td>\n",
       "      <td>0.0</td>\n",
       "      <td>1.0</td>\n",
       "      <td>0.0</td>\n",
       "      <td>0.0</td>\n",
       "      <td>0.0</td>\n",
       "      <td>0.0</td>\n",
       "      <td>1.0</td>\n",
       "      <td>0</td>\n",
       "      <td>1.0</td>\n",
       "      <td>1.0</td>\n",
       "      <td>0.0</td>\n",
       "      <td>1</td>\n",
       "      <td>1</td>\n",
       "    </tr>\n",
       "    <tr>\n",
       "      <th>146</th>\n",
       "      <td>6837-BJYDQ</td>\n",
       "      <td>2019-11-01</td>\n",
       "      <td>0</td>\n",
       "      <td>0.0</td>\n",
       "      <td>19.60</td>\n",
       "      <td>61.35</td>\n",
       "      <td>0</td>\n",
       "      <td>1</td>\n",
       "      <td>0</td>\n",
       "      <td>0</td>\n",
       "      <td>0</td>\n",
       "      <td>3.0</td>\n",
       "      <td>0</td>\n",
       "      <td>0.0</td>\n",
       "      <td>0.0</td>\n",
       "      <td>0.0</td>\n",
       "      <td>0.0</td>\n",
       "      <td>0.0</td>\n",
       "      <td>0.0</td>\n",
       "      <td>0.0</td>\n",
       "      <td>1.0</td>\n",
       "      <td>0</td>\n",
       "      <td>0.0</td>\n",
       "      <td>0.0</td>\n",
       "      <td>0.0</td>\n",
       "      <td>0</td>\n",
       "      <td>1</td>\n",
       "    </tr>\n",
       "    <tr>\n",
       "      <th>164</th>\n",
       "      <td>2907-ILJBN</td>\n",
       "      <td>2019-03-01</td>\n",
       "      <td>0</td>\n",
       "      <td>0.0</td>\n",
       "      <td>20.60</td>\n",
       "      <td>233.90</td>\n",
       "      <td>0</td>\n",
       "      <td>1</td>\n",
       "      <td>0</td>\n",
       "      <td>0</td>\n",
       "      <td>0</td>\n",
       "      <td>11.0</td>\n",
       "      <td>0</td>\n",
       "      <td>0.0</td>\n",
       "      <td>0.0</td>\n",
       "      <td>0.0</td>\n",
       "      <td>0.0</td>\n",
       "      <td>0.0</td>\n",
       "      <td>0.0</td>\n",
       "      <td>0.0</td>\n",
       "      <td>0.0</td>\n",
       "      <td>0</td>\n",
       "      <td>1.0</td>\n",
       "      <td>1.0</td>\n",
       "      <td>0.0</td>\n",
       "      <td>0</td>\n",
       "      <td>1</td>\n",
       "    </tr>\n",
       "    <tr>\n",
       "      <th>222</th>\n",
       "      <td>6469-MRVET</td>\n",
       "      <td>2020-01-01</td>\n",
       "      <td>0</td>\n",
       "      <td>1.0</td>\n",
       "      <td>20.20</td>\n",
       "      <td>20.20</td>\n",
       "      <td>0</td>\n",
       "      <td>1</td>\n",
       "      <td>0</td>\n",
       "      <td>0</td>\n",
       "      <td>1</td>\n",
       "      <td>1.0</td>\n",
       "      <td>0</td>\n",
       "      <td>0.0</td>\n",
       "      <td>0.0</td>\n",
       "      <td>0.0</td>\n",
       "      <td>0.0</td>\n",
       "      <td>0.0</td>\n",
       "      <td>0.0</td>\n",
       "      <td>0.0</td>\n",
       "      <td>1.0</td>\n",
       "      <td>0</td>\n",
       "      <td>1.0</td>\n",
       "      <td>1.0</td>\n",
       "      <td>0.0</td>\n",
       "      <td>0</td>\n",
       "      <td>1</td>\n",
       "    </tr>\n",
       "    <tr>\n",
       "      <th>...</th>\n",
       "      <td>...</td>\n",
       "      <td>...</td>\n",
       "      <td>...</td>\n",
       "      <td>...</td>\n",
       "      <td>...</td>\n",
       "      <td>...</td>\n",
       "      <td>...</td>\n",
       "      <td>...</td>\n",
       "      <td>...</td>\n",
       "      <td>...</td>\n",
       "      <td>...</td>\n",
       "      <td>...</td>\n",
       "      <td>...</td>\n",
       "      <td>...</td>\n",
       "      <td>...</td>\n",
       "      <td>...</td>\n",
       "      <td>...</td>\n",
       "      <td>...</td>\n",
       "      <td>...</td>\n",
       "      <td>...</td>\n",
       "      <td>...</td>\n",
       "      <td>...</td>\n",
       "      <td>...</td>\n",
       "      <td>...</td>\n",
       "      <td>...</td>\n",
       "      <td>...</td>\n",
       "      <td>...</td>\n",
       "    </tr>\n",
       "    <tr>\n",
       "      <th>6569</th>\n",
       "      <td>3898-BSJYF</td>\n",
       "      <td>2019-04-01</td>\n",
       "      <td>0</td>\n",
       "      <td>0.0</td>\n",
       "      <td>73.55</td>\n",
       "      <td>693.30</td>\n",
       "      <td>0</td>\n",
       "      <td>1</td>\n",
       "      <td>0</td>\n",
       "      <td>1</td>\n",
       "      <td>0</td>\n",
       "      <td>10.0</td>\n",
       "      <td>0</td>\n",
       "      <td>0.0</td>\n",
       "      <td>1.0</td>\n",
       "      <td>0.0</td>\n",
       "      <td>1.0</td>\n",
       "      <td>1.0</td>\n",
       "      <td>0.0</td>\n",
       "      <td>1.0</td>\n",
       "      <td>0.0</td>\n",
       "      <td>0</td>\n",
       "      <td>0.0</td>\n",
       "      <td>1.0</td>\n",
       "      <td>1.0</td>\n",
       "      <td>1</td>\n",
       "      <td>1</td>\n",
       "    </tr>\n",
       "    <tr>\n",
       "      <th>6619</th>\n",
       "      <td>9979-RGMZT</td>\n",
       "      <td>2019-07-01</td>\n",
       "      <td>0</td>\n",
       "      <td>1.0</td>\n",
       "      <td>94.05</td>\n",
       "      <td>633.45</td>\n",
       "      <td>0</td>\n",
       "      <td>1</td>\n",
       "      <td>0</td>\n",
       "      <td>0</td>\n",
       "      <td>0</td>\n",
       "      <td>7.0</td>\n",
       "      <td>0</td>\n",
       "      <td>1.0</td>\n",
       "      <td>0.0</td>\n",
       "      <td>1.0</td>\n",
       "      <td>0.0</td>\n",
       "      <td>0.0</td>\n",
       "      <td>1.0</td>\n",
       "      <td>1.0</td>\n",
       "      <td>0.0</td>\n",
       "      <td>0</td>\n",
       "      <td>0.0</td>\n",
       "      <td>0.0</td>\n",
       "      <td>0.0</td>\n",
       "      <td>1</td>\n",
       "      <td>1</td>\n",
       "    </tr>\n",
       "    <tr>\n",
       "      <th>6627</th>\n",
       "      <td>3468-DRVQJ</td>\n",
       "      <td>2019-04-01</td>\n",
       "      <td>0</td>\n",
       "      <td>0.0</td>\n",
       "      <td>70.30</td>\n",
       "      <td>676.15</td>\n",
       "      <td>0</td>\n",
       "      <td>1</td>\n",
       "      <td>0</td>\n",
       "      <td>0</td>\n",
       "      <td>1</td>\n",
       "      <td>10.0</td>\n",
       "      <td>0</td>\n",
       "      <td>0.0</td>\n",
       "      <td>1.0</td>\n",
       "      <td>1.0</td>\n",
       "      <td>0.0</td>\n",
       "      <td>0.0</td>\n",
       "      <td>1.0</td>\n",
       "      <td>0.0</td>\n",
       "      <td>0.0</td>\n",
       "      <td>0</td>\n",
       "      <td>1.0</td>\n",
       "      <td>1.0</td>\n",
       "      <td>1.0</td>\n",
       "      <td>1</td>\n",
       "      <td>1</td>\n",
       "    </tr>\n",
       "    <tr>\n",
       "      <th>6674</th>\n",
       "      <td>0305-SQECB</td>\n",
       "      <td>2019-03-01</td>\n",
       "      <td>0</td>\n",
       "      <td>1.0</td>\n",
       "      <td>36.05</td>\n",
       "      <td>402.60</td>\n",
       "      <td>0</td>\n",
       "      <td>1</td>\n",
       "      <td>0</td>\n",
       "      <td>0</td>\n",
       "      <td>0</td>\n",
       "      <td>11.0</td>\n",
       "      <td>0</td>\n",
       "      <td>0.0</td>\n",
       "      <td>1.0</td>\n",
       "      <td>0.0</td>\n",
       "      <td>0.0</td>\n",
       "      <td>1.0</td>\n",
       "      <td>0.0</td>\n",
       "      <td>0.0</td>\n",
       "      <td>0.0</td>\n",
       "      <td>0</td>\n",
       "      <td>0.0</td>\n",
       "      <td>1.0</td>\n",
       "      <td>0.0</td>\n",
       "      <td>1</td>\n",
       "      <td>0</td>\n",
       "    </tr>\n",
       "    <tr>\n",
       "      <th>7025</th>\n",
       "      <td>7750-EYXWZ</td>\n",
       "      <td>2019-02-01</td>\n",
       "      <td>0</td>\n",
       "      <td>0.0</td>\n",
       "      <td>60.65</td>\n",
       "      <td>743.30</td>\n",
       "      <td>0</td>\n",
       "      <td>1</td>\n",
       "      <td>0</td>\n",
       "      <td>0</td>\n",
       "      <td>1</td>\n",
       "      <td>12.0</td>\n",
       "      <td>0</td>\n",
       "      <td>0.0</td>\n",
       "      <td>0.0</td>\n",
       "      <td>1.0</td>\n",
       "      <td>1.0</td>\n",
       "      <td>1.0</td>\n",
       "      <td>1.0</td>\n",
       "      <td>1.0</td>\n",
       "      <td>0.0</td>\n",
       "      <td>0</td>\n",
       "      <td>0.0</td>\n",
       "      <td>0.0</td>\n",
       "      <td>0.0</td>\n",
       "      <td>1</td>\n",
       "      <td>0</td>\n",
       "    </tr>\n",
       "  </tbody>\n",
       "</table>\n",
       "<p>118 rows × 27 columns</p>\n",
       "</div>"
      ],
      "text/plain": [
       "     customer_id begin_date end_date  paperless  monthly_charges  \\\n",
       "21    1680-VDCWW 2019-02-01        0        0.0            19.80   \n",
       "40    8865-TNMNX 2019-04-01        0        0.0            49.55   \n",
       "146   6837-BJYDQ 2019-11-01        0        0.0            19.60   \n",
       "164   2907-ILJBN 2019-03-01        0        0.0            20.60   \n",
       "222   6469-MRVET 2020-01-01        0        1.0            20.20   \n",
       "...          ...        ...      ...        ...              ...   \n",
       "6569  3898-BSJYF 2019-04-01        0        0.0            73.55   \n",
       "6619  9979-RGMZT 2019-07-01        0        1.0            94.05   \n",
       "6627  3468-DRVQJ 2019-04-01        0        0.0            70.30   \n",
       "6674  0305-SQECB 2019-03-01        0        1.0            36.05   \n",
       "7025  7750-EYXWZ 2019-02-01        0        0.0            60.65   \n",
       "\n",
       "      total_charges  type_month  type_year  method_bank  method_credit  \\\n",
       "21           202.25           0          1            1              0   \n",
       "40           475.70           0          1            0              0   \n",
       "146           61.35           0          1            0              0   \n",
       "164          233.90           0          1            0              0   \n",
       "222           20.20           0          1            0              0   \n",
       "...             ...         ...        ...          ...            ...   \n",
       "6569         693.30           0          1            0              1   \n",
       "6619         633.45           0          1            0              0   \n",
       "6627         676.15           0          1            0              0   \n",
       "6674         402.60           0          1            0              0   \n",
       "7025         743.30           0          1            0              0   \n",
       "\n",
       "      method_elcheck  total_time  exit  internet_service  online_sec  \\\n",
       "21                 0        12.0     0               0.0         0.0   \n",
       "40                 0        10.0     0               0.0         0.0   \n",
       "146                0         3.0     0               0.0         0.0   \n",
       "164                0        11.0     0               0.0         0.0   \n",
       "222                1         1.0     0               0.0         0.0   \n",
       "...              ...         ...   ...               ...         ...   \n",
       "6569               0        10.0     0               0.0         1.0   \n",
       "6619               0         7.0     0               1.0         0.0   \n",
       "6627               1        10.0     0               0.0         1.0   \n",
       "6674               0        11.0     0               0.0         1.0   \n",
       "7025               1        12.0     0               0.0         0.0   \n",
       "\n",
       "      online_backup  device_protect  tech_sup  stream_tv  stream_movie  \\\n",
       "21              0.0             0.0       0.0        0.0           0.0   \n",
       "40              1.0             0.0       0.0        0.0           0.0   \n",
       "146             0.0             0.0       0.0        0.0           0.0   \n",
       "164             0.0             0.0       0.0        0.0           0.0   \n",
       "222             0.0             0.0       0.0        0.0           0.0   \n",
       "...             ...             ...       ...        ...           ...   \n",
       "6569            0.0             1.0       1.0        0.0           1.0   \n",
       "6619            1.0             0.0       0.0        1.0           1.0   \n",
       "6627            1.0             0.0       0.0        1.0           0.0   \n",
       "6674            0.0             0.0       1.0        0.0           0.0   \n",
       "7025            1.0             1.0       1.0        1.0           1.0   \n",
       "\n",
       "      gender  senior  partner  dependents  multiple_lines  use_internet  \\\n",
       "21       1.0       0      1.0         0.0             0.0             0   \n",
       "40       1.0       0      1.0         1.0             0.0             1   \n",
       "146      1.0       0      0.0         0.0             0.0             0   \n",
       "164      0.0       0      1.0         1.0             0.0             0   \n",
       "222      1.0       0      1.0         1.0             0.0             0   \n",
       "...      ...     ...      ...         ...             ...           ...   \n",
       "6569     0.0       0      0.0         1.0             1.0             1   \n",
       "6619     0.0       0      0.0         0.0             0.0             1   \n",
       "6627     0.0       0      1.0         1.0             1.0             1   \n",
       "6674     0.0       0      0.0         1.0             0.0             1   \n",
       "7025     0.0       0      0.0         0.0             0.0             1   \n",
       "\n",
       "      use_phone  \n",
       "21            1  \n",
       "40            1  \n",
       "146           1  \n",
       "164           1  \n",
       "222           1  \n",
       "...         ...  \n",
       "6569          1  \n",
       "6619          1  \n",
       "6627          1  \n",
       "6674          0  \n",
       "7025          0  \n",
       "\n",
       "[118 rows x 27 columns]"
      ]
     },
     "metadata": {},
     "output_type": "display_data"
    },
    {
     "data": {
      "text/html": [
       "<div>\n",
       "<style scoped>\n",
       "    .dataframe tbody tr th:only-of-type {\n",
       "        vertical-align: middle;\n",
       "    }\n",
       "\n",
       "    .dataframe tbody tr th {\n",
       "        vertical-align: top;\n",
       "    }\n",
       "\n",
       "    .dataframe thead th {\n",
       "        text-align: right;\n",
       "    }\n",
       "</style>\n",
       "<table border=\"1\" class=\"dataframe\">\n",
       "  <thead>\n",
       "    <tr style=\"text-align: right;\">\n",
       "      <th></th>\n",
       "      <th>customer_id</th>\n",
       "      <th>begin_date</th>\n",
       "      <th>end_date</th>\n",
       "      <th>paperless</th>\n",
       "      <th>monthly_charges</th>\n",
       "      <th>total_charges</th>\n",
       "      <th>type_month</th>\n",
       "      <th>type_year</th>\n",
       "      <th>method_bank</th>\n",
       "      <th>method_credit</th>\n",
       "      <th>method_elcheck</th>\n",
       "      <th>total_time</th>\n",
       "      <th>exit</th>\n",
       "      <th>internet_service</th>\n",
       "      <th>online_sec</th>\n",
       "      <th>online_backup</th>\n",
       "      <th>device_protect</th>\n",
       "      <th>tech_sup</th>\n",
       "      <th>stream_tv</th>\n",
       "      <th>stream_movie</th>\n",
       "      <th>gender</th>\n",
       "      <th>senior</th>\n",
       "      <th>partner</th>\n",
       "      <th>dependents</th>\n",
       "      <th>multiple_lines</th>\n",
       "      <th>use_internet</th>\n",
       "      <th>use_phone</th>\n",
       "    </tr>\n",
       "  </thead>\n",
       "  <tbody>\n",
       "    <tr>\n",
       "      <th>657</th>\n",
       "      <td>4464-JCOLN</td>\n",
       "      <td>2019-11-01</td>\n",
       "      <td>2020-01-01 00:00:00</td>\n",
       "      <td>0.0</td>\n",
       "      <td>19.85</td>\n",
       "      <td>35.9</td>\n",
       "      <td>0</td>\n",
       "      <td>1</td>\n",
       "      <td>0</td>\n",
       "      <td>0</td>\n",
       "      <td>0</td>\n",
       "      <td>2.0</td>\n",
       "      <td>1</td>\n",
       "      <td>0.0</td>\n",
       "      <td>0.0</td>\n",
       "      <td>0.0</td>\n",
       "      <td>0.0</td>\n",
       "      <td>0.0</td>\n",
       "      <td>0.0</td>\n",
       "      <td>0.0</td>\n",
       "      <td>1.0</td>\n",
       "      <td>0</td>\n",
       "      <td>1.0</td>\n",
       "      <td>1.0</td>\n",
       "      <td>0.0</td>\n",
       "      <td>0</td>\n",
       "      <td>1</td>\n",
       "    </tr>\n",
       "    <tr>\n",
       "      <th>1371</th>\n",
       "      <td>3164-AALRN</td>\n",
       "      <td>2019-07-01</td>\n",
       "      <td>2019-12-01 00:00:00</td>\n",
       "      <td>1.0</td>\n",
       "      <td>70.00</td>\n",
       "      <td>347.4</td>\n",
       "      <td>0</td>\n",
       "      <td>1</td>\n",
       "      <td>0</td>\n",
       "      <td>0</td>\n",
       "      <td>0</td>\n",
       "      <td>5.0</td>\n",
       "      <td>1</td>\n",
       "      <td>0.0</td>\n",
       "      <td>0.0</td>\n",
       "      <td>0.0</td>\n",
       "      <td>1.0</td>\n",
       "      <td>0.0</td>\n",
       "      <td>1.0</td>\n",
       "      <td>1.0</td>\n",
       "      <td>1.0</td>\n",
       "      <td>0</td>\n",
       "      <td>0.0</td>\n",
       "      <td>0.0</td>\n",
       "      <td>0.0</td>\n",
       "      <td>1</td>\n",
       "      <td>1</td>\n",
       "    </tr>\n",
       "    <tr>\n",
       "      <th>1489</th>\n",
       "      <td>2667-WYLWJ</td>\n",
       "      <td>2019-02-01</td>\n",
       "      <td>2019-10-01 00:00:00</td>\n",
       "      <td>1.0</td>\n",
       "      <td>19.75</td>\n",
       "      <td>145.0</td>\n",
       "      <td>0</td>\n",
       "      <td>1</td>\n",
       "      <td>0</td>\n",
       "      <td>0</td>\n",
       "      <td>0</td>\n",
       "      <td>8.0</td>\n",
       "      <td>1</td>\n",
       "      <td>0.0</td>\n",
       "      <td>0.0</td>\n",
       "      <td>0.0</td>\n",
       "      <td>0.0</td>\n",
       "      <td>0.0</td>\n",
       "      <td>0.0</td>\n",
       "      <td>0.0</td>\n",
       "      <td>0.0</td>\n",
       "      <td>0</td>\n",
       "      <td>1.0</td>\n",
       "      <td>1.0</td>\n",
       "      <td>0.0</td>\n",
       "      <td>0</td>\n",
       "      <td>1</td>\n",
       "    </tr>\n",
       "    <tr>\n",
       "      <th>2799</th>\n",
       "      <td>6158-DWPZT</td>\n",
       "      <td>2019-02-01</td>\n",
       "      <td>2019-11-01 00:00:00</td>\n",
       "      <td>0.0</td>\n",
       "      <td>24.10</td>\n",
       "      <td>259.8</td>\n",
       "      <td>0</td>\n",
       "      <td>1</td>\n",
       "      <td>1</td>\n",
       "      <td>0</td>\n",
       "      <td>0</td>\n",
       "      <td>9.0</td>\n",
       "      <td>1</td>\n",
       "      <td>0.0</td>\n",
       "      <td>0.0</td>\n",
       "      <td>0.0</td>\n",
       "      <td>0.0</td>\n",
       "      <td>0.0</td>\n",
       "      <td>0.0</td>\n",
       "      <td>0.0</td>\n",
       "      <td>1.0</td>\n",
       "      <td>0</td>\n",
       "      <td>1.0</td>\n",
       "      <td>0.0</td>\n",
       "      <td>0.0</td>\n",
       "      <td>1</td>\n",
       "      <td>0</td>\n",
       "    </tr>\n",
       "    <tr>\n",
       "      <th>3784</th>\n",
       "      <td>6598-RFFVI</td>\n",
       "      <td>2019-09-01</td>\n",
       "      <td>2019-11-01 00:00:00</td>\n",
       "      <td>0.0</td>\n",
       "      <td>19.30</td>\n",
       "      <td>28.3</td>\n",
       "      <td>0</td>\n",
       "      <td>1</td>\n",
       "      <td>0</td>\n",
       "      <td>1</td>\n",
       "      <td>0</td>\n",
       "      <td>2.0</td>\n",
       "      <td>1</td>\n",
       "      <td>0.0</td>\n",
       "      <td>0.0</td>\n",
       "      <td>0.0</td>\n",
       "      <td>0.0</td>\n",
       "      <td>0.0</td>\n",
       "      <td>0.0</td>\n",
       "      <td>0.0</td>\n",
       "      <td>1.0</td>\n",
       "      <td>0</td>\n",
       "      <td>0.0</td>\n",
       "      <td>0.0</td>\n",
       "      <td>0.0</td>\n",
       "      <td>0</td>\n",
       "      <td>1</td>\n",
       "    </tr>\n",
       "    <tr>\n",
       "      <th>3830</th>\n",
       "      <td>3932-CMDTD</td>\n",
       "      <td>2019-08-01</td>\n",
       "      <td>2019-12-01 00:00:00</td>\n",
       "      <td>1.0</td>\n",
       "      <td>105.65</td>\n",
       "      <td>443.9</td>\n",
       "      <td>0</td>\n",
       "      <td>1</td>\n",
       "      <td>0</td>\n",
       "      <td>0</td>\n",
       "      <td>1</td>\n",
       "      <td>4.0</td>\n",
       "      <td>1</td>\n",
       "      <td>1.0</td>\n",
       "      <td>0.0</td>\n",
       "      <td>1.0</td>\n",
       "      <td>1.0</td>\n",
       "      <td>1.0</td>\n",
       "      <td>1.0</td>\n",
       "      <td>1.0</td>\n",
       "      <td>0.0</td>\n",
       "      <td>0</td>\n",
       "      <td>0.0</td>\n",
       "      <td>0.0</td>\n",
       "      <td>0.0</td>\n",
       "      <td>1</td>\n",
       "      <td>1</td>\n",
       "    </tr>\n",
       "    <tr>\n",
       "      <th>5112</th>\n",
       "      <td>8563-IIOXK</td>\n",
       "      <td>2019-05-01</td>\n",
       "      <td>2019-12-01 00:00:00</td>\n",
       "      <td>1.0</td>\n",
       "      <td>49.75</td>\n",
       "      <td>331.3</td>\n",
       "      <td>0</td>\n",
       "      <td>1</td>\n",
       "      <td>0</td>\n",
       "      <td>0</td>\n",
       "      <td>1</td>\n",
       "      <td>7.0</td>\n",
       "      <td>1</td>\n",
       "      <td>0.0</td>\n",
       "      <td>1.0</td>\n",
       "      <td>0.0</td>\n",
       "      <td>0.0</td>\n",
       "      <td>0.0</td>\n",
       "      <td>0.0</td>\n",
       "      <td>0.0</td>\n",
       "      <td>1.0</td>\n",
       "      <td>0</td>\n",
       "      <td>1.0</td>\n",
       "      <td>1.0</td>\n",
       "      <td>0.0</td>\n",
       "      <td>1</td>\n",
       "      <td>1</td>\n",
       "    </tr>\n",
       "    <tr>\n",
       "      <th>5882</th>\n",
       "      <td>4905-JEFDW</td>\n",
       "      <td>2019-02-01</td>\n",
       "      <td>2020-01-01 00:00:00</td>\n",
       "      <td>1.0</td>\n",
       "      <td>41.60</td>\n",
       "      <td>470.6</td>\n",
       "      <td>0</td>\n",
       "      <td>1</td>\n",
       "      <td>0</td>\n",
       "      <td>0</td>\n",
       "      <td>1</td>\n",
       "      <td>11.0</td>\n",
       "      <td>1</td>\n",
       "      <td>0.0</td>\n",
       "      <td>0.0</td>\n",
       "      <td>0.0</td>\n",
       "      <td>1.0</td>\n",
       "      <td>0.0</td>\n",
       "      <td>1.0</td>\n",
       "      <td>0.0</td>\n",
       "      <td>1.0</td>\n",
       "      <td>0</td>\n",
       "      <td>0.0</td>\n",
       "      <td>0.0</td>\n",
       "      <td>0.0</td>\n",
       "      <td>1</td>\n",
       "      <td>0</td>\n",
       "    </tr>\n",
       "  </tbody>\n",
       "</table>\n",
       "</div>"
      ],
      "text/plain": [
       "     customer_id begin_date             end_date  paperless  monthly_charges  \\\n",
       "657   4464-JCOLN 2019-11-01  2020-01-01 00:00:00        0.0            19.85   \n",
       "1371  3164-AALRN 2019-07-01  2019-12-01 00:00:00        1.0            70.00   \n",
       "1489  2667-WYLWJ 2019-02-01  2019-10-01 00:00:00        1.0            19.75   \n",
       "2799  6158-DWPZT 2019-02-01  2019-11-01 00:00:00        0.0            24.10   \n",
       "3784  6598-RFFVI 2019-09-01  2019-11-01 00:00:00        0.0            19.30   \n",
       "3830  3932-CMDTD 2019-08-01  2019-12-01 00:00:00        1.0           105.65   \n",
       "5112  8563-IIOXK 2019-05-01  2019-12-01 00:00:00        1.0            49.75   \n",
       "5882  4905-JEFDW 2019-02-01  2020-01-01 00:00:00        1.0            41.60   \n",
       "\n",
       "      total_charges  type_month  type_year  method_bank  method_credit  \\\n",
       "657            35.9           0          1            0              0   \n",
       "1371          347.4           0          1            0              0   \n",
       "1489          145.0           0          1            0              0   \n",
       "2799          259.8           0          1            1              0   \n",
       "3784           28.3           0          1            0              1   \n",
       "3830          443.9           0          1            0              0   \n",
       "5112          331.3           0          1            0              0   \n",
       "5882          470.6           0          1            0              0   \n",
       "\n",
       "      method_elcheck  total_time  exit  internet_service  online_sec  \\\n",
       "657                0         2.0     1               0.0         0.0   \n",
       "1371               0         5.0     1               0.0         0.0   \n",
       "1489               0         8.0     1               0.0         0.0   \n",
       "2799               0         9.0     1               0.0         0.0   \n",
       "3784               0         2.0     1               0.0         0.0   \n",
       "3830               1         4.0     1               1.0         0.0   \n",
       "5112               1         7.0     1               0.0         1.0   \n",
       "5882               1        11.0     1               0.0         0.0   \n",
       "\n",
       "      online_backup  device_protect  tech_sup  stream_tv  stream_movie  \\\n",
       "657             0.0             0.0       0.0        0.0           0.0   \n",
       "1371            0.0             1.0       0.0        1.0           1.0   \n",
       "1489            0.0             0.0       0.0        0.0           0.0   \n",
       "2799            0.0             0.0       0.0        0.0           0.0   \n",
       "3784            0.0             0.0       0.0        0.0           0.0   \n",
       "3830            1.0             1.0       1.0        1.0           1.0   \n",
       "5112            0.0             0.0       0.0        0.0           0.0   \n",
       "5882            0.0             1.0       0.0        1.0           0.0   \n",
       "\n",
       "      gender  senior  partner  dependents  multiple_lines  use_internet  \\\n",
       "657      1.0       0      1.0         1.0             0.0             0   \n",
       "1371     1.0       0      0.0         0.0             0.0             1   \n",
       "1489     0.0       0      1.0         1.0             0.0             0   \n",
       "2799     1.0       0      1.0         0.0             0.0             1   \n",
       "3784     1.0       0      0.0         0.0             0.0             0   \n",
       "3830     0.0       0      0.0         0.0             0.0             1   \n",
       "5112     1.0       0      1.0         1.0             0.0             1   \n",
       "5882     1.0       0      0.0         0.0             0.0             1   \n",
       "\n",
       "      use_phone  \n",
       "657           1  \n",
       "1371          1  \n",
       "1489          1  \n",
       "2799          0  \n",
       "3784          1  \n",
       "3830          1  \n",
       "5112          1  \n",
       "5882          0  "
      ]
     },
     "metadata": {},
     "output_type": "display_data"
    }
   ],
   "source": [
    "z = df.query('type_year == 1')\n",
    "z = z.query('begin_date > \"2019-01-02\"')\n",
    "display(z)\n",
    "display(z.query('exit == 1'))"
   ]
  },
  {
   "cell_type": "markdown",
   "id": "ccd3b4cd",
   "metadata": {},
   "source": [
    "**Conclusion 5**: We have 1year and 2 year contracts. Some of them had their term renewed - so we can judge the decision of a client to renew them (or nor). Others didn't have their initial term expire. For example if a person signed a year countract in Dec 2019 - only 3 months have passed until the current date. So we don't know whether he will leave company. Having such people could scew the results.\n",
    "This situaton appears in 148 2year and 118 1 year contracts\n",
    "\n",
    "**Question 1** We have 1year contracts that were closed after only 2 months (8). Is this correct, or there is problem with data?\n",
    "\n",
    "**Conclusion 6**: While we have data until 01.02.2020 - there are no contracts that were canceled on this date. Most likely the data on cancelations for 01.02.2020 was not given - so monthly contracts for Jan 2020 didn't have a chance to be cancelled yet - we need to take them out of the df."
   ]
  },
  {
   "cell_type": "code",
   "execution_count": 60,
   "id": "ded0e689",
   "metadata": {},
   "outputs": [
    {
     "data": {
      "text/plain": [
       "count    7032.000000\n",
       "mean       32.421786\n",
       "std        24.545260\n",
       "min         1.000000\n",
       "25%         9.000000\n",
       "50%        29.000000\n",
       "75%        55.000000\n",
       "max        72.000000\n",
       "Name: total_time, dtype: float64"
      ]
     },
     "execution_count": 60,
     "metadata": {},
     "output_type": "execute_result"
    }
   ],
   "source": [
    "df['total_time'].describe()"
   ]
  },
  {
   "cell_type": "code",
   "execution_count": 61,
   "id": "61472907",
   "metadata": {},
   "outputs": [],
   "source": [
    "z = pd.DataFrame(columns=['month', 'share_exit'])\n",
    "for x in range(1, 73):\n",
    "    y = df.query('total_time == @x')['exit'].sum()/len(df.query('total_time == @x'))\n",
    "    z = pd.concat([z, pd.DataFrame(data={'month': [x], 'share_exit':[y]})])"
   ]
  },
  {
   "cell_type": "code",
   "execution_count": 62,
   "id": "0602b299",
   "metadata": {},
   "outputs": [
    {
     "data": {
      "image/png": "[encoded data removed]",
      "text/plain": [
       "<Figure size 432x288 with 1 Axes>"
      ]
     },
     "metadata": {},
     "output_type": "display_data"
    }
   ],
   "source": [
    "fig, ax = plt.subplots(facecolor='white')\n",
    "\n",
    "ax.plot(z['month'], z['share_exit']*100)\n",
    "plt.title(\"Connection between how many months a person was a client and stop being a client\")\n",
    "\n",
    "plt.show()"
   ]
  },
  {
   "cell_type": "code",
   "execution_count": 63,
   "id": "d211a16d",
   "metadata": {},
   "outputs": [
    {
     "data": {
      "text/html": [
       "<div>\n",
       "<style scoped>\n",
       "    .dataframe tbody tr th:only-of-type {\n",
       "        vertical-align: middle;\n",
       "    }\n",
       "\n",
       "    .dataframe tbody tr th {\n",
       "        vertical-align: top;\n",
       "    }\n",
       "\n",
       "    .dataframe thead th {\n",
       "        text-align: right;\n",
       "    }\n",
       "</style>\n",
       "<table border=\"1\" class=\"dataframe\">\n",
       "  <thead>\n",
       "    <tr style=\"text-align: right;\">\n",
       "      <th></th>\n",
       "      <th>month</th>\n",
       "      <th>share_exit</th>\n",
       "    </tr>\n",
       "  </thead>\n",
       "  <tbody>\n",
       "    <tr>\n",
       "      <th>0</th>\n",
       "      <td>1</td>\n",
       "      <td>0.619902</td>\n",
       "    </tr>\n",
       "    <tr>\n",
       "      <th>0</th>\n",
       "      <td>2</td>\n",
       "      <td>0.516807</td>\n",
       "    </tr>\n",
       "    <tr>\n",
       "      <th>0</th>\n",
       "      <td>3</td>\n",
       "      <td>0.47</td>\n",
       "    </tr>\n",
       "    <tr>\n",
       "      <th>0</th>\n",
       "      <td>4</td>\n",
       "      <td>0.471591</td>\n",
       "    </tr>\n",
       "    <tr>\n",
       "      <th>0</th>\n",
       "      <td>5</td>\n",
       "      <td>0.481203</td>\n",
       "    </tr>\n",
       "    <tr>\n",
       "      <th>0</th>\n",
       "      <td>6</td>\n",
       "      <td>0.363636</td>\n",
       "    </tr>\n",
       "    <tr>\n",
       "      <th>0</th>\n",
       "      <td>7</td>\n",
       "      <td>0.389313</td>\n",
       "    </tr>\n",
       "    <tr>\n",
       "      <th>0</th>\n",
       "      <td>8</td>\n",
       "      <td>0.341463</td>\n",
       "    </tr>\n",
       "    <tr>\n",
       "      <th>0</th>\n",
       "      <td>9</td>\n",
       "      <td>0.386555</td>\n",
       "    </tr>\n",
       "    <tr>\n",
       "      <th>0</th>\n",
       "      <td>10</td>\n",
       "      <td>0.387931</td>\n",
       "    </tr>\n",
       "  </tbody>\n",
       "</table>\n",
       "</div>"
      ],
      "text/plain": [
       "  month share_exit\n",
       "0     1   0.619902\n",
       "0     2   0.516807\n",
       "0     3       0.47\n",
       "0     4   0.471591\n",
       "0     5   0.481203\n",
       "0     6   0.363636\n",
       "0     7   0.389313\n",
       "0     8   0.341463\n",
       "0     9   0.386555\n",
       "0    10   0.387931"
      ]
     },
     "execution_count": 63,
     "metadata": {},
     "output_type": "execute_result"
    }
   ],
   "source": [
    "z.head(10)"
   ]
  },
  {
   "cell_type": "markdown",
   "id": "ccd3b4cd",
   "metadata": {},
   "source": [
    "**Conclusion 7**: FIrst 5 months of using service have the highest risk of client quitting"
   ]
  },
  {
   "cell_type": "code",
   "execution_count": 64,
   "id": "74406004",
   "metadata": {},
   "outputs": [
    {
     "data": {
      "text/plain": [
       "count    7032.000000\n",
       "mean       64.798208\n",
       "std        30.085974\n",
       "min        18.250000\n",
       "25%        35.587500\n",
       "50%        70.350000\n",
       "75%        89.862500\n",
       "max       118.750000\n",
       "Name: monthly_charges, dtype: float64"
      ]
     },
     "execution_count": 64,
     "metadata": {},
     "output_type": "execute_result"
    }
   ],
   "source": [
    "df['monthly_charges'].describe()"
   ]
  },
  {
   "cell_type": "code",
   "execution_count": 65,
   "id": "4471dab6",
   "metadata": {},
   "outputs": [],
   "source": [
    "bins = []\n",
    "for x in range(13):\n",
    "    bins.append(x*10)"
   ]
  },
  {
   "cell_type": "code",
   "execution_count": 66,
   "id": "feec61e4",
   "metadata": {},
   "outputs": [
    {
     "data": {
      "text/plain": [
       "[0, 10, 20, 30, 40, 50, 60, 70, 80, 90, 100, 110, 120]"
      ]
     },
     "execution_count": 66,
     "metadata": {},
     "output_type": "execute_result"
    }
   ],
   "source": [
    "bins"
   ]
  },
  {
   "cell_type": "code",
   "execution_count": 67,
   "id": "f8448cad",
   "metadata": {},
   "outputs": [
    {
     "data": {
      "image/png": "[encoded data removed]",
      "text/plain": [
       "<Figure size 432x288 with 1 Axes>"
      ]
     },
     "metadata": {},
     "output_type": "display_data"
    }
   ],
   "source": [
    "fig, ax = plt.subplots(facecolor='white')\n",
    "df['monthly_charges'].hist(bins=bins)\n",
    "df.query('exit == 1')['monthly_charges'].hist(bins=bins)\n",
    "plt.title(\"Distribution of clients based on monthly payments\")\n",
    "\n",
    "ax.legend(['Overall clients','Clients who left'])\n",
    "plt.show()"
   ]
  },
  {
   "cell_type": "markdown",
   "id": "ccd3b4cd",
   "metadata": {},
   "source": [
    "**Conclusion 8**: We have 2 groups of clients - one who pays less than 30 and another who pays 70-90"
   ]
  },
  {
   "cell_type": "code",
   "execution_count": 68,
   "id": "9679b7fb",
   "metadata": {
    "scrolled": true
   },
   "outputs": [],
   "source": [
    "z = pd.DataFrame(columns=['payment', 'share_exit'])\n",
    "t = 0\n",
    "for x in range(2, 13):\n",
    "    y = df.query('monthly_charges > @t and monthly_charges <= @x*10')\n",
    "    y = y['exit'].sum()/len(y)\n",
    "    z = pd.concat([z, pd.DataFrame(data={'payment': [ x*10], 'share_exit':[y]})])\n",
    "    t = x*10"
   ]
  },
  {
   "cell_type": "code",
   "execution_count": 69,
   "id": "43bac341",
   "metadata": {},
   "outputs": [
    {
     "data": {
      "image/png": "[encoded data removed]",
      "text/plain": [
       "<Figure size 432x288 with 1 Axes>"
      ]
     },
     "metadata": {},
     "output_type": "display_data"
    }
   ],
   "source": [
    "fig, ax = plt.subplots(facecolor='white')\n",
    "\n",
    "\n",
    "ax.plot(z['payment'], z['share_exit']*100)\n",
    "plt.title(\"Distribution of clients who left based on monthly payments\")\n",
    "\n",
    "plt.show()"
   ]
  },
  {
   "cell_type": "markdown",
   "id": "ccd3b4cd",
   "metadata": {},
   "source": [
    "**Conclusion 9**: Among the cleints who pay 80-100 we have the highst % of clients who left"
   ]
  },
  {
   "cell_type": "code",
   "execution_count": 70,
   "id": "3a795bf2",
   "metadata": {},
   "outputs": [],
   "source": [
    "z= df.query('use_internet == 1')\n"
   ]
  },
  {
   "cell_type": "code",
   "execution_count": 71,
   "id": "25c92774",
   "metadata": {},
   "outputs": [
    {
     "data": {
      "text/html": [
       "<div>\n",
       "<style scoped>\n",
       "    .dataframe tbody tr th:only-of-type {\n",
       "        vertical-align: middle;\n",
       "    }\n",
       "\n",
       "    .dataframe tbody tr th {\n",
       "        vertical-align: top;\n",
       "    }\n",
       "\n",
       "    .dataframe thead th {\n",
       "        text-align: right;\n",
       "    }\n",
       "</style>\n",
       "<table border=\"1\" class=\"dataframe\">\n",
       "  <thead>\n",
       "    <tr style=\"text-align: right;\">\n",
       "      <th></th>\n",
       "      <th>internet_service</th>\n",
       "      <th>online_sec</th>\n",
       "      <th>online_backup</th>\n",
       "      <th>device_protect</th>\n",
       "      <th>tech_sup</th>\n",
       "      <th>stream_tv</th>\n",
       "      <th>stream_movie</th>\n",
       "    </tr>\n",
       "    <tr>\n",
       "      <th>exit</th>\n",
       "      <th></th>\n",
       "      <th></th>\n",
       "      <th></th>\n",
       "      <th></th>\n",
       "      <th></th>\n",
       "      <th></th>\n",
       "      <th></th>\n",
       "    </tr>\n",
       "  </thead>\n",
       "  <tbody>\n",
       "    <tr>\n",
       "      <th>0</th>\n",
       "      <td>0.478967</td>\n",
       "      <td>0.457934</td>\n",
       "      <td>0.506390</td>\n",
       "      <td>0.498669</td>\n",
       "      <td>0.460596</td>\n",
       "      <td>0.502929</td>\n",
       "      <td>0.509318</td>\n",
       "    </tr>\n",
       "    <tr>\n",
       "      <th>1</th>\n",
       "      <td>0.738610</td>\n",
       "      <td>0.167995</td>\n",
       "      <td>0.297836</td>\n",
       "      <td>0.310364</td>\n",
       "      <td>0.176538</td>\n",
       "      <td>0.463554</td>\n",
       "      <td>0.465831</td>\n",
       "    </tr>\n",
       "  </tbody>\n",
       "</table>\n",
       "</div>"
      ],
      "text/plain": [
       "      internet_service  online_sec  online_backup  device_protect  tech_sup  \\\n",
       "exit                                                                          \n",
       "0             0.478967    0.457934       0.506390        0.498669  0.460596   \n",
       "1             0.738610    0.167995       0.297836        0.310364  0.176538   \n",
       "\n",
       "      stream_tv  stream_movie  \n",
       "exit                           \n",
       "0      0.502929      0.509318  \n",
       "1      0.463554      0.465831  "
      ]
     },
     "execution_count": 71,
     "metadata": {},
     "output_type": "execute_result"
    }
   ],
   "source": [
    "y = (z.groupby(by='exit')[['internet_service', 'online_sec', \n",
    "                      'online_backup', 'device_protect', \n",
    "                      'tech_sup', 'stream_tv', 'stream_movie']].sum() /\n",
    "z.groupby(by='exit')[['internet_service', 'online_sec', \n",
    "                      'online_backup', 'device_protect', \n",
    "                      'tech_sup', 'stream_tv', 'stream_movie']].count())\n",
    "y"
   ]
  },
  {
   "cell_type": "code",
   "execution_count": 72,
   "id": "d911bb44",
   "metadata": {},
   "outputs": [
    {
     "data": {
      "image/png": "[encoded data removed]",
      "text/plain": [
       "<Figure size 1296x432 with 1 Axes>"
      ]
     },
     "metadata": {},
     "output_type": "display_data"
    }
   ],
   "source": [
    "fig, ax = plt.subplots(facecolor='white', figsize=(18, 6))\n",
    "\n",
    "labels = y.T.index\n",
    "width = 0.35\n",
    "\n",
    "x1 = ax.bar( np.arange(len(labels)) - width/2, round(y.T[0]*100,2), width, label='stayed')\n",
    "x2 = ax.bar( np.arange(len(labels)) + width/2, round(y.T[1]*100, 2), width, label='left')\n",
    "\n",
    "ax.bar_label(x1, padding=-11)\n",
    "ax.bar_label(x2, padding=-11)\n",
    "ax.set_xticks(np.arange(len(labels)), labels)\n",
    "ax.legend()\n",
    "\n",
    "plt.show()"
   ]
  },
  {
   "cell_type": "markdown",
   "id": "ccd3b4cd",
   "metadata": {},
   "source": [
    "**Conclusion 10**: Additional services (except for streaming) decrease the probavility of client exit\n",
    "\n",
    "**Conclusion 11**: Big share of client who left used fiber optic connection"
   ]
  },
  {
   "cell_type": "markdown",
   "id": "46b31171",
   "metadata": {},
   "source": [
    "## Correlation analysis"
   ]
  },
  {
   "cell_type": "code",
   "execution_count": 73,
   "id": "bcc16c5c",
   "metadata": {},
   "outputs": [],
   "source": [
    "x = df.corr()"
   ]
  },
  {
   "cell_type": "code",
   "execution_count": 74,
   "id": "d3245f20",
   "metadata": {},
   "outputs": [],
   "source": [
    "def _color_correl(val):\n",
    "    color = 'white'\n",
    "    if val == 1:\n",
    "        color = 'white'\n",
    "    elif val > 0.8 or val < -0.8:\n",
    "        color = 'red'\n",
    "    elif val > 0.5 or val < -0.5:\n",
    "        color = 'yellow'        \n",
    "    return 'color: %s' % color"
   ]
  },
  {
   "cell_type": "code",
   "execution_count": 75,
   "id": "1b3cbe80",
   "metadata": {
    "scrolled": false
   },
   "outputs": [
    {
     "data": {
      "text/html": [
       "<style type=\"text/css\">\n",
       "#T_6dd68_row0_col0, #T_6dd68_row0_col1, #T_6dd68_row0_col2, #T_6dd68_row0_col3, #T_6dd68_row0_col4, #T_6dd68_row0_col5, #T_6dd68_row0_col6, #T_6dd68_row0_col7, #T_6dd68_row0_col8, #T_6dd68_row0_col9, #T_6dd68_row0_col10, #T_6dd68_row0_col11, #T_6dd68_row0_col12, #T_6dd68_row0_col13, #T_6dd68_row0_col14, #T_6dd68_row0_col15, #T_6dd68_row0_col16, #T_6dd68_row0_col17, #T_6dd68_row0_col18, #T_6dd68_row0_col19, #T_6dd68_row0_col20, #T_6dd68_row0_col21, #T_6dd68_row0_col22, #T_6dd68_row0_col23, #T_6dd68_row1_col0, #T_6dd68_row1_col1, #T_6dd68_row1_col3, #T_6dd68_row1_col4, #T_6dd68_row1_col5, #T_6dd68_row1_col6, #T_6dd68_row1_col7, #T_6dd68_row1_col8, #T_6dd68_row1_col9, #T_6dd68_row1_col11, #T_6dd68_row1_col12, #T_6dd68_row1_col13, #T_6dd68_row1_col14, #T_6dd68_row1_col17, #T_6dd68_row1_col18, #T_6dd68_row1_col19, #T_6dd68_row1_col20, #T_6dd68_row1_col21, #T_6dd68_row1_col23, #T_6dd68_row2_col0, #T_6dd68_row2_col2, #T_6dd68_row2_col3, #T_6dd68_row2_col4, #T_6dd68_row2_col5, #T_6dd68_row2_col6, #T_6dd68_row2_col7, #T_6dd68_row2_col9, #T_6dd68_row2_col10, #T_6dd68_row2_col11, #T_6dd68_row2_col14, #T_6dd68_row2_col17, #T_6dd68_row2_col18, #T_6dd68_row2_col19, #T_6dd68_row2_col20, #T_6dd68_row2_col21, #T_6dd68_row2_col22, #T_6dd68_row2_col23, #T_6dd68_row3_col0, #T_6dd68_row3_col1, #T_6dd68_row3_col2, #T_6dd68_row3_col3, #T_6dd68_row3_col5, #T_6dd68_row3_col6, #T_6dd68_row3_col7, #T_6dd68_row3_col9, #T_6dd68_row3_col10, #T_6dd68_row3_col11, #T_6dd68_row3_col12, #T_6dd68_row3_col13, #T_6dd68_row3_col14, #T_6dd68_row3_col15, #T_6dd68_row3_col16, #T_6dd68_row3_col17, #T_6dd68_row3_col18, #T_6dd68_row3_col19, #T_6dd68_row3_col20, #T_6dd68_row3_col21, #T_6dd68_row3_col22, #T_6dd68_row3_col23, #T_6dd68_row4_col0, #T_6dd68_row4_col1, #T_6dd68_row4_col2, #T_6dd68_row4_col4, #T_6dd68_row4_col5, #T_6dd68_row4_col6, #T_6dd68_row4_col7, #T_6dd68_row4_col8, #T_6dd68_row4_col9, #T_6dd68_row4_col10, #T_6dd68_row4_col11, #T_6dd68_row4_col12, #T_6dd68_row4_col13, #T_6dd68_row4_col14, #T_6dd68_row4_col15, #T_6dd68_row4_col16, #T_6dd68_row4_col17, #T_6dd68_row4_col18, #T_6dd68_row4_col19, #T_6dd68_row4_col20, #T_6dd68_row4_col21, #T_6dd68_row4_col22, #T_6dd68_row4_col23, #T_6dd68_row5_col0, #T_6dd68_row5_col1, #T_6dd68_row5_col2, #T_6dd68_row5_col3, #T_6dd68_row5_col4, #T_6dd68_row5_col5, #T_6dd68_row5_col6, #T_6dd68_row5_col7, #T_6dd68_row5_col8, #T_6dd68_row5_col9, #T_6dd68_row5_col10, #T_6dd68_row5_col11, #T_6dd68_row5_col12, #T_6dd68_row5_col13, #T_6dd68_row5_col14, #T_6dd68_row5_col15, #T_6dd68_row5_col16, #T_6dd68_row5_col17, #T_6dd68_row5_col18, #T_6dd68_row5_col19, #T_6dd68_row5_col20, #T_6dd68_row5_col21, #T_6dd68_row5_col22, #T_6dd68_row5_col23, #T_6dd68_row6_col0, #T_6dd68_row6_col1, #T_6dd68_row6_col2, #T_6dd68_row6_col3, #T_6dd68_row6_col4, #T_6dd68_row6_col5, #T_6dd68_row6_col6, #T_6dd68_row6_col7, #T_6dd68_row6_col8, #T_6dd68_row6_col9, #T_6dd68_row6_col10, #T_6dd68_row6_col11, #T_6dd68_row6_col12, #T_6dd68_row6_col13, #T_6dd68_row6_col14, #T_6dd68_row6_col15, #T_6dd68_row6_col16, #T_6dd68_row6_col17, #T_6dd68_row6_col18, #T_6dd68_row6_col19, #T_6dd68_row6_col20, #T_6dd68_row6_col21, #T_6dd68_row6_col22, #T_6dd68_row6_col23, #T_6dd68_row7_col0, #T_6dd68_row7_col1, #T_6dd68_row7_col2, #T_6dd68_row7_col3, #T_6dd68_row7_col4, #T_6dd68_row7_col5, #T_6dd68_row7_col6, #T_6dd68_row7_col7, #T_6dd68_row7_col8, #T_6dd68_row7_col9, #T_6dd68_row7_col10, #T_6dd68_row7_col11, #T_6dd68_row7_col12, #T_6dd68_row7_col13, #T_6dd68_row7_col14, #T_6dd68_row7_col15, #T_6dd68_row7_col16, #T_6dd68_row7_col17, #T_6dd68_row7_col18, #T_6dd68_row7_col19, #T_6dd68_row7_col20, #T_6dd68_row7_col21, #T_6dd68_row7_col22, #T_6dd68_row7_col23, #T_6dd68_row8_col0, #T_6dd68_row8_col1, #T_6dd68_row8_col4, #T_6dd68_row8_col5, #T_6dd68_row8_col6, #T_6dd68_row8_col7, #T_6dd68_row8_col8, #T_6dd68_row8_col9, #T_6dd68_row8_col10, #T_6dd68_row8_col11, #T_6dd68_row8_col12, #T_6dd68_row8_col13, #T_6dd68_row8_col14, #T_6dd68_row8_col15, #T_6dd68_row8_col16, #T_6dd68_row8_col17, #T_6dd68_row8_col18, #T_6dd68_row8_col19, #T_6dd68_row8_col20, #T_6dd68_row8_col21, #T_6dd68_row8_col22, #T_6dd68_row8_col23, #T_6dd68_row9_col0, #T_6dd68_row9_col1, #T_6dd68_row9_col2, #T_6dd68_row9_col3, #T_6dd68_row9_col4, #T_6dd68_row9_col5, #T_6dd68_row9_col6, #T_6dd68_row9_col7, #T_6dd68_row9_col8, #T_6dd68_row9_col9, #T_6dd68_row9_col10, #T_6dd68_row9_col11, #T_6dd68_row9_col12, #T_6dd68_row9_col13, #T_6dd68_row9_col14, #T_6dd68_row9_col15, #T_6dd68_row9_col16, #T_6dd68_row9_col17, #T_6dd68_row9_col18, #T_6dd68_row9_col19, #T_6dd68_row9_col20, #T_6dd68_row9_col21, #T_6dd68_row9_col22, #T_6dd68_row9_col23, #T_6dd68_row10_col0, #T_6dd68_row10_col2, #T_6dd68_row10_col3, #T_6dd68_row10_col4, #T_6dd68_row10_col5, #T_6dd68_row10_col6, #T_6dd68_row10_col7, #T_6dd68_row10_col8, #T_6dd68_row10_col9, #T_6dd68_row10_col10, #T_6dd68_row10_col11, #T_6dd68_row10_col12, #T_6dd68_row10_col13, #T_6dd68_row10_col14, #T_6dd68_row10_col15, #T_6dd68_row10_col16, #T_6dd68_row10_col17, #T_6dd68_row10_col18, #T_6dd68_row10_col19, #T_6dd68_row10_col20, #T_6dd68_row10_col21, #T_6dd68_row10_col22, #T_6dd68_row10_col23, #T_6dd68_row11_col0, #T_6dd68_row11_col1, #T_6dd68_row11_col2, #T_6dd68_row11_col3, #T_6dd68_row11_col4, #T_6dd68_row11_col5, #T_6dd68_row11_col6, #T_6dd68_row11_col7, #T_6dd68_row11_col8, #T_6dd68_row11_col9, #T_6dd68_row11_col10, #T_6dd68_row11_col11, #T_6dd68_row11_col12, #T_6dd68_row11_col13, #T_6dd68_row11_col14, #T_6dd68_row11_col15, #T_6dd68_row11_col16, #T_6dd68_row11_col17, #T_6dd68_row11_col18, #T_6dd68_row11_col19, #T_6dd68_row11_col20, #T_6dd68_row11_col21, #T_6dd68_row11_col22, #T_6dd68_row11_col23, #T_6dd68_row12_col0, #T_6dd68_row12_col1, #T_6dd68_row12_col3, #T_6dd68_row12_col4, #T_6dd68_row12_col5, #T_6dd68_row12_col6, #T_6dd68_row12_col7, #T_6dd68_row12_col8, #T_6dd68_row12_col9, #T_6dd68_row12_col10, #T_6dd68_row12_col11, #T_6dd68_row12_col12, #T_6dd68_row12_col13, #T_6dd68_row12_col14, #T_6dd68_row12_col15, #T_6dd68_row12_col16, #T_6dd68_row12_col17, #T_6dd68_row12_col18, #T_6dd68_row12_col19, #T_6dd68_row12_col20, #T_6dd68_row12_col21, #T_6dd68_row12_col22, #T_6dd68_row12_col23, #T_6dd68_row13_col0, #T_6dd68_row13_col1, #T_6dd68_row13_col3, #T_6dd68_row13_col4, #T_6dd68_row13_col5, #T_6dd68_row13_col6, #T_6dd68_row13_col7, #T_6dd68_row13_col8, #T_6dd68_row13_col9, #T_6dd68_row13_col10, #T_6dd68_row13_col11, #T_6dd68_row13_col12, #T_6dd68_row13_col13, #T_6dd68_row13_col14, #T_6dd68_row13_col15, #T_6dd68_row13_col16, #T_6dd68_row13_col17, #T_6dd68_row13_col18, #T_6dd68_row13_col19, #T_6dd68_row13_col20, #T_6dd68_row13_col21, #T_6dd68_row13_col22, #T_6dd68_row13_col23, #T_6dd68_row14_col0, #T_6dd68_row14_col1, #T_6dd68_row14_col2, #T_6dd68_row14_col3, #T_6dd68_row14_col4, #T_6dd68_row14_col5, #T_6dd68_row14_col6, #T_6dd68_row14_col7, #T_6dd68_row14_col8, #T_6dd68_row14_col9, #T_6dd68_row14_col10, #T_6dd68_row14_col11, #T_6dd68_row14_col12, #T_6dd68_row14_col13, #T_6dd68_row14_col14, #T_6dd68_row14_col15, #T_6dd68_row14_col16, #T_6dd68_row14_col17, #T_6dd68_row14_col18, #T_6dd68_row14_col19, #T_6dd68_row14_col20, #T_6dd68_row14_col21, #T_6dd68_row14_col22, #T_6dd68_row14_col23, #T_6dd68_row15_col0, #T_6dd68_row15_col3, #T_6dd68_row15_col4, #T_6dd68_row15_col5, #T_6dd68_row15_col6, #T_6dd68_row15_col7, #T_6dd68_row15_col8, #T_6dd68_row15_col9, #T_6dd68_row15_col10, #T_6dd68_row15_col11, #T_6dd68_row15_col12, #T_6dd68_row15_col13, #T_6dd68_row15_col14, #T_6dd68_row15_col15, #T_6dd68_row15_col17, #T_6dd68_row15_col18, #T_6dd68_row15_col19, #T_6dd68_row15_col20, #T_6dd68_row15_col21, #T_6dd68_row15_col22, #T_6dd68_row15_col23, #T_6dd68_row16_col0, #T_6dd68_row16_col3, #T_6dd68_row16_col4, #T_6dd68_row16_col5, #T_6dd68_row16_col6, #T_6dd68_row16_col7, #T_6dd68_row16_col8, #T_6dd68_row16_col9, #T_6dd68_row16_col10, #T_6dd68_row16_col11, #T_6dd68_row16_col12, #T_6dd68_row16_col13, #T_6dd68_row16_col14, #T_6dd68_row16_col16, #T_6dd68_row16_col17, #T_6dd68_row16_col18, #T_6dd68_row16_col19, #T_6dd68_row16_col20, #T_6dd68_row16_col21, #T_6dd68_row16_col22, #T_6dd68_row16_col23, #T_6dd68_row17_col0, #T_6dd68_row17_col1, #T_6dd68_row17_col2, #T_6dd68_row17_col3, #T_6dd68_row17_col4, #T_6dd68_row17_col5, #T_6dd68_row17_col6, #T_6dd68_row17_col7, #T_6dd68_row17_col8, #T_6dd68_row17_col9, #T_6dd68_row17_col10, #T_6dd68_row17_col11, #T_6dd68_row17_col12, #T_6dd68_row17_col13, #T_6dd68_row17_col14, #T_6dd68_row17_col15, #T_6dd68_row17_col16, #T_6dd68_row17_col17, #T_6dd68_row17_col18, #T_6dd68_row17_col19, #T_6dd68_row17_col20, #T_6dd68_row17_col21, #T_6dd68_row17_col22, #T_6dd68_row17_col23, #T_6dd68_row18_col0, #T_6dd68_row18_col1, #T_6dd68_row18_col2, #T_6dd68_row18_col3, #T_6dd68_row18_col4, #T_6dd68_row18_col5, #T_6dd68_row18_col6, #T_6dd68_row18_col7, #T_6dd68_row18_col8, #T_6dd68_row18_col9, #T_6dd68_row18_col10, #T_6dd68_row18_col11, #T_6dd68_row18_col12, #T_6dd68_row18_col13, #T_6dd68_row18_col14, #T_6dd68_row18_col15, #T_6dd68_row18_col16, #T_6dd68_row18_col17, #T_6dd68_row18_col18, #T_6dd68_row18_col19, #T_6dd68_row18_col20, #T_6dd68_row18_col21, #T_6dd68_row18_col22, #T_6dd68_row18_col23, #T_6dd68_row19_col0, #T_6dd68_row19_col1, #T_6dd68_row19_col2, #T_6dd68_row19_col3, #T_6dd68_row19_col4, #T_6dd68_row19_col5, #T_6dd68_row19_col6, #T_6dd68_row19_col7, #T_6dd68_row19_col8, #T_6dd68_row19_col9, #T_6dd68_row19_col10, #T_6dd68_row19_col11, #T_6dd68_row19_col12, #T_6dd68_row19_col13, #T_6dd68_row19_col14, #T_6dd68_row19_col15, #T_6dd68_row19_col16, #T_6dd68_row19_col17, #T_6dd68_row19_col18, #T_6dd68_row19_col19, #T_6dd68_row19_col20, #T_6dd68_row19_col21, #T_6dd68_row19_col22, #T_6dd68_row19_col23, #T_6dd68_row20_col0, #T_6dd68_row20_col1, #T_6dd68_row20_col2, #T_6dd68_row20_col3, #T_6dd68_row20_col4, #T_6dd68_row20_col5, #T_6dd68_row20_col6, #T_6dd68_row20_col7, #T_6dd68_row20_col8, #T_6dd68_row20_col9, #T_6dd68_row20_col10, #T_6dd68_row20_col11, #T_6dd68_row20_col12, #T_6dd68_row20_col13, #T_6dd68_row20_col14, #T_6dd68_row20_col15, #T_6dd68_row20_col16, #T_6dd68_row20_col17, #T_6dd68_row20_col18, #T_6dd68_row20_col19, #T_6dd68_row20_col20, #T_6dd68_row20_col21, #T_6dd68_row20_col22, #T_6dd68_row20_col23, #T_6dd68_row21_col0, #T_6dd68_row21_col1, #T_6dd68_row21_col2, #T_6dd68_row21_col3, #T_6dd68_row21_col4, #T_6dd68_row21_col5, #T_6dd68_row21_col6, #T_6dd68_row21_col7, #T_6dd68_row21_col8, #T_6dd68_row21_col9, #T_6dd68_row21_col10, #T_6dd68_row21_col11, #T_6dd68_row21_col12, #T_6dd68_row21_col13, #T_6dd68_row21_col14, #T_6dd68_row21_col15, #T_6dd68_row21_col16, #T_6dd68_row21_col17, #T_6dd68_row21_col18, #T_6dd68_row21_col19, #T_6dd68_row21_col20, #T_6dd68_row21_col21, #T_6dd68_row21_col22, #T_6dd68_row21_col23, #T_6dd68_row22_col0, #T_6dd68_row22_col2, #T_6dd68_row22_col3, #T_6dd68_row22_col4, #T_6dd68_row22_col5, #T_6dd68_row22_col6, #T_6dd68_row22_col7, #T_6dd68_row22_col8, #T_6dd68_row22_col9, #T_6dd68_row22_col10, #T_6dd68_row22_col11, #T_6dd68_row22_col12, #T_6dd68_row22_col13, #T_6dd68_row22_col14, #T_6dd68_row22_col15, #T_6dd68_row22_col16, #T_6dd68_row22_col17, #T_6dd68_row22_col18, #T_6dd68_row22_col19, #T_6dd68_row22_col20, #T_6dd68_row22_col21, #T_6dd68_row22_col22, #T_6dd68_row22_col23, #T_6dd68_row23_col0, #T_6dd68_row23_col1, #T_6dd68_row23_col2, #T_6dd68_row23_col3, #T_6dd68_row23_col4, #T_6dd68_row23_col5, #T_6dd68_row23_col6, #T_6dd68_row23_col7, #T_6dd68_row23_col8, #T_6dd68_row23_col9, #T_6dd68_row23_col10, #T_6dd68_row23_col11, #T_6dd68_row23_col12, #T_6dd68_row23_col13, #T_6dd68_row23_col14, #T_6dd68_row23_col15, #T_6dd68_row23_col16, #T_6dd68_row23_col17, #T_6dd68_row23_col18, #T_6dd68_row23_col19, #T_6dd68_row23_col20, #T_6dd68_row23_col21, #T_6dd68_row23_col22, #T_6dd68_row23_col23 {\n",
       "  color: white;\n",
       "}\n",
       "#T_6dd68_row1_col2, #T_6dd68_row1_col10, #T_6dd68_row1_col15, #T_6dd68_row1_col16, #T_6dd68_row1_col22, #T_6dd68_row2_col1, #T_6dd68_row2_col12, #T_6dd68_row2_col13, #T_6dd68_row2_col15, #T_6dd68_row2_col16, #T_6dd68_row3_col4, #T_6dd68_row3_col8, #T_6dd68_row4_col3, #T_6dd68_row8_col3, #T_6dd68_row10_col1, #T_6dd68_row12_col2, #T_6dd68_row13_col2, #T_6dd68_row15_col1, #T_6dd68_row15_col2, #T_6dd68_row15_col16, #T_6dd68_row16_col1, #T_6dd68_row16_col2, #T_6dd68_row16_col15, #T_6dd68_row22_col1 {\n",
       "  color: yellow;\n",
       "}\n",
       "#T_6dd68_row2_col8, #T_6dd68_row8_col2 {\n",
       "  color: red;\n",
       "}\n",
       "</style>\n",
       "<table id=\"T_6dd68\">\n",
       "  <thead>\n",
       "    <tr>\n",
       "      <th class=\"blank level0\" >&nbsp;</th>\n",
       "      <th id=\"T_6dd68_level0_col0\" class=\"col_heading level0 col0\" >paperless</th>\n",
       "      <th id=\"T_6dd68_level0_col1\" class=\"col_heading level0 col1\" >monthly_charges</th>\n",
       "      <th id=\"T_6dd68_level0_col2\" class=\"col_heading level0 col2\" >total_charges</th>\n",
       "      <th id=\"T_6dd68_level0_col3\" class=\"col_heading level0 col3\" >type_month</th>\n",
       "      <th id=\"T_6dd68_level0_col4\" class=\"col_heading level0 col4\" >type_year</th>\n",
       "      <th id=\"T_6dd68_level0_col5\" class=\"col_heading level0 col5\" >method_bank</th>\n",
       "      <th id=\"T_6dd68_level0_col6\" class=\"col_heading level0 col6\" >method_credit</th>\n",
       "      <th id=\"T_6dd68_level0_col7\" class=\"col_heading level0 col7\" >method_elcheck</th>\n",
       "      <th id=\"T_6dd68_level0_col8\" class=\"col_heading level0 col8\" >total_time</th>\n",
       "      <th id=\"T_6dd68_level0_col9\" class=\"col_heading level0 col9\" >exit</th>\n",
       "      <th id=\"T_6dd68_level0_col10\" class=\"col_heading level0 col10\" >internet_service</th>\n",
       "      <th id=\"T_6dd68_level0_col11\" class=\"col_heading level0 col11\" >online_sec</th>\n",
       "      <th id=\"T_6dd68_level0_col12\" class=\"col_heading level0 col12\" >online_backup</th>\n",
       "      <th id=\"T_6dd68_level0_col13\" class=\"col_heading level0 col13\" >device_protect</th>\n",
       "      <th id=\"T_6dd68_level0_col14\" class=\"col_heading level0 col14\" >tech_sup</th>\n",
       "      <th id=\"T_6dd68_level0_col15\" class=\"col_heading level0 col15\" >stream_tv</th>\n",
       "      <th id=\"T_6dd68_level0_col16\" class=\"col_heading level0 col16\" >stream_movie</th>\n",
       "      <th id=\"T_6dd68_level0_col17\" class=\"col_heading level0 col17\" >gender</th>\n",
       "      <th id=\"T_6dd68_level0_col18\" class=\"col_heading level0 col18\" >senior</th>\n",
       "      <th id=\"T_6dd68_level0_col19\" class=\"col_heading level0 col19\" >partner</th>\n",
       "      <th id=\"T_6dd68_level0_col20\" class=\"col_heading level0 col20\" >dependents</th>\n",
       "      <th id=\"T_6dd68_level0_col21\" class=\"col_heading level0 col21\" >multiple_lines</th>\n",
       "      <th id=\"T_6dd68_level0_col22\" class=\"col_heading level0 col22\" >use_internet</th>\n",
       "      <th id=\"T_6dd68_level0_col23\" class=\"col_heading level0 col23\" >use_phone</th>\n",
       "    </tr>\n",
       "  </thead>\n",
       "  <tbody>\n",
       "    <tr>\n",
       "      <th id=\"T_6dd68_level0_row0\" class=\"row_heading level0 row0\" >paperless</th>\n",
       "      <td id=\"T_6dd68_row0_col0\" class=\"data row0 col0\" >1.000000</td>\n",
       "      <td id=\"T_6dd68_row0_col1\" class=\"data row0 col1\" >0.351930</td>\n",
       "      <td id=\"T_6dd68_row0_col2\" class=\"data row0 col2\" >0.157830</td>\n",
       "      <td id=\"T_6dd68_row0_col3\" class=\"data row0 col3\" >0.168296</td>\n",
       "      <td id=\"T_6dd68_row0_col4\" class=\"data row0 col4\" >-0.052278</td>\n",
       "      <td id=\"T_6dd68_row0_col5\" class=\"data row0 col5\" >-0.017469</td>\n",
       "      <td id=\"T_6dd68_row0_col6\" class=\"data row0 col6\" >-0.013726</td>\n",
       "      <td id=\"T_6dd68_row0_col7\" class=\"data row0 col7\" >0.208427</td>\n",
       "      <td id=\"T_6dd68_row0_col8\" class=\"data row0 col8\" >0.004823</td>\n",
       "      <td id=\"T_6dd68_row0_col9\" class=\"data row0 col9\" >0.191454</td>\n",
       "      <td id=\"T_6dd68_row0_col10\" class=\"data row0 col10\" >0.326470</td>\n",
       "      <td id=\"T_6dd68_row0_col11\" class=\"data row0 col11\" >-0.004051</td>\n",
       "      <td id=\"T_6dd68_row0_col12\" class=\"data row0 col12\" >0.127056</td>\n",
       "      <td id=\"T_6dd68_row0_col13\" class=\"data row0 col13\" >0.104079</td>\n",
       "      <td id=\"T_6dd68_row0_col14\" class=\"data row0 col14\" >0.037536</td>\n",
       "      <td id=\"T_6dd68_row0_col15\" class=\"data row0 col15\" >0.224241</td>\n",
       "      <td id=\"T_6dd68_row0_col16\" class=\"data row0 col16\" >0.211583</td>\n",
       "      <td id=\"T_6dd68_row0_col17\" class=\"data row0 col17\" >-0.011902</td>\n",
       "      <td id=\"T_6dd68_row0_col18\" class=\"data row0 col18\" >0.156258</td>\n",
       "      <td id=\"T_6dd68_row0_col19\" class=\"data row0 col19\" >-0.013957</td>\n",
       "      <td id=\"T_6dd68_row0_col20\" class=\"data row0 col20\" >-0.110131</td>\n",
       "      <td id=\"T_6dd68_row0_col21\" class=\"data row0 col21\" >0.163746</td>\n",
       "      <td id=\"T_6dd68_row0_col22\" class=\"data row0 col22\" >0.320592</td>\n",
       "      <td id=\"T_6dd68_row0_col23\" class=\"data row0 col23\" >0.016696</td>\n",
       "    </tr>\n",
       "    <tr>\n",
       "      <th id=\"T_6dd68_level0_row1\" class=\"row_heading level0 row1\" >monthly_charges</th>\n",
       "      <td id=\"T_6dd68_row1_col0\" class=\"data row1 col0\" >0.351930</td>\n",
       "      <td id=\"T_6dd68_row1_col1\" class=\"data row1 col1\" >1.000000</td>\n",
       "      <td id=\"T_6dd68_row1_col2\" class=\"data row1 col2\" >0.651065</td>\n",
       "      <td id=\"T_6dd68_row1_col3\" class=\"data row1 col3\" >0.058933</td>\n",
       "      <td id=\"T_6dd68_row1_col4\" class=\"data row1 col4\" >0.004810</td>\n",
       "      <td id=\"T_6dd68_row1_col5\" class=\"data row1 col5\" >0.042410</td>\n",
       "      <td id=\"T_6dd68_row1_col6\" class=\"data row1 col6\" >0.030055</td>\n",
       "      <td id=\"T_6dd68_row1_col7\" class=\"data row1 col7\" >0.271117</td>\n",
       "      <td id=\"T_6dd68_row1_col8\" class=\"data row1 col8\" >0.246862</td>\n",
       "      <td id=\"T_6dd68_row1_col9\" class=\"data row1 col9\" >0.192858</td>\n",
       "      <td id=\"T_6dd68_row1_col10\" class=\"data row1 col10\" >0.787195</td>\n",
       "      <td id=\"T_6dd68_row1_col11\" class=\"data row1 col11\" >0.296447</td>\n",
       "      <td id=\"T_6dd68_row1_col12\" class=\"data row1 col12\" >0.441529</td>\n",
       "      <td id=\"T_6dd68_row1_col13\" class=\"data row1 col13\" >0.482607</td>\n",
       "      <td id=\"T_6dd68_row1_col14\" class=\"data row1 col14\" >0.338301</td>\n",
       "      <td id=\"T_6dd68_row1_col15\" class=\"data row1 col15\" >0.629668</td>\n",
       "      <td id=\"T_6dd68_row1_col16\" class=\"data row1 col16\" >0.627235</td>\n",
       "      <td id=\"T_6dd68_row1_col17\" class=\"data row1 col17\" >-0.013779</td>\n",
       "      <td id=\"T_6dd68_row1_col18\" class=\"data row1 col18\" >0.219874</td>\n",
       "      <td id=\"T_6dd68_row1_col19\" class=\"data row1 col19\" >0.097825</td>\n",
       "      <td id=\"T_6dd68_row1_col20\" class=\"data row1 col20\" >-0.112343</td>\n",
       "      <td id=\"T_6dd68_row1_col21\" class=\"data row1 col21\" >0.490912</td>\n",
       "      <td id=\"T_6dd68_row1_col22\" class=\"data row1 col22\" >0.763191</td>\n",
       "      <td id=\"T_6dd68_row1_col23\" class=\"data row1 col23\" >0.248033</td>\n",
       "    </tr>\n",
       "    <tr>\n",
       "      <th id=\"T_6dd68_level0_row2\" class=\"row_heading level0 row2\" >total_charges</th>\n",
       "      <td id=\"T_6dd68_row2_col0\" class=\"data row2 col0\" >0.157830</td>\n",
       "      <td id=\"T_6dd68_row2_col1\" class=\"data row2 col1\" >0.651065</td>\n",
       "      <td id=\"T_6dd68_row2_col2\" class=\"data row2 col2\" >1.000000</td>\n",
       "      <td id=\"T_6dd68_row2_col3\" class=\"data row2 col3\" >-0.446776</td>\n",
       "      <td id=\"T_6dd68_row2_col4\" class=\"data row2 col4\" >0.170569</td>\n",
       "      <td id=\"T_6dd68_row2_col5\" class=\"data row2 col5\" >0.186119</td>\n",
       "      <td id=\"T_6dd68_row2_col6\" class=\"data row2 col6\" >0.182663</td>\n",
       "      <td id=\"T_6dd68_row2_col7\" class=\"data row2 col7\" >-0.060436</td>\n",
       "      <td id=\"T_6dd68_row2_col8\" class=\"data row2 col8\" >0.825880</td>\n",
       "      <td id=\"T_6dd68_row2_col9\" class=\"data row2 col9\" >-0.199484</td>\n",
       "      <td id=\"T_6dd68_row2_col10\" class=\"data row2 col10\" >0.360769</td>\n",
       "      <td id=\"T_6dd68_row2_col11\" class=\"data row2 col11\" >0.412619</td>\n",
       "      <td id=\"T_6dd68_row2_col12\" class=\"data row2 col12\" >0.510100</td>\n",
       "      <td id=\"T_6dd68_row2_col13\" class=\"data row2 col13\" >0.522881</td>\n",
       "      <td id=\"T_6dd68_row2_col14\" class=\"data row2 col14\" >0.432868</td>\n",
       "      <td id=\"T_6dd68_row2_col15\" class=\"data row2 col15\" >0.515709</td>\n",
       "      <td id=\"T_6dd68_row2_col16\" class=\"data row2 col16\" >0.519867</td>\n",
       "      <td id=\"T_6dd68_row2_col17\" class=\"data row2 col17\" >0.000048</td>\n",
       "      <td id=\"T_6dd68_row2_col18\" class=\"data row2 col18\" >0.102411</td>\n",
       "      <td id=\"T_6dd68_row2_col19\" class=\"data row2 col19\" >0.319072</td>\n",
       "      <td id=\"T_6dd68_row2_col20\" class=\"data row2 col20\" >0.064653</td>\n",
       "      <td id=\"T_6dd68_row2_col21\" class=\"data row2 col21\" >0.469042</td>\n",
       "      <td id=\"T_6dd68_row2_col22\" class=\"data row2 col22\" >0.374878</td>\n",
       "      <td id=\"T_6dd68_row2_col23\" class=\"data row2 col23\" >0.113008</td>\n",
       "    </tr>\n",
       "    <tr>\n",
       "      <th id=\"T_6dd68_level0_row3\" class=\"row_heading level0 row3\" >type_month</th>\n",
       "      <td id=\"T_6dd68_row3_col0\" class=\"data row3 col0\" >0.168296</td>\n",
       "      <td id=\"T_6dd68_row3_col1\" class=\"data row3 col1\" >0.058933</td>\n",
       "      <td id=\"T_6dd68_row3_col2\" class=\"data row3 col2\" >-0.446776</td>\n",
       "      <td id=\"T_6dd68_row3_col3\" class=\"data row3 col3\" >1.000000</td>\n",
       "      <td id=\"T_6dd68_row3_col4\" class=\"data row3 col4\" >-0.570053</td>\n",
       "      <td id=\"T_6dd68_row3_col5\" class=\"data row3 col5\" >-0.180159</td>\n",
       "      <td id=\"T_6dd68_row3_col6\" class=\"data row3 col6\" >-0.204960</td>\n",
       "      <td id=\"T_6dd68_row3_col7\" class=\"data row3 col7\" >0.330879</td>\n",
       "      <td id=\"T_6dd68_row3_col8\" class=\"data row3 col8\" >-0.649346</td>\n",
       "      <td id=\"T_6dd68_row3_col9\" class=\"data row3 col9\" >0.404565</td>\n",
       "      <td id=\"T_6dd68_row3_col10\" class=\"data row3 col10\" >0.243014</td>\n",
       "      <td id=\"T_6dd68_row3_col11\" class=\"data row3 col11\" >-0.246844</td>\n",
       "      <td id=\"T_6dd68_row3_col12\" class=\"data row3 col12\" >-0.164393</td>\n",
       "      <td id=\"T_6dd68_row3_col13\" class=\"data row3 col13\" >-0.225988</td>\n",
       "      <td id=\"T_6dd68_row3_col14\" class=\"data row3 col14\" >-0.285491</td>\n",
       "      <td id=\"T_6dd68_row3_col15\" class=\"data row3 col15\" >-0.112550</td>\n",
       "      <td id=\"T_6dd68_row3_col16\" class=\"data row3 col16\" >-0.117867</td>\n",
       "      <td id=\"T_6dd68_row3_col17\" class=\"data row3 col17\" >-0.003251</td>\n",
       "      <td id=\"T_6dd68_row3_col18\" class=\"data row3 col18\" >0.137752</td>\n",
       "      <td id=\"T_6dd68_row3_col19\" class=\"data row3 col19\" >-0.280202</td>\n",
       "      <td id=\"T_6dd68_row3_col20\" class=\"data row3 col20\" >-0.229715</td>\n",
       "      <td id=\"T_6dd68_row3_col21\" class=\"data row3 col21\" >-0.088558</td>\n",
       "      <td id=\"T_6dd68_row3_col22\" class=\"data row3 col22\" >0.217824</td>\n",
       "      <td id=\"T_6dd68_row3_col23\" class=\"data row3 col23\" >-0.001243</td>\n",
       "    </tr>\n",
       "    <tr>\n",
       "      <th id=\"T_6dd68_level0_row4\" class=\"row_heading level0 row4\" >type_year</th>\n",
       "      <td id=\"T_6dd68_row4_col0\" class=\"data row4 col0\" >-0.052278</td>\n",
       "      <td id=\"T_6dd68_row4_col1\" class=\"data row4 col1\" >0.004810</td>\n",
       "      <td id=\"T_6dd68_row4_col2\" class=\"data row4 col2\" >0.170569</td>\n",
       "      <td id=\"T_6dd68_row4_col3\" class=\"data row4 col3\" >-0.570053</td>\n",
       "      <td id=\"T_6dd68_row4_col4\" class=\"data row4 col4\" >1.000000</td>\n",
       "      <td id=\"T_6dd68_row4_col5\" class=\"data row4 col5\" >0.057629</td>\n",
       "      <td id=\"T_6dd68_row4_col6\" class=\"data row4 col6\" >0.067590</td>\n",
       "      <td id=\"T_6dd68_row4_col7\" class=\"data row4 col7\" >-0.109546</td>\n",
       "      <td id=\"T_6dd68_row4_col8\" class=\"data row4 col8\" >0.202338</td>\n",
       "      <td id=\"T_6dd68_row4_col9\" class=\"data row4 col9\" >-0.178225</td>\n",
       "      <td id=\"T_6dd68_row4_col10\" class=\"data row4 col10\" >-0.076809</td>\n",
       "      <td id=\"T_6dd68_row4_col11\" class=\"data row4 col11\" >0.100658</td>\n",
       "      <td id=\"T_6dd68_row4_col12\" class=\"data row4 col12\" >0.084113</td>\n",
       "      <td id=\"T_6dd68_row4_col13\" class=\"data row4 col13\" >0.102911</td>\n",
       "      <td id=\"T_6dd68_row4_col14\" class=\"data row4 col14\" >0.096258</td>\n",
       "      <td id=\"T_6dd68_row4_col15\" class=\"data row4 col15\" >0.061930</td>\n",
       "      <td id=\"T_6dd68_row4_col16\" class=\"data row4 col16\" >0.064780</td>\n",
       "      <td id=\"T_6dd68_row4_col17\" class=\"data row4 col17\" >0.007755</td>\n",
       "      <td id=\"T_6dd68_row4_col18\" class=\"data row4 col18\" >-0.046491</td>\n",
       "      <td id=\"T_6dd68_row4_col19\" class=\"data row4 col19\" >0.083067</td>\n",
       "      <td id=\"T_6dd68_row4_col20\" class=\"data row4 col20\" >0.069222</td>\n",
       "      <td id=\"T_6dd68_row4_col21\" class=\"data row4 col21\" >-0.003594</td>\n",
       "      <td id=\"T_6dd68_row4_col22\" class=\"data row4 col22\" >-0.038061</td>\n",
       "      <td id=\"T_6dd68_row4_col23\" class=\"data row4 col23\" >-0.003142</td>\n",
       "    </tr>\n",
       "    <tr>\n",
       "      <th id=\"T_6dd68_level0_row5\" class=\"row_heading level0 row5\" >method_bank</th>\n",
       "      <td id=\"T_6dd68_row5_col0\" class=\"data row5 col0\" >-0.017469</td>\n",
       "      <td id=\"T_6dd68_row5_col1\" class=\"data row5 col1\" >0.042410</td>\n",
       "      <td id=\"T_6dd68_row5_col2\" class=\"data row5 col2\" >0.186119</td>\n",
       "      <td id=\"T_6dd68_row5_col3\" class=\"data row5 col3\" >-0.180159</td>\n",
       "      <td id=\"T_6dd68_row5_col4\" class=\"data row5 col4\" >0.057629</td>\n",
       "      <td id=\"T_6dd68_row5_col5\" class=\"data row5 col5\" >1.000000</td>\n",
       "      <td id=\"T_6dd68_row5_col6\" class=\"data row5 col6\" >-0.278423</td>\n",
       "      <td id=\"T_6dd68_row5_col7\" class=\"data row5 col7\" >-0.377270</td>\n",
       "      <td id=\"T_6dd68_row5_col8\" class=\"data row5 col8\" >0.243822</td>\n",
       "      <td id=\"T_6dd68_row5_col9\" class=\"data row5 col9\" >-0.118136</td>\n",
       "      <td id=\"T_6dd68_row5_col10\" class=\"data row5 col10\" >-0.022779</td>\n",
       "      <td id=\"T_6dd68_row5_col11\" class=\"data row5 col11\" >0.094366</td>\n",
       "      <td id=\"T_6dd68_row5_col12\" class=\"data row5 col12\" >0.086942</td>\n",
       "      <td id=\"T_6dd68_row5_col13\" class=\"data row5 col13\" >0.083047</td>\n",
       "      <td id=\"T_6dd68_row5_col14\" class=\"data row5 col14\" >0.100472</td>\n",
       "      <td id=\"T_6dd68_row5_col15\" class=\"data row5 col15\" >0.046121</td>\n",
       "      <td id=\"T_6dd68_row5_col16\" class=\"data row5 col16\" >0.048755</td>\n",
       "      <td id=\"T_6dd68_row5_col17\" class=\"data row5 col17\" >-0.015973</td>\n",
       "      <td id=\"T_6dd68_row5_col18\" class=\"data row5 col18\" >-0.016235</td>\n",
       "      <td id=\"T_6dd68_row5_col19\" class=\"data row5 col19\" >0.111406</td>\n",
       "      <td id=\"T_6dd68_row5_col20\" class=\"data row5 col20\" >0.052369</td>\n",
       "      <td id=\"T_6dd68_row5_col21\" class=\"data row5 col21\" >0.075429</td>\n",
       "      <td id=\"T_6dd68_row5_col22\" class=\"data row5 col22\" >0.001094</td>\n",
       "      <td id=\"T_6dd68_row5_col23\" class=\"data row5 col23\" >0.008271</td>\n",
       "    </tr>\n",
       "    <tr>\n",
       "      <th id=\"T_6dd68_level0_row6\" class=\"row_heading level0 row6\" >method_credit</th>\n",
       "      <td id=\"T_6dd68_row6_col0\" class=\"data row6 col0\" >-0.013726</td>\n",
       "      <td id=\"T_6dd68_row6_col1\" class=\"data row6 col1\" >0.030055</td>\n",
       "      <td id=\"T_6dd68_row6_col2\" class=\"data row6 col2\" >0.182663</td>\n",
       "      <td id=\"T_6dd68_row6_col3\" class=\"data row6 col3\" >-0.204960</td>\n",
       "      <td id=\"T_6dd68_row6_col4\" class=\"data row6 col4\" >0.067590</td>\n",
       "      <td id=\"T_6dd68_row6_col5\" class=\"data row6 col5\" >-0.278423</td>\n",
       "      <td id=\"T_6dd68_row6_col6\" class=\"data row6 col6\" >1.000000</td>\n",
       "      <td id=\"T_6dd68_row6_col7\" class=\"data row6 col7\" >-0.373978</td>\n",
       "      <td id=\"T_6dd68_row6_col8\" class=\"data row6 col8\" >0.232800</td>\n",
       "      <td id=\"T_6dd68_row6_col9\" class=\"data row6 col9\" >-0.134687</td>\n",
       "      <td id=\"T_6dd68_row6_col10\" class=\"data row6 col10\" >-0.050552</td>\n",
       "      <td id=\"T_6dd68_row6_col11\" class=\"data row6 col11\" >0.115473</td>\n",
       "      <td id=\"T_6dd68_row6_col12\" class=\"data row6 col12\" >0.090455</td>\n",
       "      <td id=\"T_6dd68_row6_col13\" class=\"data row6 col13\" >0.111252</td>\n",
       "      <td id=\"T_6dd68_row6_col14\" class=\"data row6 col14\" >0.117024</td>\n",
       "      <td id=\"T_6dd68_row6_col15\" class=\"data row6 col15\" >0.040010</td>\n",
       "      <td id=\"T_6dd68_row6_col16\" class=\"data row6 col16\" >0.048398</td>\n",
       "      <td id=\"T_6dd68_row6_col17\" class=\"data row6 col17\" >0.001632</td>\n",
       "      <td id=\"T_6dd68_row6_col18\" class=\"data row6 col18\" >-0.024359</td>\n",
       "      <td id=\"T_6dd68_row6_col19\" class=\"data row6 col19\" >0.082327</td>\n",
       "      <td id=\"T_6dd68_row6_col20\" class=\"data row6 col20\" >0.061134</td>\n",
       "      <td id=\"T_6dd68_row6_col21\" class=\"data row6 col21\" >0.060319</td>\n",
       "      <td id=\"T_6dd68_row6_col22\" class=\"data row6 col22\" >-0.001870</td>\n",
       "      <td id=\"T_6dd68_row6_col23\" class=\"data row6 col23\" >-0.006916</td>\n",
       "    </tr>\n",
       "    <tr>\n",
       "      <th id=\"T_6dd68_level0_row7\" class=\"row_heading level0 row7\" >method_elcheck</th>\n",
       "      <td id=\"T_6dd68_row7_col0\" class=\"data row7 col0\" >0.208427</td>\n",
       "      <td id=\"T_6dd68_row7_col1\" class=\"data row7 col1\" >0.271117</td>\n",
       "      <td id=\"T_6dd68_row7_col2\" class=\"data row7 col2\" >-0.060436</td>\n",
       "      <td id=\"T_6dd68_row7_col3\" class=\"data row7 col3\" >0.330879</td>\n",
       "      <td id=\"T_6dd68_row7_col4\" class=\"data row7 col4\" >-0.109546</td>\n",
       "      <td id=\"T_6dd68_row7_col5\" class=\"data row7 col5\" >-0.377270</td>\n",
       "      <td id=\"T_6dd68_row7_col6\" class=\"data row7 col6\" >-0.373978</td>\n",
       "      <td id=\"T_6dd68_row7_col7\" class=\"data row7 col7\" >1.000000</td>\n",
       "      <td id=\"T_6dd68_row7_col8\" class=\"data row7 col8\" >-0.210197</td>\n",
       "      <td id=\"T_6dd68_row7_col9\" class=\"data row7 col9\" >0.301455</td>\n",
       "      <td id=\"T_6dd68_row7_col10\" class=\"data row7 col10\" >0.335763</td>\n",
       "      <td id=\"T_6dd68_row7_col11\" class=\"data row7 col11\" >-0.112295</td>\n",
       "      <td id=\"T_6dd68_row7_col12\" class=\"data row7 col12\" >-0.000364</td>\n",
       "      <td id=\"T_6dd68_row7_col13\" class=\"data row7 col13\" >-0.003308</td>\n",
       "      <td id=\"T_6dd68_row7_col14\" class=\"data row7 col14\" >-0.114807</td>\n",
       "      <td id=\"T_6dd68_row7_col15\" class=\"data row7 col15\" >0.144747</td>\n",
       "      <td id=\"T_6dd68_row7_col16\" class=\"data row7 col16\" >0.137420</td>\n",
       "      <td id=\"T_6dd68_row7_col17\" class=\"data row7 col17\" >0.000844</td>\n",
       "      <td id=\"T_6dd68_row7_col18\" class=\"data row7 col18\" >0.171322</td>\n",
       "      <td id=\"T_6dd68_row7_col19\" class=\"data row7 col19\" >-0.083207</td>\n",
       "      <td id=\"T_6dd68_row7_col20\" class=\"data row7 col20\" >-0.149274</td>\n",
       "      <td id=\"T_6dd68_row7_col21\" class=\"data row7 col21\" >0.083583</td>\n",
       "      <td id=\"T_6dd68_row7_col22\" class=\"data row7 col22\" >0.284608</td>\n",
       "      <td id=\"T_6dd68_row7_col23\" class=\"data row7 col23\" >0.002747</td>\n",
       "    </tr>\n",
       "    <tr>\n",
       "      <th id=\"T_6dd68_level0_row8\" class=\"row_heading level0 row8\" >total_time</th>\n",
       "      <td id=\"T_6dd68_row8_col0\" class=\"data row8 col0\" >0.004823</td>\n",
       "      <td id=\"T_6dd68_row8_col1\" class=\"data row8 col1\" >0.246862</td>\n",
       "      <td id=\"T_6dd68_row8_col2\" class=\"data row8 col2\" >0.825880</td>\n",
       "      <td id=\"T_6dd68_row8_col3\" class=\"data row8 col3\" >-0.649346</td>\n",
       "      <td id=\"T_6dd68_row8_col4\" class=\"data row8 col4\" >0.202338</td>\n",
       "      <td id=\"T_6dd68_row8_col5\" class=\"data row8 col5\" >0.243822</td>\n",
       "      <td id=\"T_6dd68_row8_col6\" class=\"data row8 col6\" >0.232800</td>\n",
       "      <td id=\"T_6dd68_row8_col7\" class=\"data row8 col7\" >-0.210197</td>\n",
       "      <td id=\"T_6dd68_row8_col8\" class=\"data row8 col8\" >1.000000</td>\n",
       "      <td id=\"T_6dd68_row8_col9\" class=\"data row8 col9\" >-0.354049</td>\n",
       "      <td id=\"T_6dd68_row8_col10\" class=\"data row8 col10\" >0.017930</td>\n",
       "      <td id=\"T_6dd68_row8_col11\" class=\"data row8 col11\" >0.328297</td>\n",
       "      <td id=\"T_6dd68_row8_col12\" class=\"data row8 col12\" >0.361138</td>\n",
       "      <td id=\"T_6dd68_row8_col13\" class=\"data row8 col13\" >0.361520</td>\n",
       "      <td id=\"T_6dd68_row8_col14\" class=\"data row8 col14\" >0.325288</td>\n",
       "      <td id=\"T_6dd68_row8_col15\" class=\"data row8 col15\" >0.280264</td>\n",
       "      <td id=\"T_6dd68_row8_col16\" class=\"data row8 col16\" >0.285402</td>\n",
       "      <td id=\"T_6dd68_row8_col17\" class=\"data row8 col17\" >0.005285</td>\n",
       "      <td id=\"T_6dd68_row8_col18\" class=\"data row8 col18\" >0.015683</td>\n",
       "      <td id=\"T_6dd68_row8_col19\" class=\"data row8 col19\" >0.381912</td>\n",
       "      <td id=\"T_6dd68_row8_col20\" class=\"data row8 col20\" >0.163386</td>\n",
       "      <td id=\"T_6dd68_row8_col21\" class=\"data row8 col21\" >0.332399</td>\n",
       "      <td id=\"T_6dd68_row8_col22\" class=\"data row8 col22\" >0.037529</td>\n",
       "      <td id=\"T_6dd68_row8_col23\" class=\"data row8 col23\" >0.007877</td>\n",
       "    </tr>\n",
       "    <tr>\n",
       "      <th id=\"T_6dd68_level0_row9\" class=\"row_heading level0 row9\" >exit</th>\n",
       "      <td id=\"T_6dd68_row9_col0\" class=\"data row9 col0\" >0.191454</td>\n",
       "      <td id=\"T_6dd68_row9_col1\" class=\"data row9 col1\" >0.192858</td>\n",
       "      <td id=\"T_6dd68_row9_col2\" class=\"data row9 col2\" >-0.199484</td>\n",
       "      <td id=\"T_6dd68_row9_col3\" class=\"data row9 col3\" >0.404565</td>\n",
       "      <td id=\"T_6dd68_row9_col4\" class=\"data row9 col4\" >-0.178225</td>\n",
       "      <td id=\"T_6dd68_row9_col5\" class=\"data row9 col5\" >-0.118136</td>\n",
       "      <td id=\"T_6dd68_row9_col6\" class=\"data row9 col6\" >-0.134687</td>\n",
       "      <td id=\"T_6dd68_row9_col7\" class=\"data row9 col7\" >0.301455</td>\n",
       "      <td id=\"T_6dd68_row9_col8\" class=\"data row9 col8\" >-0.354049</td>\n",
       "      <td id=\"T_6dd68_row9_col9\" class=\"data row9 col9\" >1.000000</td>\n",
       "      <td id=\"T_6dd68_row9_col10\" class=\"data row9 col10\" >0.307463</td>\n",
       "      <td id=\"T_6dd68_row9_col11\" class=\"data row9 col11\" >-0.171270</td>\n",
       "      <td id=\"T_6dd68_row9_col12\" class=\"data row9 col12\" >-0.082307</td>\n",
       "      <td id=\"T_6dd68_row9_col13\" class=\"data row9 col13\" >-0.066193</td>\n",
       "      <td id=\"T_6dd68_row9_col14\" class=\"data row9 col14\" >-0.164716</td>\n",
       "      <td id=\"T_6dd68_row9_col15\" class=\"data row9 col15\" >0.063254</td>\n",
       "      <td id=\"T_6dd68_row9_col16\" class=\"data row9 col16\" >0.060860</td>\n",
       "      <td id=\"T_6dd68_row9_col17\" class=\"data row9 col17\" >-0.008545</td>\n",
       "      <td id=\"T_6dd68_row9_col18\" class=\"data row9 col18\" >0.150541</td>\n",
       "      <td id=\"T_6dd68_row9_col19\" class=\"data row9 col19\" >-0.149982</td>\n",
       "      <td id=\"T_6dd68_row9_col20\" class=\"data row9 col20\" >-0.163128</td>\n",
       "      <td id=\"T_6dd68_row9_col21\" class=\"data row9 col21\" >0.040033</td>\n",
       "      <td id=\"T_6dd68_row9_col22\" class=\"data row9 col22\" >0.227578</td>\n",
       "      <td id=\"T_6dd68_row9_col23\" class=\"data row9 col23\" >0.011691</td>\n",
       "    </tr>\n",
       "    <tr>\n",
       "      <th id=\"T_6dd68_level0_row10\" class=\"row_heading level0 row10\" >internet_service</th>\n",
       "      <td id=\"T_6dd68_row10_col0\" class=\"data row10 col0\" >0.326470</td>\n",
       "      <td id=\"T_6dd68_row10_col1\" class=\"data row10 col1\" >0.787195</td>\n",
       "      <td id=\"T_6dd68_row10_col2\" class=\"data row10 col2\" >0.360769</td>\n",
       "      <td id=\"T_6dd68_row10_col3\" class=\"data row10 col3\" >0.243014</td>\n",
       "      <td id=\"T_6dd68_row10_col4\" class=\"data row10 col4\" >-0.076809</td>\n",
       "      <td id=\"T_6dd68_row10_col5\" class=\"data row10 col5\" >-0.022779</td>\n",
       "      <td id=\"T_6dd68_row10_col6\" class=\"data row10 col6\" >-0.050552</td>\n",
       "      <td id=\"T_6dd68_row10_col7\" class=\"data row10 col7\" >0.335763</td>\n",
       "      <td id=\"T_6dd68_row10_col8\" class=\"data row10 col8\" >0.017930</td>\n",
       "      <td id=\"T_6dd68_row10_col9\" class=\"data row10 col9\" >0.307463</td>\n",
       "      <td id=\"T_6dd68_row10_col10\" class=\"data row10 col10\" >1.000000</td>\n",
       "      <td id=\"T_6dd68_row10_col11\" class=\"data row10 col11\" >-0.030506</td>\n",
       "      <td id=\"T_6dd68_row10_col12\" class=\"data row10 col12\" >0.165940</td>\n",
       "      <td id=\"T_6dd68_row10_col13\" class=\"data row10 col13\" >0.176356</td>\n",
       "      <td id=\"T_6dd68_row10_col14\" class=\"data row10 col14\" >-0.020299</td>\n",
       "      <td id=\"T_6dd68_row10_col15\" class=\"data row10 col15\" >0.329744</td>\n",
       "      <td id=\"T_6dd68_row10_col16\" class=\"data row10 col16\" >0.322457</td>\n",
       "      <td id=\"T_6dd68_row10_col17\" class=\"data row10 col17\" >-0.011189</td>\n",
       "      <td id=\"T_6dd68_row10_col18\" class=\"data row10 col18\" >0.254923</td>\n",
       "      <td id=\"T_6dd68_row10_col19\" class=\"data row10 col19\" >0.001235</td>\n",
       "      <td id=\"T_6dd68_row10_col20\" class=\"data row10 col20\" >-0.164101</td>\n",
       "      <td id=\"T_6dd68_row10_col21\" class=\"data row10 col21\" >0.366420</td>\n",
       "      <td id=\"T_6dd68_row10_col22\" class=\"data row10 col22\" >0.465736</td>\n",
       "      <td id=\"T_6dd68_row10_col23\" class=\"data row10 col23\" >0.290183</td>\n",
       "    </tr>\n",
       "    <tr>\n",
       "      <th id=\"T_6dd68_level0_row11\" class=\"row_heading level0 row11\" >online_sec</th>\n",
       "      <td id=\"T_6dd68_row11_col0\" class=\"data row11 col0\" >-0.004051</td>\n",
       "      <td id=\"T_6dd68_row11_col1\" class=\"data row11 col1\" >0.296447</td>\n",
       "      <td id=\"T_6dd68_row11_col2\" class=\"data row11 col2\" >0.412619</td>\n",
       "      <td id=\"T_6dd68_row11_col3\" class=\"data row11 col3\" >-0.246844</td>\n",
       "      <td id=\"T_6dd68_row11_col4\" class=\"data row11 col4\" >0.100658</td>\n",
       "      <td id=\"T_6dd68_row11_col5\" class=\"data row11 col5\" >0.094366</td>\n",
       "      <td id=\"T_6dd68_row11_col6\" class=\"data row11 col6\" >0.115473</td>\n",
       "      <td id=\"T_6dd68_row11_col7\" class=\"data row11 col7\" >-0.112295</td>\n",
       "      <td id=\"T_6dd68_row11_col8\" class=\"data row11 col8\" >0.328297</td>\n",
       "      <td id=\"T_6dd68_row11_col9\" class=\"data row11 col9\" >-0.171270</td>\n",
       "      <td id=\"T_6dd68_row11_col10\" class=\"data row11 col10\" >-0.030506</td>\n",
       "      <td id=\"T_6dd68_row11_col11\" class=\"data row11 col11\" >1.000000</td>\n",
       "      <td id=\"T_6dd68_row11_col12\" class=\"data row11 col12\" >0.283285</td>\n",
       "      <td id=\"T_6dd68_row11_col13\" class=\"data row11 col13\" >0.274875</td>\n",
       "      <td id=\"T_6dd68_row11_col14\" class=\"data row11 col14\" >0.354458</td>\n",
       "      <td id=\"T_6dd68_row11_col15\" class=\"data row11 col15\" >0.175514</td>\n",
       "      <td id=\"T_6dd68_row11_col16\" class=\"data row11 col16\" >0.187426</td>\n",
       "      <td id=\"T_6dd68_row11_col17\" class=\"data row11 col17\" >-0.016328</td>\n",
       "      <td id=\"T_6dd68_row11_col18\" class=\"data row11 col18\" >-0.038576</td>\n",
       "      <td id=\"T_6dd68_row11_col19\" class=\"data row11 col19\" >0.143346</td>\n",
       "      <td id=\"T_6dd68_row11_col20\" class=\"data row11 col20\" >0.080786</td>\n",
       "      <td id=\"T_6dd68_row11_col21\" class=\"data row11 col21\" >0.098592</td>\n",
       "      <td id=\"T_6dd68_row11_col22\" class=\"data row11 col22\" >0.332799</td>\n",
       "      <td id=\"T_6dd68_row11_col23\" class=\"data row11 col23\" >-0.091676</td>\n",
       "    </tr>\n",
       "    <tr>\n",
       "      <th id=\"T_6dd68_level0_row12\" class=\"row_heading level0 row12\" >online_backup</th>\n",
       "      <td id=\"T_6dd68_row12_col0\" class=\"data row12 col0\" >0.127056</td>\n",
       "      <td id=\"T_6dd68_row12_col1\" class=\"data row12 col1\" >0.441529</td>\n",
       "      <td id=\"T_6dd68_row12_col2\" class=\"data row12 col2\" >0.510100</td>\n",
       "      <td id=\"T_6dd68_row12_col3\" class=\"data row12 col3\" >-0.164393</td>\n",
       "      <td id=\"T_6dd68_row12_col4\" class=\"data row12 col4\" >0.084113</td>\n",
       "      <td id=\"T_6dd68_row12_col5\" class=\"data row12 col5\" >0.086942</td>\n",
       "      <td id=\"T_6dd68_row12_col6\" class=\"data row12 col6\" >0.090455</td>\n",
       "      <td id=\"T_6dd68_row12_col7\" class=\"data row12 col7\" >-0.000364</td>\n",
       "      <td id=\"T_6dd68_row12_col8\" class=\"data row12 col8\" >0.361138</td>\n",
       "      <td id=\"T_6dd68_row12_col9\" class=\"data row12 col9\" >-0.082307</td>\n",
       "      <td id=\"T_6dd68_row12_col10\" class=\"data row12 col10\" >0.165940</td>\n",
       "      <td id=\"T_6dd68_row12_col11\" class=\"data row12 col11\" >0.283285</td>\n",
       "      <td id=\"T_6dd68_row12_col12\" class=\"data row12 col12\" >1.000000</td>\n",
       "      <td id=\"T_6dd68_row12_col13\" class=\"data row12 col13\" >0.303058</td>\n",
       "      <td id=\"T_6dd68_row12_col14\" class=\"data row12 col14\" >0.293705</td>\n",
       "      <td id=\"T_6dd68_row12_col15\" class=\"data row12 col15\" >0.281601</td>\n",
       "      <td id=\"T_6dd68_row12_col16\" class=\"data row12 col16\" >0.274523</td>\n",
       "      <td id=\"T_6dd68_row12_col17\" class=\"data row12 col17\" >-0.013093</td>\n",
       "      <td id=\"T_6dd68_row12_col18\" class=\"data row12 col18\" >0.066663</td>\n",
       "      <td id=\"T_6dd68_row12_col19\" class=\"data row12 col19\" >0.141849</td>\n",
       "      <td id=\"T_6dd68_row12_col20\" class=\"data row12 col20\" >0.023639</td>\n",
       "      <td id=\"T_6dd68_row12_col21\" class=\"data row12 col21\" >0.202228</td>\n",
       "      <td id=\"T_6dd68_row12_col22\" class=\"data row12 col22\" >0.380990</td>\n",
       "      <td id=\"T_6dd68_row12_col23\" class=\"data row12 col23\" >-0.052133</td>\n",
       "    </tr>\n",
       "    <tr>\n",
       "      <th id=\"T_6dd68_level0_row13\" class=\"row_heading level0 row13\" >device_protect</th>\n",
       "      <td id=\"T_6dd68_row13_col0\" class=\"data row13 col0\" >0.104079</td>\n",
       "      <td id=\"T_6dd68_row13_col1\" class=\"data row13 col1\" >0.482607</td>\n",
       "      <td id=\"T_6dd68_row13_col2\" class=\"data row13 col2\" >0.522881</td>\n",
       "      <td id=\"T_6dd68_row13_col3\" class=\"data row13 col3\" >-0.225988</td>\n",
       "      <td id=\"T_6dd68_row13_col4\" class=\"data row13 col4\" >0.102911</td>\n",
       "      <td id=\"T_6dd68_row13_col5\" class=\"data row13 col5\" >0.083047</td>\n",
       "      <td id=\"T_6dd68_row13_col6\" class=\"data row13 col6\" >0.111252</td>\n",
       "      <td id=\"T_6dd68_row13_col7\" class=\"data row13 col7\" >-0.003308</td>\n",
       "      <td id=\"T_6dd68_row13_col8\" class=\"data row13 col8\" >0.361520</td>\n",
       "      <td id=\"T_6dd68_row13_col9\" class=\"data row13 col9\" >-0.066193</td>\n",
       "      <td id=\"T_6dd68_row13_col10\" class=\"data row13 col10\" >0.176356</td>\n",
       "      <td id=\"T_6dd68_row13_col11\" class=\"data row13 col11\" >0.274875</td>\n",
       "      <td id=\"T_6dd68_row13_col12\" class=\"data row13 col12\" >0.303058</td>\n",
       "      <td id=\"T_6dd68_row13_col13\" class=\"data row13 col13\" >1.000000</td>\n",
       "      <td id=\"T_6dd68_row13_col14\" class=\"data row13 col14\" >0.332850</td>\n",
       "      <td id=\"T_6dd68_row13_col15\" class=\"data row13 col15\" >0.389924</td>\n",
       "      <td id=\"T_6dd68_row13_col16\" class=\"data row13 col16\" >0.402309</td>\n",
       "      <td id=\"T_6dd68_row13_col17\" class=\"data row13 col17\" >-0.000807</td>\n",
       "      <td id=\"T_6dd68_row13_col18\" class=\"data row13 col18\" >0.059514</td>\n",
       "      <td id=\"T_6dd68_row13_col19\" class=\"data row13 col19\" >0.153556</td>\n",
       "      <td id=\"T_6dd68_row13_col20\" class=\"data row13 col20\" >0.013900</td>\n",
       "      <td id=\"T_6dd68_row13_col21\" class=\"data row13 col21\" >0.201733</td>\n",
       "      <td id=\"T_6dd68_row13_col22\" class=\"data row13 col22\" >0.380151</td>\n",
       "      <td id=\"T_6dd68_row13_col23\" class=\"data row13 col23\" >-0.070076</td>\n",
       "    </tr>\n",
       "    <tr>\n",
       "      <th id=\"T_6dd68_level0_row14\" class=\"row_heading level0 row14\" >tech_sup</th>\n",
       "      <td id=\"T_6dd68_row14_col0\" class=\"data row14 col0\" >0.037536</td>\n",
       "      <td id=\"T_6dd68_row14_col1\" class=\"data row14 col1\" >0.338301</td>\n",
       "      <td id=\"T_6dd68_row14_col2\" class=\"data row14 col2\" >0.432868</td>\n",
       "      <td id=\"T_6dd68_row14_col3\" class=\"data row14 col3\" >-0.285491</td>\n",
       "      <td id=\"T_6dd68_row14_col4\" class=\"data row14 col4\" >0.096258</td>\n",
       "      <td id=\"T_6dd68_row14_col5\" class=\"data row14 col5\" >0.100472</td>\n",
       "      <td id=\"T_6dd68_row14_col6\" class=\"data row14 col6\" >0.117024</td>\n",
       "      <td id=\"T_6dd68_row14_col7\" class=\"data row14 col7\" >-0.114807</td>\n",
       "      <td id=\"T_6dd68_row14_col8\" class=\"data row14 col8\" >0.325288</td>\n",
       "      <td id=\"T_6dd68_row14_col9\" class=\"data row14 col9\" >-0.164716</td>\n",
       "      <td id=\"T_6dd68_row14_col10\" class=\"data row14 col10\" >-0.020299</td>\n",
       "      <td id=\"T_6dd68_row14_col11\" class=\"data row14 col11\" >0.354458</td>\n",
       "      <td id=\"T_6dd68_row14_col12\" class=\"data row14 col12\" >0.293705</td>\n",
       "      <td id=\"T_6dd68_row14_col13\" class=\"data row14 col13\" >0.332850</td>\n",
       "      <td id=\"T_6dd68_row14_col14\" class=\"data row14 col14\" >1.000000</td>\n",
       "      <td id=\"T_6dd68_row14_col15\" class=\"data row14 col15\" >0.277549</td>\n",
       "      <td id=\"T_6dd68_row14_col16\" class=\"data row14 col16\" >0.280155</td>\n",
       "      <td id=\"T_6dd68_row14_col17\" class=\"data row14 col17\" >-0.008507</td>\n",
       "      <td id=\"T_6dd68_row14_col18\" class=\"data row14 col18\" >-0.060577</td>\n",
       "      <td id=\"T_6dd68_row14_col19\" class=\"data row14 col19\" >0.120206</td>\n",
       "      <td id=\"T_6dd68_row14_col20\" class=\"data row14 col20\" >0.063053</td>\n",
       "      <td id=\"T_6dd68_row14_col21\" class=\"data row14 col21\" >0.100421</td>\n",
       "      <td id=\"T_6dd68_row14_col22\" class=\"data row14 col22\" >0.335695</td>\n",
       "      <td id=\"T_6dd68_row14_col23\" class=\"data row14 col23\" >-0.095138</td>\n",
       "    </tr>\n",
       "    <tr>\n",
       "      <th id=\"T_6dd68_level0_row15\" class=\"row_heading level0 row15\" >stream_tv</th>\n",
       "      <td id=\"T_6dd68_row15_col0\" class=\"data row15 col0\" >0.224241</td>\n",
       "      <td id=\"T_6dd68_row15_col1\" class=\"data row15 col1\" >0.629668</td>\n",
       "      <td id=\"T_6dd68_row15_col2\" class=\"data row15 col2\" >0.515709</td>\n",
       "      <td id=\"T_6dd68_row15_col3\" class=\"data row15 col3\" >-0.112550</td>\n",
       "      <td id=\"T_6dd68_row15_col4\" class=\"data row15 col4\" >0.061930</td>\n",
       "      <td id=\"T_6dd68_row15_col5\" class=\"data row15 col5\" >0.046121</td>\n",
       "      <td id=\"T_6dd68_row15_col6\" class=\"data row15 col6\" >0.040010</td>\n",
       "      <td id=\"T_6dd68_row15_col7\" class=\"data row15 col7\" >0.144747</td>\n",
       "      <td id=\"T_6dd68_row15_col8\" class=\"data row15 col8\" >0.280264</td>\n",
       "      <td id=\"T_6dd68_row15_col9\" class=\"data row15 col9\" >0.063254</td>\n",
       "      <td id=\"T_6dd68_row15_col10\" class=\"data row15 col10\" >0.329744</td>\n",
       "      <td id=\"T_6dd68_row15_col11\" class=\"data row15 col11\" >0.175514</td>\n",
       "      <td id=\"T_6dd68_row15_col12\" class=\"data row15 col12\" >0.281601</td>\n",
       "      <td id=\"T_6dd68_row15_col13\" class=\"data row15 col13\" >0.389924</td>\n",
       "      <td id=\"T_6dd68_row15_col14\" class=\"data row15 col14\" >0.277549</td>\n",
       "      <td id=\"T_6dd68_row15_col15\" class=\"data row15 col15\" >1.000000</td>\n",
       "      <td id=\"T_6dd68_row15_col16\" class=\"data row15 col16\" >0.533380</td>\n",
       "      <td id=\"T_6dd68_row15_col17\" class=\"data row15 col17\" >-0.007124</td>\n",
       "      <td id=\"T_6dd68_row15_col18\" class=\"data row15 col18\" >0.105445</td>\n",
       "      <td id=\"T_6dd68_row15_col19\" class=\"data row15 col19\" >0.124483</td>\n",
       "      <td id=\"T_6dd68_row15_col20\" class=\"data row15 col20\" >-0.016499</td>\n",
       "      <td id=\"T_6dd68_row15_col21\" class=\"data row15 col21\" >0.257804</td>\n",
       "      <td id=\"T_6dd68_row15_col22\" class=\"data row15 col22\" >0.414951</td>\n",
       "      <td id=\"T_6dd68_row15_col23\" class=\"data row15 col23\" >-0.021383</td>\n",
       "    </tr>\n",
       "    <tr>\n",
       "      <th id=\"T_6dd68_level0_row16\" class=\"row_heading level0 row16\" >stream_movie</th>\n",
       "      <td id=\"T_6dd68_row16_col0\" class=\"data row16 col0\" >0.211583</td>\n",
       "      <td id=\"T_6dd68_row16_col1\" class=\"data row16 col1\" >0.627235</td>\n",
       "      <td id=\"T_6dd68_row16_col2\" class=\"data row16 col2\" >0.519867</td>\n",
       "      <td id=\"T_6dd68_row16_col3\" class=\"data row16 col3\" >-0.117867</td>\n",
       "      <td id=\"T_6dd68_row16_col4\" class=\"data row16 col4\" >0.064780</td>\n",
       "      <td id=\"T_6dd68_row16_col5\" class=\"data row16 col5\" >0.048755</td>\n",
       "      <td id=\"T_6dd68_row16_col6\" class=\"data row16 col6\" >0.048398</td>\n",
       "      <td id=\"T_6dd68_row16_col7\" class=\"data row16 col7\" >0.137420</td>\n",
       "      <td id=\"T_6dd68_row16_col8\" class=\"data row16 col8\" >0.285402</td>\n",
       "      <td id=\"T_6dd68_row16_col9\" class=\"data row16 col9\" >0.060860</td>\n",
       "      <td id=\"T_6dd68_row16_col10\" class=\"data row16 col10\" >0.322457</td>\n",
       "      <td id=\"T_6dd68_row16_col11\" class=\"data row16 col11\" >0.187426</td>\n",
       "      <td id=\"T_6dd68_row16_col12\" class=\"data row16 col12\" >0.274523</td>\n",
       "      <td id=\"T_6dd68_row16_col13\" class=\"data row16 col13\" >0.402309</td>\n",
       "      <td id=\"T_6dd68_row16_col14\" class=\"data row16 col14\" >0.280155</td>\n",
       "      <td id=\"T_6dd68_row16_col15\" class=\"data row16 col15\" >0.533380</td>\n",
       "      <td id=\"T_6dd68_row16_col16\" class=\"data row16 col16\" >1.000000</td>\n",
       "      <td id=\"T_6dd68_row16_col17\" class=\"data row16 col17\" >-0.010105</td>\n",
       "      <td id=\"T_6dd68_row16_col18\" class=\"data row16 col18\" >0.119842</td>\n",
       "      <td id=\"T_6dd68_row16_col19\" class=\"data row16 col19\" >0.118108</td>\n",
       "      <td id=\"T_6dd68_row16_col20\" class=\"data row16 col20\" >-0.038375</td>\n",
       "      <td id=\"T_6dd68_row16_col21\" class=\"data row16 col21\" >0.259194</td>\n",
       "      <td id=\"T_6dd68_row16_col22\" class=\"data row16 col22\" >0.418450</td>\n",
       "      <td id=\"T_6dd68_row16_col23\" class=\"data row16 col23\" >-0.033477</td>\n",
       "    </tr>\n",
       "    <tr>\n",
       "      <th id=\"T_6dd68_level0_row17\" class=\"row_heading level0 row17\" >gender</th>\n",
       "      <td id=\"T_6dd68_row17_col0\" class=\"data row17 col0\" >-0.011902</td>\n",
       "      <td id=\"T_6dd68_row17_col1\" class=\"data row17 col1\" >-0.013779</td>\n",
       "      <td id=\"T_6dd68_row17_col2\" class=\"data row17 col2\" >0.000048</td>\n",
       "      <td id=\"T_6dd68_row17_col3\" class=\"data row17 col3\" >-0.003251</td>\n",
       "      <td id=\"T_6dd68_row17_col4\" class=\"data row17 col4\" >0.007755</td>\n",
       "      <td id=\"T_6dd68_row17_col5\" class=\"data row17 col5\" >-0.015973</td>\n",
       "      <td id=\"T_6dd68_row17_col6\" class=\"data row17 col6\" >0.001632</td>\n",
       "      <td id=\"T_6dd68_row17_col7\" class=\"data row17 col7\" >0.000844</td>\n",
       "      <td id=\"T_6dd68_row17_col8\" class=\"data row17 col8\" >0.005285</td>\n",
       "      <td id=\"T_6dd68_row17_col9\" class=\"data row17 col9\" >-0.008545</td>\n",
       "      <td id=\"T_6dd68_row17_col10\" class=\"data row17 col10\" >-0.011189</td>\n",
       "      <td id=\"T_6dd68_row17_col11\" class=\"data row17 col11\" >-0.016328</td>\n",
       "      <td id=\"T_6dd68_row17_col12\" class=\"data row17 col12\" >-0.013093</td>\n",
       "      <td id=\"T_6dd68_row17_col13\" class=\"data row17 col13\" >-0.000807</td>\n",
       "      <td id=\"T_6dd68_row17_col14\" class=\"data row17 col14\" >-0.008507</td>\n",
       "      <td id=\"T_6dd68_row17_col15\" class=\"data row17 col15\" >-0.007124</td>\n",
       "      <td id=\"T_6dd68_row17_col16\" class=\"data row17 col16\" >-0.010105</td>\n",
       "      <td id=\"T_6dd68_row17_col17\" class=\"data row17 col17\" >1.000000</td>\n",
       "      <td id=\"T_6dd68_row17_col18\" class=\"data row17 col18\" >-0.001819</td>\n",
       "      <td id=\"T_6dd68_row17_col19\" class=\"data row17 col19\" >-0.001379</td>\n",
       "      <td id=\"T_6dd68_row17_col20\" class=\"data row17 col20\" >0.010349</td>\n",
       "      <td id=\"T_6dd68_row17_col21\" class=\"data row17 col21\" >-0.008883</td>\n",
       "      <td id=\"T_6dd68_row17_col22\" class=\"data row17 col22\" >-0.004745</td>\n",
       "      <td id=\"T_6dd68_row17_col23\" class=\"data row17 col23\" >-0.007515</td>\n",
       "    </tr>\n",
       "    <tr>\n",
       "      <th id=\"T_6dd68_level0_row18\" class=\"row_heading level0 row18\" >senior</th>\n",
       "      <td id=\"T_6dd68_row18_col0\" class=\"data row18 col0\" >0.156258</td>\n",
       "      <td id=\"T_6dd68_row18_col1\" class=\"data row18 col1\" >0.219874</td>\n",
       "      <td id=\"T_6dd68_row18_col2\" class=\"data row18 col2\" >0.102411</td>\n",
       "      <td id=\"T_6dd68_row18_col3\" class=\"data row18 col3\" >0.137752</td>\n",
       "      <td id=\"T_6dd68_row18_col4\" class=\"data row18 col4\" >-0.046491</td>\n",
       "      <td id=\"T_6dd68_row18_col5\" class=\"data row18 col5\" >-0.016235</td>\n",
       "      <td id=\"T_6dd68_row18_col6\" class=\"data row18 col6\" >-0.024359</td>\n",
       "      <td id=\"T_6dd68_row18_col7\" class=\"data row18 col7\" >0.171322</td>\n",
       "      <td id=\"T_6dd68_row18_col8\" class=\"data row18 col8\" >0.015683</td>\n",
       "      <td id=\"T_6dd68_row18_col9\" class=\"data row18 col9\" >0.150541</td>\n",
       "      <td id=\"T_6dd68_row18_col10\" class=\"data row18 col10\" >0.254923</td>\n",
       "      <td id=\"T_6dd68_row18_col11\" class=\"data row18 col11\" >-0.038576</td>\n",
       "      <td id=\"T_6dd68_row18_col12\" class=\"data row18 col12\" >0.066663</td>\n",
       "      <td id=\"T_6dd68_row18_col13\" class=\"data row18 col13\" >0.059514</td>\n",
       "      <td id=\"T_6dd68_row18_col14\" class=\"data row18 col14\" >-0.060577</td>\n",
       "      <td id=\"T_6dd68_row18_col15\" class=\"data row18 col15\" >0.105445</td>\n",
       "      <td id=\"T_6dd68_row18_col16\" class=\"data row18 col16\" >0.119842</td>\n",
       "      <td id=\"T_6dd68_row18_col17\" class=\"data row18 col17\" >-0.001819</td>\n",
       "      <td id=\"T_6dd68_row18_col18\" class=\"data row18 col18\" >1.000000</td>\n",
       "      <td id=\"T_6dd68_row18_col19\" class=\"data row18 col19\" >0.016957</td>\n",
       "      <td id=\"T_6dd68_row18_col20\" class=\"data row18 col20\" >-0.210550</td>\n",
       "      <td id=\"T_6dd68_row18_col21\" class=\"data row18 col21\" >0.142996</td>\n",
       "      <td id=\"T_6dd68_row18_col22\" class=\"data row18 col22\" >0.182519</td>\n",
       "      <td id=\"T_6dd68_row18_col23\" class=\"data row18 col23\" >0.008392</td>\n",
       "    </tr>\n",
       "    <tr>\n",
       "      <th id=\"T_6dd68_level0_row19\" class=\"row_heading level0 row19\" >partner</th>\n",
       "      <td id=\"T_6dd68_row19_col0\" class=\"data row19 col0\" >-0.013957</td>\n",
       "      <td id=\"T_6dd68_row19_col1\" class=\"data row19 col1\" >0.097825</td>\n",
       "      <td id=\"T_6dd68_row19_col2\" class=\"data row19 col2\" >0.319072</td>\n",
       "      <td id=\"T_6dd68_row19_col3\" class=\"data row19 col3\" >-0.280202</td>\n",
       "      <td id=\"T_6dd68_row19_col4\" class=\"data row19 col4\" >0.083067</td>\n",
       "      <td id=\"T_6dd68_row19_col5\" class=\"data row19 col5\" >0.111406</td>\n",
       "      <td id=\"T_6dd68_row19_col6\" class=\"data row19 col6\" >0.082327</td>\n",
       "      <td id=\"T_6dd68_row19_col7\" class=\"data row19 col7\" >-0.083207</td>\n",
       "      <td id=\"T_6dd68_row19_col8\" class=\"data row19 col8\" >0.381912</td>\n",
       "      <td id=\"T_6dd68_row19_col9\" class=\"data row19 col9\" >-0.149982</td>\n",
       "      <td id=\"T_6dd68_row19_col10\" class=\"data row19 col10\" >0.001235</td>\n",
       "      <td id=\"T_6dd68_row19_col11\" class=\"data row19 col11\" >0.143346</td>\n",
       "      <td id=\"T_6dd68_row19_col12\" class=\"data row19 col12\" >0.141849</td>\n",
       "      <td id=\"T_6dd68_row19_col13\" class=\"data row19 col13\" >0.153556</td>\n",
       "      <td id=\"T_6dd68_row19_col14\" class=\"data row19 col14\" >0.120206</td>\n",
       "      <td id=\"T_6dd68_row19_col15\" class=\"data row19 col15\" >0.124483</td>\n",
       "      <td id=\"T_6dd68_row19_col16\" class=\"data row19 col16\" >0.118108</td>\n",
       "      <td id=\"T_6dd68_row19_col17\" class=\"data row19 col17\" >-0.001379</td>\n",
       "      <td id=\"T_6dd68_row19_col18\" class=\"data row19 col18\" >0.016957</td>\n",
       "      <td id=\"T_6dd68_row19_col19\" class=\"data row19 col19\" >1.000000</td>\n",
       "      <td id=\"T_6dd68_row19_col20\" class=\"data row19 col20\" >0.452269</td>\n",
       "      <td id=\"T_6dd68_row19_col21\" class=\"data row19 col21\" >0.142561</td>\n",
       "      <td id=\"T_6dd68_row19_col22\" class=\"data row19 col22\" >0.000286</td>\n",
       "      <td id=\"T_6dd68_row19_col23\" class=\"data row19 col23\" >0.018397</td>\n",
       "    </tr>\n",
       "    <tr>\n",
       "      <th id=\"T_6dd68_level0_row20\" class=\"row_heading level0 row20\" >dependents</th>\n",
       "      <td id=\"T_6dd68_row20_col0\" class=\"data row20 col0\" >-0.110131</td>\n",
       "      <td id=\"T_6dd68_row20_col1\" class=\"data row20 col1\" >-0.112343</td>\n",
       "      <td id=\"T_6dd68_row20_col2\" class=\"data row20 col2\" >0.064653</td>\n",
       "      <td id=\"T_6dd68_row20_col3\" class=\"data row20 col3\" >-0.229715</td>\n",
       "      <td id=\"T_6dd68_row20_col4\" class=\"data row20 col4\" >0.069222</td>\n",
       "      <td id=\"T_6dd68_row20_col5\" class=\"data row20 col5\" >0.052369</td>\n",
       "      <td id=\"T_6dd68_row20_col6\" class=\"data row20 col6\" >0.061134</td>\n",
       "      <td id=\"T_6dd68_row20_col7\" class=\"data row20 col7\" >-0.149274</td>\n",
       "      <td id=\"T_6dd68_row20_col8\" class=\"data row20 col8\" >0.163386</td>\n",
       "      <td id=\"T_6dd68_row20_col9\" class=\"data row20 col9\" >-0.163128</td>\n",
       "      <td id=\"T_6dd68_row20_col10\" class=\"data row20 col10\" >-0.164101</td>\n",
       "      <td id=\"T_6dd68_row20_col11\" class=\"data row20 col11\" >0.080786</td>\n",
       "      <td id=\"T_6dd68_row20_col12\" class=\"data row20 col12\" >0.023639</td>\n",
       "      <td id=\"T_6dd68_row20_col13\" class=\"data row20 col13\" >0.013900</td>\n",
       "      <td id=\"T_6dd68_row20_col14\" class=\"data row20 col14\" >0.063053</td>\n",
       "      <td id=\"T_6dd68_row20_col15\" class=\"data row20 col15\" >-0.016499</td>\n",
       "      <td id=\"T_6dd68_row20_col16\" class=\"data row20 col16\" >-0.038375</td>\n",
       "      <td id=\"T_6dd68_row20_col17\" class=\"data row20 col17\" >0.010349</td>\n",
       "      <td id=\"T_6dd68_row20_col18\" class=\"data row20 col18\" >-0.210550</td>\n",
       "      <td id=\"T_6dd68_row20_col19\" class=\"data row20 col19\" >0.452269</td>\n",
       "      <td id=\"T_6dd68_row20_col20\" class=\"data row20 col20\" >1.000000</td>\n",
       "      <td id=\"T_6dd68_row20_col21\" class=\"data row20 col21\" >-0.024307</td>\n",
       "      <td id=\"T_6dd68_row20_col22\" class=\"data row20 col22\" >-0.138383</td>\n",
       "      <td id=\"T_6dd68_row20_col23\" class=\"data row20 col23\" >-0.001078</td>\n",
       "    </tr>\n",
       "    <tr>\n",
       "      <th id=\"T_6dd68_level0_row21\" class=\"row_heading level0 row21\" >multiple_lines</th>\n",
       "      <td id=\"T_6dd68_row21_col0\" class=\"data row21 col0\" >0.163746</td>\n",
       "      <td id=\"T_6dd68_row21_col1\" class=\"data row21 col1\" >0.490912</td>\n",
       "      <td id=\"T_6dd68_row21_col2\" class=\"data row21 col2\" >0.469042</td>\n",
       "      <td id=\"T_6dd68_row21_col3\" class=\"data row21 col3\" >-0.088558</td>\n",
       "      <td id=\"T_6dd68_row21_col4\" class=\"data row21 col4\" >-0.003594</td>\n",
       "      <td id=\"T_6dd68_row21_col5\" class=\"data row21 col5\" >0.075429</td>\n",
       "      <td id=\"T_6dd68_row21_col6\" class=\"data row21 col6\" >0.060319</td>\n",
       "      <td id=\"T_6dd68_row21_col7\" class=\"data row21 col7\" >0.083583</td>\n",
       "      <td id=\"T_6dd68_row21_col8\" class=\"data row21 col8\" >0.332399</td>\n",
       "      <td id=\"T_6dd68_row21_col9\" class=\"data row21 col9\" >0.040033</td>\n",
       "      <td id=\"T_6dd68_row21_col10\" class=\"data row21 col10\" >0.366420</td>\n",
       "      <td id=\"T_6dd68_row21_col11\" class=\"data row21 col11\" >0.098592</td>\n",
       "      <td id=\"T_6dd68_row21_col12\" class=\"data row21 col12\" >0.202228</td>\n",
       "      <td id=\"T_6dd68_row21_col13\" class=\"data row21 col13\" >0.201733</td>\n",
       "      <td id=\"T_6dd68_row21_col14\" class=\"data row21 col14\" >0.100421</td>\n",
       "      <td id=\"T_6dd68_row21_col15\" class=\"data row21 col15\" >0.257804</td>\n",
       "      <td id=\"T_6dd68_row21_col16\" class=\"data row21 col16\" >0.259194</td>\n",
       "      <td id=\"T_6dd68_row21_col17\" class=\"data row21 col17\" >-0.008883</td>\n",
       "      <td id=\"T_6dd68_row21_col18\" class=\"data row21 col18\" >0.142996</td>\n",
       "      <td id=\"T_6dd68_row21_col19\" class=\"data row21 col19\" >0.142561</td>\n",
       "      <td id=\"T_6dd68_row21_col20\" class=\"data row21 col20\" >-0.024307</td>\n",
       "      <td id=\"T_6dd68_row21_col21\" class=\"data row21 col21\" >1.000000</td>\n",
       "      <td id=\"T_6dd68_row21_col22\" class=\"data row21 col22\" >0.210794</td>\n",
       "      <td id=\"T_6dd68_row21_col23\" class=\"data row21 col23\" >0.279530</td>\n",
       "    </tr>\n",
       "    <tr>\n",
       "      <th id=\"T_6dd68_level0_row22\" class=\"row_heading level0 row22\" >use_internet</th>\n",
       "      <td id=\"T_6dd68_row22_col0\" class=\"data row22 col0\" >0.320592</td>\n",
       "      <td id=\"T_6dd68_row22_col1\" class=\"data row22 col1\" >0.763191</td>\n",
       "      <td id=\"T_6dd68_row22_col2\" class=\"data row22 col2\" >0.374878</td>\n",
       "      <td id=\"T_6dd68_row22_col3\" class=\"data row22 col3\" >0.217824</td>\n",
       "      <td id=\"T_6dd68_row22_col4\" class=\"data row22 col4\" >-0.038061</td>\n",
       "      <td id=\"T_6dd68_row22_col5\" class=\"data row22 col5\" >0.001094</td>\n",
       "      <td id=\"T_6dd68_row22_col6\" class=\"data row22 col6\" >-0.001870</td>\n",
       "      <td id=\"T_6dd68_row22_col7\" class=\"data row22 col7\" >0.284608</td>\n",
       "      <td id=\"T_6dd68_row22_col8\" class=\"data row22 col8\" >0.037529</td>\n",
       "      <td id=\"T_6dd68_row22_col9\" class=\"data row22 col9\" >0.227578</td>\n",
       "      <td id=\"T_6dd68_row22_col10\" class=\"data row22 col10\" >0.465736</td>\n",
       "      <td id=\"T_6dd68_row22_col11\" class=\"data row22 col11\" >0.332799</td>\n",
       "      <td id=\"T_6dd68_row22_col12\" class=\"data row22 col12\" >0.380990</td>\n",
       "      <td id=\"T_6dd68_row22_col13\" class=\"data row22 col13\" >0.380151</td>\n",
       "      <td id=\"T_6dd68_row22_col14\" class=\"data row22 col14\" >0.335695</td>\n",
       "      <td id=\"T_6dd68_row22_col15\" class=\"data row22 col15\" >0.414951</td>\n",
       "      <td id=\"T_6dd68_row22_col16\" class=\"data row22 col16\" >0.418450</td>\n",
       "      <td id=\"T_6dd68_row22_col17\" class=\"data row22 col17\" >-0.004745</td>\n",
       "      <td id=\"T_6dd68_row22_col18\" class=\"data row22 col18\" >0.182519</td>\n",
       "      <td id=\"T_6dd68_row22_col19\" class=\"data row22 col19\" >0.000286</td>\n",
       "      <td id=\"T_6dd68_row22_col20\" class=\"data row22 col20\" >-0.138383</td>\n",
       "      <td id=\"T_6dd68_row22_col21\" class=\"data row22 col21\" >0.210794</td>\n",
       "      <td id=\"T_6dd68_row22_col22\" class=\"data row22 col22\" >1.000000</td>\n",
       "      <td id=\"T_6dd68_row22_col23\" class=\"data row22 col23\" >-0.171817</td>\n",
       "    </tr>\n",
       "    <tr>\n",
       "      <th id=\"T_6dd68_level0_row23\" class=\"row_heading level0 row23\" >use_phone</th>\n",
       "      <td id=\"T_6dd68_row23_col0\" class=\"data row23 col0\" >0.016696</td>\n",
       "      <td id=\"T_6dd68_row23_col1\" class=\"data row23 col1\" >0.248033</td>\n",
       "      <td id=\"T_6dd68_row23_col2\" class=\"data row23 col2\" >0.113008</td>\n",
       "      <td id=\"T_6dd68_row23_col3\" class=\"data row23 col3\" >-0.001243</td>\n",
       "      <td id=\"T_6dd68_row23_col4\" class=\"data row23 col4\" >-0.003142</td>\n",
       "      <td id=\"T_6dd68_row23_col5\" class=\"data row23 col5\" >0.008271</td>\n",
       "      <td id=\"T_6dd68_row23_col6\" class=\"data row23 col6\" >-0.006916</td>\n",
       "      <td id=\"T_6dd68_row23_col7\" class=\"data row23 col7\" >0.002747</td>\n",
       "      <td id=\"T_6dd68_row23_col8\" class=\"data row23 col8\" >0.007877</td>\n",
       "      <td id=\"T_6dd68_row23_col9\" class=\"data row23 col9\" >0.011691</td>\n",
       "      <td id=\"T_6dd68_row23_col10\" class=\"data row23 col10\" >0.290183</td>\n",
       "      <td id=\"T_6dd68_row23_col11\" class=\"data row23 col11\" >-0.091676</td>\n",
       "      <td id=\"T_6dd68_row23_col12\" class=\"data row23 col12\" >-0.052133</td>\n",
       "      <td id=\"T_6dd68_row23_col13\" class=\"data row23 col13\" >-0.070076</td>\n",
       "      <td id=\"T_6dd68_row23_col14\" class=\"data row23 col14\" >-0.095138</td>\n",
       "      <td id=\"T_6dd68_row23_col15\" class=\"data row23 col15\" >-0.021383</td>\n",
       "      <td id=\"T_6dd68_row23_col16\" class=\"data row23 col16\" >-0.033477</td>\n",
       "      <td id=\"T_6dd68_row23_col17\" class=\"data row23 col17\" >-0.007515</td>\n",
       "      <td id=\"T_6dd68_row23_col18\" class=\"data row23 col18\" >0.008392</td>\n",
       "      <td id=\"T_6dd68_row23_col19\" class=\"data row23 col19\" >0.018397</td>\n",
       "      <td id=\"T_6dd68_row23_col20\" class=\"data row23 col20\" >-0.001078</td>\n",
       "      <td id=\"T_6dd68_row23_col21\" class=\"data row23 col21\" >0.279530</td>\n",
       "      <td id=\"T_6dd68_row23_col22\" class=\"data row23 col22\" >-0.171817</td>\n",
       "      <td id=\"T_6dd68_row23_col23\" class=\"data row23 col23\" >1.000000</td>\n",
       "    </tr>\n",
       "  </tbody>\n",
       "</table>\n"
      ],
      "text/plain": [
       "<pandas.io.formats.style.Styler at 0x1eb409ddf10>"
      ]
     },
     "execution_count": 75,
     "metadata": {},
     "output_type": "execute_result"
    }
   ],
   "source": [
    "x.style.applymap(_color_correl)"
   ]
  },
  {
   "cell_type": "markdown",
   "id": "ed4ff8ce",
   "metadata": {},
   "source": [
    "Let's chack only situations with high correlation"
   ]
  },
  {
   "cell_type": "code",
   "execution_count": 76,
   "id": "4b7a817a",
   "metadata": {},
   "outputs": [],
   "source": [
    "columns_tocheck = []\n",
    "for column in x.columns:\n",
    "    if x[column].nlargest(2)[1] > 0.7:\n",
    "        columns_tocheck.append(column)"
   ]
  },
  {
   "cell_type": "code",
   "execution_count": 77,
   "id": "1b91b419",
   "metadata": {},
   "outputs": [],
   "source": [
    "columns_tocheck2 = []\n",
    "for column in x.columns:\n",
    "    if x[column].min() < -0.7:\n",
    "        columns_tocheck2.append(column)"
   ]
  },
  {
   "cell_type": "code",
   "execution_count": 78,
   "id": "309e9774",
   "metadata": {},
   "outputs": [],
   "source": [
    "for name in columns_tocheck2:\n",
    "    if not name in  columns_tocheck:\n",
    "        columns_tocheck.append(name)"
   ]
  },
  {
   "cell_type": "code",
   "execution_count": 79,
   "id": "e6be1ef6",
   "metadata": {
    "scrolled": true
   },
   "outputs": [
    {
     "data": {
      "text/html": [
       "<style type=\"text/css\">\n",
       "#T_b0dd2_row0_col0, #T_b0dd2_row0_col1, #T_b0dd2_row0_col2, #T_b0dd2_row0_col3, #T_b0dd2_row0_col4, #T_b0dd2_row1_col0, #T_b0dd2_row1_col2, #T_b0dd2_row2_col1, #T_b0dd2_row2_col3, #T_b0dd2_row2_col4, #T_b0dd2_row3_col0, #T_b0dd2_row3_col1, #T_b0dd2_row3_col3, #T_b0dd2_row3_col4, #T_b0dd2_row4_col0, #T_b0dd2_row4_col1, #T_b0dd2_row4_col2, #T_b0dd2_row4_col3, #T_b0dd2_row4_col4, #T_b0dd2_row5_col0, #T_b0dd2_row5_col1, #T_b0dd2_row5_col2, #T_b0dd2_row5_col3, #T_b0dd2_row5_col4, #T_b0dd2_row6_col0, #T_b0dd2_row6_col1, #T_b0dd2_row6_col2, #T_b0dd2_row6_col3, #T_b0dd2_row6_col4, #T_b0dd2_row7_col0, #T_b0dd2_row7_col1, #T_b0dd2_row7_col2, #T_b0dd2_row7_col3, #T_b0dd2_row7_col4, #T_b0dd2_row8_col0, #T_b0dd2_row8_col2, #T_b0dd2_row8_col3, #T_b0dd2_row8_col4, #T_b0dd2_row9_col0, #T_b0dd2_row9_col1, #T_b0dd2_row9_col2, #T_b0dd2_row9_col3, #T_b0dd2_row9_col4, #T_b0dd2_row10_col1, #T_b0dd2_row10_col2, #T_b0dd2_row10_col3, #T_b0dd2_row10_col4, #T_b0dd2_row11_col0, #T_b0dd2_row11_col1, #T_b0dd2_row11_col2, #T_b0dd2_row11_col3, #T_b0dd2_row11_col4, #T_b0dd2_row12_col0, #T_b0dd2_row12_col2, #T_b0dd2_row12_col3, #T_b0dd2_row12_col4, #T_b0dd2_row13_col0, #T_b0dd2_row13_col2, #T_b0dd2_row13_col3, #T_b0dd2_row13_col4, #T_b0dd2_row14_col0, #T_b0dd2_row14_col1, #T_b0dd2_row14_col2, #T_b0dd2_row14_col3, #T_b0dd2_row14_col4, #T_b0dd2_row15_col2, #T_b0dd2_row15_col3, #T_b0dd2_row15_col4, #T_b0dd2_row16_col2, #T_b0dd2_row16_col3, #T_b0dd2_row16_col4, #T_b0dd2_row17_col0, #T_b0dd2_row17_col1, #T_b0dd2_row17_col2, #T_b0dd2_row17_col3, #T_b0dd2_row17_col4, #T_b0dd2_row18_col0, #T_b0dd2_row18_col1, #T_b0dd2_row18_col2, #T_b0dd2_row18_col3, #T_b0dd2_row18_col4, #T_b0dd2_row19_col0, #T_b0dd2_row19_col1, #T_b0dd2_row19_col2, #T_b0dd2_row19_col3, #T_b0dd2_row19_col4, #T_b0dd2_row20_col0, #T_b0dd2_row20_col1, #T_b0dd2_row20_col2, #T_b0dd2_row20_col3, #T_b0dd2_row20_col4, #T_b0dd2_row21_col0, #T_b0dd2_row21_col1, #T_b0dd2_row21_col2, #T_b0dd2_row21_col3, #T_b0dd2_row21_col4, #T_b0dd2_row22_col1, #T_b0dd2_row22_col2, #T_b0dd2_row22_col3, #T_b0dd2_row22_col4, #T_b0dd2_row23_col0, #T_b0dd2_row23_col1, #T_b0dd2_row23_col2, #T_b0dd2_row23_col3, #T_b0dd2_row23_col4 {\n",
       "  color: white;\n",
       "}\n",
       "#T_b0dd2_row1_col1, #T_b0dd2_row1_col3, #T_b0dd2_row1_col4, #T_b0dd2_row2_col0, #T_b0dd2_row3_col2, #T_b0dd2_row10_col0, #T_b0dd2_row12_col1, #T_b0dd2_row13_col1, #T_b0dd2_row15_col0, #T_b0dd2_row15_col1, #T_b0dd2_row16_col0, #T_b0dd2_row16_col1, #T_b0dd2_row22_col0 {\n",
       "  color: yellow;\n",
       "}\n",
       "#T_b0dd2_row2_col2, #T_b0dd2_row8_col1 {\n",
       "  color: red;\n",
       "}\n",
       "</style>\n",
       "<table id=\"T_b0dd2\">\n",
       "  <thead>\n",
       "    <tr>\n",
       "      <th class=\"blank level0\" >&nbsp;</th>\n",
       "      <th id=\"T_b0dd2_level0_col0\" class=\"col_heading level0 col0\" >monthly_charges</th>\n",
       "      <th id=\"T_b0dd2_level0_col1\" class=\"col_heading level0 col1\" >total_charges</th>\n",
       "      <th id=\"T_b0dd2_level0_col2\" class=\"col_heading level0 col2\" >total_time</th>\n",
       "      <th id=\"T_b0dd2_level0_col3\" class=\"col_heading level0 col3\" >internet_service</th>\n",
       "      <th id=\"T_b0dd2_level0_col4\" class=\"col_heading level0 col4\" >use_internet</th>\n",
       "    </tr>\n",
       "  </thead>\n",
       "  <tbody>\n",
       "    <tr>\n",
       "      <th id=\"T_b0dd2_level0_row0\" class=\"row_heading level0 row0\" >paperless</th>\n",
       "      <td id=\"T_b0dd2_row0_col0\" class=\"data row0 col0\" >0.351930</td>\n",
       "      <td id=\"T_b0dd2_row0_col1\" class=\"data row0 col1\" >0.157830</td>\n",
       "      <td id=\"T_b0dd2_row0_col2\" class=\"data row0 col2\" >0.004823</td>\n",
       "      <td id=\"T_b0dd2_row0_col3\" class=\"data row0 col3\" >0.326470</td>\n",
       "      <td id=\"T_b0dd2_row0_col4\" class=\"data row0 col4\" >0.320592</td>\n",
       "    </tr>\n",
       "    <tr>\n",
       "      <th id=\"T_b0dd2_level0_row1\" class=\"row_heading level0 row1\" >monthly_charges</th>\n",
       "      <td id=\"T_b0dd2_row1_col0\" class=\"data row1 col0\" >1.000000</td>\n",
       "      <td id=\"T_b0dd2_row1_col1\" class=\"data row1 col1\" >0.651065</td>\n",
       "      <td id=\"T_b0dd2_row1_col2\" class=\"data row1 col2\" >0.246862</td>\n",
       "      <td id=\"T_b0dd2_row1_col3\" class=\"data row1 col3\" >0.787195</td>\n",
       "      <td id=\"T_b0dd2_row1_col4\" class=\"data row1 col4\" >0.763191</td>\n",
       "    </tr>\n",
       "    <tr>\n",
       "      <th id=\"T_b0dd2_level0_row2\" class=\"row_heading level0 row2\" >total_charges</th>\n",
       "      <td id=\"T_b0dd2_row2_col0\" class=\"data row2 col0\" >0.651065</td>\n",
       "      <td id=\"T_b0dd2_row2_col1\" class=\"data row2 col1\" >1.000000</td>\n",
       "      <td id=\"T_b0dd2_row2_col2\" class=\"data row2 col2\" >0.825880</td>\n",
       "      <td id=\"T_b0dd2_row2_col3\" class=\"data row2 col3\" >0.360769</td>\n",
       "      <td id=\"T_b0dd2_row2_col4\" class=\"data row2 col4\" >0.374878</td>\n",
       "    </tr>\n",
       "    <tr>\n",
       "      <th id=\"T_b0dd2_level0_row3\" class=\"row_heading level0 row3\" >type_month</th>\n",
       "      <td id=\"T_b0dd2_row3_col0\" class=\"data row3 col0\" >0.058933</td>\n",
       "      <td id=\"T_b0dd2_row3_col1\" class=\"data row3 col1\" >-0.446776</td>\n",
       "      <td id=\"T_b0dd2_row3_col2\" class=\"data row3 col2\" >-0.649346</td>\n",
       "      <td id=\"T_b0dd2_row3_col3\" class=\"data row3 col3\" >0.243014</td>\n",
       "      <td id=\"T_b0dd2_row3_col4\" class=\"data row3 col4\" >0.217824</td>\n",
       "    </tr>\n",
       "    <tr>\n",
       "      <th id=\"T_b0dd2_level0_row4\" class=\"row_heading level0 row4\" >type_year</th>\n",
       "      <td id=\"T_b0dd2_row4_col0\" class=\"data row4 col0\" >0.004810</td>\n",
       "      <td id=\"T_b0dd2_row4_col1\" class=\"data row4 col1\" >0.170569</td>\n",
       "      <td id=\"T_b0dd2_row4_col2\" class=\"data row4 col2\" >0.202338</td>\n",
       "      <td id=\"T_b0dd2_row4_col3\" class=\"data row4 col3\" >-0.076809</td>\n",
       "      <td id=\"T_b0dd2_row4_col4\" class=\"data row4 col4\" >-0.038061</td>\n",
       "    </tr>\n",
       "    <tr>\n",
       "      <th id=\"T_b0dd2_level0_row5\" class=\"row_heading level0 row5\" >method_bank</th>\n",
       "      <td id=\"T_b0dd2_row5_col0\" class=\"data row5 col0\" >0.042410</td>\n",
       "      <td id=\"T_b0dd2_row5_col1\" class=\"data row5 col1\" >0.186119</td>\n",
       "      <td id=\"T_b0dd2_row5_col2\" class=\"data row5 col2\" >0.243822</td>\n",
       "      <td id=\"T_b0dd2_row5_col3\" class=\"data row5 col3\" >-0.022779</td>\n",
       "      <td id=\"T_b0dd2_row5_col4\" class=\"data row5 col4\" >0.001094</td>\n",
       "    </tr>\n",
       "    <tr>\n",
       "      <th id=\"T_b0dd2_level0_row6\" class=\"row_heading level0 row6\" >method_credit</th>\n",
       "      <td id=\"T_b0dd2_row6_col0\" class=\"data row6 col0\" >0.030055</td>\n",
       "      <td id=\"T_b0dd2_row6_col1\" class=\"data row6 col1\" >0.182663</td>\n",
       "      <td id=\"T_b0dd2_row6_col2\" class=\"data row6 col2\" >0.232800</td>\n",
       "      <td id=\"T_b0dd2_row6_col3\" class=\"data row6 col3\" >-0.050552</td>\n",
       "      <td id=\"T_b0dd2_row6_col4\" class=\"data row6 col4\" >-0.001870</td>\n",
       "    </tr>\n",
       "    <tr>\n",
       "      <th id=\"T_b0dd2_level0_row7\" class=\"row_heading level0 row7\" >method_elcheck</th>\n",
       "      <td id=\"T_b0dd2_row7_col0\" class=\"data row7 col0\" >0.271117</td>\n",
       "      <td id=\"T_b0dd2_row7_col1\" class=\"data row7 col1\" >-0.060436</td>\n",
       "      <td id=\"T_b0dd2_row7_col2\" class=\"data row7 col2\" >-0.210197</td>\n",
       "      <td id=\"T_b0dd2_row7_col3\" class=\"data row7 col3\" >0.335763</td>\n",
       "      <td id=\"T_b0dd2_row7_col4\" class=\"data row7 col4\" >0.284608</td>\n",
       "    </tr>\n",
       "    <tr>\n",
       "      <th id=\"T_b0dd2_level0_row8\" class=\"row_heading level0 row8\" >total_time</th>\n",
       "      <td id=\"T_b0dd2_row8_col0\" class=\"data row8 col0\" >0.246862</td>\n",
       "      <td id=\"T_b0dd2_row8_col1\" class=\"data row8 col1\" >0.825880</td>\n",
       "      <td id=\"T_b0dd2_row8_col2\" class=\"data row8 col2\" >1.000000</td>\n",
       "      <td id=\"T_b0dd2_row8_col3\" class=\"data row8 col3\" >0.017930</td>\n",
       "      <td id=\"T_b0dd2_row8_col4\" class=\"data row8 col4\" >0.037529</td>\n",
       "    </tr>\n",
       "    <tr>\n",
       "      <th id=\"T_b0dd2_level0_row9\" class=\"row_heading level0 row9\" >exit</th>\n",
       "      <td id=\"T_b0dd2_row9_col0\" class=\"data row9 col0\" >0.192858</td>\n",
       "      <td id=\"T_b0dd2_row9_col1\" class=\"data row9 col1\" >-0.199484</td>\n",
       "      <td id=\"T_b0dd2_row9_col2\" class=\"data row9 col2\" >-0.354049</td>\n",
       "      <td id=\"T_b0dd2_row9_col3\" class=\"data row9 col3\" >0.307463</td>\n",
       "      <td id=\"T_b0dd2_row9_col4\" class=\"data row9 col4\" >0.227578</td>\n",
       "    </tr>\n",
       "    <tr>\n",
       "      <th id=\"T_b0dd2_level0_row10\" class=\"row_heading level0 row10\" >internet_service</th>\n",
       "      <td id=\"T_b0dd2_row10_col0\" class=\"data row10 col0\" >0.787195</td>\n",
       "      <td id=\"T_b0dd2_row10_col1\" class=\"data row10 col1\" >0.360769</td>\n",
       "      <td id=\"T_b0dd2_row10_col2\" class=\"data row10 col2\" >0.017930</td>\n",
       "      <td id=\"T_b0dd2_row10_col3\" class=\"data row10 col3\" >1.000000</td>\n",
       "      <td id=\"T_b0dd2_row10_col4\" class=\"data row10 col4\" >0.465736</td>\n",
       "    </tr>\n",
       "    <tr>\n",
       "      <th id=\"T_b0dd2_level0_row11\" class=\"row_heading level0 row11\" >online_sec</th>\n",
       "      <td id=\"T_b0dd2_row11_col0\" class=\"data row11 col0\" >0.296447</td>\n",
       "      <td id=\"T_b0dd2_row11_col1\" class=\"data row11 col1\" >0.412619</td>\n",
       "      <td id=\"T_b0dd2_row11_col2\" class=\"data row11 col2\" >0.328297</td>\n",
       "      <td id=\"T_b0dd2_row11_col3\" class=\"data row11 col3\" >-0.030506</td>\n",
       "      <td id=\"T_b0dd2_row11_col4\" class=\"data row11 col4\" >0.332799</td>\n",
       "    </tr>\n",
       "    <tr>\n",
       "      <th id=\"T_b0dd2_level0_row12\" class=\"row_heading level0 row12\" >online_backup</th>\n",
       "      <td id=\"T_b0dd2_row12_col0\" class=\"data row12 col0\" >0.441529</td>\n",
       "      <td id=\"T_b0dd2_row12_col1\" class=\"data row12 col1\" >0.510100</td>\n",
       "      <td id=\"T_b0dd2_row12_col2\" class=\"data row12 col2\" >0.361138</td>\n",
       "      <td id=\"T_b0dd2_row12_col3\" class=\"data row12 col3\" >0.165940</td>\n",
       "      <td id=\"T_b0dd2_row12_col4\" class=\"data row12 col4\" >0.380990</td>\n",
       "    </tr>\n",
       "    <tr>\n",
       "      <th id=\"T_b0dd2_level0_row13\" class=\"row_heading level0 row13\" >device_protect</th>\n",
       "      <td id=\"T_b0dd2_row13_col0\" class=\"data row13 col0\" >0.482607</td>\n",
       "      <td id=\"T_b0dd2_row13_col1\" class=\"data row13 col1\" >0.522881</td>\n",
       "      <td id=\"T_b0dd2_row13_col2\" class=\"data row13 col2\" >0.361520</td>\n",
       "      <td id=\"T_b0dd2_row13_col3\" class=\"data row13 col3\" >0.176356</td>\n",
       "      <td id=\"T_b0dd2_row13_col4\" class=\"data row13 col4\" >0.380151</td>\n",
       "    </tr>\n",
       "    <tr>\n",
       "      <th id=\"T_b0dd2_level0_row14\" class=\"row_heading level0 row14\" >tech_sup</th>\n",
       "      <td id=\"T_b0dd2_row14_col0\" class=\"data row14 col0\" >0.338301</td>\n",
       "      <td id=\"T_b0dd2_row14_col1\" class=\"data row14 col1\" >0.432868</td>\n",
       "      <td id=\"T_b0dd2_row14_col2\" class=\"data row14 col2\" >0.325288</td>\n",
       "      <td id=\"T_b0dd2_row14_col3\" class=\"data row14 col3\" >-0.020299</td>\n",
       "      <td id=\"T_b0dd2_row14_col4\" class=\"data row14 col4\" >0.335695</td>\n",
       "    </tr>\n",
       "    <tr>\n",
       "      <th id=\"T_b0dd2_level0_row15\" class=\"row_heading level0 row15\" >stream_tv</th>\n",
       "      <td id=\"T_b0dd2_row15_col0\" class=\"data row15 col0\" >0.629668</td>\n",
       "      <td id=\"T_b0dd2_row15_col1\" class=\"data row15 col1\" >0.515709</td>\n",
       "      <td id=\"T_b0dd2_row15_col2\" class=\"data row15 col2\" >0.280264</td>\n",
       "      <td id=\"T_b0dd2_row15_col3\" class=\"data row15 col3\" >0.329744</td>\n",
       "      <td id=\"T_b0dd2_row15_col4\" class=\"data row15 col4\" >0.414951</td>\n",
       "    </tr>\n",
       "    <tr>\n",
       "      <th id=\"T_b0dd2_level0_row16\" class=\"row_heading level0 row16\" >stream_movie</th>\n",
       "      <td id=\"T_b0dd2_row16_col0\" class=\"data row16 col0\" >0.627235</td>\n",
       "      <td id=\"T_b0dd2_row16_col1\" class=\"data row16 col1\" >0.519867</td>\n",
       "      <td id=\"T_b0dd2_row16_col2\" class=\"data row16 col2\" >0.285402</td>\n",
       "      <td id=\"T_b0dd2_row16_col3\" class=\"data row16 col3\" >0.322457</td>\n",
       "      <td id=\"T_b0dd2_row16_col4\" class=\"data row16 col4\" >0.418450</td>\n",
       "    </tr>\n",
       "    <tr>\n",
       "      <th id=\"T_b0dd2_level0_row17\" class=\"row_heading level0 row17\" >gender</th>\n",
       "      <td id=\"T_b0dd2_row17_col0\" class=\"data row17 col0\" >-0.013779</td>\n",
       "      <td id=\"T_b0dd2_row17_col1\" class=\"data row17 col1\" >0.000048</td>\n",
       "      <td id=\"T_b0dd2_row17_col2\" class=\"data row17 col2\" >0.005285</td>\n",
       "      <td id=\"T_b0dd2_row17_col3\" class=\"data row17 col3\" >-0.011189</td>\n",
       "      <td id=\"T_b0dd2_row17_col4\" class=\"data row17 col4\" >-0.004745</td>\n",
       "    </tr>\n",
       "    <tr>\n",
       "      <th id=\"T_b0dd2_level0_row18\" class=\"row_heading level0 row18\" >senior</th>\n",
       "      <td id=\"T_b0dd2_row18_col0\" class=\"data row18 col0\" >0.219874</td>\n",
       "      <td id=\"T_b0dd2_row18_col1\" class=\"data row18 col1\" >0.102411</td>\n",
       "      <td id=\"T_b0dd2_row18_col2\" class=\"data row18 col2\" >0.015683</td>\n",
       "      <td id=\"T_b0dd2_row18_col3\" class=\"data row18 col3\" >0.254923</td>\n",
       "      <td id=\"T_b0dd2_row18_col4\" class=\"data row18 col4\" >0.182519</td>\n",
       "    </tr>\n",
       "    <tr>\n",
       "      <th id=\"T_b0dd2_level0_row19\" class=\"row_heading level0 row19\" >partner</th>\n",
       "      <td id=\"T_b0dd2_row19_col0\" class=\"data row19 col0\" >0.097825</td>\n",
       "      <td id=\"T_b0dd2_row19_col1\" class=\"data row19 col1\" >0.319072</td>\n",
       "      <td id=\"T_b0dd2_row19_col2\" class=\"data row19 col2\" >0.381912</td>\n",
       "      <td id=\"T_b0dd2_row19_col3\" class=\"data row19 col3\" >0.001235</td>\n",
       "      <td id=\"T_b0dd2_row19_col4\" class=\"data row19 col4\" >0.000286</td>\n",
       "    </tr>\n",
       "    <tr>\n",
       "      <th id=\"T_b0dd2_level0_row20\" class=\"row_heading level0 row20\" >dependents</th>\n",
       "      <td id=\"T_b0dd2_row20_col0\" class=\"data row20 col0\" >-0.112343</td>\n",
       "      <td id=\"T_b0dd2_row20_col1\" class=\"data row20 col1\" >0.064653</td>\n",
       "      <td id=\"T_b0dd2_row20_col2\" class=\"data row20 col2\" >0.163386</td>\n",
       "      <td id=\"T_b0dd2_row20_col3\" class=\"data row20 col3\" >-0.164101</td>\n",
       "      <td id=\"T_b0dd2_row20_col4\" class=\"data row20 col4\" >-0.138383</td>\n",
       "    </tr>\n",
       "    <tr>\n",
       "      <th id=\"T_b0dd2_level0_row21\" class=\"row_heading level0 row21\" >multiple_lines</th>\n",
       "      <td id=\"T_b0dd2_row21_col0\" class=\"data row21 col0\" >0.490912</td>\n",
       "      <td id=\"T_b0dd2_row21_col1\" class=\"data row21 col1\" >0.469042</td>\n",
       "      <td id=\"T_b0dd2_row21_col2\" class=\"data row21 col2\" >0.332399</td>\n",
       "      <td id=\"T_b0dd2_row21_col3\" class=\"data row21 col3\" >0.366420</td>\n",
       "      <td id=\"T_b0dd2_row21_col4\" class=\"data row21 col4\" >0.210794</td>\n",
       "    </tr>\n",
       "    <tr>\n",
       "      <th id=\"T_b0dd2_level0_row22\" class=\"row_heading level0 row22\" >use_internet</th>\n",
       "      <td id=\"T_b0dd2_row22_col0\" class=\"data row22 col0\" >0.763191</td>\n",
       "      <td id=\"T_b0dd2_row22_col1\" class=\"data row22 col1\" >0.374878</td>\n",
       "      <td id=\"T_b0dd2_row22_col2\" class=\"data row22 col2\" >0.037529</td>\n",
       "      <td id=\"T_b0dd2_row22_col3\" class=\"data row22 col3\" >0.465736</td>\n",
       "      <td id=\"T_b0dd2_row22_col4\" class=\"data row22 col4\" >1.000000</td>\n",
       "    </tr>\n",
       "    <tr>\n",
       "      <th id=\"T_b0dd2_level0_row23\" class=\"row_heading level0 row23\" >use_phone</th>\n",
       "      <td id=\"T_b0dd2_row23_col0\" class=\"data row23 col0\" >0.248033</td>\n",
       "      <td id=\"T_b0dd2_row23_col1\" class=\"data row23 col1\" >0.113008</td>\n",
       "      <td id=\"T_b0dd2_row23_col2\" class=\"data row23 col2\" >0.007877</td>\n",
       "      <td id=\"T_b0dd2_row23_col3\" class=\"data row23 col3\" >0.290183</td>\n",
       "      <td id=\"T_b0dd2_row23_col4\" class=\"data row23 col4\" >-0.171817</td>\n",
       "    </tr>\n",
       "  </tbody>\n",
       "</table>\n"
      ],
      "text/plain": [
       "<pandas.io.formats.style.Styler at 0x1eb40c1cb50>"
      ]
     },
     "execution_count": 79,
     "metadata": {},
     "output_type": "execute_result"
    }
   ],
   "source": [
    "x = x[columns_tocheck]\n",
    "x.style.applymap(_color_correl)"
   ]
  },
  {
   "cell_type": "markdown",
   "id": "48f06da2",
   "metadata": {},
   "source": [
    "1. We have 1 situation with high correlation - between total_time and total_charges. There is logic behid this, we can try to drop one of the columns. \n",
    "2. There are several borderline cases that can be investigated further if there will be problems with models. It's important to note that many of our variables are dummies, so using correlation for them is not as effective \n",
    "\n",
    "**Conclusion 12**: High correlation between total_time and total_charges - risk of collinearity, we need to drop one of them. There are bordeline cases we can look into later, in case there are problems with model"
   ]
  },
  {
   "cell_type": "markdown",
   "id": "f8f3605e",
   "metadata": {},
   "source": [
    "# _Results of prelimenary analysis"
   ]
  },
  {
   "cell_type": "markdown",
   "id": "3853bff2",
   "metadata": {},
   "source": [
    "**References**\n",
    "\n",
    "Phone: MultipleLine 1 - yes\n",
    "\n",
    "Personal: Gender(Female/Male) - 0/1,  Partner, Dependents - 1 = yes\n",
    "\n",
    "Internet: InternetService(DSL/Fiber optic) - 0/1, OnlineSecurity, OnlineBackup, DeviceProtection, TechSupport, StreamingTV, StreamingMovies - 1 = yes\n",
    "\n",
    "Contract: type: 2 year (0, 0), Payment method: Mailed check (0, 0, 0), PaperlessBilling - 1 = yes"
   ]
  },
  {
   "cell_type": "markdown",
   "id": "ccd3b4cd",
   "metadata": {},
   "source": [
    "**Results**\n",
    "\n",
    "1. Data was loaded/Checked for errors\n",
    "2. Data was prepared: all variables transformed into dummies, for 2 vars used OHE. \n",
    "3. For total cost we didn't have data for some observations, because those contracts just started - they were dropped\n",
    "4. 2 new variables - exit (check if client dropped services) and total_time - number of months the client used company's services\n",
    "5. Data was put in 1 df. 2 new variables we added - use_phone and use_internet\n",
    "6. Renamed columns (variable new_names)"
   ]
  },
  {
   "cell_type": "markdown",
   "id": "e28a8d01",
   "metadata": {},
   "source": [
    "**Conclusions**:\n",
    "\n",
    "**Conclusion 1**: people who use internet services have a higher chance of leaving (either less satisfied, or more flexible)\n",
    "\n",
    "**Conclusion 2**: Using multiple lines correlates to a higher chance of leaving\n",
    "\n",
    "**Conclusion 3**: Among those who used both services almost 1/3 left\n",
    "\n",
    "**Conclusion 4**: Clients who left payed more on average\n",
    "\n",
    "**Conclusion 5**: We have 1year and 2 year contracts. Some of them had their term renewed - so we can judge the decision of a client to renew them (or nor). Others didn't have their initial term expire. For example if a person signed a year countract in Dec 2019 - only 3 months have passed until the current date. So we don't know whether he will leave company. Having such people could scew the results.\n",
    "This situaton appears in 148 2year and 118 1 year contracts\n",
    "\n",
    "**Conclusion 6**: While we have data until 01.02.2020 - there are no contracts that were canceled on this date. Most likely the data on cancelations for 01.02.2020 was not given - so monthly contracts for Jan 2020 didn't have a chance to be cancelled yet - we need to take them out of the df.\n",
    "\n",
    "**Conclusion 7**: FIrst 5 months of using service have the highest risk of client quitting\n",
    "\n",
    "**Conclusion 8**: We have 2 groups of clients - one who pays less than 30 and another who pays 70-90\n",
    "\n",
    "**Conclusion 9**: Among the cleints who pay 80-100 we have the highst % of clients who left\n",
    "\n",
    "**Conclusion 10**: Additional services (except for streaming) decrease the probavility of client exit\n",
    "\n",
    "**Conclusion 11**: Big share of client who left used fiber optic connection\n",
    "\n",
    "**Conclusion 12**: High correlation between total_time and total_charges - risk of collinearity, we need to drop one of them. There are bordeline cases we can look into later, in case there are problems with model"
   ]
  },
  {
   "cell_type": "markdown",
   "id": "c66498ac",
   "metadata": {},
   "source": [
    "**ALTERNATIVES**\n",
    "\n",
    "1. We have 1 and 2 year contracts that couldn't be renewed yet. I dropped them because in theory they can't have exit=1 \n",
    "\n",
    "2. Despite that we have a very few cases were such contracts were canceled after couple months. Are they error in data? Or they received such poor service? Since it's just a few strange cases they are dropped from df as well\n",
    "\n",
    "3. There is a possibility to expand the task. While initial task is to make a prediction model when people cancel contract, the data allows to take into consideration the risk of loosing revenue the client brings insteasd of client himshelf\n",
    "\n",
    "**Next steps**\n",
    "\n",
    "1. Drop dates and client id. They don't give us useful information and dates cpould harm predicitons. Additionaly we need to drop total_charges as it has a high correlation with total_time var\n",
    "2. Make 60/20/20 split\n",
    "3. Try out couple simple models (Decision tree, random forest, logistic)\n",
    "4. Try models with amount of lost revenue as error \n",
    "5. Try different parametrs using Gridsearch\n",
    "6. Boosting\n",
    "7. Check models accuracy, ROC-AUC, Precision, Recall\n"
   ]
  },
  {
   "cell_type": "markdown",
   "id": "99c04008",
   "metadata": {},
   "source": [
    "# Machine learning"
   ]
  },
  {
   "cell_type": "markdown",
   "id": "eaaa2025",
   "metadata": {},
   "source": [
    "## First stage"
   ]
  },
  {
   "cell_type": "markdown",
   "id": "13010721",
   "metadata": {},
   "source": [
    "### Dropping useless parametrs  "
   ]
  },
  {
   "cell_type": "code",
   "execution_count": 80,
   "id": "70d0ac62",
   "metadata": {},
   "outputs": [],
   "source": [
    "x = df.query(\"begin_date == '2020-01-01'\")\n",
    "z = df.query('type_month == 0 and type_year == 0')\n",
    "z = z.query('begin_date > \"2018-01-01\"')\n",
    "y = df.query('type_year == 1')\n",
    "y = y.query('begin_date > \"2019-01-01\"')\n",
    "x = pd.concat([x, y,z])"
   ]
  },
  {
   "cell_type": "code",
   "execution_count": 81,
   "id": "878ce5b6",
   "metadata": {},
   "outputs": [
    {
     "name": "stdout",
     "output_type": "stream",
     "text": [
      "0.01603206412825651\n",
      "499\n"
     ]
    }
   ],
   "source": [
    "print(x['exit'].sum()/x['exit'].count())\n",
    "print(len(x))"
   ]
  },
  {
   "cell_type": "code",
   "execution_count": 82,
   "metadata": {},
   "outputs": [],
   "source": [
    "df_clean = df.merge(x[['customer_id', 'paperless']], left_on='customer_id', right_on='customer_id',\n",
    "                    suffixes=('','_y'), how='left')\n",
    "df_clean = df_clean.query('paperless_y != paperless_y')"
   ]
  },
  {
   "cell_type": "code",
   "execution_count": 83,
   "id": "38e15fbf",
   "metadata": {},
   "outputs": [],
   "source": [
    "df_clean = df_clean.drop(['customer_id', 'begin_date','end_date', 'paperless_y', 'total_charges'], axis=1)"
   ]
  },
  {
   "cell_type": "markdown",
   "id": "3fded5e8",
   "metadata": {},
   "source": [
    "### Creating 3 sub samples"
   ]
  },
  {
   "cell_type": "code",
   "execution_count": 84,
   "id": "77621213",
   "metadata": {},
   "outputs": [],
   "source": [
    "features = df_clean.drop('exit', axis=1)\n",
    "targets = df_clean['exit']"
   ]
  },
  {
   "cell_type": "code",
   "execution_count": 85,
   "id": "0d5b4a46",
   "metadata": {},
   "outputs": [],
   "source": [
    "features_train, features_test, target_train, target_test = train_test_split(features, targets, \n",
    "                                                                            test_size=0.2,\n",
    "                                                                            random_state=12345,\n",
    "                                                                            shuffle=True,\n",
    "                                                                           stratify = targets)\n",
    "features_train, features_valid, target_train, target_valid = train_test_split(features_train, target_train, \n",
    "                                                                            test_size=0.25,\n",
    "                                                                            random_state=12345,\n",
    "                                                                            shuffle=True,\n",
    "                                                                            stratify = target_train)"
   ]
  },
  {
   "cell_type": "code",
   "execution_count": 86,
   "id": "5ed8f5c6",
   "metadata": {},
   "outputs": [
    {
     "data": {
      "text/html": [
       "<div>\n",
       "<style scoped>\n",
       "    .dataframe tbody tr th:only-of-type {\n",
       "        vertical-align: middle;\n",
       "    }\n",
       "\n",
       "    .dataframe tbody tr th {\n",
       "        vertical-align: top;\n",
       "    }\n",
       "\n",
       "    .dataframe thead th {\n",
       "        text-align: right;\n",
       "    }\n",
       "</style>\n",
       "<table border=\"1\" class=\"dataframe\">\n",
       "  <thead>\n",
       "    <tr style=\"text-align: right;\">\n",
       "      <th></th>\n",
       "      <th>paperless</th>\n",
       "      <th>monthly_charges</th>\n",
       "      <th>type_month</th>\n",
       "      <th>type_year</th>\n",
       "      <th>method_bank</th>\n",
       "      <th>method_credit</th>\n",
       "      <th>method_elcheck</th>\n",
       "      <th>total_time</th>\n",
       "      <th>internet_service</th>\n",
       "      <th>online_sec</th>\n",
       "      <th>online_backup</th>\n",
       "      <th>device_protect</th>\n",
       "      <th>tech_sup</th>\n",
       "      <th>stream_tv</th>\n",
       "      <th>stream_movie</th>\n",
       "      <th>gender</th>\n",
       "      <th>senior</th>\n",
       "      <th>partner</th>\n",
       "      <th>dependents</th>\n",
       "      <th>multiple_lines</th>\n",
       "      <th>use_internet</th>\n",
       "      <th>use_phone</th>\n",
       "    </tr>\n",
       "  </thead>\n",
       "  <tbody>\n",
       "    <tr>\n",
       "      <th>1</th>\n",
       "      <td>0.0</td>\n",
       "      <td>56.95</td>\n",
       "      <td>0</td>\n",
       "      <td>1</td>\n",
       "      <td>0</td>\n",
       "      <td>0</td>\n",
       "      <td>0</td>\n",
       "      <td>34.0</td>\n",
       "      <td>0.0</td>\n",
       "      <td>1.0</td>\n",
       "      <td>0.0</td>\n",
       "      <td>1.0</td>\n",
       "      <td>0.0</td>\n",
       "      <td>0.0</td>\n",
       "      <td>0.0</td>\n",
       "      <td>1.0</td>\n",
       "      <td>0</td>\n",
       "      <td>0.0</td>\n",
       "      <td>0.0</td>\n",
       "      <td>0.0</td>\n",
       "      <td>1</td>\n",
       "      <td>1</td>\n",
       "    </tr>\n",
       "    <tr>\n",
       "      <th>2</th>\n",
       "      <td>1.0</td>\n",
       "      <td>53.85</td>\n",
       "      <td>1</td>\n",
       "      <td>0</td>\n",
       "      <td>0</td>\n",
       "      <td>0</td>\n",
       "      <td>0</td>\n",
       "      <td>2.0</td>\n",
       "      <td>0.0</td>\n",
       "      <td>1.0</td>\n",
       "      <td>1.0</td>\n",
       "      <td>0.0</td>\n",
       "      <td>0.0</td>\n",
       "      <td>0.0</td>\n",
       "      <td>0.0</td>\n",
       "      <td>1.0</td>\n",
       "      <td>0</td>\n",
       "      <td>0.0</td>\n",
       "      <td>0.0</td>\n",
       "      <td>0.0</td>\n",
       "      <td>1</td>\n",
       "      <td>1</td>\n",
       "    </tr>\n",
       "    <tr>\n",
       "      <th>3</th>\n",
       "      <td>0.0</td>\n",
       "      <td>42.30</td>\n",
       "      <td>0</td>\n",
       "      <td>1</td>\n",
       "      <td>1</td>\n",
       "      <td>0</td>\n",
       "      <td>0</td>\n",
       "      <td>45.0</td>\n",
       "      <td>0.0</td>\n",
       "      <td>1.0</td>\n",
       "      <td>0.0</td>\n",
       "      <td>1.0</td>\n",
       "      <td>1.0</td>\n",
       "      <td>0.0</td>\n",
       "      <td>0.0</td>\n",
       "      <td>1.0</td>\n",
       "      <td>0</td>\n",
       "      <td>0.0</td>\n",
       "      <td>0.0</td>\n",
       "      <td>0.0</td>\n",
       "      <td>1</td>\n",
       "      <td>0</td>\n",
       "    </tr>\n",
       "    <tr>\n",
       "      <th>4</th>\n",
       "      <td>1.0</td>\n",
       "      <td>70.70</td>\n",
       "      <td>1</td>\n",
       "      <td>0</td>\n",
       "      <td>0</td>\n",
       "      <td>0</td>\n",
       "      <td>1</td>\n",
       "      <td>2.0</td>\n",
       "      <td>1.0</td>\n",
       "      <td>0.0</td>\n",
       "      <td>0.0</td>\n",
       "      <td>0.0</td>\n",
       "      <td>0.0</td>\n",
       "      <td>0.0</td>\n",
       "      <td>0.0</td>\n",
       "      <td>0.0</td>\n",
       "      <td>0</td>\n",
       "      <td>0.0</td>\n",
       "      <td>0.0</td>\n",
       "      <td>0.0</td>\n",
       "      <td>1</td>\n",
       "      <td>1</td>\n",
       "    </tr>\n",
       "    <tr>\n",
       "      <th>5</th>\n",
       "      <td>1.0</td>\n",
       "      <td>99.65</td>\n",
       "      <td>1</td>\n",
       "      <td>0</td>\n",
       "      <td>0</td>\n",
       "      <td>0</td>\n",
       "      <td>1</td>\n",
       "      <td>8.0</td>\n",
       "      <td>1.0</td>\n",
       "      <td>0.0</td>\n",
       "      <td>0.0</td>\n",
       "      <td>1.0</td>\n",
       "      <td>0.0</td>\n",
       "      <td>1.0</td>\n",
       "      <td>1.0</td>\n",
       "      <td>0.0</td>\n",
       "      <td>0</td>\n",
       "      <td>0.0</td>\n",
       "      <td>0.0</td>\n",
       "      <td>1.0</td>\n",
       "      <td>1</td>\n",
       "      <td>1</td>\n",
       "    </tr>\n",
       "    <tr>\n",
       "      <th>...</th>\n",
       "      <td>...</td>\n",
       "      <td>...</td>\n",
       "      <td>...</td>\n",
       "      <td>...</td>\n",
       "      <td>...</td>\n",
       "      <td>...</td>\n",
       "      <td>...</td>\n",
       "      <td>...</td>\n",
       "      <td>...</td>\n",
       "      <td>...</td>\n",
       "      <td>...</td>\n",
       "      <td>...</td>\n",
       "      <td>...</td>\n",
       "      <td>...</td>\n",
       "      <td>...</td>\n",
       "      <td>...</td>\n",
       "      <td>...</td>\n",
       "      <td>...</td>\n",
       "      <td>...</td>\n",
       "      <td>...</td>\n",
       "      <td>...</td>\n",
       "      <td>...</td>\n",
       "    </tr>\n",
       "    <tr>\n",
       "      <th>7036</th>\n",
       "      <td>1.0</td>\n",
       "      <td>84.80</td>\n",
       "      <td>0</td>\n",
       "      <td>1</td>\n",
       "      <td>0</td>\n",
       "      <td>0</td>\n",
       "      <td>0</td>\n",
       "      <td>24.0</td>\n",
       "      <td>0.0</td>\n",
       "      <td>1.0</td>\n",
       "      <td>0.0</td>\n",
       "      <td>1.0</td>\n",
       "      <td>1.0</td>\n",
       "      <td>1.0</td>\n",
       "      <td>1.0</td>\n",
       "      <td>1.0</td>\n",
       "      <td>0</td>\n",
       "      <td>1.0</td>\n",
       "      <td>1.0</td>\n",
       "      <td>1.0</td>\n",
       "      <td>1</td>\n",
       "      <td>1</td>\n",
       "    </tr>\n",
       "    <tr>\n",
       "      <th>7037</th>\n",
       "      <td>1.0</td>\n",
       "      <td>103.20</td>\n",
       "      <td>0</td>\n",
       "      <td>1</td>\n",
       "      <td>0</td>\n",
       "      <td>1</td>\n",
       "      <td>0</td>\n",
       "      <td>72.0</td>\n",
       "      <td>1.0</td>\n",
       "      <td>0.0</td>\n",
       "      <td>1.0</td>\n",
       "      <td>1.0</td>\n",
       "      <td>0.0</td>\n",
       "      <td>1.0</td>\n",
       "      <td>1.0</td>\n",
       "      <td>0.0</td>\n",
       "      <td>0</td>\n",
       "      <td>1.0</td>\n",
       "      <td>1.0</td>\n",
       "      <td>1.0</td>\n",
       "      <td>1</td>\n",
       "      <td>1</td>\n",
       "    </tr>\n",
       "    <tr>\n",
       "      <th>7038</th>\n",
       "      <td>1.0</td>\n",
       "      <td>29.60</td>\n",
       "      <td>1</td>\n",
       "      <td>0</td>\n",
       "      <td>0</td>\n",
       "      <td>0</td>\n",
       "      <td>1</td>\n",
       "      <td>11.0</td>\n",
       "      <td>0.0</td>\n",
       "      <td>1.0</td>\n",
       "      <td>0.0</td>\n",
       "      <td>0.0</td>\n",
       "      <td>0.0</td>\n",
       "      <td>0.0</td>\n",
       "      <td>0.0</td>\n",
       "      <td>0.0</td>\n",
       "      <td>0</td>\n",
       "      <td>1.0</td>\n",
       "      <td>1.0</td>\n",
       "      <td>0.0</td>\n",
       "      <td>1</td>\n",
       "      <td>0</td>\n",
       "    </tr>\n",
       "    <tr>\n",
       "      <th>7039</th>\n",
       "      <td>1.0</td>\n",
       "      <td>74.40</td>\n",
       "      <td>1</td>\n",
       "      <td>0</td>\n",
       "      <td>0</td>\n",
       "      <td>0</td>\n",
       "      <td>0</td>\n",
       "      <td>4.0</td>\n",
       "      <td>1.0</td>\n",
       "      <td>0.0</td>\n",
       "      <td>0.0</td>\n",
       "      <td>0.0</td>\n",
       "      <td>0.0</td>\n",
       "      <td>0.0</td>\n",
       "      <td>0.0</td>\n",
       "      <td>1.0</td>\n",
       "      <td>1</td>\n",
       "      <td>1.0</td>\n",
       "      <td>0.0</td>\n",
       "      <td>1.0</td>\n",
       "      <td>1</td>\n",
       "      <td>1</td>\n",
       "    </tr>\n",
       "    <tr>\n",
       "      <th>7040</th>\n",
       "      <td>1.0</td>\n",
       "      <td>105.65</td>\n",
       "      <td>0</td>\n",
       "      <td>0</td>\n",
       "      <td>1</td>\n",
       "      <td>0</td>\n",
       "      <td>0</td>\n",
       "      <td>66.0</td>\n",
       "      <td>1.0</td>\n",
       "      <td>1.0</td>\n",
       "      <td>0.0</td>\n",
       "      <td>1.0</td>\n",
       "      <td>1.0</td>\n",
       "      <td>1.0</td>\n",
       "      <td>1.0</td>\n",
       "      <td>1.0</td>\n",
       "      <td>0</td>\n",
       "      <td>0.0</td>\n",
       "      <td>0.0</td>\n",
       "      <td>0.0</td>\n",
       "      <td>1</td>\n",
       "      <td>1</td>\n",
       "    </tr>\n",
       "  </tbody>\n",
       "</table>\n",
       "<p>6542 rows × 22 columns</p>\n",
       "</div>"
      ],
      "text/plain": [
       "      paperless  monthly_charges  type_month  type_year  method_bank  \\\n",
       "1           0.0            56.95           0          1            0   \n",
       "2           1.0            53.85           1          0            0   \n",
       "3           0.0            42.30           0          1            1   \n",
       "4           1.0            70.70           1          0            0   \n",
       "5           1.0            99.65           1          0            0   \n",
       "...         ...              ...         ...        ...          ...   \n",
       "7036        1.0            84.80           0          1            0   \n",
       "7037        1.0           103.20           0          1            0   \n",
       "7038        1.0            29.60           1          0            0   \n",
       "7039        1.0            74.40           1          0            0   \n",
       "7040        1.0           105.65           0          0            1   \n",
       "\n",
       "      method_credit  method_elcheck  total_time  internet_service  online_sec  \\\n",
       "1                 0               0        34.0               0.0         1.0   \n",
       "2                 0               0         2.0               0.0         1.0   \n",
       "3                 0               0        45.0               0.0         1.0   \n",
       "4                 0               1         2.0               1.0         0.0   \n",
       "5                 0               1         8.0               1.0         0.0   \n",
       "...             ...             ...         ...               ...         ...   \n",
       "7036              0               0        24.0               0.0         1.0   \n",
       "7037              1               0        72.0               1.0         0.0   \n",
       "7038              0               1        11.0               0.0         1.0   \n",
       "7039              0               0         4.0               1.0         0.0   \n",
       "7040              0               0        66.0               1.0         1.0   \n",
       "\n",
       "      online_backup  device_protect  tech_sup  stream_tv  stream_movie  \\\n",
       "1               0.0             1.0       0.0        0.0           0.0   \n",
       "2               1.0             0.0       0.0        0.0           0.0   \n",
       "3               0.0             1.0       1.0        0.0           0.0   \n",
       "4               0.0             0.0       0.0        0.0           0.0   \n",
       "5               0.0             1.0       0.0        1.0           1.0   \n",
       "...             ...             ...       ...        ...           ...   \n",
       "7036            0.0             1.0       1.0        1.0           1.0   \n",
       "7037            1.0             1.0       0.0        1.0           1.0   \n",
       "7038            0.0             0.0       0.0        0.0           0.0   \n",
       "7039            0.0             0.0       0.0        0.0           0.0   \n",
       "7040            0.0             1.0       1.0        1.0           1.0   \n",
       "\n",
       "      gender  senior  partner  dependents  multiple_lines  use_internet  \\\n",
       "1        1.0       0      0.0         0.0             0.0             1   \n",
       "2        1.0       0      0.0         0.0             0.0             1   \n",
       "3        1.0       0      0.0         0.0             0.0             1   \n",
       "4        0.0       0      0.0         0.0             0.0             1   \n",
       "5        0.0       0      0.0         0.0             1.0             1   \n",
       "...      ...     ...      ...         ...             ...           ...   \n",
       "7036     1.0       0      1.0         1.0             1.0             1   \n",
       "7037     0.0       0      1.0         1.0             1.0             1   \n",
       "7038     0.0       0      1.0         1.0             0.0             1   \n",
       "7039     1.0       1      1.0         0.0             1.0             1   \n",
       "7040     1.0       0      0.0         0.0             0.0             1   \n",
       "\n",
       "      use_phone  \n",
       "1             1  \n",
       "2             1  \n",
       "3             0  \n",
       "4             1  \n",
       "5             1  \n",
       "...         ...  \n",
       "7036          1  \n",
       "7037          1  \n",
       "7038          0  \n",
       "7039          1  \n",
       "7040          1  \n",
       "\n",
       "[6542 rows x 22 columns]"
      ]
     },
     "execution_count": 86,
     "metadata": {},
     "output_type": "execute_result"
    }
   ],
   "source": [
    "features"
   ]
  },
  {
   "cell_type": "markdown",
   "id": "ca6b22af",
   "metadata": {},
   "source": [
    "### Preparing functions to quickly check results"
   ]
  },
  {
   "cell_type": "markdown",
   "id": "b7a6a8e9",
   "metadata": {},
   "source": [
    "1. Inititally checked 3 simple models to check everything is working. First 2 functions were used. (simple_models, check_stats)\n",
    "2. When decided to try different hyperparametrs - ccreated 2 additional functions to check results on test and validation subsamples. (check_stats_noprint, check_stats_df)\n",
    "3. We don't need first 2 functions. Left them here to remeber my logic "
   ]
  },
  {
   "cell_type": "code",
   "execution_count": 87,
   "id": "12ec4af4",
   "metadata": {},
   "outputs": [],
   "source": [
    "def simple_models(features_train, target_train, features_valid, target_valid):\n",
    "    print('Tree')\n",
    "    model = DecisionTreeClassifier(max_depth=10, random_state=12345)\n",
    "    model.fit(features_train, target_train)\n",
    "    check_stats(features_valid, target_valid, model, 'validation')\n",
    "\n",
    "    print('Random forest')\n",
    "    model = RandomForestClassifier(max_depth=10, n_estimators = 20, random_state=12345)\n",
    "    model.fit(features_train, target_train)\n",
    "    check_stats(features_valid, target_valid, model, 'validation')\n",
    "\n",
    "    print('Logistic')\n",
    "    model = LogisticRegression(random_state=12345, max_iter=1000)\n",
    "    model.fit(features_train, target_train)\n",
    "    check_stats(features_valid, target_valid, model, 'validation')\n",
    "    \n",
    "    return"
   ]
  },
  {
   "cell_type": "code",
   "execution_count": 88,
   "id": "414327e0",
   "metadata": {},
   "outputs": [],
   "source": [
    "def check_stats(features, target, model, sample_type):\n",
    "    print('Checking', sample_type,'subsample')\n",
    "    predictions = model.predict(features)\n",
    "    accuracy = accuracy_score(target, predictions) \n",
    "    print(\"accuracy: {0:.3f}\".format(accuracy))\n",
    "    precision = precision_score(target, predictions)\n",
    "    print(\"precision: {0:.3f}\".format(precision))\n",
    "    recall = recall_score(target, predictions)\n",
    "    print(\"recall: {0:.3f}\".format(recall))\n",
    "    f1 = f1_score(target, predictions)\n",
    "    print(\"f1: {0:.3f}\".format(f1))\n",
    "    roc_prob = model.predict_proba(features)[:,1]\n",
    "    auc_roc = roc_auc_score(target, roc_prob) \n",
    "    print(\"auc_roc: {0:.3f}\".format(auc_roc))\n",
    "    return"
   ]
  },
  {
   "cell_type": "code",
   "execution_count": 89,
   "id": "b91da06c",
   "metadata": {},
   "outputs": [],
   "source": [
    "def check_stats_noprint(features, target, model, sample_type):\n",
    "    predictions = model.predict(features)\n",
    "    accuracy = accuracy_score(target, predictions) \n",
    "    precision = precision_score(target, predictions)\n",
    "    recall = recall_score(target, predictions)\n",
    "    f1 = f1_score(target, predictions)\n",
    "    roc_prob = model.predict_proba(features)[:,1]\n",
    "    auc_roc = roc_auc_score(target, roc_prob) \n",
    "    \n",
    "    return accuracy, precision, recall, f1, auc_roc"
   ]
  },
  {
   "cell_type": "code",
   "execution_count": 90,
   "id": "9f383805",
   "metadata": {},
   "outputs": [],
   "source": [
    "def check_stats_df(features1, target1, features2, target2, model, sample_type1='train', sample_type2='valid'):\n",
    "    result = pd.DataFrame(['accuracy', 'precision', 'recall', 'f1', 'auc_roc'],\n",
    "                      columns=['Metrics'])\n",
    "    result = result.set_index('Metrics') \n",
    "    x, y, z, t, e = check_stats_noprint(features1, target1, model, sample_type1)\n",
    "    s = pd.Series([x, y, z, t, e], index=result.index)\n",
    "    result[sample_type1] = s\n",
    "    \n",
    "    x, y, z, t, e = check_stats_noprint(features2, target2, model, sample_type2)\n",
    "    s = pd.Series([x, y, z, t, e], index=result.index)\n",
    "    result[sample_type2] = s\n",
    "    return result"
   ]
  },
  {
   "cell_type": "markdown",
   "id": "0b163f43",
   "metadata": {},
   "source": [
    "### Trying simple models"
   ]
  },
  {
   "cell_type": "code",
   "execution_count": 91,
   "id": "2083cdf5",
   "metadata": {},
   "outputs": [
    {
     "name": "stdout",
     "output_type": "stream",
     "text": [
      "Tree\n",
      "Checking validation subsample\n",
      "accuracy: 0.772\n",
      "precision: 0.616\n",
      "recall: 0.527\n",
      "f1: 0.568\n",
      "auc_roc: 0.769\n",
      "Random forest\n",
      "Checking validation subsample\n",
      "accuracy: 0.804\n",
      "precision: 0.690\n",
      "recall: 0.567\n",
      "f1: 0.622\n",
      "auc_roc: 0.853\n",
      "Logistic\n",
      "Checking validation subsample\n",
      "accuracy: 0.793\n",
      "precision: 0.647\n",
      "recall: 0.597\n",
      "f1: 0.621\n",
      "auc_roc: 0.844\n"
     ]
    }
   ],
   "source": [
    "simple_models(features_train, target_train, features_valid, target_valid)"
   ]
  },
  {
   "cell_type": "markdown",
   "id": "f9be12b1",
   "metadata": {},
   "source": [
    "Accuracy is fine, but there is a problem with correctly identifying client who cancel contracts\n",
    "\n",
    "We need to upsample them \n",
    "\n",
    "We could used balanced class option, but it's easier to upsample\n",
    "\n"
   ]
  },
  {
   "cell_type": "markdown",
   "id": "5dffb18a",
   "metadata": {},
   "source": [
    "### Upsample train"
   ]
  },
  {
   "cell_type": "code",
   "execution_count": 92,
   "id": "8ba171f7",
   "metadata": {},
   "outputs": [],
   "source": [
    "features_train['exit'] = target_train\n",
    "df_minority = features_train[features_train['exit'] == 1]\n",
    "df_majority = features_train[features_train['exit'] == 0]  \n",
    "df_minority_upsampled = resample(df_minority,random_state=12345,n_samples=len(df_majority), replace=True)\n",
    "features_train_up = pd.concat([df_minority_upsampled,df_majority])\n",
    "target_train_up = features_train_up['exit']\n",
    "features_train_up = features_train_up.drop('exit', axis=1)\n",
    "features_train = features_train.drop('exit', axis=1)"
   ]
  },
  {
   "cell_type": "code",
   "execution_count": 93,
   "id": "84c39ebf",
   "metadata": {
    "scrolled": true
   },
   "outputs": [
    {
     "data": {
      "text/plain": [
       "0.5"
      ]
     },
     "execution_count": 93,
     "metadata": {},
     "output_type": "execute_result"
    }
   ],
   "source": [
    "target_train_up.mean()"
   ]
  },
  {
   "cell_type": "markdown",
   "id": "2625d869",
   "metadata": {},
   "source": [
    "### Trying simple models (upsample train)"
   ]
  },
  {
   "cell_type": "code",
   "execution_count": 94,
   "id": "7ee67306",
   "metadata": {},
   "outputs": [
    {
     "name": "stdout",
     "output_type": "stream",
     "text": [
      "Tree\n",
      "Checking validation subsample\n",
      "accuracy: 0.752\n",
      "precision: 0.550\n",
      "recall: 0.694\n",
      "f1: 0.614\n",
      "auc_roc: 0.786\n",
      "Random forest\n",
      "Checking validation subsample\n",
      "accuracy: 0.791\n",
      "precision: 0.607\n",
      "recall: 0.745\n",
      "f1: 0.669\n",
      "auc_roc: 0.855\n",
      "Logistic\n",
      "Checking validation subsample\n",
      "accuracy: 0.748\n",
      "precision: 0.538\n",
      "recall: 0.804\n",
      "f1: 0.644\n",
      "auc_roc: 0.843\n"
     ]
    }
   ],
   "source": [
    "simple_models(features_train_up, target_train_up, features_valid, target_valid)"
   ]
  },
  {
   "cell_type": "markdown",
   "id": "28c78bb0",
   "metadata": {},
   "source": [
    "Didn't improve results much, but still a useful step"
   ]
  },
  {
   "cell_type": "markdown",
   "id": "2bf52529",
   "metadata": {},
   "source": [
    "### Gridsearch random forest"
   ]
  },
  {
   "cell_type": "markdown",
   "id": "584b8e8c",
   "metadata": {},
   "source": [
    "Trying different hyoerparameters"
   ]
  },
  {
   "cell_type": "code",
   "execution_count": 95,
   "id": "a8f854c7",
   "metadata": {},
   "outputs": [
    {
     "name": "stdout",
     "output_type": "stream",
     "text": [
      "Fitting 5 folds for each of 4 candidates, totalling 20 fits\n"
     ]
    },
    {
     "data": {
      "text/plain": [
       "GridSearchCV(estimator=RandomForestClassifier(), n_jobs=-1,\n",
       "             param_grid={'criterion': ['gini'], 'max_depth': range(7, 9),\n",
       "                         'max_features': ['auto'], 'n_estimators': [200, 300],\n",
       "                         'random_state': [12345]},\n",
       "             verbose=4)"
      ]
     },
     "execution_count": 95,
     "metadata": {},
     "output_type": "execute_result"
    }
   ],
   "source": [
    "param_grid ={'max_depth': range(5, 12),\n",
    "             'n_estimators':[100, 200, 300, 400, 500],\n",
    "             'max_features': ['auto', 'sqrt', 'log2'],\n",
    "             'random_state': [12345],\n",
    "             'criterion' :['gini', 'entropy']}  \n",
    "param_grid ={'max_depth': range(7, 9),\n",
    "             'n_estimators':[200, 300],\n",
    "             'max_features': ['auto'],\n",
    "             'random_state': [12345],\n",
    "             'criterion' :['gini']} \n",
    "#Used 1 param_grid then switched to the second one to speed up rerunnig code\n",
    "\n",
    "grid = GridSearchCV(RandomForestClassifier(), param_grid, refit = True, n_jobs = -1, verbose=4) \n",
    "grid.fit(features_train_up, target_train_up) "
   ]
  },
  {
   "cell_type": "code",
   "execution_count": 96,
   "id": "dbc0b73b",
   "metadata": {},
   "outputs": [],
   "source": [
    "model = grid.best_estimator_"
   ]
  },
  {
   "cell_type": "code",
   "execution_count": 97,
   "id": "0134114b",
   "metadata": {},
   "outputs": [
    {
     "data": {
      "text/plain": [
       "RandomForestClassifier(max_depth=8, n_estimators=300, random_state=12345)"
      ]
     },
     "execution_count": 97,
     "metadata": {},
     "output_type": "execute_result"
    }
   ],
   "source": [
    "model"
   ]
  },
  {
   "cell_type": "code",
   "execution_count": 98,
   "id": "ed91e905",
   "metadata": {},
   "outputs": [
    {
     "data": {
      "text/html": [
       "<div>\n",
       "<style scoped>\n",
       "    .dataframe tbody tr th:only-of-type {\n",
       "        vertical-align: middle;\n",
       "    }\n",
       "\n",
       "    .dataframe tbody tr th {\n",
       "        vertical-align: top;\n",
       "    }\n",
       "\n",
       "    .dataframe thead th {\n",
       "        text-align: right;\n",
       "    }\n",
       "</style>\n",
       "<table border=\"1\" class=\"dataframe\">\n",
       "  <thead>\n",
       "    <tr style=\"text-align: right;\">\n",
       "      <th></th>\n",
       "      <th>train</th>\n",
       "      <th>valid</th>\n",
       "    </tr>\n",
       "    <tr>\n",
       "      <th>Metrics</th>\n",
       "      <th></th>\n",
       "      <th></th>\n",
       "    </tr>\n",
       "  </thead>\n",
       "  <tbody>\n",
       "    <tr>\n",
       "      <th>accuracy</th>\n",
       "      <td>0.870324</td>\n",
       "      <td>0.782277</td>\n",
       "    </tr>\n",
       "    <tr>\n",
       "      <th>precision</th>\n",
       "      <td>0.838489</td>\n",
       "      <td>0.588235</td>\n",
       "    </tr>\n",
       "    <tr>\n",
       "      <th>recall</th>\n",
       "      <td>0.917349</td>\n",
       "      <td>0.779570</td>\n",
       "    </tr>\n",
       "    <tr>\n",
       "      <th>f1</th>\n",
       "      <td>0.876148</td>\n",
       "      <td>0.670520</td>\n",
       "    </tr>\n",
       "    <tr>\n",
       "      <th>auc_roc</th>\n",
       "      <td>0.942342</td>\n",
       "      <td>0.859610</td>\n",
       "    </tr>\n",
       "  </tbody>\n",
       "</table>\n",
       "</div>"
      ],
      "text/plain": [
       "              train     valid\n",
       "Metrics                      \n",
       "accuracy   0.870324  0.782277\n",
       "precision  0.838489  0.588235\n",
       "recall     0.917349  0.779570\n",
       "f1         0.876148  0.670520\n",
       "auc_roc    0.942342  0.859610"
      ]
     },
     "execution_count": 98,
     "metadata": {},
     "output_type": "execute_result"
    }
   ],
   "source": [
    "check_stats_df(features_train_up, target_train_up, \n",
    "               features_valid, target_valid, \n",
    "               model, 'train', 'valid')"
   ]
  },
  {
   "cell_type": "markdown",
   "id": "751c11a3",
   "metadata": {},
   "source": [
    "1. Model is a little better than initial simle ones. But it is overfitted now\n",
    "2. Because of that tried to lower the depthand the number of trees\n",
    "3. Tried the final results on the test subsample - not so bad, but still there is room for improvemnt"
   ]
  },
  {
   "cell_type": "code",
   "execution_count": 99,
   "id": "b767fb8a",
   "metadata": {},
   "outputs": [
    {
     "data": {
      "text/html": [
       "<div>\n",
       "<style scoped>\n",
       "    .dataframe tbody tr th:only-of-type {\n",
       "        vertical-align: middle;\n",
       "    }\n",
       "\n",
       "    .dataframe tbody tr th {\n",
       "        vertical-align: top;\n",
       "    }\n",
       "\n",
       "    .dataframe thead th {\n",
       "        text-align: right;\n",
       "    }\n",
       "</style>\n",
       "<table border=\"1\" class=\"dataframe\">\n",
       "  <thead>\n",
       "    <tr style=\"text-align: right;\">\n",
       "      <th></th>\n",
       "      <th>train</th>\n",
       "      <th>valid</th>\n",
       "    </tr>\n",
       "    <tr>\n",
       "      <th>Metrics</th>\n",
       "      <th></th>\n",
       "      <th></th>\n",
       "    </tr>\n",
       "  </thead>\n",
       "  <tbody>\n",
       "    <tr>\n",
       "      <th>accuracy</th>\n",
       "      <td>0.811721</td>\n",
       "      <td>0.757066</td>\n",
       "    </tr>\n",
       "    <tr>\n",
       "      <th>precision</th>\n",
       "      <td>0.785202</td>\n",
       "      <td>0.550186</td>\n",
       "    </tr>\n",
       "    <tr>\n",
       "      <th>recall</th>\n",
       "      <td>0.858212</td>\n",
       "      <td>0.795699</td>\n",
       "    </tr>\n",
       "    <tr>\n",
       "      <th>f1</th>\n",
       "      <td>0.820085</td>\n",
       "      <td>0.650549</td>\n",
       "    </tr>\n",
       "    <tr>\n",
       "      <th>auc_roc</th>\n",
       "      <td>0.898965</td>\n",
       "      <td>0.855437</td>\n",
       "    </tr>\n",
       "  </tbody>\n",
       "</table>\n",
       "</div>"
      ],
      "text/plain": [
       "              train     valid\n",
       "Metrics                      \n",
       "accuracy   0.811721  0.757066\n",
       "precision  0.785202  0.550186\n",
       "recall     0.858212  0.795699\n",
       "f1         0.820085  0.650549\n",
       "auc_roc    0.898965  0.855437"
      ]
     },
     "execution_count": 99,
     "metadata": {},
     "output_type": "execute_result"
    }
   ],
   "source": [
    "model = RandomForestClassifier(max_depth = 6, n_estimators = 300,\n",
    "                               random_state=12345\n",
    "                               )\n",
    "model.fit(features_train_up, target_train_up)\n",
    "check_stats_df(features_train_up, target_train_up, \n",
    "               features_valid, target_valid, \n",
    "               model, 'train', 'valid')"
   ]
  },
  {
   "cell_type": "code",
   "execution_count": 100,
   "id": "23853a0a",
   "metadata": {
    "scrolled": true
   },
   "outputs": [
    {
     "data": {
      "text/html": [
       "<div>\n",
       "<style scoped>\n",
       "    .dataframe tbody tr th:only-of-type {\n",
       "        vertical-align: middle;\n",
       "    }\n",
       "\n",
       "    .dataframe tbody tr th {\n",
       "        vertical-align: top;\n",
       "    }\n",
       "\n",
       "    .dataframe thead th {\n",
       "        text-align: right;\n",
       "    }\n",
       "</style>\n",
       "<table border=\"1\" class=\"dataframe\">\n",
       "  <thead>\n",
       "    <tr style=\"text-align: right;\">\n",
       "      <th></th>\n",
       "      <th>train</th>\n",
       "      <th>test</th>\n",
       "    </tr>\n",
       "    <tr>\n",
       "      <th>Metrics</th>\n",
       "      <th></th>\n",
       "      <th></th>\n",
       "    </tr>\n",
       "  </thead>\n",
       "  <tbody>\n",
       "    <tr>\n",
       "      <th>accuracy</th>\n",
       "      <td>0.811721</td>\n",
       "      <td>0.777693</td>\n",
       "    </tr>\n",
       "    <tr>\n",
       "      <th>precision</th>\n",
       "      <td>0.785202</td>\n",
       "      <td>0.579256</td>\n",
       "    </tr>\n",
       "    <tr>\n",
       "      <th>recall</th>\n",
       "      <td>0.858212</td>\n",
       "      <td>0.795699</td>\n",
       "    </tr>\n",
       "    <tr>\n",
       "      <th>f1</th>\n",
       "      <td>0.820085</td>\n",
       "      <td>0.670442</td>\n",
       "    </tr>\n",
       "    <tr>\n",
       "      <th>auc_roc</th>\n",
       "      <td>0.898965</td>\n",
       "      <td>0.858882</td>\n",
       "    </tr>\n",
       "  </tbody>\n",
       "</table>\n",
       "</div>"
      ],
      "text/plain": [
       "              train      test\n",
       "Metrics                      \n",
       "accuracy   0.811721  0.777693\n",
       "precision  0.785202  0.579256\n",
       "recall     0.858212  0.795699\n",
       "f1         0.820085  0.670442\n",
       "auc_roc    0.898965  0.858882"
      ]
     },
     "execution_count": 100,
     "metadata": {},
     "output_type": "execute_result"
    }
   ],
   "source": [
    "check_stats_df(features_train_up, target_train_up, \n",
    "               features_test, target_test, \n",
    "               model, 'train', 'test')"
   ]
  },
  {
   "cell_type": "markdown",
   "id": "244a1276",
   "metadata": {},
   "source": [
    "### Gridsearch Logistic Regression"
   ]
  },
  {
   "cell_type": "code",
   "execution_count": 101,
   "id": "72c43079",
   "metadata": {},
   "outputs": [
    {
     "name": "stdout",
     "output_type": "stream",
     "text": [
      "Fitting 5 folds for each of 14 candidates, totalling 70 fits\n"
     ]
    },
    {
     "data": {
      "text/plain": [
       "GridSearchCV(estimator=LogisticRegression(max_iter=1000, random_state=12345),\n",
       "             n_jobs=-1,\n",
       "             param_grid={'C': [0.001, 0.01, 0.1, 1, 10, 100, 1000],\n",
       "                         'penalty': ['l1', 'l2']},\n",
       "             verbose=2)"
      ]
     },
     "execution_count": 101,
     "metadata": {},
     "output_type": "execute_result"
    }
   ],
   "source": [
    "grid_values = {'penalty': ['l1','l2'], 'C': [0.001,0.01,0.1,1,10,100,1000]}\n",
    "grid1 = GridSearchCV(LogisticRegression(max_iter=1000, random_state = 12345),\n",
    "                     grid_values, refit = True, n_jobs = -1, verbose=2) \n",
    "grid1.fit(features_train_up, target_train_up) "
   ]
  },
  {
   "cell_type": "code",
   "execution_count": 102,
   "id": "8e7bae56",
   "metadata": {
    "scrolled": false
   },
   "outputs": [],
   "source": [
    "model = grid1.best_estimator_"
   ]
  },
  {
   "cell_type": "code",
   "execution_count": 103,
   "id": "32d3d46f",
   "metadata": {},
   "outputs": [
    {
     "data": {
      "text/html": [
       "<div>\n",
       "<style scoped>\n",
       "    .dataframe tbody tr th:only-of-type {\n",
       "        vertical-align: middle;\n",
       "    }\n",
       "\n",
       "    .dataframe tbody tr th {\n",
       "        vertical-align: top;\n",
       "    }\n",
       "\n",
       "    .dataframe thead th {\n",
       "        text-align: right;\n",
       "    }\n",
       "</style>\n",
       "<table border=\"1\" class=\"dataframe\">\n",
       "  <thead>\n",
       "    <tr style=\"text-align: right;\">\n",
       "      <th></th>\n",
       "      <th>train</th>\n",
       "      <th>valid</th>\n",
       "    </tr>\n",
       "    <tr>\n",
       "      <th>Metrics</th>\n",
       "      <th></th>\n",
       "      <th></th>\n",
       "    </tr>\n",
       "  </thead>\n",
       "  <tbody>\n",
       "    <tr>\n",
       "      <th>accuracy</th>\n",
       "      <td>0.777164</td>\n",
       "      <td>0.747899</td>\n",
       "    </tr>\n",
       "    <tr>\n",
       "      <th>precision</th>\n",
       "      <td>0.759333</td>\n",
       "      <td>0.537770</td>\n",
       "    </tr>\n",
       "    <tr>\n",
       "      <th>recall</th>\n",
       "      <td>0.811543</td>\n",
       "      <td>0.803763</td>\n",
       "    </tr>\n",
       "    <tr>\n",
       "      <th>f1</th>\n",
       "      <td>0.784570</td>\n",
       "      <td>0.644397</td>\n",
       "    </tr>\n",
       "    <tr>\n",
       "      <th>auc_roc</th>\n",
       "      <td>0.849288</td>\n",
       "      <td>0.843243</td>\n",
       "    </tr>\n",
       "  </tbody>\n",
       "</table>\n",
       "</div>"
      ],
      "text/plain": [
       "              train     valid\n",
       "Metrics                      \n",
       "accuracy   0.777164  0.747899\n",
       "precision  0.759333  0.537770\n",
       "recall     0.811543  0.803763\n",
       "f1         0.784570  0.644397\n",
       "auc_roc    0.849288  0.843243"
      ]
     },
     "execution_count": 103,
     "metadata": {},
     "output_type": "execute_result"
    }
   ],
   "source": [
    "check_stats_df(features_train_up, target_train_up, \n",
    "               features_valid, target_valid, \n",
    "               model, 'train', 'valid')"
   ]
  },
  {
   "cell_type": "markdown",
   "id": "17c55643",
   "metadata": {},
   "source": [
    "The results for logistic regression didn't change a lot"
   ]
  },
  {
   "cell_type": "code",
   "execution_count": 104,
   "id": "19c8ccb0",
   "metadata": {},
   "outputs": [
    {
     "data": {
      "text/html": [
       "<div>\n",
       "<style scoped>\n",
       "    .dataframe tbody tr th:only-of-type {\n",
       "        vertical-align: middle;\n",
       "    }\n",
       "\n",
       "    .dataframe tbody tr th {\n",
       "        vertical-align: top;\n",
       "    }\n",
       "\n",
       "    .dataframe thead th {\n",
       "        text-align: right;\n",
       "    }\n",
       "</style>\n",
       "<table border=\"1\" class=\"dataframe\">\n",
       "  <thead>\n",
       "    <tr style=\"text-align: right;\">\n",
       "      <th></th>\n",
       "      <th>train</th>\n",
       "      <th>test</th>\n",
       "    </tr>\n",
       "    <tr>\n",
       "      <th>Metrics</th>\n",
       "      <th></th>\n",
       "      <th></th>\n",
       "    </tr>\n",
       "  </thead>\n",
       "  <tbody>\n",
       "    <tr>\n",
       "      <th>accuracy</th>\n",
       "      <td>0.777164</td>\n",
       "      <td>0.764706</td>\n",
       "    </tr>\n",
       "    <tr>\n",
       "      <th>precision</th>\n",
       "      <td>0.759333</td>\n",
       "      <td>0.561303</td>\n",
       "    </tr>\n",
       "    <tr>\n",
       "      <th>recall</th>\n",
       "      <td>0.811543</td>\n",
       "      <td>0.787634</td>\n",
       "    </tr>\n",
       "    <tr>\n",
       "      <th>f1</th>\n",
       "      <td>0.784570</td>\n",
       "      <td>0.655481</td>\n",
       "    </tr>\n",
       "    <tr>\n",
       "      <th>auc_roc</th>\n",
       "      <td>0.849288</td>\n",
       "      <td>0.845535</td>\n",
       "    </tr>\n",
       "  </tbody>\n",
       "</table>\n",
       "</div>"
      ],
      "text/plain": [
       "              train      test\n",
       "Metrics                      \n",
       "accuracy   0.777164  0.764706\n",
       "precision  0.759333  0.561303\n",
       "recall     0.811543  0.787634\n",
       "f1         0.784570  0.655481\n",
       "auc_roc    0.849288  0.845535"
      ]
     },
     "execution_count": 104,
     "metadata": {},
     "output_type": "execute_result"
    }
   ],
   "source": [
    "check_stats_df(features_train_up, target_train_up, \n",
    "               features_test, target_test, \n",
    "               model, 'train', 'test')"
   ]
  },
  {
   "cell_type": "markdown",
   "id": "b5d6e17b",
   "metadata": {},
   "source": [
    "### Gridsearch  XGBClassifier"
   ]
  },
  {
   "cell_type": "code",
   "execution_count": 105,
   "id": "5696e397",
   "metadata": {},
   "outputs": [],
   "source": [
    "estimator = XGBClassifier(\n",
    "    objective= 'binary:logistic',\n",
    "    nthread=4,\n",
    "    seed=12345\n",
    ")"
   ]
  },
  {
   "cell_type": "code",
   "execution_count": 106,
   "id": "1d7d4887",
   "metadata": {},
   "outputs": [
    {
     "name": "stdout",
     "output_type": "stream",
     "text": [
      "[12:50:24] WARNING: C:/Users/Administrator/workspace/xgboost-win64_release_1.5.0/src/learner.cc:1115: Starting in XGBoost 1.3.0, the default evaluation metric used with the objective 'binary:logistic' was changed from 'error' to 'logloss'. Explicitly set eval_metric if you'd like to restore the old behavior.\n"
     ]
    },
    {
     "data": {
      "text/plain": [
       "GridSearchCV(cv=10,\n",
       "             estimator=XGBClassifier(base_score=None, booster=None,\n",
       "                                     colsample_bylevel=None,\n",
       "                                     colsample_bynode=None,\n",
       "                                     colsample_bytree=None,\n",
       "                                     enable_categorical=False, gamma=None,\n",
       "                                     gpu_id=None, importance_type=None,\n",
       "                                     interaction_constraints=None,\n",
       "                                     learning_rate=None, max_delta_step=None,\n",
       "                                     max_depth=None, min_child_weight=None,\n",
       "                                     missing=nan, monotone_constraints=None,\n",
       "                                     n_estimators=100, n_jobs=None, nthread=4,\n",
       "                                     num_parallel_tree=None, predictor=None,\n",
       "                                     random_state=None, reg_alpha=None,\n",
       "                                     reg_lambda=None, scale_pos_weight=None,\n",
       "                                     seed=12345, subsample=None,\n",
       "                                     tree_method=None, validate_parameters=None,\n",
       "                                     verbosity=None),\n",
       "             n_jobs=10,\n",
       "             param_grid={'learning_rate': [0.1], 'max_depth': range(7, 8),\n",
       "                         'n_estimators': range(80, 120, 40),\n",
       "                         'subsample': [0.175]},\n",
       "             scoring='roc_auc', verbose=False)"
      ]
     },
     "execution_count": 106,
     "metadata": {},
     "output_type": "execute_result"
    }
   ],
   "source": [
    "parameters = {\n",
    "    'max_depth': range (4, 9, 1),\n",
    "    'n_estimators': range(20, 80, 40),\n",
    "    'learning_rate': [0.1, 0.01,  0.005,  0.001],\n",
    "    'subsample' : [0.175, 0.2, 0.225]\n",
    "}\n",
    "parameters = {\n",
    "    'max_depth': range (7, 8, 1),\n",
    "    'n_estimators': range(80, 120, 40),\n",
    "    'learning_rate': [0.1],\n",
    "    'subsample' : [0.175]\n",
    "}\n",
    "#Used 1 parameters then switched to the second one to speed up rerunnig code\n",
    "grid_search = GridSearchCV(\n",
    "    estimator=estimator,\n",
    "    param_grid=parameters,\n",
    "    scoring = 'roc_auc',\n",
    "    n_jobs = 10,\n",
    "    cv = 10,\n",
    "    verbose=False\n",
    ")\n",
    "grid_search.fit(features_train_up, target_train_up) "
   ]
  },
  {
   "cell_type": "code",
   "execution_count": 107,
   "id": "72ccf23c",
   "metadata": {},
   "outputs": [],
   "source": [
    "model = grid_search.best_estimator_"
   ]
  },
  {
   "cell_type": "code",
   "execution_count": 108,
   "id": "c65cbb7a",
   "metadata": {
    "scrolled": true
   },
   "outputs": [
    {
     "data": {
      "text/plain": [
       "XGBClassifier(base_score=0.5, booster='gbtree', colsample_bylevel=1,\n",
       "              colsample_bynode=1, colsample_bytree=1, enable_categorical=False,\n",
       "              gamma=0, gpu_id=-1, importance_type=None,\n",
       "              interaction_constraints='', learning_rate=0.1, max_delta_step=0,\n",
       "              max_depth=7, min_child_weight=1, missing=nan,\n",
       "              monotone_constraints='()', n_estimators=80, n_jobs=4, nthread=4,\n",
       "              num_parallel_tree=1, predictor='auto', random_state=12345,\n",
       "              reg_alpha=0, reg_lambda=1, scale_pos_weight=1, seed=12345,\n",
       "              subsample=0.175, tree_method='exact', validate_parameters=1,\n",
       "              verbosity=None)"
      ]
     },
     "execution_count": 108,
     "metadata": {},
     "output_type": "execute_result"
    }
   ],
   "source": [
    "model"
   ]
  },
  {
   "cell_type": "code",
   "execution_count": 109,
   "id": "c590ca1a",
   "metadata": {},
   "outputs": [
    {
     "data": {
      "text/html": [
       "<div>\n",
       "<style scoped>\n",
       "    .dataframe tbody tr th:only-of-type {\n",
       "        vertical-align: middle;\n",
       "    }\n",
       "\n",
       "    .dataframe tbody tr th {\n",
       "        vertical-align: top;\n",
       "    }\n",
       "\n",
       "    .dataframe thead th {\n",
       "        text-align: right;\n",
       "    }\n",
       "</style>\n",
       "<table border=\"1\" class=\"dataframe\">\n",
       "  <thead>\n",
       "    <tr style=\"text-align: right;\">\n",
       "      <th></th>\n",
       "      <th>train</th>\n",
       "      <th>valid</th>\n",
       "    </tr>\n",
       "    <tr>\n",
       "      <th>Metrics</th>\n",
       "      <th></th>\n",
       "      <th></th>\n",
       "    </tr>\n",
       "  </thead>\n",
       "  <tbody>\n",
       "    <tr>\n",
       "      <th>accuracy</th>\n",
       "      <td>0.892946</td>\n",
       "      <td>0.779985</td>\n",
       "    </tr>\n",
       "    <tr>\n",
       "      <th>precision</th>\n",
       "      <td>0.876708</td>\n",
       "      <td>0.598592</td>\n",
       "    </tr>\n",
       "    <tr>\n",
       "      <th>recall</th>\n",
       "      <td>0.914499</td>\n",
       "      <td>0.685484</td>\n",
       "    </tr>\n",
       "    <tr>\n",
       "      <th>f1</th>\n",
       "      <td>0.895205</td>\n",
       "      <td>0.639098</td>\n",
       "    </tr>\n",
       "    <tr>\n",
       "      <th>auc_roc</th>\n",
       "      <td>0.958836</td>\n",
       "      <td>0.849557</td>\n",
       "    </tr>\n",
       "  </tbody>\n",
       "</table>\n",
       "</div>"
      ],
      "text/plain": [
       "              train     valid\n",
       "Metrics                      \n",
       "accuracy   0.892946  0.779985\n",
       "precision  0.876708  0.598592\n",
       "recall     0.914499  0.685484\n",
       "f1         0.895205  0.639098\n",
       "auc_roc    0.958836  0.849557"
      ]
     },
     "execution_count": 109,
     "metadata": {},
     "output_type": "execute_result"
    }
   ],
   "source": [
    "check_stats_df(features_train_up, target_train_up, \n",
    "               features_valid, target_valid, \n",
    "               model, 'train', 'valid')"
   ]
  },
  {
   "cell_type": "markdown",
   "id": "dc8e740f",
   "metadata": {},
   "source": [
    "The overfitting problem is here again, tried to vary parametrs a bit\n",
    "\n",
    "Helped but not significantly"
   ]
  },
  {
   "cell_type": "code",
   "execution_count": 110,
   "id": "9361bfcf",
   "metadata": {},
   "outputs": [
    {
     "name": "stdout",
     "output_type": "stream",
     "text": [
      "[12:50:24] WARNING: C:/Users/Administrator/workspace/xgboost-win64_release_1.5.0/src/learner.cc:1115: Starting in XGBoost 1.3.0, the default evaluation metric used with the objective 'binary:logistic' was changed from 'error' to 'logloss'. Explicitly set eval_metric if you'd like to restore the old behavior.\n"
     ]
    },
    {
     "data": {
      "text/html": [
       "<div>\n",
       "<style scoped>\n",
       "    .dataframe tbody tr th:only-of-type {\n",
       "        vertical-align: middle;\n",
       "    }\n",
       "\n",
       "    .dataframe tbody tr th {\n",
       "        vertical-align: top;\n",
       "    }\n",
       "\n",
       "    .dataframe thead th {\n",
       "        text-align: right;\n",
       "    }\n",
       "</style>\n",
       "<table border=\"1\" class=\"dataframe\">\n",
       "  <thead>\n",
       "    <tr style=\"text-align: right;\">\n",
       "      <th></th>\n",
       "      <th>train</th>\n",
       "      <th>valid</th>\n",
       "    </tr>\n",
       "    <tr>\n",
       "      <th>Metrics</th>\n",
       "      <th></th>\n",
       "      <th></th>\n",
       "    </tr>\n",
       "  </thead>\n",
       "  <tbody>\n",
       "    <tr>\n",
       "      <th>accuracy</th>\n",
       "      <td>0.816352</td>\n",
       "      <td>0.778457</td>\n",
       "    </tr>\n",
       "    <tr>\n",
       "      <th>precision</th>\n",
       "      <td>0.813117</td>\n",
       "      <td>0.585062</td>\n",
       "    </tr>\n",
       "    <tr>\n",
       "      <th>recall</th>\n",
       "      <td>0.821518</td>\n",
       "      <td>0.758065</td>\n",
       "    </tr>\n",
       "    <tr>\n",
       "      <th>f1</th>\n",
       "      <td>0.817296</td>\n",
       "      <td>0.660422</td>\n",
       "    </tr>\n",
       "    <tr>\n",
       "      <th>auc_roc</th>\n",
       "      <td>0.900801</td>\n",
       "      <td>0.862344</td>\n",
       "    </tr>\n",
       "  </tbody>\n",
       "</table>\n",
       "</div>"
      ],
      "text/plain": [
       "              train     valid\n",
       "Metrics                      \n",
       "accuracy   0.816352  0.778457\n",
       "precision  0.813117  0.585062\n",
       "recall     0.821518  0.758065\n",
       "f1         0.817296  0.660422\n",
       "auc_roc    0.900801  0.862344"
      ]
     },
     "execution_count": 110,
     "metadata": {},
     "output_type": "execute_result"
    }
   ],
   "source": [
    "model = XGBClassifier(objective= 'binary:logistic', nthread=4,seed=12345, use_label_encoder=False ,\n",
    "                      n_jobs = 10, learning_rate = 0.0175, max_depth=8, \n",
    "                      n_estimators=300, gamma = 7, subsample = 0.2, max_delta_step  = 1, \n",
    "                      )\n",
    "model.fit(features_train_up, target_train_up)  \n",
    "check_stats_df(features_train_up, target_train_up, \n",
    "               features_valid, target_valid, \n",
    "               model, 'train', 'valid')"
   ]
  },
  {
   "cell_type": "code",
   "execution_count": 111,
   "id": "986c7a36",
   "metadata": {},
   "outputs": [
    {
     "data": {
      "text/html": [
       "<div>\n",
       "<style scoped>\n",
       "    .dataframe tbody tr th:only-of-type {\n",
       "        vertical-align: middle;\n",
       "    }\n",
       "\n",
       "    .dataframe tbody tr th {\n",
       "        vertical-align: top;\n",
       "    }\n",
       "\n",
       "    .dataframe thead th {\n",
       "        text-align: right;\n",
       "    }\n",
       "</style>\n",
       "<table border=\"1\" class=\"dataframe\">\n",
       "  <thead>\n",
       "    <tr style=\"text-align: right;\">\n",
       "      <th></th>\n",
       "      <th>train</th>\n",
       "      <th>test</th>\n",
       "    </tr>\n",
       "    <tr>\n",
       "      <th>Metrics</th>\n",
       "      <th></th>\n",
       "      <th></th>\n",
       "    </tr>\n",
       "  </thead>\n",
       "  <tbody>\n",
       "    <tr>\n",
       "      <th>accuracy</th>\n",
       "      <td>0.816352</td>\n",
       "      <td>0.770053</td>\n",
       "    </tr>\n",
       "    <tr>\n",
       "      <th>precision</th>\n",
       "      <td>0.813117</td>\n",
       "      <td>0.577007</td>\n",
       "    </tr>\n",
       "    <tr>\n",
       "      <th>recall</th>\n",
       "      <td>0.821518</td>\n",
       "      <td>0.715054</td>\n",
       "    </tr>\n",
       "    <tr>\n",
       "      <th>f1</th>\n",
       "      <td>0.817296</td>\n",
       "      <td>0.638655</td>\n",
       "    </tr>\n",
       "    <tr>\n",
       "      <th>auc_roc</th>\n",
       "      <td>0.900801</td>\n",
       "      <td>0.858201</td>\n",
       "    </tr>\n",
       "  </tbody>\n",
       "</table>\n",
       "</div>"
      ],
      "text/plain": [
       "              train      test\n",
       "Metrics                      \n",
       "accuracy   0.816352  0.770053\n",
       "precision  0.813117  0.577007\n",
       "recall     0.821518  0.715054\n",
       "f1         0.817296  0.638655\n",
       "auc_roc    0.900801  0.858201"
      ]
     },
     "execution_count": 111,
     "metadata": {},
     "output_type": "execute_result"
    }
   ],
   "source": [
    "check_stats_df(features_train_up, target_train_up, \n",
    "               features_test, target_test, \n",
    "               model, 'train', 'test')"
   ]
  },
  {
   "cell_type": "markdown",
   "id": "2a48976c",
   "metadata": {},
   "source": [
    "## Adding new parametrs"
   ]
  },
  {
   "cell_type": "markdown",
   "id": "17043eed",
   "metadata": {},
   "source": [
    "This should be part of the \"initial assessment\" block. But to remever logic I decided to put it here"
   ]
  },
  {
   "cell_type": "markdown",
   "id": "16dcc8be",
   "metadata": {},
   "source": [
    "New features:\n",
    "\n",
    "1. total_time squared - maybe there is non-linear effect of how long the client was with the company\n",
    "2. monthly_charges squared - initital graphs looked like inverted parabola\n",
    "3. the month the client started using services\n",
    "4. how many additional services the client uses"
   ]
  },
  {
   "cell_type": "code",
   "execution_count": 112,
   "id": "5b62c80a",
   "metadata": {},
   "outputs": [],
   "source": [
    "df['start_month'] = pd.DatetimeIndex(df['begin_date']).month\n",
    "df['total_time_sq'] = df['total_time'] * df['total_time']\n",
    "df['monthly_charges_sq'] = df['monthly_charges'] * df['monthly_charges']\n",
    "df['sum'] = (df['online_sec'] + df['online_backup'] +\n",
    "             df['device_protect'] + df['tech_sup'] +\n",
    "             df['stream_tv'] + df['stream_movie'])"
   ]
  },
  {
   "cell_type": "code",
   "execution_count": 113,
   "id": "09b597de",
   "metadata": {},
   "outputs": [],
   "source": [
    "x = df.query(\"begin_date == '2020-01-01'\")\n",
    "z = df.query('type_month == 0 and type_year == 0')\n",
    "z = z.query('begin_date > \"2018-01-01\"')\n",
    "y = df.query('type_year == 1')\n",
    "y = y.query('begin_date > \"2019-01-01\"')\n",
    "x = pd.concat([x, y,z])"
   ]
  },
  {
   "cell_type": "code",
   "execution_count": 114,
   "id": "fd8180b2",
   "metadata": {},
   "outputs": [],
   "source": [
    "df_clean = df.merge(x[['customer_id', 'paperless']], left_on='customer_id', right_on='customer_id',\n",
    "                    suffixes=('','_y'), how='left')\n",
    "df_clean = df_clean.query('paperless_y != paperless_y')"
   ]
  },
  {
   "cell_type": "code",
   "execution_count": 115,
   "id": "9c879ac9",
   "metadata": {},
   "outputs": [],
   "source": [
    "df_clean = df_clean.drop(['customer_id', 'begin_date','end_date', 'paperless_y', 'total_charges'], axis=1)"
   ]
  },
  {
   "cell_type": "code",
   "execution_count": 116,
   "id": "e2a019de",
   "metadata": {},
   "outputs": [
    {
     "data": {
      "text/html": [
       "<div>\n",
       "<style scoped>\n",
       "    .dataframe tbody tr th:only-of-type {\n",
       "        vertical-align: middle;\n",
       "    }\n",
       "\n",
       "    .dataframe tbody tr th {\n",
       "        vertical-align: top;\n",
       "    }\n",
       "\n",
       "    .dataframe thead th {\n",
       "        text-align: right;\n",
       "    }\n",
       "</style>\n",
       "<table border=\"1\" class=\"dataframe\">\n",
       "  <thead>\n",
       "    <tr style=\"text-align: right;\">\n",
       "      <th></th>\n",
       "      <th>paperless</th>\n",
       "      <th>monthly_charges</th>\n",
       "      <th>type_month</th>\n",
       "      <th>type_year</th>\n",
       "      <th>method_bank</th>\n",
       "      <th>method_credit</th>\n",
       "      <th>method_elcheck</th>\n",
       "      <th>total_time</th>\n",
       "      <th>exit</th>\n",
       "      <th>internet_service</th>\n",
       "      <th>online_sec</th>\n",
       "      <th>online_backup</th>\n",
       "      <th>device_protect</th>\n",
       "      <th>tech_sup</th>\n",
       "      <th>stream_tv</th>\n",
       "      <th>stream_movie</th>\n",
       "      <th>gender</th>\n",
       "      <th>senior</th>\n",
       "      <th>partner</th>\n",
       "      <th>dependents</th>\n",
       "      <th>multiple_lines</th>\n",
       "      <th>use_internet</th>\n",
       "      <th>use_phone</th>\n",
       "      <th>start_month</th>\n",
       "      <th>total_time_sq</th>\n",
       "      <th>monthly_charges_sq</th>\n",
       "      <th>sum</th>\n",
       "    </tr>\n",
       "  </thead>\n",
       "  <tbody>\n",
       "    <tr>\n",
       "      <th>1</th>\n",
       "      <td>0.0</td>\n",
       "      <td>56.95</td>\n",
       "      <td>0</td>\n",
       "      <td>1</td>\n",
       "      <td>0</td>\n",
       "      <td>0</td>\n",
       "      <td>0</td>\n",
       "      <td>34.0</td>\n",
       "      <td>0</td>\n",
       "      <td>0.0</td>\n",
       "      <td>1.0</td>\n",
       "      <td>0.0</td>\n",
       "      <td>1.0</td>\n",
       "      <td>0.0</td>\n",
       "      <td>0.0</td>\n",
       "      <td>0.0</td>\n",
       "      <td>1.0</td>\n",
       "      <td>0</td>\n",
       "      <td>0.0</td>\n",
       "      <td>0.0</td>\n",
       "      <td>0.0</td>\n",
       "      <td>1</td>\n",
       "      <td>1</td>\n",
       "      <td>4</td>\n",
       "      <td>1156.0</td>\n",
       "      <td>3243.3025</td>\n",
       "      <td>2.0</td>\n",
       "    </tr>\n",
       "    <tr>\n",
       "      <th>2</th>\n",
       "      <td>1.0</td>\n",
       "      <td>53.85</td>\n",
       "      <td>1</td>\n",
       "      <td>0</td>\n",
       "      <td>0</td>\n",
       "      <td>0</td>\n",
       "      <td>0</td>\n",
       "      <td>2.0</td>\n",
       "      <td>1</td>\n",
       "      <td>0.0</td>\n",
       "      <td>1.0</td>\n",
       "      <td>1.0</td>\n",
       "      <td>0.0</td>\n",
       "      <td>0.0</td>\n",
       "      <td>0.0</td>\n",
       "      <td>0.0</td>\n",
       "      <td>1.0</td>\n",
       "      <td>0</td>\n",
       "      <td>0.0</td>\n",
       "      <td>0.0</td>\n",
       "      <td>0.0</td>\n",
       "      <td>1</td>\n",
       "      <td>1</td>\n",
       "      <td>10</td>\n",
       "      <td>4.0</td>\n",
       "      <td>2899.8225</td>\n",
       "      <td>2.0</td>\n",
       "    </tr>\n",
       "    <tr>\n",
       "      <th>3</th>\n",
       "      <td>0.0</td>\n",
       "      <td>42.30</td>\n",
       "      <td>0</td>\n",
       "      <td>1</td>\n",
       "      <td>1</td>\n",
       "      <td>0</td>\n",
       "      <td>0</td>\n",
       "      <td>45.0</td>\n",
       "      <td>0</td>\n",
       "      <td>0.0</td>\n",
       "      <td>1.0</td>\n",
       "      <td>0.0</td>\n",
       "      <td>1.0</td>\n",
       "      <td>1.0</td>\n",
       "      <td>0.0</td>\n",
       "      <td>0.0</td>\n",
       "      <td>1.0</td>\n",
       "      <td>0</td>\n",
       "      <td>0.0</td>\n",
       "      <td>0.0</td>\n",
       "      <td>0.0</td>\n",
       "      <td>1</td>\n",
       "      <td>0</td>\n",
       "      <td>5</td>\n",
       "      <td>2025.0</td>\n",
       "      <td>1789.2900</td>\n",
       "      <td>3.0</td>\n",
       "    </tr>\n",
       "    <tr>\n",
       "      <th>4</th>\n",
       "      <td>1.0</td>\n",
       "      <td>70.70</td>\n",
       "      <td>1</td>\n",
       "      <td>0</td>\n",
       "      <td>0</td>\n",
       "      <td>0</td>\n",
       "      <td>1</td>\n",
       "      <td>2.0</td>\n",
       "      <td>1</td>\n",
       "      <td>1.0</td>\n",
       "      <td>0.0</td>\n",
       "      <td>0.0</td>\n",
       "      <td>0.0</td>\n",
       "      <td>0.0</td>\n",
       "      <td>0.0</td>\n",
       "      <td>0.0</td>\n",
       "      <td>0.0</td>\n",
       "      <td>0</td>\n",
       "      <td>0.0</td>\n",
       "      <td>0.0</td>\n",
       "      <td>0.0</td>\n",
       "      <td>1</td>\n",
       "      <td>1</td>\n",
       "      <td>9</td>\n",
       "      <td>4.0</td>\n",
       "      <td>4998.4900</td>\n",
       "      <td>0.0</td>\n",
       "    </tr>\n",
       "    <tr>\n",
       "      <th>5</th>\n",
       "      <td>1.0</td>\n",
       "      <td>99.65</td>\n",
       "      <td>1</td>\n",
       "      <td>0</td>\n",
       "      <td>0</td>\n",
       "      <td>0</td>\n",
       "      <td>1</td>\n",
       "      <td>8.0</td>\n",
       "      <td>1</td>\n",
       "      <td>1.0</td>\n",
       "      <td>0.0</td>\n",
       "      <td>0.0</td>\n",
       "      <td>1.0</td>\n",
       "      <td>0.0</td>\n",
       "      <td>1.0</td>\n",
       "      <td>1.0</td>\n",
       "      <td>0.0</td>\n",
       "      <td>0</td>\n",
       "      <td>0.0</td>\n",
       "      <td>0.0</td>\n",
       "      <td>1.0</td>\n",
       "      <td>1</td>\n",
       "      <td>1</td>\n",
       "      <td>3</td>\n",
       "      <td>64.0</td>\n",
       "      <td>9930.1225</td>\n",
       "      <td>3.0</td>\n",
       "    </tr>\n",
       "    <tr>\n",
       "      <th>...</th>\n",
       "      <td>...</td>\n",
       "      <td>...</td>\n",
       "      <td>...</td>\n",
       "      <td>...</td>\n",
       "      <td>...</td>\n",
       "      <td>...</td>\n",
       "      <td>...</td>\n",
       "      <td>...</td>\n",
       "      <td>...</td>\n",
       "      <td>...</td>\n",
       "      <td>...</td>\n",
       "      <td>...</td>\n",
       "      <td>...</td>\n",
       "      <td>...</td>\n",
       "      <td>...</td>\n",
       "      <td>...</td>\n",
       "      <td>...</td>\n",
       "      <td>...</td>\n",
       "      <td>...</td>\n",
       "      <td>...</td>\n",
       "      <td>...</td>\n",
       "      <td>...</td>\n",
       "      <td>...</td>\n",
       "      <td>...</td>\n",
       "      <td>...</td>\n",
       "      <td>...</td>\n",
       "      <td>...</td>\n",
       "    </tr>\n",
       "    <tr>\n",
       "      <th>7036</th>\n",
       "      <td>1.0</td>\n",
       "      <td>84.80</td>\n",
       "      <td>0</td>\n",
       "      <td>1</td>\n",
       "      <td>0</td>\n",
       "      <td>0</td>\n",
       "      <td>0</td>\n",
       "      <td>24.0</td>\n",
       "      <td>0</td>\n",
       "      <td>0.0</td>\n",
       "      <td>1.0</td>\n",
       "      <td>0.0</td>\n",
       "      <td>1.0</td>\n",
       "      <td>1.0</td>\n",
       "      <td>1.0</td>\n",
       "      <td>1.0</td>\n",
       "      <td>1.0</td>\n",
       "      <td>0</td>\n",
       "      <td>1.0</td>\n",
       "      <td>1.0</td>\n",
       "      <td>1.0</td>\n",
       "      <td>1</td>\n",
       "      <td>1</td>\n",
       "      <td>2</td>\n",
       "      <td>576.0</td>\n",
       "      <td>7191.0400</td>\n",
       "      <td>5.0</td>\n",
       "    </tr>\n",
       "    <tr>\n",
       "      <th>7037</th>\n",
       "      <td>1.0</td>\n",
       "      <td>103.20</td>\n",
       "      <td>0</td>\n",
       "      <td>1</td>\n",
       "      <td>0</td>\n",
       "      <td>1</td>\n",
       "      <td>0</td>\n",
       "      <td>72.0</td>\n",
       "      <td>0</td>\n",
       "      <td>1.0</td>\n",
       "      <td>0.0</td>\n",
       "      <td>1.0</td>\n",
       "      <td>1.0</td>\n",
       "      <td>0.0</td>\n",
       "      <td>1.0</td>\n",
       "      <td>1.0</td>\n",
       "      <td>0.0</td>\n",
       "      <td>0</td>\n",
       "      <td>1.0</td>\n",
       "      <td>1.0</td>\n",
       "      <td>1.0</td>\n",
       "      <td>1</td>\n",
       "      <td>1</td>\n",
       "      <td>2</td>\n",
       "      <td>5184.0</td>\n",
       "      <td>10650.2400</td>\n",
       "      <td>4.0</td>\n",
       "    </tr>\n",
       "    <tr>\n",
       "      <th>7038</th>\n",
       "      <td>1.0</td>\n",
       "      <td>29.60</td>\n",
       "      <td>1</td>\n",
       "      <td>0</td>\n",
       "      <td>0</td>\n",
       "      <td>0</td>\n",
       "      <td>1</td>\n",
       "      <td>11.0</td>\n",
       "      <td>0</td>\n",
       "      <td>0.0</td>\n",
       "      <td>1.0</td>\n",
       "      <td>0.0</td>\n",
       "      <td>0.0</td>\n",
       "      <td>0.0</td>\n",
       "      <td>0.0</td>\n",
       "      <td>0.0</td>\n",
       "      <td>0.0</td>\n",
       "      <td>0</td>\n",
       "      <td>1.0</td>\n",
       "      <td>1.0</td>\n",
       "      <td>0.0</td>\n",
       "      <td>1</td>\n",
       "      <td>0</td>\n",
       "      <td>3</td>\n",
       "      <td>121.0</td>\n",
       "      <td>876.1600</td>\n",
       "      <td>1.0</td>\n",
       "    </tr>\n",
       "    <tr>\n",
       "      <th>7039</th>\n",
       "      <td>1.0</td>\n",
       "      <td>74.40</td>\n",
       "      <td>1</td>\n",
       "      <td>0</td>\n",
       "      <td>0</td>\n",
       "      <td>0</td>\n",
       "      <td>0</td>\n",
       "      <td>4.0</td>\n",
       "      <td>1</td>\n",
       "      <td>1.0</td>\n",
       "      <td>0.0</td>\n",
       "      <td>0.0</td>\n",
       "      <td>0.0</td>\n",
       "      <td>0.0</td>\n",
       "      <td>0.0</td>\n",
       "      <td>0.0</td>\n",
       "      <td>1.0</td>\n",
       "      <td>1</td>\n",
       "      <td>1.0</td>\n",
       "      <td>0.0</td>\n",
       "      <td>1.0</td>\n",
       "      <td>1</td>\n",
       "      <td>1</td>\n",
       "      <td>7</td>\n",
       "      <td>16.0</td>\n",
       "      <td>5535.3600</td>\n",
       "      <td>0.0</td>\n",
       "    </tr>\n",
       "    <tr>\n",
       "      <th>7040</th>\n",
       "      <td>1.0</td>\n",
       "      <td>105.65</td>\n",
       "      <td>0</td>\n",
       "      <td>0</td>\n",
       "      <td>1</td>\n",
       "      <td>0</td>\n",
       "      <td>0</td>\n",
       "      <td>66.0</td>\n",
       "      <td>0</td>\n",
       "      <td>1.0</td>\n",
       "      <td>1.0</td>\n",
       "      <td>0.0</td>\n",
       "      <td>1.0</td>\n",
       "      <td>1.0</td>\n",
       "      <td>1.0</td>\n",
       "      <td>1.0</td>\n",
       "      <td>1.0</td>\n",
       "      <td>0</td>\n",
       "      <td>0.0</td>\n",
       "      <td>0.0</td>\n",
       "      <td>0.0</td>\n",
       "      <td>1</td>\n",
       "      <td>1</td>\n",
       "      <td>8</td>\n",
       "      <td>4356.0</td>\n",
       "      <td>11161.9225</td>\n",
       "      <td>5.0</td>\n",
       "    </tr>\n",
       "  </tbody>\n",
       "</table>\n",
       "<p>6542 rows × 27 columns</p>\n",
       "</div>"
      ],
      "text/plain": [
       "      paperless  monthly_charges  type_month  type_year  method_bank  \\\n",
       "1           0.0            56.95           0          1            0   \n",
       "2           1.0            53.85           1          0            0   \n",
       "3           0.0            42.30           0          1            1   \n",
       "4           1.0            70.70           1          0            0   \n",
       "5           1.0            99.65           1          0            0   \n",
       "...         ...              ...         ...        ...          ...   \n",
       "7036        1.0            84.80           0          1            0   \n",
       "7037        1.0           103.20           0          1            0   \n",
       "7038        1.0            29.60           1          0            0   \n",
       "7039        1.0            74.40           1          0            0   \n",
       "7040        1.0           105.65           0          0            1   \n",
       "\n",
       "      method_credit  method_elcheck  total_time  exit  internet_service  \\\n",
       "1                 0               0        34.0     0               0.0   \n",
       "2                 0               0         2.0     1               0.0   \n",
       "3                 0               0        45.0     0               0.0   \n",
       "4                 0               1         2.0     1               1.0   \n",
       "5                 0               1         8.0     1               1.0   \n",
       "...             ...             ...         ...   ...               ...   \n",
       "7036              0               0        24.0     0               0.0   \n",
       "7037              1               0        72.0     0               1.0   \n",
       "7038              0               1        11.0     0               0.0   \n",
       "7039              0               0         4.0     1               1.0   \n",
       "7040              0               0        66.0     0               1.0   \n",
       "\n",
       "      online_sec  online_backup  device_protect  tech_sup  stream_tv  \\\n",
       "1            1.0            0.0             1.0       0.0        0.0   \n",
       "2            1.0            1.0             0.0       0.0        0.0   \n",
       "3            1.0            0.0             1.0       1.0        0.0   \n",
       "4            0.0            0.0             0.0       0.0        0.0   \n",
       "5            0.0            0.0             1.0       0.0        1.0   \n",
       "...          ...            ...             ...       ...        ...   \n",
       "7036         1.0            0.0             1.0       1.0        1.0   \n",
       "7037         0.0            1.0             1.0       0.0        1.0   \n",
       "7038         1.0            0.0             0.0       0.0        0.0   \n",
       "7039         0.0            0.0             0.0       0.0        0.0   \n",
       "7040         1.0            0.0             1.0       1.0        1.0   \n",
       "\n",
       "      stream_movie  gender  senior  partner  dependents  multiple_lines  \\\n",
       "1              0.0     1.0       0      0.0         0.0             0.0   \n",
       "2              0.0     1.0       0      0.0         0.0             0.0   \n",
       "3              0.0     1.0       0      0.0         0.0             0.0   \n",
       "4              0.0     0.0       0      0.0         0.0             0.0   \n",
       "5              1.0     0.0       0      0.0         0.0             1.0   \n",
       "...            ...     ...     ...      ...         ...             ...   \n",
       "7036           1.0     1.0       0      1.0         1.0             1.0   \n",
       "7037           1.0     0.0       0      1.0         1.0             1.0   \n",
       "7038           0.0     0.0       0      1.0         1.0             0.0   \n",
       "7039           0.0     1.0       1      1.0         0.0             1.0   \n",
       "7040           1.0     1.0       0      0.0         0.0             0.0   \n",
       "\n",
       "      use_internet  use_phone  start_month  total_time_sq  monthly_charges_sq  \\\n",
       "1                1          1            4         1156.0           3243.3025   \n",
       "2                1          1           10            4.0           2899.8225   \n",
       "3                1          0            5         2025.0           1789.2900   \n",
       "4                1          1            9            4.0           4998.4900   \n",
       "5                1          1            3           64.0           9930.1225   \n",
       "...            ...        ...          ...            ...                 ...   \n",
       "7036             1          1            2          576.0           7191.0400   \n",
       "7037             1          1            2         5184.0          10650.2400   \n",
       "7038             1          0            3          121.0            876.1600   \n",
       "7039             1          1            7           16.0           5535.3600   \n",
       "7040             1          1            8         4356.0          11161.9225   \n",
       "\n",
       "      sum  \n",
       "1     2.0  \n",
       "2     2.0  \n",
       "3     3.0  \n",
       "4     0.0  \n",
       "5     3.0  \n",
       "...   ...  \n",
       "7036  5.0  \n",
       "7037  4.0  \n",
       "7038  1.0  \n",
       "7039  0.0  \n",
       "7040  5.0  \n",
       "\n",
       "[6542 rows x 27 columns]"
      ]
     },
     "execution_count": 116,
     "metadata": {},
     "output_type": "execute_result"
    }
   ],
   "source": [
    "df_clean"
   ]
  },
  {
   "cell_type": "markdown",
   "id": "0a58ebd9",
   "metadata": {},
   "source": [
    "## 2nd stage"
   ]
  },
  {
   "cell_type": "markdown",
   "id": "0a58ebd9",
   "metadata": {},
   "source": [
    "### 3 subsamples"
   ]
  },
  {
   "cell_type": "code",
   "execution_count": 117,
   "id": "3aad5d97",
   "metadata": {},
   "outputs": [],
   "source": [
    "features = df_clean.drop('exit', axis=1)\n",
    "targets = df_clean['exit']"
   ]
  },
  {
   "cell_type": "code",
   "execution_count": 118,
   "id": "de243b3a",
   "metadata": {},
   "outputs": [],
   "source": [
    "features_train, features_test, target_train, target_test = train_test_split(features, targets, \n",
    "                                                                            test_size=0.2,\n",
    "                                                                            random_state=12345,\n",
    "                                                                            shuffle=True,\n",
    "                                                                           stratify = targets)\n",
    "features_train, features_valid, target_train, target_valid = train_test_split(features_train, target_train, \n",
    "                                                                            test_size=0.25,\n",
    "                                                                            random_state=12345,\n",
    "                                                                            shuffle=True,\n",
    "                                                                            stratify = target_train)"
   ]
  },
  {
   "cell_type": "markdown",
   "id": "fbdd4cb5",
   "metadata": {},
   "source": [
    "### Upsample train (again)"
   ]
  },
  {
   "cell_type": "code",
   "execution_count": 119,
   "id": "51a5925d",
   "metadata": {},
   "outputs": [],
   "source": [
    "features_train['exit'] = target_train\n",
    "df_minority = features_train[features_train['exit'] == 1]\n",
    "df_majority = features_train[features_train['exit'] == 0]  \n",
    "df_minority_upsampled = resample(df_minority,random_state=12345,n_samples=len(df_majority), replace=True)\n",
    "features_train_up = pd.concat([df_minority_upsampled,df_majority])\n",
    "target_train_up = features_train_up['exit']\n",
    "features_train_up = features_train_up.drop('exit', axis=1)\n",
    "features_train = features_train.drop('exit', axis=1)"
   ]
  },
  {
   "cell_type": "code",
   "execution_count": 120,
   "id": "caae2fdb",
   "metadata": {
    "scrolled": true
   },
   "outputs": [
    {
     "data": {
      "text/plain": [
       "0.5"
      ]
     },
     "execution_count": 120,
     "metadata": {},
     "output_type": "execute_result"
    }
   ],
   "source": [
    "target_train_up.mean()"
   ]
  },
  {
   "cell_type": "markdown",
   "id": "996f836d",
   "metadata": {},
   "source": [
    "### Retraining models"
   ]
  },
  {
   "cell_type": "code",
   "execution_count": 121,
   "id": "c92bf714",
   "metadata": {},
   "outputs": [
    {
     "data": {
      "text/html": [
       "<div>\n",
       "<style scoped>\n",
       "    .dataframe tbody tr th:only-of-type {\n",
       "        vertical-align: middle;\n",
       "    }\n",
       "\n",
       "    .dataframe tbody tr th {\n",
       "        vertical-align: top;\n",
       "    }\n",
       "\n",
       "    .dataframe thead th {\n",
       "        text-align: right;\n",
       "    }\n",
       "</style>\n",
       "<table border=\"1\" class=\"dataframe\">\n",
       "  <thead>\n",
       "    <tr style=\"text-align: right;\">\n",
       "      <th></th>\n",
       "      <th>train</th>\n",
       "      <th>valid</th>\n",
       "    </tr>\n",
       "    <tr>\n",
       "      <th>Metrics</th>\n",
       "      <th></th>\n",
       "      <th></th>\n",
       "    </tr>\n",
       "  </thead>\n",
       "  <tbody>\n",
       "    <tr>\n",
       "      <th>accuracy</th>\n",
       "      <td>0.827752</td>\n",
       "      <td>0.783804</td>\n",
       "    </tr>\n",
       "    <tr>\n",
       "      <th>precision</th>\n",
       "      <td>0.817899</td>\n",
       "      <td>0.589178</td>\n",
       "    </tr>\n",
       "    <tr>\n",
       "      <th>recall</th>\n",
       "      <td>0.843249</td>\n",
       "      <td>0.790323</td>\n",
       "    </tr>\n",
       "    <tr>\n",
       "      <th>f1</th>\n",
       "      <td>0.830381</td>\n",
       "      <td>0.675086</td>\n",
       "    </tr>\n",
       "    <tr>\n",
       "      <th>auc_roc</th>\n",
       "      <td>0.913499</td>\n",
       "      <td>0.867577</td>\n",
       "    </tr>\n",
       "  </tbody>\n",
       "</table>\n",
       "</div>"
      ],
      "text/plain": [
       "              train     valid\n",
       "Metrics                      \n",
       "accuracy   0.827752  0.783804\n",
       "precision  0.817899  0.589178\n",
       "recall     0.843249  0.790323\n",
       "f1         0.830381  0.675086\n",
       "auc_roc    0.913499  0.867577"
      ]
     },
     "execution_count": 121,
     "metadata": {},
     "output_type": "execute_result"
    }
   ],
   "source": [
    "model = RandomForestClassifier(max_depth = 6, n_estimators = 300,\n",
    "                               random_state=12345\n",
    "                               )\n",
    "model.fit(features_train_up, target_train_up)\n",
    "check_stats_df(features_train_up, target_train_up, \n",
    "               features_valid, target_valid, \n",
    "               model, 'train', 'valid')"
   ]
  },
  {
   "cell_type": "code",
   "execution_count": 122,
   "id": "5a802428",
   "metadata": {
    "scrolled": true
   },
   "outputs": [
    {
     "data": {
      "text/html": [
       "<div>\n",
       "<style scoped>\n",
       "    .dataframe tbody tr th:only-of-type {\n",
       "        vertical-align: middle;\n",
       "    }\n",
       "\n",
       "    .dataframe tbody tr th {\n",
       "        vertical-align: top;\n",
       "    }\n",
       "\n",
       "    .dataframe thead th {\n",
       "        text-align: right;\n",
       "    }\n",
       "</style>\n",
       "<table border=\"1\" class=\"dataframe\">\n",
       "  <thead>\n",
       "    <tr style=\"text-align: right;\">\n",
       "      <th></th>\n",
       "      <th>train</th>\n",
       "      <th>test</th>\n",
       "    </tr>\n",
       "    <tr>\n",
       "      <th>Metrics</th>\n",
       "      <th></th>\n",
       "      <th></th>\n",
       "    </tr>\n",
       "  </thead>\n",
       "  <tbody>\n",
       "    <tr>\n",
       "      <th>accuracy</th>\n",
       "      <td>0.827752</td>\n",
       "      <td>0.778457</td>\n",
       "    </tr>\n",
       "    <tr>\n",
       "      <th>precision</th>\n",
       "      <td>0.817899</td>\n",
       "      <td>0.587607</td>\n",
       "    </tr>\n",
       "    <tr>\n",
       "      <th>recall</th>\n",
       "      <td>0.843249</td>\n",
       "      <td>0.739247</td>\n",
       "    </tr>\n",
       "    <tr>\n",
       "      <th>f1</th>\n",
       "      <td>0.830381</td>\n",
       "      <td>0.654762</td>\n",
       "    </tr>\n",
       "    <tr>\n",
       "      <th>auc_roc</th>\n",
       "      <td>0.913499</td>\n",
       "      <td>0.864220</td>\n",
       "    </tr>\n",
       "  </tbody>\n",
       "</table>\n",
       "</div>"
      ],
      "text/plain": [
       "              train      test\n",
       "Metrics                      \n",
       "accuracy   0.827752  0.778457\n",
       "precision  0.817899  0.587607\n",
       "recall     0.843249  0.739247\n",
       "f1         0.830381  0.654762\n",
       "auc_roc    0.913499  0.864220"
      ]
     },
     "execution_count": 122,
     "metadata": {},
     "output_type": "execute_result"
    }
   ],
   "source": [
    "check_stats_df(features_train_up, target_train_up, \n",
    "               features_test, target_test, \n",
    "               model, 'train', 'test')"
   ]
  },
  {
   "cell_type": "code",
   "execution_count": 123,
   "id": "c34128a4",
   "metadata": {},
   "outputs": [
    {
     "name": "stdout",
     "output_type": "stream",
     "text": [
      "[12:50:29] WARNING: C:/Users/Administrator/workspace/xgboost-win64_release_1.5.0/src/learner.cc:1115: Starting in XGBoost 1.3.0, the default evaluation metric used with the objective 'binary:logistic' was changed from 'error' to 'logloss'. Explicitly set eval_metric if you'd like to restore the old behavior.\n"
     ]
    },
    {
     "data": {
      "text/html": [
       "<div>\n",
       "<style scoped>\n",
       "    .dataframe tbody tr th:only-of-type {\n",
       "        vertical-align: middle;\n",
       "    }\n",
       "\n",
       "    .dataframe tbody tr th {\n",
       "        vertical-align: top;\n",
       "    }\n",
       "\n",
       "    .dataframe thead th {\n",
       "        text-align: right;\n",
       "    }\n",
       "</style>\n",
       "<table border=\"1\" class=\"dataframe\">\n",
       "  <thead>\n",
       "    <tr style=\"text-align: right;\">\n",
       "      <th></th>\n",
       "      <th>train</th>\n",
       "      <th>valid</th>\n",
       "    </tr>\n",
       "    <tr>\n",
       "      <th>Metrics</th>\n",
       "      <th></th>\n",
       "      <th></th>\n",
       "    </tr>\n",
       "  </thead>\n",
       "  <tbody>\n",
       "    <tr>\n",
       "      <th>accuracy</th>\n",
       "      <td>0.855896</td>\n",
       "      <td>0.828877</td>\n",
       "    </tr>\n",
       "    <tr>\n",
       "      <th>precision</th>\n",
       "      <td>0.862745</td>\n",
       "      <td>0.670507</td>\n",
       "    </tr>\n",
       "    <tr>\n",
       "      <th>recall</th>\n",
       "      <td>0.846455</td>\n",
       "      <td>0.782258</td>\n",
       "    </tr>\n",
       "    <tr>\n",
       "      <th>f1</th>\n",
       "      <td>0.854523</td>\n",
       "      <td>0.722084</td>\n",
       "    </tr>\n",
       "    <tr>\n",
       "      <th>auc_roc</th>\n",
       "      <td>0.934586</td>\n",
       "      <td>0.902138</td>\n",
       "    </tr>\n",
       "  </tbody>\n",
       "</table>\n",
       "</div>"
      ],
      "text/plain": [
       "              train     valid\n",
       "Metrics                      \n",
       "accuracy   0.855896  0.828877\n",
       "precision  0.862745  0.670507\n",
       "recall     0.846455  0.782258\n",
       "f1         0.854523  0.722084\n",
       "auc_roc    0.934586  0.902138"
      ]
     },
     "execution_count": 123,
     "metadata": {},
     "output_type": "execute_result"
    }
   ],
   "source": [
    "model = XGBClassifier(objective= 'binary:logistic', nthread=4,seed=12345, use_label_encoder=False ,\n",
    "                      n_jobs = 10, learning_rate = 0.0175, max_depth=8, \n",
    "                      n_estimators=300, gamma = 7, subsample = 0.2, max_delta_step  = 1, \n",
    "                      )\n",
    "model.fit(features_train_up, target_train_up)  \n",
    "check_stats_df(features_train_up, target_train_up, \n",
    "               features_valid, target_valid, \n",
    "               model, 'train', 'valid')"
   ]
  },
  {
   "cell_type": "code",
   "execution_count": 124,
   "id": "96388d6d",
   "metadata": {},
   "outputs": [
    {
     "data": {
      "text/html": [
       "<div>\n",
       "<style scoped>\n",
       "    .dataframe tbody tr th:only-of-type {\n",
       "        vertical-align: middle;\n",
       "    }\n",
       "\n",
       "    .dataframe tbody tr th {\n",
       "        vertical-align: top;\n",
       "    }\n",
       "\n",
       "    .dataframe thead th {\n",
       "        text-align: right;\n",
       "    }\n",
       "</style>\n",
       "<table border=\"1\" class=\"dataframe\">\n",
       "  <thead>\n",
       "    <tr style=\"text-align: right;\">\n",
       "      <th></th>\n",
       "      <th>train</th>\n",
       "      <th>test</th>\n",
       "    </tr>\n",
       "    <tr>\n",
       "      <th>Metrics</th>\n",
       "      <th></th>\n",
       "      <th></th>\n",
       "    </tr>\n",
       "  </thead>\n",
       "  <tbody>\n",
       "    <tr>\n",
       "      <th>accuracy</th>\n",
       "      <td>0.855896</td>\n",
       "      <td>0.816654</td>\n",
       "    </tr>\n",
       "    <tr>\n",
       "      <th>precision</th>\n",
       "      <td>0.862745</td>\n",
       "      <td>0.653488</td>\n",
       "    </tr>\n",
       "    <tr>\n",
       "      <th>recall</th>\n",
       "      <td>0.846455</td>\n",
       "      <td>0.755376</td>\n",
       "    </tr>\n",
       "    <tr>\n",
       "      <th>f1</th>\n",
       "      <td>0.854523</td>\n",
       "      <td>0.700748</td>\n",
       "    </tr>\n",
       "    <tr>\n",
       "      <th>auc_roc</th>\n",
       "      <td>0.934586</td>\n",
       "      <td>0.897477</td>\n",
       "    </tr>\n",
       "  </tbody>\n",
       "</table>\n",
       "</div>"
      ],
      "text/plain": [
       "              train      test\n",
       "Metrics                      \n",
       "accuracy   0.855896  0.816654\n",
       "precision  0.862745  0.653488\n",
       "recall     0.846455  0.755376\n",
       "f1         0.854523  0.700748\n",
       "auc_roc    0.934586  0.897477"
      ]
     },
     "execution_count": 124,
     "metadata": {},
     "output_type": "execute_result"
    }
   ],
   "source": [
    "check_stats_df(features_train_up, target_train_up, \n",
    "               features_test, target_test, \n",
    "               model, 'train', 'test')"
   ]
  },
  {
   "cell_type": "markdown",
   "id": "be8dd202",
   "metadata": {},
   "source": [
    " XGBClassifier gave ROC_AUC 0,9 on validation subsample! Test subsample has the same results. \n",
    "\n",
    "The targeted metric value is achieved. There are possibilities to improve, but let's finalize current results"
   ]
  },
  {
   "cell_type": "markdown",
   "id": "b7e334c9",
   "metadata": {},
   "source": [
    "# Final model"
   ]
  },
  {
   "cell_type": "markdown",
   "id": "e2a5155d",
   "metadata": {},
   "source": [
    "### Checking final models results once again "
   ]
  },
  {
   "cell_type": "markdown",
   "id": "2e68f91f",
   "metadata": {},
   "source": [
    "Retrain, test and illustrate the final model in 1 place\n"
   ]
  },
  {
   "cell_type": "code",
   "execution_count": 125,
   "id": "a636b3de",
   "metadata": {},
   "outputs": [
    {
     "name": "stdout",
     "output_type": "stream",
     "text": [
      "[12:50:30] WARNING: C:/Users/Administrator/workspace/xgboost-win64_release_1.5.0/src/learner.cc:1115: Starting in XGBoost 1.3.0, the default evaluation metric used with the objective 'binary:logistic' was changed from 'error' to 'logloss'. Explicitly set eval_metric if you'd like to restore the old behavior.\n"
     ]
    },
    {
     "data": {
      "text/html": [
       "<div>\n",
       "<style scoped>\n",
       "    .dataframe tbody tr th:only-of-type {\n",
       "        vertical-align: middle;\n",
       "    }\n",
       "\n",
       "    .dataframe tbody tr th {\n",
       "        vertical-align: top;\n",
       "    }\n",
       "\n",
       "    .dataframe thead th {\n",
       "        text-align: right;\n",
       "    }\n",
       "</style>\n",
       "<table border=\"1\" class=\"dataframe\">\n",
       "  <thead>\n",
       "    <tr style=\"text-align: right;\">\n",
       "      <th></th>\n",
       "      <th>train</th>\n",
       "      <th>valid</th>\n",
       "    </tr>\n",
       "    <tr>\n",
       "      <th>Metrics</th>\n",
       "      <th></th>\n",
       "      <th></th>\n",
       "    </tr>\n",
       "  </thead>\n",
       "  <tbody>\n",
       "    <tr>\n",
       "      <th>accuracy</th>\n",
       "      <td>0.855896</td>\n",
       "      <td>0.828877</td>\n",
       "    </tr>\n",
       "    <tr>\n",
       "      <th>precision</th>\n",
       "      <td>0.862745</td>\n",
       "      <td>0.670507</td>\n",
       "    </tr>\n",
       "    <tr>\n",
       "      <th>recall</th>\n",
       "      <td>0.846455</td>\n",
       "      <td>0.782258</td>\n",
       "    </tr>\n",
       "    <tr>\n",
       "      <th>f1</th>\n",
       "      <td>0.854523</td>\n",
       "      <td>0.722084</td>\n",
       "    </tr>\n",
       "    <tr>\n",
       "      <th>auc_roc</th>\n",
       "      <td>0.934586</td>\n",
       "      <td>0.902138</td>\n",
       "    </tr>\n",
       "  </tbody>\n",
       "</table>\n",
       "</div>"
      ],
      "text/plain": [
       "              train     valid\n",
       "Metrics                      \n",
       "accuracy   0.855896  0.828877\n",
       "precision  0.862745  0.670507\n",
       "recall     0.846455  0.782258\n",
       "f1         0.854523  0.722084\n",
       "auc_roc    0.934586  0.902138"
      ]
     },
     "execution_count": 125,
     "metadata": {},
     "output_type": "execute_result"
    }
   ],
   "source": [
    "model = XGBClassifier(objective= 'binary:logistic', nthread=4,seed=12345, use_label_encoder=False ,\n",
    "                      n_jobs = 10, learning_rate = 0.0175, max_depth=8, \n",
    "                      n_estimators=300, gamma = 7, subsample = 0.2, max_delta_step  = 1, \n",
    "                      )\n",
    "model.fit(features_train_up, target_train_up)  \n",
    "check_stats_df(features_train_up, target_train_up, \n",
    "               features_valid, target_valid, \n",
    "               model, 'train', 'valid')"
   ]
  },
  {
   "cell_type": "code",
   "execution_count": 126,
   "id": "79252721",
   "metadata": {},
   "outputs": [
    {
     "data": {
      "text/html": [
       "<div>\n",
       "<style scoped>\n",
       "    .dataframe tbody tr th:only-of-type {\n",
       "        vertical-align: middle;\n",
       "    }\n",
       "\n",
       "    .dataframe tbody tr th {\n",
       "        vertical-align: top;\n",
       "    }\n",
       "\n",
       "    .dataframe thead th {\n",
       "        text-align: right;\n",
       "    }\n",
       "</style>\n",
       "<table border=\"1\" class=\"dataframe\">\n",
       "  <thead>\n",
       "    <tr style=\"text-align: right;\">\n",
       "      <th></th>\n",
       "      <th>train</th>\n",
       "      <th>test</th>\n",
       "    </tr>\n",
       "    <tr>\n",
       "      <th>Metrics</th>\n",
       "      <th></th>\n",
       "      <th></th>\n",
       "    </tr>\n",
       "  </thead>\n",
       "  <tbody>\n",
       "    <tr>\n",
       "      <th>accuracy</th>\n",
       "      <td>0.855896</td>\n",
       "      <td>0.816654</td>\n",
       "    </tr>\n",
       "    <tr>\n",
       "      <th>precision</th>\n",
       "      <td>0.862745</td>\n",
       "      <td>0.653488</td>\n",
       "    </tr>\n",
       "    <tr>\n",
       "      <th>recall</th>\n",
       "      <td>0.846455</td>\n",
       "      <td>0.755376</td>\n",
       "    </tr>\n",
       "    <tr>\n",
       "      <th>f1</th>\n",
       "      <td>0.854523</td>\n",
       "      <td>0.700748</td>\n",
       "    </tr>\n",
       "    <tr>\n",
       "      <th>auc_roc</th>\n",
       "      <td>0.934586</td>\n",
       "      <td>0.897477</td>\n",
       "    </tr>\n",
       "  </tbody>\n",
       "</table>\n",
       "</div>"
      ],
      "text/plain": [
       "              train      test\n",
       "Metrics                      \n",
       "accuracy   0.855896  0.816654\n",
       "precision  0.862745  0.653488\n",
       "recall     0.846455  0.755376\n",
       "f1         0.854523  0.700748\n",
       "auc_roc    0.934586  0.897477"
      ]
     },
     "execution_count": 126,
     "metadata": {},
     "output_type": "execute_result"
    }
   ],
   "source": [
    "check_stats_df(features_train_up, target_train_up, \n",
    "               features_test, target_test, \n",
    "               model, 'train', 'test')"
   ]
  },
  {
   "cell_type": "markdown",
   "id": "40b53afa",
   "metadata": {},
   "source": [
    "Check auc_roc for test subsample separately"
   ]
  },
  {
   "cell_type": "code",
   "execution_count": 127,
   "id": "0bd35835",
   "metadata": {},
   "outputs": [
    {
     "name": "stdout",
     "output_type": "stream",
     "text": [
      "auc_roc: 0.8975\n"
     ]
    }
   ],
   "source": [
    "roc_prob = model.predict_proba(features_test)[:,1]\n",
    "auc_roc = roc_auc_score(target_test, roc_prob)\n",
    "print(\"auc_roc: {0:.4f}\".format(auc_roc))"
   ]
  },
  {
   "cell_type": "code",
   "execution_count": 128,
   "id": "4175a204",
   "metadata": {},
   "outputs": [],
   "source": [
    "probabilities_test = model.predict_proba(features_test)\n",
    "probabilities_test1= probabilities_test[:, 1]\n",
    "fpr_test, tpr_test, thresholds_test = roc_curve(target_test, probabilities_test1) \n",
    "probabilities_train = model.predict_proba(features_train)\n",
    "probabilities_train1= probabilities_train[:, 1]\n",
    "fpr_train, tpr_train, thresholds_train = roc_curve(target_train, probabilities_train1) \n",
    "probabilities_valid = model.predict_proba(features_valid)\n",
    "probabilities_valid1= probabilities_valid[:, 1]\n",
    "fpr_valid, tpr_valid, thresholds_valid = roc_curve(target_valid, probabilities_valid1) "
   ]
  },
  {
   "cell_type": "code",
   "execution_count": 129,
   "id": "7e733d3f",
   "metadata": {},
   "outputs": [
    {
     "data": {
      "image/png": "[encoded data removed]",
      "text/plain": [
       "<Figure size 432x288 with 1 Axes>"
      ]
     },
     "metadata": {},
     "output_type": "display_data"
    }
   ],
   "source": [
    "fig, ax = plt.subplots(facecolor='white')\n",
    "\n",
    "plt.plot(fpr_test, tpr_test, label='test')\n",
    "plt.plot(fpr_train, tpr_train, label='train')\n",
    "plt.plot(fpr_valid, tpr_valid, label='valid')\n",
    "plt.plot([0, 1], [0, 1], linestyle='--')\n",
    "\n",
    "plt.xlim([0.0, 1.0])\n",
    "plt.ylim([0.0, 1.0])\n",
    "plt.xlabel('False Positive Rate')\n",
    "plt.ylabel('True Positive Rate')\n",
    "\n",
    "plt.title('ROC-curve')\n",
    "plt.legend()\n",
    "\n",
    "plt.show()"
   ]
  },
  {
   "cell_type": "markdown",
   "id": "48ab65e1",
   "metadata": {},
   "source": [
    "There is a gap between test subsample and others, but all of them are quite close"
   ]
  },
  {
   "cell_type": "markdown",
   "id": "e2a5155d",
   "metadata": {},
   "source": [
    "### Checking features importance"
   ]
  },
  {
   "cell_type": "code",
   "execution_count": 130,
   "id": "b57ee990",
   "metadata": {},
   "outputs": [
    {
     "data": {
      "image/png": "[encoded data removed]",
      "text/plain": [
       "<Figure size 864x432 with 1 Axes>"
      ]
     },
     "metadata": {},
     "output_type": "display_data"
    }
   ],
   "source": [
    "fig, ax = plt.subplots(facecolor='white', figsize=(12, 6))\n",
    "x = model.get_booster().get_score(importance_type=\"weight\")\n",
    "\n",
    "plt.title(\"Feature prevalance\")\n",
    "\n",
    "plt.bar(range(len(x)), list(x.values()), align='center' )\n",
    "plt.xticks(range(len(x)), list(x.keys()), rotation=90)\n",
    "\n",
    "plt.show()"
   ]
  },
  {
   "cell_type": "code",
   "execution_count": 131,
   "id": "84118c26",
   "metadata": {},
   "outputs": [],
   "source": [
    "ticks = features_train_up.columns\n",
    "axis = np.arange(len(model.feature_importances_))"
   ]
  },
  {
   "cell_type": "code",
   "execution_count": 132,
   "id": "2c0ea8a2",
   "metadata": {
    "scrolled": true
   },
   "outputs": [
    {
     "data": {
      "image/png": "[encoded data removed]",
      "text/plain": [
       "<Figure size 864x432 with 1 Axes>"
      ]
     },
     "metadata": {},
     "output_type": "display_data"
    }
   ],
   "source": [
    "fig, ax = plt.subplots(facecolor='white', figsize=(12, 6))\n",
    "\n",
    "plt.title(\"Feature importances\")\n",
    "\n",
    "plt.bar(axis, model.feature_importances_)\n",
    "plt.xticks(axis,ticks, rotation=90)\n",
    "plt.show()"
   ]
  },
  {
   "cell_type": "code",
   "execution_count": 133,
   "id": "d99358c4",
   "metadata": {},
   "outputs": [
    {
     "data": {
      "text/html": [
       "<div>\n",
       "<style scoped>\n",
       "    .dataframe tbody tr th:only-of-type {\n",
       "        vertical-align: middle;\n",
       "    }\n",
       "\n",
       "    .dataframe tbody tr th {\n",
       "        vertical-align: top;\n",
       "    }\n",
       "\n",
       "    .dataframe thead th {\n",
       "        text-align: right;\n",
       "    }\n",
       "</style>\n",
       "<table border=\"1\" class=\"dataframe\">\n",
       "  <thead>\n",
       "    <tr style=\"text-align: right;\">\n",
       "      <th></th>\n",
       "      <th>gain</th>\n",
       "      <th>weight</th>\n",
       "    </tr>\n",
       "  </thead>\n",
       "  <tbody>\n",
       "    <tr>\n",
       "      <th>type_month</th>\n",
       "      <td>75.6</td>\n",
       "      <td>85.0</td>\n",
       "    </tr>\n",
       "    <tr>\n",
       "      <th>internet_service</th>\n",
       "      <td>23.5</td>\n",
       "      <td>58.0</td>\n",
       "    </tr>\n",
       "    <tr>\n",
       "      <th>total_time</th>\n",
       "      <td>13.4</td>\n",
       "      <td>1014.0</td>\n",
       "    </tr>\n",
       "    <tr>\n",
       "      <th>method_elcheck</th>\n",
       "      <td>11.3</td>\n",
       "      <td>76.0</td>\n",
       "    </tr>\n",
       "    <tr>\n",
       "      <th>use_internet</th>\n",
       "      <td>9.8</td>\n",
       "      <td>28.0</td>\n",
       "    </tr>\n",
       "    <tr>\n",
       "      <th>type_year</th>\n",
       "      <td>8.9</td>\n",
       "      <td>53.0</td>\n",
       "    </tr>\n",
       "    <tr>\n",
       "      <th>monthly_charges</th>\n",
       "      <td>8.8</td>\n",
       "      <td>454.0</td>\n",
       "    </tr>\n",
       "    <tr>\n",
       "      <th>stream_movie</th>\n",
       "      <td>8.4</td>\n",
       "      <td>30.0</td>\n",
       "    </tr>\n",
       "    <tr>\n",
       "      <th>tech_sup</th>\n",
       "      <td>8.2</td>\n",
       "      <td>48.0</td>\n",
       "    </tr>\n",
       "    <tr>\n",
       "      <th>paperless</th>\n",
       "      <td>7.6</td>\n",
       "      <td>34.0</td>\n",
       "    </tr>\n",
       "    <tr>\n",
       "      <th>online_sec</th>\n",
       "      <td>7.3</td>\n",
       "      <td>36.0</td>\n",
       "    </tr>\n",
       "    <tr>\n",
       "      <th>start_month</th>\n",
       "      <td>7.2</td>\n",
       "      <td>412.0</td>\n",
       "    </tr>\n",
       "    <tr>\n",
       "      <th>multiple_lines</th>\n",
       "      <td>7.2</td>\n",
       "      <td>27.0</td>\n",
       "    </tr>\n",
       "    <tr>\n",
       "      <th>dependents</th>\n",
       "      <td>7.1</td>\n",
       "      <td>21.0</td>\n",
       "    </tr>\n",
       "    <tr>\n",
       "      <th>stream_tv</th>\n",
       "      <td>7.0</td>\n",
       "      <td>27.0</td>\n",
       "    </tr>\n",
       "    <tr>\n",
       "      <th>sum</th>\n",
       "      <td>6.9</td>\n",
       "      <td>46.0</td>\n",
       "    </tr>\n",
       "    <tr>\n",
       "      <th>method_bank</th>\n",
       "      <td>6.8</td>\n",
       "      <td>13.0</td>\n",
       "    </tr>\n",
       "    <tr>\n",
       "      <th>senior</th>\n",
       "      <td>6.7</td>\n",
       "      <td>21.0</td>\n",
       "    </tr>\n",
       "    <tr>\n",
       "      <th>partner</th>\n",
       "      <td>6.7</td>\n",
       "      <td>19.0</td>\n",
       "    </tr>\n",
       "    <tr>\n",
       "      <th>use_phone</th>\n",
       "      <td>6.5</td>\n",
       "      <td>16.0</td>\n",
       "    </tr>\n",
       "    <tr>\n",
       "      <th>online_backup</th>\n",
       "      <td>6.4</td>\n",
       "      <td>24.0</td>\n",
       "    </tr>\n",
       "    <tr>\n",
       "      <th>gender</th>\n",
       "      <td>6.3</td>\n",
       "      <td>29.0</td>\n",
       "    </tr>\n",
       "    <tr>\n",
       "      <th>device_protect</th>\n",
       "      <td>6.2</td>\n",
       "      <td>24.0</td>\n",
       "    </tr>\n",
       "    <tr>\n",
       "      <th>method_credit</th>\n",
       "      <td>5.4</td>\n",
       "      <td>12.0</td>\n",
       "    </tr>\n",
       "  </tbody>\n",
       "</table>\n",
       "</div>"
      ],
      "text/plain": [
       "                  gain  weight\n",
       "type_month        75.6    85.0\n",
       "internet_service  23.5    58.0\n",
       "total_time        13.4  1014.0\n",
       "method_elcheck    11.3    76.0\n",
       "use_internet       9.8    28.0\n",
       "type_year          8.9    53.0\n",
       "monthly_charges    8.8   454.0\n",
       "stream_movie       8.4    30.0\n",
       "tech_sup           8.2    48.0\n",
       "paperless          7.6    34.0\n",
       "online_sec         7.3    36.0\n",
       "start_month        7.2   412.0\n",
       "multiple_lines     7.2    27.0\n",
       "dependents         7.1    21.0\n",
       "stream_tv          7.0    27.0\n",
       "sum                6.9    46.0\n",
       "method_bank        6.8    13.0\n",
       "senior             6.7    21.0\n",
       "partner            6.7    19.0\n",
       "use_phone          6.5    16.0\n",
       "online_backup      6.4    24.0\n",
       "gender             6.3    29.0\n",
       "device_protect     6.2    24.0\n",
       "method_credit      5.4    12.0"
      ]
     },
     "execution_count": 133,
     "metadata": {},
     "output_type": "execute_result"
    }
   ],
   "source": [
    "x = model.get_booster().get_score(importance_type=\"weight\")\n",
    "x = pd.DataFrame(pd.Series(x).to_frame())\n",
    "y = model.get_booster().get_score(importance_type=\"gain\")\n",
    "x['gain'] = pd.DataFrame(pd.Series(y).to_frame())\n",
    "x['weight'] = x[0]\n",
    "x['gain']= round(x['gain'], 1)\n",
    "x=x.drop(0, axis=1)\n",
    "x.sort_values(by=['gain','weight'], ascending=False)"
   ]
  },
  {
   "cell_type": "markdown",
   "id": "0b2a019b",
   "metadata": {},
   "source": [
    "# _Final results and conslusions"
   ]
  },
  {
   "cell_type": "markdown",
   "id": "9ff81df8",
   "metadata": {},
   "source": [
    "**Conclusions**\n",
    "\n",
    "1. Final model reaches required level of accuracy. On test subsample it provides around 81% of right answers. \n",
    "2. The model has higher recall then precision. So it's better at spotting people wo can potentially leave but has a bit higher rate of false positives. In situations where retaining new client is cheaper than finding new one - it's a good trade off.\n",
    "3. The idea to use modified loss functions could be used later - right now the task was focused primaliry on correctly identyfing clients who can potentially cancel\n"
   ]
  }
 ],
 "metadata": {
  "ExecuteTimeLog": [
   {
    "duration": 1550,
    "start_time": "2021-10-30T09:07:24.284Z"
   },
   {
    "duration": 3,
    "start_time": "2021-10-30T09:07:25.835Z"
   },
   {
    "duration": 2799,
    "start_time": "2021-10-30T09:07:25.840Z"
   },
   {
    "duration": 97,
    "start_time": "2021-10-30T09:07:39.834Z"
   },
   {
    "duration": 18,
    "start_time": "2021-10-30T09:08:20.825Z"
   },
   {
    "duration": 10,
    "start_time": "2021-10-30T09:08:21.338Z"
   },
   {
    "duration": 13,
    "start_time": "2021-10-30T09:08:22.452Z"
   },
   {
    "duration": 7,
    "start_time": "2021-10-30T09:08:23.140Z"
   },
   {
    "duration": 13,
    "start_time": "2021-10-30T09:08:25.623Z"
   },
   {
    "duration": 14,
    "start_time": "2021-10-30T09:08:25.637Z"
   },
   {
    "duration": 9,
    "start_time": "2021-10-30T09:08:26.311Z"
   },
   {
    "duration": 8,
    "start_time": "2021-10-30T09:08:26.808Z"
   },
   {
    "duration": 11,
    "start_time": "2021-10-30T09:08:57.202Z"
   },
   {
    "duration": 3,
    "start_time": "2021-10-30T09:08:57.885Z"
   },
   {
    "duration": 7,
    "start_time": "2021-10-30T09:08:58.369Z"
   },
   {
    "duration": 13,
    "start_time": "2021-10-30T09:08:58.591Z"
   },
   {
    "duration": 14,
    "start_time": "2021-10-30T09:09:00.084Z"
   },
   {
    "duration": 22,
    "start_time": "2021-10-30T09:09:00.267Z"
   },
   {
    "duration": 12,
    "start_time": "2021-10-30T09:09:00.798Z"
   },
   {
    "duration": 18,
    "start_time": "2021-10-30T09:09:02.267Z"
   },
   {
    "duration": 43,
    "start_time": "2021-10-30T09:09:03.095Z"
   },
   {
    "duration": 20,
    "start_time": "2021-10-30T09:09:04.382Z"
   },
   {
    "duration": 15,
    "start_time": "2021-10-30T09:09:04.564Z"
   },
   {
    "duration": 12,
    "start_time": "2021-10-30T09:09:04.777Z"
   },
   {
    "duration": 14,
    "start_time": "2021-10-30T09:09:05.403Z"
   },
   {
    "duration": 13,
    "start_time": "2021-10-30T09:09:05.858Z"
   },
   {
    "duration": 10,
    "start_time": "2021-10-30T09:09:07.110Z"
   },
   {
    "duration": 6,
    "start_time": "2021-10-30T09:09:07.341Z"
   },
   {
    "duration": 10,
    "start_time": "2021-10-30T09:09:07.548Z"
   },
   {
    "duration": 20,
    "start_time": "2021-10-30T09:09:07.755Z"
   },
   {
    "duration": 6,
    "start_time": "2021-10-30T09:09:08.952Z"
   },
   {
    "duration": 13,
    "start_time": "2021-10-30T09:09:09.404Z"
   },
   {
    "duration": 9,
    "start_time": "2021-10-30T09:09:09.780Z"
   },
   {
    "duration": 4,
    "start_time": "2021-10-30T09:09:10.525Z"
   },
   {
    "duration": 6,
    "start_time": "2021-10-30T09:09:10.731Z"
   },
   {
    "duration": 4,
    "start_time": "2021-10-30T09:09:11.342Z"
   },
   {
    "duration": 9,
    "start_time": "2021-10-30T09:09:11.534Z"
   },
   {
    "duration": 17,
    "start_time": "2021-10-30T09:09:11.884Z"
   },
   {
    "duration": 7,
    "start_time": "2021-10-30T09:09:12.072Z"
   },
   {
    "duration": 2,
    "start_time": "2021-10-30T09:09:13.613Z"
   },
   {
    "duration": 28,
    "start_time": "2021-10-30T09:09:13.781Z"
   },
   {
    "duration": 12,
    "start_time": "2021-10-30T09:09:13.956Z"
   },
   {
    "duration": 4,
    "start_time": "2021-10-30T09:09:14.320Z"
   },
   {
    "duration": 6,
    "start_time": "2021-10-30T09:09:14.510Z"
   },
   {
    "duration": 5,
    "start_time": "2021-10-30T09:09:15.130Z"
   },
   {
    "duration": 50,
    "start_time": "2021-10-30T09:09:15.320Z"
   },
   {
    "duration": 18,
    "start_time": "2021-10-30T09:10:56.477Z"
   },
   {
    "duration": 16,
    "start_time": "2021-10-30T09:13:15.557Z"
   },
   {
    "duration": 14,
    "start_time": "2021-10-30T09:13:16.103Z"
   },
   {
    "duration": 149,
    "start_time": "2021-10-30T09:13:16.746Z"
   },
   {
    "duration": 12,
    "start_time": "2021-10-30T09:13:17.308Z"
   },
   {
    "duration": 25,
    "start_time": "2021-10-30T09:13:17.656Z"
   },
   {
    "duration": 36,
    "start_time": "2021-10-30T09:13:18.772Z"
   },
   {
    "duration": 9,
    "start_time": "2021-10-30T09:13:19.120Z"
   },
   {
    "duration": 25,
    "start_time": "2021-10-30T09:13:19.826Z"
   },
   {
    "duration": 47,
    "start_time": "2021-10-30T09:13:20.383Z"
   },
   {
    "duration": 25,
    "start_time": "2021-10-30T09:13:20.591Z"
   },
   {
    "duration": 58,
    "start_time": "2021-10-30T09:13:20.786Z"
   },
   {
    "duration": 8,
    "start_time": "2021-10-30T09:13:21.256Z"
   },
   {
    "duration": 317,
    "start_time": "2021-10-30T09:13:21.700Z"
   },
   {
    "duration": 261,
    "start_time": "2021-10-30T09:13:22.019Z"
   },
   {
    "duration": 8,
    "start_time": "2021-10-30T09:13:22.318Z"
   },
   {
    "duration": 9,
    "start_time": "2021-10-30T09:13:22.775Z"
   },
   {
    "duration": 4,
    "start_time": "2021-10-30T09:13:22.983Z"
   },
   {
    "duration": 10,
    "start_time": "2021-10-30T09:13:23.152Z"
   },
   {
    "duration": 316,
    "start_time": "2021-10-30T09:13:23.342Z"
   },
   {
    "duration": 77,
    "start_time": "2021-10-30T09:13:23.661Z"
   },
   {
    "duration": 331,
    "start_time": "2021-10-30T09:13:23.744Z"
   },
   {
    "duration": 7,
    "start_time": "2021-10-30T09:13:24.367Z"
   },
   {
    "duration": 17,
    "start_time": "2021-10-30T09:13:24.590Z"
   },
   {
    "duration": 261,
    "start_time": "2021-10-30T09:13:24.970Z"
   },
   {
    "duration": 22,
    "start_time": "2021-10-30T09:28:16.400Z"
   },
   {
    "duration": 4,
    "start_time": "2021-10-30T09:28:17.424Z"
   },
   {
    "duration": 20,
    "start_time": "2021-10-30T09:28:30.749Z"
   },
   {
    "duration": 5,
    "start_time": "2021-10-30T09:28:31.262Z"
   },
   {
    "duration": 5,
    "start_time": "2021-10-30T09:28:56.378Z"
   },
   {
    "duration": 14,
    "start_time": "2021-10-30T09:28:56.901Z"
   },
   {
    "duration": 39,
    "start_time": "2021-10-30T09:29:07.819Z"
   },
   {
    "duration": 6,
    "start_time": "2021-10-30T09:31:01.500Z"
   },
   {
    "duration": 6,
    "start_time": "2021-10-30T09:31:01.929Z"
   },
   {
    "duration": 4,
    "start_time": "2021-10-30T09:31:02.765Z"
   },
   {
    "duration": 5,
    "start_time": "2021-10-30T09:31:04.019Z"
   },
   {
    "duration": 212,
    "start_time": "2021-10-30T09:31:07.695Z"
   },
   {
    "duration": 15,
    "start_time": "2021-10-30T09:31:23.299Z"
   },
   {
    "duration": 4,
    "start_time": "2021-10-30T09:31:23.854Z"
   },
   {
    "duration": 260,
    "start_time": "2021-10-30T09:31:24.248Z"
   },
   {
    "duration": 588494,
    "start_time": "2021-10-30T09:31:24.994Z"
   },
   {
    "duration": 3,
    "start_time": "2021-10-30T09:41:13.489Z"
   },
   {
    "duration": 13,
    "start_time": "2021-10-30T09:41:13.494Z"
   },
   {
    "duration": 430,
    "start_time": "2021-10-30T09:41:13.509Z"
   },
   {
    "duration": 1294,
    "start_time": "2021-10-30T09:41:13.941Z"
   },
   {
    "duration": 440,
    "start_time": "2021-10-30T09:41:15.237Z"
   },
   {
    "duration": 8111,
    "start_time": "2021-10-30T09:41:15.679Z"
   },
   {
    "duration": 16,
    "start_time": "2021-10-30T09:41:23.793Z"
   },
   {
    "duration": 302,
    "start_time": "2021-10-30T09:41:23.811Z"
   },
   {
    "duration": 491,
    "start_time": "2021-10-30T09:41:24.116Z"
   },
   {
    "duration": 3,
    "start_time": "2021-10-30T09:41:24.610Z"
   },
   {
    "duration": 9326587,
    "start_time": "2021-10-30T09:41:24.615Z"
   },
   {
    "duration": 1473,
    "start_time": "2021-10-30T12:16:49.732Z"
   },
   {
    "duration": 1466,
    "start_time": "2021-10-30T12:16:49.741Z"
   },
   {
    "duration": 1453,
    "start_time": "2021-10-30T12:16:49.756Z"
   },
   {
    "duration": 1446,
    "start_time": "2021-10-30T12:16:49.765Z"
   },
   {
    "duration": 1437,
    "start_time": "2021-10-30T12:16:49.775Z"
   },
   {
    "duration": 1431,
    "start_time": "2021-10-30T12:16:49.782Z"
   },
   {
    "duration": 1423,
    "start_time": "2021-10-30T12:16:49.792Z"
   },
   {
    "duration": 1416,
    "start_time": "2021-10-30T12:16:49.800Z"
   },
   {
    "duration": 1409,
    "start_time": "2021-10-30T12:16:49.809Z"
   },
   {
    "duration": 1392,
    "start_time": "2021-10-30T12:16:49.828Z"
   },
   {
    "duration": 1380,
    "start_time": "2021-10-30T12:16:49.841Z"
   },
   {
    "duration": 1372,
    "start_time": "2021-10-30T12:16:49.851Z"
   },
   {
    "duration": 1365,
    "start_time": "2021-10-30T12:16:49.860Z"
   },
   {
    "duration": 1358,
    "start_time": "2021-10-30T12:16:49.868Z"
   },
   {
    "duration": 1351,
    "start_time": "2021-10-30T12:16:49.877Z"
   },
   {
    "duration": 1345,
    "start_time": "2021-10-30T12:16:49.884Z"
   },
   {
    "duration": 1335,
    "start_time": "2021-10-30T12:16:49.896Z"
   },
   {
    "duration": 1327,
    "start_time": "2021-10-30T12:16:49.905Z"
   },
   {
    "duration": 1321,
    "start_time": "2021-10-30T12:16:49.913Z"
   },
   {
    "duration": 1315,
    "start_time": "2021-10-30T12:16:49.920Z"
   },
   {
    "duration": 1299,
    "start_time": "2021-10-30T12:16:49.938Z"
   },
   {
    "duration": 1293,
    "start_time": "2021-10-30T12:16:49.945Z"
   },
   {
    "duration": 9,
    "start_time": "2021-10-30T12:17:49.207Z"
   },
   {
    "duration": 25,
    "start_time": "2021-10-30T12:17:49.918Z"
   },
   {
    "duration": 22,
    "start_time": "2021-10-30T12:17:50.607Z"
   },
   {
    "duration": 5,
    "start_time": "2021-10-30T12:17:51.216Z"
   },
   {
    "duration": 5,
    "start_time": "2021-10-30T12:17:53.762Z"
   },
   {
    "duration": 15,
    "start_time": "2021-10-30T12:17:54.228Z"
   },
   {
    "duration": 17,
    "start_time": "2021-10-30T12:17:56.604Z"
   },
   {
    "duration": 4,
    "start_time": "2021-10-30T12:17:57.087Z"
   },
   {
    "duration": 1468,
    "start_time": "2021-10-30T12:18:00.514Z"
   },
   {
    "duration": 414,
    "start_time": "2021-10-30T12:18:02.869Z"
   },
   {
    "duration": 5133,
    "start_time": "2021-10-30T12:18:03.894Z"
   },
   {
    "duration": 305,
    "start_time": "2021-10-30T12:18:09.029Z"
   },
   {
    "duration": 5425,
    "start_time": "2021-10-30T12:18:42.417Z"
   },
   {
    "duration": 296,
    "start_time": "2021-10-30T12:18:47.844Z"
   },
   {
    "duration": 75,
    "start_time": "2021-10-30T12:18:48.142Z"
   },
   {
    "duration": 188,
    "start_time": "2021-10-30T12:18:48.219Z"
   },
   {
    "duration": 207,
    "start_time": "2021-10-30T12:18:48.408Z"
   },
   {
    "duration": 31,
    "start_time": "2021-10-30T12:19:35.254Z"
   },
   {
    "duration": 1518,
    "start_time": "2021-10-30T12:54:32.580Z"
   },
   {
    "duration": 4,
    "start_time": "2021-10-30T12:54:34.101Z"
   },
   {
    "duration": 117,
    "start_time": "2021-10-30T12:54:34.108Z"
   },
   {
    "duration": 27,
    "start_time": "2021-10-30T12:54:34.228Z"
   },
   {
    "duration": 11,
    "start_time": "2021-10-30T12:54:34.258Z"
   },
   {
    "duration": 19,
    "start_time": "2021-10-30T12:54:34.272Z"
   },
   {
    "duration": 39,
    "start_time": "2021-10-30T12:54:34.293Z"
   },
   {
    "duration": 20,
    "start_time": "2021-10-30T12:54:34.336Z"
   },
   {
    "duration": 10,
    "start_time": "2021-10-30T12:54:34.359Z"
   },
   {
    "duration": 13,
    "start_time": "2021-10-30T12:54:34.371Z"
   },
   {
    "duration": 43,
    "start_time": "2021-10-30T12:54:34.386Z"
   },
   {
    "duration": 16,
    "start_time": "2021-10-30T12:54:34.431Z"
   },
   {
    "duration": 3,
    "start_time": "2021-10-30T12:54:34.450Z"
   },
   {
    "duration": 13,
    "start_time": "2021-10-30T12:54:34.456Z"
   },
   {
    "duration": 53,
    "start_time": "2021-10-30T12:54:34.471Z"
   },
   {
    "duration": 20,
    "start_time": "2021-10-30T12:54:34.526Z"
   },
   {
    "duration": 32,
    "start_time": "2021-10-30T12:54:34.549Z"
   },
   {
    "duration": 40,
    "start_time": "2021-10-30T12:54:34.584Z"
   },
   {
    "duration": 25,
    "start_time": "2021-10-30T12:54:34.626Z"
   },
   {
    "duration": 69,
    "start_time": "2021-10-30T12:54:34.654Z"
   },
   {
    "duration": 21,
    "start_time": "2021-10-30T12:54:34.726Z"
   },
   {
    "duration": 26,
    "start_time": "2021-10-30T12:54:34.749Z"
   },
   {
    "duration": 41,
    "start_time": "2021-10-30T12:54:34.781Z"
   },
   {
    "duration": 16,
    "start_time": "2021-10-30T12:54:34.826Z"
   },
   {
    "duration": 16,
    "start_time": "2021-10-30T12:54:34.844Z"
   },
   {
    "duration": 12,
    "start_time": "2021-10-30T12:54:34.862Z"
   },
   {
    "duration": 8,
    "start_time": "2021-10-30T12:54:34.876Z"
   },
   {
    "duration": 45,
    "start_time": "2021-10-30T12:54:34.886Z"
   },
   {
    "duration": 30,
    "start_time": "2021-10-30T12:54:34.934Z"
   },
   {
    "duration": 7,
    "start_time": "2021-10-30T12:54:34.967Z"
   },
   {
    "duration": 17,
    "start_time": "2021-10-30T12:54:34.976Z"
   },
   {
    "duration": 34,
    "start_time": "2021-10-30T12:54:34.995Z"
   },
   {
    "duration": 5,
    "start_time": "2021-10-30T12:54:35.031Z"
   },
   {
    "duration": 10,
    "start_time": "2021-10-30T12:54:35.038Z"
   },
   {
    "duration": 31,
    "start_time": "2021-10-30T12:54:35.051Z"
   },
   {
    "duration": 14,
    "start_time": "2021-10-30T12:54:35.085Z"
   },
   {
    "duration": 30,
    "start_time": "2021-10-30T12:54:35.102Z"
   },
   {
    "duration": 24,
    "start_time": "2021-10-30T12:54:35.134Z"
   },
   {
    "duration": 10,
    "start_time": "2021-10-30T12:54:35.161Z"
   },
   {
    "duration": 4,
    "start_time": "2021-10-30T12:54:35.173Z"
   },
   {
    "duration": 74,
    "start_time": "2021-10-30T12:54:35.179Z"
   },
   {
    "duration": 16,
    "start_time": "2021-10-30T12:54:35.255Z"
   },
   {
    "duration": 5,
    "start_time": "2021-10-30T12:54:35.274Z"
   },
   {
    "duration": 14,
    "start_time": "2021-10-30T12:54:35.281Z"
   },
   {
    "duration": 29,
    "start_time": "2021-10-30T12:54:35.297Z"
   },
   {
    "duration": 70,
    "start_time": "2021-10-30T12:54:35.329Z"
   },
   {
    "duration": 24,
    "start_time": "2021-10-30T12:54:35.421Z"
   },
   {
    "duration": 21,
    "start_time": "2021-10-30T12:54:35.448Z"
   },
   {
    "duration": 275,
    "start_time": "2021-10-30T12:54:35.472Z"
   },
   {
    "duration": 14,
    "start_time": "2021-10-30T12:54:35.749Z"
   },
   {
    "duration": 62,
    "start_time": "2021-10-30T12:54:35.765Z"
   },
   {
    "duration": 53,
    "start_time": "2021-10-30T12:54:35.830Z"
   },
   {
    "duration": 12,
    "start_time": "2021-10-30T12:54:35.885Z"
   },
   {
    "duration": 53,
    "start_time": "2021-10-30T12:54:35.899Z"
   },
   {
    "duration": 90,
    "start_time": "2021-10-30T12:54:35.955Z"
   },
   {
    "duration": 40,
    "start_time": "2021-10-30T12:54:36.048Z"
   },
   {
    "duration": 111,
    "start_time": "2021-10-30T12:54:36.091Z"
   },
   {
    "duration": 23,
    "start_time": "2021-10-30T12:54:36.205Z"
   },
   {
    "duration": 477,
    "start_time": "2021-10-30T12:54:36.231Z"
   },
   {
    "duration": 398,
    "start_time": "2021-10-30T12:54:36.710Z"
   },
   {
    "duration": 14,
    "start_time": "2021-10-30T12:54:37.111Z"
   },
   {
    "duration": 12,
    "start_time": "2021-10-30T12:54:37.127Z"
   },
   {
    "duration": 3,
    "start_time": "2021-10-30T12:54:37.142Z"
   },
   {
    "duration": 10,
    "start_time": "2021-10-30T12:54:37.147Z"
   },
   {
    "duration": 362,
    "start_time": "2021-10-30T12:54:37.160Z"
   },
   {
    "duration": 69,
    "start_time": "2021-10-30T12:54:37.524Z"
   },
   {
    "duration": 493,
    "start_time": "2021-10-30T12:54:37.596Z"
   },
   {
    "duration": 24,
    "start_time": "2021-10-30T12:54:38.098Z"
   },
   {
    "duration": 22,
    "start_time": "2021-10-30T12:54:38.126Z"
   },
   {
    "duration": 498,
    "start_time": "2021-10-30T12:54:38.150Z"
   },
   {
    "duration": 29,
    "start_time": "2021-10-30T12:54:38.651Z"
   },
   {
    "duration": 4,
    "start_time": "2021-10-30T12:54:38.683Z"
   },
   {
    "duration": 52,
    "start_time": "2021-10-30T12:54:38.689Z"
   },
   {
    "duration": 5,
    "start_time": "2021-10-30T12:54:38.743Z"
   },
   {
    "duration": 8,
    "start_time": "2021-10-30T12:54:38.750Z"
   },
   {
    "duration": 21,
    "start_time": "2021-10-30T12:54:38.760Z"
   },
   {
    "duration": 69,
    "start_time": "2021-10-30T12:54:38.784Z"
   },
   {
    "duration": 7,
    "start_time": "2021-10-30T12:54:38.855Z"
   },
   {
    "duration": 6,
    "start_time": "2021-10-30T12:54:38.864Z"
   },
   {
    "duration": 8,
    "start_time": "2021-10-30T12:54:38.872Z"
   },
   {
    "duration": 8,
    "start_time": "2021-10-30T12:54:38.882Z"
   },
   {
    "duration": 337,
    "start_time": "2021-10-30T12:54:38.893Z"
   },
   {
    "duration": 109,
    "start_time": "2021-10-30T12:54:39.324Z"
   },
   {
    "duration": 7,
    "start_time": "2021-10-30T12:54:39.435Z"
   },
   {
    "duration": 289,
    "start_time": "2021-10-30T12:54:39.444Z"
   },
   {
    "duration": 227440,
    "start_time": "2021-10-30T12:54:39.825Z"
   },
   {
    "duration": 1084,
    "start_time": "2021-10-30T12:58:26.185Z"
   },
   {
    "duration": 1060,
    "start_time": "2021-10-30T12:58:26.211Z"
   },
   {
    "duration": 1045,
    "start_time": "2021-10-30T12:58:26.228Z"
   },
   {
    "duration": 1023,
    "start_time": "2021-10-30T12:58:26.252Z"
   },
   {
    "duration": 1009,
    "start_time": "2021-10-30T12:58:26.269Z"
   },
   {
    "duration": 990,
    "start_time": "2021-10-30T12:58:26.290Z"
   },
   {
    "duration": 973,
    "start_time": "2021-10-30T12:58:26.309Z"
   },
   {
    "duration": 959,
    "start_time": "2021-10-30T12:58:26.325Z"
   },
   {
    "duration": 936,
    "start_time": "2021-10-30T12:58:26.350Z"
   },
   {
    "duration": 922,
    "start_time": "2021-10-30T12:58:26.367Z"
   },
   {
    "duration": 823,
    "start_time": "2021-10-30T12:58:26.468Z"
   },
   {
    "duration": 803,
    "start_time": "2021-10-30T12:58:26.490Z"
   },
   {
    "duration": 816,
    "start_time": "2021-10-30T12:58:26.505Z"
   },
   {
    "duration": 797,
    "start_time": "2021-10-30T12:58:26.526Z"
   },
   {
    "duration": 783,
    "start_time": "2021-10-30T12:58:26.543Z"
   },
   {
    "duration": 770,
    "start_time": "2021-10-30T12:58:26.558Z"
   },
   {
    "duration": 754,
    "start_time": "2021-10-30T12:58:26.576Z"
   },
   {
    "duration": 631,
    "start_time": "2021-10-30T12:58:26.702Z"
   },
   {
    "duration": 613,
    "start_time": "2021-10-30T12:58:26.722Z"
   },
   {
    "duration": 600,
    "start_time": "2021-10-30T12:58:26.737Z"
   },
   {
    "duration": 586,
    "start_time": "2021-10-30T12:58:26.753Z"
   },
   {
    "duration": 574,
    "start_time": "2021-10-30T12:58:26.768Z"
   },
   {
    "duration": 555,
    "start_time": "2021-10-30T12:58:26.789Z"
   },
   {
    "duration": 541,
    "start_time": "2021-10-30T12:58:26.805Z"
   },
   {
    "duration": 521,
    "start_time": "2021-10-30T12:58:26.827Z"
   },
   {
    "duration": 503,
    "start_time": "2021-10-30T12:58:26.847Z"
   },
   {
    "duration": 485,
    "start_time": "2021-10-30T12:58:26.868Z"
   },
   {
    "duration": 466,
    "start_time": "2021-10-30T12:58:26.889Z"
   },
   {
    "duration": 446,
    "start_time": "2021-10-30T12:58:26.911Z"
   },
   {
    "duration": 422,
    "start_time": "2021-10-30T12:58:26.937Z"
   },
   {
    "duration": 404,
    "start_time": "2021-10-30T12:58:26.958Z"
   },
   {
    "duration": 449,
    "start_time": "2021-10-30T12:58:26.974Z"
   },
   {
    "duration": 435,
    "start_time": "2021-10-30T12:58:26.990Z"
   },
   {
    "duration": 423,
    "start_time": "2021-10-30T12:58:27.004Z"
   },
   {
    "duration": 14078,
    "start_time": "2021-10-30T12:58:35.080Z"
   },
   {
    "duration": 4,
    "start_time": "2021-10-30T12:58:53.453Z"
   },
   {
    "duration": 6,
    "start_time": "2021-10-30T12:58:53.677Z"
   },
   {
    "duration": 669,
    "start_time": "2021-10-30T12:58:53.907Z"
   },
   {
    "duration": 1843,
    "start_time": "2021-10-30T12:58:57.774Z"
   },
   {
    "duration": 606,
    "start_time": "2021-10-30T12:58:59.619Z"
   },
   {
    "duration": 691,
    "start_time": "2021-10-30T12:59:02.917Z"
   },
   {
    "duration": 10125,
    "start_time": "2021-10-30T12:59:03.610Z"
   },
   {
    "duration": 4,
    "start_time": "2021-10-30T12:59:13.738Z"
   },
   {
    "duration": 387,
    "start_time": "2021-10-30T12:59:13.744Z"
   },
   {
    "duration": 376,
    "start_time": "2021-10-30T12:59:22.449Z"
   },
   {
    "duration": 4,
    "start_time": "2021-10-30T12:59:28.267Z"
   },
   {
    "duration": 285,
    "start_time": "2021-10-30T12:59:29.028Z"
   },
   {
    "duration": 1098,
    "start_time": "2021-10-30T12:59:41.406Z"
   },
   {
    "duration": 70574,
    "start_time": "2021-10-30T12:59:49.560Z"
   },
   {
    "duration": 4,
    "start_time": "2021-10-30T13:02:16.499Z"
   },
   {
    "duration": 6,
    "start_time": "2021-10-30T13:02:17.246Z"
   },
   {
    "duration": 132,
    "start_time": "2021-10-30T13:02:18.426Z"
   },
   {
    "duration": 5872,
    "start_time": "2021-10-30T13:02:22.461Z"
   },
   {
    "duration": 495,
    "start_time": "2021-10-30T13:02:28.335Z"
   },
   {
    "duration": 11,
    "start_time": "2021-10-30T13:02:33.850Z"
   },
   {
    "duration": 40,
    "start_time": "2021-10-30T13:02:34.313Z"
   },
   {
    "duration": 29,
    "start_time": "2021-10-30T13:02:34.356Z"
   },
   {
    "duration": 6,
    "start_time": "2021-10-30T13:02:34.389Z"
   },
   {
    "duration": 49,
    "start_time": "2021-10-30T13:02:34.476Z"
   },
   {
    "duration": 6,
    "start_time": "2021-10-30T13:02:34.830Z"
   },
   {
    "duration": 22,
    "start_time": "2021-10-30T13:02:35.058Z"
   },
   {
    "duration": 23,
    "start_time": "2021-10-30T13:02:36.892Z"
   },
   {
    "duration": 7,
    "start_time": "2021-10-30T13:02:37.057Z"
   },
   {
    "duration": 2394,
    "start_time": "2021-10-30T13:02:37.626Z"
   },
   {
    "duration": 612,
    "start_time": "2021-10-30T13:02:40.024Z"
   },
   {
    "duration": 6886,
    "start_time": "2021-10-30T13:02:40.640Z"
   },
   {
    "duration": 402,
    "start_time": "2021-10-30T13:02:47.529Z"
   },
   {
    "duration": 6331,
    "start_time": "2021-10-30T13:02:53.899Z"
   },
   {
    "duration": 317,
    "start_time": "2021-10-30T13:03:00.232Z"
   },
   {
    "duration": 78,
    "start_time": "2021-10-30T13:03:00.551Z"
   },
   {
    "duration": 201,
    "start_time": "2021-10-30T13:03:00.632Z"
   },
   {
    "duration": 350,
    "start_time": "2021-10-30T13:03:00.835Z"
   },
   {
    "duration": 56,
    "start_time": "2021-10-30T13:03:31.530Z"
   },
   {
    "duration": 65,
    "start_time": "2021-10-30T13:03:54.786Z"
   },
   {
    "duration": 20,
    "start_time": "2021-10-30T13:05:42.313Z"
   },
   {
    "duration": 52,
    "start_time": "2021-10-30T13:05:44.478Z"
   },
   {
    "duration": 4,
    "start_time": "2021-10-30T13:09:08.722Z"
   },
   {
    "duration": 1811,
    "start_time": "2021-10-30T13:09:25.026Z"
   },
   {
    "duration": 55,
    "start_time": "2021-10-30T13:09:43.628Z"
   },
   {
    "duration": 12,
    "start_time": "2021-10-30T13:09:52.095Z"
   },
   {
    "duration": 58,
    "start_time": "2021-10-30T13:10:16.008Z"
   },
   {
    "duration": 280,
    "start_time": "2021-10-30T13:10:29.931Z"
   },
   {
    "duration": 5,
    "start_time": "2021-10-30T13:11:39.113Z"
   },
   {
    "duration": 357,
    "start_time": "2021-10-30T13:11:41.028Z"
   },
   {
    "duration": 4,
    "start_time": "2021-10-30T13:11:49.470Z"
   },
   {
    "duration": 260,
    "start_time": "2021-10-30T13:11:50.318Z"
   },
   {
    "duration": 4,
    "start_time": "2021-10-30T13:11:57.259Z"
   },
   {
    "duration": 257,
    "start_time": "2021-10-30T13:12:02.370Z"
   },
   {
    "duration": 5,
    "start_time": "2021-10-30T13:12:12.268Z"
   },
   {
    "duration": 261,
    "start_time": "2021-10-30T13:12:14.379Z"
   },
   {
    "duration": 5,
    "start_time": "2021-10-30T13:12:57.566Z"
   },
   {
    "duration": 257,
    "start_time": "2021-10-30T13:12:59.268Z"
   },
   {
    "duration": 4,
    "start_time": "2021-10-30T13:13:21.746Z"
   },
   {
    "duration": 258,
    "start_time": "2021-10-30T13:13:23.210Z"
   },
   {
    "duration": 274,
    "start_time": "2021-10-30T13:18:55.723Z"
   },
   {
    "duration": 8,
    "start_time": "2021-10-30T13:19:16.221Z"
   },
   {
    "duration": 1460,
    "start_time": "2021-10-30T13:19:28.734Z"
   },
   {
    "duration": 8,
    "start_time": "2021-10-30T13:19:34.731Z"
   },
   {
    "duration": 271,
    "start_time": "2021-10-30T13:19:38.099Z"
   },
   {
    "duration": 7,
    "start_time": "2021-10-30T13:19:43.177Z"
   },
   {
    "duration": 35,
    "start_time": "2021-10-30T13:20:14.386Z"
   },
   {
    "duration": 29,
    "start_time": "2021-10-30T13:20:59.411Z"
   },
   {
    "duration": 5,
    "start_time": "2021-10-30T13:21:04.511Z"
   },
   {
    "duration": 35,
    "start_time": "2021-10-30T13:21:18.233Z"
   },
   {
    "duration": 6,
    "start_time": "2021-10-30T13:21:24.521Z"
   },
   {
    "duration": 31,
    "start_time": "2021-10-30T13:21:31.322Z"
   },
   {
    "duration": 6,
    "start_time": "2021-10-30T13:21:40.108Z"
   },
   {
    "duration": 35,
    "start_time": "2021-10-30T13:21:43.867Z"
   },
   {
    "duration": 171,
    "start_time": "2021-10-30T13:22:03.002Z"
   },
   {
    "duration": 29,
    "start_time": "2021-10-30T13:23:01.340Z"
   },
   {
    "duration": 116,
    "start_time": "2021-10-30T13:23:55.449Z"
   },
   {
    "duration": 100,
    "start_time": "2021-10-30T13:24:05.616Z"
   },
   {
    "duration": 99,
    "start_time": "2021-10-30T13:24:13.921Z"
   },
   {
    "duration": 98,
    "start_time": "2021-10-30T13:24:18.001Z"
   },
   {
    "duration": 20,
    "start_time": "2021-10-30T13:24:32.153Z"
   },
   {
    "duration": 5,
    "start_time": "2021-10-30T13:24:33.920Z"
   },
   {
    "duration": 264,
    "start_time": "2021-10-30T13:24:34.563Z"
   },
   {
    "duration": 30,
    "start_time": "2021-10-30T13:24:41.907Z"
   },
   {
    "duration": 108,
    "start_time": "2021-10-30T13:24:42.802Z"
   },
   {
    "duration": 97,
    "start_time": "2021-10-30T13:24:49.412Z"
   },
   {
    "duration": 103,
    "start_time": "2021-10-30T13:24:59.247Z"
   },
   {
    "duration": 98,
    "start_time": "2021-10-30T13:25:17.526Z"
   },
   {
    "duration": 96,
    "start_time": "2021-10-30T13:25:23.623Z"
   },
   {
    "duration": 103,
    "start_time": "2021-10-30T13:25:38.604Z"
   },
   {
    "duration": 332,
    "start_time": "2021-10-30T13:25:45.106Z"
   },
   {
    "duration": 100,
    "start_time": "2021-10-30T13:25:57.730Z"
   },
   {
    "duration": 97,
    "start_time": "2021-10-30T13:26:00.827Z"
   },
   {
    "duration": 103,
    "start_time": "2021-10-30T13:26:03.733Z"
   },
   {
    "duration": 9,
    "start_time": "2021-10-30T13:26:07.915Z"
   },
   {
    "duration": 17,
    "start_time": "2021-10-30T13:26:14.701Z"
   },
   {
    "duration": 19,
    "start_time": "2021-10-30T13:26:20.128Z"
   },
   {
    "duration": 17,
    "start_time": "2021-10-30T13:26:24.089Z"
   },
   {
    "duration": 11,
    "start_time": "2021-10-30T13:26:41.795Z"
   },
   {
    "duration": 11,
    "start_time": "2021-10-30T13:26:50.542Z"
   },
   {
    "duration": 6,
    "start_time": "2021-10-30T13:26:55.888Z"
   },
   {
    "duration": 294,
    "start_time": "2021-10-30T13:26:58.858Z"
   },
   {
    "duration": 6,
    "start_time": "2021-10-30T13:27:00.961Z"
   },
   {
    "duration": 4,
    "start_time": "2021-10-30T13:27:08.529Z"
   },
   {
    "duration": 48,
    "start_time": "2021-10-30T13:27:17.496Z"
   },
   {
    "duration": 382,
    "start_time": "2021-10-30T13:27:34.344Z"
   },
   {
    "duration": 29,
    "start_time": "2021-10-30T13:28:48.429Z"
   },
   {
    "duration": 9,
    "start_time": "2021-10-30T13:28:49.410Z"
   },
   {
    "duration": 106,
    "start_time": "2021-10-30T13:29:10.134Z"
   },
   {
    "duration": 5,
    "start_time": "2021-10-30T13:29:18.490Z"
   },
   {
    "duration": 4,
    "start_time": "2021-10-30T13:29:44.520Z"
   },
   {
    "duration": 167,
    "start_time": "2021-10-30T13:30:00.437Z"
   },
   {
    "duration": 20,
    "start_time": "2021-10-30T13:30:17.411Z"
   },
   {
    "duration": 7,
    "start_time": "2021-10-30T13:30:18.293Z"
   },
   {
    "duration": 4,
    "start_time": "2021-10-30T13:30:18.526Z"
   },
   {
    "duration": 97,
    "start_time": "2021-10-30T13:30:19.257Z"
   },
   {
    "duration": 4,
    "start_time": "2021-10-30T13:40:44.603Z"
   },
   {
    "duration": 288,
    "start_time": "2021-10-30T13:42:37.422Z"
   },
   {
    "duration": 10,
    "start_time": "2021-10-30T13:42:49.450Z"
   },
   {
    "duration": 5538,
    "start_time": "2021-10-30T13:42:53.800Z"
   },
   {
    "duration": 397,
    "start_time": "2021-10-30T13:42:59.341Z"
   },
   {
    "duration": 5977,
    "start_time": "2021-10-30T13:43:54.883Z"
   },
   {
    "duration": 321,
    "start_time": "2021-10-30T13:44:00.923Z"
   },
   {
    "duration": 4,
    "start_time": "2021-10-30T13:45:12.261Z"
   },
   {
    "duration": 10,
    "start_time": "2021-10-30T13:45:12.268Z"
   },
   {
    "duration": 5858,
    "start_time": "2021-10-30T13:45:12.281Z"
   },
   {
    "duration": 394,
    "start_time": "2021-10-30T13:45:18.142Z"
   },
   {
    "duration": 88,
    "start_time": "2021-10-30T13:45:32.055Z"
   },
   {
    "duration": 4,
    "start_time": "2021-10-30T13:45:41.942Z"
   },
   {
    "duration": 9,
    "start_time": "2021-10-30T13:45:44.852Z"
   },
   {
    "duration": 6160,
    "start_time": "2021-10-30T13:45:45.297Z"
   },
   {
    "duration": 400,
    "start_time": "2021-10-30T13:45:51.522Z"
   },
   {
    "duration": 4,
    "start_time": "2021-10-30T13:46:02.535Z"
   },
   {
    "duration": 9,
    "start_time": "2021-10-30T13:46:04.391Z"
   },
   {
    "duration": 6270,
    "start_time": "2021-10-30T13:46:05.761Z"
   },
   {
    "duration": 399,
    "start_time": "2021-10-30T13:46:12.034Z"
   },
   {
    "duration": 4,
    "start_time": "2021-10-30T13:49:20.649Z"
   },
   {
    "duration": 10,
    "start_time": "2021-10-30T13:49:21.700Z"
   },
   {
    "duration": 5895,
    "start_time": "2021-10-30T13:49:22.143Z"
   },
   {
    "duration": 394,
    "start_time": "2021-10-30T13:49:28.041Z"
   },
   {
    "duration": 3,
    "start_time": "2021-10-30T13:50:31.871Z"
   },
   {
    "duration": 6375,
    "start_time": "2021-10-30T13:50:50.578Z"
   },
   {
    "duration": 397,
    "start_time": "2021-10-30T13:50:56.955Z"
   },
   {
    "duration": 7,
    "start_time": "2021-10-30T13:51:47.918Z"
   },
   {
    "duration": 33,
    "start_time": "2021-10-30T13:52:30.922Z"
   },
   {
    "duration": 360,
    "start_time": "2021-10-30T13:52:46.277Z"
   },
   {
    "duration": 306,
    "start_time": "2021-10-30T13:54:01.556Z"
   },
   {
    "duration": 292,
    "start_time": "2021-10-30T13:54:06.507Z"
   },
   {
    "duration": 4,
    "start_time": "2021-10-30T13:54:30.902Z"
   },
   {
    "duration": 821,
    "start_time": "2021-10-30T13:54:34.331Z"
   },
   {
    "duration": 652,
    "start_time": "2021-10-30T13:54:56.297Z"
   },
   {
    "duration": 7,
    "start_time": "2021-10-30T13:55:18.978Z"
   },
   {
    "duration": 313,
    "start_time": "2021-10-30T13:55:47.863Z"
   },
   {
    "duration": 7,
    "start_time": "2021-10-30T13:55:48.920Z"
   },
   {
    "duration": 4,
    "start_time": "2021-10-30T13:56:10.772Z"
   },
   {
    "duration": 30,
    "start_time": "2021-10-30T13:56:44.076Z"
   },
   {
    "duration": 114,
    "start_time": "2021-10-30T13:56:47.819Z"
   },
   {
    "duration": 335,
    "start_time": "2021-10-30T13:56:51.108Z"
   },
   {
    "duration": 542,
    "start_time": "2021-10-30T13:57:01.910Z"
   },
   {
    "duration": 462,
    "start_time": "2021-10-30T13:57:31.331Z"
   },
   {
    "duration": 30,
    "start_time": "2021-10-30T13:58:44.316Z"
   },
   {
    "duration": 599,
    "start_time": "2021-10-30T13:58:49.314Z"
   },
   {
    "duration": 6611,
    "start_time": "2021-10-30T13:58:57.141Z"
   },
   {
    "duration": 611,
    "start_time": "2021-10-30T13:59:07.326Z"
   },
   {
    "duration": 455,
    "start_time": "2021-10-30T13:59:13.856Z"
   },
   {
    "duration": 28,
    "start_time": "2021-10-30T13:59:24.141Z"
   },
   {
    "duration": 7,
    "start_time": "2021-10-30T13:59:40.247Z"
   },
   {
    "duration": 47,
    "start_time": "2021-10-30T14:01:17.129Z"
   },
   {
    "duration": 341,
    "start_time": "2021-10-30T14:04:28.501Z"
   },
   {
    "duration": 38,
    "start_time": "2021-10-30T14:04:35.141Z"
   },
   {
    "duration": 37,
    "start_time": "2021-10-30T14:04:50.801Z"
   },
   {
    "duration": 45,
    "start_time": "2021-10-30T14:06:00.492Z"
   },
   {
    "duration": 7,
    "start_time": "2021-10-30T14:08:15.460Z"
   },
   {
    "duration": 671,
    "start_time": "2021-10-30T14:09:30.525Z"
   },
   {
    "duration": 31,
    "start_time": "2021-10-30T14:09:49.092Z"
   },
   {
    "duration": 295,
    "start_time": "2021-10-30T14:10:14.682Z"
   },
   {
    "duration": 352,
    "start_time": "2021-10-30T14:10:24.581Z"
   },
   {
    "duration": 323,
    "start_time": "2021-10-30T14:10:42.072Z"
   },
   {
    "duration": 35,
    "start_time": "2021-10-30T14:10:52.350Z"
   },
   {
    "duration": 30,
    "start_time": "2021-10-30T14:11:00.945Z"
   },
   {
    "duration": 395,
    "start_time": "2021-10-30T14:11:05.446Z"
   },
   {
    "duration": 5,
    "start_time": "2021-10-30T14:11:58.642Z"
   },
   {
    "duration": 10,
    "start_time": "2021-10-30T14:12:01.312Z"
   },
   {
    "duration": 40,
    "start_time": "2021-10-30T14:12:18.275Z"
   },
   {
    "duration": 289,
    "start_time": "2021-10-30T14:12:38.648Z"
   },
   {
    "duration": 293,
    "start_time": "2021-10-30T14:12:41.830Z"
   },
   {
    "duration": 13,
    "start_time": "2021-10-30T14:12:43.737Z"
   },
   {
    "duration": 328,
    "start_time": "2021-10-30T14:12:54.978Z"
   },
   {
    "duration": 39,
    "start_time": "2021-10-30T14:13:01.236Z"
   },
   {
    "duration": 30,
    "start_time": "2021-10-30T14:13:11.392Z"
   },
   {
    "duration": 466,
    "start_time": "2021-10-30T14:13:12.196Z"
   },
   {
    "duration": 745,
    "start_time": "2021-10-30T14:13:45.132Z"
   },
   {
    "duration": 744,
    "start_time": "2021-10-30T14:14:13.868Z"
   },
   {
    "duration": 783,
    "start_time": "2021-10-30T14:14:17.218Z"
   },
   {
    "duration": 530,
    "start_time": "2021-10-30T14:15:25.306Z"
   },
   {
    "duration": 1107,
    "start_time": "2021-10-30T14:15:32.558Z"
   },
   {
    "duration": 765,
    "start_time": "2021-10-30T14:15:45.343Z"
   },
   {
    "duration": 505,
    "start_time": "2021-10-30T14:15:54.142Z"
   },
   {
    "duration": 19,
    "start_time": "2021-10-30T14:17:12.447Z"
   },
   {
    "duration": 5,
    "start_time": "2021-10-30T14:17:13.474Z"
   },
   {
    "duration": 11,
    "start_time": "2021-10-30T14:17:14.022Z"
   },
   {
    "duration": 30,
    "start_time": "2021-10-30T14:17:28.137Z"
   },
   {
    "duration": 5,
    "start_time": "2021-10-30T14:17:29.342Z"
   },
   {
    "duration": 11,
    "start_time": "2021-10-30T14:17:30.379Z"
   },
   {
    "duration": 27,
    "start_time": "2021-10-30T14:18:43.360Z"
   },
   {
    "duration": 351,
    "start_time": "2021-10-30T14:19:19.926Z"
   },
   {
    "duration": 57,
    "start_time": "2021-10-30T14:19:31.414Z"
   },
   {
    "duration": 316,
    "start_time": "2021-10-30T14:19:49.368Z"
   },
   {
    "duration": 385,
    "start_time": "2021-10-30T14:20:04.489Z"
   },
   {
    "duration": 89,
    "start_time": "2021-10-30T14:20:15.006Z"
   },
   {
    "duration": 91,
    "start_time": "2021-10-30T14:20:34.176Z"
   },
   {
    "duration": 44,
    "start_time": "2021-10-30T14:20:39.458Z"
   },
   {
    "duration": 59,
    "start_time": "2021-10-30T14:20:52.964Z"
   },
   {
    "duration": 387,
    "start_time": "2021-10-30T14:21:26.869Z"
   },
   {
    "duration": 54,
    "start_time": "2021-10-30T14:21:29.786Z"
   },
   {
    "duration": 62,
    "start_time": "2021-10-30T14:21:31.264Z"
   },
   {
    "duration": 631,
    "start_time": "2021-10-30T14:21:56.314Z"
   },
   {
    "duration": 33,
    "start_time": "2021-10-30T14:21:56.948Z"
   },
   {
    "duration": 527,
    "start_time": "2021-10-30T14:21:56.984Z"
   },
   {
    "duration": 68,
    "start_time": "2021-10-30T14:21:57.515Z"
   },
   {
    "duration": 20,
    "start_time": "2021-10-30T14:21:58.166Z"
   },
   {
    "duration": 1536,
    "start_time": "2021-10-30T14:23:35.443Z"
   },
   {
    "duration": 3,
    "start_time": "2021-10-30T14:23:36.982Z"
   },
   {
    "duration": 119,
    "start_time": "2021-10-30T14:23:36.988Z"
   },
   {
    "duration": 28,
    "start_time": "2021-10-30T14:23:37.110Z"
   },
   {
    "duration": 14,
    "start_time": "2021-10-30T14:23:37.141Z"
   },
   {
    "duration": 24,
    "start_time": "2021-10-30T14:23:37.158Z"
   },
   {
    "duration": 47,
    "start_time": "2021-10-30T14:23:37.184Z"
   },
   {
    "duration": 20,
    "start_time": "2021-10-30T14:23:37.235Z"
   },
   {
    "duration": 13,
    "start_time": "2021-10-30T14:23:37.258Z"
   },
   {
    "duration": 50,
    "start_time": "2021-10-30T14:23:37.275Z"
   },
   {
    "duration": 12,
    "start_time": "2021-10-30T14:23:37.328Z"
   },
   {
    "duration": 17,
    "start_time": "2021-10-30T14:23:37.344Z"
   },
   {
    "duration": 4,
    "start_time": "2021-10-30T14:23:37.363Z"
   },
   {
    "duration": 57,
    "start_time": "2021-10-30T14:23:37.370Z"
   },
   {
    "duration": 29,
    "start_time": "2021-10-30T14:23:37.430Z"
   },
   {
    "duration": 27,
    "start_time": "2021-10-30T14:23:37.462Z"
   },
   {
    "duration": 59,
    "start_time": "2021-10-30T14:23:37.492Z"
   },
   {
    "duration": 17,
    "start_time": "2021-10-30T14:23:37.553Z"
   },
   {
    "duration": 54,
    "start_time": "2021-10-30T14:23:37.572Z"
   },
   {
    "duration": 54,
    "start_time": "2021-10-30T14:23:37.628Z"
   },
   {
    "duration": 43,
    "start_time": "2021-10-30T14:23:37.684Z"
   },
   {
    "duration": 20,
    "start_time": "2021-10-30T14:23:37.730Z"
   },
   {
    "duration": 14,
    "start_time": "2021-10-30T14:23:37.756Z"
   },
   {
    "duration": 56,
    "start_time": "2021-10-30T14:23:37.775Z"
   },
   {
    "duration": 20,
    "start_time": "2021-10-30T14:23:37.835Z"
   },
   {
    "duration": 15,
    "start_time": "2021-10-30T14:23:37.858Z"
   },
   {
    "duration": 47,
    "start_time": "2021-10-30T14:23:37.875Z"
   },
   {
    "duration": 13,
    "start_time": "2021-10-30T14:23:37.926Z"
   },
   {
    "duration": 36,
    "start_time": "2021-10-30T14:23:37.942Z"
   },
   {
    "duration": 15,
    "start_time": "2021-10-30T14:23:37.981Z"
   },
   {
    "duration": 40,
    "start_time": "2021-10-30T14:23:37.998Z"
   },
   {
    "duration": 12,
    "start_time": "2021-10-30T14:23:38.041Z"
   },
   {
    "duration": 6,
    "start_time": "2021-10-30T14:23:38.056Z"
   },
   {
    "duration": 9,
    "start_time": "2021-10-30T14:23:38.065Z"
   },
   {
    "duration": 60,
    "start_time": "2021-10-30T14:23:38.077Z"
   },
   {
    "duration": 7,
    "start_time": "2021-10-30T14:23:38.140Z"
   },
   {
    "duration": 16,
    "start_time": "2021-10-30T14:23:38.150Z"
   },
   {
    "duration": 63,
    "start_time": "2021-10-30T14:23:38.169Z"
   },
   {
    "duration": 9,
    "start_time": "2021-10-30T14:23:38.235Z"
   },
   {
    "duration": 3,
    "start_time": "2021-10-30T14:23:38.247Z"
   },
   {
    "duration": 70,
    "start_time": "2021-10-30T14:23:38.253Z"
   },
   {
    "duration": 17,
    "start_time": "2021-10-30T14:23:38.325Z"
   },
   {
    "duration": 6,
    "start_time": "2021-10-30T14:23:38.344Z"
   },
   {
    "duration": 11,
    "start_time": "2021-10-30T14:23:38.352Z"
   },
   {
    "duration": 8,
    "start_time": "2021-10-30T14:23:38.366Z"
   },
   {
    "duration": 108,
    "start_time": "2021-10-30T14:23:38.377Z"
   },
   {
    "duration": 37,
    "start_time": "2021-10-30T14:23:38.488Z"
   },
   {
    "duration": 20,
    "start_time": "2021-10-30T14:23:38.528Z"
   },
   {
    "duration": 276,
    "start_time": "2021-10-30T14:23:38.550Z"
   },
   {
    "duration": 15,
    "start_time": "2021-10-30T14:23:38.828Z"
   },
   {
    "duration": 38,
    "start_time": "2021-10-30T14:23:38.846Z"
   },
   {
    "duration": 88,
    "start_time": "2021-10-30T14:23:38.887Z"
   },
   {
    "duration": 12,
    "start_time": "2021-10-30T14:23:38.978Z"
   },
   {
    "duration": 58,
    "start_time": "2021-10-30T14:23:38.992Z"
   },
   {
    "duration": 94,
    "start_time": "2021-10-30T14:23:39.052Z"
   },
   {
    "duration": 45,
    "start_time": "2021-10-30T14:23:39.150Z"
   },
   {
    "duration": 129,
    "start_time": "2021-10-30T14:23:39.197Z"
   },
   {
    "duration": 10,
    "start_time": "2021-10-30T14:23:39.329Z"
   },
   {
    "duration": 513,
    "start_time": "2021-10-30T14:23:39.341Z"
   },
   {
    "duration": 413,
    "start_time": "2021-10-30T14:23:39.857Z"
   },
   {
    "duration": 11,
    "start_time": "2021-10-30T14:23:40.273Z"
   },
   {
    "duration": 11,
    "start_time": "2021-10-30T14:23:40.287Z"
   },
   {
    "duration": 4,
    "start_time": "2021-10-30T14:23:40.323Z"
   },
   {
    "duration": 11,
    "start_time": "2021-10-30T14:23:40.330Z"
   },
   {
    "duration": 378,
    "start_time": "2021-10-30T14:23:40.344Z"
   },
   {
    "duration": 74,
    "start_time": "2021-10-30T14:23:40.725Z"
   },
   {
    "duration": 426,
    "start_time": "2021-10-30T14:23:40.822Z"
   },
   {
    "duration": 8,
    "start_time": "2021-10-30T14:23:41.259Z"
   },
   {
    "duration": 25,
    "start_time": "2021-10-30T14:23:41.271Z"
   },
   {
    "duration": 403,
    "start_time": "2021-10-30T14:23:41.322Z"
   },
   {
    "duration": 45,
    "start_time": "2021-10-30T14:23:41.729Z"
   },
   {
    "duration": 7,
    "start_time": "2021-10-30T14:23:41.778Z"
   },
   {
    "duration": 64,
    "start_time": "2021-10-30T14:23:41.788Z"
   },
   {
    "duration": 6,
    "start_time": "2021-10-30T14:23:41.855Z"
   },
   {
    "duration": 8,
    "start_time": "2021-10-30T14:23:41.863Z"
   },
   {
    "duration": 21,
    "start_time": "2021-10-30T14:23:41.873Z"
   },
   {
    "duration": 42,
    "start_time": "2021-10-30T14:23:41.922Z"
   },
   {
    "duration": 7,
    "start_time": "2021-10-30T14:23:41.966Z"
   },
   {
    "duration": 7,
    "start_time": "2021-10-30T14:23:41.975Z"
   },
   {
    "duration": 40,
    "start_time": "2021-10-30T14:23:41.986Z"
   },
   {
    "duration": 8,
    "start_time": "2021-10-30T14:23:42.028Z"
   },
   {
    "duration": 390,
    "start_time": "2021-10-30T14:23:42.038Z"
   },
   {
    "duration": 109,
    "start_time": "2021-10-30T14:23:42.431Z"
   },
   {
    "duration": 5,
    "start_time": "2021-10-30T14:23:42.543Z"
   },
   {
    "duration": 475,
    "start_time": "2021-10-30T14:23:42.550Z"
   },
   {
    "duration": 13993,
    "start_time": "2021-10-30T14:23:43.030Z"
   },
   {
    "duration": 3,
    "start_time": "2021-10-30T14:23:57.026Z"
   },
   {
    "duration": 14,
    "start_time": "2021-10-30T14:23:57.032Z"
   },
   {
    "duration": 748,
    "start_time": "2021-10-30T14:23:57.048Z"
   },
   {
    "duration": 2183,
    "start_time": "2021-10-30T14:23:57.799Z"
   },
   {
    "duration": 617,
    "start_time": "2021-10-30T14:23:59.984Z"
   },
   {
    "duration": 10129,
    "start_time": "2021-10-30T14:24:00.604Z"
   },
   {
    "duration": 5,
    "start_time": "2021-10-30T14:24:10.736Z"
   },
   {
    "duration": 388,
    "start_time": "2021-10-30T14:24:10.744Z"
   },
   {
    "duration": 497,
    "start_time": "2021-10-30T14:24:11.135Z"
   },
   {
    "duration": 4,
    "start_time": "2021-10-30T14:24:11.724Z"
   },
   {
    "duration": 114403,
    "start_time": "2021-10-30T14:24:11.732Z"
   },
   {
    "duration": 4,
    "start_time": "2021-10-30T14:26:06.138Z"
   },
   {
    "duration": 10,
    "start_time": "2021-10-30T14:26:06.144Z"
   },
   {
    "duration": 199,
    "start_time": "2021-10-30T14:26:06.157Z"
   },
   {
    "duration": 6398,
    "start_time": "2021-10-30T14:26:06.358Z"
   },
   {
    "duration": 395,
    "start_time": "2021-10-30T14:26:12.759Z"
   },
   {
    "duration": 14,
    "start_time": "2021-10-30T14:26:13.222Z"
   },
   {
    "duration": 40,
    "start_time": "2021-10-30T14:26:13.238Z"
   },
   {
    "duration": 64,
    "start_time": "2021-10-30T14:26:13.281Z"
   },
   {
    "duration": 7,
    "start_time": "2021-10-30T14:26:13.348Z"
   },
   {
    "duration": 67,
    "start_time": "2021-10-30T14:26:13.358Z"
   },
   {
    "duration": 8,
    "start_time": "2021-10-30T14:26:13.428Z"
   },
   {
    "duration": 23,
    "start_time": "2021-10-30T14:26:13.440Z"
   },
   {
    "duration": 57,
    "start_time": "2021-10-30T14:26:13.466Z"
   },
   {
    "duration": 7,
    "start_time": "2021-10-30T14:26:13.526Z"
   },
   {
    "duration": 2272,
    "start_time": "2021-10-30T14:26:13.537Z"
   },
   {
    "duration": 611,
    "start_time": "2021-10-30T14:26:15.812Z"
   },
   {
    "duration": 6911,
    "start_time": "2021-10-30T14:26:16.427Z"
   },
   {
    "duration": 398,
    "start_time": "2021-10-30T14:26:23.341Z"
   },
   {
    "duration": 7002,
    "start_time": "2021-10-30T14:26:23.741Z"
   },
   {
    "duration": 402,
    "start_time": "2021-10-30T14:26:30.745Z"
   },
   {
    "duration": 84,
    "start_time": "2021-10-30T14:26:31.150Z"
   },
   {
    "duration": 199,
    "start_time": "2021-10-30T14:26:31.236Z"
   },
   {
    "duration": 363,
    "start_time": "2021-10-30T14:26:31.438Z"
   },
   {
    "duration": 622,
    "start_time": "2021-10-30T14:26:31.804Z"
   },
   {
    "duration": 31,
    "start_time": "2021-10-30T14:26:32.429Z"
   },
   {
    "duration": 528,
    "start_time": "2021-10-30T14:26:32.462Z"
   },
   {
    "duration": 80,
    "start_time": "2021-10-30T14:26:32.994Z"
   },
   {
    "duration": 19,
    "start_time": "2021-10-30T14:26:33.077Z"
   },
   {
    "duration": 24,
    "start_time": "2021-10-30T14:26:33.099Z"
   },
   {
    "duration": 1060,
    "start_time": "2021-10-30T14:26:33.126Z"
   },
   {
    "duration": 49,
    "start_time": "2021-10-30T14:26:34.189Z"
   },
   {
    "duration": 10,
    "start_time": "2021-10-30T14:26:34.241Z"
   },
   {
    "duration": 6,
    "start_time": "2021-10-30T14:26:34.253Z"
   },
   {
    "duration": 119,
    "start_time": "2021-10-30T14:26:34.262Z"
   },
   {
    "duration": 4,
    "start_time": "2021-10-30T14:26:34.384Z"
   },
   {
    "duration": 33,
    "start_time": "2021-10-30T14:26:34.390Z"
   },
   {
    "duration": 6423,
    "start_time": "2021-10-30T14:26:34.425Z"
   },
   {
    "duration": 400,
    "start_time": "2021-10-30T14:26:40.851Z"
   },
   {
    "duration": 58,
    "start_time": "2021-10-31T13:40:29.029Z"
   }
  ],
  "kernelspec": {
   "display_name": "Python 3.8.8 ('base')",
   "language": "python",
   "name": "python3"
  },
  "language_info": {
   "codemirror_mode": {
    "name": "ipython",
    "version": 3
   },
   "file_extension": ".py",
   "mimetype": "text/x-python",
   "name": "python",
   "nbconvert_exporter": "python",
   "pygments_lexer": "ipython3",
   "version": "3.8.8"
  },
  "toc": {
   "base_numbering": 1,
   "nav_menu": {},
   "number_sections": true,
   "sideBar": true,
   "skip_h1_title": true,
   "title_cell": "Table of Contents",
   "title_sidebar": "Contents",
   "toc_cell": false,
   "toc_position": {},
   "toc_section_display": true,
   "toc_window_display": true
  },
  "vscode": {
   "interpreter": {
    "hash": "b7d258fa581379cc616dd21d18b044438587cad8c2fc6656384f324d1def7e8d"
   }
  }
 },
 "nbformat": 4,
 "nbformat_minor": 5
}
