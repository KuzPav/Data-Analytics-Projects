{
 "cells": [
  {
   "cell_type": "markdown",
   "metadata": {},
   "source": [
    "Prepare a prototype machine learning model. The company develops solutions for the efficient operation of industrial enterprises.\n",
    "\n",
    "The model should predict the recovery rate of gold from gold ore. Use data with mining and cleaning parameters.\n",
    "\n",
    "The model will help optimize production so as not to launch an enterprise with unprofitable characteristics.\n",
    "\n",
    "1. Prepare data;\n",
    "2. Conduct exploratory data analysis;\n",
    "3. Build and train the model."
   ]
  },
  {
   "cell_type": "markdown",
   "metadata": {},
   "source": [
    "## Preparing data"
   ]
  },
  {
   "cell_type": "code",
   "execution_count": 1,
   "metadata": {},
   "outputs": [],
   "source": [
    "import pandas as pd\n",
    "import matplotlib.pyplot as plt\n",
    "from scipy import stats as st\n",
    "from sklearn.metrics import make_scorer\n",
    "from sklearn.model_selection import GridSearchCV\n",
    "from sklearn.linear_model import LinearRegression\n",
    "from sklearn.ensemble import RandomForestRegressor\n",
    "import warnings\n",
    "warnings.simplefilter(action='ignore', category=Warning)\n"
   ]
  },
  {
   "cell_type": "code",
   "execution_count": 2,
   "metadata": {},
   "outputs": [],
   "source": [
    "train = pd.read_csv('datasets/gold_recovery_train_new.csv')\n",
    "test = pd.read_csv('datasets/gold_recovery_test_new.csv')\n",
    "full = pd.read_csv('datasets/gold_recovery_full_new.csv')"
   ]
  },
  {
   "cell_type": "markdown",
   "metadata": {},
   "source": [
    "### Exploring data"
   ]
  },
  {
   "cell_type": "code",
   "execution_count": 3,
   "metadata": {},
   "outputs": [
    {
     "data": {
      "text/html": [
       "<div>\n",
       "<style scoped>\n",
       "    .dataframe tbody tr th:only-of-type {\n",
       "        vertical-align: middle;\n",
       "    }\n",
       "\n",
       "    .dataframe tbody tr th {\n",
       "        vertical-align: top;\n",
       "    }\n",
       "\n",
       "    .dataframe thead th {\n",
       "        text-align: right;\n",
       "    }\n",
       "</style>\n",
       "<table border=\"1\" class=\"dataframe\">\n",
       "  <thead>\n",
       "    <tr style=\"text-align: right;\">\n",
       "      <th></th>\n",
       "      <th>date</th>\n",
       "      <th>final.output.concentrate_ag</th>\n",
       "      <th>final.output.concentrate_pb</th>\n",
       "      <th>final.output.concentrate_sol</th>\n",
       "      <th>final.output.concentrate_au</th>\n",
       "      <th>final.output.recovery</th>\n",
       "      <th>final.output.tail_ag</th>\n",
       "      <th>final.output.tail_pb</th>\n",
       "      <th>final.output.tail_sol</th>\n",
       "      <th>final.output.tail_au</th>\n",
       "      <th>...</th>\n",
       "      <th>secondary_cleaner.state.floatbank4_a_air</th>\n",
       "      <th>secondary_cleaner.state.floatbank4_a_level</th>\n",
       "      <th>secondary_cleaner.state.floatbank4_b_air</th>\n",
       "      <th>secondary_cleaner.state.floatbank4_b_level</th>\n",
       "      <th>secondary_cleaner.state.floatbank5_a_air</th>\n",
       "      <th>secondary_cleaner.state.floatbank5_a_level</th>\n",
       "      <th>secondary_cleaner.state.floatbank5_b_air</th>\n",
       "      <th>secondary_cleaner.state.floatbank5_b_level</th>\n",
       "      <th>secondary_cleaner.state.floatbank6_a_air</th>\n",
       "      <th>secondary_cleaner.state.floatbank6_a_level</th>\n",
       "    </tr>\n",
       "  </thead>\n",
       "  <tbody>\n",
       "    <tr>\n",
       "      <th>0</th>\n",
       "      <td>2016-01-15 00:00:00</td>\n",
       "      <td>6.055403</td>\n",
       "      <td>9.889648</td>\n",
       "      <td>5.507324</td>\n",
       "      <td>42.192020</td>\n",
       "      <td>70.541216</td>\n",
       "      <td>10.411962</td>\n",
       "      <td>0.895447</td>\n",
       "      <td>16.904297</td>\n",
       "      <td>2.143149</td>\n",
       "      <td>...</td>\n",
       "      <td>14.016835</td>\n",
       "      <td>-502.488007</td>\n",
       "      <td>12.099931</td>\n",
       "      <td>-504.715942</td>\n",
       "      <td>9.925633</td>\n",
       "      <td>-498.310211</td>\n",
       "      <td>8.079666</td>\n",
       "      <td>-500.470978</td>\n",
       "      <td>14.151341</td>\n",
       "      <td>-605.841980</td>\n",
       "    </tr>\n",
       "    <tr>\n",
       "      <th>1</th>\n",
       "      <td>2016-01-15 01:00:00</td>\n",
       "      <td>6.029369</td>\n",
       "      <td>9.968944</td>\n",
       "      <td>5.257781</td>\n",
       "      <td>42.701629</td>\n",
       "      <td>69.266198</td>\n",
       "      <td>10.462676</td>\n",
       "      <td>0.927452</td>\n",
       "      <td>16.634514</td>\n",
       "      <td>2.224930</td>\n",
       "      <td>...</td>\n",
       "      <td>13.992281</td>\n",
       "      <td>-505.503262</td>\n",
       "      <td>11.950531</td>\n",
       "      <td>-501.331529</td>\n",
       "      <td>10.039245</td>\n",
       "      <td>-500.169983</td>\n",
       "      <td>7.984757</td>\n",
       "      <td>-500.582168</td>\n",
       "      <td>13.998353</td>\n",
       "      <td>-599.787184</td>\n",
       "    </tr>\n",
       "    <tr>\n",
       "      <th>2</th>\n",
       "      <td>2016-01-15 02:00:00</td>\n",
       "      <td>6.055926</td>\n",
       "      <td>10.213995</td>\n",
       "      <td>5.383759</td>\n",
       "      <td>42.657501</td>\n",
       "      <td>68.116445</td>\n",
       "      <td>10.507046</td>\n",
       "      <td>0.953716</td>\n",
       "      <td>16.208849</td>\n",
       "      <td>2.257889</td>\n",
       "      <td>...</td>\n",
       "      <td>14.015015</td>\n",
       "      <td>-502.520901</td>\n",
       "      <td>11.912783</td>\n",
       "      <td>-501.133383</td>\n",
       "      <td>10.070913</td>\n",
       "      <td>-500.129135</td>\n",
       "      <td>8.013877</td>\n",
       "      <td>-500.517572</td>\n",
       "      <td>14.028663</td>\n",
       "      <td>-601.427363</td>\n",
       "    </tr>\n",
       "    <tr>\n",
       "      <th>3</th>\n",
       "      <td>2016-01-15 03:00:00</td>\n",
       "      <td>6.047977</td>\n",
       "      <td>9.977019</td>\n",
       "      <td>4.858634</td>\n",
       "      <td>42.689819</td>\n",
       "      <td>68.347543</td>\n",
       "      <td>10.422762</td>\n",
       "      <td>0.883763</td>\n",
       "      <td>16.532835</td>\n",
       "      <td>2.146849</td>\n",
       "      <td>...</td>\n",
       "      <td>14.036510</td>\n",
       "      <td>-500.857308</td>\n",
       "      <td>11.999550</td>\n",
       "      <td>-501.193686</td>\n",
       "      <td>9.970366</td>\n",
       "      <td>-499.201640</td>\n",
       "      <td>7.977324</td>\n",
       "      <td>-500.255908</td>\n",
       "      <td>14.005551</td>\n",
       "      <td>-599.996129</td>\n",
       "    </tr>\n",
       "    <tr>\n",
       "      <th>4</th>\n",
       "      <td>2016-01-15 04:00:00</td>\n",
       "      <td>6.148599</td>\n",
       "      <td>10.142511</td>\n",
       "      <td>4.939416</td>\n",
       "      <td>42.774141</td>\n",
       "      <td>66.927016</td>\n",
       "      <td>10.360302</td>\n",
       "      <td>0.792826</td>\n",
       "      <td>16.525686</td>\n",
       "      <td>2.055292</td>\n",
       "      <td>...</td>\n",
       "      <td>14.027298</td>\n",
       "      <td>-499.838632</td>\n",
       "      <td>11.953070</td>\n",
       "      <td>-501.053894</td>\n",
       "      <td>9.925709</td>\n",
       "      <td>-501.686727</td>\n",
       "      <td>7.894242</td>\n",
       "      <td>-500.356035</td>\n",
       "      <td>13.996647</td>\n",
       "      <td>-601.496691</td>\n",
       "    </tr>\n",
       "  </tbody>\n",
       "</table>\n",
       "<p>5 rows × 87 columns</p>\n",
       "</div>"
      ],
      "text/plain": [
       "                  date  final.output.concentrate_ag  \\\n",
       "0  2016-01-15 00:00:00                     6.055403   \n",
       "1  2016-01-15 01:00:00                     6.029369   \n",
       "2  2016-01-15 02:00:00                     6.055926   \n",
       "3  2016-01-15 03:00:00                     6.047977   \n",
       "4  2016-01-15 04:00:00                     6.148599   \n",
       "\n",
       "   final.output.concentrate_pb  final.output.concentrate_sol  \\\n",
       "0                     9.889648                      5.507324   \n",
       "1                     9.968944                      5.257781   \n",
       "2                    10.213995                      5.383759   \n",
       "3                     9.977019                      4.858634   \n",
       "4                    10.142511                      4.939416   \n",
       "\n",
       "   final.output.concentrate_au  final.output.recovery  final.output.tail_ag  \\\n",
       "0                    42.192020              70.541216             10.411962   \n",
       "1                    42.701629              69.266198             10.462676   \n",
       "2                    42.657501              68.116445             10.507046   \n",
       "3                    42.689819              68.347543             10.422762   \n",
       "4                    42.774141              66.927016             10.360302   \n",
       "\n",
       "   final.output.tail_pb  final.output.tail_sol  final.output.tail_au  ...  \\\n",
       "0              0.895447              16.904297              2.143149  ...   \n",
       "1              0.927452              16.634514              2.224930  ...   \n",
       "2              0.953716              16.208849              2.257889  ...   \n",
       "3              0.883763              16.532835              2.146849  ...   \n",
       "4              0.792826              16.525686              2.055292  ...   \n",
       "\n",
       "   secondary_cleaner.state.floatbank4_a_air  \\\n",
       "0                                 14.016835   \n",
       "1                                 13.992281   \n",
       "2                                 14.015015   \n",
       "3                                 14.036510   \n",
       "4                                 14.027298   \n",
       "\n",
       "   secondary_cleaner.state.floatbank4_a_level  \\\n",
       "0                                 -502.488007   \n",
       "1                                 -505.503262   \n",
       "2                                 -502.520901   \n",
       "3                                 -500.857308   \n",
       "4                                 -499.838632   \n",
       "\n",
       "   secondary_cleaner.state.floatbank4_b_air  \\\n",
       "0                                 12.099931   \n",
       "1                                 11.950531   \n",
       "2                                 11.912783   \n",
       "3                                 11.999550   \n",
       "4                                 11.953070   \n",
       "\n",
       "   secondary_cleaner.state.floatbank4_b_level  \\\n",
       "0                                 -504.715942   \n",
       "1                                 -501.331529   \n",
       "2                                 -501.133383   \n",
       "3                                 -501.193686   \n",
       "4                                 -501.053894   \n",
       "\n",
       "   secondary_cleaner.state.floatbank5_a_air  \\\n",
       "0                                  9.925633   \n",
       "1                                 10.039245   \n",
       "2                                 10.070913   \n",
       "3                                  9.970366   \n",
       "4                                  9.925709   \n",
       "\n",
       "   secondary_cleaner.state.floatbank5_a_level  \\\n",
       "0                                 -498.310211   \n",
       "1                                 -500.169983   \n",
       "2                                 -500.129135   \n",
       "3                                 -499.201640   \n",
       "4                                 -501.686727   \n",
       "\n",
       "   secondary_cleaner.state.floatbank5_b_air  \\\n",
       "0                                  8.079666   \n",
       "1                                  7.984757   \n",
       "2                                  8.013877   \n",
       "3                                  7.977324   \n",
       "4                                  7.894242   \n",
       "\n",
       "   secondary_cleaner.state.floatbank5_b_level  \\\n",
       "0                                 -500.470978   \n",
       "1                                 -500.582168   \n",
       "2                                 -500.517572   \n",
       "3                                 -500.255908   \n",
       "4                                 -500.356035   \n",
       "\n",
       "   secondary_cleaner.state.floatbank6_a_air  \\\n",
       "0                                 14.151341   \n",
       "1                                 13.998353   \n",
       "2                                 14.028663   \n",
       "3                                 14.005551   \n",
       "4                                 13.996647   \n",
       "\n",
       "   secondary_cleaner.state.floatbank6_a_level  \n",
       "0                                 -605.841980  \n",
       "1                                 -599.787184  \n",
       "2                                 -601.427363  \n",
       "3                                 -599.996129  \n",
       "4                                 -601.496691  \n",
       "\n",
       "[5 rows x 87 columns]"
      ]
     },
     "execution_count": 3,
     "metadata": {},
     "output_type": "execute_result"
    }
   ],
   "source": [
    "train.head()"
   ]
  },
  {
   "cell_type": "code",
   "execution_count": 4,
   "metadata": {},
   "outputs": [
    {
     "data": {
      "text/html": [
       "<div>\n",
       "<style scoped>\n",
       "    .dataframe tbody tr th:only-of-type {\n",
       "        vertical-align: middle;\n",
       "    }\n",
       "\n",
       "    .dataframe tbody tr th {\n",
       "        vertical-align: top;\n",
       "    }\n",
       "\n",
       "    .dataframe thead th {\n",
       "        text-align: right;\n",
       "    }\n",
       "</style>\n",
       "<table border=\"1\" class=\"dataframe\">\n",
       "  <thead>\n",
       "    <tr style=\"text-align: right;\">\n",
       "      <th></th>\n",
       "      <th>date</th>\n",
       "      <th>primary_cleaner.input.sulfate</th>\n",
       "      <th>primary_cleaner.input.depressant</th>\n",
       "      <th>primary_cleaner.input.feed_size</th>\n",
       "      <th>primary_cleaner.input.xanthate</th>\n",
       "      <th>primary_cleaner.state.floatbank8_a_air</th>\n",
       "      <th>primary_cleaner.state.floatbank8_a_level</th>\n",
       "      <th>primary_cleaner.state.floatbank8_b_air</th>\n",
       "      <th>primary_cleaner.state.floatbank8_b_level</th>\n",
       "      <th>primary_cleaner.state.floatbank8_c_air</th>\n",
       "      <th>...</th>\n",
       "      <th>secondary_cleaner.state.floatbank4_a_air</th>\n",
       "      <th>secondary_cleaner.state.floatbank4_a_level</th>\n",
       "      <th>secondary_cleaner.state.floatbank4_b_air</th>\n",
       "      <th>secondary_cleaner.state.floatbank4_b_level</th>\n",
       "      <th>secondary_cleaner.state.floatbank5_a_air</th>\n",
       "      <th>secondary_cleaner.state.floatbank5_a_level</th>\n",
       "      <th>secondary_cleaner.state.floatbank5_b_air</th>\n",
       "      <th>secondary_cleaner.state.floatbank5_b_level</th>\n",
       "      <th>secondary_cleaner.state.floatbank6_a_air</th>\n",
       "      <th>secondary_cleaner.state.floatbank6_a_level</th>\n",
       "    </tr>\n",
       "  </thead>\n",
       "  <tbody>\n",
       "    <tr>\n",
       "      <th>0</th>\n",
       "      <td>2016-09-01 00:59:59</td>\n",
       "      <td>210.800909</td>\n",
       "      <td>14.993118</td>\n",
       "      <td>8.080000</td>\n",
       "      <td>1.005021</td>\n",
       "      <td>1398.981301</td>\n",
       "      <td>-500.225577</td>\n",
       "      <td>1399.144926</td>\n",
       "      <td>-499.919735</td>\n",
       "      <td>1400.102998</td>\n",
       "      <td>...</td>\n",
       "      <td>12.023554</td>\n",
       "      <td>-497.795834</td>\n",
       "      <td>8.016656</td>\n",
       "      <td>-501.289139</td>\n",
       "      <td>7.946562</td>\n",
       "      <td>-432.317850</td>\n",
       "      <td>4.872511</td>\n",
       "      <td>-500.037437</td>\n",
       "      <td>26.705889</td>\n",
       "      <td>-499.709414</td>\n",
       "    </tr>\n",
       "    <tr>\n",
       "      <th>1</th>\n",
       "      <td>2016-09-01 01:59:59</td>\n",
       "      <td>215.392455</td>\n",
       "      <td>14.987471</td>\n",
       "      <td>8.080000</td>\n",
       "      <td>0.990469</td>\n",
       "      <td>1398.777912</td>\n",
       "      <td>-500.057435</td>\n",
       "      <td>1398.055362</td>\n",
       "      <td>-499.778182</td>\n",
       "      <td>1396.151033</td>\n",
       "      <td>...</td>\n",
       "      <td>12.058140</td>\n",
       "      <td>-498.695773</td>\n",
       "      <td>8.130979</td>\n",
       "      <td>-499.634209</td>\n",
       "      <td>7.958270</td>\n",
       "      <td>-525.839648</td>\n",
       "      <td>4.878850</td>\n",
       "      <td>-500.162375</td>\n",
       "      <td>25.019940</td>\n",
       "      <td>-499.819438</td>\n",
       "    </tr>\n",
       "    <tr>\n",
       "      <th>2</th>\n",
       "      <td>2016-09-01 02:59:59</td>\n",
       "      <td>215.259946</td>\n",
       "      <td>12.884934</td>\n",
       "      <td>7.786667</td>\n",
       "      <td>0.996043</td>\n",
       "      <td>1398.493666</td>\n",
       "      <td>-500.868360</td>\n",
       "      <td>1398.860436</td>\n",
       "      <td>-499.764529</td>\n",
       "      <td>1398.075709</td>\n",
       "      <td>...</td>\n",
       "      <td>11.962366</td>\n",
       "      <td>-498.767484</td>\n",
       "      <td>8.096893</td>\n",
       "      <td>-500.827423</td>\n",
       "      <td>8.071056</td>\n",
       "      <td>-500.801673</td>\n",
       "      <td>4.905125</td>\n",
       "      <td>-499.828510</td>\n",
       "      <td>24.994862</td>\n",
       "      <td>-500.622559</td>\n",
       "    </tr>\n",
       "    <tr>\n",
       "      <th>3</th>\n",
       "      <td>2016-09-01 03:59:59</td>\n",
       "      <td>215.336236</td>\n",
       "      <td>12.006805</td>\n",
       "      <td>7.640000</td>\n",
       "      <td>0.863514</td>\n",
       "      <td>1399.618111</td>\n",
       "      <td>-498.863574</td>\n",
       "      <td>1397.440120</td>\n",
       "      <td>-499.211024</td>\n",
       "      <td>1400.129303</td>\n",
       "      <td>...</td>\n",
       "      <td>12.033091</td>\n",
       "      <td>-498.350935</td>\n",
       "      <td>8.074946</td>\n",
       "      <td>-499.474407</td>\n",
       "      <td>7.897085</td>\n",
       "      <td>-500.868509</td>\n",
       "      <td>4.931400</td>\n",
       "      <td>-499.963623</td>\n",
       "      <td>24.948919</td>\n",
       "      <td>-498.709987</td>\n",
       "    </tr>\n",
       "    <tr>\n",
       "      <th>4</th>\n",
       "      <td>2016-09-01 04:59:59</td>\n",
       "      <td>199.099327</td>\n",
       "      <td>10.682530</td>\n",
       "      <td>7.530000</td>\n",
       "      <td>0.805575</td>\n",
       "      <td>1401.268123</td>\n",
       "      <td>-500.808305</td>\n",
       "      <td>1398.128818</td>\n",
       "      <td>-499.504543</td>\n",
       "      <td>1402.172226</td>\n",
       "      <td>...</td>\n",
       "      <td>12.025367</td>\n",
       "      <td>-500.786497</td>\n",
       "      <td>8.054678</td>\n",
       "      <td>-500.397500</td>\n",
       "      <td>8.107890</td>\n",
       "      <td>-509.526725</td>\n",
       "      <td>4.957674</td>\n",
       "      <td>-500.360026</td>\n",
       "      <td>25.003331</td>\n",
       "      <td>-500.856333</td>\n",
       "    </tr>\n",
       "  </tbody>\n",
       "</table>\n",
       "<p>5 rows × 53 columns</p>\n",
       "</div>"
      ],
      "text/plain": [
       "                  date  primary_cleaner.input.sulfate  \\\n",
       "0  2016-09-01 00:59:59                     210.800909   \n",
       "1  2016-09-01 01:59:59                     215.392455   \n",
       "2  2016-09-01 02:59:59                     215.259946   \n",
       "3  2016-09-01 03:59:59                     215.336236   \n",
       "4  2016-09-01 04:59:59                     199.099327   \n",
       "\n",
       "   primary_cleaner.input.depressant  primary_cleaner.input.feed_size  \\\n",
       "0                         14.993118                         8.080000   \n",
       "1                         14.987471                         8.080000   \n",
       "2                         12.884934                         7.786667   \n",
       "3                         12.006805                         7.640000   \n",
       "4                         10.682530                         7.530000   \n",
       "\n",
       "   primary_cleaner.input.xanthate  primary_cleaner.state.floatbank8_a_air  \\\n",
       "0                        1.005021                             1398.981301   \n",
       "1                        0.990469                             1398.777912   \n",
       "2                        0.996043                             1398.493666   \n",
       "3                        0.863514                             1399.618111   \n",
       "4                        0.805575                             1401.268123   \n",
       "\n",
       "   primary_cleaner.state.floatbank8_a_level  \\\n",
       "0                               -500.225577   \n",
       "1                               -500.057435   \n",
       "2                               -500.868360   \n",
       "3                               -498.863574   \n",
       "4                               -500.808305   \n",
       "\n",
       "   primary_cleaner.state.floatbank8_b_air  \\\n",
       "0                             1399.144926   \n",
       "1                             1398.055362   \n",
       "2                             1398.860436   \n",
       "3                             1397.440120   \n",
       "4                             1398.128818   \n",
       "\n",
       "   primary_cleaner.state.floatbank8_b_level  \\\n",
       "0                               -499.919735   \n",
       "1                               -499.778182   \n",
       "2                               -499.764529   \n",
       "3                               -499.211024   \n",
       "4                               -499.504543   \n",
       "\n",
       "   primary_cleaner.state.floatbank8_c_air  ...  \\\n",
       "0                             1400.102998  ...   \n",
       "1                             1396.151033  ...   \n",
       "2                             1398.075709  ...   \n",
       "3                             1400.129303  ...   \n",
       "4                             1402.172226  ...   \n",
       "\n",
       "   secondary_cleaner.state.floatbank4_a_air  \\\n",
       "0                                 12.023554   \n",
       "1                                 12.058140   \n",
       "2                                 11.962366   \n",
       "3                                 12.033091   \n",
       "4                                 12.025367   \n",
       "\n",
       "   secondary_cleaner.state.floatbank4_a_level  \\\n",
       "0                                 -497.795834   \n",
       "1                                 -498.695773   \n",
       "2                                 -498.767484   \n",
       "3                                 -498.350935   \n",
       "4                                 -500.786497   \n",
       "\n",
       "   secondary_cleaner.state.floatbank4_b_air  \\\n",
       "0                                  8.016656   \n",
       "1                                  8.130979   \n",
       "2                                  8.096893   \n",
       "3                                  8.074946   \n",
       "4                                  8.054678   \n",
       "\n",
       "   secondary_cleaner.state.floatbank4_b_level  \\\n",
       "0                                 -501.289139   \n",
       "1                                 -499.634209   \n",
       "2                                 -500.827423   \n",
       "3                                 -499.474407   \n",
       "4                                 -500.397500   \n",
       "\n",
       "   secondary_cleaner.state.floatbank5_a_air  \\\n",
       "0                                  7.946562   \n",
       "1                                  7.958270   \n",
       "2                                  8.071056   \n",
       "3                                  7.897085   \n",
       "4                                  8.107890   \n",
       "\n",
       "   secondary_cleaner.state.floatbank5_a_level  \\\n",
       "0                                 -432.317850   \n",
       "1                                 -525.839648   \n",
       "2                                 -500.801673   \n",
       "3                                 -500.868509   \n",
       "4                                 -509.526725   \n",
       "\n",
       "   secondary_cleaner.state.floatbank5_b_air  \\\n",
       "0                                  4.872511   \n",
       "1                                  4.878850   \n",
       "2                                  4.905125   \n",
       "3                                  4.931400   \n",
       "4                                  4.957674   \n",
       "\n",
       "   secondary_cleaner.state.floatbank5_b_level  \\\n",
       "0                                 -500.037437   \n",
       "1                                 -500.162375   \n",
       "2                                 -499.828510   \n",
       "3                                 -499.963623   \n",
       "4                                 -500.360026   \n",
       "\n",
       "   secondary_cleaner.state.floatbank6_a_air  \\\n",
       "0                                 26.705889   \n",
       "1                                 25.019940   \n",
       "2                                 24.994862   \n",
       "3                                 24.948919   \n",
       "4                                 25.003331   \n",
       "\n",
       "   secondary_cleaner.state.floatbank6_a_level  \n",
       "0                                 -499.709414  \n",
       "1                                 -499.819438  \n",
       "2                                 -500.622559  \n",
       "3                                 -498.709987  \n",
       "4                                 -500.856333  \n",
       "\n",
       "[5 rows x 53 columns]"
      ]
     },
     "execution_count": 4,
     "metadata": {},
     "output_type": "execute_result"
    }
   ],
   "source": [
    "test.head()"
   ]
  },
  {
   "cell_type": "code",
   "execution_count": 5,
   "metadata": {},
   "outputs": [
    {
     "data": {
      "text/html": [
       "<div>\n",
       "<style scoped>\n",
       "    .dataframe tbody tr th:only-of-type {\n",
       "        vertical-align: middle;\n",
       "    }\n",
       "\n",
       "    .dataframe tbody tr th {\n",
       "        vertical-align: top;\n",
       "    }\n",
       "\n",
       "    .dataframe thead th {\n",
       "        text-align: right;\n",
       "    }\n",
       "</style>\n",
       "<table border=\"1\" class=\"dataframe\">\n",
       "  <thead>\n",
       "    <tr style=\"text-align: right;\">\n",
       "      <th></th>\n",
       "      <th>date</th>\n",
       "      <th>final.output.concentrate_ag</th>\n",
       "      <th>final.output.concentrate_pb</th>\n",
       "      <th>final.output.concentrate_sol</th>\n",
       "      <th>final.output.concentrate_au</th>\n",
       "      <th>final.output.recovery</th>\n",
       "      <th>final.output.tail_ag</th>\n",
       "      <th>final.output.tail_pb</th>\n",
       "      <th>final.output.tail_sol</th>\n",
       "      <th>final.output.tail_au</th>\n",
       "      <th>...</th>\n",
       "      <th>secondary_cleaner.state.floatbank4_a_air</th>\n",
       "      <th>secondary_cleaner.state.floatbank4_a_level</th>\n",
       "      <th>secondary_cleaner.state.floatbank4_b_air</th>\n",
       "      <th>secondary_cleaner.state.floatbank4_b_level</th>\n",
       "      <th>secondary_cleaner.state.floatbank5_a_air</th>\n",
       "      <th>secondary_cleaner.state.floatbank5_a_level</th>\n",
       "      <th>secondary_cleaner.state.floatbank5_b_air</th>\n",
       "      <th>secondary_cleaner.state.floatbank5_b_level</th>\n",
       "      <th>secondary_cleaner.state.floatbank6_a_air</th>\n",
       "      <th>secondary_cleaner.state.floatbank6_a_level</th>\n",
       "    </tr>\n",
       "  </thead>\n",
       "  <tbody>\n",
       "    <tr>\n",
       "      <th>0</th>\n",
       "      <td>2016-01-15 00:00:00</td>\n",
       "      <td>6.055403</td>\n",
       "      <td>9.889648</td>\n",
       "      <td>5.507324</td>\n",
       "      <td>42.192020</td>\n",
       "      <td>70.541216</td>\n",
       "      <td>10.411962</td>\n",
       "      <td>0.895447</td>\n",
       "      <td>16.904297</td>\n",
       "      <td>2.143149</td>\n",
       "      <td>...</td>\n",
       "      <td>14.016835</td>\n",
       "      <td>-502.488007</td>\n",
       "      <td>12.099931</td>\n",
       "      <td>-504.715942</td>\n",
       "      <td>9.925633</td>\n",
       "      <td>-498.310211</td>\n",
       "      <td>8.079666</td>\n",
       "      <td>-500.470978</td>\n",
       "      <td>14.151341</td>\n",
       "      <td>-605.841980</td>\n",
       "    </tr>\n",
       "    <tr>\n",
       "      <th>1</th>\n",
       "      <td>2016-01-15 01:00:00</td>\n",
       "      <td>6.029369</td>\n",
       "      <td>9.968944</td>\n",
       "      <td>5.257781</td>\n",
       "      <td>42.701629</td>\n",
       "      <td>69.266198</td>\n",
       "      <td>10.462676</td>\n",
       "      <td>0.927452</td>\n",
       "      <td>16.634514</td>\n",
       "      <td>2.224930</td>\n",
       "      <td>...</td>\n",
       "      <td>13.992281</td>\n",
       "      <td>-505.503262</td>\n",
       "      <td>11.950531</td>\n",
       "      <td>-501.331529</td>\n",
       "      <td>10.039245</td>\n",
       "      <td>-500.169983</td>\n",
       "      <td>7.984757</td>\n",
       "      <td>-500.582168</td>\n",
       "      <td>13.998353</td>\n",
       "      <td>-599.787184</td>\n",
       "    </tr>\n",
       "    <tr>\n",
       "      <th>2</th>\n",
       "      <td>2016-01-15 02:00:00</td>\n",
       "      <td>6.055926</td>\n",
       "      <td>10.213995</td>\n",
       "      <td>5.383759</td>\n",
       "      <td>42.657501</td>\n",
       "      <td>68.116445</td>\n",
       "      <td>10.507046</td>\n",
       "      <td>0.953716</td>\n",
       "      <td>16.208849</td>\n",
       "      <td>2.257889</td>\n",
       "      <td>...</td>\n",
       "      <td>14.015015</td>\n",
       "      <td>-502.520901</td>\n",
       "      <td>11.912783</td>\n",
       "      <td>-501.133383</td>\n",
       "      <td>10.070913</td>\n",
       "      <td>-500.129135</td>\n",
       "      <td>8.013877</td>\n",
       "      <td>-500.517572</td>\n",
       "      <td>14.028663</td>\n",
       "      <td>-601.427363</td>\n",
       "    </tr>\n",
       "    <tr>\n",
       "      <th>3</th>\n",
       "      <td>2016-01-15 03:00:00</td>\n",
       "      <td>6.047977</td>\n",
       "      <td>9.977019</td>\n",
       "      <td>4.858634</td>\n",
       "      <td>42.689819</td>\n",
       "      <td>68.347543</td>\n",
       "      <td>10.422762</td>\n",
       "      <td>0.883763</td>\n",
       "      <td>16.532835</td>\n",
       "      <td>2.146849</td>\n",
       "      <td>...</td>\n",
       "      <td>14.036510</td>\n",
       "      <td>-500.857308</td>\n",
       "      <td>11.999550</td>\n",
       "      <td>-501.193686</td>\n",
       "      <td>9.970366</td>\n",
       "      <td>-499.201640</td>\n",
       "      <td>7.977324</td>\n",
       "      <td>-500.255908</td>\n",
       "      <td>14.005551</td>\n",
       "      <td>-599.996129</td>\n",
       "    </tr>\n",
       "    <tr>\n",
       "      <th>4</th>\n",
       "      <td>2016-01-15 04:00:00</td>\n",
       "      <td>6.148599</td>\n",
       "      <td>10.142511</td>\n",
       "      <td>4.939416</td>\n",
       "      <td>42.774141</td>\n",
       "      <td>66.927016</td>\n",
       "      <td>10.360302</td>\n",
       "      <td>0.792826</td>\n",
       "      <td>16.525686</td>\n",
       "      <td>2.055292</td>\n",
       "      <td>...</td>\n",
       "      <td>14.027298</td>\n",
       "      <td>-499.838632</td>\n",
       "      <td>11.953070</td>\n",
       "      <td>-501.053894</td>\n",
       "      <td>9.925709</td>\n",
       "      <td>-501.686727</td>\n",
       "      <td>7.894242</td>\n",
       "      <td>-500.356035</td>\n",
       "      <td>13.996647</td>\n",
       "      <td>-601.496691</td>\n",
       "    </tr>\n",
       "  </tbody>\n",
       "</table>\n",
       "<p>5 rows × 87 columns</p>\n",
       "</div>"
      ],
      "text/plain": [
       "                  date  final.output.concentrate_ag  \\\n",
       "0  2016-01-15 00:00:00                     6.055403   \n",
       "1  2016-01-15 01:00:00                     6.029369   \n",
       "2  2016-01-15 02:00:00                     6.055926   \n",
       "3  2016-01-15 03:00:00                     6.047977   \n",
       "4  2016-01-15 04:00:00                     6.148599   \n",
       "\n",
       "   final.output.concentrate_pb  final.output.concentrate_sol  \\\n",
       "0                     9.889648                      5.507324   \n",
       "1                     9.968944                      5.257781   \n",
       "2                    10.213995                      5.383759   \n",
       "3                     9.977019                      4.858634   \n",
       "4                    10.142511                      4.939416   \n",
       "\n",
       "   final.output.concentrate_au  final.output.recovery  final.output.tail_ag  \\\n",
       "0                    42.192020              70.541216             10.411962   \n",
       "1                    42.701629              69.266198             10.462676   \n",
       "2                    42.657501              68.116445             10.507046   \n",
       "3                    42.689819              68.347543             10.422762   \n",
       "4                    42.774141              66.927016             10.360302   \n",
       "\n",
       "   final.output.tail_pb  final.output.tail_sol  final.output.tail_au  ...  \\\n",
       "0              0.895447              16.904297              2.143149  ...   \n",
       "1              0.927452              16.634514              2.224930  ...   \n",
       "2              0.953716              16.208849              2.257889  ...   \n",
       "3              0.883763              16.532835              2.146849  ...   \n",
       "4              0.792826              16.525686              2.055292  ...   \n",
       "\n",
       "   secondary_cleaner.state.floatbank4_a_air  \\\n",
       "0                                 14.016835   \n",
       "1                                 13.992281   \n",
       "2                                 14.015015   \n",
       "3                                 14.036510   \n",
       "4                                 14.027298   \n",
       "\n",
       "   secondary_cleaner.state.floatbank4_a_level  \\\n",
       "0                                 -502.488007   \n",
       "1                                 -505.503262   \n",
       "2                                 -502.520901   \n",
       "3                                 -500.857308   \n",
       "4                                 -499.838632   \n",
       "\n",
       "   secondary_cleaner.state.floatbank4_b_air  \\\n",
       "0                                 12.099931   \n",
       "1                                 11.950531   \n",
       "2                                 11.912783   \n",
       "3                                 11.999550   \n",
       "4                                 11.953070   \n",
       "\n",
       "   secondary_cleaner.state.floatbank4_b_level  \\\n",
       "0                                 -504.715942   \n",
       "1                                 -501.331529   \n",
       "2                                 -501.133383   \n",
       "3                                 -501.193686   \n",
       "4                                 -501.053894   \n",
       "\n",
       "   secondary_cleaner.state.floatbank5_a_air  \\\n",
       "0                                  9.925633   \n",
       "1                                 10.039245   \n",
       "2                                 10.070913   \n",
       "3                                  9.970366   \n",
       "4                                  9.925709   \n",
       "\n",
       "   secondary_cleaner.state.floatbank5_a_level  \\\n",
       "0                                 -498.310211   \n",
       "1                                 -500.169983   \n",
       "2                                 -500.129135   \n",
       "3                                 -499.201640   \n",
       "4                                 -501.686727   \n",
       "\n",
       "   secondary_cleaner.state.floatbank5_b_air  \\\n",
       "0                                  8.079666   \n",
       "1                                  7.984757   \n",
       "2                                  8.013877   \n",
       "3                                  7.977324   \n",
       "4                                  7.894242   \n",
       "\n",
       "   secondary_cleaner.state.floatbank5_b_level  \\\n",
       "0                                 -500.470978   \n",
       "1                                 -500.582168   \n",
       "2                                 -500.517572   \n",
       "3                                 -500.255908   \n",
       "4                                 -500.356035   \n",
       "\n",
       "   secondary_cleaner.state.floatbank6_a_air  \\\n",
       "0                                 14.151341   \n",
       "1                                 13.998353   \n",
       "2                                 14.028663   \n",
       "3                                 14.005551   \n",
       "4                                 13.996647   \n",
       "\n",
       "   secondary_cleaner.state.floatbank6_a_level  \n",
       "0                                 -605.841980  \n",
       "1                                 -599.787184  \n",
       "2                                 -601.427363  \n",
       "3                                 -599.996129  \n",
       "4                                 -601.496691  \n",
       "\n",
       "[5 rows x 87 columns]"
      ]
     },
     "execution_count": 5,
     "metadata": {},
     "output_type": "execute_result"
    }
   ],
   "source": [
    "full.head()"
   ]
  },
  {
   "cell_type": "code",
   "execution_count": 6,
   "metadata": {},
   "outputs": [
    {
     "data": {
      "text/plain": [
       "secondary_cleaner.output.tail_sol                     11.343558\n",
       "rougher.state.floatbank10_e_air                        3.081490\n",
       "rougher.input.floatbank11_xanthate                     3.024949\n",
       "primary_cleaner.output.concentrate_sol                 2.021344\n",
       "secondary_cleaner.state.floatbank2_a_air               1.533677\n",
       "final.output.concentrate_sol                           1.491271\n",
       "rougher.input.feed_size                                1.017740\n",
       "primary_cleaner.input.xanthate                         0.706764\n",
       "rougher.input.feed_pb                                  0.706764\n",
       "final.output.tail_pb                                   0.706764\n",
       "primary_cleaner.output.concentrate_pb                  0.607817\n",
       "rougher.input.feed_sol                                 0.551276\n",
       "primary_cleaner.output.tail_sol                        0.325111\n",
       "rougher.input.floatbank11_sulfate                      0.254435\n",
       "primary_cleaner.input.depressant                       0.226164\n",
       "rougher.input.floatbank10_sulfate                      0.204961\n",
       "rougher.output.concentrate_sol                         0.155488\n",
       "secondary_cleaner.state.floatbank2_b_air               0.148420\n",
       "primary_cleaner.input.sulfate                          0.141353\n",
       "primary_cleaner.output.tail_pb                         0.106015\n",
       "secondary_cleaner.output.tail_pb                       0.070676\n",
       "rougher.input.feed_rate                                0.056541\n",
       "rougher.input.floatbank10_xanthate                     0.056541\n",
       "secondary_cleaner.state.floatbank4_a_air               0.042406\n",
       "final.output.tail_sol                                  0.035338\n",
       "secondary_cleaner.state.floatbank3_a_air               0.028271\n",
       "primary_cleaner.state.floatbank8_a_air                 0.028271\n",
       "primary_cleaner.state.floatbank8_b_air                 0.028271\n",
       "primary_cleaner.state.floatbank8_d_air                 0.021203\n",
       "primary_cleaner.state.floatbank8_c_air                 0.014135\n",
       "secondary_cleaner.output.tail_ag                       0.014135\n",
       "secondary_cleaner.state.floatbank6_a_air               0.014135\n",
       "rougher.state.floatbank10_b_level                      0.007068\n",
       "rougher.state.floatbank10_b_air                        0.007068\n",
       "rougher.state.floatbank10_c_level                      0.007068\n",
       "rougher.state.floatbank10_c_air                        0.007068\n",
       "secondary_cleaner.state.floatbank3_a_level             0.007068\n",
       "secondary_cleaner.state.floatbank2_a_level             0.007068\n",
       "secondary_cleaner.state.floatbank2_b_level             0.007068\n",
       "rougher.state.floatbank10_a_air                        0.007068\n",
       "secondary_cleaner.state.floatbank3_b_air               0.007068\n",
       "secondary_cleaner.state.floatbank3_b_level             0.007068\n",
       "secondary_cleaner.state.floatbank4_a_level             0.007068\n",
       "secondary_cleaner.state.floatbank4_b_air               0.007068\n",
       "secondary_cleaner.state.floatbank4_b_level             0.007068\n",
       "secondary_cleaner.state.floatbank5_a_air               0.007068\n",
       "secondary_cleaner.state.floatbank5_a_level             0.007068\n",
       "secondary_cleaner.state.floatbank5_b_air               0.007068\n",
       "secondary_cleaner.state.floatbank5_b_level             0.007068\n",
       "rougher.state.floatbank10_a_level                      0.007068\n",
       "secondary_cleaner.state.floatbank6_a_level             0.007068\n",
       "rougher.calculation.floatbank11_sulfate_to_au_feed     0.007068\n",
       "rougher.calculation.floatbank10_sulfate_to_au_feed     0.007068\n",
       "primary_cleaner.state.floatbank8_d_level               0.007068\n",
       "primary_cleaner.state.floatbank8_c_level               0.007068\n",
       "primary_cleaner.state.floatbank8_b_level               0.007068\n",
       "primary_cleaner.state.floatbank8_a_level               0.007068\n",
       "primary_cleaner.output.tail_ag                         0.007068\n",
       "final.output.concentrate_ag                            0.007068\n",
       "rougher.calculation.sulfate_to_au_concentrate          0.007068\n",
       "dtype: float64"
      ]
     },
     "execution_count": 6,
     "metadata": {},
     "output_type": "execute_result"
    }
   ],
   "source": [
    "train.isna().sum().sort_values(ascending=False).head(60)/len(train)*100"
   ]
  },
  {
   "cell_type": "code",
   "execution_count": 7,
   "metadata": {},
   "outputs": [
    {
     "data": {
      "text/plain": [
       "rougher.input.floatbank11_xanthate            0.472590\n",
       "rougher.input.feed_sol                        0.396975\n",
       "secondary_cleaner.state.floatbank3_a_air      0.170132\n",
       "rougher.input.floatbank11_sulfate             0.151229\n",
       "primary_cleaner.input.depressant              0.094518\n",
       "rougher.input.floatbank10_sulfate             0.094518\n",
       "primary_cleaner.input.xanthate                0.075614\n",
       "primary_cleaner.input.sulfate                 0.075614\n",
       "rougher.input.feed_rate                       0.056711\n",
       "secondary_cleaner.state.floatbank2_a_air      0.056711\n",
       "secondary_cleaner.state.floatbank2_b_air      0.037807\n",
       "rougher.input.feed_size                       0.018904\n",
       "secondary_cleaner.state.floatbank2_b_level    0.000000\n",
       "rougher.state.floatbank10_f_level             0.000000\n",
       "rougher.state.floatbank10_f_air               0.000000\n",
       "secondary_cleaner.state.floatbank3_a_level    0.000000\n",
       "secondary_cleaner.state.floatbank2_a_level    0.000000\n",
       "date                                          0.000000\n",
       "rougher.state.floatbank10_e_air               0.000000\n",
       "secondary_cleaner.state.floatbank3_b_air      0.000000\n",
       "dtype: float64"
      ]
     },
     "execution_count": 7,
     "metadata": {},
     "output_type": "execute_result"
    }
   ],
   "source": [
    "test.isna().sum().sort_values(ascending=False).head(20)/len(test)*100"
   ]
  },
  {
   "cell_type": "code",
   "execution_count": 8,
   "metadata": {},
   "outputs": [
    {
     "data": {
      "text/plain": [
       "secondary_cleaner.output.tail_sol                     8.992232\n",
       "rougher.input.floatbank11_xanthate                    2.330367\n",
       "rougher.state.floatbank10_e_air                       2.242914\n",
       "primary_cleaner.output.concentrate_sol                1.903390\n",
       "secondary_cleaner.state.floatbank2_a_air              1.131745\n",
       "final.output.concentrate_sol                          1.085447\n",
       "rougher.input.feed_size                               0.745923\n",
       "primary_cleaner.output.concentrate_pb                 0.596739\n",
       "primary_cleaner.input.xanthate                        0.535007\n",
       "final.output.tail_pb                                  0.519574\n",
       "rougher.input.feed_pb                                 0.514430\n",
       "rougher.input.feed_sol                                0.509285\n",
       "primary_cleaner.output.tail_sol                       0.318946\n",
       "rougher.input.floatbank11_sulfate                     0.226349\n",
       "primary_cleaner.input.depressant                      0.190339\n",
       "rougher.input.floatbank10_sulfate                     0.174906\n",
       "primary_cleaner.input.sulfate                         0.123463\n",
       "rougher.output.concentrate_sol                        0.118319\n",
       "secondary_cleaner.state.floatbank2_b_air              0.118319\n",
       "primary_cleaner.output.tail_pb                        0.108030\n",
       "secondary_cleaner.state.floatbank3_a_air              0.066876\n",
       "secondary_cleaner.output.tail_pb                      0.061732\n",
       "rougher.input.feed_rate                               0.056587\n",
       "rougher.input.floatbank10_xanthate                    0.041154\n",
       "final.output.tail_sol                                 0.030866\n",
       "secondary_cleaner.state.floatbank4_a_air              0.030866\n",
       "primary_cleaner.output.tail_ag                        0.020577\n",
       "primary_cleaner.state.floatbank8_b_air                0.020577\n",
       "primary_cleaner.state.floatbank8_a_air                0.020577\n",
       "primary_cleaner.state.floatbank8_d_air                0.015433\n",
       "rougher.calculation.floatbank11_sulfate_to_au_feed    0.010289\n",
       "secondary_cleaner.output.tail_ag                      0.010289\n",
       "primary_cleaner.state.floatbank8_c_air                0.010289\n",
       "rougher.calculation.sulfate_to_au_concentrate         0.010289\n",
       "secondary_cleaner.state.floatbank6_a_air              0.010289\n",
       "rougher.calculation.floatbank10_sulfate_to_au_feed    0.010289\n",
       "secondary_cleaner.state.floatbank2_b_level            0.005144\n",
       "secondary_cleaner.state.floatbank5_a_air              0.005144\n",
       "rougher.state.floatbank10_b_level                     0.005144\n",
       "rougher.state.floatbank10_c_air                       0.005144\n",
       "rougher.state.floatbank10_c_level                     0.005144\n",
       "secondary_cleaner.state.floatbank5_b_level            0.005144\n",
       "secondary_cleaner.state.floatbank5_b_air              0.005144\n",
       "secondary_cleaner.state.floatbank5_a_level            0.005144\n",
       "secondary_cleaner.state.floatbank4_b_level            0.005144\n",
       "secondary_cleaner.state.floatbank4_b_air              0.005144\n",
       "secondary_cleaner.state.floatbank4_a_level            0.005144\n",
       "secondary_cleaner.state.floatbank3_b_level            0.005144\n",
       "secondary_cleaner.state.floatbank2_a_level            0.005144\n",
       "secondary_cleaner.state.floatbank3_b_air              0.005144\n",
       "rougher.state.floatbank10_a_level                     0.005144\n",
       "secondary_cleaner.state.floatbank3_a_level            0.005144\n",
       "rougher.state.floatbank10_b_air                       0.005144\n",
       "secondary_cleaner.state.floatbank6_a_level            0.005144\n",
       "rougher.state.floatbank10_a_air                       0.005144\n",
       "final.output.tail_ag                                  0.005144\n",
       "final.output.concentrate_ag                           0.005144\n",
       "primary_cleaner.state.floatbank8_c_level              0.005144\n",
       "primary_cleaner.state.floatbank8_b_level              0.005144\n",
       "primary_cleaner.state.floatbank8_a_level              0.005144\n",
       "dtype: float64"
      ]
     },
     "execution_count": 8,
     "metadata": {},
     "output_type": "execute_result"
    }
   ],
   "source": [
    "full.isna().sum().sort_values(ascending=False).head(60)/len(full)*100"
   ]
  },
  {
   "cell_type": "code",
   "execution_count": 9,
   "metadata": {},
   "outputs": [
    {
     "data": {
      "text/plain": [
       "<AxesSubplot:>"
      ]
     },
     "execution_count": 9,
     "metadata": {},
     "output_type": "execute_result"
    },
    {
     "data": {
      "image/png": "[encoded data removed]",
      "text/plain": [
       "<Figure size 432x288 with 1 Axes>"
      ]
     },
     "metadata": {},
     "output_type": "display_data"
    }
   ],
   "source": [
    "fig, axes = plt.subplots(facecolor='white')\n",
    "\n",
    "train['secondary_cleaner.output.tail_sol'].hist(ax=axes)"
   ]
  },
  {
   "cell_type": "code",
   "execution_count": 10,
   "metadata": {},
   "outputs": [
    {
     "data": {
      "text/plain": [
       "<AxesSubplot:>"
      ]
     },
     "execution_count": 10,
     "metadata": {},
     "output_type": "execute_result"
    },
    {
     "data": {
      "image/png": "[encoded data removed]",
      "text/plain": [
       "<Figure size 432x288 with 1 Axes>"
      ]
     },
     "metadata": {},
     "output_type": "display_data"
    }
   ],
   "source": [
    "fig, axes = plt.subplots(facecolor='white')\n",
    "\n",
    "train['secondary_cleaner.output.tail_sol'].hist(density= True, bins=20, alpha=0.5, ax=axes)\n",
    "full['secondary_cleaner.output.tail_sol'].hist(density= True, bins=20, alpha=0.5, ax=axes)"
   ]
  },
  {
   "cell_type": "markdown",
   "metadata": {},
   "source": [
    "**Results**\n",
    "\n",
    "1. The date must be converted to the date format\n",
    "2. Many indicators are missing data\n",
    "3. The data in the test and training samples is different, in the latter there are much more missing values.\n",
    "4. According to the indicator secondary_cleaner.output.tail_sol - more than 10% of gaps, a strong difference between the training and the full distribution sample. Perhaps we should not use this indicator in models?"
   ]
  },
  {
   "cell_type": "markdown",
   "metadata": {},
   "source": [
    "### Calculation of Enrichment Efficiency"
   ]
  },
  {
   "cell_type": "markdown",
   "metadata": {},
   "source": [
    "$$Recovery = (C*(F-T))/(F*(C-T))$$\n",
    "\n",
    "where\n",
    "\n",
    "* C is the proportion of gold in the concentrate after flotation/refining;\n",
    " \n",
    "* F is the share of gold in the raw material/concentrate before flotation/refining;\n",
    "\n",
    "* T is the proportion of gold in tailings after flotation/cleaning."
   ]
  },
  {
   "cell_type": "markdown",
   "metadata": {},
   "source": [
    "All 3 parts are about the concentration of gold. That is, we need to find it in the names"
   ]
  },
  {
   "cell_type": "code",
   "execution_count": 11,
   "metadata": {},
   "outputs": [],
   "source": [
    "train.head()\n",
    "x = pd.DataFrame(train.columns, columns=['names'])\n",
    "y = x['names'].str.split('.', n = 2, expand=True)\n",
    "x['train_1'] = y[0]\n",
    "x['train_2'] = y[1]\n",
    "x['train_3'] = y[2]\n",
    "x = x.dropna()"
   ]
  },
  {
   "cell_type": "code",
   "execution_count": 12,
   "metadata": {},
   "outputs": [
    {
     "data": {
      "text/html": [
       "<div>\n",
       "<style scoped>\n",
       "    .dataframe tbody tr th:only-of-type {\n",
       "        vertical-align: middle;\n",
       "    }\n",
       "\n",
       "    .dataframe tbody tr th {\n",
       "        vertical-align: top;\n",
       "    }\n",
       "\n",
       "    .dataframe thead th {\n",
       "        text-align: right;\n",
       "    }\n",
       "</style>\n",
       "<table border=\"1\" class=\"dataframe\">\n",
       "  <thead>\n",
       "    <tr style=\"text-align: right;\">\n",
       "      <th></th>\n",
       "      <th>names</th>\n",
       "      <th>train_1</th>\n",
       "      <th>train_2</th>\n",
       "      <th>train_3</th>\n",
       "    </tr>\n",
       "  </thead>\n",
       "  <tbody>\n",
       "    <tr>\n",
       "      <th>4</th>\n",
       "      <td>final.output.concentrate_au</td>\n",
       "      <td>final</td>\n",
       "      <td>output</td>\n",
       "      <td>concentrate_au</td>\n",
       "    </tr>\n",
       "    <tr>\n",
       "      <th>17</th>\n",
       "      <td>primary_cleaner.output.concentrate_au</td>\n",
       "      <td>primary_cleaner</td>\n",
       "      <td>output</td>\n",
       "      <td>concentrate_au</td>\n",
       "    </tr>\n",
       "    <tr>\n",
       "      <th>47</th>\n",
       "      <td>rougher.output.concentrate_au</td>\n",
       "      <td>rougher</td>\n",
       "      <td>output</td>\n",
       "      <td>concentrate_au</td>\n",
       "    </tr>\n",
       "  </tbody>\n",
       "</table>\n",
       "</div>"
      ],
      "text/plain": [
       "                                    names          train_1 train_2  \\\n",
       "4             final.output.concentrate_au            final  output   \n",
       "17  primary_cleaner.output.concentrate_au  primary_cleaner  output   \n",
       "47          rougher.output.concentrate_au          rougher  output   \n",
       "\n",
       "           train_3  \n",
       "4   concentrate_au  \n",
       "17  concentrate_au  \n",
       "47  concentrate_au  "
      ]
     },
     "execution_count": 12,
     "metadata": {},
     "output_type": "execute_result"
    }
   ],
   "source": [
    "x.query('train_3 == \"concentrate_au\"')"
   ]
  },
  {
   "cell_type": "code",
   "execution_count": 13,
   "metadata": {},
   "outputs": [
    {
     "data": {
      "text/html": [
       "<div>\n",
       "<style scoped>\n",
       "    .dataframe tbody tr th:only-of-type {\n",
       "        vertical-align: middle;\n",
       "    }\n",
       "\n",
       "    .dataframe tbody tr th {\n",
       "        vertical-align: top;\n",
       "    }\n",
       "\n",
       "    .dataframe thead th {\n",
       "        text-align: right;\n",
       "    }\n",
       "</style>\n",
       "<table border=\"1\" class=\"dataframe\">\n",
       "  <thead>\n",
       "    <tr style=\"text-align: right;\">\n",
       "      <th></th>\n",
       "      <th>names</th>\n",
       "      <th>train_1</th>\n",
       "      <th>train_2</th>\n",
       "      <th>train_3</th>\n",
       "    </tr>\n",
       "  </thead>\n",
       "  <tbody>\n",
       "    <tr>\n",
       "      <th>4</th>\n",
       "      <td>final.output.concentrate_au</td>\n",
       "      <td>final</td>\n",
       "      <td>output</td>\n",
       "      <td>concentrate_au</td>\n",
       "    </tr>\n",
       "    <tr>\n",
       "      <th>9</th>\n",
       "      <td>final.output.tail_au</td>\n",
       "      <td>final</td>\n",
       "      <td>output</td>\n",
       "      <td>tail_au</td>\n",
       "    </tr>\n",
       "    <tr>\n",
       "      <th>17</th>\n",
       "      <td>primary_cleaner.output.concentrate_au</td>\n",
       "      <td>primary_cleaner</td>\n",
       "      <td>output</td>\n",
       "      <td>concentrate_au</td>\n",
       "    </tr>\n",
       "    <tr>\n",
       "      <th>21</th>\n",
       "      <td>primary_cleaner.output.tail_au</td>\n",
       "      <td>primary_cleaner</td>\n",
       "      <td>output</td>\n",
       "      <td>tail_au</td>\n",
       "    </tr>\n",
       "    <tr>\n",
       "      <th>30</th>\n",
       "      <td>rougher.calculation.sulfate_to_au_concentrate</td>\n",
       "      <td>rougher</td>\n",
       "      <td>calculation</td>\n",
       "      <td>sulfate_to_au_concentrate</td>\n",
       "    </tr>\n",
       "    <tr>\n",
       "      <th>31</th>\n",
       "      <td>rougher.calculation.floatbank10_sulfate_to_au_...</td>\n",
       "      <td>rougher</td>\n",
       "      <td>calculation</td>\n",
       "      <td>floatbank10_sulfate_to_au_feed</td>\n",
       "    </tr>\n",
       "    <tr>\n",
       "      <th>32</th>\n",
       "      <td>rougher.calculation.floatbank11_sulfate_to_au_...</td>\n",
       "      <td>rougher</td>\n",
       "      <td>calculation</td>\n",
       "      <td>floatbank11_sulfate_to_au_feed</td>\n",
       "    </tr>\n",
       "    <tr>\n",
       "      <th>33</th>\n",
       "      <td>rougher.calculation.au_pb_ratio</td>\n",
       "      <td>rougher</td>\n",
       "      <td>calculation</td>\n",
       "      <td>au_pb_ratio</td>\n",
       "    </tr>\n",
       "    <tr>\n",
       "      <th>39</th>\n",
       "      <td>rougher.input.feed_au</td>\n",
       "      <td>rougher</td>\n",
       "      <td>input</td>\n",
       "      <td>feed_au</td>\n",
       "    </tr>\n",
       "    <tr>\n",
       "      <th>47</th>\n",
       "      <td>rougher.output.concentrate_au</td>\n",
       "      <td>rougher</td>\n",
       "      <td>output</td>\n",
       "      <td>concentrate_au</td>\n",
       "    </tr>\n",
       "    <tr>\n",
       "      <th>52</th>\n",
       "      <td>rougher.output.tail_au</td>\n",
       "      <td>rougher</td>\n",
       "      <td>output</td>\n",
       "      <td>tail_au</td>\n",
       "    </tr>\n",
       "    <tr>\n",
       "      <th>68</th>\n",
       "      <td>secondary_cleaner.output.tail_au</td>\n",
       "      <td>secondary_cleaner</td>\n",
       "      <td>output</td>\n",
       "      <td>tail_au</td>\n",
       "    </tr>\n",
       "  </tbody>\n",
       "</table>\n",
       "</div>"
      ],
      "text/plain": [
       "                                                names            train_1  \\\n",
       "4                         final.output.concentrate_au              final   \n",
       "9                                final.output.tail_au              final   \n",
       "17              primary_cleaner.output.concentrate_au    primary_cleaner   \n",
       "21                     primary_cleaner.output.tail_au    primary_cleaner   \n",
       "30      rougher.calculation.sulfate_to_au_concentrate            rougher   \n",
       "31  rougher.calculation.floatbank10_sulfate_to_au_...            rougher   \n",
       "32  rougher.calculation.floatbank11_sulfate_to_au_...            rougher   \n",
       "33                    rougher.calculation.au_pb_ratio            rougher   \n",
       "39                              rougher.input.feed_au            rougher   \n",
       "47                      rougher.output.concentrate_au            rougher   \n",
       "52                             rougher.output.tail_au            rougher   \n",
       "68                   secondary_cleaner.output.tail_au  secondary_cleaner   \n",
       "\n",
       "        train_2                         train_3  \n",
       "4        output                  concentrate_au  \n",
       "9        output                         tail_au  \n",
       "17       output                  concentrate_au  \n",
       "21       output                         tail_au  \n",
       "30  calculation       sulfate_to_au_concentrate  \n",
       "31  calculation  floatbank10_sulfate_to_au_feed  \n",
       "32  calculation  floatbank11_sulfate_to_au_feed  \n",
       "33  calculation                     au_pb_ratio  \n",
       "39        input                         feed_au  \n",
       "47       output                  concentrate_au  \n",
       "52       output                         tail_au  \n",
       "68       output                         tail_au  "
      ]
     },
     "execution_count": 13,
     "metadata": {},
     "output_type": "execute_result"
    }
   ],
   "source": [
    "x[x['train_3'].str.contains(r'au')]"
   ]
  },
  {
   "cell_type": "code",
   "execution_count": 14,
   "metadata": {},
   "outputs": [
    {
     "data": {
      "text/plain": [
       "['final.output.concentrate_ag',\n",
       " 'final.output.concentrate_pb',\n",
       " 'final.output.concentrate_sol',\n",
       " 'final.output.concentrate_au',\n",
       " 'final.output.recovery',\n",
       " 'final.output.tail_ag',\n",
       " 'final.output.tail_pb',\n",
       " 'final.output.tail_sol',\n",
       " 'final.output.tail_au',\n",
       " 'primary_cleaner.input.sulfate',\n",
       " 'primary_cleaner.input.depressant',\n",
       " 'primary_cleaner.input.feed_size',\n",
       " 'primary_cleaner.input.xanthate',\n",
       " 'primary_cleaner.output.concentrate_ag',\n",
       " 'primary_cleaner.output.concentrate_pb',\n",
       " 'primary_cleaner.output.concentrate_sol',\n",
       " 'primary_cleaner.output.concentrate_au',\n",
       " 'primary_cleaner.output.tail_ag',\n",
       " 'primary_cleaner.output.tail_pb',\n",
       " 'primary_cleaner.output.tail_sol',\n",
       " 'primary_cleaner.output.tail_au',\n",
       " 'primary_cleaner.state.floatbank8_a_air',\n",
       " 'primary_cleaner.state.floatbank8_a_level',\n",
       " 'primary_cleaner.state.floatbank8_b_air',\n",
       " 'primary_cleaner.state.floatbank8_b_level',\n",
       " 'primary_cleaner.state.floatbank8_c_air',\n",
       " 'primary_cleaner.state.floatbank8_c_level',\n",
       " 'primary_cleaner.state.floatbank8_d_air',\n",
       " 'primary_cleaner.state.floatbank8_d_level',\n",
       " 'rougher.calculation.sulfate_to_au_concentrate',\n",
       " 'rougher.calculation.floatbank10_sulfate_to_au_feed',\n",
       " 'rougher.calculation.floatbank11_sulfate_to_au_feed',\n",
       " 'rougher.calculation.au_pb_ratio',\n",
       " 'rougher.input.feed_ag',\n",
       " 'rougher.input.feed_pb',\n",
       " 'rougher.input.feed_rate',\n",
       " 'rougher.input.feed_size',\n",
       " 'rougher.input.feed_sol',\n",
       " 'rougher.input.feed_au',\n",
       " 'rougher.input.floatbank10_sulfate',\n",
       " 'rougher.input.floatbank10_xanthate',\n",
       " 'rougher.input.floatbank11_sulfate',\n",
       " 'rougher.input.floatbank11_xanthate',\n",
       " 'rougher.output.concentrate_ag',\n",
       " 'rougher.output.concentrate_pb',\n",
       " 'rougher.output.concentrate_sol',\n",
       " 'rougher.output.concentrate_au',\n",
       " 'rougher.output.recovery',\n",
       " 'rougher.output.tail_ag',\n",
       " 'rougher.output.tail_pb',\n",
       " 'rougher.output.tail_sol',\n",
       " 'rougher.output.tail_au',\n",
       " 'rougher.state.floatbank10_a_air',\n",
       " 'rougher.state.floatbank10_a_level',\n",
       " 'rougher.state.floatbank10_b_air',\n",
       " 'rougher.state.floatbank10_b_level',\n",
       " 'rougher.state.floatbank10_c_air',\n",
       " 'rougher.state.floatbank10_c_level',\n",
       " 'rougher.state.floatbank10_d_air',\n",
       " 'rougher.state.floatbank10_d_level',\n",
       " 'rougher.state.floatbank10_e_air',\n",
       " 'rougher.state.floatbank10_e_level',\n",
       " 'rougher.state.floatbank10_f_air',\n",
       " 'rougher.state.floatbank10_f_level',\n",
       " 'secondary_cleaner.output.tail_ag',\n",
       " 'secondary_cleaner.output.tail_pb',\n",
       " 'secondary_cleaner.output.tail_sol',\n",
       " 'secondary_cleaner.output.tail_au',\n",
       " 'secondary_cleaner.state.floatbank2_a_air',\n",
       " 'secondary_cleaner.state.floatbank2_a_level',\n",
       " 'secondary_cleaner.state.floatbank2_b_air',\n",
       " 'secondary_cleaner.state.floatbank2_b_level',\n",
       " 'secondary_cleaner.state.floatbank3_a_air',\n",
       " 'secondary_cleaner.state.floatbank3_a_level',\n",
       " 'secondary_cleaner.state.floatbank3_b_air',\n",
       " 'secondary_cleaner.state.floatbank3_b_level',\n",
       " 'secondary_cleaner.state.floatbank4_a_air',\n",
       " 'secondary_cleaner.state.floatbank4_a_level',\n",
       " 'secondary_cleaner.state.floatbank4_b_air',\n",
       " 'secondary_cleaner.state.floatbank4_b_level',\n",
       " 'secondary_cleaner.state.floatbank5_a_air',\n",
       " 'secondary_cleaner.state.floatbank5_a_level',\n",
       " 'secondary_cleaner.state.floatbank5_b_air',\n",
       " 'secondary_cleaner.state.floatbank5_b_level',\n",
       " 'secondary_cleaner.state.floatbank6_a_air',\n",
       " 'secondary_cleaner.state.floatbank6_a_level']"
      ]
     },
     "execution_count": 14,
     "metadata": {},
     "output_type": "execute_result"
    }
   ],
   "source": [
    "x['names'].to_list()"
   ]
  },
  {
   "cell_type": "markdown",
   "metadata": {},
   "source": [
    "What indicators do we need:\n",
    "\n",
    "**rougher.output.recovery** - compare with it. Compare obtained after floatation\n",
    "\n",
    "* C is the proportion of gold in the concentrate after flotation/refining; **rougher.output.concentrate_au**\n",
    "\n",
    "* F is the share of gold in the raw material/concentrate before flotation/refining; **rougher.input.feed_au**\n",
    "\n",
    "* T is the proportion of gold in tailings after flotation/cleaning. **rougher.output.tail_au**\n",
    "\n"
   ]
  },
  {
   "cell_type": "code",
   "execution_count": 15,
   "metadata": {},
   "outputs": [],
   "source": [
    "check_rec = train[['rougher.output.recovery',\n",
    "                   'rougher.output.concentrate_au',\n",
    "                   'rougher.input.feed_au',\n",
    "                  'rougher.output.tail_au']]"
   ]
  },
  {
   "cell_type": "code",
   "execution_count": 16,
   "metadata": {},
   "outputs": [
    {
     "name": "stdout",
     "output_type": "stream",
     "text": [
      "<class 'pandas.core.frame.DataFrame'>\n",
      "RangeIndex: 14149 entries, 0 to 14148\n",
      "Data columns (total 4 columns):\n",
      " #   Column                         Non-Null Count  Dtype  \n",
      "---  ------                         --------------  -----  \n",
      " 0   rougher.output.recovery        14149 non-null  float64\n",
      " 1   rougher.output.concentrate_au  14149 non-null  float64\n",
      " 2   rougher.input.feed_au          14149 non-null  float64\n",
      " 3   rougher.output.tail_au         14149 non-null  float64\n",
      "dtypes: float64(4)\n",
      "memory usage: 442.3 KB\n"
     ]
    }
   ],
   "source": [
    "check_rec.info()"
   ]
  },
  {
   "cell_type": "code",
   "execution_count": 17,
   "metadata": {},
   "outputs": [
    {
     "data": {
      "text/html": [
       "<div>\n",
       "<style scoped>\n",
       "    .dataframe tbody tr th:only-of-type {\n",
       "        vertical-align: middle;\n",
       "    }\n",
       "\n",
       "    .dataframe tbody tr th {\n",
       "        vertical-align: top;\n",
       "    }\n",
       "\n",
       "    .dataframe thead th {\n",
       "        text-align: right;\n",
       "    }\n",
       "</style>\n",
       "<table border=\"1\" class=\"dataframe\">\n",
       "  <thead>\n",
       "    <tr style=\"text-align: right;\">\n",
       "      <th></th>\n",
       "      <th>rougher.output.recovery</th>\n",
       "      <th>rougher.output.concentrate_au</th>\n",
       "      <th>rougher.input.feed_au</th>\n",
       "      <th>rougher.output.tail_au</th>\n",
       "    </tr>\n",
       "  </thead>\n",
       "  <tbody>\n",
       "    <tr>\n",
       "      <th>0</th>\n",
       "      <td>87.107763</td>\n",
       "      <td>19.793808</td>\n",
       "      <td>6.486150</td>\n",
       "      <td>1.170244</td>\n",
       "    </tr>\n",
       "    <tr>\n",
       "      <th>1</th>\n",
       "      <td>86.843261</td>\n",
       "      <td>20.050975</td>\n",
       "      <td>6.478583</td>\n",
       "      <td>1.184827</td>\n",
       "    </tr>\n",
       "    <tr>\n",
       "      <th>2</th>\n",
       "      <td>86.842308</td>\n",
       "      <td>19.737170</td>\n",
       "      <td>6.362222</td>\n",
       "      <td>1.162562</td>\n",
       "    </tr>\n",
       "    <tr>\n",
       "      <th>3</th>\n",
       "      <td>87.226430</td>\n",
       "      <td>19.320810</td>\n",
       "      <td>6.118189</td>\n",
       "      <td>1.079755</td>\n",
       "    </tr>\n",
       "    <tr>\n",
       "      <th>4</th>\n",
       "      <td>86.688794</td>\n",
       "      <td>19.216101</td>\n",
       "      <td>5.663707</td>\n",
       "      <td>1.012642</td>\n",
       "    </tr>\n",
       "  </tbody>\n",
       "</table>\n",
       "</div>"
      ],
      "text/plain": [
       "   rougher.output.recovery  rougher.output.concentrate_au  \\\n",
       "0                87.107763                      19.793808   \n",
       "1                86.843261                      20.050975   \n",
       "2                86.842308                      19.737170   \n",
       "3                87.226430                      19.320810   \n",
       "4                86.688794                      19.216101   \n",
       "\n",
       "   rougher.input.feed_au  rougher.output.tail_au  \n",
       "0               6.486150                1.170244  \n",
       "1               6.478583                1.184827  \n",
       "2               6.362222                1.162562  \n",
       "3               6.118189                1.079755  \n",
       "4               5.663707                1.012642  "
      ]
     },
     "execution_count": 17,
     "metadata": {},
     "output_type": "execute_result"
    }
   ],
   "source": [
    "check_rec.head()"
   ]
  },
  {
   "cell_type": "code",
   "execution_count": 18,
   "metadata": {},
   "outputs": [],
   "source": [
    "def calculate_recovery(c, f, t):\n",
    "    recovery = (c * (f-t)) /(f*(c-t)) * 100\n",
    "    return recovery"
   ]
  },
  {
   "cell_type": "code",
   "execution_count": 19,
   "metadata": {},
   "outputs": [],
   "source": [
    "check_rec['rougher.output.recovery_calc'] = calculate_recovery(check_rec['rougher.output.concentrate_au'], \n",
    "                  check_rec['rougher.input.feed_au'],\n",
    "                  check_rec['rougher.output.tail_au'])"
   ]
  },
  {
   "cell_type": "code",
   "execution_count": 20,
   "metadata": {},
   "outputs": [],
   "source": [
    "check_rec['comparison'] = check_rec['rougher.output.recovery'] - check_rec['rougher.output.recovery_calc']"
   ]
  },
  {
   "cell_type": "code",
   "execution_count": 21,
   "metadata": {},
   "outputs": [
    {
     "data": {
      "text/plain": [
       "1.964650664376677e-12"
      ]
     },
     "execution_count": 21,
     "metadata": {},
     "output_type": "execute_result"
    }
   ],
   "source": [
    "check_rec['comparison'].sum()"
   ]
  },
  {
   "cell_type": "code",
   "execution_count": 22,
   "metadata": {},
   "outputs": [
    {
     "data": {
      "text/html": [
       "<div>\n",
       "<style scoped>\n",
       "    .dataframe tbody tr th:only-of-type {\n",
       "        vertical-align: middle;\n",
       "    }\n",
       "\n",
       "    .dataframe tbody tr th {\n",
       "        vertical-align: top;\n",
       "    }\n",
       "\n",
       "    .dataframe thead th {\n",
       "        text-align: right;\n",
       "    }\n",
       "</style>\n",
       "<table border=\"1\" class=\"dataframe\">\n",
       "  <thead>\n",
       "    <tr style=\"text-align: right;\">\n",
       "      <th></th>\n",
       "      <th>rougher.output.recovery</th>\n",
       "      <th>rougher.output.concentrate_au</th>\n",
       "      <th>rougher.input.feed_au</th>\n",
       "      <th>rougher.output.tail_au</th>\n",
       "      <th>rougher.output.recovery_calc</th>\n",
       "      <th>comparison</th>\n",
       "    </tr>\n",
       "  </thead>\n",
       "  <tbody>\n",
       "    <tr>\n",
       "      <th>count</th>\n",
       "      <td>14149.000000</td>\n",
       "      <td>14149.000000</td>\n",
       "      <td>14149.000000</td>\n",
       "      <td>14149.000000</td>\n",
       "      <td>14149.000000</td>\n",
       "      <td>1.414900e+04</td>\n",
       "    </tr>\n",
       "    <tr>\n",
       "      <th>mean</th>\n",
       "      <td>82.704502</td>\n",
       "      <td>19.439958</td>\n",
       "      <td>7.866577</td>\n",
       "      <td>1.757473</td>\n",
       "      <td>82.704502</td>\n",
       "      <td>1.388544e-16</td>\n",
       "    </tr>\n",
       "    <tr>\n",
       "      <th>std</th>\n",
       "      <td>14.479156</td>\n",
       "      <td>3.765192</td>\n",
       "      <td>1.919506</td>\n",
       "      <td>0.713187</td>\n",
       "      <td>14.479156</td>\n",
       "      <td>1.475784e-14</td>\n",
       "    </tr>\n",
       "    <tr>\n",
       "      <th>min</th>\n",
       "      <td>0.000000</td>\n",
       "      <td>0.000000</td>\n",
       "      <td>0.010000</td>\n",
       "      <td>0.020676</td>\n",
       "      <td>-0.000000</td>\n",
       "      <td>-7.105427e-14</td>\n",
       "    </tr>\n",
       "    <tr>\n",
       "      <th>25%</th>\n",
       "      <td>79.993067</td>\n",
       "      <td>18.432161</td>\n",
       "      <td>6.596217</td>\n",
       "      <td>1.310800</td>\n",
       "      <td>79.993067</td>\n",
       "      <td>-1.421085e-14</td>\n",
       "    </tr>\n",
       "    <tr>\n",
       "      <th>50%</th>\n",
       "      <td>85.299462</td>\n",
       "      <td>19.947312</td>\n",
       "      <td>7.649138</td>\n",
       "      <td>1.745513</td>\n",
       "      <td>85.299462</td>\n",
       "      <td>0.000000e+00</td>\n",
       "    </tr>\n",
       "    <tr>\n",
       "      <th>75%</th>\n",
       "      <td>90.165021</td>\n",
       "      <td>21.392714</td>\n",
       "      <td>9.066976</td>\n",
       "      <td>2.186790</td>\n",
       "      <td>90.165021</td>\n",
       "      <td>1.421085e-14</td>\n",
       "    </tr>\n",
       "    <tr>\n",
       "      <th>max</th>\n",
       "      <td>100.000000</td>\n",
       "      <td>28.146838</td>\n",
       "      <td>13.126043</td>\n",
       "      <td>9.688980</td>\n",
       "      <td>100.000000</td>\n",
       "      <td>8.526513e-14</td>\n",
       "    </tr>\n",
       "  </tbody>\n",
       "</table>\n",
       "</div>"
      ],
      "text/plain": [
       "       rougher.output.recovery  rougher.output.concentrate_au  \\\n",
       "count             14149.000000                   14149.000000   \n",
       "mean                 82.704502                      19.439958   \n",
       "std                  14.479156                       3.765192   \n",
       "min                   0.000000                       0.000000   \n",
       "25%                  79.993067                      18.432161   \n",
       "50%                  85.299462                      19.947312   \n",
       "75%                  90.165021                      21.392714   \n",
       "max                 100.000000                      28.146838   \n",
       "\n",
       "       rougher.input.feed_au  rougher.output.tail_au  \\\n",
       "count           14149.000000            14149.000000   \n",
       "mean                7.866577                1.757473   \n",
       "std                 1.919506                0.713187   \n",
       "min                 0.010000                0.020676   \n",
       "25%                 6.596217                1.310800   \n",
       "50%                 7.649138                1.745513   \n",
       "75%                 9.066976                2.186790   \n",
       "max                13.126043                9.688980   \n",
       "\n",
       "       rougher.output.recovery_calc    comparison  \n",
       "count                  14149.000000  1.414900e+04  \n",
       "mean                      82.704502  1.388544e-16  \n",
       "std                       14.479156  1.475784e-14  \n",
       "min                       -0.000000 -7.105427e-14  \n",
       "25%                       79.993067 -1.421085e-14  \n",
       "50%                       85.299462  0.000000e+00  \n",
       "75%                       90.165021  1.421085e-14  \n",
       "max                      100.000000  8.526513e-14  "
      ]
     },
     "execution_count": 22,
     "metadata": {},
     "output_type": "execute_result"
    }
   ],
   "source": [
    "check_rec.describe()"
   ]
  },
  {
   "cell_type": "markdown",
   "metadata": {},
   "source": [
    "**Results**\n",
    "\n",
    "The enrichment efficiency index was calculated. The existing calculation is correct, however, it is calculated additionally by multiplying it by 100."
   ]
  },
  {
   "cell_type": "markdown",
   "metadata": {},
   "source": [
    "### Compare the presence of indicators/columns in 3 tables"
   ]
  },
  {
   "cell_type": "code",
   "execution_count": 23,
   "metadata": {},
   "outputs": [
    {
     "name": "stdout",
     "output_type": "stream",
     "text": [
      "87\n",
      "87\n",
      "53\n"
     ]
    }
   ],
   "source": [
    "print(len(train.columns))\n",
    "print(len(full.columns))\n",
    "print(len(test.columns))"
   ]
  },
  {
   "cell_type": "code",
   "execution_count": 24,
   "metadata": {},
   "outputs": [],
   "source": [
    "x = pd.DataFrame(train.columns, columns=['train'])\n",
    "y = pd.DataFrame(full.columns, columns=['full'])\n",
    "z = pd.DataFrame(test.columns, columns=['test'])\n",
    "x = x.merge(y, how='outer', left_on='train', right_on='full')\n",
    "x = x.merge(z, how='outer', left_on='train', right_on='test')"
   ]
  },
  {
   "cell_type": "code",
   "execution_count": 25,
   "metadata": {},
   "outputs": [
    {
     "name": "stdout",
     "output_type": "stream",
     "text": [
      "0\n",
      "0\n",
      "34\n"
     ]
    }
   ],
   "source": [
    "print(x['train'].isnull().sum())\n",
    "print(x['full'].isnull().sum())\n",
    "print(x['test'].isnull().sum())"
   ]
  },
  {
   "cell_type": "code",
   "execution_count": 26,
   "metadata": {},
   "outputs": [
    {
     "name": "stdout",
     "output_type": "stream",
     "text": [
      "1                           final.output.concentrate_ag\n",
      "2                           final.output.concentrate_pb\n",
      "3                          final.output.concentrate_sol\n",
      "4                           final.output.concentrate_au\n",
      "5                                 final.output.recovery\n",
      "6                                  final.output.tail_ag\n",
      "7                                  final.output.tail_pb\n",
      "8                                 final.output.tail_sol\n",
      "9                                  final.output.tail_au\n",
      "14                primary_cleaner.output.concentrate_ag\n",
      "15                primary_cleaner.output.concentrate_pb\n",
      "16               primary_cleaner.output.concentrate_sol\n",
      "17                primary_cleaner.output.concentrate_au\n",
      "18                       primary_cleaner.output.tail_ag\n",
      "19                       primary_cleaner.output.tail_pb\n",
      "20                      primary_cleaner.output.tail_sol\n",
      "21                       primary_cleaner.output.tail_au\n",
      "30        rougher.calculation.sulfate_to_au_concentrate\n",
      "31    rougher.calculation.floatbank10_sulfate_to_au_...\n",
      "32    rougher.calculation.floatbank11_sulfate_to_au_...\n",
      "33                      rougher.calculation.au_pb_ratio\n",
      "44                        rougher.output.concentrate_ag\n",
      "45                        rougher.output.concentrate_pb\n",
      "46                       rougher.output.concentrate_sol\n",
      "47                        rougher.output.concentrate_au\n",
      "48                              rougher.output.recovery\n",
      "49                               rougher.output.tail_ag\n",
      "50                               rougher.output.tail_pb\n",
      "51                              rougher.output.tail_sol\n",
      "52                               rougher.output.tail_au\n",
      "65                     secondary_cleaner.output.tail_ag\n",
      "66                     secondary_cleaner.output.tail_pb\n",
      "67                    secondary_cleaner.output.tail_sol\n",
      "68                     secondary_cleaner.output.tail_au\n",
      "Name: full, dtype: object\n"
     ]
    }
   ],
   "source": [
    "print(x[x['test'].isnull()]['full'])"
   ]
  },
  {
   "cell_type": "markdown",
   "metadata": {},
   "source": [
    "It can be seen that there are no columns with names containg *output* and *calculation* in test."
   ]
  },
  {
   "cell_type": "code",
   "execution_count": 27,
   "metadata": {},
   "outputs": [
    {
     "data": {
      "text/html": [
       "<div>\n",
       "<style scoped>\n",
       "    .dataframe tbody tr th:only-of-type {\n",
       "        vertical-align: middle;\n",
       "    }\n",
       "\n",
       "    .dataframe tbody tr th {\n",
       "        vertical-align: top;\n",
       "    }\n",
       "\n",
       "    .dataframe thead th {\n",
       "        text-align: right;\n",
       "    }\n",
       "</style>\n",
       "<table border=\"1\" class=\"dataframe\">\n",
       "  <thead>\n",
       "    <tr style=\"text-align: right;\">\n",
       "      <th></th>\n",
       "      <th>train</th>\n",
       "      <th>full</th>\n",
       "      <th>test</th>\n",
       "      <th>train_1</th>\n",
       "      <th>train_2</th>\n",
       "      <th>train_3</th>\n",
       "    </tr>\n",
       "  </thead>\n",
       "  <tbody>\n",
       "    <tr>\n",
       "      <th>0</th>\n",
       "      <td>date</td>\n",
       "      <td>date</td>\n",
       "      <td>date</td>\n",
       "      <td>date</td>\n",
       "      <td>None</td>\n",
       "      <td>None</td>\n",
       "    </tr>\n",
       "    <tr>\n",
       "      <th>1</th>\n",
       "      <td>final.output.concentrate_ag</td>\n",
       "      <td>final.output.concentrate_ag</td>\n",
       "      <td>NaN</td>\n",
       "      <td>final</td>\n",
       "      <td>output</td>\n",
       "      <td>concentrate_ag</td>\n",
       "    </tr>\n",
       "    <tr>\n",
       "      <th>2</th>\n",
       "      <td>final.output.concentrate_pb</td>\n",
       "      <td>final.output.concentrate_pb</td>\n",
       "      <td>NaN</td>\n",
       "      <td>final</td>\n",
       "      <td>output</td>\n",
       "      <td>concentrate_pb</td>\n",
       "    </tr>\n",
       "    <tr>\n",
       "      <th>3</th>\n",
       "      <td>final.output.concentrate_sol</td>\n",
       "      <td>final.output.concentrate_sol</td>\n",
       "      <td>NaN</td>\n",
       "      <td>final</td>\n",
       "      <td>output</td>\n",
       "      <td>concentrate_sol</td>\n",
       "    </tr>\n",
       "    <tr>\n",
       "      <th>4</th>\n",
       "      <td>final.output.concentrate_au</td>\n",
       "      <td>final.output.concentrate_au</td>\n",
       "      <td>NaN</td>\n",
       "      <td>final</td>\n",
       "      <td>output</td>\n",
       "      <td>concentrate_au</td>\n",
       "    </tr>\n",
       "    <tr>\n",
       "      <th>...</th>\n",
       "      <td>...</td>\n",
       "      <td>...</td>\n",
       "      <td>...</td>\n",
       "      <td>...</td>\n",
       "      <td>...</td>\n",
       "      <td>...</td>\n",
       "    </tr>\n",
       "    <tr>\n",
       "      <th>82</th>\n",
       "      <td>secondary_cleaner.state.floatbank5_a_level</td>\n",
       "      <td>secondary_cleaner.state.floatbank5_a_level</td>\n",
       "      <td>secondary_cleaner.state.floatbank5_a_level</td>\n",
       "      <td>secondary_cleaner</td>\n",
       "      <td>state</td>\n",
       "      <td>floatbank5_a_level</td>\n",
       "    </tr>\n",
       "    <tr>\n",
       "      <th>83</th>\n",
       "      <td>secondary_cleaner.state.floatbank5_b_air</td>\n",
       "      <td>secondary_cleaner.state.floatbank5_b_air</td>\n",
       "      <td>secondary_cleaner.state.floatbank5_b_air</td>\n",
       "      <td>secondary_cleaner</td>\n",
       "      <td>state</td>\n",
       "      <td>floatbank5_b_air</td>\n",
       "    </tr>\n",
       "    <tr>\n",
       "      <th>84</th>\n",
       "      <td>secondary_cleaner.state.floatbank5_b_level</td>\n",
       "      <td>secondary_cleaner.state.floatbank5_b_level</td>\n",
       "      <td>secondary_cleaner.state.floatbank5_b_level</td>\n",
       "      <td>secondary_cleaner</td>\n",
       "      <td>state</td>\n",
       "      <td>floatbank5_b_level</td>\n",
       "    </tr>\n",
       "    <tr>\n",
       "      <th>85</th>\n",
       "      <td>secondary_cleaner.state.floatbank6_a_air</td>\n",
       "      <td>secondary_cleaner.state.floatbank6_a_air</td>\n",
       "      <td>secondary_cleaner.state.floatbank6_a_air</td>\n",
       "      <td>secondary_cleaner</td>\n",
       "      <td>state</td>\n",
       "      <td>floatbank6_a_air</td>\n",
       "    </tr>\n",
       "    <tr>\n",
       "      <th>86</th>\n",
       "      <td>secondary_cleaner.state.floatbank6_a_level</td>\n",
       "      <td>secondary_cleaner.state.floatbank6_a_level</td>\n",
       "      <td>secondary_cleaner.state.floatbank6_a_level</td>\n",
       "      <td>secondary_cleaner</td>\n",
       "      <td>state</td>\n",
       "      <td>floatbank6_a_level</td>\n",
       "    </tr>\n",
       "  </tbody>\n",
       "</table>\n",
       "<p>87 rows × 6 columns</p>\n",
       "</div>"
      ],
      "text/plain": [
       "                                         train  \\\n",
       "0                                         date   \n",
       "1                  final.output.concentrate_ag   \n",
       "2                  final.output.concentrate_pb   \n",
       "3                 final.output.concentrate_sol   \n",
       "4                  final.output.concentrate_au   \n",
       "..                                         ...   \n",
       "82  secondary_cleaner.state.floatbank5_a_level   \n",
       "83    secondary_cleaner.state.floatbank5_b_air   \n",
       "84  secondary_cleaner.state.floatbank5_b_level   \n",
       "85    secondary_cleaner.state.floatbank6_a_air   \n",
       "86  secondary_cleaner.state.floatbank6_a_level   \n",
       "\n",
       "                                          full  \\\n",
       "0                                         date   \n",
       "1                  final.output.concentrate_ag   \n",
       "2                  final.output.concentrate_pb   \n",
       "3                 final.output.concentrate_sol   \n",
       "4                  final.output.concentrate_au   \n",
       "..                                         ...   \n",
       "82  secondary_cleaner.state.floatbank5_a_level   \n",
       "83    secondary_cleaner.state.floatbank5_b_air   \n",
       "84  secondary_cleaner.state.floatbank5_b_level   \n",
       "85    secondary_cleaner.state.floatbank6_a_air   \n",
       "86  secondary_cleaner.state.floatbank6_a_level   \n",
       "\n",
       "                                          test            train_1 train_2  \\\n",
       "0                                         date               date    None   \n",
       "1                                          NaN              final  output   \n",
       "2                                          NaN              final  output   \n",
       "3                                          NaN              final  output   \n",
       "4                                          NaN              final  output   \n",
       "..                                         ...                ...     ...   \n",
       "82  secondary_cleaner.state.floatbank5_a_level  secondary_cleaner   state   \n",
       "83    secondary_cleaner.state.floatbank5_b_air  secondary_cleaner   state   \n",
       "84  secondary_cleaner.state.floatbank5_b_level  secondary_cleaner   state   \n",
       "85    secondary_cleaner.state.floatbank6_a_air  secondary_cleaner   state   \n",
       "86  secondary_cleaner.state.floatbank6_a_level  secondary_cleaner   state   \n",
       "\n",
       "               train_3  \n",
       "0                 None  \n",
       "1       concentrate_ag  \n",
       "2       concentrate_pb  \n",
       "3      concentrate_sol  \n",
       "4       concentrate_au  \n",
       "..                 ...  \n",
       "82  floatbank5_a_level  \n",
       "83    floatbank5_b_air  \n",
       "84  floatbank5_b_level  \n",
       "85    floatbank6_a_air  \n",
       "86  floatbank6_a_level  \n",
       "\n",
       "[87 rows x 6 columns]"
      ]
     },
     "execution_count": 27,
     "metadata": {},
     "output_type": "execute_result"
    }
   ],
   "source": [
    "y = x['train'].str.split('.', n = 2, expand=True)\n",
    "x['train_1'] = y[0]\n",
    "x['train_2'] = y[1]\n",
    "x['train_3'] = y[2]\n",
    "x"
   ]
  },
  {
   "cell_type": "code",
   "execution_count": 28,
   "metadata": {},
   "outputs": [
    {
     "name": "stdout",
     "output_type": "stream",
     "text": [
      "train_2\n",
      "calculation     0\n",
      "input          14\n",
      "output          0\n",
      "state          38\n",
      "Name: test, dtype: int64 train_2\n",
      "calculation     4\n",
      "input          14\n",
      "output         30\n",
      "state          38\n",
      "Name: train, dtype: int64\n"
     ]
    }
   ],
   "source": [
    "print(x.groupby('train_2')['test'].count(), \n",
    "      x.groupby('train_2')['train'].count())"
   ]
  },
  {
   "cell_type": "markdown",
   "metadata": {},
   "source": [
    "There is not a single *output* and *calculation* indicator in the test data.\n",
    "\n",
    "When building a model, it will be necessary to exclude these indicators from consideration."
   ]
  },
  {
   "cell_type": "markdown",
   "metadata": {},
   "source": [
    "### Data preprocessing"
   ]
  },
  {
   "cell_type": "markdown",
   "metadata": {},
   "source": [
    "1. Convert date to date format\n",
    "2. Fill in the blanks\n",
    "3. Check for duplicates"
   ]
  },
  {
   "cell_type": "code",
   "execution_count": 29,
   "metadata": {},
   "outputs": [
    {
     "data": {
      "text/html": [
       "<div>\n",
       "<style scoped>\n",
       "    .dataframe tbody tr th:only-of-type {\n",
       "        vertical-align: middle;\n",
       "    }\n",
       "\n",
       "    .dataframe tbody tr th {\n",
       "        vertical-align: top;\n",
       "    }\n",
       "\n",
       "    .dataframe thead th {\n",
       "        text-align: right;\n",
       "    }\n",
       "</style>\n",
       "<table border=\"1\" class=\"dataframe\">\n",
       "  <thead>\n",
       "    <tr style=\"text-align: right;\">\n",
       "      <th></th>\n",
       "      <th>date</th>\n",
       "      <th>final.output.concentrate_ag</th>\n",
       "      <th>final.output.concentrate_pb</th>\n",
       "      <th>final.output.concentrate_sol</th>\n",
       "      <th>final.output.concentrate_au</th>\n",
       "      <th>final.output.recovery</th>\n",
       "      <th>final.output.tail_ag</th>\n",
       "      <th>final.output.tail_pb</th>\n",
       "      <th>final.output.tail_sol</th>\n",
       "      <th>final.output.tail_au</th>\n",
       "      <th>...</th>\n",
       "      <th>secondary_cleaner.state.floatbank4_a_air</th>\n",
       "      <th>secondary_cleaner.state.floatbank4_a_level</th>\n",
       "      <th>secondary_cleaner.state.floatbank4_b_air</th>\n",
       "      <th>secondary_cleaner.state.floatbank4_b_level</th>\n",
       "      <th>secondary_cleaner.state.floatbank5_a_air</th>\n",
       "      <th>secondary_cleaner.state.floatbank5_a_level</th>\n",
       "      <th>secondary_cleaner.state.floatbank5_b_air</th>\n",
       "      <th>secondary_cleaner.state.floatbank5_b_level</th>\n",
       "      <th>secondary_cleaner.state.floatbank6_a_air</th>\n",
       "      <th>secondary_cleaner.state.floatbank6_a_level</th>\n",
       "    </tr>\n",
       "  </thead>\n",
       "  <tbody>\n",
       "    <tr>\n",
       "      <th>0</th>\n",
       "      <td>2016-01-15 00:00:00</td>\n",
       "      <td>6.055403</td>\n",
       "      <td>9.889648</td>\n",
       "      <td>5.507324</td>\n",
       "      <td>42.192020</td>\n",
       "      <td>70.541216</td>\n",
       "      <td>10.411962</td>\n",
       "      <td>0.895447</td>\n",
       "      <td>16.904297</td>\n",
       "      <td>2.143149</td>\n",
       "      <td>...</td>\n",
       "      <td>14.016835</td>\n",
       "      <td>-502.488007</td>\n",
       "      <td>12.099931</td>\n",
       "      <td>-504.715942</td>\n",
       "      <td>9.925633</td>\n",
       "      <td>-498.310211</td>\n",
       "      <td>8.079666</td>\n",
       "      <td>-500.470978</td>\n",
       "      <td>14.151341</td>\n",
       "      <td>-605.841980</td>\n",
       "    </tr>\n",
       "    <tr>\n",
       "      <th>1</th>\n",
       "      <td>2016-01-15 01:00:00</td>\n",
       "      <td>6.029369</td>\n",
       "      <td>9.968944</td>\n",
       "      <td>5.257781</td>\n",
       "      <td>42.701629</td>\n",
       "      <td>69.266198</td>\n",
       "      <td>10.462676</td>\n",
       "      <td>0.927452</td>\n",
       "      <td>16.634514</td>\n",
       "      <td>2.224930</td>\n",
       "      <td>...</td>\n",
       "      <td>13.992281</td>\n",
       "      <td>-505.503262</td>\n",
       "      <td>11.950531</td>\n",
       "      <td>-501.331529</td>\n",
       "      <td>10.039245</td>\n",
       "      <td>-500.169983</td>\n",
       "      <td>7.984757</td>\n",
       "      <td>-500.582168</td>\n",
       "      <td>13.998353</td>\n",
       "      <td>-599.787184</td>\n",
       "    </tr>\n",
       "    <tr>\n",
       "      <th>2</th>\n",
       "      <td>2016-01-15 02:00:00</td>\n",
       "      <td>6.055926</td>\n",
       "      <td>10.213995</td>\n",
       "      <td>5.383759</td>\n",
       "      <td>42.657501</td>\n",
       "      <td>68.116445</td>\n",
       "      <td>10.507046</td>\n",
       "      <td>0.953716</td>\n",
       "      <td>16.208849</td>\n",
       "      <td>2.257889</td>\n",
       "      <td>...</td>\n",
       "      <td>14.015015</td>\n",
       "      <td>-502.520901</td>\n",
       "      <td>11.912783</td>\n",
       "      <td>-501.133383</td>\n",
       "      <td>10.070913</td>\n",
       "      <td>-500.129135</td>\n",
       "      <td>8.013877</td>\n",
       "      <td>-500.517572</td>\n",
       "      <td>14.028663</td>\n",
       "      <td>-601.427363</td>\n",
       "    </tr>\n",
       "    <tr>\n",
       "      <th>3</th>\n",
       "      <td>2016-01-15 03:00:00</td>\n",
       "      <td>6.047977</td>\n",
       "      <td>9.977019</td>\n",
       "      <td>4.858634</td>\n",
       "      <td>42.689819</td>\n",
       "      <td>68.347543</td>\n",
       "      <td>10.422762</td>\n",
       "      <td>0.883763</td>\n",
       "      <td>16.532835</td>\n",
       "      <td>2.146849</td>\n",
       "      <td>...</td>\n",
       "      <td>14.036510</td>\n",
       "      <td>-500.857308</td>\n",
       "      <td>11.999550</td>\n",
       "      <td>-501.193686</td>\n",
       "      <td>9.970366</td>\n",
       "      <td>-499.201640</td>\n",
       "      <td>7.977324</td>\n",
       "      <td>-500.255908</td>\n",
       "      <td>14.005551</td>\n",
       "      <td>-599.996129</td>\n",
       "    </tr>\n",
       "    <tr>\n",
       "      <th>4</th>\n",
       "      <td>2016-01-15 04:00:00</td>\n",
       "      <td>6.148599</td>\n",
       "      <td>10.142511</td>\n",
       "      <td>4.939416</td>\n",
       "      <td>42.774141</td>\n",
       "      <td>66.927016</td>\n",
       "      <td>10.360302</td>\n",
       "      <td>0.792826</td>\n",
       "      <td>16.525686</td>\n",
       "      <td>2.055292</td>\n",
       "      <td>...</td>\n",
       "      <td>14.027298</td>\n",
       "      <td>-499.838632</td>\n",
       "      <td>11.953070</td>\n",
       "      <td>-501.053894</td>\n",
       "      <td>9.925709</td>\n",
       "      <td>-501.686727</td>\n",
       "      <td>7.894242</td>\n",
       "      <td>-500.356035</td>\n",
       "      <td>13.996647</td>\n",
       "      <td>-601.496691</td>\n",
       "    </tr>\n",
       "  </tbody>\n",
       "</table>\n",
       "<p>5 rows × 87 columns</p>\n",
       "</div>"
      ],
      "text/plain": [
       "                  date  final.output.concentrate_ag  \\\n",
       "0  2016-01-15 00:00:00                     6.055403   \n",
       "1  2016-01-15 01:00:00                     6.029369   \n",
       "2  2016-01-15 02:00:00                     6.055926   \n",
       "3  2016-01-15 03:00:00                     6.047977   \n",
       "4  2016-01-15 04:00:00                     6.148599   \n",
       "\n",
       "   final.output.concentrate_pb  final.output.concentrate_sol  \\\n",
       "0                     9.889648                      5.507324   \n",
       "1                     9.968944                      5.257781   \n",
       "2                    10.213995                      5.383759   \n",
       "3                     9.977019                      4.858634   \n",
       "4                    10.142511                      4.939416   \n",
       "\n",
       "   final.output.concentrate_au  final.output.recovery  final.output.tail_ag  \\\n",
       "0                    42.192020              70.541216             10.411962   \n",
       "1                    42.701629              69.266198             10.462676   \n",
       "2                    42.657501              68.116445             10.507046   \n",
       "3                    42.689819              68.347543             10.422762   \n",
       "4                    42.774141              66.927016             10.360302   \n",
       "\n",
       "   final.output.tail_pb  final.output.tail_sol  final.output.tail_au  ...  \\\n",
       "0              0.895447              16.904297              2.143149  ...   \n",
       "1              0.927452              16.634514              2.224930  ...   \n",
       "2              0.953716              16.208849              2.257889  ...   \n",
       "3              0.883763              16.532835              2.146849  ...   \n",
       "4              0.792826              16.525686              2.055292  ...   \n",
       "\n",
       "   secondary_cleaner.state.floatbank4_a_air  \\\n",
       "0                                 14.016835   \n",
       "1                                 13.992281   \n",
       "2                                 14.015015   \n",
       "3                                 14.036510   \n",
       "4                                 14.027298   \n",
       "\n",
       "   secondary_cleaner.state.floatbank4_a_level  \\\n",
       "0                                 -502.488007   \n",
       "1                                 -505.503262   \n",
       "2                                 -502.520901   \n",
       "3                                 -500.857308   \n",
       "4                                 -499.838632   \n",
       "\n",
       "   secondary_cleaner.state.floatbank4_b_air  \\\n",
       "0                                 12.099931   \n",
       "1                                 11.950531   \n",
       "2                                 11.912783   \n",
       "3                                 11.999550   \n",
       "4                                 11.953070   \n",
       "\n",
       "   secondary_cleaner.state.floatbank4_b_level  \\\n",
       "0                                 -504.715942   \n",
       "1                                 -501.331529   \n",
       "2                                 -501.133383   \n",
       "3                                 -501.193686   \n",
       "4                                 -501.053894   \n",
       "\n",
       "   secondary_cleaner.state.floatbank5_a_air  \\\n",
       "0                                  9.925633   \n",
       "1                                 10.039245   \n",
       "2                                 10.070913   \n",
       "3                                  9.970366   \n",
       "4                                  9.925709   \n",
       "\n",
       "   secondary_cleaner.state.floatbank5_a_level  \\\n",
       "0                                 -498.310211   \n",
       "1                                 -500.169983   \n",
       "2                                 -500.129135   \n",
       "3                                 -499.201640   \n",
       "4                                 -501.686727   \n",
       "\n",
       "   secondary_cleaner.state.floatbank5_b_air  \\\n",
       "0                                  8.079666   \n",
       "1                                  7.984757   \n",
       "2                                  8.013877   \n",
       "3                                  7.977324   \n",
       "4                                  7.894242   \n",
       "\n",
       "   secondary_cleaner.state.floatbank5_b_level  \\\n",
       "0                                 -500.470978   \n",
       "1                                 -500.582168   \n",
       "2                                 -500.517572   \n",
       "3                                 -500.255908   \n",
       "4                                 -500.356035   \n",
       "\n",
       "   secondary_cleaner.state.floatbank6_a_air  \\\n",
       "0                                 14.151341   \n",
       "1                                 13.998353   \n",
       "2                                 14.028663   \n",
       "3                                 14.005551   \n",
       "4                                 13.996647   \n",
       "\n",
       "   secondary_cleaner.state.floatbank6_a_level  \n",
       "0                                 -605.841980  \n",
       "1                                 -599.787184  \n",
       "2                                 -601.427363  \n",
       "3                                 -599.996129  \n",
       "4                                 -601.496691  \n",
       "\n",
       "[5 rows x 87 columns]"
      ]
     },
     "execution_count": 29,
     "metadata": {},
     "output_type": "execute_result"
    }
   ],
   "source": [
    "train.head()"
   ]
  },
  {
   "cell_type": "code",
   "execution_count": 30,
   "metadata": {},
   "outputs": [],
   "source": [
    "train['date'] = pd.to_datetime(train['date'])\n",
    "test['date'] = pd.to_datetime(test['date'])\n",
    "full['date'] = pd.to_datetime(full['date'])"
   ]
  },
  {
   "cell_type": "code",
   "execution_count": 31,
   "metadata": {},
   "outputs": [
    {
     "data": {
      "text/plain": [
       "rougher.calculation.sulfate_to_au_concentrate         9478.340686\n",
       "rougher.calculation.floatbank11_sulfate_to_au_feed     146.453214\n",
       "rougher.calculation.floatbank10_sulfate_to_au_feed     146.093035\n",
       "rougher.input.feed_rate                                 22.568718\n",
       "rougher.state.floatbank10_d_air                          9.531452\n",
       "primary_cleaner.input.sulfate                            7.117770\n",
       "rougher.state.floatbank10_c_air                          6.549790\n",
       "rougher.state.floatbank10_b_air                          6.544542\n",
       "primary_cleaner.state.floatbank8_d_air                   6.421302\n",
       "primary_cleaner.state.floatbank8_d_level                 5.557155\n",
       "rougher.state.floatbank10_e_air                          5.139641\n",
       "primary_cleaner.state.floatbank8_a_air                   4.543652\n",
       "rougher.state.floatbank10_a_air                          4.500322\n",
       "rougher.state.floatbank10_f_air                          4.476555\n",
       "primary_cleaner.state.floatbank8_b_air                   4.357560\n",
       "dtype: float64"
      ]
     },
     "execution_count": 31,
     "metadata": {},
     "output_type": "execute_result"
    }
   ],
   "source": [
    "x = train.dropna()\n",
    "x = x.drop('date', axis=1)\n",
    "x = x.diff(axis=0).mad()\n",
    "x.sort_values(ascending=False).head(15)"
   ]
  },
  {
   "cell_type": "code",
   "execution_count": 32,
   "metadata": {},
   "outputs": [
    {
     "data": {
      "text/plain": [
       "rougher.calculation.floatbank11_sulfate_to_au_feed   -0.093656\n",
       "rougher.calculation.floatbank10_sulfate_to_au_feed   -0.090260\n",
       "rougher.state.floatbank10_d_air                      -0.059021\n",
       "rougher.state.floatbank10_f_air                      -0.051402\n",
       "rougher.state.floatbank10_c_air                      -0.050390\n",
       "                                                        ...   \n",
       "rougher.state.floatbank10_a_level                     0.009459\n",
       "secondary_cleaner.state.floatbank6_a_level            0.009681\n",
       "primary_cleaner.state.floatbank8_b_level              0.010571\n",
       "rougher.state.floatbank10_a_air                       0.017841\n",
       "rougher.calculation.sulfate_to_au_concentrate         0.199452\n",
       "Length: 86, dtype: float64"
      ]
     },
     "execution_count": 32,
     "metadata": {},
     "output_type": "execute_result"
    }
   ],
   "source": [
    "x = train.dropna()\n",
    "x = x.drop('date', axis=1)\n",
    "x = x.diff(axis=0).mean()\n",
    "x.sort_values()"
   ]
  },
  {
   "cell_type": "code",
   "execution_count": 33,
   "metadata": {},
   "outputs": [
    {
     "data": {
      "text/plain": [
       "final.output.concentrate_ag                     5.142034\n",
       "final.output.concentrate_pb                    10.132960\n",
       "final.output.concentrate_sol                    9.202849\n",
       "final.output.concentrate_au                    44.003792\n",
       "final.output.recovery                          66.518832\n",
       "                                                 ...    \n",
       "secondary_cleaner.state.floatbank5_a_level   -483.956022\n",
       "secondary_cleaner.state.floatbank5_b_air       13.064590\n",
       "secondary_cleaner.state.floatbank5_b_level   -483.966564\n",
       "secondary_cleaner.state.floatbank6_a_air       19.577539\n",
       "secondary_cleaner.state.floatbank6_a_level   -506.798480\n",
       "Length: 86, dtype: float64"
      ]
     },
     "execution_count": 33,
     "metadata": {},
     "output_type": "execute_result"
    }
   ],
   "source": [
    "y = train.drop('date', axis=1).mean()\n",
    "y"
   ]
  },
  {
   "cell_type": "code",
   "execution_count": 34,
   "metadata": {},
   "outputs": [
    {
     "data": {
      "text/plain": [
       "primary_cleaner.output.concentrate_sol   -0.011959\n",
       "secondary_cleaner.output.tail_sol        -0.011467\n",
       "secondary_cleaner.output.tail_ag         -0.009217\n",
       "secondary_cleaner.output.tail_pb         -0.007287\n",
       "rougher.calculation.au_pb_ratio          -0.006566\n",
       "                                            ...   \n",
       "rougher.input.floatbank11_xanthate        0.005089\n",
       "rougher.input.floatbank10_xanthate        0.005118\n",
       "final.output.tail_pb                      0.005669\n",
       "rougher.input.feed_size                   0.005898\n",
       "primary_cleaner.output.tail_pb            0.009357\n",
       "Length: 86, dtype: float64"
      ]
     },
     "execution_count": 34,
     "metadata": {},
     "output_type": "execute_result"
    }
   ],
   "source": [
    "(x / y *100).sort_values()"
   ]
  },
  {
   "cell_type": "code",
   "execution_count": 35,
   "metadata": {},
   "outputs": [],
   "source": [
    "train = train.fillna(method='ffill', axis=0)"
   ]
  },
  {
   "cell_type": "code",
   "execution_count": 36,
   "metadata": {},
   "outputs": [],
   "source": [
    "test = test.fillna(method='ffill', axis=0)"
   ]
  },
  {
   "cell_type": "markdown",
   "metadata": {},
   "source": [
    "**Results**\n",
    "\n",
    "1. Data is filled by copying the last filled data down (ffill) - this is done because the data is sorted by date and records close in time should be similar in terms of the task. \n",
    "\n",
    "* The correctness of this method was tested. For each indicator, the average difference between 2 successive values was calculated and divided by the average of this indicator. As a result, the average difference between 2 close observations is less than 1 hundredth of a percent.\n",
    "2. Date converted to date format"
   ]
  },
  {
   "cell_type": "markdown",
   "metadata": {},
   "source": [
    "## Data analysis"
   ]
  },
  {
   "cell_type": "markdown",
   "metadata": {},
   "source": [
    "### Concentration of metals (Au, Ag, Pb) at various purification steps"
   ]
  },
  {
   "cell_type": "markdown",
   "metadata": {},
   "source": [
    "1. Select in what indicators the concentration is described\n",
    "2. Make a list of material types\n",
    "3. Make a boxplot plot to show the distribution at different stages of cleaning\n",
    "4. Distribution description"
   ]
  },
  {
   "cell_type": "code",
   "execution_count": 37,
   "metadata": {},
   "outputs": [],
   "source": [
    "x = pd.DataFrame(train.columns, columns=['names'])\n",
    "conc_materials = x[x['names'].str.contains(r'concentrate')]"
   ]
  },
  {
   "cell_type": "code",
   "execution_count": 38,
   "metadata": {},
   "outputs": [],
   "source": [
    "conc_materials = conc_materials.query('names != \"rougher.calculation.sulfate_to_au_concentrate\"')"
   ]
  },
  {
   "cell_type": "code",
   "execution_count": 39,
   "metadata": {},
   "outputs": [
    {
     "data": {
      "text/html": [
       "<div>\n",
       "<style scoped>\n",
       "    .dataframe tbody tr th:only-of-type {\n",
       "        vertical-align: middle;\n",
       "    }\n",
       "\n",
       "    .dataframe tbody tr th {\n",
       "        vertical-align: top;\n",
       "    }\n",
       "\n",
       "    .dataframe thead th {\n",
       "        text-align: right;\n",
       "    }\n",
       "</style>\n",
       "<table border=\"1\" class=\"dataframe\">\n",
       "  <thead>\n",
       "    <tr style=\"text-align: right;\">\n",
       "      <th></th>\n",
       "      <th>names</th>\n",
       "    </tr>\n",
       "  </thead>\n",
       "  <tbody>\n",
       "    <tr>\n",
       "      <th>1</th>\n",
       "      <td>final.output.concentrate_ag</td>\n",
       "    </tr>\n",
       "    <tr>\n",
       "      <th>2</th>\n",
       "      <td>final.output.concentrate_pb</td>\n",
       "    </tr>\n",
       "    <tr>\n",
       "      <th>3</th>\n",
       "      <td>final.output.concentrate_sol</td>\n",
       "    </tr>\n",
       "    <tr>\n",
       "      <th>4</th>\n",
       "      <td>final.output.concentrate_au</td>\n",
       "    </tr>\n",
       "    <tr>\n",
       "      <th>14</th>\n",
       "      <td>primary_cleaner.output.concentrate_ag</td>\n",
       "    </tr>\n",
       "    <tr>\n",
       "      <th>15</th>\n",
       "      <td>primary_cleaner.output.concentrate_pb</td>\n",
       "    </tr>\n",
       "    <tr>\n",
       "      <th>16</th>\n",
       "      <td>primary_cleaner.output.concentrate_sol</td>\n",
       "    </tr>\n",
       "    <tr>\n",
       "      <th>17</th>\n",
       "      <td>primary_cleaner.output.concentrate_au</td>\n",
       "    </tr>\n",
       "    <tr>\n",
       "      <th>44</th>\n",
       "      <td>rougher.output.concentrate_ag</td>\n",
       "    </tr>\n",
       "    <tr>\n",
       "      <th>45</th>\n",
       "      <td>rougher.output.concentrate_pb</td>\n",
       "    </tr>\n",
       "    <tr>\n",
       "      <th>46</th>\n",
       "      <td>rougher.output.concentrate_sol</td>\n",
       "    </tr>\n",
       "    <tr>\n",
       "      <th>47</th>\n",
       "      <td>rougher.output.concentrate_au</td>\n",
       "    </tr>\n",
       "  </tbody>\n",
       "</table>\n",
       "</div>"
      ],
      "text/plain": [
       "                                     names\n",
       "1              final.output.concentrate_ag\n",
       "2              final.output.concentrate_pb\n",
       "3             final.output.concentrate_sol\n",
       "4              final.output.concentrate_au\n",
       "14   primary_cleaner.output.concentrate_ag\n",
       "15   primary_cleaner.output.concentrate_pb\n",
       "16  primary_cleaner.output.concentrate_sol\n",
       "17   primary_cleaner.output.concentrate_au\n",
       "44           rougher.output.concentrate_ag\n",
       "45           rougher.output.concentrate_pb\n",
       "46          rougher.output.concentrate_sol\n",
       "47           rougher.output.concentrate_au"
      ]
     },
     "execution_count": 39,
     "metadata": {},
     "output_type": "execute_result"
    }
   ],
   "source": [
    "conc_materials"
   ]
  },
  {
   "cell_type": "code",
   "execution_count": 40,
   "metadata": {},
   "outputs": [],
   "source": [
    "material_types = ['ag', 'pb', 'sol', 'au']"
   ]
  },
  {
   "cell_type": "code",
   "execution_count": 41,
   "metadata": {},
   "outputs": [
    {
     "name": "stdout",
     "output_type": "stream",
     "text": [
      "Analyzing ag\n"
     ]
    },
    {
     "data": {
      "image/png": "[encoded data removed]",
      "text/plain": [
       "<Figure size 864x432 with 1 Axes>"
      ]
     },
     "metadata": {},
     "output_type": "display_data"
    },
    {
     "name": "stdout",
     "output_type": "stream",
     "text": [
      "Analyzing pb\n"
     ]
    },
    {
     "data": {
      "image/png": "[encoded data removed]",
      "text/plain": [
       "<Figure size 864x432 with 1 Axes>"
      ]
     },
     "metadata": {},
     "output_type": "display_data"
    },
    {
     "name": "stdout",
     "output_type": "stream",
     "text": [
      "Analyzing sol\n"
     ]
    },
    {
     "data": {
      "image/png": "[encoded data removed]",
      "text/plain": [
       "<Figure size 864x432 with 1 Axes>"
      ]
     },
     "metadata": {},
     "output_type": "display_data"
    },
    {
     "name": "stdout",
     "output_type": "stream",
     "text": [
      "Analyzing au\n"
     ]
    },
    {
     "data": {
      "image/png": "[encoded data removed]",
      "text/plain": [
       "<Figure size 864x432 with 1 Axes>"
      ]
     },
     "metadata": {},
     "output_type": "display_data"
    }
   ],
   "source": [
    "for type in material_types:\n",
    "    fig, axes = plt.subplots(facecolor='white', figsize=(12,6))\n",
    "    print(\"Analyzing\", type)\n",
    "    x = conc_materials[conc_materials['names'].str.contains(type)]\n",
    "    y = train[list(x['names'].values)]\n",
    "    y.boxplot(ax=axes)\n",
    "    plt.show()"
   ]
  },
  {
   "cell_type": "code",
   "execution_count": 42,
   "metadata": {},
   "outputs": [
    {
     "name": "stdout",
     "output_type": "stream",
     "text": [
      "Analyzing ag\n"
     ]
    },
    {
     "data": {
      "image/png": "[encoded data removed]",
      "text/plain": [
       "<Figure size 1008x360 with 1 Axes>"
      ]
     },
     "metadata": {},
     "output_type": "display_data"
    },
    {
     "name": "stdout",
     "output_type": "stream",
     "text": [
      "Analyzing pb\n"
     ]
    },
    {
     "data": {
      "image/png": "[encoded data removed]",
      "text/plain": [
       "<Figure size 1008x360 with 1 Axes>"
      ]
     },
     "metadata": {},
     "output_type": "display_data"
    },
    {
     "name": "stdout",
     "output_type": "stream",
     "text": [
      "Analyzing sol\n"
     ]
    },
    {
     "data": {
      "image/png": "[encoded data removed]",
      "text/plain": [
       "<Figure size 1008x360 with 1 Axes>"
      ]
     },
     "metadata": {},
     "output_type": "display_data"
    },
    {
     "name": "stdout",
     "output_type": "stream",
     "text": [
      "Analyzing au\n"
     ]
    },
    {
     "data": {
      "image/png": "[encoded data removed]",
      "text/plain": [
       "<Figure size 1008x360 with 1 Axes>"
      ]
     },
     "metadata": {},
     "output_type": "display_data"
    }
   ],
   "source": [
    "for type in material_types:\n",
    "    x = conc_materials[conc_materials['names'].str.contains(type)]\n",
    "    y = train[list(x['names'].values)]\n",
    "    fig, ax = plt.subplots(facecolor='white')\n",
    "    x1 = list(x['names'].values)\n",
    "    for col in x1:\n",
    "        ax.plot = y[col].hist(density= True, bins=20, alpha=0.25, label = col)\n",
    "    ax.legend(loc=2)\n",
    "    fig.set_figheight(5)\n",
    "    fig.set_figwidth(14)\n",
    "    print(\"Analyzing\", type)\n",
    "    plt.show()"
   ]
  },
  {
   "cell_type": "markdown",
   "metadata": {},
   "source": [
    "**Charts**\n",
    "\n",
    "1. An analysis was made for the concentration of 4 types of materials\n",
    "\n",
    "**AG**\n",
    "\n",
    "2. The concentration is reduced by almost 2 times between the start of processing and its completion. Also, the spread of the indicator falls by 2 times\n",
    "\n",
    "**PB**\n",
    "\n",
    "3. The concentration increases slightly from the beginning of the treatment to the end of it, but among all materials it is more stable between stages: an increase of about 30% of the average value.\n",
    "4. At the primary_cleaner stage, a higher concentration spread\n",
    "\n",
    "**SOL**\n",
    "\n",
    "5. Maximum concentration at the rougher stage, after which it drops sharply. There is practically no change in the average value between the last 2 stages of cleaning, although there is a decrease in the spread\n",
    "\n",
    "**AU**\n",
    "\n",
    "6. The increase in concentration is the highest among all materials - 2.26 times. Most growth occurs between the rougher and primary_cleaner stages"
   ]
  },
  {
   "cell_type": "code",
   "execution_count": 43,
   "metadata": {},
   "outputs": [
    {
     "name": "stdout",
     "output_type": "stream",
     "text": [
      "Анализ ag\n"
     ]
    },
    {
     "data": {
      "text/html": [
       "<div>\n",
       "<style scoped>\n",
       "    .dataframe tbody tr th:only-of-type {\n",
       "        vertical-align: middle;\n",
       "    }\n",
       "\n",
       "    .dataframe tbody tr th {\n",
       "        vertical-align: top;\n",
       "    }\n",
       "\n",
       "    .dataframe thead th {\n",
       "        text-align: right;\n",
       "    }\n",
       "</style>\n",
       "<table border=\"1\" class=\"dataframe\">\n",
       "  <thead>\n",
       "    <tr style=\"text-align: right;\">\n",
       "      <th></th>\n",
       "      <th>final.output.concentrate_ag</th>\n",
       "      <th>primary_cleaner.output.concentrate_ag</th>\n",
       "      <th>rougher.output.concentrate_ag</th>\n",
       "    </tr>\n",
       "  </thead>\n",
       "  <tbody>\n",
       "    <tr>\n",
       "      <th>count</th>\n",
       "      <td>14149.000000</td>\n",
       "      <td>14149.000000</td>\n",
       "      <td>14149.000000</td>\n",
       "    </tr>\n",
       "    <tr>\n",
       "      <th>mean</th>\n",
       "      <td>5.141921</td>\n",
       "      <td>8.200916</td>\n",
       "      <td>11.775812</td>\n",
       "    </tr>\n",
       "    <tr>\n",
       "      <th>std</th>\n",
       "      <td>1.369603</td>\n",
       "      <td>2.005185</td>\n",
       "      <td>2.731747</td>\n",
       "    </tr>\n",
       "    <tr>\n",
       "      <th>min</th>\n",
       "      <td>0.000000</td>\n",
       "      <td>0.000000</td>\n",
       "      <td>0.000000</td>\n",
       "    </tr>\n",
       "    <tr>\n",
       "      <th>25%</th>\n",
       "      <td>4.211500</td>\n",
       "      <td>7.107126</td>\n",
       "      <td>10.486871</td>\n",
       "    </tr>\n",
       "    <tr>\n",
       "      <th>50%</th>\n",
       "      <td>4.994607</td>\n",
       "      <td>8.226247</td>\n",
       "      <td>11.747362</td>\n",
       "    </tr>\n",
       "    <tr>\n",
       "      <th>75%</th>\n",
       "      <td>5.859495</td>\n",
       "      <td>9.504924</td>\n",
       "      <td>13.426419</td>\n",
       "    </tr>\n",
       "    <tr>\n",
       "      <th>max</th>\n",
       "      <td>16.001945</td>\n",
       "      <td>16.081632</td>\n",
       "      <td>24.480271</td>\n",
       "    </tr>\n",
       "  </tbody>\n",
       "</table>\n",
       "</div>"
      ],
      "text/plain": [
       "       final.output.concentrate_ag  primary_cleaner.output.concentrate_ag  \\\n",
       "count                 14149.000000                           14149.000000   \n",
       "mean                      5.141921                               8.200916   \n",
       "std                       1.369603                               2.005185   \n",
       "min                       0.000000                               0.000000   \n",
       "25%                       4.211500                               7.107126   \n",
       "50%                       4.994607                               8.226247   \n",
       "75%                       5.859495                               9.504924   \n",
       "max                      16.001945                              16.081632   \n",
       "\n",
       "       rougher.output.concentrate_ag  \n",
       "count                   14149.000000  \n",
       "mean                       11.775812  \n",
       "std                         2.731747  \n",
       "min                         0.000000  \n",
       "25%                        10.486871  \n",
       "50%                        11.747362  \n",
       "75%                        13.426419  \n",
       "max                        24.480271  "
      ]
     },
     "metadata": {},
     "output_type": "display_data"
    },
    {
     "name": "stdout",
     "output_type": "stream",
     "text": [
      "Анализ pb\n"
     ]
    },
    {
     "data": {
      "text/html": [
       "<div>\n",
       "<style scoped>\n",
       "    .dataframe tbody tr th:only-of-type {\n",
       "        vertical-align: middle;\n",
       "    }\n",
       "\n",
       "    .dataframe tbody tr th {\n",
       "        vertical-align: top;\n",
       "    }\n",
       "\n",
       "    .dataframe thead th {\n",
       "        text-align: right;\n",
       "    }\n",
       "</style>\n",
       "<table border=\"1\" class=\"dataframe\">\n",
       "  <thead>\n",
       "    <tr style=\"text-align: right;\">\n",
       "      <th></th>\n",
       "      <th>final.output.concentrate_pb</th>\n",
       "      <th>primary_cleaner.output.concentrate_pb</th>\n",
       "      <th>rougher.output.concentrate_pb</th>\n",
       "    </tr>\n",
       "  </thead>\n",
       "  <tbody>\n",
       "    <tr>\n",
       "      <th>count</th>\n",
       "      <td>14149.000000</td>\n",
       "      <td>14149.000000</td>\n",
       "      <td>14149.000000</td>\n",
       "    </tr>\n",
       "    <tr>\n",
       "      <th>mean</th>\n",
       "      <td>10.132848</td>\n",
       "      <td>9.568544</td>\n",
       "      <td>7.664555</td>\n",
       "    </tr>\n",
       "    <tr>\n",
       "      <th>std</th>\n",
       "      <td>1.654925</td>\n",
       "      <td>2.709330</td>\n",
       "      <td>1.856279</td>\n",
       "    </tr>\n",
       "    <tr>\n",
       "      <th>min</th>\n",
       "      <td>0.000000</td>\n",
       "      <td>0.000000</td>\n",
       "      <td>0.000000</td>\n",
       "    </tr>\n",
       "    <tr>\n",
       "      <th>25%</th>\n",
       "      <td>9.296833</td>\n",
       "      <td>8.315997</td>\n",
       "      <td>6.850501</td>\n",
       "    </tr>\n",
       "    <tr>\n",
       "      <th>50%</th>\n",
       "      <td>10.297013</td>\n",
       "      <td>9.920598</td>\n",
       "      <td>7.760435</td>\n",
       "    </tr>\n",
       "    <tr>\n",
       "      <th>75%</th>\n",
       "      <td>11.170578</td>\n",
       "      <td>11.298487</td>\n",
       "      <td>8.601927</td>\n",
       "    </tr>\n",
       "    <tr>\n",
       "      <th>max</th>\n",
       "      <td>17.031899</td>\n",
       "      <td>17.081278</td>\n",
       "      <td>13.617072</td>\n",
       "    </tr>\n",
       "  </tbody>\n",
       "</table>\n",
       "</div>"
      ],
      "text/plain": [
       "       final.output.concentrate_pb  primary_cleaner.output.concentrate_pb  \\\n",
       "count                 14149.000000                           14149.000000   \n",
       "mean                     10.132848                               9.568544   \n",
       "std                       1.654925                               2.709330   \n",
       "min                       0.000000                               0.000000   \n",
       "25%                       9.296833                               8.315997   \n",
       "50%                      10.297013                               9.920598   \n",
       "75%                      11.170578                              11.298487   \n",
       "max                      17.031899                              17.081278   \n",
       "\n",
       "       rougher.output.concentrate_pb  \n",
       "count                   14149.000000  \n",
       "mean                        7.664555  \n",
       "std                         1.856279  \n",
       "min                         0.000000  \n",
       "25%                         6.850501  \n",
       "50%                         7.760435  \n",
       "75%                         8.601927  \n",
       "max                        13.617072  "
      ]
     },
     "metadata": {},
     "output_type": "display_data"
    },
    {
     "name": "stdout",
     "output_type": "stream",
     "text": [
      "Анализ sol\n"
     ]
    },
    {
     "data": {
      "text/html": [
       "<div>\n",
       "<style scoped>\n",
       "    .dataframe tbody tr th:only-of-type {\n",
       "        vertical-align: middle;\n",
       "    }\n",
       "\n",
       "    .dataframe tbody tr th {\n",
       "        vertical-align: top;\n",
       "    }\n",
       "\n",
       "    .dataframe thead th {\n",
       "        text-align: right;\n",
       "    }\n",
       "</style>\n",
       "<table border=\"1\" class=\"dataframe\">\n",
       "  <thead>\n",
       "    <tr style=\"text-align: right;\">\n",
       "      <th></th>\n",
       "      <th>final.output.concentrate_sol</th>\n",
       "      <th>primary_cleaner.output.concentrate_sol</th>\n",
       "      <th>rougher.output.concentrate_sol</th>\n",
       "    </tr>\n",
       "  </thead>\n",
       "  <tbody>\n",
       "    <tr>\n",
       "      <th>count</th>\n",
       "      <td>14149.000000</td>\n",
       "      <td>14149.000000</td>\n",
       "      <td>14149.000000</td>\n",
       "    </tr>\n",
       "    <tr>\n",
       "      <th>mean</th>\n",
       "      <td>9.109311</td>\n",
       "      <td>10.016250</td>\n",
       "      <td>28.292820</td>\n",
       "    </tr>\n",
       "    <tr>\n",
       "      <th>std</th>\n",
       "      <td>2.886929</td>\n",
       "      <td>4.110548</td>\n",
       "      <td>6.119659</td>\n",
       "    </tr>\n",
       "    <tr>\n",
       "      <th>min</th>\n",
       "      <td>0.000000</td>\n",
       "      <td>0.000000</td>\n",
       "      <td>0.000000</td>\n",
       "    </tr>\n",
       "    <tr>\n",
       "      <th>25%</th>\n",
       "      <td>7.422466</td>\n",
       "      <td>7.376454</td>\n",
       "      <td>26.696213</td>\n",
       "    </tr>\n",
       "    <tr>\n",
       "      <th>50%</th>\n",
       "      <td>8.801909</td>\n",
       "      <td>9.648025</td>\n",
       "      <td>29.254966</td>\n",
       "    </tr>\n",
       "    <tr>\n",
       "      <th>75%</th>\n",
       "      <td>10.452148</td>\n",
       "      <td>12.974629</td>\n",
       "      <td>31.743943</td>\n",
       "    </tr>\n",
       "    <tr>\n",
       "      <th>max</th>\n",
       "      <td>18.124851</td>\n",
       "      <td>22.280845</td>\n",
       "      <td>38.351193</td>\n",
       "    </tr>\n",
       "  </tbody>\n",
       "</table>\n",
       "</div>"
      ],
      "text/plain": [
       "       final.output.concentrate_sol  primary_cleaner.output.concentrate_sol  \\\n",
       "count                  14149.000000                            14149.000000   \n",
       "mean                       9.109311                               10.016250   \n",
       "std                        2.886929                                4.110548   \n",
       "min                        0.000000                                0.000000   \n",
       "25%                        7.422466                                7.376454   \n",
       "50%                        8.801909                                9.648025   \n",
       "75%                       10.452148                               12.974629   \n",
       "max                       18.124851                               22.280845   \n",
       "\n",
       "       rougher.output.concentrate_sol  \n",
       "count                    14149.000000  \n",
       "mean                        28.292820  \n",
       "std                          6.119659  \n",
       "min                          0.000000  \n",
       "25%                         26.696213  \n",
       "50%                         29.254966  \n",
       "75%                         31.743943  \n",
       "max                         38.351193  "
      ]
     },
     "metadata": {},
     "output_type": "display_data"
    },
    {
     "name": "stdout",
     "output_type": "stream",
     "text": [
      "Анализ au\n"
     ]
    },
    {
     "data": {
      "text/html": [
       "<div>\n",
       "<style scoped>\n",
       "    .dataframe tbody tr th:only-of-type {\n",
       "        vertical-align: middle;\n",
       "    }\n",
       "\n",
       "    .dataframe tbody tr th {\n",
       "        vertical-align: top;\n",
       "    }\n",
       "\n",
       "    .dataframe thead th {\n",
       "        text-align: right;\n",
       "    }\n",
       "</style>\n",
       "<table border=\"1\" class=\"dataframe\">\n",
       "  <thead>\n",
       "    <tr style=\"text-align: right;\">\n",
       "      <th></th>\n",
       "      <th>final.output.concentrate_au</th>\n",
       "      <th>primary_cleaner.output.concentrate_au</th>\n",
       "      <th>rougher.output.concentrate_au</th>\n",
       "    </tr>\n",
       "  </thead>\n",
       "  <tbody>\n",
       "    <tr>\n",
       "      <th>count</th>\n",
       "      <td>14149.000000</td>\n",
       "      <td>14149.000000</td>\n",
       "      <td>14149.000000</td>\n",
       "    </tr>\n",
       "    <tr>\n",
       "      <th>mean</th>\n",
       "      <td>44.003792</td>\n",
       "      <td>32.386836</td>\n",
       "      <td>19.439958</td>\n",
       "    </tr>\n",
       "    <tr>\n",
       "      <th>std</th>\n",
       "      <td>4.905261</td>\n",
       "      <td>5.798843</td>\n",
       "      <td>3.765192</td>\n",
       "    </tr>\n",
       "    <tr>\n",
       "      <th>min</th>\n",
       "      <td>0.000000</td>\n",
       "      <td>0.000000</td>\n",
       "      <td>0.000000</td>\n",
       "    </tr>\n",
       "    <tr>\n",
       "      <th>25%</th>\n",
       "      <td>43.276111</td>\n",
       "      <td>30.857764</td>\n",
       "      <td>18.432161</td>\n",
       "    </tr>\n",
       "    <tr>\n",
       "      <th>50%</th>\n",
       "      <td>44.872436</td>\n",
       "      <td>33.225835</td>\n",
       "      <td>19.947312</td>\n",
       "    </tr>\n",
       "    <tr>\n",
       "      <th>75%</th>\n",
       "      <td>46.166425</td>\n",
       "      <td>35.330145</td>\n",
       "      <td>21.392714</td>\n",
       "    </tr>\n",
       "    <tr>\n",
       "      <th>max</th>\n",
       "      <td>52.756638</td>\n",
       "      <td>45.933934</td>\n",
       "      <td>28.146838</td>\n",
       "    </tr>\n",
       "  </tbody>\n",
       "</table>\n",
       "</div>"
      ],
      "text/plain": [
       "       final.output.concentrate_au  primary_cleaner.output.concentrate_au  \\\n",
       "count                 14149.000000                           14149.000000   \n",
       "mean                     44.003792                              32.386836   \n",
       "std                       4.905261                               5.798843   \n",
       "min                       0.000000                               0.000000   \n",
       "25%                      43.276111                              30.857764   \n",
       "50%                      44.872436                              33.225835   \n",
       "75%                      46.166425                              35.330145   \n",
       "max                      52.756638                              45.933934   \n",
       "\n",
       "       rougher.output.concentrate_au  \n",
       "count                   14149.000000  \n",
       "mean                       19.439958  \n",
       "std                         3.765192  \n",
       "min                         0.000000  \n",
       "25%                        18.432161  \n",
       "50%                        19.947312  \n",
       "75%                        21.392714  \n",
       "max                        28.146838  "
      ]
     },
     "metadata": {},
     "output_type": "display_data"
    }
   ],
   "source": [
    "for type in material_types:\n",
    "    print(\"Анализ\", type)\n",
    "    x = conc_materials[conc_materials['names'].str.contains(type)]\n",
    "    y = train[list(x['names'].values)]    \n",
    "    display(y.describe())"
   ]
  },
  {
   "cell_type": "code",
   "execution_count": 44,
   "metadata": {},
   "outputs": [
    {
     "name": "stdout",
     "output_type": "stream",
     "text": [
      "For some reason, there are records where the concentration of gold at stage 1 is 0, and later on the other - is not 0\n",
      "When we have 0 concentration in final.output.concentrate_au\n",
      "Stage concentration primary_cleaner.output.concentrate_au become 30.9\n",
      "\n",
      "When we have 0 concentration in final.output.concentrate_au\n",
      "Stage concentration rougher.output.concentrate_au become 20.0\n",
      "\n",
      "When we have 0 concentration in primary_cleaner.output.concentrate_au\n",
      "Stage concentration final.output.concentrate_au become 40.3\n",
      "\n",
      "When we have 0 concentration in primary_cleaner.output.concentrate_au\n",
      "Stage concentration rougher.output.concentrate_au become 18.1\n",
      "\n",
      "When we have 0 concentration in rougher.output.concentrate_au\n",
      "Stage concentration final.output.concentrate_au become 44.6\n",
      "\n",
      "When we have 0 concentration in rougher.output.concentrate_au\n",
      "Stage concentration primary_cleaner.output.concentrate_au become 33.5\n",
      "\n"
     ]
    }
   ],
   "source": [
    "print('For some reason, there are records where the concentration of gold at stage 1 is 0, and later on the other - is not 0')\n",
    "for name in y:\n",
    "    for second_name in y:\n",
    "        if name != second_name:\n",
    "            print(\"When we have 0 concentration in\", name, )\n",
    "            print(\"Stage concentration\", second_name, \"become\", round(y[y[name] == 0][second_name].mean(),1))\n",
    "            print()"
   ]
  },
  {
   "cell_type": "markdown",
   "metadata": {},
   "source": [
    "**Results**\n",
    "\n",
    "1. Strange situation, with 0 gold concentration. It can be 0 in the initial stage, then get higher in the final stage, and vice versa. Maybe, we should exclude such situations + check with other materials\n",
    "\n",
    "**Concentration**\n",
    "\n",
    "2. An analysis was made for the concentration of 4 types of materials\n",
    "\n",
    "**AG**\n",
    "\n",
    "3. The concentration is reduced by almost 2 times between the start of processing and its completion. Also, the spread of the indicator falls by 2 times\n",
    "\n",
    "**PB**\n",
    "\n",
    "4. The concentration increases slightly from the beginning of the treatment to the end of it, but among all materials it is more stable between stages: an increase of about 30% of the average value.\n",
    "5. At the primary_cleaner stage, a higher concentration spread\n",
    "\n",
    "**SOL**\n",
    "\n",
    "6. Maximum concentration at the rougher stage, after which it drops sharply. There is practically no change in the average value between the last 2 stages of cleaning, although there is a decrease in the spread\n",
    "\n",
    "**AU**\n",
    "\n",
    "7. The increase in concentration is the highest among all materials - 2.26 times. Most growth occurs between the rougher and primary_cleaner stages"
   ]
  },
  {
   "cell_type": "markdown",
   "metadata": {},
   "source": [
    "### Distribution of raw material granule sizes on the training and test samples"
   ]
  },
  {
   "cell_type": "code",
   "execution_count": 45,
   "metadata": {},
   "outputs": [
    {
     "data": {
      "text/html": [
       "<div>\n",
       "<style scoped>\n",
       "    .dataframe tbody tr th:only-of-type {\n",
       "        vertical-align: middle;\n",
       "    }\n",
       "\n",
       "    .dataframe tbody tr th {\n",
       "        vertical-align: top;\n",
       "    }\n",
       "\n",
       "    .dataframe thead th {\n",
       "        text-align: right;\n",
       "    }\n",
       "</style>\n",
       "<table border=\"1\" class=\"dataframe\">\n",
       "  <thead>\n",
       "    <tr style=\"text-align: right;\">\n",
       "      <th></th>\n",
       "      <th>names</th>\n",
       "    </tr>\n",
       "  </thead>\n",
       "  <tbody>\n",
       "    <tr>\n",
       "      <th>12</th>\n",
       "      <td>primary_cleaner.input.feed_size</td>\n",
       "    </tr>\n",
       "    <tr>\n",
       "      <th>37</th>\n",
       "      <td>rougher.input.feed_size</td>\n",
       "    </tr>\n",
       "  </tbody>\n",
       "</table>\n",
       "</div>"
      ],
      "text/plain": [
       "                              names\n",
       "12  primary_cleaner.input.feed_size\n",
       "37          rougher.input.feed_size"
      ]
     },
     "execution_count": 45,
     "metadata": {},
     "output_type": "execute_result"
    }
   ],
   "source": [
    "x = pd.DataFrame(train.columns, columns=['names'])\n",
    "size_materials = x[x['names'].str.contains(r'feed_size')]\n",
    "size_materials"
   ]
  },
  {
   "cell_type": "markdown",
   "metadata": {},
   "source": [
    "* The size of the granules occurs in 2 stages\n",
    "1. Convert them to a sheet\n",
    "2. Let's build distributions for 2 samples - train and test\n",
    "3. Check the stat with tests:\n",
    "     1. The fact that the average of the samples is the same\n",
    "     2. The fact that the samples belong to the same distribution (Kolmogorov–Smirnov test)"
   ]
  },
  {
   "cell_type": "code",
   "execution_count": 46,
   "metadata": {},
   "outputs": [],
   "source": [
    "size_materials = list(size_materials['names'].values)"
   ]
  },
  {
   "cell_type": "code",
   "execution_count": 47,
   "metadata": {},
   "outputs": [
    {
     "data": {
      "text/plain": [
       "<AxesSubplot:>"
      ]
     },
     "execution_count": 47,
     "metadata": {},
     "output_type": "execute_result"
    },
    {
     "data": {
      "image/png": "[encoded data removed]",
      "text/plain": [
       "<Figure size 432x288 with 1 Axes>"
      ]
     },
     "metadata": {},
     "output_type": "display_data"
    }
   ],
   "source": [
    "fig, axes = plt.subplots(facecolor='white')\n",
    "\n",
    "train[size_materials[0]].hist(density= True, bins=20, alpha=0.5, ax=axes)\n",
    "test[size_materials[0]].hist(density= True, bins=20, alpha=0.5, ax=axes)"
   ]
  },
  {
   "cell_type": "code",
   "execution_count": 48,
   "metadata": {},
   "outputs": [
    {
     "data": {
      "text/plain": [
       "count    14149.000000\n",
       "mean         7.322310\n",
       "std          0.614062\n",
       "min          1.080000\n",
       "25%          6.960000\n",
       "50%          7.290000\n",
       "75%          7.700000\n",
       "max         10.470000\n",
       "Name: primary_cleaner.input.feed_size, dtype: float64"
      ]
     },
     "metadata": {},
     "output_type": "display_data"
    },
    {
     "data": {
      "text/plain": [
       "count    5290.000000\n",
       "mean        7.266339\n",
       "std         0.610219\n",
       "min         5.650000\n",
       "25%         6.890000\n",
       "50%         7.250000\n",
       "75%         7.600000\n",
       "max        15.500000\n",
       "Name: primary_cleaner.input.feed_size, dtype: float64"
      ]
     },
     "metadata": {},
     "output_type": "display_data"
    }
   ],
   "source": [
    "display(train[size_materials[0]].describe(), test[size_materials[0]].describe())"
   ]
  },
  {
   "cell_type": "code",
   "execution_count": 49,
   "metadata": {},
   "outputs": [
    {
     "name": "stdout",
     "output_type": "stream",
     "text": [
      "Null hypothesis: the average size of the materials in the primary cleaning stage is the same\n",
      "p-значение: 1.4864182925957636e-08\n",
      "Rejecting the null hypothesis\n",
      "\n",
      "Null hypothesis: same distribution of 2 samples\n",
      "p-значение: 3.5273935105512727e-12\n",
      "Rejecting the null hypothesis\n"
     ]
    }
   ],
   "source": [
    "\n",
    "results = st.ttest_ind(train[size_materials[0]], test[size_materials[0]])\n",
    "alpha = 0.05\n",
    "\n",
    "print(\"Null hypothesis: the average size of the materials in the primary cleaning stage is the same\")\n",
    "print('p-значение:', results.pvalue)\n",
    "\n",
    "if results.pvalue < alpha:\n",
    "    print('Rejecting the null hypothesis')\n",
    "else:\n",
    "    print('Failed to reject the null hypothesis') \n",
    "    \n",
    "print()\n",
    "results = st.ks_2samp(train[size_materials[0]], test[size_materials[0]])    \n",
    "print(\"Null hypothesis: same distribution of 2 samples\")\n",
    "print('p-значение:', results.pvalue)\n",
    "\n",
    "if results.pvalue < alpha:\n",
    "    print('Rejecting the null hypothesis')\n",
    "else:\n",
    "    print('Failed to reject the null hypothesis') \n",
    "        "
   ]
  },
  {
   "cell_type": "markdown",
   "metadata": {},
   "source": [
    "<div class=\"alert alert-warning\">\n",
    "    \n",
    "**Комментарий ревьюера**\n",
    "    \n",
    "Если мы говорим, что размеры разные, можем ли мы идти дальше? Какие корректировки нам стоит сделать?\n",
    "</div>\n",
    "\n",
    "<div class=\"alert alert-block alert-info\">\n",
    "    \n",
    "В выводах предложил пересобрать тестовую и обучающую выборку\n",
    "    \n",
    "</div>\n",
    "\n",
    "\n",
    "<div class=\"alert alert-success\">\n",
    "    \n",
    "**Комментарий ревьюера v_2**\n",
    "     \n",
    "Это ответ на корректировки)А на то, можем ли мы идти дальше?)\n",
    "</div>"
   ]
  },
  {
   "cell_type": "code",
   "execution_count": 50,
   "metadata": {},
   "outputs": [
    {
     "data": {
      "text/plain": [
       "<AxesSubplot:>"
      ]
     },
     "execution_count": 50,
     "metadata": {},
     "output_type": "execute_result"
    },
    {
     "data": {
      "image/png": "[encoded data removed]",
      "text/plain": [
       "<Figure size 432x288 with 1 Axes>"
      ]
     },
     "metadata": {},
     "output_type": "display_data"
    }
   ],
   "source": [
    "fig, axes = plt.subplots(facecolor='white')\n",
    "\n",
    "train[size_materials[1]].hist(density= True, bins=20, alpha=0.5, ax=axes)\n",
    "test[size_materials[1]].hist(density= True, bins=20, alpha=0.5, ax=axes)"
   ]
  },
  {
   "cell_type": "code",
   "execution_count": 51,
   "metadata": {},
   "outputs": [
    {
     "data": {
      "text/plain": [
       "count    14149.000000\n",
       "mean        60.239856\n",
       "std         23.005310\n",
       "min          9.659576\n",
       "25%         48.966751\n",
       "50%         55.269784\n",
       "75%         66.007526\n",
       "max        484.967466\n",
       "Name: rougher.input.feed_size, dtype: float64"
      ]
     },
     "metadata": {},
     "output_type": "display_data"
    },
    {
     "data": {
      "text/plain": [
       "count    5290.000000\n",
       "mean       55.952754\n",
       "std        19.080334\n",
       "min         0.046369\n",
       "25%        43.906504\n",
       "50%        50.846843\n",
       "75%        62.451165\n",
       "max       392.494040\n",
       "Name: rougher.input.feed_size, dtype: float64"
      ]
     },
     "metadata": {},
     "output_type": "display_data"
    }
   ],
   "source": [
    "display(train[size_materials[1]].describe(), test[size_materials[1]].describe())"
   ]
  },
  {
   "cell_type": "code",
   "execution_count": 52,
   "metadata": {},
   "outputs": [
    {
     "name": "stdout",
     "output_type": "stream",
     "text": [
      "Null hypothesis: the average size of the materials in the flotation stage is the same\n",
      "p-значение: 1.6081245670851188e-33\n",
      "Rejecting the null hypothesis\n",
      "\n",
      "Null hypothesis: same distribution of 2 samples\n",
      "p-значение: 5.1997046130555955e-213\n",
      "Rejecting the null hypothesis\n"
     ]
    }
   ],
   "source": [
    "results = st.ttest_ind(train[size_materials[1]], test[size_materials[1]])\n",
    "alpha = 0.05\n",
    "\n",
    "print(\"Null hypothesis: the average size of the materials in the flotation stage is the same\")\n",
    "print('p-значение:', results.pvalue)\n",
    "\n",
    "if results.pvalue < alpha:\n",
    "    print('Rejecting the null hypothesis')\n",
    "else:\n",
    "    print('Failed to reject the null hypothesis') \n",
    "    \n",
    "print()\n",
    "results = st.ks_2samp(train[size_materials[1]], test[size_materials[1]])    \n",
    "print(\"Null hypothesis: same distribution of 2 samples\")\n",
    "print('p-значение:', results.pvalue)\n",
    "\n",
    "if results.pvalue < alpha:\n",
    "    print('Rejecting the null hypothesis')\n",
    "else:\n",
    "    print('Failed to reject the null hypothesis') "
   ]
  },
  {
   "cell_type": "markdown",
   "metadata": {},
   "source": [
    "**Results**\n",
    "\n",
    "1. The plotted distribution graphs shows a more or less similar distribution in the primary treatment, and a significant difference on the flotation stage\n",
    "2. However, the tests showed differences between the test and train samples for both stages, with the largest difference at the stage of floatation\n",
    "3. Ideally, we should rebuild the test and training samples "
   ]
  },
  {
   "cell_type": "markdown",
   "metadata": {},
   "source": [
    "### The total concentration of all substances at different stages"
   ]
  },
  {
   "cell_type": "markdown",
   "metadata": {},
   "source": [
    "1. Concentration indicators are already collected in previous steps\n",
    "2. Create a list of stages\n",
    "3. At the beginning, we will show a graph of the concentration of materials by stages\n",
    "4. Summarize and show the total distribution\n",
    "5. Let's see how the composition changes"
   ]
  },
  {
   "cell_type": "code",
   "execution_count": 53,
   "metadata": {},
   "outputs": [
    {
     "data": {
      "text/html": [
       "<div>\n",
       "<style scoped>\n",
       "    .dataframe tbody tr th:only-of-type {\n",
       "        vertical-align: middle;\n",
       "    }\n",
       "\n",
       "    .dataframe tbody tr th {\n",
       "        vertical-align: top;\n",
       "    }\n",
       "\n",
       "    .dataframe thead th {\n",
       "        text-align: right;\n",
       "    }\n",
       "</style>\n",
       "<table border=\"1\" class=\"dataframe\">\n",
       "  <thead>\n",
       "    <tr style=\"text-align: right;\">\n",
       "      <th></th>\n",
       "      <th>names</th>\n",
       "    </tr>\n",
       "  </thead>\n",
       "  <tbody>\n",
       "    <tr>\n",
       "      <th>1</th>\n",
       "      <td>final.output.concentrate_ag</td>\n",
       "    </tr>\n",
       "    <tr>\n",
       "      <th>2</th>\n",
       "      <td>final.output.concentrate_pb</td>\n",
       "    </tr>\n",
       "    <tr>\n",
       "      <th>3</th>\n",
       "      <td>final.output.concentrate_sol</td>\n",
       "    </tr>\n",
       "    <tr>\n",
       "      <th>4</th>\n",
       "      <td>final.output.concentrate_au</td>\n",
       "    </tr>\n",
       "    <tr>\n",
       "      <th>14</th>\n",
       "      <td>primary_cleaner.output.concentrate_ag</td>\n",
       "    </tr>\n",
       "    <tr>\n",
       "      <th>15</th>\n",
       "      <td>primary_cleaner.output.concentrate_pb</td>\n",
       "    </tr>\n",
       "    <tr>\n",
       "      <th>16</th>\n",
       "      <td>primary_cleaner.output.concentrate_sol</td>\n",
       "    </tr>\n",
       "    <tr>\n",
       "      <th>17</th>\n",
       "      <td>primary_cleaner.output.concentrate_au</td>\n",
       "    </tr>\n",
       "    <tr>\n",
       "      <th>44</th>\n",
       "      <td>rougher.output.concentrate_ag</td>\n",
       "    </tr>\n",
       "    <tr>\n",
       "      <th>45</th>\n",
       "      <td>rougher.output.concentrate_pb</td>\n",
       "    </tr>\n",
       "    <tr>\n",
       "      <th>46</th>\n",
       "      <td>rougher.output.concentrate_sol</td>\n",
       "    </tr>\n",
       "    <tr>\n",
       "      <th>47</th>\n",
       "      <td>rougher.output.concentrate_au</td>\n",
       "    </tr>\n",
       "  </tbody>\n",
       "</table>\n",
       "</div>"
      ],
      "text/plain": [
       "                                     names\n",
       "1              final.output.concentrate_ag\n",
       "2              final.output.concentrate_pb\n",
       "3             final.output.concentrate_sol\n",
       "4              final.output.concentrate_au\n",
       "14   primary_cleaner.output.concentrate_ag\n",
       "15   primary_cleaner.output.concentrate_pb\n",
       "16  primary_cleaner.output.concentrate_sol\n",
       "17   primary_cleaner.output.concentrate_au\n",
       "44           rougher.output.concentrate_ag\n",
       "45           rougher.output.concentrate_pb\n",
       "46          rougher.output.concentrate_sol\n",
       "47           rougher.output.concentrate_au"
      ]
     },
     "execution_count": 53,
     "metadata": {},
     "output_type": "execute_result"
    }
   ],
   "source": [
    "conc_materials"
   ]
  },
  {
   "cell_type": "code",
   "execution_count": 54,
   "metadata": {},
   "outputs": [],
   "source": [
    "stages = ['rougher', 'primary_cleaner', 'final']"
   ]
  },
  {
   "cell_type": "code",
   "execution_count": 55,
   "metadata": {},
   "outputs": [
    {
     "name": "stdout",
     "output_type": "stream",
     "text": [
      "Analyzing: rougher stage\n"
     ]
    },
    {
     "data": {
      "image/png": "[encoded data removed]",
      "text/plain": [
       "<Figure size 864x432 with 1 Axes>"
      ]
     },
     "metadata": {},
     "output_type": "display_data"
    },
    {
     "name": "stdout",
     "output_type": "stream",
     "text": [
      "Analyzing: primary_cleaner stage\n"
     ]
    },
    {
     "data": {
      "image/png": "[encoded data removed]",
      "text/plain": [
       "<Figure size 864x432 with 1 Axes>"
      ]
     },
     "metadata": {},
     "output_type": "display_data"
    },
    {
     "name": "stdout",
     "output_type": "stream",
     "text": [
      "Analyzing: final stage\n"
     ]
    },
    {
     "data": {
      "image/png": "[encoded data removed]",
      "text/plain": [
       "<Figure size 864x432 with 1 Axes>"
      ]
     },
     "metadata": {},
     "output_type": "display_data"
    }
   ],
   "source": [
    "for stage in stages:\n",
    "    fig, axes = plt.subplots(facecolor='white', figsize=(12,6))\n",
    "    print(\"Analyzing:\", stage, 'stage')\n",
    "    x = conc_materials[conc_materials['names'].str.contains(stage)]\n",
    "    y = train[list(x['names'].values)]\n",
    "    y.boxplot()\n",
    "    plt.show()"
   ]
  },
  {
   "cell_type": "code",
   "execution_count": 56,
   "metadata": {},
   "outputs": [],
   "source": [
    "z = pd.DataFrame()\n",
    "for stage in stages:\n",
    "    x = conc_materials[conc_materials['names'].str.contains(stage)]\n",
    "    y = train[list(x['names'].values)]\n",
    "    y['total'] = y[list(x['names'].values)].sum(axis=1)\n",
    "    z[stage] = y['total']"
   ]
  },
  {
   "cell_type": "code",
   "execution_count": 57,
   "metadata": {},
   "outputs": [
    {
     "data": {
      "text/plain": [
       "<AxesSubplot:>"
      ]
     },
     "execution_count": 57,
     "metadata": {},
     "output_type": "execute_result"
    },
    {
     "data": {
      "image/png": "[encoded data removed]",
      "text/plain": [
       "<Figure size 864x432 with 1 Axes>"
      ]
     },
     "metadata": {},
     "output_type": "display_data"
    }
   ],
   "source": [
    "fig, axes = plt.subplots(facecolor='white', figsize=(12,6))\n",
    "\n",
    "z.boxplot()"
   ]
  },
  {
   "cell_type": "code",
   "execution_count": 58,
   "metadata": {},
   "outputs": [
    {
     "name": "stdout",
     "output_type": "stream",
     "text": [
      "Analyzing: rougher stage\n"
     ]
    },
    {
     "data": {
      "image/png": "[encoded data removed]",
      "text/plain": [
       "<Figure size 864x432 with 1 Axes>"
      ]
     },
     "metadata": {},
     "output_type": "display_data"
    },
    {
     "name": "stdout",
     "output_type": "stream",
     "text": [
      "Analyzing: primary_cleaner stage\n"
     ]
    },
    {
     "data": {
      "image/png": "[encoded data removed]",
      "text/plain": [
       "<Figure size 864x432 with 1 Axes>"
      ]
     },
     "metadata": {},
     "output_type": "display_data"
    },
    {
     "name": "stdout",
     "output_type": "stream",
     "text": [
      "Analyzing: final stage\n"
     ]
    },
    {
     "data": {
      "image/png": "[encoded data removed]",
      "text/plain": [
       "<Figure size 864x432 with 1 Axes>"
      ]
     },
     "metadata": {},
     "output_type": "display_data"
    }
   ],
   "source": [
    "for stage in stages:\n",
    "    fig, axes = plt.subplots(facecolor='white', figsize=(12,6))\n",
    "\n",
    "    print(\"Analyzing:\", stage, 'stage')\n",
    "    x = conc_materials[conc_materials['names'].str.contains(stage)]\n",
    "    y = train[list(x['names'].values)]\n",
    "    z = y.mean()\n",
    "    plot = z.plot.pie()\n",
    "    plt.show()"
   ]
  },
  {
   "cell_type": "code",
   "execution_count": 59,
   "metadata": {},
   "outputs": [
    {
     "name": "stdout",
     "output_type": "stream",
     "text": [
      "Share AU\n",
      "Analyzing: rougher stage\n",
      "rougher.output.concentrate_au    28.94\n",
      "dtype: float64\n",
      "\n",
      "Analyzing: primary_cleaner stage\n",
      "primary_cleaner.output.concentrate_au    53.82\n",
      "dtype: float64\n",
      "\n",
      "Analyzing: final stage\n",
      "final.output.concentrate_au    64.34\n",
      "dtype: float64\n",
      "\n"
     ]
    }
   ],
   "source": [
    "print(\"Share AU\")\n",
    "for stage in stages:\n",
    "    print(\"Analyzing:\", stage, 'stage')\n",
    "    x = conc_materials[conc_materials['names'].str.contains(stage)]\n",
    "    x1 = x[x['names'].str.contains('au')]\n",
    "    y = train[list(x['names'].values)]\n",
    "    y1 = train[list(x1['names'].values)].mean()\n",
    "    z = y.mean()\n",
    "    print(round(y1/ z.sum()*100, 2))\n",
    "    print()"
   ]
  },
  {
   "cell_type": "markdown",
   "metadata": {},
   "source": [
    "**Conclusions**\n",
    "\n",
    "1. Graphs are built. At the beginning there is a drop in concentration (most likely due to sol), then it is restored\n",
    "2. It is not clear whether sol should be taken into account in this analysis and in the analysis in section 2.1\n",
    "\n",
    "3. Initially, at the rougher stage, the share of gold in the total concentration is less than 28.9%. When moving to the primary_cleaner stage, 54% of the concentration falls on gold. There was a drop in the share of sol in the concentrate and an increase in the concentration of gold\n",
    "\n",
    "4. At the final stage, the share of gold among 4 materials reaches 64%, this is ensured both by an increase in the gold concentration itself and by a slight drop in ag"
   ]
  },
  {
   "cell_type": "markdown",
   "metadata": {},
   "source": [
    "## Model"
   ]
  },
  {
   "cell_type": "markdown",
   "metadata": {},
   "source": [
    "### Function for calculating the final sMAPE"
   ]
  },
  {
   "cell_type": "code",
   "execution_count": 60,
   "metadata": {},
   "outputs": [],
   "source": [
    "def smape(fact, predict):\n",
    "    smape = (\n",
    "        1 / len(fact) *\n",
    "            sum(abs(fact - predict)/\n",
    "               ((abs(fact)+abs(predict))/2)))*100\n",
    "    return smape  "
   ]
  },
  {
   "cell_type": "code",
   "execution_count": 61,
   "metadata": {},
   "outputs": [
    {
     "data": {
      "text/plain": [
       "200.0"
      ]
     },
     "execution_count": 61,
     "metadata": {},
     "output_type": "execute_result"
    }
   ],
   "source": [
    "d = {'fact': [1, 1, 1, 1, 1], 'predict': [0, 0, 0, 0, 0]}\n",
    "x = pd.DataFrame(data=d)\n",
    "smape(x['fact'], x['predict'])"
   ]
  },
  {
   "cell_type": "code",
   "execution_count": 62,
   "metadata": {},
   "outputs": [
    {
     "data": {
      "text/plain": [
       "66.66666666666666"
      ]
     },
     "execution_count": 62,
     "metadata": {},
     "output_type": "execute_result"
    }
   ],
   "source": [
    "d = {'fact': [100, 100, 100, 100, 100], 'predict': [200, 200, 200, 200, 200]}\n",
    "x = pd.DataFrame(data=d)\n",
    "smape(x['fact'], x['predict'])"
   ]
  },
  {
   "cell_type": "code",
   "execution_count": 63,
   "metadata": {},
   "outputs": [
    {
     "data": {
      "text/plain": [
       "66.66666666666666"
      ]
     },
     "execution_count": 63,
     "metadata": {},
     "output_type": "execute_result"
    }
   ],
   "source": [
    "d = {'fact': [1, 1, 1, 1, 1], 'predict': [2, 2, 2, 2, 2]}\n",
    "x = pd.DataFrame(data=d)\n",
    "smape(x['fact'], x['predict'])"
   ]
  },
  {
   "cell_type": "markdown",
   "metadata": {},
   "source": [
    "### Training different models and evaluating their quality by cross-validation"
   ]
  },
  {
   "cell_type": "markdown",
   "metadata": {},
   "source": [
    "As far as I understand there are 2 approaches:\n",
    "1. 1 model that predicts both indicators\n",
    "2. 2 models for 2 cleaning stages. \n",
    "\n",
    "Since option 2 will allow you to choose better models for a particular block, I use it.\n",
    "\n",
    "1. Remove columns not available in test\n",
    "2. Remove the dates from the data\n",
    "3. Select targets\n",
    "4. Upload targets to test"
   ]
  },
  {
   "cell_type": "code",
   "execution_count": 64,
   "metadata": {},
   "outputs": [
    {
     "data": {
      "text/plain": [
       "True"
      ]
     },
     "execution_count": 64,
     "metadata": {},
     "output_type": "execute_result"
    }
   ],
   "source": [
    "x = pd.DataFrame(train.columns, columns=['names'])\n",
    "x = x[~x['names'].str.contains(r'output')]\n",
    "x = x[~x['names'].str.contains(r'calculation')]\n",
    "x = x.reset_index()\n",
    "x = x.drop('index', axis=1)\n",
    "y = pd.DataFrame(test.columns, columns=['names'])\n",
    "x.equals(y)"
   ]
  },
  {
   "cell_type": "code",
   "execution_count": 65,
   "metadata": {},
   "outputs": [],
   "source": [
    "features_train = train[list(x['names'].values)].drop(columns='date')\n",
    "target_train_rough = train['rougher.output.concentrate_au']\n",
    "target_train_final = train['final.output.concentrate_au']"
   ]
  },
  {
   "cell_type": "code",
   "execution_count": 66,
   "metadata": {},
   "outputs": [],
   "source": [
    "features_test = test.drop(columns='date')"
   ]
  },
  {
   "cell_type": "code",
   "execution_count": 67,
   "metadata": {},
   "outputs": [
    {
     "data": {
      "text/plain": [
       "rougher.output.concentrate_au    0\n",
       "final.output.concentrate_au      0\n",
       "dtype: int64"
      ]
     },
     "execution_count": 67,
     "metadata": {},
     "output_type": "execute_result"
    }
   ],
   "source": [
    "test_1 = test.merge(full[['date', 'rougher.output.concentrate_au', 'final.output.concentrate_au']],\n",
    "                    how='left', left_on='date', right_on='date')\n",
    "test_1[['rougher.output.concentrate_au', 'final.output.concentrate_au']].isna().sum()"
   ]
  },
  {
   "cell_type": "code",
   "execution_count": 68,
   "metadata": {},
   "outputs": [],
   "source": [
    "target_test_rough = test_1['rougher.output.concentrate_au']\n",
    "target_test_final = test_1['final.output.concentrate_au']"
   ]
  },
  {
   "cell_type": "code",
   "execution_count": 69,
   "metadata": {},
   "outputs": [],
   "source": [
    "score_smape = make_scorer(smape, greater_is_better=False)\n",
    "param_grid={'normalize': ['boolean', False]}\n",
    "grid_r = GridSearchCV(LinearRegression(), param_grid, scoring=score_smape, verbose=3)"
   ]
  },
  {
   "cell_type": "code",
   "execution_count": 70,
   "metadata": {},
   "outputs": [
    {
     "name": "stdout",
     "output_type": "stream",
     "text": [
      "Fitting 5 folds for each of 2 candidates, totalling 10 fits\n",
      "[CV 1/5] END ..............................normalize=boolean; total time=   0.0s\n",
      "[CV 2/5] END ..............................normalize=boolean; total time=   0.0s\n",
      "[CV 3/5] END ..............................normalize=boolean; total time=   0.0s\n",
      "[CV 4/5] END ..............................normalize=boolean; total time=   0.0s\n",
      "[CV 5/5] END ..............................normalize=boolean; total time=   0.0s\n",
      "[CV 1/5] END ................................normalize=False; total time=   0.0s\n",
      "[CV 2/5] END ................................normalize=False; total time=   0.0s\n",
      "[CV 3/5] END ................................normalize=False; total time=   0.0s\n",
      "[CV 4/5] END ................................normalize=False; total time=   0.0s\n",
      "[CV 5/5] END ................................normalize=False; total time=   0.0s\n"
     ]
    },
    {
     "data": {
      "text/plain": [
       "GridSearchCV(estimator=LinearRegression(),\n",
       "             param_grid={'normalize': ['boolean', False]},\n",
       "             scoring=make_scorer(smape, greater_is_better=False), verbose=3)"
      ]
     },
     "execution_count": 70,
     "metadata": {},
     "output_type": "execute_result"
    }
   ],
   "source": [
    "grid_r.fit(features_train, target_train_rough) "
   ]
  },
  {
   "cell_type": "code",
   "execution_count": 71,
   "metadata": {},
   "outputs": [
    {
     "name": "stdout",
     "output_type": "stream",
     "text": [
      "{'normalize': False}\n",
      "-15.124361350925298\n"
     ]
    }
   ],
   "source": [
    "print(grid_r.best_params_) \n",
    "print(grid_r.best_score_ ) "
   ]
  },
  {
   "cell_type": "markdown",
   "metadata": {},
   "source": [
    "Negative score because we are looking to minimize score in our case "
   ]
  },
  {
   "cell_type": "code",
   "execution_count": 72,
   "metadata": {},
   "outputs": [],
   "source": [
    "param_grid={'n_estimators': range(5, 10), 'max_depth': range(5, 10),  'random_state' : [12345]}\n",
    "grid_tree_r = GridSearchCV(RandomForestRegressor(), param_grid, scoring=score_smape, verbose=3, n_jobs=-1)"
   ]
  },
  {
   "cell_type": "code",
   "execution_count": 73,
   "metadata": {},
   "outputs": [
    {
     "name": "stdout",
     "output_type": "stream",
     "text": [
      "Fitting 5 folds for each of 25 candidates, totalling 125 fits\n"
     ]
    },
    {
     "data": {
      "text/plain": [
       "GridSearchCV(estimator=RandomForestRegressor(), n_jobs=-1,\n",
       "             param_grid={'max_depth': range(5, 10),\n",
       "                         'n_estimators': range(5, 10),\n",
       "                         'random_state': [12345]},\n",
       "             scoring=make_scorer(smape, greater_is_better=False), verbose=3)"
      ]
     },
     "execution_count": 73,
     "metadata": {},
     "output_type": "execute_result"
    }
   ],
   "source": [
    "grid_tree_r.fit(features_train, target_train_rough) "
   ]
  },
  {
   "cell_type": "code",
   "execution_count": 74,
   "metadata": {},
   "outputs": [
    {
     "name": "stdout",
     "output_type": "stream",
     "text": [
      "{'max_depth': 5, 'n_estimators': 5, 'random_state': 12345}\n",
      "-14.19066832627522\n"
     ]
    }
   ],
   "source": [
    "print(grid_tree_r.best_params_) \n",
    "print(grid_tree_r.best_score_ ) "
   ]
  },
  {
   "cell_type": "code",
   "execution_count": 75,
   "metadata": {},
   "outputs": [],
   "source": [
    "param_grid={'normalize': ['boolean', False]}\n",
    "grid_f = GridSearchCV(LinearRegression(), param_grid, scoring=score_smape, verbose=3)"
   ]
  },
  {
   "cell_type": "code",
   "execution_count": 76,
   "metadata": {},
   "outputs": [
    {
     "name": "stdout",
     "output_type": "stream",
     "text": [
      "Fitting 5 folds for each of 2 candidates, totalling 10 fits\n",
      "[CV 1/5] END ..............................normalize=boolean; total time=   0.0s\n",
      "[CV 2/5] END ..............................normalize=boolean; total time=   0.0s\n",
      "[CV 3/5] END ..............................normalize=boolean; total time=   0.0s\n",
      "[CV 4/5] END ..............................normalize=boolean; total time=   0.0s\n",
      "[CV 5/5] END ..............................normalize=boolean; total time=   0.0s\n",
      "[CV 1/5] END ................................normalize=False; total time=   0.0s\n",
      "[CV 2/5] END ................................normalize=False; total time=   0.0s\n",
      "[CV 3/5] END ................................normalize=False; total time=   0.0s\n",
      "[CV 4/5] END ................................normalize=False; total time=   0.0s\n",
      "[CV 5/5] END ................................normalize=False; total time=   0.0s\n"
     ]
    },
    {
     "data": {
      "text/plain": [
       "GridSearchCV(estimator=LinearRegression(),\n",
       "             param_grid={'normalize': ['boolean', False]},\n",
       "             scoring=make_scorer(smape, greater_is_better=False), verbose=3)"
      ]
     },
     "execution_count": 76,
     "metadata": {},
     "output_type": "execute_result"
    }
   ],
   "source": [
    "grid_f.fit(features_train, target_train_final) "
   ]
  },
  {
   "cell_type": "code",
   "execution_count": 77,
   "metadata": {},
   "outputs": [
    {
     "name": "stdout",
     "output_type": "stream",
     "text": [
      "{'normalize': False}\n",
      "-8.052612797043746\n"
     ]
    }
   ],
   "source": [
    "print(grid_f.best_params_) \n",
    "print(grid_f.best_score_ ) "
   ]
  },
  {
   "cell_type": "code",
   "execution_count": 78,
   "metadata": {},
   "outputs": [],
   "source": [
    "param_grid={'n_estimators': range(5, 10), 'max_depth': range(5, 10),  'random_state' : [12345]}\n",
    "grid_tree_f = GridSearchCV(RandomForestRegressor(), param_grid, scoring=score_smape, verbose=3, n_jobs=-1)"
   ]
  },
  {
   "cell_type": "code",
   "execution_count": 79,
   "metadata": {},
   "outputs": [
    {
     "name": "stdout",
     "output_type": "stream",
     "text": [
      "Fitting 5 folds for each of 25 candidates, totalling 125 fits\n"
     ]
    },
    {
     "data": {
      "text/plain": [
       "GridSearchCV(estimator=RandomForestRegressor(), n_jobs=-1,\n",
       "             param_grid={'max_depth': range(5, 10),\n",
       "                         'n_estimators': range(5, 10),\n",
       "                         'random_state': [12345]},\n",
       "             scoring=make_scorer(smape, greater_is_better=False), verbose=3)"
      ]
     },
     "execution_count": 79,
     "metadata": {},
     "output_type": "execute_result"
    }
   ],
   "source": [
    "grid_tree_f.fit(features_train, target_train_final) "
   ]
  },
  {
   "cell_type": "code",
   "execution_count": 80,
   "metadata": {},
   "outputs": [
    {
     "name": "stdout",
     "output_type": "stream",
     "text": [
      "{'max_depth': 5, 'n_estimators': 9, 'random_state': 12345}\n",
      "-7.3428964239285275\n"
     ]
    }
   ],
   "source": [
    "print(grid_tree_f.best_params_) \n",
    "print(grid_tree_f.best_score_ ) "
   ]
  },
  {
   "cell_type": "code",
   "execution_count": 81,
   "metadata": {},
   "outputs": [],
   "source": [
    "model_r = LinearRegression(normalize =  False)\n",
    "model_r.fit(features_train, target_train_rough)\n",
    "err_train_r = smape(target_train_rough, model_r.predict(features_train))\n",
    "err_test_r = smape(target_test_rough, model_r.predict(features_test))"
   ]
  },
  {
   "cell_type": "code",
   "execution_count": 82,
   "metadata": {},
   "outputs": [],
   "source": [
    "model_r = LinearRegression(normalize =  False)\n",
    "model_r.fit(features_train, target_train_rough)\n",
    "err_train_r = smape(target_train_rough, model_r.predict(features_train))\n",
    "err_test_r = smape(target_test_rough, model_r.predict(features_test))"
   ]
  },
  {
   "cell_type": "code",
   "execution_count": 83,
   "metadata": {},
   "outputs": [],
   "source": [
    "model_f = LinearRegression(normalize =  False)\n",
    "model_f.fit(features_train, target_train_final)\n",
    "err_train_f = smape(target_train_final, model_f.predict(features_train))\n",
    "err_test_f =smape(target_test_final, model_f.predict(features_test))"
   ]
  },
  {
   "cell_type": "code",
   "execution_count": null,
   "metadata": {},
   "outputs": [],
   "source": [
    "print('Calculation of the final error indicator')\n",
    "print(\"Train sample. Error for flotation stage\", err_train_r)\n",
    "print(\"Train sample. Error for the final stage\", err_train_f)\n",
    "print(\"Train sample. The total error is\", (0.25*err_train_r + 0.75*err_train_f))\n",
    "print()\n",
    "print(\"Test sample. Error for flotation stage\", err_test_r)\n",
    "print(\"Test sample. Error for the final stage\", err_test_f)\n",
    "print(\"Test sample. The total error is\", (0.25*err_test_r + 0.75*err_test_f))"
   ]
  },
  {
   "cell_type": "markdown",
   "metadata": {},
   "source": [
    "**Conclusions**\n",
    "\n",
    "1. Checked 2 main types of models - linear and random forest for regressions. The linear model is better for the evaluation and the flotation stage and for the final one.\n",
    "\n",
    "2. The error is calculated and the model predictions are checked on the test set"
   ]
  }
 ],
 "metadata": {
  "kernelspec": {
   "display_name": "Python 3.8.8 ('base')",
   "language": "python",
   "name": "python3"
  },
  "language_info": {
   "codemirror_mode": {
    "name": "ipython",
    "version": 3
   },
   "file_extension": ".py",
   "mimetype": "text/x-python",
   "name": "python",
   "nbconvert_exporter": "python",
   "pygments_lexer": "ipython3",
   "version": "3.8.8"
  },
  "orig_nbformat": 4,
  "vscode": {
   "interpreter": {
    "hash": "b7d258fa581379cc616dd21d18b044438587cad8c2fc6656384f324d1def7e8d"
   }
  }
 },
 "nbformat": 4,
 "nbformat_minor": 2
}
