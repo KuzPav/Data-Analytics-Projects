{
 "cells": [
  {
   "cell_type": "markdown",
   "metadata": {},
   "source": [
    "## Loading and analyzing initital data"
   ]
  },
  {
   "cell_type": "code",
   "execution_count": 24,
   "metadata": {},
   "outputs": [],
   "source": [
    "import pandas as pd\n",
    "import numpy as np\n",
    "from datetime import datetime\n",
    "from sklearn.linear_model import LinearRegression\n",
    "from sklearn.model_selection import train_test_split \n",
    "from sklearn.metrics import r2_score"
   ]
  },
  {
   "cell_type": "code",
   "execution_count": 25,
   "metadata": {},
   "outputs": [],
   "source": [
    "data = pd.read_csv('datasets/insurance.csv')"
   ]
  },
  {
   "cell_type": "code",
   "execution_count": 26,
   "metadata": {},
   "outputs": [
    {
     "data": {
      "text/html": [
       "<div>\n",
       "<style scoped>\n",
       "    .dataframe tbody tr th:only-of-type {\n",
       "        vertical-align: middle;\n",
       "    }\n",
       "\n",
       "    .dataframe tbody tr th {\n",
       "        vertical-align: top;\n",
       "    }\n",
       "\n",
       "    .dataframe thead th {\n",
       "        text-align: right;\n",
       "    }\n",
       "</style>\n",
       "<table border=\"1\" class=\"dataframe\">\n",
       "  <thead>\n",
       "    <tr style=\"text-align: right;\">\n",
       "      <th></th>\n",
       "      <th>Пол</th>\n",
       "      <th>Возраст</th>\n",
       "      <th>Зарплата</th>\n",
       "      <th>Члены семьи</th>\n",
       "      <th>Страховые выплаты</th>\n",
       "    </tr>\n",
       "  </thead>\n",
       "  <tbody>\n",
       "    <tr>\n",
       "      <th>0</th>\n",
       "      <td>1</td>\n",
       "      <td>41.0</td>\n",
       "      <td>49600.0</td>\n",
       "      <td>1</td>\n",
       "      <td>0</td>\n",
       "    </tr>\n",
       "    <tr>\n",
       "      <th>1</th>\n",
       "      <td>0</td>\n",
       "      <td>46.0</td>\n",
       "      <td>38000.0</td>\n",
       "      <td>1</td>\n",
       "      <td>1</td>\n",
       "    </tr>\n",
       "    <tr>\n",
       "      <th>2</th>\n",
       "      <td>0</td>\n",
       "      <td>29.0</td>\n",
       "      <td>21000.0</td>\n",
       "      <td>0</td>\n",
       "      <td>0</td>\n",
       "    </tr>\n",
       "    <tr>\n",
       "      <th>3</th>\n",
       "      <td>0</td>\n",
       "      <td>21.0</td>\n",
       "      <td>41700.0</td>\n",
       "      <td>2</td>\n",
       "      <td>0</td>\n",
       "    </tr>\n",
       "    <tr>\n",
       "      <th>4</th>\n",
       "      <td>1</td>\n",
       "      <td>28.0</td>\n",
       "      <td>26100.0</td>\n",
       "      <td>0</td>\n",
       "      <td>0</td>\n",
       "    </tr>\n",
       "  </tbody>\n",
       "</table>\n",
       "</div>"
      ],
      "text/plain": [
       "   Пол  Возраст  Зарплата  Члены семьи  Страховые выплаты\n",
       "0    1     41.0   49600.0            1                  0\n",
       "1    0     46.0   38000.0            1                  1\n",
       "2    0     29.0   21000.0            0                  0\n",
       "3    0     21.0   41700.0            2                  0\n",
       "4    1     28.0   26100.0            0                  0"
      ]
     },
     "execution_count": 26,
     "metadata": {},
     "output_type": "execute_result"
    }
   ],
   "source": [
    "data.head()"
   ]
  },
  {
   "cell_type": "code",
   "execution_count": 27,
   "metadata": {},
   "outputs": [
    {
     "name": "stdout",
     "output_type": "stream",
     "text": [
      "<class 'pandas.core.frame.DataFrame'>\n",
      "RangeIndex: 5000 entries, 0 to 4999\n",
      "Data columns (total 5 columns):\n",
      " #   Column             Non-Null Count  Dtype  \n",
      "---  ------             --------------  -----  \n",
      " 0   Пол                5000 non-null   int64  \n",
      " 1   Возраст            5000 non-null   float64\n",
      " 2   Зарплата           5000 non-null   float64\n",
      " 3   Члены семьи        5000 non-null   int64  \n",
      " 4   Страховые выплаты  5000 non-null   int64  \n",
      "dtypes: float64(2), int64(3)\n",
      "memory usage: 195.4 KB\n"
     ]
    }
   ],
   "source": [
    "data.info()"
   ]
  },
  {
   "cell_type": "code",
   "execution_count": 28,
   "metadata": {},
   "outputs": [
    {
     "data": {
      "text/html": [
       "<div>\n",
       "<style scoped>\n",
       "    .dataframe tbody tr th:only-of-type {\n",
       "        vertical-align: middle;\n",
       "    }\n",
       "\n",
       "    .dataframe tbody tr th {\n",
       "        vertical-align: top;\n",
       "    }\n",
       "\n",
       "    .dataframe thead th {\n",
       "        text-align: right;\n",
       "    }\n",
       "</style>\n",
       "<table border=\"1\" class=\"dataframe\">\n",
       "  <thead>\n",
       "    <tr style=\"text-align: right;\">\n",
       "      <th></th>\n",
       "      <th>Пол</th>\n",
       "      <th>Возраст</th>\n",
       "      <th>Зарплата</th>\n",
       "      <th>Члены семьи</th>\n",
       "      <th>Страховые выплаты</th>\n",
       "    </tr>\n",
       "  </thead>\n",
       "  <tbody>\n",
       "    <tr>\n",
       "      <th>count</th>\n",
       "      <td>5000.000000</td>\n",
       "      <td>5000.000000</td>\n",
       "      <td>5000.000000</td>\n",
       "      <td>5000.000000</td>\n",
       "      <td>5000.000000</td>\n",
       "    </tr>\n",
       "    <tr>\n",
       "      <th>mean</th>\n",
       "      <td>0.499000</td>\n",
       "      <td>30.952800</td>\n",
       "      <td>39916.360000</td>\n",
       "      <td>1.194200</td>\n",
       "      <td>0.148000</td>\n",
       "    </tr>\n",
       "    <tr>\n",
       "      <th>std</th>\n",
       "      <td>0.500049</td>\n",
       "      <td>8.440807</td>\n",
       "      <td>9900.083569</td>\n",
       "      <td>1.091387</td>\n",
       "      <td>0.463183</td>\n",
       "    </tr>\n",
       "    <tr>\n",
       "      <th>min</th>\n",
       "      <td>0.000000</td>\n",
       "      <td>18.000000</td>\n",
       "      <td>5300.000000</td>\n",
       "      <td>0.000000</td>\n",
       "      <td>0.000000</td>\n",
       "    </tr>\n",
       "    <tr>\n",
       "      <th>25%</th>\n",
       "      <td>0.000000</td>\n",
       "      <td>24.000000</td>\n",
       "      <td>33300.000000</td>\n",
       "      <td>0.000000</td>\n",
       "      <td>0.000000</td>\n",
       "    </tr>\n",
       "    <tr>\n",
       "      <th>50%</th>\n",
       "      <td>0.000000</td>\n",
       "      <td>30.000000</td>\n",
       "      <td>40200.000000</td>\n",
       "      <td>1.000000</td>\n",
       "      <td>0.000000</td>\n",
       "    </tr>\n",
       "    <tr>\n",
       "      <th>75%</th>\n",
       "      <td>1.000000</td>\n",
       "      <td>37.000000</td>\n",
       "      <td>46600.000000</td>\n",
       "      <td>2.000000</td>\n",
       "      <td>0.000000</td>\n",
       "    </tr>\n",
       "    <tr>\n",
       "      <th>max</th>\n",
       "      <td>1.000000</td>\n",
       "      <td>65.000000</td>\n",
       "      <td>79000.000000</td>\n",
       "      <td>6.000000</td>\n",
       "      <td>5.000000</td>\n",
       "    </tr>\n",
       "  </tbody>\n",
       "</table>\n",
       "</div>"
      ],
      "text/plain": [
       "               Пол      Возраст      Зарплата  Члены семьи  Страховые выплаты\n",
       "count  5000.000000  5000.000000   5000.000000  5000.000000        5000.000000\n",
       "mean      0.499000    30.952800  39916.360000     1.194200           0.148000\n",
       "std       0.500049     8.440807   9900.083569     1.091387           0.463183\n",
       "min       0.000000    18.000000   5300.000000     0.000000           0.000000\n",
       "25%       0.000000    24.000000  33300.000000     0.000000           0.000000\n",
       "50%       0.000000    30.000000  40200.000000     1.000000           0.000000\n",
       "75%       1.000000    37.000000  46600.000000     2.000000           0.000000\n",
       "max       1.000000    65.000000  79000.000000     6.000000           5.000000"
      ]
     },
     "execution_count": 28,
     "metadata": {},
     "output_type": "execute_result"
    }
   ],
   "source": [
    "data.describe()"
   ]
  },
  {
   "cell_type": "code",
   "execution_count": 29,
   "metadata": {},
   "outputs": [
    {
     "data": {
      "text/plain": [
       "Страховые выплаты\n",
       "0    4436\n",
       "1     423\n",
       "2     115\n",
       "3      18\n",
       "4       7\n",
       "5       1\n",
       "Name: Члены семьи, dtype: int64"
      ]
     },
     "execution_count": 29,
     "metadata": {},
     "output_type": "execute_result"
    }
   ],
   "source": [
    "data.groupby(by = 'Страховые выплаты')['Члены семьи'].count()"
   ]
  },
  {
   "cell_type": "code",
   "execution_count": 30,
   "metadata": {},
   "outputs": [],
   "source": [
    "data.columns = ('param_1', 'param_2', 'param_3', 'param_4', 'target')"
   ]
  },
  {
   "cell_type": "code",
   "execution_count": 31,
   "metadata": {},
   "outputs": [],
   "source": [
    "data.loc[data['target'] > 1, 'target'] = 1"
   ]
  },
  {
   "cell_type": "code",
   "execution_count": 32,
   "metadata": {},
   "outputs": [
    {
     "data": {
      "text/html": [
       "<div>\n",
       "<style scoped>\n",
       "    .dataframe tbody tr th:only-of-type {\n",
       "        vertical-align: middle;\n",
       "    }\n",
       "\n",
       "    .dataframe tbody tr th {\n",
       "        vertical-align: top;\n",
       "    }\n",
       "\n",
       "    .dataframe thead th {\n",
       "        text-align: right;\n",
       "    }\n",
       "</style>\n",
       "<table border=\"1\" class=\"dataframe\">\n",
       "  <thead>\n",
       "    <tr style=\"text-align: right;\">\n",
       "      <th></th>\n",
       "      <th>param_1</th>\n",
       "      <th>param_2</th>\n",
       "      <th>param_3</th>\n",
       "      <th>param_4</th>\n",
       "      <th>target</th>\n",
       "    </tr>\n",
       "  </thead>\n",
       "  <tbody>\n",
       "    <tr>\n",
       "      <th>count</th>\n",
       "      <td>5000.000000</td>\n",
       "      <td>5000.000000</td>\n",
       "      <td>5000.000000</td>\n",
       "      <td>5000.000000</td>\n",
       "      <td>5000.00000</td>\n",
       "    </tr>\n",
       "    <tr>\n",
       "      <th>mean</th>\n",
       "      <td>0.499000</td>\n",
       "      <td>30.952800</td>\n",
       "      <td>39916.360000</td>\n",
       "      <td>1.194200</td>\n",
       "      <td>0.11280</td>\n",
       "    </tr>\n",
       "    <tr>\n",
       "      <th>std</th>\n",
       "      <td>0.500049</td>\n",
       "      <td>8.440807</td>\n",
       "      <td>9900.083569</td>\n",
       "      <td>1.091387</td>\n",
       "      <td>0.31638</td>\n",
       "    </tr>\n",
       "    <tr>\n",
       "      <th>min</th>\n",
       "      <td>0.000000</td>\n",
       "      <td>18.000000</td>\n",
       "      <td>5300.000000</td>\n",
       "      <td>0.000000</td>\n",
       "      <td>0.00000</td>\n",
       "    </tr>\n",
       "    <tr>\n",
       "      <th>25%</th>\n",
       "      <td>0.000000</td>\n",
       "      <td>24.000000</td>\n",
       "      <td>33300.000000</td>\n",
       "      <td>0.000000</td>\n",
       "      <td>0.00000</td>\n",
       "    </tr>\n",
       "    <tr>\n",
       "      <th>50%</th>\n",
       "      <td>0.000000</td>\n",
       "      <td>30.000000</td>\n",
       "      <td>40200.000000</td>\n",
       "      <td>1.000000</td>\n",
       "      <td>0.00000</td>\n",
       "    </tr>\n",
       "    <tr>\n",
       "      <th>75%</th>\n",
       "      <td>1.000000</td>\n",
       "      <td>37.000000</td>\n",
       "      <td>46600.000000</td>\n",
       "      <td>2.000000</td>\n",
       "      <td>0.00000</td>\n",
       "    </tr>\n",
       "    <tr>\n",
       "      <th>max</th>\n",
       "      <td>1.000000</td>\n",
       "      <td>65.000000</td>\n",
       "      <td>79000.000000</td>\n",
       "      <td>6.000000</td>\n",
       "      <td>1.00000</td>\n",
       "    </tr>\n",
       "  </tbody>\n",
       "</table>\n",
       "</div>"
      ],
      "text/plain": [
       "           param_1      param_2       param_3      param_4      target\n",
       "count  5000.000000  5000.000000   5000.000000  5000.000000  5000.00000\n",
       "mean      0.499000    30.952800  39916.360000     1.194200     0.11280\n",
       "std       0.500049     8.440807   9900.083569     1.091387     0.31638\n",
       "min       0.000000    18.000000   5300.000000     0.000000     0.00000\n",
       "25%       0.000000    24.000000  33300.000000     0.000000     0.00000\n",
       "50%       0.000000    30.000000  40200.000000     1.000000     0.00000\n",
       "75%       1.000000    37.000000  46600.000000     2.000000     0.00000\n",
       "max       1.000000    65.000000  79000.000000     6.000000     1.00000"
      ]
     },
     "execution_count": 32,
     "metadata": {},
     "output_type": "execute_result"
    }
   ],
   "source": [
    "data.describe()"
   ]
  },
  {
   "cell_type": "markdown",
   "metadata": {},
   "source": [
    "**Results**\n",
    "\n",
    "1. Data doesn't have missing variables\n",
    "2. Column names were anonymized\n",
    "3. Target variable was changed into dummy varable since the task is to predict if event occurs, not how many times"
   ]
  },
  {
   "cell_type": "markdown",
   "metadata": {},
   "source": [
    "## Matrix multiplication"
   ]
  },
  {
   "cell_type": "markdown",
   "metadata": {},
   "source": [
    "Notation:\n",
    "\n",
    "- $X$ — feature matrix  (column zero consists of ones)\n",
    "\n",
    "- $y$ — target feature vector\n",
    "\n",
    "- $P$ — matrix that is used to multiply the features matrix \n",
    "\n",
    "- $w$ — vector of linear regression weights (element zero equals shift)"
   ]
  },
  {
   "cell_type": "markdown",
   "metadata": {},
   "source": [
    "Predictions:\n",
    "\n",
    "$$\n",
    "a = Xw\n",
    "$$\n",
    "\n",
    "Learning task:\n",
    "\n",
    "$$\n",
    "w = \\arg\\min_w MSE(Xw, y)\n",
    "$$\n",
    "\n",
    "Learning formula:\n",
    "\n",
    "$$\n",
    "w = (X^T X)^{-1} X^T y\n",
    "$$"
   ]
  },
  {
   "cell_type": "markdown",
   "metadata": {},
   "source": [
    "** Answer: ** The quality of a linear regression will not change if multiplied by an invertible matrix and at the same time multiplying the feature matrix X on the right.\n",
    "\n",
    "**Rationale:** "
   ]
  },
  {
   "cell_type": "markdown",
   "metadata": {},
   "source": [
    "If we consider this formula\n",
    "\n",
    "$\n",
    "w = (X^T X)^{-1} X^T y\n",
    "$\n",
    "\n",
    "Let's start with the matrices dimensions\n",
    "\n",
    "X - has m * n dimension (m is the number of observations, and n is the number of indicators that we use in the analysis)\n",
    "\n",
    "So $\n",
    "X^T\n",
    "$\n",
    "has n*m dimension \n",
    "\n",
    "Their multiplication  $\n",
    "X^T X\n",
    "$ - n*n, just like its inverse matrix\n",
    "$\n",
    "(X^T X)^{-1} \n",
    "$\n",
    "\n",
    "\n",
    "Finally \n",
    "$(X^T X)^{-1} X^T $\n",
    "an n*m matrix that is multiplied by\n",
    "y - m * 1 and the result is a matrix with dimension\n",
    "n * 1\n",
    "\n",
    "n * 1 is the dimension that is needed for the last multiplication X * w, m * n and n * 1 gives us m * 1 - exactly the matrix that is needed to compare with the target column.\n",
    "\n",
    "When multiplying the matrix X by some invertible matrix, we must take into account that both dimensions are important.\n",
    "\n",
    "Let Z be our invertible matrix\n",
    "\n",
    "Thus, if the multiplication is on the right, X * Z, then it must have a dimension of n * n so that our matrix does not change size."
   ]
  },
  {
   "cell_type": "markdown",
   "metadata": {},
   "source": [
    "Assume that we multiply from the right by the matrix Z. Dimensions\n",
    "\n",
    "$ X^T и  Z $ - n * n\n",
    "\n",
    "$X$ - m * n\n",
    "\n",
    "$X^T$ -  n * m\n",
    "\n",
    "$$\n",
    "a_1 = X(X^T X)^{-1} X^T y\n",
    "$$\n",
    "\n",
    "$$\n",
    "a_2 = XZ((XZ)^T XZ)^{-1} (XZ)^T y\n",
    "$$\n",
    "\n",
    "    The transposed product of matrices is equal to the product of the transposed matrices taken in reverse order.\n",
    "\n",
    "$$\n",
    "a_2 = XZ(Z^T X^T X Z)^{-1} Z^T X^T y\n",
    "$$\n",
    "\n",
    "the inverse matrix of the product of **square** matrices is equal to the product of the inverse matrices of factors, taken in reverse order.\n",
    "\n",
    "We have 3 square matrices under -1 Zt, Z and the product $X^T X$. That is, at the beginning we can assume that we have a product of 2 matrices $Z^T$ and $X^T X Z$, then\n",
    "\n",
    "$$\n",
    "a_2 = XZ(Z^T X^T X Z)^{-1} Z^T X^T y\n",
    "$$\n",
    "equals\n",
    "$$\n",
    "a_2 = XZ(X^T X Z)^{-1}(Z^T)^{-1} Z^T X^T y\n",
    "$$\n",
    "and then\n",
    "$$\n",
    "a_2 = XZZ^{-1}(X^T X)^{-1}(Z^T)^{-1} Z^T X^T y\n",
    "$$\n",
    "\n",
    "As a result $XZZ^{-1} = XE = X$ and the same with the second Z $(Z^T)^{-1} Z^T X^T = E X^T = X^T$\n",
    "\n",
    "Thus, despite the multiplication by the matrix Z a1=a2:\n",
    "\n",
    "$$\n",
    "a_1 = X(X^T X)^{-1} X^T y  = XZZ^{-1}(X^T X)^{-1}(Z^T)^{-1} Z^T X^T y = a_2\n",
    "$$\n",
    "$$\n",
    "a_1 = X(X^T X)^{-1} X^T y  = XE(X^T X)^{-1} E X^T y = a_2\n",
    "$$\n",
    "$$\n",
    "a_1 = X(X^T X)^{-1} X^T y  = X(X^T X)^{-1} X^T y = a_2\n",
    "$$"
   ]
  },
  {
   "cell_type": "markdown",
   "metadata": {},
   "source": [
    "Can we multiply on the left? Logic in this case is fuzzy, but let's check\n",
    "\n",
    "Then\n",
    "\n",
    "$ X^T и  Z $ - m * m\n",
    "\n",
    "$X$ - m * n\n",
    "\n",
    "$X^T$ -  n * m\n",
    "\n",
    "$$\n",
    "a_1 = X(X^T X)^{-1} X^T y\n",
    "$$\n",
    "\n",
    "$$\n",
    "a_3 = ZX((ZX)^T ZX)^{-1} (ZX)^T y\n",
    "$$\n",
    "\n",
    "    The transposed product of matrices is equal to the product of the transposed matrices taken in reverse order.\n",
    "\n",
    "$$\n",
    "a_3 = ZX(X^T Z^T ZX)^{-1} X^T Z^T  y\n",
    "$$\n",
    "\n",
    "In this case, the square matrix at -1 appears only when all 4 matrices are multiplied within it. So we can't do it"
   ]
  },
  {
   "cell_type": "markdown",
   "metadata": {},
   "source": [
    "## Encryption algorithm"
   ]
  },
  {
   "cell_type": "markdown",
   "metadata": {},
   "source": [
    "**Algorithm**\n",
    "\n",
    "1. Take the current number of the day (d) and month (m)\n",
    "2. At odd points use the following sequence\n",
    "$$\n",
    "a_{ij} = d-1^{i+1}*j\n",
    "$$\n",
    "3. For even lines use\n",
    "$$\n",
    "a_{ij} = m-1^{i/2+1}*j\n",
    "$$\n",
    "4. Check for the presence of a determinant - if it is equal to 0 - then recalculate with d + 1"
   ]
  },
  {
   "cell_type": "markdown",
   "metadata": {},
   "source": [
    "**Rationale**\n",
    "\n",
    "Based on what was shown in \"Matrix multiplication paragraph\", any invertible matrix of size n * n will not affect the results of the calculations.\n",
    "\n",
    "Based on the analysis carried out in paragraph 2, a matrix n * n is taken, where n is the number of analyzed features. In our case, this is 4 * 4. A matrix that is constant can allow you to return to the original data, which limits the security. To avoid this, when forming the matrix, it is proposed to use the current day and month. Then, without knowing when the transformation was made, it will become impossible to obtain the original data based on the transformed ones."
   ]
  },
  {
   "cell_type": "markdown",
   "metadata": {},
   "source": [
    "## Algorithm verification"
   ]
  },
  {
   "cell_type": "code",
   "execution_count": 33,
   "metadata": {},
   "outputs": [],
   "source": [
    "n = 4\n",
    "day = int(datetime.today().strftime('%d'))\n",
    "month = int(datetime.today().strftime('%m'))"
   ]
  },
  {
   "cell_type": "code",
   "execution_count": 34,
   "metadata": {},
   "outputs": [],
   "source": [
    "def create_matrix(n, day, month):\n",
    "    check = 0\n",
    "    while check == 0:\n",
    "        for_matrix = []\n",
    "        for i in range(1, n+1):\n",
    "            if i % 2 == 0:\n",
    "                z = []\n",
    "                for j in range(1, n+1):\n",
    "                    z.append(month - 1^(i+1)*j)\n",
    "                for_matrix.append(z)\n",
    "            else:\n",
    "                z = []\n",
    "                for j in range(1, n+1):\n",
    "                    z.append(day - 1^(i+1)*j)\n",
    "                for_matrix.append(z)\n",
    "        result = np.array(for_matrix)\n",
    "        check = np.linalg.det(result)\n",
    "        day += 1\n",
    "    return result"
   ]
  },
  {
   "cell_type": "code",
   "execution_count": 35,
   "metadata": {},
   "outputs": [],
   "source": [
    "encr_matrix = create_matrix(n, day, month)"
   ]
  },
  {
   "cell_type": "markdown",
   "metadata": {},
   "source": [
    "Encryption matrix prepared"
   ]
  },
  {
   "cell_type": "code",
   "execution_count": 36,
   "metadata": {},
   "outputs": [],
   "source": [
    "df_train, df_test = train_test_split(data, test_size=0.25, random_state=12345,\n",
    "                                      stratify=data['target']) "
   ]
  },
  {
   "cell_type": "code",
   "execution_count": 37,
   "metadata": {},
   "outputs": [],
   "source": [
    "df_train_feature = df_train.drop(['target'], axis=1)\n",
    "df_train_target = df_train['target']\n",
    "df_test_feature = df_test.drop(['target'], axis=1)\n",
    "df_test_target = df_test['target']"
   ]
  },
  {
   "cell_type": "code",
   "execution_count": 38,
   "metadata": {},
   "outputs": [
    {
     "name": "stdout",
     "output_type": "stream",
     "text": [
      "0.43906860192530794\n",
      "0.4207365055282475\n"
     ]
    }
   ],
   "source": [
    "model = LinearRegression()\n",
    "model.fit(df_train_feature, df_train_target)\n",
    "train_predict = model.predict(df_train_feature)\n",
    "print(r2_score(df_train_target, train_predict))\n",
    "test_predict = model.predict(df_test_feature)\n",
    "print(r2_score(df_test_target, test_predict))"
   ]
  },
  {
   "cell_type": "markdown",
   "metadata": {},
   "source": [
    "We built model based on initital data and got resulting coefficients.\n",
    "\n",
    " Let's encrypt and do it all over again"
   ]
  },
  {
   "cell_type": "code",
   "execution_count": 39,
   "metadata": {},
   "outputs": [],
   "source": [
    "vector = np.array(data.drop(['target'], axis=1).values)\n",
    "vector = vector @ encr_matrix"
   ]
  },
  {
   "cell_type": "markdown",
   "metadata": {},
   "source": [
    "I was not sure if it was possible to give a matrix to the linear model, so I decided to return the dataframe (most likely it is possible, but it’s better to do everything the same way for comparison)"
   ]
  },
  {
   "cell_type": "code",
   "execution_count": 40,
   "metadata": {},
   "outputs": [
    {
     "data": {
      "text/html": [
       "<div>\n",
       "<style scoped>\n",
       "    .dataframe tbody tr th:only-of-type {\n",
       "        vertical-align: middle;\n",
       "    }\n",
       "\n",
       "    .dataframe tbody tr th {\n",
       "        vertical-align: top;\n",
       "    }\n",
       "\n",
       "    .dataframe thead th {\n",
       "        text-align: right;\n",
       "    }\n",
       "</style>\n",
       "<table border=\"1\" class=\"dataframe\">\n",
       "  <thead>\n",
       "    <tr style=\"text-align: right;\">\n",
       "      <th></th>\n",
       "      <th>param_1</th>\n",
       "      <th>param_2</th>\n",
       "      <th>param_3</th>\n",
       "      <th>param_4</th>\n",
       "      <th>target</th>\n",
       "    </tr>\n",
       "  </thead>\n",
       "  <tbody>\n",
       "    <tr>\n",
       "      <th>0</th>\n",
       "      <td>942629.0</td>\n",
       "      <td>1537631.0</td>\n",
       "      <td>1339841.0</td>\n",
       "      <td>347659.0</td>\n",
       "      <td>0</td>\n",
       "    </tr>\n",
       "    <tr>\n",
       "      <th>1</th>\n",
       "      <td>722233.0</td>\n",
       "      <td>1178012.0</td>\n",
       "      <td>1026699.0</td>\n",
       "      <td>266478.0</td>\n",
       "      <td>1</td>\n",
       "    </tr>\n",
       "    <tr>\n",
       "      <th>2</th>\n",
       "      <td>399145.0</td>\n",
       "      <td>651000.0</td>\n",
       "      <td>567435.0</td>\n",
       "      <td>147290.0</td>\n",
       "      <td>0</td>\n",
       "    </tr>\n",
       "    <tr>\n",
       "      <th>3</th>\n",
       "      <td>792411.0</td>\n",
       "      <td>1292724.0</td>\n",
       "      <td>1126233.0</td>\n",
       "      <td>292146.0</td>\n",
       "      <td>0</td>\n",
       "    </tr>\n",
       "    <tr>\n",
       "      <th>4</th>\n",
       "      <td>496061.0</td>\n",
       "      <td>809119.0</td>\n",
       "      <td>705137.0</td>\n",
       "      <td>183011.0</td>\n",
       "      <td>0</td>\n",
       "    </tr>\n",
       "    <tr>\n",
       "      <th>...</th>\n",
       "      <td>...</td>\n",
       "      <td>...</td>\n",
       "      <td>...</td>\n",
       "      <td>...</td>\n",
       "      <td>...</td>\n",
       "    </tr>\n",
       "    <tr>\n",
       "      <th>4995</th>\n",
       "      <td>678446.0</td>\n",
       "      <td>1106724.0</td>\n",
       "      <td>964338.0</td>\n",
       "      <td>250216.0</td>\n",
       "      <td>0</td>\n",
       "    </tr>\n",
       "    <tr>\n",
       "      <th>4996</th>\n",
       "      <td>995773.0</td>\n",
       "      <td>1624412.0</td>\n",
       "      <td>1415319.0</td>\n",
       "      <td>367158.0</td>\n",
       "      <td>0</td>\n",
       "    </tr>\n",
       "    <tr>\n",
       "      <th>4997</th>\n",
       "      <td>644206.0</td>\n",
       "      <td>1050924.0</td>\n",
       "      <td>915618.0</td>\n",
       "      <td>237536.0</td>\n",
       "      <td>0</td>\n",
       "    </tr>\n",
       "    <tr>\n",
       "      <th>4998</th>\n",
       "      <td>621440.0</td>\n",
       "      <td>1013755.0</td>\n",
       "      <td>883274.0</td>\n",
       "      <td>229205.0</td>\n",
       "      <td>0</td>\n",
       "    </tr>\n",
       "    <tr>\n",
       "      <th>4999</th>\n",
       "      <td>771564.0</td>\n",
       "      <td>1258631.0</td>\n",
       "      <td>1096646.0</td>\n",
       "      <td>284529.0</td>\n",
       "      <td>0</td>\n",
       "    </tr>\n",
       "  </tbody>\n",
       "</table>\n",
       "<p>5000 rows × 5 columns</p>\n",
       "</div>"
      ],
      "text/plain": [
       "       param_1    param_2    param_3   param_4  target\n",
       "0     942629.0  1537631.0  1339841.0  347659.0       0\n",
       "1     722233.0  1178012.0  1026699.0  266478.0       1\n",
       "2     399145.0   651000.0   567435.0  147290.0       0\n",
       "3     792411.0  1292724.0  1126233.0  292146.0       0\n",
       "4     496061.0   809119.0   705137.0  183011.0       0\n",
       "...        ...        ...        ...       ...     ...\n",
       "4995  678446.0  1106724.0   964338.0  250216.0       0\n",
       "4996  995773.0  1624412.0  1415319.0  367158.0       0\n",
       "4997  644206.0  1050924.0   915618.0  237536.0       0\n",
       "4998  621440.0  1013755.0   883274.0  229205.0       0\n",
       "4999  771564.0  1258631.0  1096646.0  284529.0       0\n",
       "\n",
       "[5000 rows x 5 columns]"
      ]
     },
     "execution_count": 40,
     "metadata": {},
     "output_type": "execute_result"
    }
   ],
   "source": [
    "data_enc = pd.DataFrame(vector)\n",
    "data_enc['4'] = data['target']\n",
    "data_enc.columns = ('param_1', 'param_2', 'param_3', 'param_4', 'target')\n",
    "data_enc"
   ]
  },
  {
   "cell_type": "code",
   "execution_count": 41,
   "metadata": {},
   "outputs": [],
   "source": [
    "df_train, df_test = train_test_split(data_enc, test_size=0.25, random_state=12345,\n",
    "                                      stratify=data['target']) "
   ]
  },
  {
   "cell_type": "code",
   "execution_count": 42,
   "metadata": {},
   "outputs": [],
   "source": [
    "df_train_feature = df_train.drop(['target'], axis=1)\n",
    "df_train_target = df_train['target']\n",
    "df_test_feature = df_test.drop(['target'], axis=1)\n",
    "df_test_target = df_test['target']"
   ]
  },
  {
   "cell_type": "code",
   "execution_count": 43,
   "metadata": {},
   "outputs": [
    {
     "name": "stdout",
     "output_type": "stream",
     "text": [
      "0.43906860192529995\n",
      "0.420736505528264\n"
     ]
    }
   ],
   "source": [
    "model_enc = LinearRegression()\n",
    "model_enc.fit(df_train_feature, df_train_target)\n",
    "train_predict = model_enc.predict(df_train_feature)\n",
    "print(r2_score(df_train_target, train_predict))\n",
    "test_predict = model_enc.predict(df_test_feature)\n",
    "print(r2_score(df_test_target, test_predict))"
   ]
  },
  {
   "cell_type": "code",
   "execution_count": 44,
   "metadata": {},
   "outputs": [
    {
     "name": "stdout",
     "output_type": "stream",
     "text": [
      "[ 2.18909943e-05 -1.54847793e-03  1.83836534e-03 -2.92672521e-04]\n",
      "[-6.78200728e-03  2.47582098e-02  2.69393022e-07 -7.23887956e-03]\n"
     ]
    }
   ],
   "source": [
    "print(model_enc.coef_)\n",
    "print(model.coef_)"
   ]
  },
  {
   "cell_type": "markdown",
   "metadata": {},
   "source": [
    "**Results**\n",
    "\n",
    "1. 2 models are built with encrypted and unencrypted data. The coefficientsfor parameters within the model are different\n",
    "2. R2 is the same for when we build model with encrypted and unencrypted data, both on the test and on the training set"
   ]
  }
 ],
 "metadata": {
  "kernelspec": {
   "display_name": "Python 3.8.8 ('base')",
   "language": "python",
   "name": "python3"
  },
  "language_info": {
   "codemirror_mode": {
    "name": "ipython",
    "version": 3
   },
   "file_extension": ".py",
   "mimetype": "text/x-python",
   "name": "python",
   "nbconvert_exporter": "python",
   "pygments_lexer": "ipython3",
   "version": "3.8.8"
  },
  "orig_nbformat": 4,
  "vscode": {
   "interpreter": {
    "hash": "b7d258fa581379cc616dd21d18b044438587cad8c2fc6656384f324d1def7e8d"
   }
  }
 },
 "nbformat": 4,
 "nbformat_minor": 2
}
